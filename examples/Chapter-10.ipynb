{
 "cells": [
  {
   "cell_type": "markdown",
   "id": "ff5d0757-e981-4966-bf7f-7ae4c8ca1229",
   "metadata": {},
   "source": [
    "# Chapter 10 Problems \n",
    "\n",
    "> of \"<ins>Modern Compressible Flow With Historical Perspective</ins>\", Third Edition, John D. Anderson Jr"
   ]
  },
  {
   "cell_type": "code",
   "execution_count": 1,
   "id": "717647d2-b8ba-4fde-9e7e-05e39be12c07",
   "metadata": {},
   "outputs": [
    {
     "data": {
      "text/html": [
       "<script type=\"esms-options\">{\"shimMode\": true}</script><style>*[data-root-id],\n",
       "*[data-root-id] > * {\n",
       "  box-sizing: border-box;\n",
       "  font-family: var(--jp-ui-font-family);\n",
       "  font-size: var(--jp-ui-font-size1);\n",
       "  color: var(--vscode-editor-foreground, var(--jp-ui-font-color1));\n",
       "}\n",
       "\n",
       "/* Override VSCode background color */\n",
       ".cell-output-ipywidget-background:has(\n",
       "  > .cell-output-ipywidget-background > .lm-Widget > *[data-root-id]\n",
       "),\n",
       ".cell-output-ipywidget-background:has(> .lm-Widget > *[data-root-id]) {\n",
       "  background-color: transparent !important;\n",
       "}\n",
       "</style>"
      ]
     },
     "metadata": {},
     "output_type": "display_data"
    },
    {
     "data": {
      "application/javascript": [
       "(function(root) {\n",
       "  function now() {\n",
       "    return new Date();\n",
       "  }\n",
       "\n",
       "  const force = true;\n",
       "  const py_version = '3.8.0'.replace('rc', '-rc.').replace('.dev', '-dev.');\n",
       "  const reloading = false;\n",
       "  const Bokeh = root.Bokeh;\n",
       "\n",
       "  // Set a timeout for this load but only if we are not already initializing\n",
       "  if (typeof (root._bokeh_timeout) === \"undefined\" || (force || !root._bokeh_is_initializing)) {\n",
       "    root._bokeh_timeout = Date.now() + 5000;\n",
       "    root._bokeh_failed_load = false;\n",
       "  }\n",
       "\n",
       "  function run_callbacks() {\n",
       "    try {\n",
       "      root._bokeh_onload_callbacks.forEach(function(callback) {\n",
       "        if (callback != null)\n",
       "          callback();\n",
       "      });\n",
       "    } finally {\n",
       "      delete root._bokeh_onload_callbacks;\n",
       "    }\n",
       "    console.debug(\"Bokeh: all callbacks have finished\");\n",
       "  }\n",
       "\n",
       "  function load_libs(css_urls, js_urls, js_modules, js_exports, callback) {\n",
       "    if (css_urls == null) css_urls = [];\n",
       "    if (js_urls == null) js_urls = [];\n",
       "    if (js_modules == null) js_modules = [];\n",
       "    if (js_exports == null) js_exports = {};\n",
       "\n",
       "    root._bokeh_onload_callbacks.push(callback);\n",
       "\n",
       "    if (root._bokeh_is_loading > 0) {\n",
       "      // Don't load bokeh if it is still initializing\n",
       "      console.debug(\"Bokeh: BokehJS is being loaded, scheduling callback at\", now());\n",
       "      return null;\n",
       "    } else if (js_urls.length === 0 && js_modules.length === 0 && Object.keys(js_exports).length === 0) {\n",
       "      // There is nothing to load\n",
       "      run_callbacks();\n",
       "      return null;\n",
       "    }\n",
       "\n",
       "    function on_load() {\n",
       "      root._bokeh_is_loading--;\n",
       "      if (root._bokeh_is_loading === 0) {\n",
       "        console.debug(\"Bokeh: all BokehJS libraries/stylesheets loaded\");\n",
       "        run_callbacks()\n",
       "      }\n",
       "    }\n",
       "    window._bokeh_on_load = on_load\n",
       "\n",
       "    function on_error(e) {\n",
       "      const src_el = e.srcElement\n",
       "      console.error(\"failed to load \" + (src_el.href || src_el.src));\n",
       "    }\n",
       "\n",
       "    const skip = [];\n",
       "    if (window.requirejs) {\n",
       "      window.requirejs.config({'packages': {}, 'paths': {}, 'shim': {}});\n",
       "      root._bokeh_is_loading = css_urls.length + 0;\n",
       "    } else {\n",
       "      root._bokeh_is_loading = css_urls.length + js_urls.length + js_modules.length + Object.keys(js_exports).length;\n",
       "    }\n",
       "\n",
       "    const existing_stylesheets = []\n",
       "    const links = document.getElementsByTagName('link')\n",
       "    for (let i = 0; i < links.length; i++) {\n",
       "      const link = links[i]\n",
       "      if (link.href != null) {\n",
       "        existing_stylesheets.push(link.href)\n",
       "      }\n",
       "    }\n",
       "    for (let i = 0; i < css_urls.length; i++) {\n",
       "      const url = css_urls[i];\n",
       "      const escaped = encodeURI(url)\n",
       "      if (existing_stylesheets.indexOf(escaped) !== -1) {\n",
       "        on_load()\n",
       "        continue;\n",
       "      }\n",
       "      const element = document.createElement(\"link\");\n",
       "      element.onload = on_load;\n",
       "      element.onerror = on_error;\n",
       "      element.rel = \"stylesheet\";\n",
       "      element.type = \"text/css\";\n",
       "      element.href = url;\n",
       "      console.debug(\"Bokeh: injecting link tag for BokehJS stylesheet: \", url);\n",
       "      document.body.appendChild(element);\n",
       "    }    var existing_scripts = []\n",
       "    const scripts = document.getElementsByTagName('script')\n",
       "    for (let i = 0; i < scripts.length; i++) {\n",
       "      var script = scripts[i]\n",
       "      if (script.src != null) {\n",
       "        existing_scripts.push(script.src)\n",
       "      }\n",
       "    }\n",
       "    for (let i = 0; i < js_urls.length; i++) {\n",
       "      const url = js_urls[i];\n",
       "      const escaped = encodeURI(url)\n",
       "      if (skip.indexOf(escaped) !== -1 || existing_scripts.indexOf(escaped) !== -1) {\n",
       "        if (!window.requirejs) {\n",
       "          on_load();\n",
       "        }\n",
       "        continue;\n",
       "      }\n",
       "      const element = document.createElement('script');\n",
       "      element.onload = on_load;\n",
       "      element.onerror = on_error;\n",
       "      element.async = false;\n",
       "      element.src = url;\n",
       "      console.debug(\"Bokeh: injecting script tag for BokehJS library: \", url);\n",
       "      document.head.appendChild(element);\n",
       "    }\n",
       "    for (let i = 0; i < js_modules.length; i++) {\n",
       "      const url = js_modules[i];\n",
       "      const escaped = encodeURI(url)\n",
       "      if (skip.indexOf(escaped) !== -1 || existing_scripts.indexOf(escaped) !== -1) {\n",
       "        if (!window.requirejs) {\n",
       "          on_load();\n",
       "        }\n",
       "        continue;\n",
       "      }\n",
       "      var element = document.createElement('script');\n",
       "      element.onload = on_load;\n",
       "      element.onerror = on_error;\n",
       "      element.async = false;\n",
       "      element.src = url;\n",
       "      element.type = \"module\";\n",
       "      console.debug(\"Bokeh: injecting script tag for BokehJS library: \", url);\n",
       "      document.head.appendChild(element);\n",
       "    }\n",
       "    for (const name in js_exports) {\n",
       "      const url = js_exports[name];\n",
       "      const escaped = encodeURI(url)\n",
       "      if (skip.indexOf(escaped) >= 0 || root[name] != null) {\n",
       "        if (!window.requirejs) {\n",
       "          on_load();\n",
       "        }\n",
       "        continue;\n",
       "      }\n",
       "      var element = document.createElement('script');\n",
       "      element.onerror = on_error;\n",
       "      element.async = false;\n",
       "      element.type = \"module\";\n",
       "      console.debug(\"Bokeh: injecting script tag for BokehJS library: \", url);\n",
       "      element.textContent = `\n",
       "      import ${name} from \"${url}\"\n",
       "      window.${name} = ${name}\n",
       "      window._bokeh_on_load()\n",
       "      `\n",
       "      document.head.appendChild(element);\n",
       "    }\n",
       "    if (!js_urls.length && !js_modules.length) {\n",
       "      on_load()\n",
       "    }\n",
       "  };\n",
       "\n",
       "  function inject_raw_css(css) {\n",
       "    const element = document.createElement(\"style\");\n",
       "    element.appendChild(document.createTextNode(css));\n",
       "    document.body.appendChild(element);\n",
       "  }\n",
       "\n",
       "  const js_urls = [\"https://cdn.holoviz.org/panel/1.8.2/dist/bundled/reactiveesm/es-module-shims@^1.10.0/dist/es-module-shims.min.js\", \"https://cdn.bokeh.org/bokeh/release/bokeh-3.8.0.min.js\", \"https://cdn.bokeh.org/bokeh/release/bokeh-gl-3.8.0.min.js\", \"https://cdn.bokeh.org/bokeh/release/bokeh-widgets-3.8.0.min.js\", \"https://cdn.bokeh.org/bokeh/release/bokeh-tables-3.8.0.min.js\", \"https://cdn.holoviz.org/panel/1.8.2/dist/panel.min.js\"];\n",
       "  const js_modules = [];\n",
       "  const js_exports = {};\n",
       "  const css_urls = [];\n",
       "  const inline_js = [    function(Bokeh) {\n",
       "      Bokeh.set_log_level(\"info\");\n",
       "    },\n",
       "function(Bokeh) {} // ensure no trailing comma for IE\n",
       "  ];\n",
       "\n",
       "  function run_inline_js() {\n",
       "    if ((root.Bokeh !== undefined) || (force === true)) {\n",
       "      for (let i = 0; i < inline_js.length; i++) {\n",
       "        try {\n",
       "          inline_js[i].call(root, root.Bokeh);\n",
       "        } catch(e) {\n",
       "          if (!reloading) {\n",
       "            throw e;\n",
       "          }\n",
       "        }\n",
       "      }\n",
       "      // Cache old bokeh versions\n",
       "      if (Bokeh != undefined && !reloading) {\n",
       "        var NewBokeh = root.Bokeh;\n",
       "        if (Bokeh.versions === undefined) {\n",
       "          Bokeh.versions = new Map();\n",
       "        }\n",
       "        if (NewBokeh.version !== Bokeh.version) {\n",
       "          Bokeh.versions.set(NewBokeh.version, NewBokeh)\n",
       "        }\n",
       "        root.Bokeh = Bokeh;\n",
       "      }\n",
       "    } else if (Date.now() < root._bokeh_timeout) {\n",
       "      setTimeout(run_inline_js, 100);\n",
       "    } else if (!root._bokeh_failed_load) {\n",
       "      console.log(\"Bokeh: BokehJS failed to load within specified timeout.\");\n",
       "      root._bokeh_failed_load = true;\n",
       "    }\n",
       "    root._bokeh_is_initializing = false\n",
       "  }\n",
       "\n",
       "  function load_or_wait() {\n",
       "    // Implement a backoff loop that tries to ensure we do not load multiple\n",
       "    // versions of Bokeh and its dependencies at the same time.\n",
       "    // In recent versions we use the root._bokeh_is_initializing flag\n",
       "    // to determine whether there is an ongoing attempt to initialize\n",
       "    // bokeh, however for backward compatibility we also try to ensure\n",
       "    // that we do not start loading a newer (Panel>=1.0 and Bokeh>3) version\n",
       "    // before older versions are fully initialized.\n",
       "    if (root._bokeh_is_initializing && Date.now() > root._bokeh_timeout) {\n",
       "      // If the timeout and bokeh was not successfully loaded we reset\n",
       "      // everything and try loading again\n",
       "      root._bokeh_timeout = Date.now() + 5000;\n",
       "      root._bokeh_is_initializing = false;\n",
       "      root._bokeh_onload_callbacks = undefined;\n",
       "      root._bokeh_is_loading = 0\n",
       "      console.log(\"Bokeh: BokehJS was loaded multiple times but one version failed to initialize.\");\n",
       "      load_or_wait();\n",
       "    } else if (root._bokeh_is_initializing || (typeof root._bokeh_is_initializing === \"undefined\" && root._bokeh_onload_callbacks !== undefined)) {\n",
       "      setTimeout(load_or_wait, 100);\n",
       "    } else {\n",
       "      root._bokeh_is_initializing = true\n",
       "      root._bokeh_onload_callbacks = []\n",
       "      const bokeh_loaded = root.Bokeh != null && (root.Bokeh.version === py_version || (root.Bokeh.versions !== undefined && root.Bokeh.versions.has(py_version)));\n",
       "      if (!reloading && !bokeh_loaded) {\n",
       "        if (root.Bokeh) {\n",
       "          root.Bokeh = undefined;\n",
       "        }\n",
       "        console.debug(\"Bokeh: BokehJS not loaded, scheduling load and callback at\", now());\n",
       "      }\n",
       "      load_libs(css_urls, js_urls, js_modules, js_exports, function() {\n",
       "        console.debug(\"Bokeh: BokehJS plotting callback run at\", now());\n",
       "        run_inline_js();\n",
       "      });\n",
       "    }\n",
       "  }\n",
       "  // Give older versions of the autoload script a head-start to ensure\n",
       "  // they initialize before we start loading newer version.\n",
       "  setTimeout(load_or_wait, 100)\n",
       "}(window));"
      ],
      "application/vnd.holoviews_load.v0+json": "(function(root) {\n  function now() {\n    return new Date();\n  }\n\n  const force = true;\n  const py_version = '3.8.0'.replace('rc', '-rc.').replace('.dev', '-dev.');\n  const reloading = false;\n  const Bokeh = root.Bokeh;\n\n  // Set a timeout for this load but only if we are not already initializing\n  if (typeof (root._bokeh_timeout) === \"undefined\" || (force || !root._bokeh_is_initializing)) {\n    root._bokeh_timeout = Date.now() + 5000;\n    root._bokeh_failed_load = false;\n  }\n\n  function run_callbacks() {\n    try {\n      root._bokeh_onload_callbacks.forEach(function(callback) {\n        if (callback != null)\n          callback();\n      });\n    } finally {\n      delete root._bokeh_onload_callbacks;\n    }\n    console.debug(\"Bokeh: all callbacks have finished\");\n  }\n\n  function load_libs(css_urls, js_urls, js_modules, js_exports, callback) {\n    if (css_urls == null) css_urls = [];\n    if (js_urls == null) js_urls = [];\n    if (js_modules == null) js_modules = [];\n    if (js_exports == null) js_exports = {};\n\n    root._bokeh_onload_callbacks.push(callback);\n\n    if (root._bokeh_is_loading > 0) {\n      // Don't load bokeh if it is still initializing\n      console.debug(\"Bokeh: BokehJS is being loaded, scheduling callback at\", now());\n      return null;\n    } else if (js_urls.length === 0 && js_modules.length === 0 && Object.keys(js_exports).length === 0) {\n      // There is nothing to load\n      run_callbacks();\n      return null;\n    }\n\n    function on_load() {\n      root._bokeh_is_loading--;\n      if (root._bokeh_is_loading === 0) {\n        console.debug(\"Bokeh: all BokehJS libraries/stylesheets loaded\");\n        run_callbacks()\n      }\n    }\n    window._bokeh_on_load = on_load\n\n    function on_error(e) {\n      const src_el = e.srcElement\n      console.error(\"failed to load \" + (src_el.href || src_el.src));\n    }\n\n    const skip = [];\n    if (window.requirejs) {\n      window.requirejs.config({'packages': {}, 'paths': {}, 'shim': {}});\n      root._bokeh_is_loading = css_urls.length + 0;\n    } else {\n      root._bokeh_is_loading = css_urls.length + js_urls.length + js_modules.length + Object.keys(js_exports).length;\n    }\n\n    const existing_stylesheets = []\n    const links = document.getElementsByTagName('link')\n    for (let i = 0; i < links.length; i++) {\n      const link = links[i]\n      if (link.href != null) {\n        existing_stylesheets.push(link.href)\n      }\n    }\n    for (let i = 0; i < css_urls.length; i++) {\n      const url = css_urls[i];\n      const escaped = encodeURI(url)\n      if (existing_stylesheets.indexOf(escaped) !== -1) {\n        on_load()\n        continue;\n      }\n      const element = document.createElement(\"link\");\n      element.onload = on_load;\n      element.onerror = on_error;\n      element.rel = \"stylesheet\";\n      element.type = \"text/css\";\n      element.href = url;\n      console.debug(\"Bokeh: injecting link tag for BokehJS stylesheet: \", url);\n      document.body.appendChild(element);\n    }    var existing_scripts = []\n    const scripts = document.getElementsByTagName('script')\n    for (let i = 0; i < scripts.length; i++) {\n      var script = scripts[i]\n      if (script.src != null) {\n        existing_scripts.push(script.src)\n      }\n    }\n    for (let i = 0; i < js_urls.length; i++) {\n      const url = js_urls[i];\n      const escaped = encodeURI(url)\n      if (skip.indexOf(escaped) !== -1 || existing_scripts.indexOf(escaped) !== -1) {\n        if (!window.requirejs) {\n          on_load();\n        }\n        continue;\n      }\n      const element = document.createElement('script');\n      element.onload = on_load;\n      element.onerror = on_error;\n      element.async = false;\n      element.src = url;\n      console.debug(\"Bokeh: injecting script tag for BokehJS library: \", url);\n      document.head.appendChild(element);\n    }\n    for (let i = 0; i < js_modules.length; i++) {\n      const url = js_modules[i];\n      const escaped = encodeURI(url)\n      if (skip.indexOf(escaped) !== -1 || existing_scripts.indexOf(escaped) !== -1) {\n        if (!window.requirejs) {\n          on_load();\n        }\n        continue;\n      }\n      var element = document.createElement('script');\n      element.onload = on_load;\n      element.onerror = on_error;\n      element.async = false;\n      element.src = url;\n      element.type = \"module\";\n      console.debug(\"Bokeh: injecting script tag for BokehJS library: \", url);\n      document.head.appendChild(element);\n    }\n    for (const name in js_exports) {\n      const url = js_exports[name];\n      const escaped = encodeURI(url)\n      if (skip.indexOf(escaped) >= 0 || root[name] != null) {\n        if (!window.requirejs) {\n          on_load();\n        }\n        continue;\n      }\n      var element = document.createElement('script');\n      element.onerror = on_error;\n      element.async = false;\n      element.type = \"module\";\n      console.debug(\"Bokeh: injecting script tag for BokehJS library: \", url);\n      element.textContent = `\n      import ${name} from \"${url}\"\n      window.${name} = ${name}\n      window._bokeh_on_load()\n      `\n      document.head.appendChild(element);\n    }\n    if (!js_urls.length && !js_modules.length) {\n      on_load()\n    }\n  };\n\n  function inject_raw_css(css) {\n    const element = document.createElement(\"style\");\n    element.appendChild(document.createTextNode(css));\n    document.body.appendChild(element);\n  }\n\n  const js_urls = [\"https://cdn.holoviz.org/panel/1.8.2/dist/bundled/reactiveesm/es-module-shims@^1.10.0/dist/es-module-shims.min.js\", \"https://cdn.bokeh.org/bokeh/release/bokeh-3.8.0.min.js\", \"https://cdn.bokeh.org/bokeh/release/bokeh-gl-3.8.0.min.js\", \"https://cdn.bokeh.org/bokeh/release/bokeh-widgets-3.8.0.min.js\", \"https://cdn.bokeh.org/bokeh/release/bokeh-tables-3.8.0.min.js\", \"https://cdn.holoviz.org/panel/1.8.2/dist/panel.min.js\"];\n  const js_modules = [];\n  const js_exports = {};\n  const css_urls = [];\n  const inline_js = [    function(Bokeh) {\n      Bokeh.set_log_level(\"info\");\n    },\nfunction(Bokeh) {} // ensure no trailing comma for IE\n  ];\n\n  function run_inline_js() {\n    if ((root.Bokeh !== undefined) || (force === true)) {\n      for (let i = 0; i < inline_js.length; i++) {\n        try {\n          inline_js[i].call(root, root.Bokeh);\n        } catch(e) {\n          if (!reloading) {\n            throw e;\n          }\n        }\n      }\n      // Cache old bokeh versions\n      if (Bokeh != undefined && !reloading) {\n        var NewBokeh = root.Bokeh;\n        if (Bokeh.versions === undefined) {\n          Bokeh.versions = new Map();\n        }\n        if (NewBokeh.version !== Bokeh.version) {\n          Bokeh.versions.set(NewBokeh.version, NewBokeh)\n        }\n        root.Bokeh = Bokeh;\n      }\n    } else if (Date.now() < root._bokeh_timeout) {\n      setTimeout(run_inline_js, 100);\n    } else if (!root._bokeh_failed_load) {\n      console.log(\"Bokeh: BokehJS failed to load within specified timeout.\");\n      root._bokeh_failed_load = true;\n    }\n    root._bokeh_is_initializing = false\n  }\n\n  function load_or_wait() {\n    // Implement a backoff loop that tries to ensure we do not load multiple\n    // versions of Bokeh and its dependencies at the same time.\n    // In recent versions we use the root._bokeh_is_initializing flag\n    // to determine whether there is an ongoing attempt to initialize\n    // bokeh, however for backward compatibility we also try to ensure\n    // that we do not start loading a newer (Panel>=1.0 and Bokeh>3) version\n    // before older versions are fully initialized.\n    if (root._bokeh_is_initializing && Date.now() > root._bokeh_timeout) {\n      // If the timeout and bokeh was not successfully loaded we reset\n      // everything and try loading again\n      root._bokeh_timeout = Date.now() + 5000;\n      root._bokeh_is_initializing = false;\n      root._bokeh_onload_callbacks = undefined;\n      root._bokeh_is_loading = 0\n      console.log(\"Bokeh: BokehJS was loaded multiple times but one version failed to initialize.\");\n      load_or_wait();\n    } else if (root._bokeh_is_initializing || (typeof root._bokeh_is_initializing === \"undefined\" && root._bokeh_onload_callbacks !== undefined)) {\n      setTimeout(load_or_wait, 100);\n    } else {\n      root._bokeh_is_initializing = true\n      root._bokeh_onload_callbacks = []\n      const bokeh_loaded = root.Bokeh != null && (root.Bokeh.version === py_version || (root.Bokeh.versions !== undefined && root.Bokeh.versions.has(py_version)));\n      if (!reloading && !bokeh_loaded) {\n        if (root.Bokeh) {\n          root.Bokeh = undefined;\n        }\n        console.debug(\"Bokeh: BokehJS not loaded, scheduling load and callback at\", now());\n      }\n      load_libs(css_urls, js_urls, js_modules, js_exports, function() {\n        console.debug(\"Bokeh: BokehJS plotting callback run at\", now());\n        run_inline_js();\n      });\n    }\n  }\n  // Give older versions of the autoload script a head-start to ensure\n  // they initialize before we start loading newer version.\n  setTimeout(load_or_wait, 100)\n}(window));"
     },
     "metadata": {},
     "output_type": "display_data"
    },
    {
     "data": {
      "application/javascript": [
       "\n",
       "if ((window.PyViz === undefined) || (window.PyViz instanceof HTMLElement)) {\n",
       "  window.PyViz = {comms: {}, comm_status:{}, kernels:{}, receivers: {}, plot_index: []}\n",
       "}\n",
       "\n",
       "\n",
       "    function JupyterCommManager() {\n",
       "    }\n",
       "\n",
       "    JupyterCommManager.prototype.register_target = function(plot_id, comm_id, msg_handler) {\n",
       "      if (window.comm_manager || ((window.Jupyter !== undefined) && (Jupyter.notebook.kernel != null))) {\n",
       "        var comm_manager = window.comm_manager || Jupyter.notebook.kernel.comm_manager;\n",
       "        comm_manager.register_target(comm_id, function(comm) {\n",
       "          comm.on_msg(msg_handler);\n",
       "        });\n",
       "      } else if ((plot_id in window.PyViz.kernels) && (window.PyViz.kernels[plot_id])) {\n",
       "        window.PyViz.kernels[plot_id].registerCommTarget(comm_id, function(comm) {\n",
       "          comm.onMsg = msg_handler;\n",
       "        });\n",
       "      } else if (typeof google != 'undefined' && google.colab.kernel != null) {\n",
       "        google.colab.kernel.comms.registerTarget(comm_id, (comm) => {\n",
       "          var messages = comm.messages[Symbol.asyncIterator]();\n",
       "          function processIteratorResult(result) {\n",
       "            var message = result.value;\n",
       "            var content = {data: message.data, comm_id};\n",
       "            var buffers = []\n",
       "            for (var buffer of message.buffers || []) {\n",
       "              buffers.push(new DataView(buffer))\n",
       "            }\n",
       "            var metadata = message.metadata || {};\n",
       "            var msg = {content, buffers, metadata}\n",
       "            msg_handler(msg);\n",
       "            return messages.next().then(processIteratorResult);\n",
       "          }\n",
       "          return messages.next().then(processIteratorResult);\n",
       "        })\n",
       "      }\n",
       "    }\n",
       "\n",
       "    JupyterCommManager.prototype.get_client_comm = function(plot_id, comm_id, msg_handler) {\n",
       "      if (comm_id in window.PyViz.comms) {\n",
       "        return window.PyViz.comms[comm_id];\n",
       "      } else if (window.comm_manager || ((window.Jupyter !== undefined) && (Jupyter.notebook.kernel != null))) {\n",
       "        var comm_manager = window.comm_manager || Jupyter.notebook.kernel.comm_manager;\n",
       "        var comm = comm_manager.new_comm(comm_id, {}, {}, {}, comm_id);\n",
       "        if (msg_handler) {\n",
       "          comm.on_msg(msg_handler);\n",
       "        }\n",
       "      } else if ((plot_id in window.PyViz.kernels) && (window.PyViz.kernels[plot_id])) {\n",
       "        var comm = window.PyViz.kernels[plot_id].connectToComm(comm_id);\n",
       "        let retries = 0;\n",
       "        const open = () => {\n",
       "          if (comm.active) {\n",
       "            comm.open();\n",
       "          } else if (retries > 3) {\n",
       "            console.warn('Comm target never activated')\n",
       "          } else {\n",
       "            retries += 1\n",
       "            setTimeout(open, 500)\n",
       "          }\n",
       "        }\n",
       "        if (comm.active) {\n",
       "          comm.open();\n",
       "        } else {\n",
       "          setTimeout(open, 500)\n",
       "        }\n",
       "        if (msg_handler) {\n",
       "          comm.onMsg = msg_handler;\n",
       "        }\n",
       "      } else if (typeof google != 'undefined' && google.colab.kernel != null) {\n",
       "        var comm_promise = google.colab.kernel.comms.open(comm_id)\n",
       "        comm_promise.then((comm) => {\n",
       "          window.PyViz.comms[comm_id] = comm;\n",
       "          if (msg_handler) {\n",
       "            var messages = comm.messages[Symbol.asyncIterator]();\n",
       "            function processIteratorResult(result) {\n",
       "              var message = result.value;\n",
       "              var content = {data: message.data};\n",
       "              var metadata = message.metadata || {comm_id};\n",
       "              var msg = {content, metadata}\n",
       "              msg_handler(msg);\n",
       "              return messages.next().then(processIteratorResult);\n",
       "            }\n",
       "            return messages.next().then(processIteratorResult);\n",
       "          }\n",
       "        })\n",
       "        var sendClosure = (data, metadata, buffers, disposeOnDone) => {\n",
       "          return comm_promise.then((comm) => {\n",
       "            comm.send(data, metadata, buffers, disposeOnDone);\n",
       "          });\n",
       "        };\n",
       "        var comm = {\n",
       "          send: sendClosure\n",
       "        };\n",
       "      }\n",
       "      window.PyViz.comms[comm_id] = comm;\n",
       "      return comm;\n",
       "    }\n",
       "    window.PyViz.comm_manager = new JupyterCommManager();\n",
       "    \n",
       "\n",
       "\n",
       "var JS_MIME_TYPE = 'application/javascript';\n",
       "var HTML_MIME_TYPE = 'text/html';\n",
       "var EXEC_MIME_TYPE = 'application/vnd.holoviews_exec.v0+json';\n",
       "var CLASS_NAME = 'output';\n",
       "\n",
       "/**\n",
       " * Render data to the DOM node\n",
       " */\n",
       "function render(props, node) {\n",
       "  var div = document.createElement(\"div\");\n",
       "  var script = document.createElement(\"script\");\n",
       "  node.appendChild(div);\n",
       "  node.appendChild(script);\n",
       "}\n",
       "\n",
       "/**\n",
       " * Handle when a new output is added\n",
       " */\n",
       "function handle_add_output(event, handle) {\n",
       "  var output_area = handle.output_area;\n",
       "  var output = handle.output;\n",
       "  if ((output.data == undefined) || (!output.data.hasOwnProperty(EXEC_MIME_TYPE))) {\n",
       "    return\n",
       "  }\n",
       "  var id = output.metadata[EXEC_MIME_TYPE][\"id\"];\n",
       "  var toinsert = output_area.element.find(\".\" + CLASS_NAME.split(' ')[0]);\n",
       "  if (id !== undefined) {\n",
       "    var nchildren = toinsert.length;\n",
       "    var html_node = toinsert[nchildren-1].children[0];\n",
       "    html_node.innerHTML = output.data[HTML_MIME_TYPE];\n",
       "    var scripts = [];\n",
       "    var nodelist = html_node.querySelectorAll(\"script\");\n",
       "    for (var i in nodelist) {\n",
       "      if (nodelist.hasOwnProperty(i)) {\n",
       "        scripts.push(nodelist[i])\n",
       "      }\n",
       "    }\n",
       "\n",
       "    scripts.forEach( function (oldScript) {\n",
       "      var newScript = document.createElement(\"script\");\n",
       "      var attrs = [];\n",
       "      var nodemap = oldScript.attributes;\n",
       "      for (var j in nodemap) {\n",
       "        if (nodemap.hasOwnProperty(j)) {\n",
       "          attrs.push(nodemap[j])\n",
       "        }\n",
       "      }\n",
       "      attrs.forEach(function(attr) { newScript.setAttribute(attr.name, attr.value) });\n",
       "      newScript.appendChild(document.createTextNode(oldScript.innerHTML));\n",
       "      oldScript.parentNode.replaceChild(newScript, oldScript);\n",
       "    });\n",
       "    if (JS_MIME_TYPE in output.data) {\n",
       "      toinsert[nchildren-1].children[1].textContent = output.data[JS_MIME_TYPE];\n",
       "    }\n",
       "    output_area._hv_plot_id = id;\n",
       "    if ((window.Bokeh !== undefined) && (id in Bokeh.index)) {\n",
       "      window.PyViz.plot_index[id] = Bokeh.index[id];\n",
       "    } else {\n",
       "      window.PyViz.plot_index[id] = null;\n",
       "    }\n",
       "  } else if (output.metadata[EXEC_MIME_TYPE][\"server_id\"] !== undefined) {\n",
       "    var bk_div = document.createElement(\"div\");\n",
       "    bk_div.innerHTML = output.data[HTML_MIME_TYPE];\n",
       "    var script_attrs = bk_div.children[0].attributes;\n",
       "    for (var i = 0; i < script_attrs.length; i++) {\n",
       "      toinsert[toinsert.length - 1].childNodes[1].setAttribute(script_attrs[i].name, script_attrs[i].value);\n",
       "    }\n",
       "    // store reference to server id on output_area\n",
       "    output_area._bokeh_server_id = output.metadata[EXEC_MIME_TYPE][\"server_id\"];\n",
       "  }\n",
       "}\n",
       "\n",
       "/**\n",
       " * Handle when an output is cleared or removed\n",
       " */\n",
       "function handle_clear_output(event, handle) {\n",
       "  var id = handle.cell.output_area._hv_plot_id;\n",
       "  var server_id = handle.cell.output_area._bokeh_server_id;\n",
       "  if (((id === undefined) || !(id in PyViz.plot_index)) && (server_id !== undefined)) { return; }\n",
       "  var comm = window.PyViz.comm_manager.get_client_comm(\"hv-extension-comm\", \"hv-extension-comm\", function () {});\n",
       "  if (server_id !== null) {\n",
       "    comm.send({event_type: 'server_delete', 'id': server_id});\n",
       "    return;\n",
       "  } else if (comm !== null) {\n",
       "    comm.send({event_type: 'delete', 'id': id});\n",
       "  }\n",
       "  delete PyViz.plot_index[id];\n",
       "  if ((window.Bokeh !== undefined) & (id in window.Bokeh.index)) {\n",
       "    var doc = window.Bokeh.index[id].model.document\n",
       "    doc.clear();\n",
       "    const i = window.Bokeh.documents.indexOf(doc);\n",
       "    if (i > -1) {\n",
       "      window.Bokeh.documents.splice(i, 1);\n",
       "    }\n",
       "  }\n",
       "}\n",
       "\n",
       "/**\n",
       " * Handle kernel restart event\n",
       " */\n",
       "function handle_kernel_cleanup(event, handle) {\n",
       "  delete PyViz.comms[\"hv-extension-comm\"];\n",
       "  window.PyViz.plot_index = {}\n",
       "}\n",
       "\n",
       "/**\n",
       " * Handle update_display_data messages\n",
       " */\n",
       "function handle_update_output(event, handle) {\n",
       "  handle_clear_output(event, {cell: {output_area: handle.output_area}})\n",
       "  handle_add_output(event, handle)\n",
       "}\n",
       "\n",
       "function register_renderer(events, OutputArea) {\n",
       "  function append_mime(data, metadata, element) {\n",
       "    // create a DOM node to render to\n",
       "    var toinsert = this.create_output_subarea(\n",
       "    metadata,\n",
       "    CLASS_NAME,\n",
       "    EXEC_MIME_TYPE\n",
       "    );\n",
       "    this.keyboard_manager.register_events(toinsert);\n",
       "    // Render to node\n",
       "    var props = {data: data, metadata: metadata[EXEC_MIME_TYPE]};\n",
       "    render(props, toinsert[0]);\n",
       "    element.append(toinsert);\n",
       "    return toinsert\n",
       "  }\n",
       "\n",
       "  events.on('output_added.OutputArea', handle_add_output);\n",
       "  events.on('output_updated.OutputArea', handle_update_output);\n",
       "  events.on('clear_output.CodeCell', handle_clear_output);\n",
       "  events.on('delete.Cell', handle_clear_output);\n",
       "  events.on('kernel_ready.Kernel', handle_kernel_cleanup);\n",
       "\n",
       "  OutputArea.prototype.register_mime_type(EXEC_MIME_TYPE, append_mime, {\n",
       "    safe: true,\n",
       "    index: 0\n",
       "  });\n",
       "}\n",
       "\n",
       "if (window.Jupyter !== undefined) {\n",
       "  try {\n",
       "    var events = require('base/js/events');\n",
       "    var OutputArea = require('notebook/js/outputarea').OutputArea;\n",
       "    if (OutputArea.prototype.mime_types().indexOf(EXEC_MIME_TYPE) == -1) {\n",
       "      register_renderer(events, OutputArea);\n",
       "    }\n",
       "  } catch(err) {\n",
       "  }\n",
       "}\n"
      ],
      "application/vnd.holoviews_load.v0+json": "\nif ((window.PyViz === undefined) || (window.PyViz instanceof HTMLElement)) {\n  window.PyViz = {comms: {}, comm_status:{}, kernels:{}, receivers: {}, plot_index: []}\n}\n\n\n    function JupyterCommManager() {\n    }\n\n    JupyterCommManager.prototype.register_target = function(plot_id, comm_id, msg_handler) {\n      if (window.comm_manager || ((window.Jupyter !== undefined) && (Jupyter.notebook.kernel != null))) {\n        var comm_manager = window.comm_manager || Jupyter.notebook.kernel.comm_manager;\n        comm_manager.register_target(comm_id, function(comm) {\n          comm.on_msg(msg_handler);\n        });\n      } else if ((plot_id in window.PyViz.kernels) && (window.PyViz.kernels[plot_id])) {\n        window.PyViz.kernels[plot_id].registerCommTarget(comm_id, function(comm) {\n          comm.onMsg = msg_handler;\n        });\n      } else if (typeof google != 'undefined' && google.colab.kernel != null) {\n        google.colab.kernel.comms.registerTarget(comm_id, (comm) => {\n          var messages = comm.messages[Symbol.asyncIterator]();\n          function processIteratorResult(result) {\n            var message = result.value;\n            var content = {data: message.data, comm_id};\n            var buffers = []\n            for (var buffer of message.buffers || []) {\n              buffers.push(new DataView(buffer))\n            }\n            var metadata = message.metadata || {};\n            var msg = {content, buffers, metadata}\n            msg_handler(msg);\n            return messages.next().then(processIteratorResult);\n          }\n          return messages.next().then(processIteratorResult);\n        })\n      }\n    }\n\n    JupyterCommManager.prototype.get_client_comm = function(plot_id, comm_id, msg_handler) {\n      if (comm_id in window.PyViz.comms) {\n        return window.PyViz.comms[comm_id];\n      } else if (window.comm_manager || ((window.Jupyter !== undefined) && (Jupyter.notebook.kernel != null))) {\n        var comm_manager = window.comm_manager || Jupyter.notebook.kernel.comm_manager;\n        var comm = comm_manager.new_comm(comm_id, {}, {}, {}, comm_id);\n        if (msg_handler) {\n          comm.on_msg(msg_handler);\n        }\n      } else if ((plot_id in window.PyViz.kernels) && (window.PyViz.kernels[plot_id])) {\n        var comm = window.PyViz.kernels[plot_id].connectToComm(comm_id);\n        let retries = 0;\n        const open = () => {\n          if (comm.active) {\n            comm.open();\n          } else if (retries > 3) {\n            console.warn('Comm target never activated')\n          } else {\n            retries += 1\n            setTimeout(open, 500)\n          }\n        }\n        if (comm.active) {\n          comm.open();\n        } else {\n          setTimeout(open, 500)\n        }\n        if (msg_handler) {\n          comm.onMsg = msg_handler;\n        }\n      } else if (typeof google != 'undefined' && google.colab.kernel != null) {\n        var comm_promise = google.colab.kernel.comms.open(comm_id)\n        comm_promise.then((comm) => {\n          window.PyViz.comms[comm_id] = comm;\n          if (msg_handler) {\n            var messages = comm.messages[Symbol.asyncIterator]();\n            function processIteratorResult(result) {\n              var message = result.value;\n              var content = {data: message.data};\n              var metadata = message.metadata || {comm_id};\n              var msg = {content, metadata}\n              msg_handler(msg);\n              return messages.next().then(processIteratorResult);\n            }\n            return messages.next().then(processIteratorResult);\n          }\n        })\n        var sendClosure = (data, metadata, buffers, disposeOnDone) => {\n          return comm_promise.then((comm) => {\n            comm.send(data, metadata, buffers, disposeOnDone);\n          });\n        };\n        var comm = {\n          send: sendClosure\n        };\n      }\n      window.PyViz.comms[comm_id] = comm;\n      return comm;\n    }\n    window.PyViz.comm_manager = new JupyterCommManager();\n    \n\n\nvar JS_MIME_TYPE = 'application/javascript';\nvar HTML_MIME_TYPE = 'text/html';\nvar EXEC_MIME_TYPE = 'application/vnd.holoviews_exec.v0+json';\nvar CLASS_NAME = 'output';\n\n/**\n * Render data to the DOM node\n */\nfunction render(props, node) {\n  var div = document.createElement(\"div\");\n  var script = document.createElement(\"script\");\n  node.appendChild(div);\n  node.appendChild(script);\n}\n\n/**\n * Handle when a new output is added\n */\nfunction handle_add_output(event, handle) {\n  var output_area = handle.output_area;\n  var output = handle.output;\n  if ((output.data == undefined) || (!output.data.hasOwnProperty(EXEC_MIME_TYPE))) {\n    return\n  }\n  var id = output.metadata[EXEC_MIME_TYPE][\"id\"];\n  var toinsert = output_area.element.find(\".\" + CLASS_NAME.split(' ')[0]);\n  if (id !== undefined) {\n    var nchildren = toinsert.length;\n    var html_node = toinsert[nchildren-1].children[0];\n    html_node.innerHTML = output.data[HTML_MIME_TYPE];\n    var scripts = [];\n    var nodelist = html_node.querySelectorAll(\"script\");\n    for (var i in nodelist) {\n      if (nodelist.hasOwnProperty(i)) {\n        scripts.push(nodelist[i])\n      }\n    }\n\n    scripts.forEach( function (oldScript) {\n      var newScript = document.createElement(\"script\");\n      var attrs = [];\n      var nodemap = oldScript.attributes;\n      for (var j in nodemap) {\n        if (nodemap.hasOwnProperty(j)) {\n          attrs.push(nodemap[j])\n        }\n      }\n      attrs.forEach(function(attr) { newScript.setAttribute(attr.name, attr.value) });\n      newScript.appendChild(document.createTextNode(oldScript.innerHTML));\n      oldScript.parentNode.replaceChild(newScript, oldScript);\n    });\n    if (JS_MIME_TYPE in output.data) {\n      toinsert[nchildren-1].children[1].textContent = output.data[JS_MIME_TYPE];\n    }\n    output_area._hv_plot_id = id;\n    if ((window.Bokeh !== undefined) && (id in Bokeh.index)) {\n      window.PyViz.plot_index[id] = Bokeh.index[id];\n    } else {\n      window.PyViz.plot_index[id] = null;\n    }\n  } else if (output.metadata[EXEC_MIME_TYPE][\"server_id\"] !== undefined) {\n    var bk_div = document.createElement(\"div\");\n    bk_div.innerHTML = output.data[HTML_MIME_TYPE];\n    var script_attrs = bk_div.children[0].attributes;\n    for (var i = 0; i < script_attrs.length; i++) {\n      toinsert[toinsert.length - 1].childNodes[1].setAttribute(script_attrs[i].name, script_attrs[i].value);\n    }\n    // store reference to server id on output_area\n    output_area._bokeh_server_id = output.metadata[EXEC_MIME_TYPE][\"server_id\"];\n  }\n}\n\n/**\n * Handle when an output is cleared or removed\n */\nfunction handle_clear_output(event, handle) {\n  var id = handle.cell.output_area._hv_plot_id;\n  var server_id = handle.cell.output_area._bokeh_server_id;\n  if (((id === undefined) || !(id in PyViz.plot_index)) && (server_id !== undefined)) { return; }\n  var comm = window.PyViz.comm_manager.get_client_comm(\"hv-extension-comm\", \"hv-extension-comm\", function () {});\n  if (server_id !== null) {\n    comm.send({event_type: 'server_delete', 'id': server_id});\n    return;\n  } else if (comm !== null) {\n    comm.send({event_type: 'delete', 'id': id});\n  }\n  delete PyViz.plot_index[id];\n  if ((window.Bokeh !== undefined) & (id in window.Bokeh.index)) {\n    var doc = window.Bokeh.index[id].model.document\n    doc.clear();\n    const i = window.Bokeh.documents.indexOf(doc);\n    if (i > -1) {\n      window.Bokeh.documents.splice(i, 1);\n    }\n  }\n}\n\n/**\n * Handle kernel restart event\n */\nfunction handle_kernel_cleanup(event, handle) {\n  delete PyViz.comms[\"hv-extension-comm\"];\n  window.PyViz.plot_index = {}\n}\n\n/**\n * Handle update_display_data messages\n */\nfunction handle_update_output(event, handle) {\n  handle_clear_output(event, {cell: {output_area: handle.output_area}})\n  handle_add_output(event, handle)\n}\n\nfunction register_renderer(events, OutputArea) {\n  function append_mime(data, metadata, element) {\n    // create a DOM node to render to\n    var toinsert = this.create_output_subarea(\n    metadata,\n    CLASS_NAME,\n    EXEC_MIME_TYPE\n    );\n    this.keyboard_manager.register_events(toinsert);\n    // Render to node\n    var props = {data: data, metadata: metadata[EXEC_MIME_TYPE]};\n    render(props, toinsert[0]);\n    element.append(toinsert);\n    return toinsert\n  }\n\n  events.on('output_added.OutputArea', handle_add_output);\n  events.on('output_updated.OutputArea', handle_update_output);\n  events.on('clear_output.CodeCell', handle_clear_output);\n  events.on('delete.Cell', handle_clear_output);\n  events.on('kernel_ready.Kernel', handle_kernel_cleanup);\n\n  OutputArea.prototype.register_mime_type(EXEC_MIME_TYPE, append_mime, {\n    safe: true,\n    index: 0\n  });\n}\n\nif (window.Jupyter !== undefined) {\n  try {\n    var events = require('base/js/events');\n    var OutputArea = require('notebook/js/outputarea').OutputArea;\n    if (OutputArea.prototype.mime_types().indexOf(EXEC_MIME_TYPE) == -1) {\n      register_renderer(events, OutputArea);\n    }\n  } catch(err) {\n  }\n}\n"
     },
     "metadata": {},
     "output_type": "display_data"
    },
    {
     "data": {
      "application/vnd.holoviews_exec.v0+json": "",
      "text/html": [
       "<div id='a43efa02-e198-4285-9adc-52b09f978841'>\n",
       "  <div id=\"c59374b1-5a29-493f-8eaf-8d826b267dbc\" data-root-id=\"a43efa02-e198-4285-9adc-52b09f978841\" style=\"display: contents;\"></div>\n",
       "</div>\n",
       "<script type=\"application/javascript\">(function(root) {\n",
       "  var docs_json = {\"8537cd86-d27d-4e13-8865-59e859225a30\":{\"version\":\"3.8.0\",\"title\":\"Bokeh Application\",\"config\":{\"type\":\"object\",\"name\":\"DocumentConfig\",\"id\":\"08028e04-c537-4437-80e1-fa90162dfda0\",\"attributes\":{\"notifications\":{\"type\":\"object\",\"name\":\"Notifications\",\"id\":\"554af70a-d9a6-4160-a3e3-69fded441ab1\"}}},\"roots\":[{\"type\":\"object\",\"name\":\"panel.models.browser.BrowserInfo\",\"id\":\"a43efa02-e198-4285-9adc-52b09f978841\"},{\"type\":\"object\",\"name\":\"panel.models.comm_manager.CommManager\",\"id\":\"604a14f5-2933-4ce7-ae84-ba0b0dc8fc15\",\"attributes\":{\"plot_id\":\"a43efa02-e198-4285-9adc-52b09f978841\",\"comm_id\":\"7f56f25e6fc94720b8f5117d3af9b7a7\",\"client_comm_id\":\"999b6b3f0a624a5c900affa924e6cdb0\"}}],\"defs\":[{\"type\":\"model\",\"name\":\"ReactiveHTML1\"},{\"type\":\"model\",\"name\":\"FlexBox1\",\"properties\":[{\"name\":\"align_content\",\"kind\":\"Any\",\"default\":\"flex-start\"},{\"name\":\"align_items\",\"kind\":\"Any\",\"default\":\"flex-start\"},{\"name\":\"flex_direction\",\"kind\":\"Any\",\"default\":\"row\"},{\"name\":\"flex_wrap\",\"kind\":\"Any\",\"default\":\"wrap\"},{\"name\":\"gap\",\"kind\":\"Any\",\"default\":\"\"},{\"name\":\"justify_content\",\"kind\":\"Any\",\"default\":\"flex-start\"}]},{\"type\":\"model\",\"name\":\"FloatPanel1\",\"properties\":[{\"name\":\"config\",\"kind\":\"Any\",\"default\":{\"type\":\"map\"}},{\"name\":\"contained\",\"kind\":\"Any\",\"default\":true},{\"name\":\"position\",\"kind\":\"Any\",\"default\":\"right-top\"},{\"name\":\"offsetx\",\"kind\":\"Any\",\"default\":null},{\"name\":\"offsety\",\"kind\":\"Any\",\"default\":null},{\"name\":\"theme\",\"kind\":\"Any\",\"default\":\"primary\"},{\"name\":\"status\",\"kind\":\"Any\",\"default\":\"normalized\"}]},{\"type\":\"model\",\"name\":\"GridStack1\",\"properties\":[{\"name\":\"ncols\",\"kind\":\"Any\",\"default\":null},{\"name\":\"nrows\",\"kind\":\"Any\",\"default\":null},{\"name\":\"allow_resize\",\"kind\":\"Any\",\"default\":true},{\"name\":\"allow_drag\",\"kind\":\"Any\",\"default\":true},{\"name\":\"state\",\"kind\":\"Any\",\"default\":[]}]},{\"type\":\"model\",\"name\":\"drag1\",\"properties\":[{\"name\":\"slider_width\",\"kind\":\"Any\",\"default\":5},{\"name\":\"slider_color\",\"kind\":\"Any\",\"default\":\"black\"},{\"name\":\"start\",\"kind\":\"Any\",\"default\":0},{\"name\":\"end\",\"kind\":\"Any\",\"default\":100},{\"name\":\"value\",\"kind\":\"Any\",\"default\":50}]},{\"type\":\"model\",\"name\":\"click1\",\"properties\":[{\"name\":\"terminal_output\",\"kind\":\"Any\",\"default\":\"\"},{\"name\":\"debug_name\",\"kind\":\"Any\",\"default\":\"\"},{\"name\":\"clears\",\"kind\":\"Any\",\"default\":0}]},{\"type\":\"model\",\"name\":\"ReactiveESM1\",\"properties\":[{\"name\":\"esm_constants\",\"kind\":\"Any\",\"default\":{\"type\":\"map\"}}]},{\"type\":\"model\",\"name\":\"JSComponent1\",\"properties\":[{\"name\":\"esm_constants\",\"kind\":\"Any\",\"default\":{\"type\":\"map\"}}]},{\"type\":\"model\",\"name\":\"ReactComponent1\",\"properties\":[{\"name\":\"use_shadow_dom\",\"kind\":\"Any\",\"default\":true},{\"name\":\"esm_constants\",\"kind\":\"Any\",\"default\":{\"type\":\"map\"}}]},{\"type\":\"model\",\"name\":\"AnyWidgetComponent1\",\"properties\":[{\"name\":\"use_shadow_dom\",\"kind\":\"Any\",\"default\":true},{\"name\":\"esm_constants\",\"kind\":\"Any\",\"default\":{\"type\":\"map\"}}]},{\"type\":\"model\",\"name\":\"FastWrapper1\",\"properties\":[{\"name\":\"object\",\"kind\":\"Any\",\"default\":null},{\"name\":\"style\",\"kind\":\"Any\",\"default\":null}]},{\"type\":\"model\",\"name\":\"NotificationArea1\",\"properties\":[{\"name\":\"js_events\",\"kind\":\"Any\",\"default\":{\"type\":\"map\"}},{\"name\":\"max_notifications\",\"kind\":\"Any\",\"default\":5},{\"name\":\"notifications\",\"kind\":\"Any\",\"default\":[]},{\"name\":\"position\",\"kind\":\"Any\",\"default\":\"bottom-right\"},{\"name\":\"_clear\",\"kind\":\"Any\",\"default\":0},{\"name\":\"types\",\"kind\":\"Any\",\"default\":[{\"type\":\"map\",\"entries\":[[\"type\",\"warning\"],[\"background\",\"#ffc107\"],[\"icon\",{\"type\":\"map\",\"entries\":[[\"className\",\"fas fa-exclamation-triangle\"],[\"tagName\",\"i\"],[\"color\",\"white\"]]}]]},{\"type\":\"map\",\"entries\":[[\"type\",\"info\"],[\"background\",\"#007bff\"],[\"icon\",{\"type\":\"map\",\"entries\":[[\"className\",\"fas fa-info-circle\"],[\"tagName\",\"i\"],[\"color\",\"white\"]]}]]}]}]},{\"type\":\"model\",\"name\":\"Notification\",\"properties\":[{\"name\":\"background\",\"kind\":\"Any\",\"default\":null},{\"name\":\"duration\",\"kind\":\"Any\",\"default\":3000},{\"name\":\"icon\",\"kind\":\"Any\",\"default\":null},{\"name\":\"message\",\"kind\":\"Any\",\"default\":\"\"},{\"name\":\"notification_type\",\"kind\":\"Any\",\"default\":null},{\"name\":\"_rendered\",\"kind\":\"Any\",\"default\":false},{\"name\":\"_destroyed\",\"kind\":\"Any\",\"default\":false}]},{\"type\":\"model\",\"name\":\"TemplateActions1\",\"properties\":[{\"name\":\"open_modal\",\"kind\":\"Any\",\"default\":0},{\"name\":\"close_modal\",\"kind\":\"Any\",\"default\":0}]},{\"type\":\"model\",\"name\":\"BootstrapTemplateActions1\",\"properties\":[{\"name\":\"open_modal\",\"kind\":\"Any\",\"default\":0},{\"name\":\"close_modal\",\"kind\":\"Any\",\"default\":0}]},{\"type\":\"model\",\"name\":\"TemplateEditor1\",\"properties\":[{\"name\":\"layout\",\"kind\":\"Any\",\"default\":[]}]},{\"type\":\"model\",\"name\":\"MaterialTemplateActions1\",\"properties\":[{\"name\":\"open_modal\",\"kind\":\"Any\",\"default\":0},{\"name\":\"close_modal\",\"kind\":\"Any\",\"default\":0}]},{\"type\":\"model\",\"name\":\"request_value1\",\"properties\":[{\"name\":\"fill\",\"kind\":\"Any\",\"default\":\"none\"},{\"name\":\"_synced\",\"kind\":\"Any\",\"default\":null},{\"name\":\"_request_sync\",\"kind\":\"Any\",\"default\":0}]}]}};\n",
       "  var render_items = [{\"docid\":\"8537cd86-d27d-4e13-8865-59e859225a30\",\"roots\":{\"a43efa02-e198-4285-9adc-52b09f978841\":\"c59374b1-5a29-493f-8eaf-8d826b267dbc\"},\"root_ids\":[\"a43efa02-e198-4285-9adc-52b09f978841\"]}];\n",
       "  var docs = Object.values(docs_json)\n",
       "  if (!docs) {\n",
       "    return\n",
       "  }\n",
       "  const py_version = docs[0].version.replace('rc', '-rc.').replace('.dev', '-dev.')\n",
       "  async function embed_document(root) {\n",
       "    var Bokeh = get_bokeh(root)\n",
       "    await Bokeh.embed.embed_items_notebook(docs_json, render_items);\n",
       "    for (const render_item of render_items) {\n",
       "      for (const root_id of render_item.root_ids) {\n",
       "\tconst id_el = document.getElementById(root_id)\n",
       "\tif (id_el.children.length && id_el.children[0].hasAttribute('data-root-id')) {\n",
       "\t  const root_el = id_el.children[0]\n",
       "\t  root_el.id = root_el.id + '-rendered'\n",
       "\t  for (const child of root_el.children) {\n",
       "            // Ensure JupyterLab does not capture keyboard shortcuts\n",
       "            // see: https://jupyterlab.readthedocs.io/en/4.1.x/extension/notebook.html#keyboard-interaction-model\n",
       "\t    child.setAttribute('data-lm-suppress-shortcuts', 'true')\n",
       "\t  }\n",
       "\t}\n",
       "      }\n",
       "    }\n",
       "  }\n",
       "  function get_bokeh(root) {\n",
       "    if (root.Bokeh === undefined) {\n",
       "      return null\n",
       "    } else if (root.Bokeh.version !== py_version) {\n",
       "      if (root.Bokeh.versions === undefined || !root.Bokeh.versions.has(py_version)) {\n",
       "\treturn null\n",
       "      }\n",
       "      return root.Bokeh.versions.get(py_version);\n",
       "    } else if (root.Bokeh.version === py_version) {\n",
       "      return root.Bokeh\n",
       "    }\n",
       "    return null\n",
       "  }\n",
       "  function is_loaded(root) {\n",
       "    var Bokeh = get_bokeh(root)\n",
       "    return (Bokeh != null && Bokeh.Panel !== undefined)\n",
       "  }\n",
       "  if (is_loaded(root)) {\n",
       "    embed_document(root);\n",
       "  } else {\n",
       "    var attempts = 0;\n",
       "    var timer = setInterval(function(root) {\n",
       "      if (is_loaded(root)) {\n",
       "        clearInterval(timer);\n",
       "        embed_document(root);\n",
       "      } else if (document.readyState == \"complete\") {\n",
       "        attempts++;\n",
       "        if (attempts > 200) {\n",
       "          clearInterval(timer);\n",
       "\t  var Bokeh = get_bokeh(root)\n",
       "\t  if (Bokeh == null || Bokeh.Panel == null) {\n",
       "            console.warn(\"Panel: ERROR: Unable to run Panel code because Bokeh or Panel library is missing\");\n",
       "\t  } else {\n",
       "\t    console.warn(\"Panel: WARNING: Attempting to render but not all required libraries could be resolved.\")\n",
       "\t    embed_document(root)\n",
       "\t  }\n",
       "        }\n",
       "      }\n",
       "    }, 25, root)\n",
       "  }\n",
       "})(window);</script>"
      ]
     },
     "metadata": {
      "application/vnd.holoviews_exec.v0+json": {
       "id": "a43efa02-e198-4285-9adc-52b09f978841"
      }
     },
     "output_type": "display_data"
    }
   ],
   "source": [
    "import pint\n",
    "import pygasflow\n",
    "from pygasflow.solvers import *\n",
    "import numpy as np\n",
    "\n",
    "ureg = pint.UnitRegistry()\n",
    "# use \"~P\" to format units with unicode\n",
    "ureg.formatter.default_format = \"~\"\n",
    "# let pygasflow knows which UnitRegistry to use\n",
    "pygasflow.defaults.pint_ureg = ureg\n",
    "# dictionary results offers improved code readability\n",
    "pygasflow.defaults.solver_to_dict = True\n",
    "\n",
    "# shorcuts for conveniance\n",
    "kg = ureg.kg\n",
    "K = ureg.K\n",
    "J = ureg.J\n",
    "m = ureg.m\n",
    "atm = ureg.atm\n",
    "Pa = ureg.pascal\n",
    "sec = ureg.s\n",
    "deg = ureg.deg\n",
    "\n",
    "gamma = 1.4\n",
    "R = 287.05 * J / (kg * K)"
   ]
  },
  {
   "cell_type": "markdown",
   "id": "f75b807e-5805-4769-b8a6-941be91b6047",
   "metadata": {},
   "source": [
    "## P 10.1"
   ]
  },
  {
   "cell_type": "code",
   "execution_count": 2,
   "id": "f953e4f9-39ac-47ee-8a4a-25d715aca87b",
   "metadata": {},
   "outputs": [],
   "source": [
    "M_inf = 2\n",
    "theta_c = 15 * deg\n",
    "p1 = 1 * atm\n",
    "T1 = 290 * K\n",
    "rho1 = (p1 / (R * T1)).to(\"kg/m**3\")"
   ]
  },
  {
   "cell_type": "code",
   "execution_count": 3,
   "id": "c794fa03-b778-470d-9941-29327ed7a6c3",
   "metadata": {},
   "outputs": [
    {
     "name": "stdout",
     "output_type": "stream",
     "text": [
      "key        quantity       \n",
      "--------------------------\n",
      "mu         Mu                  2.00000000\n",
      "mc         Mc                  1.70686796\n",
      "theta_c    theta_c [deg]      15.00000000\n",
      "beta       beta [deg]         33.91469753\n",
      "delta      delta [deg]         4.57913858\n",
      "pr         pd/pu               1.28614663\n",
      "dr         rhod/rhou           1.19636349\n",
      "tr         Td/Tu               1.07504671\n",
      "tpr        p0d/p0u             0.99837756\n",
      "pc_pu      pc/pu               1.56629305\n",
      "rhoc_rhou  rho_c/rhou          1.37718896\n",
      "Tc_Tu      Tc/Tu               1.13731165\n"
     ]
    }
   ],
   "source": [
    "shock = conical_shockwave_solver(M_inf, \"theta_c\", theta_c)\n",
    "shock.show()"
   ]
  },
  {
   "cell_type": "markdown",
   "id": "d5e3be62-43f6-4ff9-8370-fe1a73a0aef4",
   "metadata": {},
   "source": [
    "### (a)"
   ]
  },
  {
   "cell_type": "code",
   "execution_count": 4,
   "id": "7da1a7d1-8327-4622-91d8-089cfff0a550",
   "metadata": {},
   "outputs": [
    {
     "data": {
      "text/html": [
       "33.91469752764406 deg"
      ],
      "text/latex": [
       "$33.91469752764406\\ \\mathrm{deg}$"
      ],
      "text/plain": [
       "<Quantity(33.9146975, 'degree')>"
      ]
     },
     "execution_count": 4,
     "metadata": {},
     "output_type": "execute_result"
    }
   ],
   "source": [
    "beta = shock[\"beta\"]\n",
    "beta"
   ]
  },
  {
   "cell_type": "markdown",
   "id": "7ebda66f-29ed-4810-be8a-d7e327109c8e",
   "metadata": {},
   "source": [
    "### (b)"
   ]
  },
  {
   "cell_type": "code",
   "execution_count": 8,
   "id": "badb9271-5f1c-4593-a401-f57f74fee8bc",
   "metadata": {},
   "outputs": [
    {
     "data": {
      "text/html": [
       "1.2171975325697193 kg/m<sup>3</sup>"
      ],
      "text/latex": [
       "$1.2171975325697193\\ \\frac{\\mathrm{kg}}{\\mathrm{m}^{3}}$"
      ],
      "text/plain": [
       "<Quantity(1.21719753, 'kilogram / meter ** 3')>"
      ]
     },
     "execution_count": 8,
     "metadata": {},
     "output_type": "execute_result"
    }
   ],
   "source": [
    "p1 = 1 * atm\n",
    "T1 = 290 * K\n",
    "rho1 = (p1 / (R * T1)).to(\"kg / m**3\")\n",
    "rho1"
   ]
  },
  {
   "cell_type": "code",
   "execution_count": 11,
   "id": "a295b22e-00e9-4d05-a7d4-19783226f518",
   "metadata": {},
   "outputs": [
    {
     "data": {
      "text/html": [
       "1.2861466346503097 atm"
      ],
      "text/latex": [
       "$1.2861466346503097\\ \\mathrm{atm}$"
      ],
      "text/plain": [
       "<Quantity(1.28614663, 'standard_atmosphere')>"
      ]
     },
     "execution_count": 11,
     "metadata": {},
     "output_type": "execute_result"
    }
   ],
   "source": [
    "p2 = shock[\"pr\"] * p1\n",
    "p2"
   ]
  },
  {
   "cell_type": "code",
   "execution_count": 12,
   "id": "588140a6-ab7f-4e80-96bf-e56bbe41f36f",
   "metadata": {},
   "outputs": [
    {
     "data": {
      "text/html": [
       "311.763546391508 K"
      ],
      "text/latex": [
       "$311.763546391508\\ \\mathrm{K}$"
      ],
      "text/plain": [
       "<Quantity(311.763546, 'kelvin')>"
      ]
     },
     "execution_count": 12,
     "metadata": {},
     "output_type": "execute_result"
    }
   ],
   "source": [
    "T2 = shock[\"tr\"] * T1\n",
    "T2"
   ]
  },
  {
   "cell_type": "code",
   "execution_count": 13,
   "id": "b9d212b5-0658-4d04-927a-ab2f45f730d8",
   "metadata": {},
   "outputs": [
    {
     "data": {
      "text/html": [
       "1.4562106866511302 kg/m<sup>3</sup>"
      ],
      "text/latex": [
       "$1.4562106866511302\\ \\frac{\\mathrm{kg}}{\\mathrm{m}^{3}}$"
      ],
      "text/plain": [
       "<Quantity(1.45621069, 'kilogram / meter ** 3')>"
      ]
     },
     "execution_count": 13,
     "metadata": {},
     "output_type": "execute_result"
    }
   ],
   "source": [
    "rho2 = shock[\"dr\"] * rho1\n",
    "rho2"
   ]
  },
  {
   "cell_type": "code",
   "execution_count": 15,
   "id": "983b9485-03f0-47fd-9ec8-da2eb06f5266",
   "metadata": {},
   "outputs": [
    {
     "data": {
      "text/plain": [
       "np.float64(1.8362269055556388)"
      ]
     },
     "execution_count": 15,
     "metadata": {},
     "output_type": "execute_result"
    }
   ],
   "source": [
    "M2 = shockwave_solver(\"mu\", M_inf, \"theta\", shock[\"delta\"])[\"md\"]\n",
    "M2"
   ]
  },
  {
   "cell_type": "markdown",
   "id": "6d786023-c261-428b-b8d4-a0df1e2db61d",
   "metadata": {},
   "source": [
    "### (c)"
   ]
  },
  {
   "cell_type": "code",
   "execution_count": 16,
   "id": "325c4bed-2629-4fb4-bd63-cdbdd80a0021",
   "metadata": {},
   "outputs": [
    {
     "data": {
      "text/html": [
       "1.5662930485508126 atm"
      ],
      "text/latex": [
       "$1.5662930485508126\\ \\mathrm{atm}$"
      ],
      "text/plain": [
       "<Quantity(1.56629305, 'standard_atmosphere')>"
      ]
     },
     "execution_count": 16,
     "metadata": {},
     "output_type": "execute_result"
    }
   ],
   "source": [
    "pc = shock[\"pc_pu\"] * p1\n",
    "pc"
   ]
  },
  {
   "cell_type": "code",
   "execution_count": 17,
   "id": "d85f8061-a010-4f71-8ee9-1a2c37180343",
   "metadata": {},
   "outputs": [
    {
     "data": {
      "text/html": [
       "329.8203785583531 K"
      ],
      "text/latex": [
       "$329.8203785583531\\ \\mathrm{K}$"
      ],
      "text/plain": [
       "<Quantity(329.820379, 'kelvin')>"
      ]
     },
     "execution_count": 17,
     "metadata": {},
     "output_type": "execute_result"
    }
   ],
   "source": [
    "Tc = shock[\"Tc_Tu\"] * T1\n",
    "Tc"
   ]
  },
  {
   "cell_type": "code",
   "execution_count": 18,
   "id": "4994d9ab-f65e-4faa-ab85-5b81ac039d52",
   "metadata": {},
   "outputs": [
    {
     "data": {
      "text/html": [
       "1.6763110037955304 kg/m<sup>3</sup>"
      ],
      "text/latex": [
       "$1.6763110037955304\\ \\frac{\\mathrm{kg}}{\\mathrm{m}^{3}}$"
      ],
      "text/plain": [
       "<Quantity(1.676311, 'kilogram / meter ** 3')>"
      ]
     },
     "execution_count": 18,
     "metadata": {},
     "output_type": "execute_result"
    }
   ],
   "source": [
    "rhoc = shock[\"rhoc_rhou\"] * rho1\n",
    "rhoc"
   ]
  },
  {
   "cell_type": "markdown",
   "id": "04f3f763-d8b9-4f68-bdb0-e5a11ef95f8f",
   "metadata": {},
   "source": [
    "## P 10.2"
   ]
  },
  {
   "cell_type": "markdown",
   "id": "d2586dc3-ae08-48fc-a501-77938452fdfe",
   "metadata": {},
   "source": [
    "### for a cone"
   ]
  },
  {
   "cell_type": "code",
   "execution_count": 24,
   "id": "43f7f911-3fb6-424b-b4dd-90c9cb443747",
   "metadata": {},
   "outputs": [
    {
     "data": {
      "text/html": [
       "\n",
       "  <div id=\"d63b646d-99f8-4f3f-8326-0b1b5be5a373\" data-root-id=\"918426b2-1215-43a4-a796-c574e35ae044\" style=\"display: contents;\"></div>\n"
      ]
     },
     "metadata": {},
     "output_type": "display_data"
    },
    {
     "data": {
      "application/javascript": [
       "(function(root) {\n",
       "  function embed_document(root) {\n",
       "  const docs_json = {\"6bb19e5c-dee7-4cf1-a981-e0d4ae0a88d4\":{\"version\":\"3.8.0\",\"title\":\"Bokeh Application\",\"config\":{\"type\":\"object\",\"name\":\"DocumentConfig\",\"id\":\"654696a9-90d8-4aa4-b39a-1e4e5ce76fb9\",\"attributes\":{\"notifications\":{\"type\":\"object\",\"name\":\"Notifications\",\"id\":\"490b5080-26ae-4445-9bd6-a4f45ac07cad\"}}},\"roots\":[{\"type\":\"object\",\"name\":\"Figure\",\"id\":\"918426b2-1215-43a4-a796-c574e35ae044\",\"attributes\":{\"width\":700,\"height\":400,\"x_range\":{\"type\":\"object\",\"name\":\"Range1d\",\"id\":\"6da83723-ab76-42b4-b4e9-d0005c9d3dae\",\"attributes\":{\"end\":60}},\"y_range\":{\"type\":\"object\",\"name\":\"Range1d\",\"id\":\"02cb32f4-9051-4962-8fa7-638591cec18c\",\"attributes\":{\"end\":90}},\"x_scale\":{\"type\":\"object\",\"name\":\"LinearScale\",\"id\":\"5b2d93e0-7d38-4b2f-a09b-bf3bc9a302db\"},\"y_scale\":{\"type\":\"object\",\"name\":\"LinearScale\",\"id\":\"bc1dda07-96aa-4f59-8af3-d3e9aae1e37e\"},\"title\":{\"type\":\"object\",\"name\":\"Title\",\"id\":\"4b0e24f7-b893-476d-9cce-ea29698d1d3d\",\"attributes\":{\"text\":\"Conical Shock Properties: Mach - \\u03b2 - \\u03b8c\"}},\"renderers\":[{\"type\":\"object\",\"name\":\"GlyphRenderer\",\"id\":\"3dfad817-25f4-40e1-a82b-8271fd96ea3b\",\"attributes\":{\"data_source\":{\"type\":\"object\",\"name\":\"ColumnDataSource\",\"id\":\"7fa6e1ba-4bbb-4a86-ba9f-3c0fc975ba65\",\"attributes\":{\"selected\":{\"type\":\"object\",\"name\":\"Selection\",\"id\":\"901c0730-230b-4820-8734-6d784dc122ad\",\"attributes\":{\"indices\":[],\"line_indices\":[]}},\"selection_policy\":{\"type\":\"object\",\"name\":\"UnionRenderers\",\"id\":\"a6978dc3-8de4-4c0e-bcdf-6ad0f4398044\"},\"data\":{\"type\":\"map\",\"entries\":[[\"x\",{\"type\":\"ndarray\",\"array\":{\"type\":\"bytes\",\"data\":\"H4sIAAEAAAAC/y2TfUzMcQDGL1T0Qtf1oq67+/2+X26W6VUMu+ux7rDqRqyQcl6W3HbdqXXE1dUsWk7TdmskrTcVM6NJoVSkqHRephetWg4RC5nkpeQ2nv+e55/Pnj17OJx/etyuj6kwZoYGlknE1zmuqFobn/Ik3R2jLeKBmqeeCFFumbxc6IWuzfI+h0V8lAld3+sifJDWI900Gy/AzIrll7y3CJGfouXRZSJMuX7LP/dBhNj0pIEEBYNO0+nS0mIGxVqn0alRBmvshY3BviyKAtZJvieymLsk6MqDUhbXwsa9F/awGHskFgfYEkjtklOOBRKc95coA2MJ5k15cvMzCaoWJ9h2lhH0Cqb3Od0j+MTLnDQMEexOeftNNkUgrB+7lbGQYmZdhEROKQxJ68/UhlCk3g+TWOQU5rL6Ass2ist7W78+VFLkym5OlKsolB25FceTKUwKZV3qEYqaeJvCE3qKfo+MwpYMa646PutvoHhjCqRD6RTPfvRmPT1KEczndHJ1Vr+/9mu1hsKNNygrPEDhHnxmz8c4imPC3oiKKCsPyGiTUbiM9A9Gr6L4vu18x3YxxYTjVWp2o7Cr+RXeYEPxWzhM2HECvqaUZ9NH4Ntj7xjXbO0rG9cHVRE05XfHZRsJNlzsWBqlJeh7Edl9NorgZdDt1pggggWpNp+MXALToYclKz+zCLGoCxRdLFRemnfPK1k8yY7/02xgcWp6yLgoxroD+8HQsJzFjuGl7xpnGSQ2vv/i+JxBpWDjzZJyBnfVdXJNMoNX5t8qtZRBVlhmQd4CBivzhrU5lSLcDZjx/BMsQp7fjcZdTUKcHWVL0mRCpB1Osl3WLoD8YvWJ1WEC8B/LoWnwgdSsumr088Eeb6LccIEPc8Hk4fB5fPhjZ+fqA97IHakIL7nnhY4HY/M5Hl44Ih8Ut+5bDFFW6OtV1Z6IcErU51g8MOendG4dzwOzO7vvG9e4I9s50ZKz1Q21B4sd2+J4aHGuLHoW7Yqtdg68Q2u5uKY7PbHCzgVa3euTigRn2P7Q1i1RO2Ban97rxrGHUaGOzHo1B9FcbZd+4FfonZj6o366pND/N+H8BUwNIwAwAwAA\"},\"shape\":[102],\"dtype\":\"float64\",\"order\":\"little\"}],[\"y\",{\"type\":\"ndarray\",\"array\":{\"type\":\"bytes\",\"data\":\"H4sIAAEAAAAC/x3FeVCMcQAG4Eqb1aG1rS6rc9Xq1rG6e7u2cvsdH5mVDJNUDIlCUykToiRHIUeocc+icU9yJUQmR4Qo5CaN3GR4/nlM01RxLaYE95Th/zfZWRA7ZghBtEVDTIMTQXaJOAbeBMdEo9WnQwjeZhdH+8YROHxujjrMCOJTpVHKRILSTha5K5WgMb48Qp5J0HfrQfimfAJVrDxcUkIw91wCijYTVKuqwvSrCR4dehaaoyWQDXMK/XaGYHRlckj6FYJ8swPB71oIThW9D0pqJ/ik6xX09DWBcnF64JRegmndtQF3dCjKZ331H2dMcbM9wL/RgkIkZI+McKQIuVGnOutBkRGlq1IFUhw4E+mnjabo9C70dZlIYb2/0WePhmKivZGPTTLFyoqx3hULKOpNS0dIcym+FrZ4rSmi8Pgj8zLYRJG0cJJnXhXFtnebPX4cpLgz45F7xkkK44c27h8uUkSS6W7JzRRLru527WyjOIIuF00XxesTSpd7nyjsPFOHT/hNManmkPKamGHt0G7nKBlDwwZv5zpbht9GC538XRl8C04MO6piSPvxXeEWwbB7frCiZixD26scR7t4BmnieYctMxniWvs5yOYx5I1T25csZTh5eaWdeAXDx+DrtvllDE61Jra/tjEkuE6wWbSPYeOusqHdtQxNVnflKfUM+uss5M+vMwSJpwxJaGVIz620vt/JsO9LuxX5wNAxx96q6TuD5YsZlmoRx3hNjUW9hGPF7VfmgXKOulGu5rXOHL3n5wz28OFwC9DK9oZyzNT2mDmM4tjq7GdWyTlatmdKzadzGJqfHlSaxhFe/EtimMWRpR8mWV7AoV26zPRPCcfLnosDs7Zw2KQYDOyp5hA6Yk3SjnAUT15t3HWW41LzDaPERo6faolR220OnzpiyJ5wpPhtHHDzDUfVwVZx7BeOB47W4gu6AiRbNf2DTQTESHcYHLcUkLOqQ+SlEHBcRyHa7yngfWaSviJIgOLj3n7b1QI0SW/1LImA9Y/d9cqmCrjG5ukazxag13RUpzBDQEBkb19frgCdf/IE/AUPxjweMAMAAA==\"},\"shape\":[102],\"dtype\":\"float64\",\"order\":\"little\"}],[\"v\",[\"M1 = 1.05\",\"M1 = 1.05\",\"M1 = 1.05\",\"M1 = 1.05\",\"M1 = 1.05\",\"M1 = 1.05\",\"M1 = 1.05\",\"M1 = 1.05\",\"M1 = 1.05\",\"M1 = 1.05\",\"M1 = 1.05\",\"M1 = 1.05\",\"M1 = 1.05\",\"M1 = 1.05\",\"M1 = 1.05\",\"M1 = 1.05\",\"M1 = 1.05\",\"M1 = 1.05\",\"M1 = 1.05\",\"M1 = 1.05\",\"M1 = 1.05\",\"M1 = 1.05\",\"M1 = 1.05\",\"M1 = 1.05\",\"M1 = 1.05\",\"M1 = 1.05\",\"M1 = 1.05\",\"M1 = 1.05\",\"M1 = 1.05\",\"M1 = 1.05\",\"M1 = 1.05\",\"M1 = 1.05\",\"M1 = 1.05\",\"M1 = 1.05\",\"M1 = 1.05\",\"M1 = 1.05\",\"M1 = 1.05\",\"M1 = 1.05\",\"M1 = 1.05\",\"M1 = 1.05\",\"M1 = 1.05\",\"M1 = 1.05\",\"M1 = 1.05\",\"M1 = 1.05\",\"M1 = 1.05\",\"M1 = 1.05\",\"M1 = 1.05\",\"M1 = 1.05\",\"M1 = 1.05\",\"M1 = 1.05\",\"M1 = 1.05\",\"M1 = 1.05\",\"M1 = 1.05\",\"M1 = 1.05\",\"M1 = 1.05\",\"M1 = 1.05\",\"M1 = 1.05\",\"M1 = 1.05\",\"M1 = 1.05\",\"M1 = 1.05\",\"M1 = 1.05\",\"M1 = 1.05\",\"M1 = 1.05\",\"M1 = 1.05\",\"M1 = 1.05\",\"M1 = 1.05\",\"M1 = 1.05\",\"M1 = 1.05\",\"M1 = 1.05\",\"M1 = 1.05\",\"M1 = 1.05\",\"M1 = 1.05\",\"M1 = 1.05\",\"M1 = 1.05\",\"M1 = 1.05\",\"M1 = 1.05\",\"M1 = 1.05\",\"M1 = 1.05\",\"M1 = 1.05\",\"M1 = 1.05\",\"M1 = 1.05\",\"M1 = 1.05\",\"M1 = 1.05\",\"M1 = 1.05\",\"M1 = 1.05\",\"M1 = 1.05\",\"M1 = 1.05\",\"M1 = 1.05\",\"M1 = 1.05\",\"M1 = 1.05\",\"M1 = 1.05\",\"M1 = 1.05\",\"M1 = 1.05\",\"M1 = 1.05\",\"M1 = 1.05\",\"M1 = 1.05\",\"M1 = 1.05\",\"M1 = 1.05\",\"M1 = 1.05\",\"M1 = 1.05\",\"M1 = 1.05\",\"M1 = 1.05\"]],[\"r\",{\"type\":\"ndarray\",\"array\":[\"weak\",\"weak\",\"weak\",\"weak\",\"weak\",\"weak\",\"weak\",\"weak\",\"weak\",\"weak\",\"weak\",\"weak\",\"weak\",\"weak\",\"weak\",\"weak\",\"weak\",\"weak\",\"weak\",\"weak\",\"weak\",\"weak\",\"weak\",\"weak\",\"weak\",\"weak\",\"weak\",\"weak\",\"weak\",\"weak\",\"weak\",\"weak\",\"weak\",\"weak\",\"weak\",\"weak\",\"weak\",\"weak\",\"strong\",\"strong\",\"strong\",\"strong\",\"strong\",\"strong\",\"strong\",\"strong\",\"strong\",\"strong\",\"strong\",\"strong\",\"strong\",\"strong\",\"strong\",\"strong\",\"strong\",\"strong\",\"strong\",\"strong\",\"strong\",\"strong\",\"strong\",\"strong\",\"strong\",\"strong\",\"strong\",\"strong\",\"strong\",\"strong\",\"strong\",\"strong\",\"strong\",\"strong\",\"strong\",\"strong\",\"strong\",\"strong\",\"strong\",\"strong\",\"strong\",\"strong\",\"strong\",\"strong\",\"strong\",\"strong\",\"strong\",\"strong\",\"strong\",\"strong\",\"strong\",\"strong\",\"strong\",\"strong\",\"strong\",\"strong\",\"strong\",\"strong\",\"strong\",\"strong\",\"strong\",\"strong\",\"strong\",\"strong\"],\"shape\":[102],\"dtype\":\"object\",\"order\":\"little\"}]]}}},\"view\":{\"type\":\"object\",\"name\":\"CDSView\",\"id\":\"c6edb630-d734-4c43-b927-0afb78f62d7e\",\"attributes\":{\"filter\":{\"type\":\"object\",\"name\":\"AllIndices\",\"id\":\"b64e8772-2903-4779-8a0c-68bd20b5e6e0\"}}},\"glyph\":{\"type\":\"object\",\"name\":\"Line\",\"id\":\"d3fbabcd-fef1-4ab0-8eea-274d503d4138\",\"attributes\":{\"x\":{\"type\":\"field\",\"field\":\"x\"},\"y\":{\"type\":\"field\",\"field\":\"y\"},\"line_color\":\"#1f77b4\",\"line_width\":2}},\"nonselection_glyph\":{\"type\":\"object\",\"name\":\"Line\",\"id\":\"a331c6aa-e9ab-4569-ba10-a0996166b490\",\"attributes\":{\"x\":{\"type\":\"field\",\"field\":\"x\"},\"y\":{\"type\":\"field\",\"field\":\"y\"},\"line_color\":\"#1f77b4\",\"line_alpha\":0.1,\"line_width\":2}},\"muted_glyph\":{\"type\":\"object\",\"name\":\"Line\",\"id\":\"3163831b-d0d2-4094-8f05-ea12602975d0\",\"attributes\":{\"x\":{\"type\":\"field\",\"field\":\"x\"},\"y\":{\"type\":\"field\",\"field\":\"y\"},\"line_color\":\"#1f77b4\",\"line_alpha\":0.2,\"line_width\":2}}}},{\"type\":\"object\",\"name\":\"GlyphRenderer\",\"id\":\"b46e33d4-0a40-4a7b-a346-03dcfdd1d4de\",\"attributes\":{\"data_source\":{\"type\":\"object\",\"name\":\"ColumnDataSource\",\"id\":\"66b99c50-dc6f-442e-ac4c-97a945df005b\",\"attributes\":{\"selected\":{\"type\":\"object\",\"name\":\"Selection\",\"id\":\"72d46b3b-ee20-4a5e-8cb4-d53d49c3a247\",\"attributes\":{\"indices\":[],\"line_indices\":[]}},\"selection_policy\":{\"type\":\"object\",\"name\":\"UnionRenderers\",\"id\":\"7f0738f2-edf8-47fc-9de2-a1cf07b1b50a\"},\"data\":{\"type\":\"map\",\"entries\":[[\"x\",{\"type\":\"ndarray\",\"array\":{\"type\":\"bytes\",\"data\":\"H4sIAAEAAAAC/y1Te0yTdwBsGWSgq8/FWsYQC7T09X0/Nqiijh4vBdSp+IBmkja+wFlRZqbio0GwIt2MCCKPRGC+puAMiKI0lo7STRBTGLRaVqWYSOKsus2GfLJZsIneP5fcXe6vOxbrPQIMyfS0mVqFv3CT+vmqz8AaCvp/ZGMYer/4g90t5yNYHj99X2M4Xln8FvaMRGB16tP4jJeROF7vMIY4BeC2Kio5LUIo//mF1bUnCv68rVe1AhFUSm/ohV4RstaODbO3irGzdqd3wiNGWdNg9a0CCTYecHTNYCSYV2Dt/k0jxeLa8pZ8pxTTB+dyzyTJEGfVVTVclOGSamz/KzaF2Myh1r4sCoEuq6K0kUL0ZMRfGxgKD2dv7tcoaCTUzzr5pojGn9JNiXwzjTTT4jCOl4btkVTwgkcwUV98dtWXBNuXdsiM6QTuCv05hZrAHJ1SPrKHoP90jfayjoD5of11XSXB3NzMs/fOE1zcF5wT3UwQN8Q75jAQXHgsP2npIrDpQ4rH7/nyae7HB/p9/ifrGpbbCJT6XGXeAwKu4ncy6mOdIc/dYieo+U/nsQ8QXPsoMTvDSvDwW7Vb2E3AXmiflfkrwf1rRq+rzafbak+YmwiqS5NUE3UEGSa/zvIyX78n3qwtJMjNuSHpzCNo6As6lPUNwfXrM0cTlxI4dZwVWprAuvnzpEAuQZucCbgzToOzI9DxppPGd8qjHtMxGhVFvIKgVBqhFnvt/QAa7R2W4kkThTrOmiVVeymwE0ylJSIKfrGwmR0yDFKOJ3FHZViUrjE4JTLs+PF1SWWfFJOOQGbNLilWq0uXj0+RQnNe0rz7nATJrlZvTawEPx/2CNZaxODf+vvI91+LsSD17Rz7oG8P5W2XFetEOKJJ7zrYFwX1toSoZSlRcBkLw9ffFKLu2SndinlCbMmuHrYUCTBGJQ8nuiKR3TPpHxMTiQ7eSvWzwgiIcphteks4PLdHBmZP8OEW/pvylZSP/oNsec7K+VikYoL2qsJAzReXxZhCMbWpMWS0IgSpzXd770YHg2Zi6J9KuLhidHrz93+K/BZGP9A7A5Ht8sLqJx9D99zQc+LSLsWHm7DeAXuzbzUwAwAA\"},\"shape\":[102],\"dtype\":\"float64\",\"order\":\"little\"}],[\"y\",{\"type\":\"ndarray\",\"array\":{\"type\":\"bytes\",\"data\":\"H4sIAAEAAAAC/x3FeVCMYQAH4EqFybGKyuReCpMjrS25flOpXPsd7/d+XZJjyqqd0DSLrIRhp1ImrGgqokiXNEKmIk1Gmg4VCpEs48xKS3JkeP55tgWdD1smU+BP643/e65rH4wPUkCr/366Jl6BepWdzPKiAhKjvNGvQQFhr6hM+qrAKQu1WeN4Bp3JugwJGEy1LZOTcAbhWW3NuiMM8h37ItpLGfQU21g4dDBwdXM9EzLIoCL00oRmaxbPpeVbv8xgYfL23jXrRSymFbYPka1h4b39LUtDWWyR9Weqo1kk9A/9kHaIRUGFnXv5KRYN8U6HnhSwMHi7tfysYmE93HfyxBYWsgZRtew1CzE1vDy0n8Uuqrbcb8Uhffxhcm4Sh8pO3dkaFw4vsnM/6b05mIaXeVgGcJDOrtU6RXLw6Wlr84vjoCzVT41I5ZCo7otKyuFQ6GFeUXidQ+Mfm+GN9zkY7kjFz50cbLSu5yVfOCxc7WVwMefhP5osJXY8drduSoyZzSMjLfqxbimPquAD06+zPLomH9vRvpmHmT676oeax/S8K1YOiTx8VNUBSzJ5bJ3/IDekhEdSX1dvXA2PohuG5Wcf8WjSmCRXv+PRC8mT7l88xlpMcTKXEMjr5sXMkBIEJC+v9pETxHLMKOVKgoxxocEJ6whudUTl5W8jeJkZZ6w/QDBkU4rnJx2Bo2PW0VGXCPzeFz2bV0EQUVw5i2siOBLdoI7uJiiWd9YcNxI0D3yUlA0T0Fv1K+SRg4BxB0cUfJ8rwM13Qr+9p4BAK+cVHlSApmnxsWClgKzjq19o9gi47R/snJUioNshcvetbAHmXbF3u64KcMxJtDG7J2ClMn2D9KmASOf8Iu8eAcmG8oEwU4rLV+t8tWMpWnZ1nMhzouhb8u5lnQeFremPuR/WUrjXDtOM2EgRlGBfNyeGQrN2pi2jpTgzxn3z9nSK6oe+JalFFK9O+/8uvU1hsX7LqrZWipnTdqYZ31CsenNYbztAoco/6eI+UkRK1IW4wCkiShZcq491FdHyrdY+w0eE8ebDsMpAEXb7Xpc+V4lY5GUcHNwnwuSfeBF/AboxGQcwAwAA\"},\"shape\":[102],\"dtype\":\"float64\",\"order\":\"little\"}],[\"v\",[\"M1 = 1.15\",\"M1 = 1.15\",\"M1 = 1.15\",\"M1 = 1.15\",\"M1 = 1.15\",\"M1 = 1.15\",\"M1 = 1.15\",\"M1 = 1.15\",\"M1 = 1.15\",\"M1 = 1.15\",\"M1 = 1.15\",\"M1 = 1.15\",\"M1 = 1.15\",\"M1 = 1.15\",\"M1 = 1.15\",\"M1 = 1.15\",\"M1 = 1.15\",\"M1 = 1.15\",\"M1 = 1.15\",\"M1 = 1.15\",\"M1 = 1.15\",\"M1 = 1.15\",\"M1 = 1.15\",\"M1 = 1.15\",\"M1 = 1.15\",\"M1 = 1.15\",\"M1 = 1.15\",\"M1 = 1.15\",\"M1 = 1.15\",\"M1 = 1.15\",\"M1 = 1.15\",\"M1 = 1.15\",\"M1 = 1.15\",\"M1 = 1.15\",\"M1 = 1.15\",\"M1 = 1.15\",\"M1 = 1.15\",\"M1 = 1.15\",\"M1 = 1.15\",\"M1 = 1.15\",\"M1 = 1.15\",\"M1 = 1.15\",\"M1 = 1.15\",\"M1 = 1.15\",\"M1 = 1.15\",\"M1 = 1.15\",\"M1 = 1.15\",\"M1 = 1.15\",\"M1 = 1.15\",\"M1 = 1.15\",\"M1 = 1.15\",\"M1 = 1.15\",\"M1 = 1.15\",\"M1 = 1.15\",\"M1 = 1.15\",\"M1 = 1.15\",\"M1 = 1.15\",\"M1 = 1.15\",\"M1 = 1.15\",\"M1 = 1.15\",\"M1 = 1.15\",\"M1 = 1.15\",\"M1 = 1.15\",\"M1 = 1.15\",\"M1 = 1.15\",\"M1 = 1.15\",\"M1 = 1.15\",\"M1 = 1.15\",\"M1 = 1.15\",\"M1 = 1.15\",\"M1 = 1.15\",\"M1 = 1.15\",\"M1 = 1.15\",\"M1 = 1.15\",\"M1 = 1.15\",\"M1 = 1.15\",\"M1 = 1.15\",\"M1 = 1.15\",\"M1 = 1.15\",\"M1 = 1.15\",\"M1 = 1.15\",\"M1 = 1.15\",\"M1 = 1.15\",\"M1 = 1.15\",\"M1 = 1.15\",\"M1 = 1.15\",\"M1 = 1.15\",\"M1 = 1.15\",\"M1 = 1.15\",\"M1 = 1.15\",\"M1 = 1.15\",\"M1 = 1.15\",\"M1 = 1.15\",\"M1 = 1.15\",\"M1 = 1.15\",\"M1 = 1.15\",\"M1 = 1.15\",\"M1 = 1.15\",\"M1 = 1.15\",\"M1 = 1.15\",\"M1 = 1.15\",\"M1 = 1.15\"]],[\"r\",{\"type\":\"ndarray\",\"array\":[\"weak\",\"weak\",\"weak\",\"weak\",\"weak\",\"weak\",\"weak\",\"weak\",\"weak\",\"weak\",\"weak\",\"weak\",\"weak\",\"weak\",\"weak\",\"weak\",\"weak\",\"weak\",\"weak\",\"weak\",\"weak\",\"weak\",\"weak\",\"weak\",\"weak\",\"weak\",\"weak\",\"weak\",\"weak\",\"weak\",\"weak\",\"weak\",\"weak\",\"weak\",\"weak\",\"weak\",\"weak\",\"weak\",\"weak\",\"weak\",\"weak\",\"weak\",\"weak\",\"weak\",\"strong\",\"strong\",\"strong\",\"strong\",\"strong\",\"strong\",\"strong\",\"strong\",\"strong\",\"strong\",\"strong\",\"strong\",\"strong\",\"strong\",\"strong\",\"strong\",\"strong\",\"strong\",\"strong\",\"strong\",\"strong\",\"strong\",\"strong\",\"strong\",\"strong\",\"strong\",\"strong\",\"strong\",\"strong\",\"strong\",\"strong\",\"strong\",\"strong\",\"strong\",\"strong\",\"strong\",\"strong\",\"strong\",\"strong\",\"strong\",\"strong\",\"strong\",\"strong\",\"strong\",\"strong\",\"strong\",\"strong\",\"strong\",\"strong\",\"strong\",\"strong\",\"strong\",\"strong\",\"strong\",\"strong\",\"strong\",\"strong\",\"strong\"],\"shape\":[102],\"dtype\":\"object\",\"order\":\"little\"}]]}}},\"view\":{\"type\":\"object\",\"name\":\"CDSView\",\"id\":\"74adb700-e976-41d2-bc3e-25115de7df79\",\"attributes\":{\"filter\":{\"type\":\"object\",\"name\":\"AllIndices\",\"id\":\"1644ef25-9743-4127-a1f8-0f7dd60ee6d5\"}}},\"glyph\":{\"type\":\"object\",\"name\":\"Line\",\"id\":\"ecea9faa-caa5-4580-ac4e-28c0323b95b6\",\"attributes\":{\"x\":{\"type\":\"field\",\"field\":\"x\"},\"y\":{\"type\":\"field\",\"field\":\"y\"},\"line_color\":\"#ff7f0e\",\"line_width\":2}},\"nonselection_glyph\":{\"type\":\"object\",\"name\":\"Line\",\"id\":\"987df3bc-3976-449b-a372-6c30dadaa7b8\",\"attributes\":{\"x\":{\"type\":\"field\",\"field\":\"x\"},\"y\":{\"type\":\"field\",\"field\":\"y\"},\"line_color\":\"#ff7f0e\",\"line_alpha\":0.1,\"line_width\":2}},\"muted_glyph\":{\"type\":\"object\",\"name\":\"Line\",\"id\":\"33b9184d-5b4f-4006-ac0a-9cd6330ba7bc\",\"attributes\":{\"x\":{\"type\":\"field\",\"field\":\"x\"},\"y\":{\"type\":\"field\",\"field\":\"y\"},\"line_color\":\"#ff7f0e\",\"line_alpha\":0.2,\"line_width\":2}}}},{\"type\":\"object\",\"name\":\"GlyphRenderer\",\"id\":\"1cc5253e-ff3d-4694-bb05-1285c8be0621\",\"attributes\":{\"data_source\":{\"type\":\"object\",\"name\":\"ColumnDataSource\",\"id\":\"57f6d0cc-c3fd-4eb2-8ddb-3dd9249bb34b\",\"attributes\":{\"selected\":{\"type\":\"object\",\"name\":\"Selection\",\"id\":\"bd6309bf-75c8-4b82-960b-82ca1845fc4b\",\"attributes\":{\"indices\":[],\"line_indices\":[]}},\"selection_policy\":{\"type\":\"object\",\"name\":\"UnionRenderers\",\"id\":\"16f78212-4fde-47b0-b072-5ece05aba14a\"},\"data\":{\"type\":\"map\",\"entries\":[[\"x\",{\"type\":\"ndarray\",\"array\":{\"type\":\"bytes\",\"data\":\"H4sIAAEAAAAC/y2Te1DLAQDHd2VkdrvM80KtlVmurdUev/1+P7VvS05cymvOxaRCHjHFVdODs/6Qkxu7YsfUnUvCziv0QHkU5ka2S6JcS0p6SF4du3TH97/Pv5/7fBmMf1N77TtEdO1XHRkwpZ16x4NaLvEeTgxEwTVH3O9OAWqvuya29gnxer5D8vnSQpRJ3LeXLQoGW2QUDFaIcEFX4eoeFeNMa0ppjI8E7ZwrG7RWCRYbeRNOUKFYklzaPHA/FD+fHdVHqMLQpTGYAqvDMGrYeJ4nluL42NIzZosUB++qdD0sGfoT+onYDBkMnglRE1tl8BU1Looi5XhyKe1tcIkck5Lc8u5hOe7zexhHYhQgXH1xEosCuiQjf2hIAUG8m9sSQaDSEH39ayGBBt6DwTgngTnvfmt/+Cjx3mov6Ncqca5+6mSiVIkg87mO1g4lGus2pzt8SDCDDTWCNSR2LDAYmgtJmFP9FjffI2Gqu7GO/4WEccYYp96XAjunoub8Mgqb9Dern2ZQ6KxWFiwwU0hPOF1TdZdCRVVx4M4OClyv7Q/D/1DY1j7TyZ9F4zYz6DUnhMbJUUfx9ygaQR8mi56tpRFQN+aVn0LD//Hcb0wdjYuRHvPis2i8Wv9mODaXBjtRnDaURyP2I6crYJwNl8s4bZk0NBfaZjP20MhLa7IeTqKBkJS2latoRCqXCtdF0Ih4HlOZL6BRrJ05cotFQ+Edx+7to6Buqc1yN1JQXVOHdFoolAjKzTnpFIae2q/eiaRwKFJUncum4LTr42+8IuFU2/fDROLky4GtU1aSWPFLumfUi8QVu6Z+sHbc58ZwjX27Et7Zw2XZXCV6dveuellFgL/X5XF1NYHMX32FI58VeLDJNzk9TwEmKewdYymg8fdM3WGUw+PRclf2VDlKbDy/wUIZAmrm3ctxS9HukmbZU6XoDZ+1+cDzMCSXa18whWEIUrdMcepDcYz1LUPwSIK1thYLy1OC8kpuT9EuMUY+5mbm3wmGrSPRVNA93m3Rw/UHBoSIljXJE5oEsFo8udO2BOLU2YPCcqs/bIej/Z58mguxo0HfoJ+OF29lxzptOtX/mzD+An5xXXwwAwAA\"},\"shape\":[102],\"dtype\":\"float64\",\"order\":\"little\"}],[\"y\",{\"type\":\"ndarray\",\"array\":{\"type\":\"bytes\",\"data\":\"H4sIAAEAAAAC/wEwA8/8f6f6KtfKRkAOIRAr18pGQFeEzC9EBEdAoeeINLE9R0DqSkU5HndHQDSuAT6LsEdAfRG+QvjpR0DGdHpHZSNIQBDYNkzSXEhAWTvzUD+WSECjnq9VrM9IQOwBbFoZCUlANmUoX4ZCSUB/yORj83tJQMgroWhgtUlAEo9dbc3uSUBb8hlyOihKQKVV1nanYUpA7riSexSbSkA4HE+AgdRKQIF/C4XuDUtAyuLHiVtHS0AURoSOyIBLQF2pQJM1uktApgz9l6LzS0Dwb7mcDy1MQDnTdaF8ZkxAgzYypumfTEDMme6qVtlMQBb9qq/DEk1AX2BntDBMTUCowyO5nYVNQPIm4L0Kv01AO4qcwnf4TUCF7VjH5DFOQM5QFcxRa05AGLTR0L6kTkBhF47VK95OQKp6StqYF09A9N0G3wVRT0A9QcPjcopPQIakf+jfw09A0Ac87Uz9T0CNNfz4XBtQQDJnWnsTOFBA1pi4/clUUEB7yhaAgHFQQCD8dAI3jlBAxC3ThO2qUEBpXzEHpMdQQA6Rj4la5FBAssLtCxEBUUBX9EuOxx1RQPwlqhB+OlFAoFcIkzRXUUBFiWYV63NRQOq6xJehkFFAjuwiGlitUUAzHoGcDspRQNhP3x7F5lFAfYE9oXsDUkAis5sjMiBSQMbk+aXoPFJAaxZYKJ9ZUkAQSLaqVXZSQLR5FC0Mk1JAWatyr8KvUkD+3NAxecxSQKIOL7Qv6VJAR0CNNuYFU0Dsceu4nCJTQJCjSTtTP1NANdWnvQlcU0DaBgZAwHhTQH44ZMJ2lVNAJGrCRC2yU0DImyDH485TQGzNfkma61NAEv/cy1AIVEC2MDtOByVUQFtimdC9QVRAAJT3UnReVECkxVXVKntUQEn3s1fhl1RA7igS2pe0VECSWnBcTtFUQDeMzt4E7lRA3L0sYbsKVUCA74rjcSdVQCUh6WUoRFVAylJH6N5gVUBuhKVqlX1VQBS2A+1LmlVAuOdhbwK3VUBdGcDxuNNVQAJLHnRv8FVApnx89iUNVkBLrtp43ClWQPDfOPuSRlZAlBGXfUljVkA5Q/X//39WQAAAAAAAgFZAHd3eUTADAAA=\"},\"shape\":[102],\"dtype\":\"float64\",\"order\":\"little\"}],[\"v\",[\"M1 = 1.4\",\"M1 = 1.4\",\"M1 = 1.4\",\"M1 = 1.4\",\"M1 = 1.4\",\"M1 = 1.4\",\"M1 = 1.4\",\"M1 = 1.4\",\"M1 = 1.4\",\"M1 = 1.4\",\"M1 = 1.4\",\"M1 = 1.4\",\"M1 = 1.4\",\"M1 = 1.4\",\"M1 = 1.4\",\"M1 = 1.4\",\"M1 = 1.4\",\"M1 = 1.4\",\"M1 = 1.4\",\"M1 = 1.4\",\"M1 = 1.4\",\"M1 = 1.4\",\"M1 = 1.4\",\"M1 = 1.4\",\"M1 = 1.4\",\"M1 = 1.4\",\"M1 = 1.4\",\"M1 = 1.4\",\"M1 = 1.4\",\"M1 = 1.4\",\"M1 = 1.4\",\"M1 = 1.4\",\"M1 = 1.4\",\"M1 = 1.4\",\"M1 = 1.4\",\"M1 = 1.4\",\"M1 = 1.4\",\"M1 = 1.4\",\"M1 = 1.4\",\"M1 = 1.4\",\"M1 = 1.4\",\"M1 = 1.4\",\"M1 = 1.4\",\"M1 = 1.4\",\"M1 = 1.4\",\"M1 = 1.4\",\"M1 = 1.4\",\"M1 = 1.4\",\"M1 = 1.4\",\"M1 = 1.4\",\"M1 = 1.4\",\"M1 = 1.4\",\"M1 = 1.4\",\"M1 = 1.4\",\"M1 = 1.4\",\"M1 = 1.4\",\"M1 = 1.4\",\"M1 = 1.4\",\"M1 = 1.4\",\"M1 = 1.4\",\"M1 = 1.4\",\"M1 = 1.4\",\"M1 = 1.4\",\"M1 = 1.4\",\"M1 = 1.4\",\"M1 = 1.4\",\"M1 = 1.4\",\"M1 = 1.4\",\"M1 = 1.4\",\"M1 = 1.4\",\"M1 = 1.4\",\"M1 = 1.4\",\"M1 = 1.4\",\"M1 = 1.4\",\"M1 = 1.4\",\"M1 = 1.4\",\"M1 = 1.4\",\"M1 = 1.4\",\"M1 = 1.4\",\"M1 = 1.4\",\"M1 = 1.4\",\"M1 = 1.4\",\"M1 = 1.4\",\"M1 = 1.4\",\"M1 = 1.4\",\"M1 = 1.4\",\"M1 = 1.4\",\"M1 = 1.4\",\"M1 = 1.4\",\"M1 = 1.4\",\"M1 = 1.4\",\"M1 = 1.4\",\"M1 = 1.4\",\"M1 = 1.4\",\"M1 = 1.4\",\"M1 = 1.4\",\"M1 = 1.4\",\"M1 = 1.4\",\"M1 = 1.4\",\"M1 = 1.4\",\"M1 = 1.4\",\"M1 = 1.4\"]],[\"r\",{\"type\":\"ndarray\",\"array\":[\"weak\",\"weak\",\"weak\",\"weak\",\"weak\",\"weak\",\"weak\",\"weak\",\"weak\",\"weak\",\"weak\",\"weak\",\"weak\",\"weak\",\"weak\",\"weak\",\"weak\",\"weak\",\"weak\",\"weak\",\"weak\",\"weak\",\"weak\",\"weak\",\"weak\",\"weak\",\"weak\",\"weak\",\"weak\",\"weak\",\"weak\",\"weak\",\"weak\",\"weak\",\"weak\",\"weak\",\"weak\",\"weak\",\"weak\",\"weak\",\"weak\",\"weak\",\"weak\",\"weak\",\"weak\",\"weak\",\"weak\",\"weak\",\"weak\",\"weak\",\"weak\",\"weak\",\"weak\",\"weak\",\"strong\",\"strong\",\"strong\",\"strong\",\"strong\",\"strong\",\"strong\",\"strong\",\"strong\",\"strong\",\"strong\",\"strong\",\"strong\",\"strong\",\"strong\",\"strong\",\"strong\",\"strong\",\"strong\",\"strong\",\"strong\",\"strong\",\"strong\",\"strong\",\"strong\",\"strong\",\"strong\",\"strong\",\"strong\",\"strong\",\"strong\",\"strong\",\"strong\",\"strong\",\"strong\",\"strong\",\"strong\",\"strong\",\"strong\",\"strong\",\"strong\",\"strong\",\"strong\",\"strong\",\"strong\",\"strong\",\"strong\",\"strong\"],\"shape\":[102],\"dtype\":\"object\",\"order\":\"little\"}]]}}},\"view\":{\"type\":\"object\",\"name\":\"CDSView\",\"id\":\"14194cd1-6d00-47fe-ae6a-fec8d529e37d\",\"attributes\":{\"filter\":{\"type\":\"object\",\"name\":\"AllIndices\",\"id\":\"a7962b4c-a0c9-4e74-b693-d04af33bc835\"}}},\"glyph\":{\"type\":\"object\",\"name\":\"Line\",\"id\":\"6dd9cd15-ae0a-467d-90ca-684e7756307a\",\"attributes\":{\"x\":{\"type\":\"field\",\"field\":\"x\"},\"y\":{\"type\":\"field\",\"field\":\"y\"},\"line_color\":\"#2ca02c\",\"line_width\":2}},\"nonselection_glyph\":{\"type\":\"object\",\"name\":\"Line\",\"id\":\"796d3b83-bb38-4967-98c8-061241a78c0c\",\"attributes\":{\"x\":{\"type\":\"field\",\"field\":\"x\"},\"y\":{\"type\":\"field\",\"field\":\"y\"},\"line_color\":\"#2ca02c\",\"line_alpha\":0.1,\"line_width\":2}},\"muted_glyph\":{\"type\":\"object\",\"name\":\"Line\",\"id\":\"9f9ba8ee-cedc-4a0b-88e5-dd2e8a868759\",\"attributes\":{\"x\":{\"type\":\"field\",\"field\":\"x\"},\"y\":{\"type\":\"field\",\"field\":\"y\"},\"line_color\":\"#2ca02c\",\"line_alpha\":0.2,\"line_width\":2}}}},{\"type\":\"object\",\"name\":\"GlyphRenderer\",\"id\":\"2a073b3d-4c5d-49f8-9aa0-237a0586c83f\",\"attributes\":{\"data_source\":{\"type\":\"object\",\"name\":\"ColumnDataSource\",\"id\":\"579ce3a4-40c6-4e5f-941a-305b01c62389\",\"attributes\":{\"selected\":{\"type\":\"object\",\"name\":\"Selection\",\"id\":\"ad6c71f4-49a6-4c38-9de6-c399391e0c29\",\"attributes\":{\"indices\":[],\"line_indices\":[]}},\"selection_policy\":{\"type\":\"object\",\"name\":\"UnionRenderers\",\"id\":\"448f08b4-c0f1-4528-bcca-41f83a2d8835\"},\"data\":{\"type\":\"map\",\"entries\":[[\"x\",{\"type\":\"ndarray\",\"array\":{\"type\":\"bytes\",\"data\":\"H4sIAAEAAAAC/y2Te1DLAQDHd+QVSqmUSou0oqe2Htvavr+H6tBqFfLIslGKJqk8yiRdj9V6zCuHOzXP8orr9DpR6iK6w82JHElIlGrk0dAd3/8+9/nn88+Xwfg3ZhPTiyhOFj5+rRaJw5lgkb0/3k9xQPBlvRPd4QjjUeufPY7OcK/un7ZcsBjHK/RNZ51dkR26Tf1I54bqmrc/joR7gM9/ZtEx3xO2lpyxe32e2Nvc73j/4hKoWZUFt2VeyJh64lKsJRu/dlFB4jY2IpoY34d3crCGd6G00tobiz8at7Y1ekOZ1vM9L9oH52zkBgt/+8CCTvRuLfWFKSfxpdrDD5nczI6LLX5w0WxsdYjkImEodZvVBy7elJ8rPZ7Cg00h78ANBh/1z7fuTcrjo4z3vuiVsT/iW0frGYf98bR+n9tzcwHkgX7z5EcE0JXESxpMhYDmaEmzSojJ7OtsTARK1GNdqQKgTsJJytwNfLnXo91QBUiP1TKn9AHtooTTKXYE2j6Vv9REEDAovKpU5hK4O5Kqsq8nsFsr+yL5RGBtXPsgz4bEoz/p2oplJIqkzRPKdpGQNtR2m2hIMF+t6Rx8QEIuyYHLVxKKXCr0pjWFkbY4swxQ4AzZSpJlFCTdLVcysih0m+bOLdZQ0NUABbcp3Fnk6xr1gkJFtjK8b4RCSGO4yNyQhueZqp5mWxpGCV8fat1oJBGTrjn705j+R9x7IoiGyiRt02QxjQvZsjKsomEeHymzi6QRIvJVJo9z9E+V3mjcvw1uSa4LpDF2dp1IyKVRrdHFS51oLOgTWfWa0Cjsmtme9Y1CGMt05i8tBZnULEJ/lYKlS+wAf7x3k8fHdzFhFArnl5s7zKUgDgn+bPmChD3HaHvvYRJWdB57YSCJ/FM3vLYPEZglL/628hABGvrOGBcCvwfu5Do3AE+HU/rnkcCzPQfPK9KEyBlt1A2sF8Aum7QOYPkjOiB9jmEnD/I9x7amJHJBpp70XtHvi4D9iidHA3wwGFT0gaXgoAb5q2/le0Gl6Dq0fLMntkTVzbAbdkU6KzRMu9QJVbExhuUG9gh1D54dl79D+P8mjL9HY3zjMAMAAA==\"},\"shape\":[102],\"dtype\":\"float64\",\"order\":\"little\"}],[\"y\",{\"type\":\"ndarray\",\"array\":{\"type\":\"bytes\",\"data\":\"H4sIAAEAAAAC/x3Te0hTcRQHcLNkacV6gKu0BpWzRFZIrMcf1+82r7q5ud3d3fWgZdkMsRESFypdPhiYMXroQMtF1rKwUVHzvSiYvRglukpqpLYiapHVMIuVkf3y/HP4nQOH3/nAmRX3PyiIv2fM5JbakYDERSF54SmnVpaNxgvZZj6YjbqmI+QNPDAzsbAdiE/LIHUA4/H9ArEcVR2vJS6rHHcqOh1Snxy/5CejfoECmxL3cxynAD9E+SJuBbzNIrEtqkB0d9QupJSQSgIRt0MJ65dLWllIiWudFd6AJAcfK1mRmc9BmjLTFvXnoDgp4a1dSONicJQWmWmMne32eDw0UvecFlIxGjvTS/kgnYvmrwhZnLkY7lpGxcK5WHxswu2Q5kGf80QgtuXh1Lw2qzeQh6fPbEFalI+kFk4WsuQjf6/UZfXmo26tgDiocP/bG4tTq0JcTy/xUIGqapD6IirY6DLioIZvvpI4qBF7nkIc1JC5Jv0CcQH44gHiUIDb664ShwJ8jVYRBw0ye7cRBw3KqjcQBw3acxOJgwYfFrwjDlqsGSZlhxbF58n4kBat+8g3JYUYySDr8oVYPrGCOBRie9/PsF2oQ1PNIGno8CKvnTjosFhYSxx0WPs50xdZpcfjwnNWr0qPEm+C2Faux5zkQ0G6WY/LR8fswnt6KEbVstB7Pd6iJ+Kex6CmbbXLmsVAPPeMVraDwb0Df6anqxnsGiz1Bq4ymMoatjgHGLQ0yUXmSQZbft8ISFIMeGVebovKDTjsr5P6Sg1ITvsetp82oKu+yKntNoAdf0KLRg2Y0G2OhWezaOho83gyWGwQLTLzDIvBimNC6giLg2Of/IJWFgsUJj74kMX1K/0S1zgLdeL6kGWJEZ+sLod0qxH1QwIqtseI9I181H/ciEfNYbfjphElUxqOGzZiTlGfQPzHiMv9acSBg1zSSBw4hE/8XWkr51D9pYw4cFjJvCQOHO52KokDh11LbxEHE6YqU4mDCS1v6omDCVuUP4iDCTNnUmPCP4twP28wAwAA\"},\"shape\":[102],\"dtype\":\"float64\",\"order\":\"little\"}],[\"v\",[\"M1 = 2\",\"M1 = 2\",\"M1 = 2\",\"M1 = 2\",\"M1 = 2\",\"M1 = 2\",\"M1 = 2\",\"M1 = 2\",\"M1 = 2\",\"M1 = 2\",\"M1 = 2\",\"M1 = 2\",\"M1 = 2\",\"M1 = 2\",\"M1 = 2\",\"M1 = 2\",\"M1 = 2\",\"M1 = 2\",\"M1 = 2\",\"M1 = 2\",\"M1 = 2\",\"M1 = 2\",\"M1 = 2\",\"M1 = 2\",\"M1 = 2\",\"M1 = 2\",\"M1 = 2\",\"M1 = 2\",\"M1 = 2\",\"M1 = 2\",\"M1 = 2\",\"M1 = 2\",\"M1 = 2\",\"M1 = 2\",\"M1 = 2\",\"M1 = 2\",\"M1 = 2\",\"M1 = 2\",\"M1 = 2\",\"M1 = 2\",\"M1 = 2\",\"M1 = 2\",\"M1 = 2\",\"M1 = 2\",\"M1 = 2\",\"M1 = 2\",\"M1 = 2\",\"M1 = 2\",\"M1 = 2\",\"M1 = 2\",\"M1 = 2\",\"M1 = 2\",\"M1 = 2\",\"M1 = 2\",\"M1 = 2\",\"M1 = 2\",\"M1 = 2\",\"M1 = 2\",\"M1 = 2\",\"M1 = 2\",\"M1 = 2\",\"M1 = 2\",\"M1 = 2\",\"M1 = 2\",\"M1 = 2\",\"M1 = 2\",\"M1 = 2\",\"M1 = 2\",\"M1 = 2\",\"M1 = 2\",\"M1 = 2\",\"M1 = 2\",\"M1 = 2\",\"M1 = 2\",\"M1 = 2\",\"M1 = 2\",\"M1 = 2\",\"M1 = 2\",\"M1 = 2\",\"M1 = 2\",\"M1 = 2\",\"M1 = 2\",\"M1 = 2\",\"M1 = 2\",\"M1 = 2\",\"M1 = 2\",\"M1 = 2\",\"M1 = 2\",\"M1 = 2\",\"M1 = 2\",\"M1 = 2\",\"M1 = 2\",\"M1 = 2\",\"M1 = 2\",\"M1 = 2\",\"M1 = 2\",\"M1 = 2\",\"M1 = 2\",\"M1 = 2\",\"M1 = 2\",\"M1 = 2\",\"M1 = 2\"]],[\"r\",{\"type\":\"ndarray\",\"array\":[\"weak\",\"weak\",\"weak\",\"weak\",\"weak\",\"weak\",\"weak\",\"weak\",\"weak\",\"weak\",\"weak\",\"weak\",\"weak\",\"weak\",\"weak\",\"weak\",\"weak\",\"weak\",\"weak\",\"weak\",\"weak\",\"weak\",\"weak\",\"weak\",\"weak\",\"weak\",\"weak\",\"weak\",\"weak\",\"weak\",\"weak\",\"weak\",\"weak\",\"weak\",\"weak\",\"weak\",\"weak\",\"weak\",\"weak\",\"weak\",\"weak\",\"weak\",\"weak\",\"weak\",\"weak\",\"weak\",\"weak\",\"weak\",\"weak\",\"weak\",\"weak\",\"weak\",\"weak\",\"weak\",\"weak\",\"weak\",\"weak\",\"weak\",\"weak\",\"weak\",\"weak\",\"weak\",\"weak\",\"weak\",\"weak\",\"weak\",\"weak\",\"strong\",\"strong\",\"strong\",\"strong\",\"strong\",\"strong\",\"strong\",\"strong\",\"strong\",\"strong\",\"strong\",\"strong\",\"strong\",\"strong\",\"strong\",\"strong\",\"strong\",\"strong\",\"strong\",\"strong\",\"strong\",\"strong\",\"strong\",\"strong\",\"strong\",\"strong\",\"strong\",\"strong\",\"strong\",\"strong\",\"strong\",\"strong\",\"strong\",\"strong\",\"strong\"],\"shape\":[102],\"dtype\":\"object\",\"order\":\"little\"}]]}}},\"view\":{\"type\":\"object\",\"name\":\"CDSView\",\"id\":\"152b72c1-94b3-4a54-9063-c3a71eb1629b\",\"attributes\":{\"filter\":{\"type\":\"object\",\"name\":\"AllIndices\",\"id\":\"a7206b9a-56f6-434b-b2bd-d05b162fb748\"}}},\"glyph\":{\"type\":\"object\",\"name\":\"Line\",\"id\":\"0a84ffe6-ee40-4675-8f85-08fb87c8daec\",\"attributes\":{\"x\":{\"type\":\"field\",\"field\":\"x\"},\"y\":{\"type\":\"field\",\"field\":\"y\"},\"line_color\":\"#d62728\",\"line_width\":2}},\"nonselection_glyph\":{\"type\":\"object\",\"name\":\"Line\",\"id\":\"6d373b5a-6dab-4a48-bb06-2b3e4de203e3\",\"attributes\":{\"x\":{\"type\":\"field\",\"field\":\"x\"},\"y\":{\"type\":\"field\",\"field\":\"y\"},\"line_color\":\"#d62728\",\"line_alpha\":0.1,\"line_width\":2}},\"muted_glyph\":{\"type\":\"object\",\"name\":\"Line\",\"id\":\"021c25de-014a-4cb2-8a2f-b818464b75ee\",\"attributes\":{\"x\":{\"type\":\"field\",\"field\":\"x\"},\"y\":{\"type\":\"field\",\"field\":\"y\"},\"line_color\":\"#d62728\",\"line_alpha\":0.2,\"line_width\":2}}}},{\"type\":\"object\",\"name\":\"GlyphRenderer\",\"id\":\"0aabc109-eb70-4b0d-bde1-126e8ccb8a4b\",\"attributes\":{\"data_source\":{\"type\":\"object\",\"name\":\"ColumnDataSource\",\"id\":\"47de9855-df09-46f2-bbca-b6cfc1abd9bf\",\"attributes\":{\"selected\":{\"type\":\"object\",\"name\":\"Selection\",\"id\":\"9478d3b5-5279-4728-845c-faae559346f2\",\"attributes\":{\"indices\":[],\"line_indices\":[]}},\"selection_policy\":{\"type\":\"object\",\"name\":\"UnionRenderers\",\"id\":\"a6f91377-31db-4d4a-8bb4-db4e83526ce1\"},\"data\":{\"type\":\"map\",\"entries\":[[\"x\",{\"type\":\"ndarray\",\"array\":{\"type\":\"bytes\",\"data\":\"H4sIAAEAAAAC/y2T/VPMeQDHa42HUnsVXRNFrlLadvS4dq3d73sfvx+V4thjlWdN5yk9m1kj5XrQA47yEEWPd3OV28RxiqMnZNtRTJ1ReYhtiZHsbm2DMMPrL3i9fnhZWHxjumPVkPbOFmq9VXE65sxGWv+gTfyYG2z/vKW6Wu4OYcC6t7pRT7itGdFxnLxhesTSxM70QXQm+51xjAWHBPeI8ttsCHxaVRuzFyLf/PEnc7EfTvd5Xq6J84emyXroMBWAyMlL23nWgZjIndB6dAXCoj95xoXCIHhyDHq2IhjaRmNbnwMHjJTH841aDpKsr7SUZS2C7scTs2wEXHTee9i0coSL0Vy1tLCCB2bioOHFysVw2kGSlQw+cpgLKIaaj6ObmeNvlEtwfn9Ht8ckAX69sq2jvlqAeK77vZLlQgRaic1DRiGiEvzLSk5SSD7BuR3pAjRt8E112Qn0hL5abdcIvHOK+xxsJUKMYnti3i8ibNapJmwrRFh2qkvW8FYEYYLaNZ8nxnZ990Dqb2LYdRZzDnWIkeJlbK+bKYHJMOnvgUgJeC3N7NnlEtjf39+2Qi+BRhVmuY8lhXvPv6XHYqXYFhPAz66T4kKUKS18RAqHeSbTIz8ZPhoEOtfdMhxcylRMrZUhlfHDk0y9DN2+Lw9lzZPjuj3vrlEpR8+BQO+G3+XIjCHUf21ynD3yfM+gWQ7F4y29jj40hD7o8FXSsHzR0D4ti0bMcb1zRh2NkZ8Z+5If0hi3ydaoP9HY1Tg33dKNIG/DAgRRBBHkf2ITSfD+tNcTOpHgQZ8p/2w2gZku2nnzJEECJeIqKgiavaPDPvxFUHBx4xF5DcGrNyzfG38QKIVVrKdnCK4uHzc45hL4N3enXosj2LX+eJprBAHl7Lwm1oOgUsV4rh2m4eEXxRd/9ZqStCn88lYaRXP1OWPTaZxzWVh/sfJrX2OVIYUtR8aKXs/qShm0a6NLjk6TYVhzKSRstRSjraGvuw5LMF46tXS4VowwadJ1oVqEvJB1820LgGXRe+JXVQuxt/dM/bMBPtBfrkhv4eKfTc9yP3OCobhZ1mxn74+MWuZga40XLoUXmWufxlPfN7H4ApVJuukwAwAA\"},\"shape\":[102],\"dtype\":\"float64\",\"order\":\"little\"}],[\"y\",{\"type\":\"ndarray\",\"array\":{\"type\":\"bytes\",\"data\":\"H4sIAAEAAAAC/x3Fe1DSBwAH8OXZchXOMOtW5HIjsszgSkOI4VdeogjC78fjssyoXHaUWYte03RTm4rNLnsa+R51eRpZdGWcWdpDy8eZm7WpnRVWUJ7lbKVbv932+eeTpV/rrtizHKUx+f9vnuNv8WKHQemxhmxwhYHpZN1vPhWOiUL7FiaxAg8S+bRcHy7OLW2pdTVy8SOlVMnMEVjV1TtsC+GBU2EsmvKEB58dHnbKCT4ei8xdd1UrcdmfSls0WYCfn+XNKLgmQLKDXu/e/g0EB6yEIliImQbWaM2AEJ6F9uLpRyNh/JtRcnkB0P7M6B7KAiLabfzZfUC1w1MQzY2CXynnj92Ho5B+wBxy9nUUnqc2fP9QLgJpoO75VIvQGClh8CgRFgfnb9mcIMYxvw7nSYcYXh/otDY/CbYOGhLHTRI8arXWLr4jgaR+8J+Er6Swl7BUlgwpGNmm0msPpcgz2Yc9y2UYJceEjCIZkgT8oji3DG3MzMfp0misoLWwa8ujUTnmk9U/EQ3fAWUXzSDH3tuH5wvr5XDV9aal0mKgPs64UZoSA2emcUZncwyCU2xGKjAWR9SeC+x9saAiOF7rfo2FKchMHOIo0PtZQ2WTRQHR249vR4YUqPtdLA4SxWFOc16x5nQccmvan/7wPg5viulh9aQSiemGnCd1StzdaO2hT1UhTDnIFCerUB7OMn/XpMK0QNOtqrnx2P2pPaBnVzyeDv+Z7N0djzMexuqSWWr0J0VmL5Oo4d9jrGnbroZcnvNgfZka+522ifH7alzitH5dPK6Gu9qjCAnWYP4XvjubdRroD3Ksq7M1KJxEtozaNbhpNr+yDGjw/uXxmczpBELXNgicPAIbuvs2ajcROCmjCl8dIdDREOTIuUnAmy3pZ4wQ4Fd9O9kxj0Ta7PxQpYKEzVKjc+0h0Ue1Z2TYSNB3jvwS0ENC/oLeUTtJi/1rwt9J2Vpc7DIEDqzR4qVkn2xXgRZfXrWm+l7RQht6/ZjNpUVBxWCj0F+HpgDv579Bh3f5rM+3peqw5KOcO8Wqw/odpqSyVh1ODB38ifuXDh0J9vOdTD28O7t7NxF68MRjFJWpxyf/ydLjX+5Zv2EwAwAA\"},\"shape\":[102],\"dtype\":\"float64\",\"order\":\"little\"}],[\"v\",[\"M1 = 3\",\"M1 = 3\",\"M1 = 3\",\"M1 = 3\",\"M1 = 3\",\"M1 = 3\",\"M1 = 3\",\"M1 = 3\",\"M1 = 3\",\"M1 = 3\",\"M1 = 3\",\"M1 = 3\",\"M1 = 3\",\"M1 = 3\",\"M1 = 3\",\"M1 = 3\",\"M1 = 3\",\"M1 = 3\",\"M1 = 3\",\"M1 = 3\",\"M1 = 3\",\"M1 = 3\",\"M1 = 3\",\"M1 = 3\",\"M1 = 3\",\"M1 = 3\",\"M1 = 3\",\"M1 = 3\",\"M1 = 3\",\"M1 = 3\",\"M1 = 3\",\"M1 = 3\",\"M1 = 3\",\"M1 = 3\",\"M1 = 3\",\"M1 = 3\",\"M1 = 3\",\"M1 = 3\",\"M1 = 3\",\"M1 = 3\",\"M1 = 3\",\"M1 = 3\",\"M1 = 3\",\"M1 = 3\",\"M1 = 3\",\"M1 = 3\",\"M1 = 3\",\"M1 = 3\",\"M1 = 3\",\"M1 = 3\",\"M1 = 3\",\"M1 = 3\",\"M1 = 3\",\"M1 = 3\",\"M1 = 3\",\"M1 = 3\",\"M1 = 3\",\"M1 = 3\",\"M1 = 3\",\"M1 = 3\",\"M1 = 3\",\"M1 = 3\",\"M1 = 3\",\"M1 = 3\",\"M1 = 3\",\"M1 = 3\",\"M1 = 3\",\"M1 = 3\",\"M1 = 3\",\"M1 = 3\",\"M1 = 3\",\"M1 = 3\",\"M1 = 3\",\"M1 = 3\",\"M1 = 3\",\"M1 = 3\",\"M1 = 3\",\"M1 = 3\",\"M1 = 3\",\"M1 = 3\",\"M1 = 3\",\"M1 = 3\",\"M1 = 3\",\"M1 = 3\",\"M1 = 3\",\"M1 = 3\",\"M1 = 3\",\"M1 = 3\",\"M1 = 3\",\"M1 = 3\",\"M1 = 3\",\"M1 = 3\",\"M1 = 3\",\"M1 = 3\",\"M1 = 3\",\"M1 = 3\",\"M1 = 3\",\"M1 = 3\",\"M1 = 3\",\"M1 = 3\",\"M1 = 3\",\"M1 = 3\"]],[\"r\",{\"type\":\"ndarray\",\"array\":[\"weak\",\"weak\",\"weak\",\"weak\",\"weak\",\"weak\",\"weak\",\"weak\",\"weak\",\"weak\",\"weak\",\"weak\",\"weak\",\"weak\",\"weak\",\"weak\",\"weak\",\"weak\",\"weak\",\"weak\",\"weak\",\"weak\",\"weak\",\"weak\",\"weak\",\"weak\",\"weak\",\"weak\",\"weak\",\"weak\",\"weak\",\"weak\",\"weak\",\"weak\",\"weak\",\"weak\",\"weak\",\"weak\",\"weak\",\"weak\",\"weak\",\"weak\",\"weak\",\"weak\",\"weak\",\"weak\",\"weak\",\"weak\",\"weak\",\"weak\",\"weak\",\"weak\",\"weak\",\"weak\",\"weak\",\"weak\",\"weak\",\"weak\",\"weak\",\"weak\",\"weak\",\"weak\",\"weak\",\"weak\",\"weak\",\"weak\",\"weak\",\"weak\",\"weak\",\"weak\",\"weak\",\"weak\",\"weak\",\"weak\",\"strong\",\"strong\",\"strong\",\"strong\",\"strong\",\"strong\",\"strong\",\"strong\",\"strong\",\"strong\",\"strong\",\"strong\",\"strong\",\"strong\",\"strong\",\"strong\",\"strong\",\"strong\",\"strong\",\"strong\",\"strong\",\"strong\",\"strong\",\"strong\",\"strong\",\"strong\",\"strong\",\"strong\"],\"shape\":[102],\"dtype\":\"object\",\"order\":\"little\"}]]}}},\"view\":{\"type\":\"object\",\"name\":\"CDSView\",\"id\":\"4d124147-bba7-440b-891b-6a624d15c2d1\",\"attributes\":{\"filter\":{\"type\":\"object\",\"name\":\"AllIndices\",\"id\":\"cb2d2922-d35b-4ba9-bb2a-5b375b2f4354\"}}},\"glyph\":{\"type\":\"object\",\"name\":\"Line\",\"id\":\"3191c8d1-8e25-488a-979b-93fd62e669d6\",\"attributes\":{\"x\":{\"type\":\"field\",\"field\":\"x\"},\"y\":{\"type\":\"field\",\"field\":\"y\"},\"line_color\":\"#9467bd\",\"line_width\":2}},\"nonselection_glyph\":{\"type\":\"object\",\"name\":\"Line\",\"id\":\"0f3240a6-e794-4bc0-9eb0-53f307030c4c\",\"attributes\":{\"x\":{\"type\":\"field\",\"field\":\"x\"},\"y\":{\"type\":\"field\",\"field\":\"y\"},\"line_color\":\"#9467bd\",\"line_alpha\":0.1,\"line_width\":2}},\"muted_glyph\":{\"type\":\"object\",\"name\":\"Line\",\"id\":\"ddc91cf3-efea-4e7b-a715-d9c19a0d0567\",\"attributes\":{\"x\":{\"type\":\"field\",\"field\":\"x\"},\"y\":{\"type\":\"field\",\"field\":\"y\"},\"line_color\":\"#9467bd\",\"line_alpha\":0.2,\"line_width\":2}}}},{\"type\":\"object\",\"name\":\"GlyphRenderer\",\"id\":\"641ed448-87c7-4f09-b547-1ae7e3e89838\",\"attributes\":{\"data_source\":{\"type\":\"object\",\"name\":\"ColumnDataSource\",\"id\":\"66fe1463-64aa-4102-938d-1c90481353c5\",\"attributes\":{\"selected\":{\"type\":\"object\",\"name\":\"Selection\",\"id\":\"f2ee1f97-415f-4437-8527-368e9ad5aea7\",\"attributes\":{\"indices\":[],\"line_indices\":[]}},\"selection_policy\":{\"type\":\"object\",\"name\":\"UnionRenderers\",\"id\":\"11620926-9e8d-4df6-b2bf-872ca4744a44\"},\"data\":{\"type\":\"map\",\"entries\":[[\"x\",{\"type\":\"ndarray\",\"array\":{\"type\":\"bytes\",\"data\":\"H4sIAAEAAAAC/wEwA8/8AAAAAAAAAADrvfWM741YPxaIejvbThRAkDt6rBgzGkDr1H4L8QofQJMLmb/4siFAzV09x/e6I0C5qbvhZaklQM9QHYMHhSdAs+fsKx9SKUC8r+JnjhMrQCzZKFJiyyxAWuOzsR97LkC9bw6D9xEwQDyAztpb4zBAydLN2xiyMUAmGB3HeH4yQLG5+kG4SDNApEJ/SgkRNEBiuDhnldc0QNCW9UR/nDVA4Zgm9ONfNkD1TPnc2yE3QPtFkn974jdAH0B9C9ShOED1sz3Y8185QDkLesbmHDpAfXy0h7bYOkAoMfTpapM7QAi+kwEKTTxA3Y1vWJgFPUD8J9YOGb09QBOkJfeNcz5AzOr5q/coP0AGSZehVd0/QFu0mhlTSEBAIQdaVnOhQECscIyoCfpAQJkJ5q4TUkFAnQm8hY6pQUAj3BzGdgBCQM7UpYPIVkJAFXUrSX+sQkBWTRwUlgFDQPaKoU4HVkNAKzaCyMypQ0Agf6uu3/xDQJ6JU4E4T0RAJ/u8CM+gREDZGn5HmvFEQAtOlGmQQUVAnWOqtqaQRUDZHL990d5FQDojhP8DLEZAY2OiYDB4RkCrb41uR8NGQCBFbog4DUdA0LtFovFVR0AmOB7yXp1HQLS1JNFq40dAl3x1fv0nSEB6RNj3/GpIQO4u1o9MrEhAhG4+xczrSEAPoTvXWilJQIw4RVvQZElArDV8zgKeSUB3yc4Kw9RJQA99pJ3cCEpAwZ9uGhU6SkBfosZGK2hKQGwPQBHWkkpAVRmUdsO5SkChJ5Ihl9xKQN2qXN7o+kpAqmIrsEIUS0B3c5+rHihLQAlof03kNUtAVp3FX+U8S0CuQUROWjxLQGv8hLtdM0tA6hbHVecgS0Cmv9+cxQNLQM9YG5KW2kpAbU/ZHL+jSkDmdscMYV1KQIkNQolPBUpAOf+AGQKZSUBcS3aBhhVJQFoOZ+9xd0hAHQjxftK6R0DPbjKdIttGQCZ3WdU+00VAdMKL112dREAhmIRoADNDQNdoQku7jEFAFscUKvVCP0B8EMoPScg6QP4DS911dzVAsoPwOPWGLUCI1WseDzdyPwAAAAAAAAAA97WJMTADAAA=\"},\"shape\":[102],\"dtype\":\"float64\",\"order\":\"little\"}],[\"y\",{\"type\":\"ndarray\",\"array\":{\"type\":\"bytes\",\"data\":\"H4sIAAEAAAAC/x3Fe1ALAAAH4LwqO0SskFfRQxibGkubX6vWXtl7qp26FJFOHjMdIbNbl96nXXWqk8jIxXWsXOTRw3tRqXBlUfKYJl2MOXN8/3zWgzE8s6svAmKv/h82F7JB7wd+SapbBsMfUYHtNk7XCiR0kAZmJ69CampeW5+dBIbjjxed3DVo7qp+0EAkg1Mlbyw3kdG+17FWXUOBDIYzSaq1eD1j+yl+SADi+4ha8rRADNe0prn1BCLl0IFdtkoqvrG9Y00p65Dm/kLYum49/gxpQi9NpEFzLYCa/5QGwolBP2VJEApERR7RCRvgtiRsBoMUjLKRMYelP4PhdatqzKmFDn225L05jwFSzKSXz6M3Iqbo5TaFK1B2mPzm6UHAtDUrCn2AF3fgeR0zBNvJNJ63PgT6uYUtxdOZMNs/0An7mSANoz69l4l9xpI1Fnoorl3/ejG+KhTWMvbSLucwBGnOlLF2h+HILivxRmcY7oiF+Sto4ZgUpHeuqAgHy9NBPXMyC1nOUTb1ThaeWK4ox40suPQ4jSQFREDcFJf0qjQCuvP1Jr49Ar05LjG3E9nwUCZ1kh+xEau4zT+3moNKpnubm46DweWpG7N+ceA7636DLY6LZOsiyu5WLi6/UdWY/HmwtBmXSQp4oNT6VLSO83BAd9R9vYKPhvTugkt3+LAlkAgLfSLB4GlP5GdH4jil//eE0Ui0zKOqlPJNcJqQZ3nfuAncD0M7oj0FyG2nv32sFeCZQadgmAUgtKuSe/2EqLnndaFQIQTfYHzHzRNi5OKhJZPvClFQ7rPl1pgQ5MKOUpWPCB2ao92ro0VQpvnP/pgtAjGlW3C2SQRDnDpHMSpClIT0cM4yMX6xXk0xysU4HaRlZmaJEUyiHMNNMfo9+xt/joiRQTxprfOUwGsqNTBFKsG93wN7vTMlSPyaW9t/QwLHQdrnYrME1T1DvqLFUrAfFyYSxFJ8aqJXNmukyKn72JdeL8XKat186icpjKUhmy0LZNiT++WUXiCD6/HSZ/FqGeqU4dM9rssg3THK6RqW4buiXJs7X44SAaeZFSkHLXTcbj8mh8M/GXL8BRYav8kwAwAA\"},\"shape\":[102],\"dtype\":\"float64\",\"order\":\"little\"}],[\"v\",[\"M1 = 5\",\"M1 = 5\",\"M1 = 5\",\"M1 = 5\",\"M1 = 5\",\"M1 = 5\",\"M1 = 5\",\"M1 = 5\",\"M1 = 5\",\"M1 = 5\",\"M1 = 5\",\"M1 = 5\",\"M1 = 5\",\"M1 = 5\",\"M1 = 5\",\"M1 = 5\",\"M1 = 5\",\"M1 = 5\",\"M1 = 5\",\"M1 = 5\",\"M1 = 5\",\"M1 = 5\",\"M1 = 5\",\"M1 = 5\",\"M1 = 5\",\"M1 = 5\",\"M1 = 5\",\"M1 = 5\",\"M1 = 5\",\"M1 = 5\",\"M1 = 5\",\"M1 = 5\",\"M1 = 5\",\"M1 = 5\",\"M1 = 5\",\"M1 = 5\",\"M1 = 5\",\"M1 = 5\",\"M1 = 5\",\"M1 = 5\",\"M1 = 5\",\"M1 = 5\",\"M1 = 5\",\"M1 = 5\",\"M1 = 5\",\"M1 = 5\",\"M1 = 5\",\"M1 = 5\",\"M1 = 5\",\"M1 = 5\",\"M1 = 5\",\"M1 = 5\",\"M1 = 5\",\"M1 = 5\",\"M1 = 5\",\"M1 = 5\",\"M1 = 5\",\"M1 = 5\",\"M1 = 5\",\"M1 = 5\",\"M1 = 5\",\"M1 = 5\",\"M1 = 5\",\"M1 = 5\",\"M1 = 5\",\"M1 = 5\",\"M1 = 5\",\"M1 = 5\",\"M1 = 5\",\"M1 = 5\",\"M1 = 5\",\"M1 = 5\",\"M1 = 5\",\"M1 = 5\",\"M1 = 5\",\"M1 = 5\",\"M1 = 5\",\"M1 = 5\",\"M1 = 5\",\"M1 = 5\",\"M1 = 5\",\"M1 = 5\",\"M1 = 5\",\"M1 = 5\",\"M1 = 5\",\"M1 = 5\",\"M1 = 5\",\"M1 = 5\",\"M1 = 5\",\"M1 = 5\",\"M1 = 5\",\"M1 = 5\",\"M1 = 5\",\"M1 = 5\",\"M1 = 5\",\"M1 = 5\",\"M1 = 5\",\"M1 = 5\",\"M1 = 5\",\"M1 = 5\",\"M1 = 5\",\"M1 = 5\"]],[\"r\",{\"type\":\"ndarray\",\"array\":[\"weak\",\"weak\",\"weak\",\"weak\",\"weak\",\"weak\",\"weak\",\"weak\",\"weak\",\"weak\",\"weak\",\"weak\",\"weak\",\"weak\",\"weak\",\"weak\",\"weak\",\"weak\",\"weak\",\"weak\",\"weak\",\"weak\",\"weak\",\"weak\",\"weak\",\"weak\",\"weak\",\"weak\",\"weak\",\"weak\",\"weak\",\"weak\",\"weak\",\"weak\",\"weak\",\"weak\",\"weak\",\"weak\",\"weak\",\"weak\",\"weak\",\"weak\",\"weak\",\"weak\",\"weak\",\"weak\",\"weak\",\"weak\",\"weak\",\"weak\",\"weak\",\"weak\",\"weak\",\"weak\",\"weak\",\"weak\",\"weak\",\"weak\",\"weak\",\"weak\",\"weak\",\"weak\",\"weak\",\"weak\",\"weak\",\"weak\",\"weak\",\"weak\",\"weak\",\"weak\",\"weak\",\"weak\",\"weak\",\"weak\",\"weak\",\"weak\",\"weak\",\"weak\",\"weak\",\"strong\",\"strong\",\"strong\",\"strong\",\"strong\",\"strong\",\"strong\",\"strong\",\"strong\",\"strong\",\"strong\",\"strong\",\"strong\",\"strong\",\"strong\",\"strong\",\"strong\",\"strong\",\"strong\",\"strong\",\"strong\",\"strong\",\"strong\"],\"shape\":[102],\"dtype\":\"object\",\"order\":\"little\"}]]}}},\"view\":{\"type\":\"object\",\"name\":\"CDSView\",\"id\":\"93e78046-5062-45e9-80c9-392c06b54879\",\"attributes\":{\"filter\":{\"type\":\"object\",\"name\":\"AllIndices\",\"id\":\"1ce977cd-4dfe-41fb-af97-dc11326d1509\"}}},\"glyph\":{\"type\":\"object\",\"name\":\"Line\",\"id\":\"47bd7a50-eff2-4056-9f69-b918f1b2dca1\",\"attributes\":{\"x\":{\"type\":\"field\",\"field\":\"x\"},\"y\":{\"type\":\"field\",\"field\":\"y\"},\"line_color\":\"#8c564b\",\"line_width\":2}},\"nonselection_glyph\":{\"type\":\"object\",\"name\":\"Line\",\"id\":\"4175bf3e-3e5b-45d4-8c17-e3350a53af77\",\"attributes\":{\"x\":{\"type\":\"field\",\"field\":\"x\"},\"y\":{\"type\":\"field\",\"field\":\"y\"},\"line_color\":\"#8c564b\",\"line_alpha\":0.1,\"line_width\":2}},\"muted_glyph\":{\"type\":\"object\",\"name\":\"Line\",\"id\":\"edb0cde1-9ebb-435d-8b24-7fa0e343f22e\",\"attributes\":{\"x\":{\"type\":\"field\",\"field\":\"x\"},\"y\":{\"type\":\"field\",\"field\":\"y\"},\"line_color\":\"#8c564b\",\"line_alpha\":0.2,\"line_width\":2}}}},{\"type\":\"object\",\"name\":\"GlyphRenderer\",\"id\":\"a19bb698-7a7e-4328-b166-bdfcd5445501\",\"attributes\":{\"data_source\":{\"type\":\"object\",\"name\":\"ColumnDataSource\",\"id\":\"37f289b6-eb28-4b19-be8e-42e3ac8debc6\",\"attributes\":{\"selected\":{\"type\":\"object\",\"name\":\"Selection\",\"id\":\"4d8f4eea-ffe8-4ccb-88f0-894d3ce045f3\",\"attributes\":{\"indices\":[],\"line_indices\":[]}},\"selection_policy\":{\"type\":\"object\",\"name\":\"UnionRenderers\",\"id\":\"e10d3fff-ae2f-4d5e-89a1-f0a1c4f26f04\"},\"data\":{\"type\":\"map\",\"entries\":[[\"x\",{\"type\":\"ndarray\",\"array\":{\"type\":\"bytes\",\"data\":\"H4sIAAEAAAAC/wEwA8/8AAAAAAAAAABpzhSEqzmjPkAXm8e3neo/uzf4W4+d+j8HnvHz+PUDQIe3iW7tnApAqFziV8ihEEDz/HAO5/QTQBge/nLIRxdAbeXz/WGaGkAzJ+ECqewdQCzcsFRJnyBAWtM79QlIIkBLFiHDkPAjQEMIwv/XmCVAeA+QytlAJ0B56TIekOgoQDldpMv0jypAYXG0dgE3LECe8D2Sr90tQD+v0Fv4gy9Arf2Pa+qUMEBrz5XknmcxQB9VjdkVOjJAgp5fZksMM0ACF4d+O94zQDv/Mu3hrzRAN04bTTqBNUC7SwIIQFI2QEm3DFLuIjdAXCyOJUDzN0AbKH8+MMM4QNa4kxW5kjlAhtno2tRhOkApUz1wfTA7QOarqWKs/jtAgC3J41rMPECHV0TCgZk9QCEgq2EZZj5AdC2LsRkyP0Bypqsjev0/QHmnqtAYZEBAZCTFPxvJQEB5ewY5vy1BQNeFiD7/kUFAxlW1ctX1QUBLkYePO1lCQFKD3dwqvEJAiB+rJZweQ0DJfv+rh4BDQHdFphvl4UNAf6I3e6tCREAnCF8b0aJEQDPFF4RLAkVAwgiUXw9hRUBZSHZiEL9FQNkU9jBBHEZAO7x3QJN4RkAhTQm19tNGQLMxIDpaLkdAFcJV2qqHR0BvBt+5099HQA45jva9NkhAp6aLP1CMSEDmg1DCbuBIQOfvYKL6MklAFlXZg9GDSUByiDYuzdJJQAY3N/jCH0pAQufyFoNqSkB6yL7e17JKQJKiWr2E+EpAAXPnPEU7S0BtS6uty3pLQJ5YCH6/tktAylcdXrvuS0BVKgfvSiJMQGSD4efnUExAaQjBo/Z5TEAMIsrhwZxMQK+ujW51uExAYNqXlBfMTECF9m7dgNZMQLSOXLdR1kxAQu8VXeXJTECV4AQ+Qa9MQPgpmvT/g0xAQbfbmzZFTEBT5ekJU+9LQFNM5ZLxfUtAuBlsFanrSkBHqmrUzDFKQKKpCikmSElA9uiAWqskSEDVv7UXPrtGQJ8wH6V4/URAj2GIyWbaQkCmgOJCOj1AQEAav0wtDTpAwx2usm3QMUCB703H9H9yPwAAAAAAAAAAxMu6HzADAAA=\"},\"shape\":[102],\"dtype\":\"float64\",\"order\":\"little\"}],[\"y\",{\"type\":\"ndarray\",\"array\":{\"type\":\"bytes\",\"data\":\"H4sIAAEAAAAC/xXSbUgUQRzH8bWshFJ7wNZLKrVEz3DTU7M0z5+nc+qd6T0qlIsEWUmHWG0WBXVvelw1C0qsXtT1YJmFhQVeYmFpIJRsVlZiUgquldKT0AN6/Zs3w+wwn/nCzvWWo7ObOyv0A2PHh47O36Vfsix2kvHjGWlnNcOMn8poDeotk5RZMNsWvGN8IL71aBtlYSHav5g2S0oIjgW5wkRJA3t8zSvGL0Wwtj+HF8Mx2TZ6RRYiMWD65cdxK/FoIKBUUqJwzaVpVz3RqJ7SakRJi521qVUKW4Xi5eY+xschvWVTvFcVcCr8vpEX4+Ffrt+jsATsvdN9WRZ0+PS74AXjEyEa+jmOS0LvidLVXjUJhr5RUVKScS+sslrwrkHMll9e1ZOC883uMY+8FkGTAaGitA7u9FPkpuLHYQ25adj6/BK56/F2cSy56cgvvUuuHg8bU8nVQ/e1k9wM2C5E0Tmg+lE5rYGukVuSwjIxHfBdFryZWBu3hhwDdlr3070G3NzToTA+CyMNM+j+LCzrMJKbjeKPJ3hRykbd7F7Bq2ajJ3YRuQwzC4vJZUjffZ4mI6rqh8g1ouXBCnJzMDa0jdwcRPo3k5uLkpivqkfOxZn8JHLz0Fu5j9w8BJxpJzcPmW0cuSYcGMwm14RWv+PkmjER9YxcM6JNC8jNx+YKJ7n5OHe6gdwN6Ls/SO4GBA5EkFsAo6+M3AK4VzSRW4C2nAnGi4X4sUNHbiFCctO8aqQFuo2D9N2CQtchhdVb4DoYQfsWHKt7rHrmWnHVQ8+IWdHZOofj3Fa8775BHVb8fWPmxZ9WhH4e98iCDclTJwXvdhuswTrqsqEi4iXjB22QE+mZ8HY0MvqNVjueFNO2bMeH8hJJ6bJj+sC0z+ezY0ntRVlIdSDlooG6HXDcHfHItx2ofHKE+h2oeR1DvU40qT3U68TTPy7qdWJ4XjD1OsEtv0O9RViaYKfeIqzLmvT5DhWB+z/cRfgH7XFC2zADAAA=\"},\"shape\":[102],\"dtype\":\"float64\",\"order\":\"little\"}],[\"v\",[\"M1 = \\u221e\",\"M1 = \\u221e\",\"M1 = \\u221e\",\"M1 = \\u221e\",\"M1 = \\u221e\",\"M1 = \\u221e\",\"M1 = \\u221e\",\"M1 = \\u221e\",\"M1 = \\u221e\",\"M1 = \\u221e\",\"M1 = \\u221e\",\"M1 = \\u221e\",\"M1 = \\u221e\",\"M1 = \\u221e\",\"M1 = \\u221e\",\"M1 = \\u221e\",\"M1 = \\u221e\",\"M1 = \\u221e\",\"M1 = \\u221e\",\"M1 = \\u221e\",\"M1 = \\u221e\",\"M1 = \\u221e\",\"M1 = \\u221e\",\"M1 = \\u221e\",\"M1 = \\u221e\",\"M1 = \\u221e\",\"M1 = \\u221e\",\"M1 = \\u221e\",\"M1 = \\u221e\",\"M1 = \\u221e\",\"M1 = \\u221e\",\"M1 = \\u221e\",\"M1 = \\u221e\",\"M1 = \\u221e\",\"M1 = \\u221e\",\"M1 = \\u221e\",\"M1 = \\u221e\",\"M1 = \\u221e\",\"M1 = \\u221e\",\"M1 = \\u221e\",\"M1 = \\u221e\",\"M1 = \\u221e\",\"M1 = \\u221e\",\"M1 = \\u221e\",\"M1 = \\u221e\",\"M1 = \\u221e\",\"M1 = \\u221e\",\"M1 = \\u221e\",\"M1 = \\u221e\",\"M1 = \\u221e\",\"M1 = \\u221e\",\"M1 = \\u221e\",\"M1 = \\u221e\",\"M1 = \\u221e\",\"M1 = \\u221e\",\"M1 = \\u221e\",\"M1 = \\u221e\",\"M1 = \\u221e\",\"M1 = \\u221e\",\"M1 = \\u221e\",\"M1 = \\u221e\",\"M1 = \\u221e\",\"M1 = \\u221e\",\"M1 = \\u221e\",\"M1 = \\u221e\",\"M1 = \\u221e\",\"M1 = \\u221e\",\"M1 = \\u221e\",\"M1 = \\u221e\",\"M1 = \\u221e\",\"M1 = \\u221e\",\"M1 = \\u221e\",\"M1 = \\u221e\",\"M1 = \\u221e\",\"M1 = \\u221e\",\"M1 = \\u221e\",\"M1 = \\u221e\",\"M1 = \\u221e\",\"M1 = \\u221e\",\"M1 = \\u221e\",\"M1 = \\u221e\",\"M1 = \\u221e\",\"M1 = \\u221e\",\"M1 = \\u221e\",\"M1 = \\u221e\",\"M1 = \\u221e\",\"M1 = \\u221e\",\"M1 = \\u221e\",\"M1 = \\u221e\",\"M1 = \\u221e\",\"M1 = \\u221e\",\"M1 = \\u221e\",\"M1 = \\u221e\",\"M1 = \\u221e\",\"M1 = \\u221e\",\"M1 = \\u221e\",\"M1 = \\u221e\",\"M1 = \\u221e\",\"M1 = \\u221e\",\"M1 = \\u221e\",\"M1 = \\u221e\",\"M1 = \\u221e\"]],[\"r\",{\"type\":\"ndarray\",\"array\":[\"weak\",\"weak\",\"weak\",\"weak\",\"weak\",\"weak\",\"weak\",\"weak\",\"weak\",\"weak\",\"weak\",\"weak\",\"weak\",\"weak\",\"weak\",\"weak\",\"weak\",\"weak\",\"weak\",\"weak\",\"weak\",\"weak\",\"weak\",\"weak\",\"weak\",\"weak\",\"weak\",\"weak\",\"weak\",\"weak\",\"weak\",\"weak\",\"weak\",\"weak\",\"weak\",\"weak\",\"weak\",\"weak\",\"weak\",\"weak\",\"weak\",\"weak\",\"weak\",\"weak\",\"weak\",\"weak\",\"weak\",\"weak\",\"weak\",\"weak\",\"weak\",\"weak\",\"weak\",\"weak\",\"weak\",\"weak\",\"weak\",\"weak\",\"weak\",\"weak\",\"weak\",\"weak\",\"weak\",\"weak\",\"weak\",\"weak\",\"weak\",\"weak\",\"weak\",\"weak\",\"weak\",\"weak\",\"weak\",\"weak\",\"weak\",\"weak\",\"weak\",\"weak\",\"weak\",\"weak\",\"weak\",\"weak\",\"weak\",\"strong\",\"strong\",\"strong\",\"strong\",\"strong\",\"strong\",\"strong\",\"strong\",\"strong\",\"strong\",\"strong\",\"strong\",\"strong\",\"strong\",\"strong\",\"strong\",\"strong\",\"strong\",\"strong\"],\"shape\":[102],\"dtype\":\"object\",\"order\":\"little\"}]]}}},\"view\":{\"type\":\"object\",\"name\":\"CDSView\",\"id\":\"f42b089c-8b0e-446f-a586-3ca7f6fee4c3\",\"attributes\":{\"filter\":{\"type\":\"object\",\"name\":\"AllIndices\",\"id\":\"7dde018d-c5a3-483d-9dcf-9707ff740409\"}}},\"glyph\":{\"type\":\"object\",\"name\":\"Line\",\"id\":\"6db25f81-8cc1-4805-b420-dc9546eb75a2\",\"attributes\":{\"x\":{\"type\":\"field\",\"field\":\"x\"},\"y\":{\"type\":\"field\",\"field\":\"y\"},\"line_color\":\"#e377c2\",\"line_width\":2}},\"nonselection_glyph\":{\"type\":\"object\",\"name\":\"Line\",\"id\":\"1893e778-4206-4dc5-86a8-5d29c42ce188\",\"attributes\":{\"x\":{\"type\":\"field\",\"field\":\"x\"},\"y\":{\"type\":\"field\",\"field\":\"y\"},\"line_color\":\"#e377c2\",\"line_alpha\":0.1,\"line_width\":2}},\"muted_glyph\":{\"type\":\"object\",\"name\":\"Line\",\"id\":\"f71c0c4c-aad8-4f09-a0d8-9c14512de406\",\"attributes\":{\"x\":{\"type\":\"field\",\"field\":\"x\"},\"y\":{\"type\":\"field\",\"field\":\"y\"},\"line_color\":\"#e377c2\",\"line_alpha\":0.2,\"line_width\":2}}}},{\"type\":\"object\",\"name\":\"GlyphRenderer\",\"id\":\"62025bde-0537-4704-a6e5-774ff8eacc54\",\"attributes\":{\"data_source\":{\"type\":\"object\",\"name\":\"ColumnDataSource\",\"id\":\"e619a30d-ebcb-4bd1-a372-c83e6f80c23b\",\"attributes\":{\"selected\":{\"type\":\"object\",\"name\":\"Selection\",\"id\":\"9a39f55e-56c1-4c35-8251-35ef15614074\",\"attributes\":{\"indices\":[],\"line_indices\":[]}},\"selection_policy\":{\"type\":\"object\",\"name\":\"UnionRenderers\",\"id\":\"a180a7b6-d8d3-4123-b5a8-699ec445b5cf\"},\"data\":{\"type\":\"map\",\"entries\":[[\"x\",{\"type\":\"ndarray\",\"array\":{\"type\":\"bytes\",\"data\":\"H4sIAAEAAAAC/wF4Aof9AAAAAAAAAABR1kVL3U32P85vvrG8n/s/hlsSg0UhAEBXv6Pupj0CQAZ9aICYNgRA7S0Ks4AWBkDv78F1IuQHQFQppBwwpAlAqtWVxxdaC0C2O8TYcwgNQOMo9ZhOsQ5A3dWhRSYrEEDA1NndY/wQQJLO2obxzBFAdTflg0udEkAd1czm3W0TQLDI/tEHPxRAJga5XB4RFUDcNjhibuQVQM5syiU+uRZApSElkc6PF0A5epofXGgYQERYLdQfQxlAIrFyhE8gGkAIVozXHgAbQBCZrEu/4htAG4Ywz2DIHEB1qv0MMrEdQPuKOYZgnR5AHqRWFBmNH0B1wdvdQ0AgQDLcGhnsuyBAj+cr3Jo5IUAiyVewZbkhQAenax9iOyJAHTYfjaW/IkBuFOuFRUYjQOtn2o1XzyNAqky+NfFaJEBbuBBCKOkkQL+rlmISeiVAPPYFj8UNJkCf/OHBV6QmQMyMkwXfPSdA14Uwn3HaJ0DzJye2JXooQNiO2q4RHSlA7WcW20vDKUCAHmTI9B4rQJzF9iorpC1AxY51W6LzL0CrYorpGQwxQFyoi56uDDJARwJ2Qkf+MkBqJdkl71A0QKolk+6FizVAKk97tMCxNkCIqxucaMY3QHusTDumyzhAhxTMSjHDOUAgTiKbba46QMqslgKBjjtARMOiM2FkPEAhayqy3TA9QBGdUGX0nj9Ab4IdGKjfQEDGgDylqM9BQF9Dg7tppEJADKOK6sdhQ0Bq8IJZFxRGQJpuRtzCt0dAVBqXCszGSEAceA131n5JQN60W54JAUpAFfuHgU5gSkDBOnKDAp5LQD+Ny+CnC0xAprfFwMYMTEB7tlHqeAIAAA==\"},\"shape\":[79],\"dtype\":\"float64\",\"order\":\"little\"}],[\"y\",{\"type\":\"ndarray\",\"array\":{\"type\":\"bytes\",\"data\":\"H4sIAAEAAAAC/w3ObyzUcQDH8Wuctig94CbSrs3W5L+WodQHY8vq7vf7fb+/E2VT1z1wlhyLqS5mO5zmQaEozRSN8+dw2Zg/uantLP8dc8qUstXMqS7iKHk/eT19CwR7FcjQphVa7S4yRJ/bcrj/k0fkaOcNjYXHglzs1jbEQ6NWsrF6Hqq+UG7+GY9m07G3AVoePWWOVQdzebxW0wmZgseTkf0bVsKDs19RGGN4PF1xrekP4bF8wd17Vsxjf+RN/a4rD9k7+2zwLsW+QHX2NStFtSg9r3SBwpI22dcwQrH50Gm4tZfC9rHd+FxHUWQzJKiqKUq7mds+JRTq5qgOQw5FPmse9FJQnJfp9EmEghvyeK+MplDVsTUXgygC5L1fdo5SGORJlXkHKOobRLODfwiGyse3Jr4SeMwIChsnCRb9hd7xAwQjR6YaGnUEY9s+PuOPCcpMotHuQgKvaRdHRQZBWIrg6nQSweVWUbVDHEFxtaZzPYigJGHQ3ORJoMV3uVhIMGcu+pe0xiH4VW5BooVDcpePk+cQh/oV69qLFg6COzPLtkoO07Xch0P5HC49Knd3YDgYtSlus9ssFCX1J291ski1+R3uUbFYMegsEeEs4n7X9c85shAq55eyjAxYfmpruJhBzhlpbqyMQdO2LPSlHwO7rc3P6sQgJDCntH1Mih8ktSyzSoq/8pj03TQpKujdU8oYKd48KNQviqUI99cejzJLEHK9ns/US2DpPlvk2iAB3Ym2CFskuNeR1SgekMBZVJv8mZNiY1HjLF6SIiLgNPfpBIN1le98OsMg33NhtSKDwWa2d1iqhsFqe3N81szeV1Sxb9ovBt8STaauPf8Dr5BosHgCAAA=\"},\"shape\":[79],\"dtype\":\"float64\",\"order\":\"little\"}]]}}},\"view\":{\"type\":\"object\",\"name\":\"CDSView\",\"id\":\"926a7a71-8358-439e-bf33-edacc34b6ebe\",\"attributes\":{\"filter\":{\"type\":\"object\",\"name\":\"AllIndices\",\"id\":\"32d8fbc2-73cf-40b0-956c-fde67136abfe\"}}},\"glyph\":{\"type\":\"object\",\"name\":\"Line\",\"id\":\"2ac7012b-99b6-4eca-8c07-465a3ea7943b\",\"attributes\":{\"x\":{\"type\":\"field\",\"field\":\"x\"},\"y\":{\"type\":\"field\",\"field\":\"y\"},\"line_color\":\"#000000\",\"line_dash\":[2,4]}},\"nonselection_glyph\":{\"type\":\"object\",\"name\":\"Line\",\"id\":\"1ca3c35c-f327-4e80-b70e-f99d3284f670\",\"attributes\":{\"x\":{\"type\":\"field\",\"field\":\"x\"},\"y\":{\"type\":\"field\",\"field\":\"y\"},\"line_color\":\"#000000\",\"line_alpha\":0.1,\"line_dash\":[2,4]}},\"muted_glyph\":{\"type\":\"object\",\"name\":\"Line\",\"id\":\"6d8cc453-c882-4cd4-8068-f39e5050deb4\",\"attributes\":{\"x\":{\"type\":\"field\",\"field\":\"x\"},\"y\":{\"type\":\"field\",\"field\":\"y\"},\"line_color\":\"#000000\",\"line_alpha\":0.2,\"line_dash\":[2,4]}}}},{\"type\":\"object\",\"name\":\"GlyphRenderer\",\"id\":\"f23f29f0-9de2-47c6-b403-f4e53f6ad1e3\",\"attributes\":{\"data_source\":{\"type\":\"object\",\"name\":\"ColumnDataSource\",\"id\":\"39b66247-d951-4504-807e-407ac848e53e\",\"attributes\":{\"selected\":{\"type\":\"object\",\"name\":\"Selection\",\"id\":\"4170e80b-712c-4825-bfaa-1eb691e0e858\",\"attributes\":{\"indices\":[],\"line_indices\":[]}},\"selection_policy\":{\"type\":\"object\",\"name\":\"UnionRenderers\",\"id\":\"188f34d3-6574-42fc-be09-95e36c5885f2\"},\"data\":{\"type\":\"map\",\"entries\":[[\"x\",{\"type\":\"ndarray\",\"array\":{\"type\":\"bytes\",\"data\":\"H4sIAAEAAAAC/wHYACf/AAAAAAAAAAB5AH/BIervP0V/QH5NygFAC04DLpAXCUCNvKPhKbsbQNcdYbc+fiNA+ISwS1MEJ0BG19hachMqQMZNZ7VGGy5AU86cqe/WMEBilLb4P3gzQIiPSOWmyTVAZs9JedveN0ChNCqlacM5QKW7iZ3vfjtAoGGMw+oWPUDv1K0Iko8+QBgaGCz1l0BA3EpsE189QkB6TcECIFhEQCDFATYe5EVA3g0tznqrSEAmB9LLs2RKQMAaSw+jPUtAxVQE3/5tTEBl388Dw9ZMQAeDPvjU10xAE6Ml0NgAAAA=\"},\"shape\":[27],\"dtype\":\"float64\",\"order\":\"little\"}],[\"y\",{\"type\":\"ndarray\",\"array\":{\"type\":\"bytes\",\"data\":\"H4sIAAEAAAAC/wHYACf/AAAAAACAVkAHX1L5HTNWQIMYYSqT1FVAc+JtHnGOVUA9tpwlnXNUQMYp1y6GtVNAbVmY7xRLU0BT6aCMjvdSQIYXhFB2llJAD8MipnlMUkAUUjpM3fJRQGslaVsotVFAW507aO+JUUC/MgPmnGtRQOMafv2bVlFAw37RdH5IUUDu75iejj9RQHM7OK+NOFFAtGUCAmE+UUA+cEmPqVpRQCix+hOrfFFAycfoL2HSUUBgEXzNnRVSQJPwo/k1OlJAVXVDbSxxUkB9qum0BIVSQB1TWjA5hVJAbU5PKNgAAAA=\"},\"shape\":[27],\"dtype\":\"float64\",\"order\":\"little\"}],[\"v\",[\"\",\"\",\"\",\"\",\"\",\"\",\"\",\"\",\"\",\"\",\"\",\"\",\"\",\"\",\"\",\"\",\"\",\"\",\"\",\"\",\"\",\"\",\"\",\"\",\"\",\"\",\"\"]]]}}},\"view\":{\"type\":\"object\",\"name\":\"CDSView\",\"id\":\"86f534bc-f2ff-4f60-9b31-6cf0e1bd8da0\",\"attributes\":{\"filter\":{\"type\":\"object\",\"name\":\"AllIndices\",\"id\":\"31380584-1936-4b92-9c26-63348835685a\"}}},\"glyph\":{\"type\":\"object\",\"name\":\"Line\",\"id\":\"3648bd01-ca25-45b7-bbfd-98a5c62681f4\",\"attributes\":{\"x\":{\"type\":\"field\",\"field\":\"x\"},\"y\":{\"type\":\"field\",\"field\":\"y\"},\"line_color\":\"#000000\",\"line_dash\":[6]}},\"nonselection_glyph\":{\"type\":\"object\",\"name\":\"Line\",\"id\":\"5701568c-fc20-415c-81d6-a7e3927ae177\",\"attributes\":{\"x\":{\"type\":\"field\",\"field\":\"x\"},\"y\":{\"type\":\"field\",\"field\":\"y\"},\"line_color\":\"#000000\",\"line_alpha\":0.1,\"line_dash\":[6]}},\"muted_glyph\":{\"type\":\"object\",\"name\":\"Line\",\"id\":\"a36f2785-1336-44ae-8d35-8d3965e074b8\",\"attributes\":{\"x\":{\"type\":\"field\",\"field\":\"x\"},\"y\":{\"type\":\"field\",\"field\":\"y\"},\"line_color\":\"#000000\",\"line_alpha\":0.2,\"line_dash\":[6]}}}}],\"toolbar\":{\"type\":\"object\",\"name\":\"Toolbar\",\"id\":\"683f75e3-8687-498e-b5bc-63ac9822ece2\",\"attributes\":{\"tools\":[{\"type\":\"object\",\"name\":\"PanTool\",\"id\":\"7ab34fa8-36ae-49fe-ba20-9b9663e5e5ba\"},{\"type\":\"object\",\"name\":\"WheelZoomTool\",\"id\":\"21160233-3fa5-45f6-8fd7-ca11d81d5920\",\"attributes\":{\"renderers\":\"auto\"}},{\"type\":\"object\",\"name\":\"BoxZoomTool\",\"id\":\"d5099131-b681-4bcc-a595-da03a7eb922c\",\"attributes\":{\"dimensions\":\"both\",\"overlay\":{\"type\":\"object\",\"name\":\"BoxAnnotation\",\"id\":\"2bf336f5-57ad-4bb2-bd72-dbe38e8167fc\",\"attributes\":{\"syncable\":false,\"line_color\":\"black\",\"line_alpha\":1.0,\"line_width\":2,\"line_dash\":[4,4],\"fill_color\":\"lightgrey\",\"fill_alpha\":0.5,\"level\":\"overlay\",\"visible\":false,\"left\":{\"type\":\"number\",\"value\":\"nan\"},\"right\":{\"type\":\"number\",\"value\":\"nan\"},\"top\":{\"type\":\"number\",\"value\":\"nan\"},\"bottom\":{\"type\":\"number\",\"value\":\"nan\"},\"left_units\":\"canvas\",\"right_units\":\"canvas\",\"top_units\":\"canvas\",\"bottom_units\":\"canvas\",\"handles\":{\"type\":\"object\",\"name\":\"BoxInteractionHandles\",\"id\":\"442dec6c-97dc-4a37-9e1a-4d42bd19f758\",\"attributes\":{\"all\":{\"type\":\"object\",\"name\":\"AreaVisuals\",\"id\":\"09ea5fa6-8b7a-4614-8750-c1a5d77a3a26\",\"attributes\":{\"fill_color\":\"white\",\"hover_fill_color\":\"lightgray\"}}}}}}}},{\"type\":\"object\",\"name\":\"SaveTool\",\"id\":\"8f79b32d-5db1-4d1a-a874-c3dd2baedec2\"},{\"type\":\"object\",\"name\":\"ResetTool\",\"id\":\"19dd5984-9241-42fb-b4c1-99dbcede1d6b\"},{\"type\":\"object\",\"name\":\"HelpTool\",\"id\":\"ace56f06-78c9-48d7-87a4-a91586a25812\"},{\"type\":\"object\",\"name\":\"HoverTool\",\"id\":\"33a02fb6-5fa8-4208-8bb1-2ac388e8ecea\",\"attributes\":{\"renderers\":[{\"id\":\"3dfad817-25f4-40e1-a82b-8271fd96ea3b\"}],\"tooltips\":[[\"Variable\",\"@v\"],[\"\\u03b8c\",\"@x\"],[\"\\u03b2\",\"@y\"],[\"Region\",\"@r\"]],\"sort_by\":null}},{\"type\":\"object\",\"name\":\"HoverTool\",\"id\":\"5a78a788-7ef8-4357-bdf3-abd45e0bf81b\",\"attributes\":{\"renderers\":[{\"id\":\"b46e33d4-0a40-4a7b-a346-03dcfdd1d4de\"}],\"tooltips\":[[\"Variable\",\"@v\"],[\"\\u03b8c\",\"@x\"],[\"\\u03b2\",\"@y\"],[\"Region\",\"@r\"]],\"sort_by\":null}},{\"type\":\"object\",\"name\":\"HoverTool\",\"id\":\"8ef494f2-e8a8-43ff-8916-e49d3b246132\",\"attributes\":{\"renderers\":[{\"id\":\"1cc5253e-ff3d-4694-bb05-1285c8be0621\"}],\"tooltips\":[[\"Variable\",\"@v\"],[\"\\u03b8c\",\"@x\"],[\"\\u03b2\",\"@y\"],[\"Region\",\"@r\"]],\"sort_by\":null}},{\"type\":\"object\",\"name\":\"HoverTool\",\"id\":\"a1b41c66-c9cc-48b9-9a51-3ec18d5e3634\",\"attributes\":{\"renderers\":[{\"id\":\"2a073b3d-4c5d-49f8-9aa0-237a0586c83f\"}],\"tooltips\":[[\"Variable\",\"@v\"],[\"\\u03b8c\",\"@x\"],[\"\\u03b2\",\"@y\"],[\"Region\",\"@r\"]],\"sort_by\":null}},{\"type\":\"object\",\"name\":\"HoverTool\",\"id\":\"20f5630f-f80a-4e51-bfab-453a56c0f004\",\"attributes\":{\"renderers\":[{\"id\":\"0aabc109-eb70-4b0d-bde1-126e8ccb8a4b\"}],\"tooltips\":[[\"Variable\",\"@v\"],[\"\\u03b8c\",\"@x\"],[\"\\u03b2\",\"@y\"],[\"Region\",\"@r\"]],\"sort_by\":null}},{\"type\":\"object\",\"name\":\"HoverTool\",\"id\":\"3ea68f62-13b7-4e0c-b2c9-1a6b35409511\",\"attributes\":{\"renderers\":[{\"id\":\"641ed448-87c7-4f09-b547-1ae7e3e89838\"}],\"tooltips\":[[\"Variable\",\"@v\"],[\"\\u03b8c\",\"@x\"],[\"\\u03b2\",\"@y\"],[\"Region\",\"@r\"]],\"sort_by\":null}},{\"type\":\"object\",\"name\":\"HoverTool\",\"id\":\"1a6f00ce-cc9e-4659-b4de-7d88c93bdfc4\",\"attributes\":{\"renderers\":[{\"id\":\"a19bb698-7a7e-4328-b166-bdfcd5445501\"}],\"tooltips\":[[\"Variable\",\"@v\"],[\"\\u03b8c\",\"@x\"],[\"\\u03b2\",\"@y\"],[\"Region\",\"@r\"]],\"sort_by\":null}}]}},\"left\":[{\"type\":\"object\",\"name\":\"LinearAxis\",\"id\":\"b4bf36c9-e760-4bb0-a9fe-b90cbd2373df\",\"attributes\":{\"ticker\":{\"type\":\"object\",\"name\":\"BasicTicker\",\"id\":\"b5676fd1-3200-41f2-9b43-ebc9700d76b9\",\"attributes\":{\"mantissas\":[1,2,5]}},\"formatter\":{\"type\":\"object\",\"name\":\"BasicTickFormatter\",\"id\":\"2bd97fda-6bb7-4759-93cb-a1b41160a047\"},\"axis_label\":\"Shock Wave Angle, \\u03b2 [deg]\",\"major_label_policy\":{\"type\":\"object\",\"name\":\"AllLabels\",\"id\":\"7193d3ae-0d44-4867-97ce-cb4658740bff\"}}}],\"right\":[{\"type\":\"object\",\"name\":\"Legend\",\"id\":\"282b71ee-56b5-4977-a767-678bfadd9e37\",\"attributes\":{\"ncols\":1,\"click_policy\":\"hide\",\"items\":[{\"type\":\"object\",\"name\":\"LegendItem\",\"id\":\"31c1999f-0fd9-49a7-a863-38b64c1d7813\",\"attributes\":{\"label\":{\"type\":\"value\",\"value\":\"M1 = 1.05\"},\"renderers\":[{\"id\":\"3dfad817-25f4-40e1-a82b-8271fd96ea3b\"}]}},{\"type\":\"object\",\"name\":\"LegendItem\",\"id\":\"e3960289-270c-4a54-a5f7-8d2a8e133464\",\"attributes\":{\"label\":{\"type\":\"value\",\"value\":\"M1 = 1.15\"},\"renderers\":[{\"id\":\"b46e33d4-0a40-4a7b-a346-03dcfdd1d4de\"}]}},{\"type\":\"object\",\"name\":\"LegendItem\",\"id\":\"81d9eee7-1967-4f7b-b73e-4b0cfb855e0d\",\"attributes\":{\"label\":{\"type\":\"value\",\"value\":\"M1 = 1.4\"},\"renderers\":[{\"id\":\"1cc5253e-ff3d-4694-bb05-1285c8be0621\"}]}},{\"type\":\"object\",\"name\":\"LegendItem\",\"id\":\"aca5db7f-c90a-4b4c-8a83-7c6c55e2ee6b\",\"attributes\":{\"label\":{\"type\":\"value\",\"value\":\"M1 = 2\"},\"renderers\":[{\"id\":\"2a073b3d-4c5d-49f8-9aa0-237a0586c83f\"}]}},{\"type\":\"object\",\"name\":\"LegendItem\",\"id\":\"24d6c302-c959-454e-8e2f-c8aac1023781\",\"attributes\":{\"label\":{\"type\":\"value\",\"value\":\"M1 = 3\"},\"renderers\":[{\"id\":\"0aabc109-eb70-4b0d-bde1-126e8ccb8a4b\"}]}},{\"type\":\"object\",\"name\":\"LegendItem\",\"id\":\"a0d12645-47bb-49d2-b157-de5e91063450\",\"attributes\":{\"label\":{\"type\":\"value\",\"value\":\"M1 = 5\"},\"renderers\":[{\"id\":\"641ed448-87c7-4f09-b547-1ae7e3e89838\"}]}},{\"type\":\"object\",\"name\":\"LegendItem\",\"id\":\"f762160c-7294-47dd-89a8-ce80806ce0a4\",\"attributes\":{\"label\":{\"type\":\"value\",\"value\":\"M1 = \\u221e\"},\"renderers\":[{\"id\":\"a19bb698-7a7e-4328-b166-bdfcd5445501\"}]}},{\"type\":\"object\",\"name\":\"LegendItem\",\"id\":\"5f111cc8-5988-4c5d-8de8-b15e76039156\",\"attributes\":{\"label\":{\"type\":\"value\",\"value\":\"sonic line\"},\"renderers\":[{\"id\":\"62025bde-0537-4704-a6e5-774ff8eacc54\"}]}},{\"type\":\"object\",\"name\":\"LegendItem\",\"id\":\"17f1dcbd-617a-4713-8c3c-8452e03bd613\",\"attributes\":{\"label\":{\"type\":\"value\",\"value\":\"region line\"},\"renderers\":[{\"id\":\"f23f29f0-9de2-47c6-b403-f4e53f6ad1e3\"}]}}]}}],\"below\":[{\"type\":\"object\",\"name\":\"LinearAxis\",\"id\":\"4416be3d-ca64-43ac-9182-57439b9abaaa\",\"attributes\":{\"ticker\":{\"type\":\"object\",\"name\":\"BasicTicker\",\"id\":\"d6224c0b-8b3b-4ca7-a8e0-cf6756555034\",\"attributes\":{\"mantissas\":[1,2,5]}},\"formatter\":{\"type\":\"object\",\"name\":\"BasicTickFormatter\",\"id\":\"5d33177d-f0b8-48c0-9299-017dc8afa1e0\"},\"axis_label\":\"Half cone angle, \\u03b8c [deg]\",\"major_label_policy\":{\"type\":\"object\",\"name\":\"AllLabels\",\"id\":\"a73526cf-8c3d-41b6-b628-c49969a9d0c7\"}}}],\"center\":[{\"type\":\"object\",\"name\":\"Grid\",\"id\":\"3784da1a-1af1-41be-8c4f-6a88ac5b092c\",\"attributes\":{\"axis\":{\"id\":\"4416be3d-ca64-43ac-9182-57439b9abaaa\"},\"minor_grid_line_color\":\"#e5e5e5\",\"minor_grid_line_alpha\":0.75,\"minor_grid_line_dash\":[2,2]}},{\"type\":\"object\",\"name\":\"Grid\",\"id\":\"67897143-6ae2-42f5-b28e-9d239820177f\",\"attributes\":{\"dimension\":1,\"axis\":{\"id\":\"b4bf36c9-e760-4bb0-a9fe-b90cbd2373df\"},\"minor_grid_line_color\":\"#e5e5e5\",\"minor_grid_line_alpha\":0.75,\"minor_grid_line_dash\":[2,2]}},{\"type\":\"object\",\"name\":\"Legend\",\"id\":\"fd8f4eef-909f-464b-811d-22b476248288\",\"attributes\":{\"visible\":false,\"items\":[]}}]}}],\"defs\":[{\"type\":\"model\",\"name\":\"ReactiveHTML1\"},{\"type\":\"model\",\"name\":\"FlexBox1\",\"properties\":[{\"name\":\"align_content\",\"kind\":\"Any\",\"default\":\"flex-start\"},{\"name\":\"align_items\",\"kind\":\"Any\",\"default\":\"flex-start\"},{\"name\":\"flex_direction\",\"kind\":\"Any\",\"default\":\"row\"},{\"name\":\"flex_wrap\",\"kind\":\"Any\",\"default\":\"wrap\"},{\"name\":\"gap\",\"kind\":\"Any\",\"default\":\"\"},{\"name\":\"justify_content\",\"kind\":\"Any\",\"default\":\"flex-start\"}]},{\"type\":\"model\",\"name\":\"FloatPanel1\",\"properties\":[{\"name\":\"config\",\"kind\":\"Any\",\"default\":{\"type\":\"map\"}},{\"name\":\"contained\",\"kind\":\"Any\",\"default\":true},{\"name\":\"position\",\"kind\":\"Any\",\"default\":\"right-top\"},{\"name\":\"offsetx\",\"kind\":\"Any\",\"default\":null},{\"name\":\"offsety\",\"kind\":\"Any\",\"default\":null},{\"name\":\"theme\",\"kind\":\"Any\",\"default\":\"primary\"},{\"name\":\"status\",\"kind\":\"Any\",\"default\":\"normalized\"}]},{\"type\":\"model\",\"name\":\"GridStack1\",\"properties\":[{\"name\":\"ncols\",\"kind\":\"Any\",\"default\":null},{\"name\":\"nrows\",\"kind\":\"Any\",\"default\":null},{\"name\":\"allow_resize\",\"kind\":\"Any\",\"default\":true},{\"name\":\"allow_drag\",\"kind\":\"Any\",\"default\":true},{\"name\":\"state\",\"kind\":\"Any\",\"default\":[]}]},{\"type\":\"model\",\"name\":\"drag1\",\"properties\":[{\"name\":\"slider_width\",\"kind\":\"Any\",\"default\":5},{\"name\":\"slider_color\",\"kind\":\"Any\",\"default\":\"black\"},{\"name\":\"start\",\"kind\":\"Any\",\"default\":0},{\"name\":\"end\",\"kind\":\"Any\",\"default\":100},{\"name\":\"value\",\"kind\":\"Any\",\"default\":50}]},{\"type\":\"model\",\"name\":\"click1\",\"properties\":[{\"name\":\"terminal_output\",\"kind\":\"Any\",\"default\":\"\"},{\"name\":\"debug_name\",\"kind\":\"Any\",\"default\":\"\"},{\"name\":\"clears\",\"kind\":\"Any\",\"default\":0}]},{\"type\":\"model\",\"name\":\"ReactiveESM1\",\"properties\":[{\"name\":\"esm_constants\",\"kind\":\"Any\",\"default\":{\"type\":\"map\"}}]},{\"type\":\"model\",\"name\":\"JSComponent1\",\"properties\":[{\"name\":\"esm_constants\",\"kind\":\"Any\",\"default\":{\"type\":\"map\"}}]},{\"type\":\"model\",\"name\":\"ReactComponent1\",\"properties\":[{\"name\":\"use_shadow_dom\",\"kind\":\"Any\",\"default\":true},{\"name\":\"esm_constants\",\"kind\":\"Any\",\"default\":{\"type\":\"map\"}}]},{\"type\":\"model\",\"name\":\"AnyWidgetComponent1\",\"properties\":[{\"name\":\"use_shadow_dom\",\"kind\":\"Any\",\"default\":true},{\"name\":\"esm_constants\",\"kind\":\"Any\",\"default\":{\"type\":\"map\"}}]},{\"type\":\"model\",\"name\":\"FastWrapper1\",\"properties\":[{\"name\":\"object\",\"kind\":\"Any\",\"default\":null},{\"name\":\"style\",\"kind\":\"Any\",\"default\":null}]},{\"type\":\"model\",\"name\":\"NotificationArea1\",\"properties\":[{\"name\":\"js_events\",\"kind\":\"Any\",\"default\":{\"type\":\"map\"}},{\"name\":\"max_notifications\",\"kind\":\"Any\",\"default\":5},{\"name\":\"notifications\",\"kind\":\"Any\",\"default\":[]},{\"name\":\"position\",\"kind\":\"Any\",\"default\":\"bottom-right\"},{\"name\":\"_clear\",\"kind\":\"Any\",\"default\":0},{\"name\":\"types\",\"kind\":\"Any\",\"default\":[{\"type\":\"map\",\"entries\":[[\"type\",\"warning\"],[\"background\",\"#ffc107\"],[\"icon\",{\"type\":\"map\",\"entries\":[[\"className\",\"fas fa-exclamation-triangle\"],[\"tagName\",\"i\"],[\"color\",\"white\"]]}]]},{\"type\":\"map\",\"entries\":[[\"type\",\"info\"],[\"background\",\"#007bff\"],[\"icon\",{\"type\":\"map\",\"entries\":[[\"className\",\"fas fa-info-circle\"],[\"tagName\",\"i\"],[\"color\",\"white\"]]}]]}]}]},{\"type\":\"model\",\"name\":\"Notification\",\"properties\":[{\"name\":\"background\",\"kind\":\"Any\",\"default\":null},{\"name\":\"duration\",\"kind\":\"Any\",\"default\":3000},{\"name\":\"icon\",\"kind\":\"Any\",\"default\":null},{\"name\":\"message\",\"kind\":\"Any\",\"default\":\"\"},{\"name\":\"notification_type\",\"kind\":\"Any\",\"default\":null},{\"name\":\"_rendered\",\"kind\":\"Any\",\"default\":false},{\"name\":\"_destroyed\",\"kind\":\"Any\",\"default\":false}]},{\"type\":\"model\",\"name\":\"TemplateActions1\",\"properties\":[{\"name\":\"open_modal\",\"kind\":\"Any\",\"default\":0},{\"name\":\"close_modal\",\"kind\":\"Any\",\"default\":0}]},{\"type\":\"model\",\"name\":\"BootstrapTemplateActions1\",\"properties\":[{\"name\":\"open_modal\",\"kind\":\"Any\",\"default\":0},{\"name\":\"close_modal\",\"kind\":\"Any\",\"default\":0}]},{\"type\":\"model\",\"name\":\"TemplateEditor1\",\"properties\":[{\"name\":\"layout\",\"kind\":\"Any\",\"default\":[]}]},{\"type\":\"model\",\"name\":\"MaterialTemplateActions1\",\"properties\":[{\"name\":\"open_modal\",\"kind\":\"Any\",\"default\":0},{\"name\":\"close_modal\",\"kind\":\"Any\",\"default\":0}]},{\"type\":\"model\",\"name\":\"request_value1\",\"properties\":[{\"name\":\"fill\",\"kind\":\"Any\",\"default\":\"none\"},{\"name\":\"_synced\",\"kind\":\"Any\",\"default\":null},{\"name\":\"_request_sync\",\"kind\":\"Any\",\"default\":0}]}]}};\n",
       "  const render_items = [{\"docid\":\"6bb19e5c-dee7-4cf1-a981-e0d4ae0a88d4\",\"roots\":{\"918426b2-1215-43a4-a796-c574e35ae044\":\"d63b646d-99f8-4f3f-8326-0b1b5be5a373\"},\"root_ids\":[\"918426b2-1215-43a4-a796-c574e35ae044\"]}];\n",
       "  void root.Bokeh.embed.embed_items_notebook(docs_json, render_items);\n",
       "  }\n",
       "  if (root.Bokeh !== undefined) {\n",
       "    embed_document(root);\n",
       "  } else {\n",
       "    let attempts = 0;\n",
       "    const timer = setInterval(function(root) {\n",
       "      if (root.Bokeh !== undefined) {\n",
       "        clearInterval(timer);\n",
       "        embed_document(root);\n",
       "      } else {\n",
       "        attempts++;\n",
       "        if (attempts > 100) {\n",
       "          clearInterval(timer);\n",
       "          console.log(\"Bokeh: ERROR: Unable to run BokehJS code because BokehJS library is missing\");\n",
       "        }\n",
       "      }\n",
       "    }, 10, root)\n",
       "  }\n",
       "})(window);"
      ],
      "application/vnd.bokehjs_exec.v0+json": ""
     },
     "metadata": {
      "application/vnd.bokehjs_exec.v0+json": {
       "id": "918426b2-1215-43a4-a796-c574e35ae044"
      }
     },
     "output_type": "display_data"
    }
   ],
   "source": [
    "from pygasflow.interactive.diagrams import ConicalShockDiagram\n",
    "ConicalShockDiagram().show_figure()"
   ]
  },
  {
   "cell_type": "code",
   "execution_count": 25,
   "id": "a3095b29-81a3-43fa-ad3e-2fe08ffe6766",
   "metadata": {},
   "outputs": [
    {
     "data": {
      "text/plain": [
       "1.1191542916165758"
      ]
     },
     "execution_count": 25,
     "metadata": {},
     "output_type": "execute_result"
    }
   ],
   "source": [
    "from pygasflow.shockwave import max_theta_c_from_mach\n",
    "from scipy.optimize import bisect\n",
    "\n",
    "M_inf = 2\n",
    "theta_c = 15 * ureg.deg\n",
    "\n",
    "def func(M, theta_target):\n",
    "    _, theta_c_max, _ = max_theta_c_from_mach(M, gamma)\n",
    "    return theta_c_max - theta_target\n",
    "\n",
    "M = bisect(func, a=1+1e-05, b=M_inf, args=(theta_c.magnitude))\n",
    "M"
   ]
  },
  {
   "cell_type": "markdown",
   "id": "48da87ac-1245-4ea0-94e0-2d71c3f62b2a",
   "metadata": {},
   "source": [
    "Detachment happens for $M < 1.1191542916165758$."
   ]
  },
  {
   "cell_type": "markdown",
   "id": "0712650f-cccc-4424-8e15-e9e52723e218",
   "metadata": {},
   "source": [
    "### for a wedge"
   ]
  },
  {
   "cell_type": "code",
   "execution_count": 26,
   "id": "70182d50-2441-48df-a2bc-e7b132ec9da5",
   "metadata": {},
   "outputs": [
    {
     "data": {
      "text/html": [
       "\n",
       "  <div id=\"d22e2424-2144-4deb-a0cb-500b55478673\" data-root-id=\"d5edbaf3-9609-4b81-9c86-4f927988cd94\" style=\"display: contents;\"></div>\n"
      ]
     },
     "metadata": {},
     "output_type": "display_data"
    },
    {
     "data": {
      "application/javascript": [
       "(function(root) {\n",
       "  function embed_document(root) {\n",
       "  const docs_json = {\"e596efa9-b0fc-49be-8f89-49513cb1421f\":{\"version\":\"3.8.0\",\"title\":\"Bokeh Application\",\"config\":{\"type\":\"object\",\"name\":\"DocumentConfig\",\"id\":\"c7088219-c95a-49bb-b423-c895ef55cf2c\",\"attributes\":{\"notifications\":{\"type\":\"object\",\"name\":\"Notifications\",\"id\":\"8a8e2a62-4749-489f-bbb5-6fd6f5dc24aa\"}}},\"roots\":[{\"type\":\"object\",\"name\":\"Figure\",\"id\":\"d5edbaf3-9609-4b81-9c86-4f927988cd94\",\"attributes\":{\"width\":700,\"height\":400,\"x_range\":{\"type\":\"object\",\"name\":\"Range1d\",\"id\":\"8104d020-897b-4b58-80e5-330c9505b419\",\"attributes\":{\"end\":50}},\"y_range\":{\"type\":\"object\",\"name\":\"Range1d\",\"id\":\"864d1875-bd84-431a-9287-647667b96c19\",\"attributes\":{\"end\":90}},\"x_scale\":{\"type\":\"object\",\"name\":\"LinearScale\",\"id\":\"36668333-5c61-4f1c-bb5d-2932a40636c2\"},\"y_scale\":{\"type\":\"object\",\"name\":\"LinearScale\",\"id\":\"97280882-d2e5-44b0-b6b0-1ba2fb7c5930\"},\"title\":{\"type\":\"object\",\"name\":\"Title\",\"id\":\"3ff3db9a-6e68-4057-926e-59af58594a80\",\"attributes\":{\"text\":\"Oblique Shock Properties: Mach - \\u03b2 - \\u03b8\"}},\"renderers\":[{\"type\":\"object\",\"name\":\"GlyphRenderer\",\"id\":\"985bfcef-67cf-41c5-be96-b41a9cc49b4f\",\"attributes\":{\"data_source\":{\"type\":\"object\",\"name\":\"ColumnDataSource\",\"id\":\"a066b2ee-ac69-49a4-b5e8-a83812f3d962\",\"attributes\":{\"selected\":{\"type\":\"object\",\"name\":\"Selection\",\"id\":\"d7154623-07e5-485c-b408-14a2018873aa\",\"attributes\":{\"indices\":[],\"line_indices\":[]}},\"selection_policy\":{\"type\":\"object\",\"name\":\"UnionRenderers\",\"id\":\"9eeced8b-b000-414c-93e1-cce518d06281\"},\"data\":{\"type\":\"map\",\"entries\":[[\"x\",{\"type\":\"ndarray\",\"array\":{\"type\":\"bytes\",\"data\":\"H4sIAAEAAAAC/wEgA9/8AAAAAAAAAABjfEfdkC+yP9wclnPv9ME/pk7L/5SXyj+KFzxL7X/RP2/42qzxltU/oAmVC+qQ2T8+K1iq6W3dP1sRQVcCl+A/mfkZE6ho4j9JPFEH8SvkP2J9Ma3o4OU/iCTZ+5qH5z90gVprFCDpP7e/1/dhquo/HvGZJJEm7D/KXyL/r5TtPxFdNSLN9O4/i9xu3Hsj8D/LA7TAn8XwP5BrKmjaYPE/knqgSTT18T9LauEptoLyP38WHh1pCfM/aG9PiFaJ8z/BEpIiiAL0P9qOevYHdfQ/WtJhY+Dg9D/1RKkeHEb1P7YJ9jTGpPU/L+ZiC+r89T/9SKhgk072P7PrOU7OmfY/o4hZSafe9j8uHR4kKx33P7gybw5nVfc/16XzlmiH9z9pZPOrPbP3P2OdK5z02Pc/hNqUF5z49z+OgBowQxL4P1gxQ1r5Jfg/so7Jbc4z+D/z3CSm0jv4PzgIAaMWPvg/YZClaKs6+D9140pgojH4P36xXVgNI/g/SsevhP4O+D/fApZ+iPX3Pzb38kS+1vc/odotPLOy9z99XhUue4n3Pz4WrkkqW/c/uBbsItUn9z+4fleykO/2P7uem1RysvY/nnwAyo9w9j/2ds41/yn2PwbSmx3X3vU/ZQGEaC6P9T97hkheHDv1Px5HW6a44vQ/K0TSRhuG9D+fo0SjXCX0P2IIkXuVwPM/CjuN6t5X8z/hMJ9kUuvyP++FP7YJe/I/aYplAh8H8j8CC93ArI/xPzMGhrzNFPE/Tot+EZ2W8D8hBzcrNhXwPxye4oRpIe8/C4NVtmkS7j9QwOOEpf3sP5ycTxhW4+s/C1VcIbXD6j8GhAPV/J7pP75Lhedndeg/yWlUhzFH5z9UZt9XlRTmPzAoOGzP3eQ/xkObQRyj4z9ybdi5uGTiP9uHnRXiIuE/JKpL3au73z/owZ1jpCvdP/uOKTIqlto/8RLvSrr71z9dVJYx0lzVP0HC6N7vudI/JGEntJET0D9u9ILcbNTKP0813zG6fMU/fGptAwohwD/rQl2rtoS1P4GYZfG1hqU/3BVBC05fxTxDqjbtIAMAAA==\"},\"shape\":[100],\"dtype\":\"float64\",\"order\":\"little\"}],[\"y\",{\"type\":\"ndarray\",\"array\":{\"type\":\"bytes\",\"data\":\"H4sIAAEAAAAC/xXMjU/McRwH8DtONA8hLaYLR/KQuHmoTrY3ak00v8ev0ELJPOXhl8jERCnkTh7KilUi0yVE0TxWcr95locQlvzUCIuiaYyP1x/w0oceDRXCORijO2sCl3OwJIZP907gwA6XX+2XxiGuZID/7ywONodyoekUh+KGR76PL3FQf/kWXXFw0Prv8yqs46D3acnb30xP8CyPLR30RJ7KiunOg23q5sq584jbH221ePOwna509vLjUVw1JMUlhIdav1XXyXho7fVbtGU89H0sHQ828jB6H1EqdvGw4OeXgkx65ksrrIX0KKVaQjk9e/sujr7Nw35iTX3Yc3qu3WP+TfQ8H1Nr+klPa1pYbycBRudmtcNNgMUUHNToJYBNLbhxb7IARdJPvRQswBa7qDxfFmDfdc2cHiNAzR18ZmO8AO3y5lFLUgToa+sKZh+mp2XykCkn6TEcyh5aRo/xu1vPGnqmcBk/ntIzt6RXg0bP8l5pd9rpSVrZtcwgQstWt+UOEKG7OLJz9wgRxvvJ8RsmiQhoamyNDBLB/mL1LEmEMjC3eeJSETbznyjPDSLsoQvf9kgWoUZXzG87SE+i+7M3BfRkxnPqBXrOPrlbWk2Pag459oSed7aq1Pf0dH6ZprTR4zqnIqKrBLtP0aQQVwlqcI9z5uEStMhlYz0mStAl3Cp0minBmGEyfRMkBBRtP1YfJYFVvx14W5GgvA48dG6HBOuPbJecA/T0+bUn5bgEh/c8p3Wl9KAsaUEVPQtc/wTV0hO3PmF8Iz3pD9sGfafn5Li1hi4ylOt7P33tJ8Na9zHm5TAZ9taQd9VmGQ7nwoiS6TI0k+HFEV6GLjBK3LlEhod880HsehkBazxDw5NksNTEmhkZ9OS9wrh8eir8r7qfp6c2069LJT0t7aWfH9FjEH3rGujxPH+6spUePxevYh1DABebl9mXQV5xd3DSUAZlx+isVRMYrDmp/RkYii5+2AeOwXF/pvPYxQxaU36y2zoG3X/bGf4BlJW2XiADAAA=\"},\"shape\":[100],\"dtype\":\"float64\",\"order\":\"little\"}],[\"v\",[\"M1 = 1.1\",\"M1 = 1.1\",\"M1 = 1.1\",\"M1 = 1.1\",\"M1 = 1.1\",\"M1 = 1.1\",\"M1 = 1.1\",\"M1 = 1.1\",\"M1 = 1.1\",\"M1 = 1.1\",\"M1 = 1.1\",\"M1 = 1.1\",\"M1 = 1.1\",\"M1 = 1.1\",\"M1 = 1.1\",\"M1 = 1.1\",\"M1 = 1.1\",\"M1 = 1.1\",\"M1 = 1.1\",\"M1 = 1.1\",\"M1 = 1.1\",\"M1 = 1.1\",\"M1 = 1.1\",\"M1 = 1.1\",\"M1 = 1.1\",\"M1 = 1.1\",\"M1 = 1.1\",\"M1 = 1.1\",\"M1 = 1.1\",\"M1 = 1.1\",\"M1 = 1.1\",\"M1 = 1.1\",\"M1 = 1.1\",\"M1 = 1.1\",\"M1 = 1.1\",\"M1 = 1.1\",\"M1 = 1.1\",\"M1 = 1.1\",\"M1 = 1.1\",\"M1 = 1.1\",\"M1 = 1.1\",\"M1 = 1.1\",\"M1 = 1.1\",\"M1 = 1.1\",\"M1 = 1.1\",\"M1 = 1.1\",\"M1 = 1.1\",\"M1 = 1.1\",\"M1 = 1.1\",\"M1 = 1.1\",\"M1 = 1.1\",\"M1 = 1.1\",\"M1 = 1.1\",\"M1 = 1.1\",\"M1 = 1.1\",\"M1 = 1.1\",\"M1 = 1.1\",\"M1 = 1.1\",\"M1 = 1.1\",\"M1 = 1.1\",\"M1 = 1.1\",\"M1 = 1.1\",\"M1 = 1.1\",\"M1 = 1.1\",\"M1 = 1.1\",\"M1 = 1.1\",\"M1 = 1.1\",\"M1 = 1.1\",\"M1 = 1.1\",\"M1 = 1.1\",\"M1 = 1.1\",\"M1 = 1.1\",\"M1 = 1.1\",\"M1 = 1.1\",\"M1 = 1.1\",\"M1 = 1.1\",\"M1 = 1.1\",\"M1 = 1.1\",\"M1 = 1.1\",\"M1 = 1.1\",\"M1 = 1.1\",\"M1 = 1.1\",\"M1 = 1.1\",\"M1 = 1.1\",\"M1 = 1.1\",\"M1 = 1.1\",\"M1 = 1.1\",\"M1 = 1.1\",\"M1 = 1.1\",\"M1 = 1.1\",\"M1 = 1.1\",\"M1 = 1.1\",\"M1 = 1.1\",\"M1 = 1.1\",\"M1 = 1.1\",\"M1 = 1.1\",\"M1 = 1.1\",\"M1 = 1.1\",\"M1 = 1.1\",\"M1 = 1.1\"]],[\"r\",{\"type\":\"ndarray\",\"array\":[\"weak\",\"weak\",\"weak\",\"weak\",\"weak\",\"weak\",\"weak\",\"weak\",\"weak\",\"weak\",\"weak\",\"weak\",\"weak\",\"weak\",\"weak\",\"weak\",\"weak\",\"weak\",\"weak\",\"weak\",\"weak\",\"weak\",\"weak\",\"weak\",\"weak\",\"weak\",\"weak\",\"weak\",\"weak\",\"weak\",\"weak\",\"weak\",\"weak\",\"weak\",\"weak\",\"weak\",\"weak\",\"weak\",\"weak\",\"weak\",\"weak\",\"weak\",\"weak\",\"weak\",\"strong\",\"strong\",\"strong\",\"strong\",\"strong\",\"strong\",\"strong\",\"strong\",\"strong\",\"strong\",\"strong\",\"strong\",\"strong\",\"strong\",\"strong\",\"strong\",\"strong\",\"strong\",\"strong\",\"strong\",\"strong\",\"strong\",\"strong\",\"strong\",\"strong\",\"strong\",\"strong\",\"strong\",\"strong\",\"strong\",\"strong\",\"strong\",\"strong\",\"strong\",\"strong\",\"strong\",\"strong\",\"strong\",\"strong\",\"strong\",\"strong\",\"strong\",\"strong\",\"strong\",\"strong\",\"strong\",\"strong\",\"strong\",\"strong\",\"strong\",\"strong\",\"strong\",\"strong\",\"strong\",\"strong\",\"strong\"],\"shape\":[100],\"dtype\":\"object\",\"order\":\"little\"}]]}}},\"view\":{\"type\":\"object\",\"name\":\"CDSView\",\"id\":\"9f53b389-721f-42f3-9ec9-9af947e13e05\",\"attributes\":{\"filter\":{\"type\":\"object\",\"name\":\"AllIndices\",\"id\":\"2c03a6f9-20eb-4dd3-bdbd-beeb7c6bcd0c\"}}},\"glyph\":{\"type\":\"object\",\"name\":\"Line\",\"id\":\"306d3bc3-85e6-4de0-aec0-4ba7f3b39108\",\"attributes\":{\"x\":{\"type\":\"field\",\"field\":\"x\"},\"y\":{\"type\":\"field\",\"field\":\"y\"},\"line_color\":\"#1f77b4\",\"line_width\":2}},\"nonselection_glyph\":{\"type\":\"object\",\"name\":\"Line\",\"id\":\"ccd592a5-8365-42aa-8b39-f84570c52cf3\",\"attributes\":{\"x\":{\"type\":\"field\",\"field\":\"x\"},\"y\":{\"type\":\"field\",\"field\":\"y\"},\"line_color\":\"#1f77b4\",\"line_alpha\":0.1,\"line_width\":2}},\"muted_glyph\":{\"type\":\"object\",\"name\":\"Line\",\"id\":\"4ca16bd8-9e0b-484b-8cd0-4d0181545108\",\"attributes\":{\"x\":{\"type\":\"field\",\"field\":\"x\"},\"y\":{\"type\":\"field\",\"field\":\"y\"},\"line_color\":\"#1f77b4\",\"line_alpha\":0.2,\"line_width\":2}}}},{\"type\":\"object\",\"name\":\"GlyphRenderer\",\"id\":\"39413bdd-68dc-4f36-9408-47ff6440046f\",\"attributes\":{\"data_source\":{\"type\":\"object\",\"name\":\"ColumnDataSource\",\"id\":\"fc7edca9-4f7a-4180-b0a6-3db7e8858c00\",\"attributes\":{\"selected\":{\"type\":\"object\",\"name\":\"Selection\",\"id\":\"1ecf9392-9d8a-4b1e-b0c3-82e25c0c8066\",\"attributes\":{\"indices\":[],\"line_indices\":[]}},\"selection_policy\":{\"type\":\"object\",\"name\":\"UnionRenderers\",\"id\":\"6b4eed54-58cc-4c96-9680-1ac8cba8ba4a\"},\"data\":{\"type\":\"map\",\"entries\":[[\"x\",{\"type\":\"ndarray\",\"array\":{\"type\":\"bytes\",\"data\":\"H4sIAAEAAAAC/wEgA9/8AAAAAAAAAAAnAqSSJE/MPyPaOxITBNw/C7kKOrLK5D/Gg9ASs23rP4fXIWd99fA/apL4izsh9D83UvhOCjr3P9j6pJHfP/o/aHR5ybAy/T8RBduEOQkAQKqMwIaNbwFA5IAuoU7MAkC5H3vpdh8EQA9EJlkAaQVAlN6c0+SoBkBqsywsHt8HQIuvKSymCwlALxdGmXYuCkD+wB48iUcLQJ56/ObXVgxAGKLLfFxcDUDK4Ur4EFgOQH7jcXPvSQ9A2FeIF/kYEECQJFTNCYgQQL54Pi4n8hBADCzxrE5XEUDJ4uDffbcRQLYTrYWyEhJA7NKciepoEkBTGzgIJLoSQN0v/VNdBhNAEI0x+pRNE0A3v83HyY8TQAlMg876zBNA+7bbaScFFEAAfG9ETzgUQGyxM11yZhRAR9LcDJGPFEApAlULrLMUQNToQ3XE0hRAaBCm0dvsFEAieXEX9AEVQNLgRLMPEhVAWgAfjTEdFUCDyhoOXSMVQJR6LSaWJBVAPAfjUeEgFUAPUxWgQxgVQLA3mrfCChVAq0/k3GT4FECnKJL3MOEUQOZP55cuxRRAMnUq/GWkFEAjreMV4H4UQGmq9Y6mVBRAxJqMzsMlFED0Kd39QvITQDsLrgwwuhNAUEqmtZd9E0AbjlqChzwTQBtlE88N9xJAbapGzjmtEkCtD76LG18SQPneZO/DDBJA0Re3v0S2EUCCIsyjsFsRQDt59yQb/RBAW9P5r5iaEECul72VPjQQQMU6MxdGlA9AGSUrVrq4DkDhbVfiCdYNQPUACHpm7AxACFhKnAP8C0CbcjGEFgULQN6n/iLWBwpADXUnGXsECUB9lzWuP/sHQJUDgMdf7AZAAJa83RjYBUCEumvxqb4EQH2nIH5ToANAvD+qbFd9AkAzGyIE+VUBQEy16Nl8KgBAW14ugVH2/T97IeFrh5D7Pz2xu58rJPk/uzEDUdCx9j+kWuKSCTr0P3vURSxtvfE/iDqH1iR57j8rvGHuI3DpP1AyF0MLYeQ/6w9+1yCa3j9/ujsj1WrUP11jUDNIbcQ/8f5pnQoW2zx8dkKpIAMAAA==\"},\"shape\":[100],\"dtype\":\"float64\",\"order\":\"little\"}],[\"y\",{\"type\":\"ndarray\",\"array\":{\"type\":\"bytes\",\"data\":\"H4sIAAEAAAAC/xXBC1DLDwAHcFNY/Bf+Vmke4R8p3U4diqSv6h/t9XtPpxzRYyVK/mjnpg51rPrbrk7i2nXj38PR3wg9mMrV0LzmVemqK8/oGpKTeZzPp3VORUClToKS0pFmukmCFLcI+sewBCF6fX+1lxQCQV8mR0jRe0TsxMuWwuSsKTpXI8WhnPa/Ynqk4ByetU6uMvhkqSL/D5Vh7NOVxxt3yGBNn5A4sUwGwzvms8kqQ0ayMXeTQ4bwAbubi78cws1hFbWxcrzqKlyxJV+OOmV325RGObQ2vw1XB+WIU6hfbxUpIL5j2ecqUWBclDu/Qa2ArTnhRGK1AmdCLy2e3qnA3npe/TU+gfXLyWhVMAGRydA5Q0Xgvf9Qyo0SAuaqkLFUCwGdt1br/oVAAJkmiJ9BQvRv0ZMVS0g4WRvK/ogg8d6lP7F/I4kn61zEdZkkzLlLRwu1JCpvbjBvM5LQ8bLzVjaQUIdVKKbaSGzV3HV/+ZaErHGkp4FHYdnXWZU6TwpzgyLSkwIoTNyTGrQ6moL9ov7n9HgKHfY6y+ssCi3ivmPXdRTOpk2KKaqiUHxWPC+liYLmDfdmTQeFpEWaC0I7BSLhTNbgJBrBxnY0edGY3/eRfzyIxuS5oofbCRqfYteWrk2m0V2qivfIptH67Jjv0HEaNW5XP7TU0ChheupPtNHI0U84uLOHRsp9f0nkKA1awP4pcmUQIt3fNbyQgfdRo7E1lIHAcjv1FMdg1PlD4K4dDHrDZ36LymVwKyfs5uwyBiZzUv7HWgYnHYXMLSuDQ6suzzK8YJCW1T2w28GAu+J0LlrIYs2I3z9e/ix8AunVnyNYTMtQO7fHsvh6vtxavptF/ztL8d58Fu2+w3Gy0yxqk90XLmhkYfgvdOiLjUXeQMLlu4MsMuYXaE6P5xCz+dLfahGH8LIuARHIwe8576m3hIPQ09cwFs/BoSSTHqg5vCreJ67Qc7hnM4zur+ZQN63NTDVzKFcM5fl0ctAWCInvdg6Zd0I8HvGViONv662ap0RklLbyQLAS4sOmdJZUwqOlI8hPpcS433KU+AXB/loLIAMAAA==\"},\"shape\":[100],\"dtype\":\"float64\",\"order\":\"little\"}],[\"v\",[\"M1 = 1.25\",\"M1 = 1.25\",\"M1 = 1.25\",\"M1 = 1.25\",\"M1 = 1.25\",\"M1 = 1.25\",\"M1 = 1.25\",\"M1 = 1.25\",\"M1 = 1.25\",\"M1 = 1.25\",\"M1 = 1.25\",\"M1 = 1.25\",\"M1 = 1.25\",\"M1 = 1.25\",\"M1 = 1.25\",\"M1 = 1.25\",\"M1 = 1.25\",\"M1 = 1.25\",\"M1 = 1.25\",\"M1 = 1.25\",\"M1 = 1.25\",\"M1 = 1.25\",\"M1 = 1.25\",\"M1 = 1.25\",\"M1 = 1.25\",\"M1 = 1.25\",\"M1 = 1.25\",\"M1 = 1.25\",\"M1 = 1.25\",\"M1 = 1.25\",\"M1 = 1.25\",\"M1 = 1.25\",\"M1 = 1.25\",\"M1 = 1.25\",\"M1 = 1.25\",\"M1 = 1.25\",\"M1 = 1.25\",\"M1 = 1.25\",\"M1 = 1.25\",\"M1 = 1.25\",\"M1 = 1.25\",\"M1 = 1.25\",\"M1 = 1.25\",\"M1 = 1.25\",\"M1 = 1.25\",\"M1 = 1.25\",\"M1 = 1.25\",\"M1 = 1.25\",\"M1 = 1.25\",\"M1 = 1.25\",\"M1 = 1.25\",\"M1 = 1.25\",\"M1 = 1.25\",\"M1 = 1.25\",\"M1 = 1.25\",\"M1 = 1.25\",\"M1 = 1.25\",\"M1 = 1.25\",\"M1 = 1.25\",\"M1 = 1.25\",\"M1 = 1.25\",\"M1 = 1.25\",\"M1 = 1.25\",\"M1 = 1.25\",\"M1 = 1.25\",\"M1 = 1.25\",\"M1 = 1.25\",\"M1 = 1.25\",\"M1 = 1.25\",\"M1 = 1.25\",\"M1 = 1.25\",\"M1 = 1.25\",\"M1 = 1.25\",\"M1 = 1.25\",\"M1 = 1.25\",\"M1 = 1.25\",\"M1 = 1.25\",\"M1 = 1.25\",\"M1 = 1.25\",\"M1 = 1.25\",\"M1 = 1.25\",\"M1 = 1.25\",\"M1 = 1.25\",\"M1 = 1.25\",\"M1 = 1.25\",\"M1 = 1.25\",\"M1 = 1.25\",\"M1 = 1.25\",\"M1 = 1.25\",\"M1 = 1.25\",\"M1 = 1.25\",\"M1 = 1.25\",\"M1 = 1.25\",\"M1 = 1.25\",\"M1 = 1.25\",\"M1 = 1.25\",\"M1 = 1.25\",\"M1 = 1.25\",\"M1 = 1.25\",\"M1 = 1.25\"]],[\"r\",{\"type\":\"ndarray\",\"array\":[\"weak\",\"weak\",\"weak\",\"weak\",\"weak\",\"weak\",\"weak\",\"weak\",\"weak\",\"weak\",\"weak\",\"weak\",\"weak\",\"weak\",\"weak\",\"weak\",\"weak\",\"weak\",\"weak\",\"weak\",\"weak\",\"weak\",\"weak\",\"weak\",\"weak\",\"weak\",\"weak\",\"weak\",\"weak\",\"weak\",\"weak\",\"weak\",\"weak\",\"weak\",\"weak\",\"weak\",\"weak\",\"weak\",\"weak\",\"weak\",\"weak\",\"weak\",\"weak\",\"weak\",\"weak\",\"weak\",\"weak\",\"strong\",\"strong\",\"strong\",\"strong\",\"strong\",\"strong\",\"strong\",\"strong\",\"strong\",\"strong\",\"strong\",\"strong\",\"strong\",\"strong\",\"strong\",\"strong\",\"strong\",\"strong\",\"strong\",\"strong\",\"strong\",\"strong\",\"strong\",\"strong\",\"strong\",\"strong\",\"strong\",\"strong\",\"strong\",\"strong\",\"strong\",\"strong\",\"strong\",\"strong\",\"strong\",\"strong\",\"strong\",\"strong\",\"strong\",\"strong\",\"strong\",\"strong\",\"strong\",\"strong\",\"strong\",\"strong\",\"strong\",\"strong\",\"strong\",\"strong\",\"strong\",\"strong\",\"strong\"],\"shape\":[100],\"dtype\":\"object\",\"order\":\"little\"}]]}}},\"view\":{\"type\":\"object\",\"name\":\"CDSView\",\"id\":\"7ab75580-9a83-4d2b-a82e-2cb1ac3e0eab\",\"attributes\":{\"filter\":{\"type\":\"object\",\"name\":\"AllIndices\",\"id\":\"cd925a4e-b5af-4cc9-b165-2b8b2fe8418d\"}}},\"glyph\":{\"type\":\"object\",\"name\":\"Line\",\"id\":\"dc1f0270-f3f2-43bc-8956-2ee98f22b6a7\",\"attributes\":{\"x\":{\"type\":\"field\",\"field\":\"x\"},\"y\":{\"type\":\"field\",\"field\":\"y\"},\"line_color\":\"#ff7f0e\",\"line_width\":2}},\"nonselection_glyph\":{\"type\":\"object\",\"name\":\"Line\",\"id\":\"dd2b40ae-cfe1-4fdb-9758-3d47f7e28fa4\",\"attributes\":{\"x\":{\"type\":\"field\",\"field\":\"x\"},\"y\":{\"type\":\"field\",\"field\":\"y\"},\"line_color\":\"#ff7f0e\",\"line_alpha\":0.1,\"line_width\":2}},\"muted_glyph\":{\"type\":\"object\",\"name\":\"Line\",\"id\":\"2f263657-12c8-46fb-a8f8-9066774c7c0f\",\"attributes\":{\"x\":{\"type\":\"field\",\"field\":\"x\"},\"y\":{\"type\":\"field\",\"field\":\"y\"},\"line_color\":\"#ff7f0e\",\"line_alpha\":0.2,\"line_width\":2}}}},{\"type\":\"object\",\"name\":\"GlyphRenderer\",\"id\":\"45bd2cba-61a5-47a2-801a-046008ebfdc7\",\"attributes\":{\"data_source\":{\"type\":\"object\",\"name\":\"ColumnDataSource\",\"id\":\"1caecaee-5bdb-47d1-8345-8a92b3c624e1\",\"attributes\":{\"selected\":{\"type\":\"object\",\"name\":\"Selection\",\"id\":\"073d1a39-2172-47f2-9662-36c815260aa4\",\"attributes\":{\"indices\":[],\"line_indices\":[]}},\"selection_policy\":{\"type\":\"object\",\"name\":\"UnionRenderers\",\"id\":\"09dce93c-9fcd-4a02-b24f-5786342a8ca7\"},\"data\":{\"type\":\"map\",\"entries\":[[\"x\",{\"type\":\"ndarray\",\"array\":{\"type\":\"bytes\",\"data\":\"H4sIAAEAAAAC/wEgA9/8AAAAAAAAAAAocCk7QpXcP8mfAg5kUuw/DAJ75tML9T9JY3iwX837P2/SNIb8NgFAJ/G18d52BEB5Bkk+Y6YHQAQRBsySxQpAjmCgRHTUDUCzjPvThWkQQDE9Giyt4BFAlLfDkq9PE0CvwMEsi7YUQHrhGeE8FRZAie92XsBrF0D5iXkgELoYQIC+9nQlABpA5Vwsgfg9G0Br2vJGgHMcQNMG9amyoB1AWTf2dITFHkCI+i9f6eEfQO5q6AjqeiBAXwTTFpsAIUBRZX0oAIIhQC0B3A4R/yFAzPznH8V3IkD1EQE6E+wiQITQgcfxWyNA796MwlbHI0AZKhq5Ny4kQNlDS9GJkCRA2YAOzkHuJEC3thgUVEclQLbLPa+0myVAGZcwWFfrJUA43bJ6LzYmQMp4PjwwfCZAmgQxg0y9JkDSkoP+dvkmQNUuGC6iMCdADwyna8BiJ0BsWlX0w48nQA6///KetydAlWJCi0PaJ0DoYEjlo/cnQDEobDqyDyhA+vax4mAiKEC0KiVjoi8oQCJqIH1pNyhAf+eHPqk5KEA49/sSVTYoQGAFCdZgLShAa4lY5sAeKEBy8eQ5agooQFiVMHNS8CdAHpd992/QJ0BuIQIGuqonQB63EdAofydAPTwxkrVNJ0AVCgiuWhYnQFG8HMUT2SZA73hI1N2VJkAKQcdPt0wmQH1nxz+g/SVAgJ9VXZqoJUCfQH4vqU0lQLRodyjS7CRAm6KiwhyGJED8ui+dkhkkQDyNJZg/pyNAGOaQ7zEvI0AaQZVVerEiQJ08FwssLiJAOUe19lylIUB9ZMC5JRchQI0V5cKhgyBA2DRnvN7VH0DP/22EX5oeQKXNlzMOVR1A8XPVFDkGHECwezptNK4aQJwdunhaTRlAxaQ/XgvkF0BlGr0arXIWQKBu32Kr+RRAT2Eue3d5E0C/CngGiPIRQCezg8pYZRBA5nxK1tSkDUDyrtI3hHQKQIVIZJHSOgdAEx14a9r4A0BEtkIvva8AQD0yRZBEwfo/Q2sucGwZ9D8KsFSEptTqP3NyySmC2do/YLVLbOQ96zxJ/lM+IAMAAA==\"},\"shape\":[100],\"dtype\":\"float64\",\"order\":\"little\"}],[\"y\",{\"type\":\"ndarray\",\"array\":{\"type\":\"bytes\",\"data\":\"H4sIAAEAAAAC/wEgA9/8VWoEZrjnREDTAZCyBiZFQFGZG/9UZEVAzzCnS6OiRUBMyDKY8eBFQMpfvuQ/H0ZASPdJMY5dRkDGjtV93JtGQEQmYcoq2kZAwr3sFnkYR0BAVXhjx1ZHQL3sA7AVlUdAO4SP/GPTR0C5GxtJshFIQDezppUAUEhAtUoy4k6OSEAz4r0uncxIQLB5SXvrCklALhHVxzlJSUCsqGAUiIdJQCpA7GDWxUlAqNd3rSQESkAmbwP6ckJKQKQGj0bBgEpAIp4akw+/SkCfNabfXf1KQB3NMSysO0tAm2S9ePp5S0AZ/EjFSLhLQJeT1BGX9ktAFCtgXuU0TECSwuuqM3NMQBBad/eBsUxAjvECRNDvTEAMiY6QHi5NQIogGt1sbE1ACLilKbuqTUCGTzF2CelNQATnvMJXJ05AgX5ID6ZlTkD/FdRb9KNOQH2tX6hC4k5A+0Tr9JAgT0B43HZB315PQPZzAo4tnU9AdAuO2nvbT0B50YwT5QxQQDid0jkMLFBA92gYYDNLUEC2NF6GWmpQQHUApKyBiVBANMzp0qioUEDzly/5z8dQQLJjdR/35lBAcC+7RR4GUUAw+wBsRSVRQO7GRpJsRFFArZKMuJNjUUBsXtLeuoJRQCsqGAXioVFA6vVdKwnBUUCpwaNRMOBRQGiN6XdX/1FAJ1kvnn4eUkDmJHXEpT1SQKXwuurMXFJAZLwAEfR7UkAiiEY3G5tSQOJTjF1CulJAoB/Sg2nZUkBg6xeqkPhSQB63XdC3F1NA3YKj9t42U0CcTukcBlZTQFsaL0MtdVNAGuZ0aVSUU0DZsbqPe7NTQJh9ALai0lNAVklG3MnxU0AWFYwC8RBUQNTg0SgYMFRAlKwXTz9PVEBSeF11Zm5UQBJEo5uNjVRA0A/pwbSsVECP2y7o28tUQE6ndA4D61RADXO6NCoKVUDMPgBbUSlVQIsKRoF4SFVAStaLp59nVUAIotHNxoZVQMhtF/TtpVVAhjldGhXFVUBGBaNAPORVQATR6GZjA1ZAxJwujYoiVkCCaHSzsUFWQEE0utnYYFZAAAAAAACAVkCtdivGIAMAAA==\"},\"shape\":[100],\"dtype\":\"float64\",\"order\":\"little\"}],[\"v\",[\"M1 = 1.5\",\"M1 = 1.5\",\"M1 = 1.5\",\"M1 = 1.5\",\"M1 = 1.5\",\"M1 = 1.5\",\"M1 = 1.5\",\"M1 = 1.5\",\"M1 = 1.5\",\"M1 = 1.5\",\"M1 = 1.5\",\"M1 = 1.5\",\"M1 = 1.5\",\"M1 = 1.5\",\"M1 = 1.5\",\"M1 = 1.5\",\"M1 = 1.5\",\"M1 = 1.5\",\"M1 = 1.5\",\"M1 = 1.5\",\"M1 = 1.5\",\"M1 = 1.5\",\"M1 = 1.5\",\"M1 = 1.5\",\"M1 = 1.5\",\"M1 = 1.5\",\"M1 = 1.5\",\"M1 = 1.5\",\"M1 = 1.5\",\"M1 = 1.5\",\"M1 = 1.5\",\"M1 = 1.5\",\"M1 = 1.5\",\"M1 = 1.5\",\"M1 = 1.5\",\"M1 = 1.5\",\"M1 = 1.5\",\"M1 = 1.5\",\"M1 = 1.5\",\"M1 = 1.5\",\"M1 = 1.5\",\"M1 = 1.5\",\"M1 = 1.5\",\"M1 = 1.5\",\"M1 = 1.5\",\"M1 = 1.5\",\"M1 = 1.5\",\"M1 = 1.5\",\"M1 = 1.5\",\"M1 = 1.5\",\"M1 = 1.5\",\"M1 = 1.5\",\"M1 = 1.5\",\"M1 = 1.5\",\"M1 = 1.5\",\"M1 = 1.5\",\"M1 = 1.5\",\"M1 = 1.5\",\"M1 = 1.5\",\"M1 = 1.5\",\"M1 = 1.5\",\"M1 = 1.5\",\"M1 = 1.5\",\"M1 = 1.5\",\"M1 = 1.5\",\"M1 = 1.5\",\"M1 = 1.5\",\"M1 = 1.5\",\"M1 = 1.5\",\"M1 = 1.5\",\"M1 = 1.5\",\"M1 = 1.5\",\"M1 = 1.5\",\"M1 = 1.5\",\"M1 = 1.5\",\"M1 = 1.5\",\"M1 = 1.5\",\"M1 = 1.5\",\"M1 = 1.5\",\"M1 = 1.5\",\"M1 = 1.5\",\"M1 = 1.5\",\"M1 = 1.5\",\"M1 = 1.5\",\"M1 = 1.5\",\"M1 = 1.5\",\"M1 = 1.5\",\"M1 = 1.5\",\"M1 = 1.5\",\"M1 = 1.5\",\"M1 = 1.5\",\"M1 = 1.5\",\"M1 = 1.5\",\"M1 = 1.5\",\"M1 = 1.5\",\"M1 = 1.5\",\"M1 = 1.5\",\"M1 = 1.5\",\"M1 = 1.5\",\"M1 = 1.5\"]],[\"r\",{\"type\":\"ndarray\",\"array\":[\"weak\",\"weak\",\"weak\",\"weak\",\"weak\",\"weak\",\"weak\",\"weak\",\"weak\",\"weak\",\"weak\",\"weak\",\"weak\",\"weak\",\"weak\",\"weak\",\"weak\",\"weak\",\"weak\",\"weak\",\"weak\",\"weak\",\"weak\",\"weak\",\"weak\",\"weak\",\"weak\",\"weak\",\"weak\",\"weak\",\"weak\",\"weak\",\"weak\",\"weak\",\"weak\",\"weak\",\"weak\",\"weak\",\"weak\",\"weak\",\"weak\",\"weak\",\"weak\",\"weak\",\"weak\",\"weak\",\"weak\",\"weak\",\"weak\",\"weak\",\"weak\",\"strong\",\"strong\",\"strong\",\"strong\",\"strong\",\"strong\",\"strong\",\"strong\",\"strong\",\"strong\",\"strong\",\"strong\",\"strong\",\"strong\",\"strong\",\"strong\",\"strong\",\"strong\",\"strong\",\"strong\",\"strong\",\"strong\",\"strong\",\"strong\",\"strong\",\"strong\",\"strong\",\"strong\",\"strong\",\"strong\",\"strong\",\"strong\",\"strong\",\"strong\",\"strong\",\"strong\",\"strong\",\"strong\",\"strong\",\"strong\",\"strong\",\"strong\",\"strong\",\"strong\",\"strong\",\"strong\",\"strong\",\"strong\",\"strong\"],\"shape\":[100],\"dtype\":\"object\",\"order\":\"little\"}]]}}},\"view\":{\"type\":\"object\",\"name\":\"CDSView\",\"id\":\"d17259b5-5bf0-4748-844a-e3aff4996246\",\"attributes\":{\"filter\":{\"type\":\"object\",\"name\":\"AllIndices\",\"id\":\"c68eb5dd-a3ec-4750-b57b-bc59460d01fa\"}}},\"glyph\":{\"type\":\"object\",\"name\":\"Line\",\"id\":\"de66c0eb-73d5-4be5-a11c-d671a8ab069d\",\"attributes\":{\"x\":{\"type\":\"field\",\"field\":\"x\"},\"y\":{\"type\":\"field\",\"field\":\"y\"},\"line_color\":\"#2ca02c\",\"line_width\":2}},\"nonselection_glyph\":{\"type\":\"object\",\"name\":\"Line\",\"id\":\"4244f431-2f32-4f1f-bd57-69cdf0f4b554\",\"attributes\":{\"x\":{\"type\":\"field\",\"field\":\"x\"},\"y\":{\"type\":\"field\",\"field\":\"y\"},\"line_color\":\"#2ca02c\",\"line_alpha\":0.1,\"line_width\":2}},\"muted_glyph\":{\"type\":\"object\",\"name\":\"Line\",\"id\":\"ea87a97f-4738-4342-813e-06f734aa86cf\",\"attributes\":{\"x\":{\"type\":\"field\",\"field\":\"x\"},\"y\":{\"type\":\"field\",\"field\":\"y\"},\"line_color\":\"#2ca02c\",\"line_alpha\":0.2,\"line_width\":2}}}},{\"type\":\"object\",\"name\":\"GlyphRenderer\",\"id\":\"9fe77666-418a-4d24-b510-5ea1d5ecd88a\",\"attributes\":{\"data_source\":{\"type\":\"object\",\"name\":\"ColumnDataSource\",\"id\":\"bf28bf2f-da60-4c68-bd63-6ee0c1ef7356\",\"attributes\":{\"selected\":{\"type\":\"object\",\"name\":\"Selection\",\"id\":\"7b0a2aca-c288-49e0-8616-c4c26b2cb863\",\"attributes\":{\"indices\":[],\"line_indices\":[]}},\"selection_policy\":{\"type\":\"object\",\"name\":\"UnionRenderers\",\"id\":\"04a28fe0-e4a9-4cd0-bca2-f9cfd9f8276b\"},\"data\":{\"type\":\"map\",\"entries\":[[\"x\",{\"type\":\"ndarray\",\"array\":{\"type\":\"bytes\",\"data\":\"H4sIAAEAAAAC/wEgA9/8AAAAAAAAAACsiPpYh/znP8v/d3uGvPc/Q2x86nieAUCHVu5WwkAHQBUnaBcLxgxA59mtCJYXEUBjKjZMdr4TQPI2tbkBWBZA1G+H5YvkGEAZTBUCYWQbQAlHbUPG1x1AHrYLHX0fIEDJF+WSGk0hQK7rTKDUdCJALjOXgcGWI0Cb0z+x9LIkQHnbxQN/ySVAgAm5wG7aJkCD4Cm5z+UnQHFFqFur6yhAtbr4xQjsKUAiwaTU7OYqQAKyhzBa3CtAloR2WlHMLED0Xh610LYtQLqIM43Umy5AJ1UIIFd7L0Di7lBQqCowQI52r53blDBAeSEijD/8MEBEMwAuzWAxQIxF3JN8wjFA4c7Xy0QhMkDaN2zgG30yQBoLstb21TJAfwcvrMkrM0B7QTRUh34zQCMU1rQhzjNAcGeIo4kaNEBxzWrhrmM0QIAvUReAqTRATj6X0errNECVmM572yo1QLmuWVw9ZjVAEdIHkPqdNUArqckF/NE1QCt2mHopAjZAcUSudWkuNkCjOTFFoVY2QFT1ePu0ejZAQi4abYeaNkCMnOov+rU2QP/HNZvtzDZAvIdiyUDfNkA46VCb0ew2QNbSwL189TZA2AUbsR35NkC6GgDUjvc2QF6gC3Gp8DZAk4xE0EXkNkBWgr9MO9I2QFTcAm9gujZAI5vHDIucNkBS6LxukHg2QGBQ/XxFTjZAmoPs8n4dNkBtlTmbEeY1QCJkw5TSpzVA1PwZoZdiNUB/Lk99NxY1QCqsuEWKwjRAX40t5WlnNEDfByaQsgQ0QMw49UtDmjNAaR0Ygv4nM0Ah/0ifyq0yQHJ4qr2SKzJAPD3wWEehMUApJu4K3w4xQN7NaE5XdDBArpHRimqjL0DTNlz/DE4uQLR4dXrD6CxA0WaQUM9zK0D9Lc4Ch+8pQPahFHBXXChAgMHP0sS6JkAcG+R+awslQOEVhlMATyNAb5tp1VCGIUBp3TzOhWQfQEZa7i6opxtAbmwQATHYF0BRriBqcvgTQA/JsnvkChBAYfyfskAkCEDFNcY5tSEAQIhUQ1R0J/A/Mg0n4G1V+jzzxii7IAMAAA==\"},\"shape\":[100],\"dtype\":\"float64\",\"order\":\"little\"}],[\"y\",{\"type\":\"ndarray\",\"array\":{\"type\":\"bytes\",\"data\":\"H4sIAAEAAAAC/y3RPyiEcRgHcDJQBspAGchwZKAMlOF87897d+/dvXfv/zKQ4chAGSjDDYoyUAbKQClkQAbKQCnKQBkoA6WQ4chAGU4Z3PN7nt/2Pr/f+/z5POVldIJYHzu8CqwF0fOQWza6+3Cn1Q9M3vbJNzBXEyw+z0LiQHP+67yyKYRx+m0shNPC5kLHSQhVTXQRhu/RCWO7FC1shvFdep3/CoOy1AQjWKTwQgSPlP4hgtY1aiCKqVsqEMUFPT+Polb9oGFwki407O3S0fBLaYoaYtSOFsNKKUtuOYZXCj/H0EnpO+JQbebjuA5QgTga6Hl9AiNUNpfAEbV/mIBiKNORoTSGLh46Pmisgi4OSXFIikNSHFLikBKHlDikxSEtDmlxSIuDIQ6GOBhoUw4ZcciIQ0YcsuKQxb5yyEKlKWaxRflbTJ5TN7nOhMnzrppc78zEMJV5M7lutcXzd1lcv99ihxmL97FjsceNxf38WFDtNdrcV8jGO407anN/SzY7HdtQzE82e1U4vLd2h90sh/c37UAxbTi8x0uHHT8d3medy569Ll5ozCGXXedd3u+By773Lu/5zxUHTxw8cfDEwRMHTxw8cfDFwRcHXxx8/APY+jhhIAMAAA==\"},\"shape\":[100],\"dtype\":\"float64\",\"order\":\"little\"}],[\"v\",[\"M1 = 2\",\"M1 = 2\",\"M1 = 2\",\"M1 = 2\",\"M1 = 2\",\"M1 = 2\",\"M1 = 2\",\"M1 = 2\",\"M1 = 2\",\"M1 = 2\",\"M1 = 2\",\"M1 = 2\",\"M1 = 2\",\"M1 = 2\",\"M1 = 2\",\"M1 = 2\",\"M1 = 2\",\"M1 = 2\",\"M1 = 2\",\"M1 = 2\",\"M1 = 2\",\"M1 = 2\",\"M1 = 2\",\"M1 = 2\",\"M1 = 2\",\"M1 = 2\",\"M1 = 2\",\"M1 = 2\",\"M1 = 2\",\"M1 = 2\",\"M1 = 2\",\"M1 = 2\",\"M1 = 2\",\"M1 = 2\",\"M1 = 2\",\"M1 = 2\",\"M1 = 2\",\"M1 = 2\",\"M1 = 2\",\"M1 = 2\",\"M1 = 2\",\"M1 = 2\",\"M1 = 2\",\"M1 = 2\",\"M1 = 2\",\"M1 = 2\",\"M1 = 2\",\"M1 = 2\",\"M1 = 2\",\"M1 = 2\",\"M1 = 2\",\"M1 = 2\",\"M1 = 2\",\"M1 = 2\",\"M1 = 2\",\"M1 = 2\",\"M1 = 2\",\"M1 = 2\",\"M1 = 2\",\"M1 = 2\",\"M1 = 2\",\"M1 = 2\",\"M1 = 2\",\"M1 = 2\",\"M1 = 2\",\"M1 = 2\",\"M1 = 2\",\"M1 = 2\",\"M1 = 2\",\"M1 = 2\",\"M1 = 2\",\"M1 = 2\",\"M1 = 2\",\"M1 = 2\",\"M1 = 2\",\"M1 = 2\",\"M1 = 2\",\"M1 = 2\",\"M1 = 2\",\"M1 = 2\",\"M1 = 2\",\"M1 = 2\",\"M1 = 2\",\"M1 = 2\",\"M1 = 2\",\"M1 = 2\",\"M1 = 2\",\"M1 = 2\",\"M1 = 2\",\"M1 = 2\",\"M1 = 2\",\"M1 = 2\",\"M1 = 2\",\"M1 = 2\",\"M1 = 2\",\"M1 = 2\",\"M1 = 2\",\"M1 = 2\",\"M1 = 2\",\"M1 = 2\"]],[\"r\",{\"type\":\"ndarray\",\"array\":[\"weak\",\"weak\",\"weak\",\"weak\",\"weak\",\"weak\",\"weak\",\"weak\",\"weak\",\"weak\",\"weak\",\"weak\",\"weak\",\"weak\",\"weak\",\"weak\",\"weak\",\"weak\",\"weak\",\"weak\",\"weak\",\"weak\",\"weak\",\"weak\",\"weak\",\"weak\",\"weak\",\"weak\",\"weak\",\"weak\",\"weak\",\"weak\",\"weak\",\"weak\",\"weak\",\"weak\",\"weak\",\"weak\",\"weak\",\"weak\",\"weak\",\"weak\",\"weak\",\"weak\",\"weak\",\"weak\",\"weak\",\"weak\",\"weak\",\"weak\",\"weak\",\"weak\",\"weak\",\"weak\",\"weak\",\"weak\",\"weak\",\"weak\",\"strong\",\"strong\",\"strong\",\"strong\",\"strong\",\"strong\",\"strong\",\"strong\",\"strong\",\"strong\",\"strong\",\"strong\",\"strong\",\"strong\",\"strong\",\"strong\",\"strong\",\"strong\",\"strong\",\"strong\",\"strong\",\"strong\",\"strong\",\"strong\",\"strong\",\"strong\",\"strong\",\"strong\",\"strong\",\"strong\",\"strong\",\"strong\",\"strong\",\"strong\",\"strong\",\"strong\",\"strong\",\"strong\",\"strong\",\"strong\",\"strong\",\"strong\"],\"shape\":[100],\"dtype\":\"object\",\"order\":\"little\"}]]}}},\"view\":{\"type\":\"object\",\"name\":\"CDSView\",\"id\":\"d09c01cd-79b3-4514-876e-54b4a77b3083\",\"attributes\":{\"filter\":{\"type\":\"object\",\"name\":\"AllIndices\",\"id\":\"bdde9f6e-c5cd-4884-b40e-fce9a42c633f\"}}},\"glyph\":{\"type\":\"object\",\"name\":\"Line\",\"id\":\"906b7d82-7eb6-42f3-8143-e574fa4e5324\",\"attributes\":{\"x\":{\"type\":\"field\",\"field\":\"x\"},\"y\":{\"type\":\"field\",\"field\":\"y\"},\"line_color\":\"#d62728\",\"line_width\":2}},\"nonselection_glyph\":{\"type\":\"object\",\"name\":\"Line\",\"id\":\"676e923f-b9f8-49c1-8c05-18489f90c2c5\",\"attributes\":{\"x\":{\"type\":\"field\",\"field\":\"x\"},\"y\":{\"type\":\"field\",\"field\":\"y\"},\"line_color\":\"#d62728\",\"line_alpha\":0.1,\"line_width\":2}},\"muted_glyph\":{\"type\":\"object\",\"name\":\"Line\",\"id\":\"e1ee057f-dc6f-43ea-b876-a3780e544209\",\"attributes\":{\"x\":{\"type\":\"field\",\"field\":\"x\"},\"y\":{\"type\":\"field\",\"field\":\"y\"},\"line_color\":\"#d62728\",\"line_alpha\":0.2,\"line_width\":2}}}},{\"type\":\"object\",\"name\":\"GlyphRenderer\",\"id\":\"a932e6f3-3200-4345-a356-bdf6e16bb3be\",\"attributes\":{\"data_source\":{\"type\":\"object\",\"name\":\"ColumnDataSource\",\"id\":\"d2cba411-eafc-4ddc-9daf-62aa5af2f65a\",\"attributes\":{\"selected\":{\"type\":\"object\",\"name\":\"Selection\",\"id\":\"328b1277-5119-44c8-b2bc-188fe81d4b1f\",\"attributes\":{\"indices\":[],\"line_indices\":[]}},\"selection_policy\":{\"type\":\"object\",\"name\":\"UnionRenderers\",\"id\":\"b1d32d11-859e-4f40-b586-c909548e64d5\"},\"data\":{\"type\":\"map\",\"entries\":[[\"x\",{\"type\":\"ndarray\",\"array\":{\"type\":\"bytes\",\"data\":\"H4sIAAEAAAAC/yXS/TOTAQAH8CUnznUTObshRcgYttnm2bOX7yqciOSluaXj+kHdFJXSiymp6IVJnbShrRx5S3pzhZzKSyhRa6UXUXesF6dMpfR21+dv+FAo/zGLHa9Nl0xK6M5fQ4hoCkp3qdNd6JZYUrOvbX0lFYPxJH95lh2kqXlklI0Dhoedcj2O02FVYdcZP+mMLQFDHTXaxWgIC0q4JHGFz4fmoi69GwZCa+7t2ugObcSpTF+jB4paSWNM8jLgh9496LUXmI3a2DUR3ugmWOrbTT5oVmmN/XRfHLg7292S4YcgJ1mGPNkfDM3vMROVhUVvaAWt11kYzBw/1SFjQ5/dV0GfYeNlQ7Z9dzEHOuojCwMrABcfkjkRPQFI6Ass4SRyofoVrjg6xcVupjIs6hAPmwRRbcds+XCUX1Zxyvm49aWnP8QzEH0totH2+kDkpJ7cp2YRMDLZ57uvEPBwnqqVsgRYbelDzNQJkEffwxxxJ9EPl0qjhgSj2naCQhXCbF5Jqt1+ITRN6ResPwqxTFX2ayBWhEuzkYbwFhEcI5RxiS5iyPgpayeyxKhL2MZ9OiQGo7z0hYktgbk3b+vSXAlKC96RQoMEddXVwXkLAPMhGklwgZGH/gNn4gBrYwn16E5ge5jUZvIkcPD5qzf1tUBP2fIk3R2g75POpeop0Pn9BvvsGNC0YnpB5DRwv3NMUfYHyP8z52eshRS6CyviQ6ykcBbyHgstpWDUzAp+m0lxTrW5JXIGMK1OuPr5PTBaaHVEawAEBOPwwjagg/fgyRwdoKocS6QpgaiAmyNzo4F0YsSkcAUoMofz43oJuKG7eXtlErRqxns7e8U4ez25a66fGIE5Vg0bs0WQR6vLaXeEKGsv3LRukkRallOm3JrE6y+CKoWtAN+95ncNmxOgZ0nTPEf5cLMNOjFQzYOXOlh/Ws6FfYXCLP4bB2kZ4nVQ/nuQ2uzR+MkflhPGlNYiX3x9lqLRuXpj1cuksMF8TxwOufa41+CGzNJku3bzxdhjmvJbwqFhBydXmcS3wdtzO4PDV1KQHvOMuaHIQvQXJLE9KCADAAA=\"},\"shape\":[100],\"dtype\":\"float64\",\"order\":\"little\"}],[\"y\",{\"type\":\"ndarray\",\"array\":{\"type\":\"bytes\",\"data\":\"H4sIAAEAAAAC/xXBC1CLAQAHcFJSZ6LyuKQ8Rims0zKbmn9rj9pqbd++lStJmAg1j9hFJHWxHUNJ0gvV5ZEU61y6SJHyaKci9LhbGq1Upy5Ecn6/pJAtpmsqTxyx6FOb0eiIfXDQfXsvHYrtf1/WXfXCZtsze6nEOshq7SipMxgQKvNKe2sYgPNKMT9+Pda/uT9Y7M7EmkS21tLAxIpVjbRdWSw4fpLpX4g3wE7dpVxp4Q1r5u456kfemPp1pNy03wc/M48TIlc2hnhWI7e72DCOpqfPvLQRg1Kb7MrlQMxN0mRMAoxTslnzO4CoTd1qAcMXHWXUT0cu+mKTZYx7yTdftGwpO9ruz4G4cvTljEIOmigsR+YkB3zFib27w/xQW11ffUXnB297a0rTbC4e7gmOGN/DBb0uo9StgYsyh48TYUt5cDvgLNYk8lDcuCPvUTsPS5fcGuz35CNXNcR21PKxQE/XBpr4yHBJ6D7GE2D2ice00gIBNO/Mkzp/CzB9jVBPCfVHcqp2MbvCHxMdrcpYSgBUdIfavF0BGNVEzmmuC4CypzBq0kmIfpapnJYgxM6LNLOtbUIY+g4R5z1EiPCtuv5EI8KHrMnvw0YRyGGu3xJOIPQCdbo0NxCi/Oaekz8D0TBmT6+QBYEjDksx3A1CTVF+q621GMyJz1Q/hRg60i3+4BMxPO7EPbuxMBh3punmth4Ohkv4uML8bTCID87h2fMksEnlnFrLleCVh+J2034J1B1pLdvyJfA/fev3+CsJptNfL0sfl6C+e0jk7ipFssb2UJ1cio0Mr5zwU1JMGELrR+5JUXUuYUDTJYWKlWtPnUlgnfGxdzWTwOgFww4ymkCFj8XZgQwCyj4XXcpTAqsvCTsdhwn0Y5+FbpEMJQPa1UEiGXZmVch7VTJQuW2JicUyGIZ+FM1tlaHgqsOb0qkkIgQ+YzwaiYUjkU5dm0m05yXzD6tJZAqLYmc9JEGONWQW95KwvW6qYdvJoQ+ifHkHOc7+otnExcohKiIYljlyWEnjI/Mb5Xj+53Ia44ccKSVVZc3UEHDIzvfRRAim/JcUgn+3+SFCIAMAAA==\"},\"shape\":[100],\"dtype\":\"float64\",\"order\":\"little\"}],[\"v\",[\"M1 = 3\",\"M1 = 3\",\"M1 = 3\",\"M1 = 3\",\"M1 = 3\",\"M1 = 3\",\"M1 = 3\",\"M1 = 3\",\"M1 = 3\",\"M1 = 3\",\"M1 = 3\",\"M1 = 3\",\"M1 = 3\",\"M1 = 3\",\"M1 = 3\",\"M1 = 3\",\"M1 = 3\",\"M1 = 3\",\"M1 = 3\",\"M1 = 3\",\"M1 = 3\",\"M1 = 3\",\"M1 = 3\",\"M1 = 3\",\"M1 = 3\",\"M1 = 3\",\"M1 = 3\",\"M1 = 3\",\"M1 = 3\",\"M1 = 3\",\"M1 = 3\",\"M1 = 3\",\"M1 = 3\",\"M1 = 3\",\"M1 = 3\",\"M1 = 3\",\"M1 = 3\",\"M1 = 3\",\"M1 = 3\",\"M1 = 3\",\"M1 = 3\",\"M1 = 3\",\"M1 = 3\",\"M1 = 3\",\"M1 = 3\",\"M1 = 3\",\"M1 = 3\",\"M1 = 3\",\"M1 = 3\",\"M1 = 3\",\"M1 = 3\",\"M1 = 3\",\"M1 = 3\",\"M1 = 3\",\"M1 = 3\",\"M1 = 3\",\"M1 = 3\",\"M1 = 3\",\"M1 = 3\",\"M1 = 3\",\"M1 = 3\",\"M1 = 3\",\"M1 = 3\",\"M1 = 3\",\"M1 = 3\",\"M1 = 3\",\"M1 = 3\",\"M1 = 3\",\"M1 = 3\",\"M1 = 3\",\"M1 = 3\",\"M1 = 3\",\"M1 = 3\",\"M1 = 3\",\"M1 = 3\",\"M1 = 3\",\"M1 = 3\",\"M1 = 3\",\"M1 = 3\",\"M1 = 3\",\"M1 = 3\",\"M1 = 3\",\"M1 = 3\",\"M1 = 3\",\"M1 = 3\",\"M1 = 3\",\"M1 = 3\",\"M1 = 3\",\"M1 = 3\",\"M1 = 3\",\"M1 = 3\",\"M1 = 3\",\"M1 = 3\",\"M1 = 3\",\"M1 = 3\",\"M1 = 3\",\"M1 = 3\",\"M1 = 3\",\"M1 = 3\",\"M1 = 3\"]],[\"r\",{\"type\":\"ndarray\",\"array\":[\"weak\",\"weak\",\"weak\",\"weak\",\"weak\",\"weak\",\"weak\",\"weak\",\"weak\",\"weak\",\"weak\",\"weak\",\"weak\",\"weak\",\"weak\",\"weak\",\"weak\",\"weak\",\"weak\",\"weak\",\"weak\",\"weak\",\"weak\",\"weak\",\"weak\",\"weak\",\"weak\",\"weak\",\"weak\",\"weak\",\"weak\",\"weak\",\"weak\",\"weak\",\"weak\",\"weak\",\"weak\",\"weak\",\"weak\",\"weak\",\"weak\",\"weak\",\"weak\",\"weak\",\"weak\",\"weak\",\"weak\",\"weak\",\"weak\",\"weak\",\"weak\",\"weak\",\"weak\",\"weak\",\"weak\",\"weak\",\"weak\",\"weak\",\"weak\",\"weak\",\"weak\",\"weak\",\"weak\",\"weak\",\"weak\",\"strong\",\"strong\",\"strong\",\"strong\",\"strong\",\"strong\",\"strong\",\"strong\",\"strong\",\"strong\",\"strong\",\"strong\",\"strong\",\"strong\",\"strong\",\"strong\",\"strong\",\"strong\",\"strong\",\"strong\",\"strong\",\"strong\",\"strong\",\"strong\",\"strong\",\"strong\",\"strong\",\"strong\",\"strong\",\"strong\",\"strong\",\"strong\",\"strong\",\"strong\",\"strong\"],\"shape\":[100],\"dtype\":\"object\",\"order\":\"little\"}]]}}},\"view\":{\"type\":\"object\",\"name\":\"CDSView\",\"id\":\"f1d95fd4-3f85-41a0-80ef-90b9338eae78\",\"attributes\":{\"filter\":{\"type\":\"object\",\"name\":\"AllIndices\",\"id\":\"3457e163-adbe-4488-b0de-4d8cffabdb18\"}}},\"glyph\":{\"type\":\"object\",\"name\":\"Line\",\"id\":\"fbbbdc39-bf76-4b42-8bea-a6683437a030\",\"attributes\":{\"x\":{\"type\":\"field\",\"field\":\"x\"},\"y\":{\"type\":\"field\",\"field\":\"y\"},\"line_color\":\"#9467bd\",\"line_width\":2}},\"nonselection_glyph\":{\"type\":\"object\",\"name\":\"Line\",\"id\":\"ded2ae2a-83e7-418b-86b4-262abe0dbed5\",\"attributes\":{\"x\":{\"type\":\"field\",\"field\":\"x\"},\"y\":{\"type\":\"field\",\"field\":\"y\"},\"line_color\":\"#9467bd\",\"line_alpha\":0.1,\"line_width\":2}},\"muted_glyph\":{\"type\":\"object\",\"name\":\"Line\",\"id\":\"9e4c2385-338a-431c-8999-b64deac2fa7b\",\"attributes\":{\"x\":{\"type\":\"field\",\"field\":\"x\"},\"y\":{\"type\":\"field\",\"field\":\"y\"},\"line_color\":\"#9467bd\",\"line_alpha\":0.2,\"line_width\":2}}}},{\"type\":\"object\",\"name\":\"GlyphRenderer\",\"id\":\"f16d5366-55a8-46cc-9524-01bf6a0b2c96\",\"attributes\":{\"data_source\":{\"type\":\"object\",\"name\":\"ColumnDataSource\",\"id\":\"e1bcc2fd-27e8-4f32-9a12-7d0edd546f3f\",\"attributes\":{\"selected\":{\"type\":\"object\",\"name\":\"Selection\",\"id\":\"7cc5cbd6-361b-4ce6-9ecc-bdeeaf2d19d4\",\"attributes\":{\"indices\":[],\"line_indices\":[]}},\"selection_policy\":{\"type\":\"object\",\"name\":\"UnionRenderers\",\"id\":\"70a1e9ba-e951-4824-b77e-523b21004f51\"},\"data\":{\"type\":\"map\",\"entries\":[[\"x\",{\"type\":\"ndarray\",\"array\":{\"type\":\"bytes\",\"data\":\"H4sIAAEAAAAC/wEgA9/8AAAAAAAAAAD5/hhaRKbzP3E3ws9VFQNABZcxDD/eC0Dya5OzRCASQAfHjtKQJRZAzZaqvQsFGkBAzt1FocMdQOVMcjSvsiBAcHCErs92IkDebrJRmS8kQE4TVgY63iVA8VTs4LCDJ0Dhk0tm1iApQJzKxhljtipARNXJuvRELEAgwHV9Es0tQDKO/nYwTy9AOf1sNNllMECb79oFdyExQHQl1HmW2jFAm2uyEFeRMkBfGv2n00UzQPc/qgUj+DNAenmdTFioNEDZ/EReg1Y1QIg3cSyxAjZA7e3o/eusNkCgScGnO1U3QO50H72l+zdA47+6ti2gOEDFnzYT1UI5QDntN3Gb4zlA/xXuo36COkDLk6XCeh87QIJd2zOKujtAbvovtKVTPED/bYNZxOo8QHmVcJLbfz1A5ydOIt8SPkAPz8wZwaM+QMdYPMxxMj9Admt1wd++P0B+lCzSeyRAQDw75hZSaEBAE3wEBueqQEAp/QjjLexAQIyhh80YLEFAp3ehrphqQUCV6CAknadBQMmKA2kU40FAbgI2O+scQkA+qT2+DFVCQCoxglpii0JAV//emNO/QkDmexj6RfJCQLvvxMmcIkNAMq8q7LhQQ0BkMoameHxDQNRXGmG3pUNAynNbYk3MQ0DwJnOCD/BDQF2RR9bOEERAnNkcUVguREDE/dRbdEhEQNDCwGDmXkRAaDDnSmxxREAgE6L3vX9EQKdacZmMiURAlEr6CoKOREBq/1ERQI5EQDNQ/4xfiERAdh2dmW98REBbZ8ec9GlEQHWmHUZnUERAdEPHgzMvRECAHDpxtwVEQAOrQklC00NATuPEaBOXQ0CF97d1WVBDQLHT58Ux/kJAQqF+K6ifQkBBEKZatzNCQOo67ytKuUFAK/p1Ej4vQUBBwPAxZ5RAQIf9listzz9Aj8BiNUZPPkBaRXZA66Y8QIoiwwsy1DpAfA5qfJzVOEAyGzWqSKo2QAcXGicnUjRALS2I5TPOMUBf6WmdV0EuQA7O27RtmihAIuF5IvqxIkB8qgAGdSoZQNHKfOT4TwlAbqn7DLeZDz1aEyNHIAMAAA==\"},\"shape\":[100],\"dtype\":\"float64\",\"order\":\"little\"}],[\"y\",{\"type\":\"ndarray\",\"array\":{\"type\":\"bytes\",\"data\":\"H4sIAAEAAAAC/xXSi1PLAQAH8LgoXV6hFFGqNYW2qWm0+m6trfawx28bax6HUqrLUSqFHiNSKnYOoevhlFyc7mhuDKeSaEypPKYROZm6VB6V43z+hs+v9GiB1ckX4SY95VYtGcV+7s45oX54pTk0EdXpD29zr2VewkrsprNazH9XwcwzvezgU6AZzW3VLaCCXEnTX7RQYRT11eddpSFlXFsRl7YarjUcrZAVCAMxdoTqGIQYm8sZzt1BcKhXJk5U0nFdZbfFkrQG8uk6SfOaYIw3xIfXTWWgYqsrvaSdgQjHNnLq2bUY0GUuUu1Yh9JY/1mhq0JAd3pr4/U7BG8MRSN2TUzkJjL7rcWhIC0c7DGpwrBz+7NYtROg0/n2tqcDjrNzNsIMbIntMTWwWbihpwh8almwdSpoOjOTDWX8e6ZDCht1BkbjgR42JuefogwxwyFOHLiyrTocVQ/YXp32HIy6nL/ATeaAlzyy4HYHB2VNghJ/RgSsbpfsy8sjELZnMneOLRenHskn8nZx8cm9PnXMyEVw6rTBuEAejrdtjnt9jgezxy2L8C8PlPRZ0fdiIqFp39lBbYtEl9c94aWAKJAzXVqcT0ch6/nusILxKBhJrbqJrXx4HvSgJTfzkdKRcdXiJ0DLcpM3USqAa87y8uYxAZK6cl2C1UIYVrwurbsvxFwNzcGdJELMq+OakkIRGgP6JqcMizAjf11aqnI9Nr3VDvXr1+M6zRqv8hRjagHnw5N8MRS9F9ShVjE6yzITesgS/Gkm1ZxUS0AaftHHL5ZAsjjbw/aBBPt5/pvvjkhQtbf7XBpJiqcXNV0BKil+tAbM+1IoxZLRN+IqgxSRS48VqYel2MsPfDzfW4bz+yzTjEoZmiqK2EcLZBh8EpyNOzK4/Pyo/z0oA5ad/NXgSSBBxAxKkhPQZnzZ43OUwN3q09fe3SbQb2R9PWMlMHv8m690qRwMn7IYB5kc2yXcyoeH5SjM+m4+0CjHzcvlbvQBOd6Z+BuGFitg/+eHtlasAJVc/XxbngLRhHjmopsKHP7f/LMC9Vdq8k+4KdHdSTzkipSw+S9HiX+GCA1nIAMAAA==\"},\"shape\":[100],\"dtype\":\"float64\",\"order\":\"little\"}],[\"v\",[\"M1 = 5\",\"M1 = 5\",\"M1 = 5\",\"M1 = 5\",\"M1 = 5\",\"M1 = 5\",\"M1 = 5\",\"M1 = 5\",\"M1 = 5\",\"M1 = 5\",\"M1 = 5\",\"M1 = 5\",\"M1 = 5\",\"M1 = 5\",\"M1 = 5\",\"M1 = 5\",\"M1 = 5\",\"M1 = 5\",\"M1 = 5\",\"M1 = 5\",\"M1 = 5\",\"M1 = 5\",\"M1 = 5\",\"M1 = 5\",\"M1 = 5\",\"M1 = 5\",\"M1 = 5\",\"M1 = 5\",\"M1 = 5\",\"M1 = 5\",\"M1 = 5\",\"M1 = 5\",\"M1 = 5\",\"M1 = 5\",\"M1 = 5\",\"M1 = 5\",\"M1 = 5\",\"M1 = 5\",\"M1 = 5\",\"M1 = 5\",\"M1 = 5\",\"M1 = 5\",\"M1 = 5\",\"M1 = 5\",\"M1 = 5\",\"M1 = 5\",\"M1 = 5\",\"M1 = 5\",\"M1 = 5\",\"M1 = 5\",\"M1 = 5\",\"M1 = 5\",\"M1 = 5\",\"M1 = 5\",\"M1 = 5\",\"M1 = 5\",\"M1 = 5\",\"M1 = 5\",\"M1 = 5\",\"M1 = 5\",\"M1 = 5\",\"M1 = 5\",\"M1 = 5\",\"M1 = 5\",\"M1 = 5\",\"M1 = 5\",\"M1 = 5\",\"M1 = 5\",\"M1 = 5\",\"M1 = 5\",\"M1 = 5\",\"M1 = 5\",\"M1 = 5\",\"M1 = 5\",\"M1 = 5\",\"M1 = 5\",\"M1 = 5\",\"M1 = 5\",\"M1 = 5\",\"M1 = 5\",\"M1 = 5\",\"M1 = 5\",\"M1 = 5\",\"M1 = 5\",\"M1 = 5\",\"M1 = 5\",\"M1 = 5\",\"M1 = 5\",\"M1 = 5\",\"M1 = 5\",\"M1 = 5\",\"M1 = 5\",\"M1 = 5\",\"M1 = 5\",\"M1 = 5\",\"M1 = 5\",\"M1 = 5\",\"M1 = 5\",\"M1 = 5\",\"M1 = 5\"]],[\"r\",{\"type\":\"ndarray\",\"array\":[\"weak\",\"weak\",\"weak\",\"weak\",\"weak\",\"weak\",\"weak\",\"weak\",\"weak\",\"weak\",\"weak\",\"weak\",\"weak\",\"weak\",\"weak\",\"weak\",\"weak\",\"weak\",\"weak\",\"weak\",\"weak\",\"weak\",\"weak\",\"weak\",\"weak\",\"weak\",\"weak\",\"weak\",\"weak\",\"weak\",\"weak\",\"weak\",\"weak\",\"weak\",\"weak\",\"weak\",\"weak\",\"weak\",\"weak\",\"weak\",\"weak\",\"weak\",\"weak\",\"weak\",\"weak\",\"weak\",\"weak\",\"weak\",\"weak\",\"weak\",\"weak\",\"weak\",\"weak\",\"weak\",\"weak\",\"weak\",\"weak\",\"weak\",\"weak\",\"weak\",\"weak\",\"weak\",\"weak\",\"weak\",\"weak\",\"weak\",\"weak\",\"weak\",\"weak\",\"weak\",\"strong\",\"strong\",\"strong\",\"strong\",\"strong\",\"strong\",\"strong\",\"strong\",\"strong\",\"strong\",\"strong\",\"strong\",\"strong\",\"strong\",\"strong\",\"strong\",\"strong\",\"strong\",\"strong\",\"strong\",\"strong\",\"strong\",\"strong\",\"strong\",\"strong\",\"strong\",\"strong\",\"strong\",\"strong\",\"strong\"],\"shape\":[100],\"dtype\":\"object\",\"order\":\"little\"}]]}}},\"view\":{\"type\":\"object\",\"name\":\"CDSView\",\"id\":\"2e42007a-1031-4600-898a-f79a06b009b3\",\"attributes\":{\"filter\":{\"type\":\"object\",\"name\":\"AllIndices\",\"id\":\"8a8ae0b4-6a4b-406e-bae8-ec61f9c81caf\"}}},\"glyph\":{\"type\":\"object\",\"name\":\"Line\",\"id\":\"9ae4571d-4e39-4ff5-8729-6b389ef3f775\",\"attributes\":{\"x\":{\"type\":\"field\",\"field\":\"x\"},\"y\":{\"type\":\"field\",\"field\":\"y\"},\"line_color\":\"#8c564b\",\"line_width\":2}},\"nonselection_glyph\":{\"type\":\"object\",\"name\":\"Line\",\"id\":\"2139b8ea-ed2d-4d72-b9df-b5448e2a4ef5\",\"attributes\":{\"x\":{\"type\":\"field\",\"field\":\"x\"},\"y\":{\"type\":\"field\",\"field\":\"y\"},\"line_color\":\"#8c564b\",\"line_alpha\":0.1,\"line_width\":2}},\"muted_glyph\":{\"type\":\"object\",\"name\":\"Line\",\"id\":\"5bb78a40-31f7-4d1c-a166-590b5bf1da3b\",\"attributes\":{\"x\":{\"type\":\"field\",\"field\":\"x\"},\"y\":{\"type\":\"field\",\"field\":\"y\"},\"line_color\":\"#8c564b\",\"line_alpha\":0.2,\"line_width\":2}}}},{\"type\":\"object\",\"name\":\"GlyphRenderer\",\"id\":\"43f99399-c407-4d0d-8394-9d69ed2cd02e\",\"attributes\":{\"data_source\":{\"type\":\"object\",\"name\":\"ColumnDataSource\",\"id\":\"1c953d7e-a1ea-4786-8819-70dc258b0cf1\",\"attributes\":{\"selected\":{\"type\":\"object\",\"name\":\"Selection\",\"id\":\"a3071661-c335-44a7-8b17-f669c35e7022\",\"attributes\":{\"indices\":[],\"line_indices\":[]}},\"selection_policy\":{\"type\":\"object\",\"name\":\"UnionRenderers\",\"id\":\"76238c49-61f5-4256-8bc1-3a10ef7d3ca5\"},\"data\":{\"type\":\"map\",\"entries\":[[\"x\",{\"type\":\"ndarray\",\"array\":{\"type\":\"bytes\",\"data\":\"H4sIAAEAAAAC/wEgA9/8AAAAAAAAAAC4sBqw9T3oP/IlJ9SnPfg/++vAhdwtAkBP5LEdcDwIQJMDglZnSg5AgdyHQ80rEkBx8TrS8DEVQE2CzxaKNxhAohUui4Q8G0DlUPRYy0AeQLyjMKckoiBAHdhvaXQjIkAfYJDtSaQjQAfOXO6ZJCVADTOa4FikJkARdELseiMoQBLVZ+XzoSlA5Hu4RLcfK0Ds7ZcfuJwsQE64wx/pGC5AZ4R3ejyUL0Bu6IHzUYcwQPauZEoIRDFAYgdFkDkAMkCwRn/E3bsyQMwuT5HsdjNAZxxDRV0xNEBnQDPMJus0QHCmsKc/pDVAx4De5p1cNkCZv6YdNxQ3QKVYOVsAyzdAMtDDH+6AOEA9gkxR9DU5QJjWmi8G6jlAWOcSRxadOkAMJWhiFk87QGAiB3v3/ztA6dkSqKmvPEA/Y80LHF49QA0VP788Cz5AkGbpu/i2PkBna0zDO2E/QKwu/yH4BEBA2RYGnn9YQECdLigMKKtAQAUVMUjk/EBA/iFZP6ZNQUD/ri3aXp1BQDzmDeT960FAAcTs73E5QkCRdf05qIVCQOvm4YWM0EJArcrj+AgaQ0AeU67vBWJDQG296c5pqENAuzABzhjtQ0Bgpj679C9EQMTaRrjccERAmsXX7ayvREBnxX01PuxEQCNUvbdlJkVARFzvfPRdRUBwisPutpJFQCp0BEh0xEVAESbT7+3yRUAFiRi93h1GQGPtYB76REZAQ/+2IetnRkBJEV5XU4ZGQJvbf4nJn0ZAhYMBQtizRkB6z8QW/MFGQH0HqbOhyUZAJc3BmCPKRkD1gZiCx8JGQJs9KHK7skZArnEHSxKZRkBxloYAwHRGQEZKeU+VREZAIpJ9CzsHRkA86EcWLbtFQP0WSTG1XkVAoSb3AubvREDo/gPolmxEQJggrYZh0kNAWfACoaIeQ0Bzp9xagE5CQGyLJhH5XkFAXUR45P5MQEDlM8zqSSs+QN0bD+rGbDtAlj8GOOxaOEDIl4v5p/Q0QIXkWY1tPDFAbNOwqWpyKkBXAka7Su4hQI2+Rz46HhJA5kkdaBLAEz0bZ5TkIAMAAA==\"},\"shape\":[100],\"dtype\":\"float64\",\"order\":\"little\"}],[\"y\",{\"type\":\"ndarray\",\"array\":{\"type\":\"bytes\",\"data\":\"H4sIAAEAAAAC/xXSaUgUYRzH8YlKAlNCsFExTNcjCyevNN1yfx6zh+fuurtENhGm4E3Q5AvFMsgyRlvzhYG9iNYljDzCE9bCksIkMkYTXC06EFyhNTI1Alf7O2+GeR7m83zh+Xc/v+PVM1GTZr6+/Itn3SrDsdvfeNajeqFtKRHl/dA3zM3zrA/WzlmfSJwflH8GL4myP5pa54MEMRAfozyfePYIDn5v07DCUcRxXXaJC4OlfngPw4Sj7t3kRVGOwCP/hTGXLQpvin8GCGI0Vvq3r8n8Cfh6Ds3ybAwSshWxDheHnvedalaIRdqagvbjIAf0dklcPC6rkmZ4NgGbpeMMwySiuUV70uFKRNCgLIjyKfQ6z7dwjiSomCWHy5aMmcjqFZt0GiV5m6wgpuDv1RvkpuJu5wFylQh+fZ/cM+hbDiL3LOBrJzcNs4kx5KahtGiEXBW2XoXQfwBvKqFv4N5ytyjz6Zivc0ucIx2hvvHkZKDicS2dm4HBxDGZZzOxNbnjskmZUBdlkZsF62ozdWRh/uYHzuHKQqi/H7k8Krot5PIYUj6klxqe6a/kqqEuDidXA+tGGbkaOJt7ydUiLHiNXC0q+5PI1WEoo55cHTxz4+TqoCnfR2422ra05GbDaW0lNwdhihlyc1A1cpjcXAzrisjNxfbnR+TmQXNlidw8tO2NJjcfCx3V5OZDcXyA3HxUvdzkWaEAw3oluQXY+a1yuML0sCt/0Loe2qZbMv9AD/d0JO3r0R4w5bJ5G5BUXEnnG7D4zIdhGg1o3OinDgPCVUZWWDdgqnndJnFGVM90cI4yI/yCU6jLiNHSRZ79YkRRfwP1FYL5FyKIhkLYMyaosxC63fF8W4jVOS/qNaE95KnEpZqQXJ5D3SYsDrhtUp8JjVtW6jchQh1PvWZMWWlcBTNqnLXUa4afIpB6zRitovH0tuDC7rXzFjC7T6MF/wGq+9XvIAMAAA==\"},\"shape\":[100],\"dtype\":\"float64\",\"order\":\"little\"}],[\"v\",[\"M1 = \\u221e\",\"M1 = \\u221e\",\"M1 = \\u221e\",\"M1 = \\u221e\",\"M1 = \\u221e\",\"M1 = \\u221e\",\"M1 = \\u221e\",\"M1 = \\u221e\",\"M1 = \\u221e\",\"M1 = \\u221e\",\"M1 = \\u221e\",\"M1 = \\u221e\",\"M1 = \\u221e\",\"M1 = \\u221e\",\"M1 = \\u221e\",\"M1 = \\u221e\",\"M1 = \\u221e\",\"M1 = \\u221e\",\"M1 = \\u221e\",\"M1 = \\u221e\",\"M1 = \\u221e\",\"M1 = \\u221e\",\"M1 = \\u221e\",\"M1 = \\u221e\",\"M1 = \\u221e\",\"M1 = \\u221e\",\"M1 = \\u221e\",\"M1 = \\u221e\",\"M1 = \\u221e\",\"M1 = \\u221e\",\"M1 = \\u221e\",\"M1 = \\u221e\",\"M1 = \\u221e\",\"M1 = \\u221e\",\"M1 = \\u221e\",\"M1 = \\u221e\",\"M1 = \\u221e\",\"M1 = \\u221e\",\"M1 = \\u221e\",\"M1 = \\u221e\",\"M1 = \\u221e\",\"M1 = \\u221e\",\"M1 = \\u221e\",\"M1 = \\u221e\",\"M1 = \\u221e\",\"M1 = \\u221e\",\"M1 = \\u221e\",\"M1 = \\u221e\",\"M1 = \\u221e\",\"M1 = \\u221e\",\"M1 = \\u221e\",\"M1 = \\u221e\",\"M1 = \\u221e\",\"M1 = \\u221e\",\"M1 = \\u221e\",\"M1 = \\u221e\",\"M1 = \\u221e\",\"M1 = \\u221e\",\"M1 = \\u221e\",\"M1 = \\u221e\",\"M1 = \\u221e\",\"M1 = \\u221e\",\"M1 = \\u221e\",\"M1 = \\u221e\",\"M1 = \\u221e\",\"M1 = \\u221e\",\"M1 = \\u221e\",\"M1 = \\u221e\",\"M1 = \\u221e\",\"M1 = \\u221e\",\"M1 = \\u221e\",\"M1 = \\u221e\",\"M1 = \\u221e\",\"M1 = \\u221e\",\"M1 = \\u221e\",\"M1 = \\u221e\",\"M1 = \\u221e\",\"M1 = \\u221e\",\"M1 = \\u221e\",\"M1 = \\u221e\",\"M1 = \\u221e\",\"M1 = \\u221e\",\"M1 = \\u221e\",\"M1 = \\u221e\",\"M1 = \\u221e\",\"M1 = \\u221e\",\"M1 = \\u221e\",\"M1 = \\u221e\",\"M1 = \\u221e\",\"M1 = \\u221e\",\"M1 = \\u221e\",\"M1 = \\u221e\",\"M1 = \\u221e\",\"M1 = \\u221e\",\"M1 = \\u221e\",\"M1 = \\u221e\",\"M1 = \\u221e\",\"M1 = \\u221e\",\"M1 = \\u221e\",\"M1 = \\u221e\"]],[\"r\",{\"type\":\"ndarray\",\"array\":[\"weak\",\"weak\",\"weak\",\"weak\",\"weak\",\"weak\",\"weak\",\"weak\",\"weak\",\"weak\",\"weak\",\"weak\",\"weak\",\"weak\",\"weak\",\"weak\",\"weak\",\"weak\",\"weak\",\"weak\",\"weak\",\"weak\",\"weak\",\"weak\",\"weak\",\"weak\",\"weak\",\"weak\",\"weak\",\"weak\",\"weak\",\"weak\",\"weak\",\"weak\",\"weak\",\"weak\",\"weak\",\"weak\",\"weak\",\"weak\",\"weak\",\"weak\",\"weak\",\"weak\",\"weak\",\"weak\",\"weak\",\"weak\",\"weak\",\"weak\",\"weak\",\"weak\",\"weak\",\"weak\",\"weak\",\"weak\",\"weak\",\"weak\",\"weak\",\"weak\",\"weak\",\"weak\",\"weak\",\"weak\",\"weak\",\"weak\",\"weak\",\"weak\",\"weak\",\"weak\",\"weak\",\"weak\",\"weak\",\"weak\",\"weak\",\"strong\",\"strong\",\"strong\",\"strong\",\"strong\",\"strong\",\"strong\",\"strong\",\"strong\",\"strong\",\"strong\",\"strong\",\"strong\",\"strong\",\"strong\",\"strong\",\"strong\",\"strong\",\"strong\",\"strong\",\"strong\",\"strong\",\"strong\",\"strong\",\"strong\"],\"shape\":[100],\"dtype\":\"object\",\"order\":\"little\"}]]}}},\"view\":{\"type\":\"object\",\"name\":\"CDSView\",\"id\":\"5df21427-f04e-41eb-bd0d-13487771fbd2\",\"attributes\":{\"filter\":{\"type\":\"object\",\"name\":\"AllIndices\",\"id\":\"6f75cffb-0bfb-4ba9-996a-92d5f79f2291\"}}},\"glyph\":{\"type\":\"object\",\"name\":\"Line\",\"id\":\"44727e13-ccaa-4fae-8676-834e761d8757\",\"attributes\":{\"x\":{\"type\":\"field\",\"field\":\"x\"},\"y\":{\"type\":\"field\",\"field\":\"y\"},\"line_color\":\"#e377c2\",\"line_width\":2}},\"nonselection_glyph\":{\"type\":\"object\",\"name\":\"Line\",\"id\":\"f380deeb-6de8-48d8-b078-a56f2b401523\",\"attributes\":{\"x\":{\"type\":\"field\",\"field\":\"x\"},\"y\":{\"type\":\"field\",\"field\":\"y\"},\"line_color\":\"#e377c2\",\"line_alpha\":0.1,\"line_width\":2}},\"muted_glyph\":{\"type\":\"object\",\"name\":\"Line\",\"id\":\"62d7c77c-aa72-4808-be4d-9b1e3bf2e644\",\"attributes\":{\"x\":{\"type\":\"field\",\"field\":\"x\"},\"y\":{\"type\":\"field\",\"field\":\"y\"},\"line_color\":\"#e377c2\",\"line_alpha\":0.2,\"line_width\":2}}}},{\"type\":\"object\",\"name\":\"GlyphRenderer\",\"id\":\"4f7491b7-12e8-4777-8381-7af4042a2f54\",\"attributes\":{\"data_source\":{\"type\":\"object\",\"name\":\"ColumnDataSource\",\"id\":\"2d485353-817e-42b2-beaa-97954e24bfec\",\"attributes\":{\"selected\":{\"type\":\"object\",\"name\":\"Selection\",\"id\":\"74a76ee3-02fb-463c-8a0c-50bcf2d1fd9c\",\"attributes\":{\"indices\":[],\"line_indices\":[]}},\"selection_policy\":{\"type\":\"object\",\"name\":\"UnionRenderers\",\"id\":\"3eb7ac5e-fa21-417f-b193-bf7a8e3a1d15\"},\"data\":{\"type\":\"map\",\"entries\":[[\"x\",{\"type\":\"ndarray\",\"array\":{\"type\":\"bytes\",\"data\":\"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\"},\"shape\":[500],\"dtype\":\"float64\",\"order\":\"little\"}],[\"y\",{\"type\":\"ndarray\",\"array\":{\"type\":\"bytes\",\"data\":\"H4sIAAEAAAAC/x3UeVxNWxQH8EJCQnNeeIlKpFHRK1pPg164ZzeQHkoaSJoQoUFFaR5VNBmaNReVJkqppFHyNBuSIg2kpHpru/98P/fce9ZZ+7fXPmxs+LlyEMT6v/Q0thnCzlzrXD5JQ8jOU39QlmQAmdKTbadVDYDjy1V2mT59uF9tGzYQrA/nNaRMxXT04dOtlutanPrAMTK5Qa5BD6K2cW5eGakHtxR0pXdb6EGV+mjoXmU9mE6XuF3DpQfsm+zfHXtPgEdi+H57BYEUV/nuoTgC0Woz8XZuBAJ6VVKUzAgsiY77ulqbwElb4aJpaQJXU7KfPBQgoLd/V74SG4EQxUnVktcMgHbbNtkCBtYvTh6NDWPAUt5rpussA8/fD5vXGzHgp8BmsXsXA0I/jP/YKMmA0r0ChvAyIMX+x560eRYsLCyN5P3Kgi61eU7HPhaUZlm7prex4FHDte6kWhZcNqli31vBguOZaamehSzwSSk8pZzLgq8Cp3NJBgvUPi7MKU1lgWd34FGrZBastFjg8FcSC0L2iRySQCcF8ncK43VuDddfcyksiPIYF61PZ0HSiP4H6ywWyN5OkWnKY4GoXZ7vMNaf7a6QzC1jgauZQSfvUxZcPJzGv+g5C8TNuHucW1ng7Mjx2vINC+YdDZUev2UBZ2/HQ9dhFuxT0UqJ+IbrSGx4NTPLgjSz5Mh0TgYifoQURPMwUNuvdb5chAG3fUMR/BIM8LE8dkTIMXAk2GJCWZWBqS/Pyia1MBflfWMvCAO29xM1Cw8z0HRN/1mmFeYserE7w5GBmxovVHNcGBDTv/Mu34eBofcr/yzA3O3XaLtmxjGgfHCkMTYVcx8vEXPPZ+ClmXClXjkDNlFjW3nrGNiZnyZS3saAcZzkGYMeBmL4l+xpHmSgOGykU2GCAflL32MuzjIQoBUf0LKQAIeXLkfHEgLuikmJDdwE5C96fczlJZB74ZOxtxCBtR8EI/9ZQyB+OkFjRpTAeb0wwRhxAp3bkxo3bSZg+/6ccqIMgTWKtWLcigRS/+1zNN9OQFu+dVmKKoGgwMGuDnUCjw6s7P2uQaC8RXsluw7W7113ZnovgWt3VHh7GQLV2u3zuQYEft46Qs4YEehgn1srepiAwFUdnxITvD+zMUvzOIHwvsZHJZYEjvb3vRS1xjndmyp17jQBl2L/wQf2BCoMHDQGzuDch1204zhPYMOvhgS+i9h/nPFKHhcC5qvvTc7iOfDkCQl544HfS1RXp1wlMOhe/8LcB/u3+fvzKj8C9geO5WcFEFAMcju+M5jApx/WKmWhBPqP6TjLRBCYWHzZNDSSwMiaq7ID0ZibysimrTEERiOVAqzwvN1YmH8zLAHvP3U9NPcOnrv+oPyqewRkxLXV65Kwzonqs5UpBBytMoOz0wg8zhJpCbmPz5+Ld7LKJLC4SPqRXDaBYh2hzq85mJcvB39iHj7n21DC/gICAxlsxZ8fYL0DFdEehQR6Av67sLwYc5TaHhT4iIDK0jFejlL8/eJ+tbNlBGoVy9RflxMYf/Vab9tjAk5vTJJ9nhAQmZZ3aK0kELvgUD//U+x31fRmpprAFgFTV48aAqza75wZzzCvdt3pxloCCqYr3IfqCNSU8dXM1ROIuKL/k6uBwOW0j9q8LwjsFBR6xdNI4Ob6/S3LmnA/T4uazaKlLQaZn5oJdDu/7mpqIXCAp1kgp5XAnHiwq18b1glM2GH6EudqovKUTDsBpXPflafQZ/scKkpfYa4xGeIuHQS45K38lF8T+NcynvszmrMgoTH2PwJEdnZY5w3meDzWaxRdfiw3L7yTwHH56hsKXQQMpIp0XqDh/U8HzLtxP9S9/CbRCsfh/dd6CPwaOaS7qpdAo0NgdBRq/jmfiPThur3M/WJQf6e7R4T7cU4WfeoORdX/3bhxyVsCTSbFmpfRl8E+hsOoQt3wiUPvCKxeVhVWiQbK2Q5K4fv4TmrT5SB0vcAh01H0xdhcIvOBwBEJXZMMtDyUiV08QGBFYKG9CbrbomIwH7WoUBXi/Ih9LYtZdggtrf/Ykoy2fqm/PIF+XBEkuGsQ39+Za3O8UTFTroMv0OyxYAHeTzj31wJnDFGrhFD+SPTwlo7T7WjQJZ1VfEMEHOQ9ljEov1yzlS9aZK8iV4nGt19wnEZNf81tkx3G8zXx66o5um7ysE0kKiLwdOwZeqk3dv0U+nJqxSLJzwS+3+e4a4hecZRb5IH+dWaRYgYa9qtM+RW6bMJMaB6NlK/okvhCwOOzfdB+NIKjU/Es+uqw0sso9BS31/kStKI4en0PylO0pmseVde8niE6QqAsbdNNQH9YiKaaopZ/nex1RZWZZs0YNFaWvacQ/d7pktNGr1clPBlBb1TcEVz6Fc/L0qgCMdR8o+NtVdSjZr7HAD1UMnbOBvWsaLfyROuMRIqjUcV7fA5ZaIv4eHAVOhj8Ys1rdJvH7T8+o/zauoHzaHhAsDPvKIGn60T6NqIlvm7PlFG1JgUFHfQL580Nxuhtjpl4a7R3wj/lIpo3chJ80cZbN09Ho5YPVsmmoHxJGX4P0GG2HZ5VqKbIKeEWVMnrI9ODWnnt3jKMNt+ZyfiBegl6diwcwzw1t2WuRNk2H5MTQd3aNMwl0PQabh15NNmuu08VlfWsktVGfa0rlQlalND4wxgd4W86Z46GeMdln0a1ehenO6F7/J9buqFTzQnvvVF2MelNwaiPA7dCFMp1qX1hAlomxJWQjGr7bubIos8pSdr+ABUMe7+9FF0qo8VZhe6XXpNShxp/LhBuRnNe6B19hT6ykz7fhfoPOlm8RYW5jKQGUdHI0eovqJHdYdUJ9OF/qX5T6MastwWzKP91rpIF49jX7Lp4TtSqjsd0OZq9sHVuFRq6Z4+bACr4Qb9nNdq4pPnPdejd4XANMdR6ylZXAnWdkFTajP4Q914kg9a47ymWR9PLxQ2V0Ieh7e07UNnyxepq6Fl1ixB11PdERP1utG6hyogWynbh64wOKt9Nvu1F+TaOd7DQHVstUvTQvwcUzQ1RlRNDXEaoJBf3XWPU2H+txBH0utCtaBPUwnF2+hjaN1eua07rDur7W6IzkptLT6CvU/K6rVFbYjRqgzKiV77ZonZ/hw3ZoyUio62OaLHVdOZZNFedy8UJ1VO5svMC7dc2Z9yZrid0LOYSOsUWpeKC3mobe+6K2g8TA3c0mZ29+QrKW7Jvtycal+2S7kX7cu9Ycg0903XnqDc6GbUuzQf9kBs0fB39x0Je3A/dIKt50B899mGBewB6sjAlIRCdVrcpCkKjg67WBaPCClJtIejP3YHtoSiX7bvmMFRk9kh1OLr+vVR+BCpQ43zrBirHfuFyJM35ITkYhW5tldsSjX4W+Psn1XptetVNtMkm3OcW+tR2g3YM6n/VfZ66bXlDfiwqfVzaPA7lHqnkjkeXi+fmU4MjhA4k0OsDAuPU5g/1frfRDh/DP++g5V+bsqmc543V7qKlGcurqS4Wi3TvoTsL/n1OPfNz0z+JNJcPPlVUf+fgv5JQ7+VGWVQz4+/rktFhpysBVJl+7h/ULo88kxS6rizPKmrc1jDxVPSX2rer1M3hJf3UWoufqml0vy0rw6nSTRs/URuOK6il0/mwmQmgJlUGd1L52uYk76MBcUZnqNkPUx9Rexk29gy678qntajqHdM+VB14WEu9LJHFmYk+fv9Fkxrm5nGF6pJ07hHVtqh1nJpQkyyVRdcbOmNCbQ7tDKOu+kaqqebxlpO/VdwgkU3P66pwQ+oOg3IPqlNHZiZ1/c5Tr6nbBmbYc9BvM6c2U3/ZVOhR335lc6b6c26PoxaxWz+havyIe0890Nq1OJfO6T/Sm6ghH8N0qNpLhE5SZf4r96bOmoYkUq2cQp9QHZ4/66bWDu2Ypp5XHuLLo3Mx1LeV6v+n2B7qaH2eKXVtedSF36a3B1ET1zomUc9etyuhiqq1Nv++/9TtD9QMye5paoNdAHc+Ov5Hnig1dkRPkeoVaq9F/RWywoiqY65wkhpt0eNMtXoj4Ett+tYZTT1Yr5hKTTcVLaQm3k6sprqfqGqjbrnk3k996ds5Qt2l9GaG6rnMbUkB+sWrjp/quKxClLpr6pg0lfdG7nZqnXD+burJzBP7qVdsWoyoS03Hzah7rzXYUJUbzJyogwIFblRh5Wqf3/W+RYYU/J73LTepntJed6gHp26nUQM4vXOpywcUi6kZghmPqfMrR59R09XZm6jjnP3tVOfKkC6qZgXPO+pRLctPv/8fGvCVmvrm+neq/97DM9SOpRzsD+h7VsFnMfV/nMXTsaAPAAA=\"},\"shape\":[500],\"dtype\":\"float64\",\"order\":\"little\"}],[\"v\",[\"\",\"\",\"\",\"\",\"\",\"\",\"\",\"\",\"\",\"\",\"\",\"\",\"\",\"\",\"\",\"\",\"\",\"\",\"\",\"\",\"\",\"\",\"\",\"\",\"\",\"\",\"\",\"\",\"\",\"\",\"\",\"\",\"\",\"\",\"\",\"\",\"\",\"\",\"\",\"\",\"\",\"\",\"\",\"\",\"\",\"\",\"\",\"\",\"\",\"\",\"\",\"\",\"\",\"\",\"\",\"\",\"\",\"\",\"\",\"\",\"\",\"\",\"\",\"\",\"\",\"\",\"\",\"\",\"\",\"\",\"\",\"\",\"\",\"\",\"\",\"\",\"\",\"\",\"\",\"\",\"\",\"\",\"\",\"\",\"\",\"\",\"\",\"\",\"\",\"\",\"\",\"\",\"\",\"\",\"\",\"\",\"\",\"\",\"\",\"\",\"\",\"\",\"\",\"\",\"\",\"\",\"\",\"\",\"\",\"\",\"\",\"\",\"\",\"\",\"\",\"\",\"\",\"\",\"\",\"\",\"\",\"\",\"\",\"\",\"\",\"\",\"\",\"\",\"\",\"\",\"\",\"\",\"\",\"\",\"\",\"\",\"\",\"\",\"\",\"\",\"\",\"\",\"\",\"\",\"\",\"\",\"\",\"\",\"\",\"\",\"\",\"\",\"\",\"\",\"\",\"\",\"\",\"\",\"\",\"\",\"\",\"\",\"\",\"\",\"\",\"\",\"\",\"\",\"\",\"\",\"\",\"\",\"\",\"\",\"\",\"\",\"\",\"\",\"\",\"\",\"\",\"\",\"\",\"\",\"\",\"\",\"\",\"\",\"\",\"\",\"\",\"\",\"\",\"\",\"\",\"\",\"\",\"\",\"\",\"\",\"\",\"\",\"\",\"\",\"\",\"\",\"\",\"\",\"\",\"\",\"\",\"\",\"\",\"\",\"\",\"\",\"\",\"\",\"\",\"\",\"\",\"\",\"\",\"\",\"\",\"\",\"\",\"\",\"\",\"\",\"\",\"\",\"\",\"\",\"\",\"\",\"\",\"\",\"\",\"\",\"\",\"\",\"\",\"\",\"\",\"\",\"\",\"\",\"\",\"\",\"\",\"\",\"\",\"\",\"\",\"\",\"\",\"\",\"\",\"\",\"\",\"\",\"\",\"\",\"\",\"\",\"\",\"\",\"\",\"\",\"\",\"\",\"\",\"\",\"\",\"\",\"\",\"\",\"\",\"\",\"\",\"\",\"\",\"\",\"\",\"\",\"\",\"\",\"\",\"\",\"\",\"\",\"\",\"\",\"\",\"\",\"\",\"\",\"\",\"\",\"\",\"\",\"\",\"\",\"\",\"\",\"\",\"\",\"\",\"\",\"\",\"\",\"\",\"\",\"\",\"\",\"\",\"\",\"\",\"\",\"\",\"\",\"\",\"\",\"\",\"\",\"\",\"\",\"\",\"\",\"\",\"\",\"\",\"\",\"\",\"\",\"\",\"\",\"\",\"\",\"\",\"\",\"\",\"\",\"\",\"\",\"\",\"\",\"\",\"\",\"\",\"\",\"\",\"\",\"\",\"\",\"\",\"\",\"\",\"\",\"\",\"\",\"\",\"\",\"\",\"\",\"\",\"\",\"\",\"\",\"\",\"\",\"\",\"\",\"\",\"\",\"\",\"\",\"\",\"\",\"\",\"\",\"\",\"\",\"\",\"\",\"\",\"\",\"\",\"\",\"\",\"\",\"\",\"\",\"\",\"\",\"\",\"\",\"\",\"\",\"\",\"\",\"\",\"\",\"\",\"\",\"\",\"\",\"\",\"\",\"\",\"\",\"\",\"\",\"\",\"\",\"\",\"\",\"\",\"\",\"\",\"\",\"\",\"\",\"\",\"\",\"\",\"\",\"\",\"\",\"\",\"\",\"\",\"\",\"\",\"\",\"\",\"\",\"\",\"\",\"\",\"\",\"\",\"\",\"\",\"\",\"\",\"\",\"\",\"\",\"\",\"\",\"\",\"\",\"\",\"\",\"\",\"\",\"\",\"\",\"\",\"\",\"\",\"\",\"\",\"\",\"\",\"\",\"\",\"\",\"\",\"\",\"\",\"\",\"\",\"\",\"\",\"\",\"\",\"\",\"\",\"\",\"\",\"\",\"\",\"\",\"\",\"\",\"\",\"\",\"\",\"\",\"\",\"\",\"\",\"\",\"\",\"\",\"\",\"\"]]]}}},\"view\":{\"type\":\"object\",\"name\":\"CDSView\",\"id\":\"79cd860d-ccf2-44f7-bc3e-67133604ef2c\",\"attributes\":{\"filter\":{\"type\":\"object\",\"name\":\"AllIndices\",\"id\":\"277ced42-890e-41aa-9ff4-9b8d1bcd1ab7\"}}},\"glyph\":{\"type\":\"object\",\"name\":\"Line\",\"id\":\"6ede860a-cc04-49ee-821b-3f4dfd4a011a\",\"attributes\":{\"x\":{\"type\":\"field\",\"field\":\"x\"},\"y\":{\"type\":\"field\",\"field\":\"y\"},\"line_color\":\"#000000\",\"line_dash\":[2,4]}},\"nonselection_glyph\":{\"type\":\"object\",\"name\":\"Line\",\"id\":\"00e19b19-42e0-4fd0-bf43-0d42d1ba5ace\",\"attributes\":{\"x\":{\"type\":\"field\",\"field\":\"x\"},\"y\":{\"type\":\"field\",\"field\":\"y\"},\"line_color\":\"#000000\",\"line_alpha\":0.1,\"line_dash\":[2,4]}},\"muted_glyph\":{\"type\":\"object\",\"name\":\"Line\",\"id\":\"f900c2d1-2f72-4fdf-9fcf-e7d3e7663205\",\"attributes\":{\"x\":{\"type\":\"field\",\"field\":\"x\"},\"y\":{\"type\":\"field\",\"field\":\"y\"},\"line_color\":\"#000000\",\"line_alpha\":0.2,\"line_dash\":[2,4]}}}},{\"type\":\"object\",\"name\":\"GlyphRenderer\",\"id\":\"cea5c845-a637-4a22-8480-4013106b15b3\",\"attributes\":{\"data_source\":{\"type\":\"object\",\"name\":\"ColumnDataSource\",\"id\":\"09283483-69c9-4e09-96a5-f7c34247694e\",\"attributes\":{\"selected\":{\"type\":\"object\",\"name\":\"Selection\",\"id\":\"63167855-a6bd-43e0-8e31-c8b506869d43\",\"attributes\":{\"indices\":[],\"line_indices\":[]}},\"selection_policy\":{\"type\":\"object\",\"name\":\"UnionRenderers\",\"id\":\"63421aa9-2f57-4db8-8e29-9a48d280be28\"},\"data\":{\"type\":\"map\",\"entries\":[[\"x\",{\"type\":\"ndarray\",\"array\":{\"type\":\"bytes\",\"data\":\"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\"},\"shape\":[500],\"dtype\":\"float64\",\"order\":\"little\"}],[\"y\",{\"type\":\"ndarray\",\"array\":{\"type\":\"bytes\",\"data\":\"H4sIAAEAAAAC/x3UdzwW3hcHcJTSIDMzpJCQXfmmHGWl4j5CRqIiTZ4KFbIyQoOyCtnKiiQhJUIIIaSIMpLMktX8nft7/nm/7ovnPvd87jmXhQU/vhaw+czHb5ZS5rDfiH2/ZpQZJMyP/3WTNwO5qFM2x9v2grePSU5UyF6oXLRpOs5gL+Q+OBzisXwvXPnRw9/bYQotlWLz3emmMBF55XTNeVzPqUkLmpiC7X98TKd1pnBqwwIZh4WmkDu1SLKujwEHzFoKbV8wYG2g+pLv6QywiNsmYRuKa/vGW55MBjBtf3tusGRAiOy7CGsdBkT5NocOyTNA1Op4e7kgAwJ/vOx8vZABywbTu9inCBj/m3vG6CMg3lB7J62VQGyBVf/kCwJbrh37KldEwP7y+OyOTAKVEreE1RMIlI2WcU1GECg3/spwDiYQqnbEOeMigeSn0UrXXXHddeCs5EkCqw5K/WE4EHi9WPOjmC2BMYlRGQ8LAgHNHOKHCYHHM042LUYE7taUlT7TIyCwimkurUNAfmGH3z8tAp8C3zYYaBIYyDCam9MgkGvONcepRuBIbvO4nzIBmWZjBbKBgGCF93pXBQJez6uuDq8nkORRtTpHjgD7yjdvH68jcOp2bg0HGrHKQS5OloBSsfP+E2jbrh/cbqhQ0RvRItRQfsUJBfy/eHX7Ja3oNvFPGum4j87bJ8tTcd+NFTrVtfIERBf9ecinSKDAg2noh79v+UuyixPPk/rX8UipCoFG4XhtPzxnuMIxv4N47hFZx+VWmwjEOJl8dsR6Nr63VAjaQkDMNI2neCuBkH2v2X9qE6hRLCgy2k4gmPO1zD1dAr0VGT3cBgR4syLcL+0kUP91ifvfXVhnm2CwrzGBM0PXMjkYBNQypZ9H7SVgJ/jlsQzmy/GKLbzUkoD0Vl9LYkPA6qHR+iHMP/CGjbK3PQHzmTMp/IcxH1blqkxHAkYzUwNaRwlUPdOzbzyOdUtuumN9isCNXB3uARcC3xdnqxw7g/fH8vbyMN5v0YuOVIdzBOLWR4q+v0Dg3lrViJ1eBC5O2GcXeGP/WGiKCvgRmAzeEMu8hLlEZ32sCsT6NgqV8FwmcKdaatwilEDaEZk9kVcIcFcZF9RdI8BSvXR6JhzXy4NmRW8SeNXhnbg5isCJTe87d8cQaLVqump5i8Aew8QCmzgCdfPZ2yywH9/83sFvmEjg84pJS5VkAvl/imZ4Uglk1bh/G04jsNJQa3dJBoFCx1ku33sE1M9V6WzLIqDbYDk1lU2gn4wpJOdifg6RLPp5BNYYGIj25RNYvdtizK0A+12XLYa1kED65z6FwEfYH+WnTVgfE3gozx3tVkyge7UVa18JgQ2jJ7L0nxDYlw7ZqWUEfIszxOefEpBcUqigX473Pc5WdeU5gYw5T4eGCgKepmxuC3HO5EqeXdGoIjDaZ1VrV03gQ3Sw7qUaAtmc1uJJLwnMD9WfKaolsDtYyq6mjsCDo2dZmusJaC0ZPPvmFYHDUtEdzQ0EwnYe0KttxD7ZZ/6hpAnz6vxXmv6awHiC8K+wZgKK1xpKTrYQmK4z5jPEOYc359aIv8F+jJhin0CT5EbaS9swt5nY+37tBIaOR2Xt6CAgUXdsgOUtAYPNbO4laNbhRI9TnXj+77+5Vr0jQCr09WtRoU5xTZf3ONfvJv/xdBHgvFJWkI9u5ff0Muom0KC+9r8+NH9drZbbBwKzt0nwwh4CXIU/lMLR2djJXUK9BPg/SXyLRwPu5KqJf8Q5Lw9aF4+GeYT3r/yE75KC1vlraL0qz082fLcOuUx4uqLrJ0R4+lFzE9Ma4358Fwy+5D1GC9tvdq8aIPD+w4XDfujPS9mmfWhzsulTGMT+nlUuiEcNMpg6M2hiq8iFPZ8JqAwyjqWgtlv4JKfR45qvsvWGML/WapFINMfN5sJHtFlNpWP9F8zFnn/bWfTH0HBZCZpfJ2T/FyX3R1V1htH5dh1/dAtvU0wFeutkFfxDubONDbZ8JWB2dnWRG2ogyxV7H63uUZgdREsXqX8QHSHA+kfejKBd4hWOl9BrN6+IPEKfCjh7DaKgkXiTfxTnfcHpY9tRpZcH2F3QiYGlzNtoaEf5gyo0JmmwZQxti+1/KzBGQO+c9SstlP3PyMNDqGa3fGwwevnguHc2qljQ49yELvob7TyJSshEBvCME8hzrChSQdN7gpcx0BJD+8suqJLVmOpVdJmPF08WGvPIdl0NqjDF6/0Jbb1RsPI3+odFek5ggsCvur0ySuhM6VCGARr5zMfbDi3fn5jvjrrWNWy/igqkFG1ORSMeRUUXo3ySv+wb0V1tenGfUK5DO3dOo7bRQi4ckwRkRay4RdG7DBNlRTSrtLx1G2paDb9MUL7hnTn2aMseja9M1Ea+t8gXNU+SWxmOBiolLk1EH7hmx+SiazxHnj1BXbrCA+rQ8zmMrx1o5mGOqX6U+5lp8iR6v9Np9jd658vbWY5vmOu2Ren8aMA/BoskGpfbtVwe5bNTbNRAh7kUtgNqNvjS2QgN5rUwM0NFGYunbdG/RcGmTmhp0DEXJgpbAndfQK93so36oQ4iFSahaPHWvedvoB6WVUdv0/05ilanoEnpAWmZaJqA51Q+6n+wckUxemN7x/wzus72LaxGby/x0W6g35twTGhFu3NYXneiFVUDbT3o0cwTDwbQwqZbDl/RWfHgyQmUy7HFbBpdHVwc+RON2WCY9w+1auK6u/A75i425bEEfdKbp8iFqhwOL+dFt7Glqgiid4TCAkVRC1FmqQQaejmyZQ36Yrd2oyy6LPxZjjyqNxHMVEJXhX0XUUO/rGzL2ojWK8Ss+Q91LP3kvxWNeby0HlDVwpmfO9ATZg0CBmj7RJqoEfrzl96yPWiANgyZoFWJMfdN0T9V9w6Zo/C1YYElqi8TdsOanlN/nssWjTwn4GmHvlrG3nEQldPJknRAZVhZbY6g3GyCQUfRPHve5OPounS4fxK9sPpRjjO6M8YkgYmaSVr4nkGd+j+bu6KarDaS7mi1z57uc+gia9arF9DYff6qnui8V2q9FyrgbW3pjY7YfezyQWtH3c390Kuycy/8Ud5Dd2QD0O5ZJ/9AlOencVsQqtUTInoZtdqhbROCLvXKDA9FRUOKysPQ/8SiBq7QnHw2sF1DLZ2chK6jbsvvS4ejQ0kDChHocOUWxRuoV/q09E1aN6+gYCT6sqVsQRTq6nd+iFpZ6VUTjUak9ibG0PoCRM7E0v1uaWjfQlcwHiy+jZ4Msa6lJpQ0BcahYUEPteJRu1jLcWrDSFt8ArpQ65P+HVTbVGaYeunQ7ZBEtF+tb20Sun2jZhn1w4JAk2TUJr2rh+p0kONoCmroITxJ1TVY4ZqKBm/Q+kH9liVyJg2duRc2SrWfF7JLp/fLuPGGet7dfXsG+jlNP4/KTGkWvEv7U6nzIlV4nL+feldYfcc91MBUPZlatlSKNROt0CmyorILbc2jvhf4yZaFHno3Y0FlMhXTqereX6aokzYXtmaj//JYL1PHdeSbqRz7OQVzUDWed5bUjKzTidSCR4nvqU/8HMVy0bHvPRZUvw/qEVQpi6f1VP7y02z30Y+yNzdTT4/ZManW7aHJVMHqAy3UtHVnOfJon99iV6dWFw/bUffPWlynbtLVKaZ6rNrZT81Z850nH73H6q5O9VDS2U+dVOzypz4sGL1LFfvwoo6q3LNmghovxb/iAZ0D/lkl6mKVaBNqQr6SK3W8J+A6tY2VLZ8q9LeggXpaWGKQ+tqi8i/V0TxFuIDuc3ZYlbq5t5VQLxZ1H6GeL670pY54PY+hlpVnZlL7dXteUHmVt76l7i2MG6Mq305ifUjvX8qXj+odMbOGukmhUYMa06RmQH3H7LKh6iUxjlN7nXf4UOOLW0Oo+9R7Y6n+uivvU53y3pVRXQyF6qgJZYrvqEH82f1UDUeV79Rrv9pZCmn/TltwUrcE+wpTN/CbS1MvjncoU7dacmhRNewDdak/DOd2UZMv8e+j9jQ+P0iVTrrpQmULdnKnpvAa+FMl1bXDqDUpczep6yvnYql56kVp1MmkpznUYV7rB1RhiYVPqEcPMp9TaxVL6qmxfUUtVHuW/W1UH/bVvdTqSr4+6hv51hFqv/+Xb1Tf3W2zVLGC6D/UZe3KCx7R97cplYPK+mCSk7okSIiPanBugQD1BOcfsf//XdxKkrpDzkqGWn6gYz21UlVdiap6/aki1dvxlBr1f1fDgI6gDwAA\"},\"shape\":[500],\"dtype\":\"float64\",\"order\":\"little\"}],[\"v\",[\"\",\"\",\"\",\"\",\"\",\"\",\"\",\"\",\"\",\"\",\"\",\"\",\"\",\"\",\"\",\"\",\"\",\"\",\"\",\"\",\"\",\"\",\"\",\"\",\"\",\"\",\"\",\"\",\"\",\"\",\"\",\"\",\"\",\"\",\"\",\"\",\"\",\"\",\"\",\"\",\"\",\"\",\"\",\"\",\"\",\"\",\"\",\"\",\"\",\"\",\"\",\"\",\"\",\"\",\"\",\"\",\"\",\"\",\"\",\"\",\"\",\"\",\"\",\"\",\"\",\"\",\"\",\"\",\"\",\"\",\"\",\"\",\"\",\"\",\"\",\"\",\"\",\"\",\"\",\"\",\"\",\"\",\"\",\"\",\"\",\"\",\"\",\"\",\"\",\"\",\"\",\"\",\"\",\"\",\"\",\"\",\"\",\"\",\"\",\"\",\"\",\"\",\"\",\"\",\"\",\"\",\"\",\"\",\"\",\"\",\"\",\"\",\"\",\"\",\"\",\"\",\"\",\"\",\"\",\"\",\"\",\"\",\"\",\"\",\"\",\"\",\"\",\"\",\"\",\"\",\"\",\"\",\"\",\"\",\"\",\"\",\"\",\"\",\"\",\"\",\"\",\"\",\"\",\"\",\"\",\"\",\"\",\"\",\"\",\"\",\"\",\"\",\"\",\"\",\"\",\"\",\"\",\"\",\"\",\"\",\"\",\"\",\"\",\"\",\"\",\"\",\"\",\"\",\"\",\"\",\"\",\"\",\"\",\"\",\"\",\"\",\"\",\"\",\"\",\"\",\"\",\"\",\"\",\"\",\"\",\"\",\"\",\"\",\"\",\"\",\"\",\"\",\"\",\"\",\"\",\"\",\"\",\"\",\"\",\"\",\"\",\"\",\"\",\"\",\"\",\"\",\"\",\"\",\"\",\"\",\"\",\"\",\"\",\"\",\"\",\"\",\"\",\"\",\"\",\"\",\"\",\"\",\"\",\"\",\"\",\"\",\"\",\"\",\"\",\"\",\"\",\"\",\"\",\"\",\"\",\"\",\"\",\"\",\"\",\"\",\"\",\"\",\"\",\"\",\"\",\"\",\"\",\"\",\"\",\"\",\"\",\"\",\"\",\"\",\"\",\"\",\"\",\"\",\"\",\"\",\"\",\"\",\"\",\"\",\"\",\"\",\"\",\"\",\"\",\"\",\"\",\"\",\"\",\"\",\"\",\"\",\"\",\"\",\"\",\"\",\"\",\"\",\"\",\"\",\"\",\"\",\"\",\"\",\"\",\"\",\"\",\"\",\"\",\"\",\"\",\"\",\"\",\"\",\"\",\"\",\"\",\"\",\"\",\"\",\"\",\"\",\"\",\"\",\"\",\"\",\"\",\"\",\"\",\"\",\"\",\"\",\"\",\"\",\"\",\"\",\"\",\"\",\"\",\"\",\"\",\"\",\"\",\"\",\"\",\"\",\"\",\"\",\"\",\"\",\"\",\"\",\"\",\"\",\"\",\"\",\"\",\"\",\"\",\"\",\"\",\"\",\"\",\"\",\"\",\"\",\"\",\"\",\"\",\"\",\"\",\"\",\"\",\"\",\"\",\"\",\"\",\"\",\"\",\"\",\"\",\"\",\"\",\"\",\"\",\"\",\"\",\"\",\"\",\"\",\"\",\"\",\"\",\"\",\"\",\"\",\"\",\"\",\"\",\"\",\"\",\"\",\"\",\"\",\"\",\"\",\"\",\"\",\"\",\"\",\"\",\"\",\"\",\"\",\"\",\"\",\"\",\"\",\"\",\"\",\"\",\"\",\"\",\"\",\"\",\"\",\"\",\"\",\"\",\"\",\"\",\"\",\"\",\"\",\"\",\"\",\"\",\"\",\"\",\"\",\"\",\"\",\"\",\"\",\"\",\"\",\"\",\"\",\"\",\"\",\"\",\"\",\"\",\"\",\"\",\"\",\"\",\"\",\"\",\"\",\"\",\"\",\"\",\"\",\"\",\"\",\"\",\"\",\"\",\"\",\"\",\"\",\"\",\"\",\"\",\"\",\"\",\"\",\"\",\"\",\"\",\"\",\"\",\"\",\"\",\"\",\"\",\"\",\"\",\"\",\"\",\"\",\"\",\"\",\"\",\"\",\"\",\"\",\"\",\"\",\"\",\"\",\"\",\"\",\"\",\"\",\"\",\"\",\"\",\"\",\"\",\"\",\"\",\"\",\"\",\"\"]]]}}},\"view\":{\"type\":\"object\",\"name\":\"CDSView\",\"id\":\"77634f53-f4ea-4ef3-98f6-e296b31e5170\",\"attributes\":{\"filter\":{\"type\":\"object\",\"name\":\"AllIndices\",\"id\":\"876452ac-bc49-47ec-9e2a-7d074460e1b8\"}}},\"glyph\":{\"type\":\"object\",\"name\":\"Line\",\"id\":\"5e18cb2f-f0eb-421a-a345-82dcb3f1e09f\",\"attributes\":{\"x\":{\"type\":\"field\",\"field\":\"x\"},\"y\":{\"type\":\"field\",\"field\":\"y\"},\"line_color\":\"#000000\",\"line_dash\":[6]}},\"nonselection_glyph\":{\"type\":\"object\",\"name\":\"Line\",\"id\":\"977f87b6-159f-4125-adcd-51fb95dba091\",\"attributes\":{\"x\":{\"type\":\"field\",\"field\":\"x\"},\"y\":{\"type\":\"field\",\"field\":\"y\"},\"line_color\":\"#000000\",\"line_alpha\":0.1,\"line_dash\":[6]}},\"muted_glyph\":{\"type\":\"object\",\"name\":\"Line\",\"id\":\"2d011c19-5af8-447e-b390-c3ab675256b8\",\"attributes\":{\"x\":{\"type\":\"field\",\"field\":\"x\"},\"y\":{\"type\":\"field\",\"field\":\"y\"},\"line_color\":\"#000000\",\"line_alpha\":0.2,\"line_dash\":[6]}}}}],\"toolbar\":{\"type\":\"object\",\"name\":\"Toolbar\",\"id\":\"f586fbff-1c31-42bb-880e-535cd527c0c8\",\"attributes\":{\"tools\":[{\"type\":\"object\",\"name\":\"PanTool\",\"id\":\"3af972ec-fee4-41cc-a441-f659df83ed4a\"},{\"type\":\"object\",\"name\":\"WheelZoomTool\",\"id\":\"8ad0b91a-9638-45d9-98f5-80ea33d7a00a\",\"attributes\":{\"renderers\":\"auto\"}},{\"type\":\"object\",\"name\":\"BoxZoomTool\",\"id\":\"56e74ad6-befb-4641-a2c1-852be2452b2c\",\"attributes\":{\"dimensions\":\"both\",\"overlay\":{\"type\":\"object\",\"name\":\"BoxAnnotation\",\"id\":\"3addf8ec-bddd-4232-a38a-3869a8aef173\",\"attributes\":{\"syncable\":false,\"line_color\":\"black\",\"line_alpha\":1.0,\"line_width\":2,\"line_dash\":[4,4],\"fill_color\":\"lightgrey\",\"fill_alpha\":0.5,\"level\":\"overlay\",\"visible\":false,\"left\":{\"type\":\"number\",\"value\":\"nan\"},\"right\":{\"type\":\"number\",\"value\":\"nan\"},\"top\":{\"type\":\"number\",\"value\":\"nan\"},\"bottom\":{\"type\":\"number\",\"value\":\"nan\"},\"left_units\":\"canvas\",\"right_units\":\"canvas\",\"top_units\":\"canvas\",\"bottom_units\":\"canvas\",\"handles\":{\"type\":\"object\",\"name\":\"BoxInteractionHandles\",\"id\":\"d223928a-f52d-46f1-8739-123ac0008314\",\"attributes\":{\"all\":{\"type\":\"object\",\"name\":\"AreaVisuals\",\"id\":\"c2920a8b-5496-4d04-9831-c4557a62b9e6\",\"attributes\":{\"fill_color\":\"white\",\"hover_fill_color\":\"lightgray\"}}}}}}}},{\"type\":\"object\",\"name\":\"SaveTool\",\"id\":\"c1fbebe0-a5ad-470b-bad9-4a3bcf6f1749\"},{\"type\":\"object\",\"name\":\"ResetTool\",\"id\":\"7ae7eb1a-9dc3-47e7-8e1c-34b90fe9156a\"},{\"type\":\"object\",\"name\":\"HelpTool\",\"id\":\"71102aad-5fe4-4516-a69c-90bf07b4ff4f\"},{\"type\":\"object\",\"name\":\"HoverTool\",\"id\":\"eeb94bed-190f-43bb-8eab-e2a93fa9df9b\",\"attributes\":{\"renderers\":[{\"id\":\"985bfcef-67cf-41c5-be96-b41a9cc49b4f\"}],\"tooltips\":[[\"Variable\",\"@v\"],[\"\\u03b8\",\"@x\"],[\"\\u03b2\",\"@y\"],[\"Region\",\"@r\"]],\"sort_by\":null}},{\"type\":\"object\",\"name\":\"HoverTool\",\"id\":\"b7c1aca5-a397-49bb-91f1-99e9dac54a16\",\"attributes\":{\"renderers\":[{\"id\":\"39413bdd-68dc-4f36-9408-47ff6440046f\"}],\"tooltips\":[[\"Variable\",\"@v\"],[\"\\u03b8\",\"@x\"],[\"\\u03b2\",\"@y\"],[\"Region\",\"@r\"]],\"sort_by\":null}},{\"type\":\"object\",\"name\":\"HoverTool\",\"id\":\"17b436ad-11de-4edf-a943-753395031a74\",\"attributes\":{\"renderers\":[{\"id\":\"45bd2cba-61a5-47a2-801a-046008ebfdc7\"}],\"tooltips\":[[\"Variable\",\"@v\"],[\"\\u03b8\",\"@x\"],[\"\\u03b2\",\"@y\"],[\"Region\",\"@r\"]],\"sort_by\":null}},{\"type\":\"object\",\"name\":\"HoverTool\",\"id\":\"4058a35c-c32e-4f49-8d42-0abb3b1d7071\",\"attributes\":{\"renderers\":[{\"id\":\"9fe77666-418a-4d24-b510-5ea1d5ecd88a\"}],\"tooltips\":[[\"Variable\",\"@v\"],[\"\\u03b8\",\"@x\"],[\"\\u03b2\",\"@y\"],[\"Region\",\"@r\"]],\"sort_by\":null}},{\"type\":\"object\",\"name\":\"HoverTool\",\"id\":\"1475f2c2-6a6c-4779-81ec-932d4cd83dd8\",\"attributes\":{\"renderers\":[{\"id\":\"a932e6f3-3200-4345-a356-bdf6e16bb3be\"}],\"tooltips\":[[\"Variable\",\"@v\"],[\"\\u03b8\",\"@x\"],[\"\\u03b2\",\"@y\"],[\"Region\",\"@r\"]],\"sort_by\":null}},{\"type\":\"object\",\"name\":\"HoverTool\",\"id\":\"dbd1748f-20d6-4f8f-b240-1ab8236f4e73\",\"attributes\":{\"renderers\":[{\"id\":\"f16d5366-55a8-46cc-9524-01bf6a0b2c96\"}],\"tooltips\":[[\"Variable\",\"@v\"],[\"\\u03b8\",\"@x\"],[\"\\u03b2\",\"@y\"],[\"Region\",\"@r\"]],\"sort_by\":null}},{\"type\":\"object\",\"name\":\"HoverTool\",\"id\":\"8360ce25-bff5-465d-bbe0-161ea6a3ef5b\",\"attributes\":{\"renderers\":[{\"id\":\"43f99399-c407-4d0d-8394-9d69ed2cd02e\"}],\"tooltips\":[[\"Variable\",\"@v\"],[\"\\u03b8\",\"@x\"],[\"\\u03b2\",\"@y\"],[\"Region\",\"@r\"]],\"sort_by\":null}}]}},\"left\":[{\"type\":\"object\",\"name\":\"LinearAxis\",\"id\":\"167c51ec-61e1-452e-a7b1-e877015c5f9a\",\"attributes\":{\"ticker\":{\"type\":\"object\",\"name\":\"BasicTicker\",\"id\":\"4f2d7bb1-41eb-49d3-9355-1c2449606755\",\"attributes\":{\"mantissas\":[1,2,5]}},\"formatter\":{\"type\":\"object\",\"name\":\"BasicTickFormatter\",\"id\":\"214b23f6-f5b5-4c41-937e-42e03506df26\"},\"axis_label\":\"Shock Wave Angle, \\u03b2 [deg]\",\"major_label_policy\":{\"type\":\"object\",\"name\":\"AllLabels\",\"id\":\"84a7963d-c7d4-499f-b22c-88959d4d7026\"}}}],\"right\":[{\"type\":\"object\",\"name\":\"Legend\",\"id\":\"6d36f6a0-472c-49db-9377-c365e98ca2fb\",\"attributes\":{\"ncols\":1,\"click_policy\":\"hide\",\"items\":[{\"type\":\"object\",\"name\":\"LegendItem\",\"id\":\"b2143ae3-ca2e-4126-a6f9-55951512c856\",\"attributes\":{\"label\":{\"type\":\"value\",\"value\":\"M1 = 1.1\"},\"renderers\":[{\"id\":\"985bfcef-67cf-41c5-be96-b41a9cc49b4f\"}]}},{\"type\":\"object\",\"name\":\"LegendItem\",\"id\":\"2c87d7d3-2d2c-4640-a248-548c5fbea876\",\"attributes\":{\"label\":{\"type\":\"value\",\"value\":\"M1 = 1.25\"},\"renderers\":[{\"id\":\"39413bdd-68dc-4f36-9408-47ff6440046f\"}]}},{\"type\":\"object\",\"name\":\"LegendItem\",\"id\":\"d5201230-1502-4ad9-ad6d-4e7c984e0945\",\"attributes\":{\"label\":{\"type\":\"value\",\"value\":\"M1 = 1.5\"},\"renderers\":[{\"id\":\"45bd2cba-61a5-47a2-801a-046008ebfdc7\"}]}},{\"type\":\"object\",\"name\":\"LegendItem\",\"id\":\"a5066ee3-3006-4594-8d3e-62d0fe18d5b4\",\"attributes\":{\"label\":{\"type\":\"value\",\"value\":\"M1 = 2\"},\"renderers\":[{\"id\":\"9fe77666-418a-4d24-b510-5ea1d5ecd88a\"}]}},{\"type\":\"object\",\"name\":\"LegendItem\",\"id\":\"6f1c1837-3ec8-45de-801d-9b7bfbea49c5\",\"attributes\":{\"label\":{\"type\":\"value\",\"value\":\"M1 = 3\"},\"renderers\":[{\"id\":\"a932e6f3-3200-4345-a356-bdf6e16bb3be\"}]}},{\"type\":\"object\",\"name\":\"LegendItem\",\"id\":\"072b98b7-e6d0-4933-9584-5189b70f22a2\",\"attributes\":{\"label\":{\"type\":\"value\",\"value\":\"M1 = 5\"},\"renderers\":[{\"id\":\"f16d5366-55a8-46cc-9524-01bf6a0b2c96\"}]}},{\"type\":\"object\",\"name\":\"LegendItem\",\"id\":\"5c3fbfe5-67de-428a-baca-3e88f6dd657e\",\"attributes\":{\"label\":{\"type\":\"value\",\"value\":\"M1 = \\u221e\"},\"renderers\":[{\"id\":\"43f99399-c407-4d0d-8394-9d69ed2cd02e\"}]}},{\"type\":\"object\",\"name\":\"LegendItem\",\"id\":\"bdc4802c-b8db-4247-814e-d29962c221c9\",\"attributes\":{\"label\":{\"type\":\"value\",\"value\":\"sonic line\"},\"renderers\":[{\"id\":\"4f7491b7-12e8-4777-8381-7af4042a2f54\"}]}},{\"type\":\"object\",\"name\":\"LegendItem\",\"id\":\"c6edc97e-8a95-4593-b34b-c4a3f16c4dff\",\"attributes\":{\"label\":{\"type\":\"value\",\"value\":\"region line\"},\"renderers\":[{\"id\":\"cea5c845-a637-4a22-8480-4013106b15b3\"}]}}]}}],\"below\":[{\"type\":\"object\",\"name\":\"LinearAxis\",\"id\":\"56128615-e07e-4492-a71b-52a56b9bf801\",\"attributes\":{\"ticker\":{\"type\":\"object\",\"name\":\"BasicTicker\",\"id\":\"4f25875b-9000-4d90-adf7-358d831b17c8\",\"attributes\":{\"mantissas\":[1,2,5]}},\"formatter\":{\"type\":\"object\",\"name\":\"BasicTickFormatter\",\"id\":\"f0ee3fd3-119f-4b37-a5d9-df489dc64529\"},\"axis_label\":\"Flow Deflection Angle, \\u03b8 [deg]\",\"major_label_policy\":{\"type\":\"object\",\"name\":\"AllLabels\",\"id\":\"1aad023e-5309-488a-bbd7-411a95652453\"}}}],\"center\":[{\"type\":\"object\",\"name\":\"Grid\",\"id\":\"143169a8-e4be-4414-9824-937898b2a4bd\",\"attributes\":{\"axis\":{\"id\":\"56128615-e07e-4492-a71b-52a56b9bf801\"},\"minor_grid_line_color\":\"#e5e5e5\",\"minor_grid_line_alpha\":0.75,\"minor_grid_line_dash\":[2,2]}},{\"type\":\"object\",\"name\":\"Grid\",\"id\":\"10186e7d-d18c-4359-8b73-d470ff6e1d8f\",\"attributes\":{\"dimension\":1,\"axis\":{\"id\":\"167c51ec-61e1-452e-a7b1-e877015c5f9a\"},\"minor_grid_line_color\":\"#e5e5e5\",\"minor_grid_line_alpha\":0.75,\"minor_grid_line_dash\":[2,2]}},{\"type\":\"object\",\"name\":\"Legend\",\"id\":\"9fdad773-1df6-4d88-a826-cf92666cbda5\",\"attributes\":{\"visible\":false,\"items\":[]}}]}}],\"defs\":[{\"type\":\"model\",\"name\":\"ReactiveHTML1\"},{\"type\":\"model\",\"name\":\"FlexBox1\",\"properties\":[{\"name\":\"align_content\",\"kind\":\"Any\",\"default\":\"flex-start\"},{\"name\":\"align_items\",\"kind\":\"Any\",\"default\":\"flex-start\"},{\"name\":\"flex_direction\",\"kind\":\"Any\",\"default\":\"row\"},{\"name\":\"flex_wrap\",\"kind\":\"Any\",\"default\":\"wrap\"},{\"name\":\"gap\",\"kind\":\"Any\",\"default\":\"\"},{\"name\":\"justify_content\",\"kind\":\"Any\",\"default\":\"flex-start\"}]},{\"type\":\"model\",\"name\":\"FloatPanel1\",\"properties\":[{\"name\":\"config\",\"kind\":\"Any\",\"default\":{\"type\":\"map\"}},{\"name\":\"contained\",\"kind\":\"Any\",\"default\":true},{\"name\":\"position\",\"kind\":\"Any\",\"default\":\"right-top\"},{\"name\":\"offsetx\",\"kind\":\"Any\",\"default\":null},{\"name\":\"offsety\",\"kind\":\"Any\",\"default\":null},{\"name\":\"theme\",\"kind\":\"Any\",\"default\":\"primary\"},{\"name\":\"status\",\"kind\":\"Any\",\"default\":\"normalized\"}]},{\"type\":\"model\",\"name\":\"GridStack1\",\"properties\":[{\"name\":\"ncols\",\"kind\":\"Any\",\"default\":null},{\"name\":\"nrows\",\"kind\":\"Any\",\"default\":null},{\"name\":\"allow_resize\",\"kind\":\"Any\",\"default\":true},{\"name\":\"allow_drag\",\"kind\":\"Any\",\"default\":true},{\"name\":\"state\",\"kind\":\"Any\",\"default\":[]}]},{\"type\":\"model\",\"name\":\"drag1\",\"properties\":[{\"name\":\"slider_width\",\"kind\":\"Any\",\"default\":5},{\"name\":\"slider_color\",\"kind\":\"Any\",\"default\":\"black\"},{\"name\":\"start\",\"kind\":\"Any\",\"default\":0},{\"name\":\"end\",\"kind\":\"Any\",\"default\":100},{\"name\":\"value\",\"kind\":\"Any\",\"default\":50}]},{\"type\":\"model\",\"name\":\"click1\",\"properties\":[{\"name\":\"terminal_output\",\"kind\":\"Any\",\"default\":\"\"},{\"name\":\"debug_name\",\"kind\":\"Any\",\"default\":\"\"},{\"name\":\"clears\",\"kind\":\"Any\",\"default\":0}]},{\"type\":\"model\",\"name\":\"ReactiveESM1\",\"properties\":[{\"name\":\"esm_constants\",\"kind\":\"Any\",\"default\":{\"type\":\"map\"}}]},{\"type\":\"model\",\"name\":\"JSComponent1\",\"properties\":[{\"name\":\"esm_constants\",\"kind\":\"Any\",\"default\":{\"type\":\"map\"}}]},{\"type\":\"model\",\"name\":\"ReactComponent1\",\"properties\":[{\"name\":\"use_shadow_dom\",\"kind\":\"Any\",\"default\":true},{\"name\":\"esm_constants\",\"kind\":\"Any\",\"default\":{\"type\":\"map\"}}]},{\"type\":\"model\",\"name\":\"AnyWidgetComponent1\",\"properties\":[{\"name\":\"use_shadow_dom\",\"kind\":\"Any\",\"default\":true},{\"name\":\"esm_constants\",\"kind\":\"Any\",\"default\":{\"type\":\"map\"}}]},{\"type\":\"model\",\"name\":\"FastWrapper1\",\"properties\":[{\"name\":\"object\",\"kind\":\"Any\",\"default\":null},{\"name\":\"style\",\"kind\":\"Any\",\"default\":null}]},{\"type\":\"model\",\"name\":\"NotificationArea1\",\"properties\":[{\"name\":\"js_events\",\"kind\":\"Any\",\"default\":{\"type\":\"map\"}},{\"name\":\"max_notifications\",\"kind\":\"Any\",\"default\":5},{\"name\":\"notifications\",\"kind\":\"Any\",\"default\":[]},{\"name\":\"position\",\"kind\":\"Any\",\"default\":\"bottom-right\"},{\"name\":\"_clear\",\"kind\":\"Any\",\"default\":0},{\"name\":\"types\",\"kind\":\"Any\",\"default\":[{\"type\":\"map\",\"entries\":[[\"type\",\"warning\"],[\"background\",\"#ffc107\"],[\"icon\",{\"type\":\"map\",\"entries\":[[\"className\",\"fas fa-exclamation-triangle\"],[\"tagName\",\"i\"],[\"color\",\"white\"]]}]]},{\"type\":\"map\",\"entries\":[[\"type\",\"info\"],[\"background\",\"#007bff\"],[\"icon\",{\"type\":\"map\",\"entries\":[[\"className\",\"fas fa-info-circle\"],[\"tagName\",\"i\"],[\"color\",\"white\"]]}]]}]}]},{\"type\":\"model\",\"name\":\"Notification\",\"properties\":[{\"name\":\"background\",\"kind\":\"Any\",\"default\":null},{\"name\":\"duration\",\"kind\":\"Any\",\"default\":3000},{\"name\":\"icon\",\"kind\":\"Any\",\"default\":null},{\"name\":\"message\",\"kind\":\"Any\",\"default\":\"\"},{\"name\":\"notification_type\",\"kind\":\"Any\",\"default\":null},{\"name\":\"_rendered\",\"kind\":\"Any\",\"default\":false},{\"name\":\"_destroyed\",\"kind\":\"Any\",\"default\":false}]},{\"type\":\"model\",\"name\":\"TemplateActions1\",\"properties\":[{\"name\":\"open_modal\",\"kind\":\"Any\",\"default\":0},{\"name\":\"close_modal\",\"kind\":\"Any\",\"default\":0}]},{\"type\":\"model\",\"name\":\"BootstrapTemplateActions1\",\"properties\":[{\"name\":\"open_modal\",\"kind\":\"Any\",\"default\":0},{\"name\":\"close_modal\",\"kind\":\"Any\",\"default\":0}]},{\"type\":\"model\",\"name\":\"TemplateEditor1\",\"properties\":[{\"name\":\"layout\",\"kind\":\"Any\",\"default\":[]}]},{\"type\":\"model\",\"name\":\"MaterialTemplateActions1\",\"properties\":[{\"name\":\"open_modal\",\"kind\":\"Any\",\"default\":0},{\"name\":\"close_modal\",\"kind\":\"Any\",\"default\":0}]},{\"type\":\"model\",\"name\":\"request_value1\",\"properties\":[{\"name\":\"fill\",\"kind\":\"Any\",\"default\":\"none\"},{\"name\":\"_synced\",\"kind\":\"Any\",\"default\":null},{\"name\":\"_request_sync\",\"kind\":\"Any\",\"default\":0}]}]}};\n",
       "  const render_items = [{\"docid\":\"e596efa9-b0fc-49be-8f89-49513cb1421f\",\"roots\":{\"d5edbaf3-9609-4b81-9c86-4f927988cd94\":\"d22e2424-2144-4deb-a0cb-500b55478673\"},\"root_ids\":[\"d5edbaf3-9609-4b81-9c86-4f927988cd94\"]}];\n",
       "  void root.Bokeh.embed.embed_items_notebook(docs_json, render_items);\n",
       "  }\n",
       "  if (root.Bokeh !== undefined) {\n",
       "    embed_document(root);\n",
       "  } else {\n",
       "    let attempts = 0;\n",
       "    const timer = setInterval(function(root) {\n",
       "      if (root.Bokeh !== undefined) {\n",
       "        clearInterval(timer);\n",
       "        embed_document(root);\n",
       "      } else {\n",
       "        attempts++;\n",
       "        if (attempts > 100) {\n",
       "          clearInterval(timer);\n",
       "          console.log(\"Bokeh: ERROR: Unable to run BokehJS code because BokehJS library is missing\");\n",
       "        }\n",
       "      }\n",
       "    }, 10, root)\n",
       "  }\n",
       "})(window);"
      ],
      "application/vnd.bokehjs_exec.v0+json": ""
     },
     "metadata": {
      "application/vnd.bokehjs_exec.v0+json": {
       "id": "d5edbaf3-9609-4b81-9c86-4f927988cd94"
      }
     },
     "output_type": "display_data"
    }
   ],
   "source": [
    "from pygasflow.interactive.diagrams import ObliqueShockDiagram\n",
    "ObliqueShockDiagram().show_figure()"
   ]
  },
  {
   "cell_type": "code",
   "execution_count": 29,
   "id": "fa00b0a3-65f0-4604-ae84-af2470c789e8",
   "metadata": {},
   "outputs": [
    {
     "data": {
      "text/plain": [
       "1.6142820055343785"
      ]
     },
     "execution_count": 29,
     "metadata": {},
     "output_type": "execute_result"
    }
   ],
   "source": [
    "from pygasflow.shockwave import max_theta_from_mach\n",
    "from scipy.optimize import bisect\n",
    "\n",
    "M_inf = 2\n",
    "theta_c = 15 * ureg.deg\n",
    "\n",
    "def func(M, theta_target):\n",
    "    theta_max = max_theta_from_mach(M, gamma)\n",
    "    return theta_max - theta_target\n",
    "\n",
    "M = bisect(func, a=1+1e-05, b=M_inf, args=(theta_c.magnitude))\n",
    "M"
   ]
  },
  {
   "cell_type": "markdown",
   "id": "575c77b3-f373-47e4-bb72-9c1118c2286d",
   "metadata": {},
   "source": [
    "Detachment happens for $M < 1.6142820055343785$."
   ]
  },
  {
   "cell_type": "markdown",
   "id": "f10a419f-9661-485e-b1f7-36d99027b931",
   "metadata": {},
   "source": [
    "## P 10.3"
   ]
  },
  {
   "cell_type": "code",
   "execution_count": 2,
   "id": "782e7084-73ed-4526-9824-b8bf993b7cf8",
   "metadata": {},
   "outputs": [],
   "source": [
    "theta_c = 15 * deg\n",
    "p_inf = 1 * atm\n",
    "T_inf = 290 * K\n",
    "rho_inf = (p_inf / (R * T_inf)).to(\"kg/m**3\")"
   ]
  },
  {
   "cell_type": "markdown",
   "id": "9504a52e-c81d-44ae-a6ca-ae518747e282",
   "metadata": {},
   "source": [
    "$$\n",
    "C_{D} = \\frac{D}{q_{inf} A_{b}}\n",
    "$$"
   ]
  },
  {
   "cell_type": "code",
   "execution_count": 3,
   "id": "60e99c1c-f1f1-418d-9116-ba40c3b73b5a",
   "metadata": {},
   "outputs": [
    {
     "name": "stdout",
     "output_type": "stream",
     "text": [
      "key        quantity       \n",
      "--------------------------\n",
      "mu         Mu                  1.50000000     2.11111111     2.72222222     3.33333333     3.94444444     4.55555556     5.16666667     5.77777778     6.38888889     7.00000000\n",
      "mc         Mc                  1.27072629     1.80016926     2.29347872     2.75349994     3.17963867     3.57165457     3.93004456     4.25599373     4.55121833     4.81778887\n",
      "theta_c    theta_c [deg]      15.00000000    15.00000000    15.00000000    15.00000000    15.00000000    15.00000000    15.00000000    15.00000000    15.00000000    15.00000000\n",
      "beta       beta [deg]         45.03026984    32.39931734    26.84465529    23.79812548    21.92451816    20.68444478    19.81985693    19.19291942    18.72400453    18.36431587\n",
      "delta      delta [deg]         2.80388765     4.96695670     6.87069448     8.33449443     9.42354578    10.23421622    10.84493203    11.31219851    11.67548013    11.96228586\n",
      "pr         pd/pu               1.14722014     1.32613297     1.59632397     1.94402320     2.36398123     2.85413484     3.41372871     4.04253583     4.74053666     5.50778528\n",
      "dr         rhod/rhou           1.10299119     1.22258193     1.39250825     1.59417198     1.81538994     2.04704461     2.28202585     2.51482448     2.74131739     2.95858072\n",
      "tr         Td/Tu               1.04009910     1.08469865     1.14636590     1.21945639     1.30218923     1.39427095     1.49592026     1.60748229     1.72929142     1.86163090\n",
      "tpr        p0d/p0u             0.99973580     0.99771208     0.98966824     0.97077703     0.93817677     0.89178335     0.83377611     0.76761276     0.69709000     0.62567597\n",
      "pc_pu      pc/pu               1.37807332     1.61529077     1.92632241     2.30655383     2.75631763     3.27636708     3.86738084     4.52989659     5.26432413     6.07097059\n",
      "rhoc_rhou  rho_c/rhou          1.25732469     1.40755796     1.59253566     1.80127311     2.02582645     2.25905044     2.49474539     2.72783422     2.95440559     3.17164250\n",
      "Tc_Tu      Tc/Tu               1.09603615     1.14758384     1.20959452     1.28051311     1.36058922     1.45032932     1.55021064     1.66062020     1.78185560     1.91414089\n"
     ]
    }
   ],
   "source": [
    "M_inf = np.linspace(1.5, 7, 10)\n",
    "shock = conical_shockwave_solver(M_inf, \"theta_c\", theta_c)\n",
    "shock.show()"
   ]
  },
  {
   "cell_type": "code",
   "execution_count": 4,
   "id": "b2fd83eb-81b2-471a-9ae9-71461a5a0594",
   "metadata": {},
   "outputs": [
    {
     "data": {
      "text/html": [
       "<table><tbody><tr><th>Magnitude</th><td style='text-align:left;'><pre>[1.3780733219251478 1.615290767532153 1.9263224149410585 2.3065538292079126 2.7563176271935834 3.2763670844886 3.8673808351142953 4.52989659160189 5.264324126219128 6.070970594438352]</pre></td></tr><tr><th>Units</th><td style='text-align:left;'>atm</td></tr></tbody></table>"
      ],
      "text/latex": [
       "$\\begin{pmatrix} &  &  &  &  &  &  &  &  & \\end{pmatrix}\\ \\mathrm{atm}$"
      ],
      "text/plain": [
       "<Quantity([1.37807332 1.61529077 1.92632241 2.30655383 2.75631763 3.27636708\n",
       " 3.86738084 4.52989659 5.26432413 6.07097059], 'standard_atmosphere')>"
      ]
     },
     "execution_count": 4,
     "metadata": {},
     "output_type": "execute_result"
    }
   ],
   "source": [
    "pc = shock[\"pc_pu\"] * p_inf\n",
    "pc"
   ]
  },
  {
   "cell_type": "code",
   "execution_count": 20,
   "id": "fb297e1d-b00a-4c1b-b14f-38e5dbe6bb80",
   "metadata": {},
   "outputs": [],
   "source": [
    "# NOTE: I'm going to use sympy + pint together in order to check dimensions as I compute things\n",
    "import sympy as sp\n",
    "# chord length\n",
    "c = ureg.Quantity(sp.symbols(\"c\", positive=True, real=True), m)\n",
    "# length of the oblique side\n",
    "l = c / sp.cos(theta_c.to(\"radian\").magnitude)\n",
    "# radius of the cone\n",
    "r = l * sp.sin(theta_c.to(\"radian\").magnitude)"
   ]
  },
  {
   "cell_type": "code",
   "execution_count": 21,
   "id": "3c4254a2-de13-43d5-9a4c-12bab331476f",
   "metadata": {},
   "outputs": [
    {
     "data": {
      "text/html": [
       "0.0717967697244908*pi*c**2 m<sup>2</sup>"
      ],
      "text/latex": [
       "$0.0717967697244908*pi*c**2\\ \\mathrm{m}^{2}$"
      ],
      "text/plain": [
       "<Quantity(0.0717967697244908*pi*c**2, 'meter ** 2')>"
      ]
     },
     "execution_count": 21,
     "metadata": {},
     "output_type": "execute_result"
    }
   ],
   "source": [
    "# surface area of the base of the cone\n",
    "Ab = sp.pi * r**2\n",
    "Ab"
   ]
  },
  {
   "cell_type": "code",
   "execution_count": 22,
   "id": "d3c4b6cd-80fc-475d-8968-ab70e16407de",
   "metadata": {},
   "outputs": [
    {
     "data": {
      "text/html": [
       "0.277401416484059*pi*c**2 m<sup>2</sup>"
      ],
      "text/latex": [
       "$0.277401416484059*pi*c**2\\ \\mathrm{m}^{2}$"
      ],
      "text/plain": [
       "<Quantity(0.277401416484059*pi*c**2, 'meter ** 2')>"
      ]
     },
     "execution_count": 22,
     "metadata": {},
     "output_type": "execute_result"
    }
   ],
   "source": [
    "# surface area of the cone\n",
    "Ac = sp.pi * r * l\n",
    "Ac"
   ]
  },
  {
   "cell_type": "code",
   "execution_count": 10,
   "id": "316793ca-13d4-4459-81ca-6abbb43f3b75",
   "metadata": {},
   "outputs": [
    {
     "data": {
      "text/html": [
       "<table><tbody><tr><th>Magnitude</th><td style='text-align:left;'><pre>[30139.8167444177*pi*c**2 36580.2589879646*pi*c**2 45024.7532616738*pi*c**2 55348.017878665*pi*c**2 67559.0833707194*pi*c**2 81678.4011339047*pi*c**2 97724.3960492736*pi*c**2 115711.666986197*pi*c**2 135651.339242044*pi*c**2 157551.752073121*pi*c**2]</pre></td></tr><tr><th>Units</th><td style='text-align:left;'>N</td></tr></tbody></table>"
      ],
      "text/latex": [
       "$\\begin{pmatrix} &  &  &  &  &  &  &  &  & \\end{pmatrix}\\ \\mathrm{N}$"
      ],
      "text/plain": [
       "<Quantity([30139.8167444177*pi*c**2 36580.2589879646*pi*c**2\n",
       " 45024.7532616738*pi*c**2 55348.017878665*pi*c**2 67559.0833707194*pi*c**2\n",
       " 81678.4011339047*pi*c**2 97724.3960492736*pi*c**2\n",
       " 115711.666986197*pi*c**2 135651.339242044*pi*c**2\n",
       " 157551.752073121*pi*c**2], 'newton')>"
      ]
     },
     "execution_count": 10,
     "metadata": {},
     "output_type": "execute_result"
    }
   ],
   "source": [
    "D = pc * Ac * sp.cos(theta_c.to(\"radian\").magnitude) - p_inf * Ab\n",
    "D = D.to(\"N\")\n",
    "D"
   ]
  },
  {
   "cell_type": "code",
   "execution_count": null,
   "id": "45059d99-f31d-49d1-be7f-9469c28d8d1c",
   "metadata": {},
   "outputs": [],
   "source": []
  },
  {
   "cell_type": "code",
   "execution_count": 11,
   "id": "8a16097d-d1ff-49b9-8392-e956a53f90eb",
   "metadata": {},
   "outputs": [
    {
     "data": {
      "text/html": [
       "<table><tbody><tr><th>Magnitude</th><td style='text-align:left;'><pre>[512.0743842451016 720.6972815301431 929.3201788151845 1137.9430761002259 1346.5659733852672 1555.1888706703085 1763.8117679553502 1972.4346652403917 2181.057562525433 2389.680459810474]</pre></td></tr><tr><th>Units</th><td style='text-align:left;'>m/s</td></tr></tbody></table>"
      ],
      "text/latex": [
       "$\\begin{pmatrix} &  &  &  &  &  &  &  &  & \\end{pmatrix}\\ \\frac{\\mathrm{m}}{\\mathrm{s}}$"
      ],
      "text/plain": [
       "<Quantity([ 512.07438425  720.69728153  929.32017882 1137.9430761  1346.56597339\n",
       " 1555.18887067 1763.81176796 1972.43466524 2181.05756253 2389.68045981], 'meter / second')>"
      ]
     },
     "execution_count": 11,
     "metadata": {},
     "output_type": "execute_result"
    }
   ],
   "source": [
    "a_inf = np.sqrt(gamma * R * T_inf).to(\"m/s\")\n",
    "V_inf = a_inf * M_inf\n",
    "V_inf"
   ]
  },
  {
   "cell_type": "code",
   "execution_count": 12,
   "id": "8962f49d-49a4-4e65-a12f-2c9168677f95",
   "metadata": {},
   "outputs": [
    {
     "data": {
      "text/html": [
       "<table><tbody><tr><th>Magnitude</th><td style='text-align:left;'><pre>[159586.87499999994 316108.9814814815 525607.800925926 788083.3333333334 1103535.5787037036 1471964.5370370366 1893370.2083333335 2367752.592592593 2895111.689814815 3475447.4999999995]</pre></td></tr><tr><th>Units</th><td style='text-align:left;'>kg/(m s<sup>2</sup>)</td></tr></tbody></table>"
      ],
      "text/latex": [
       "$\\begin{pmatrix} &  &  &  &  &  &  &  &  & \\end{pmatrix}\\ \\frac{\\mathrm{kg}}{\\left(\\mathrm{m} \\cdot \\mathrm{s}^{2}\\right)}$"
      ],
      "text/plain": [
       "<Quantity([ 159586.875       316108.98148148  525607.80092593  788083.33333333\n",
       " 1103535.5787037  1471964.53703704 1893370.20833333 2367752.59259259\n",
       " 2895111.68981481 3475447.5       ], 'kilogram / meter / second ** 2')>"
      ]
     },
     "execution_count": 12,
     "metadata": {},
     "output_type": "execute_result"
    }
   ],
   "source": [
    "q_inf = rho_inf * V_inf**2 / 2\n",
    "q_inf"
   ]
  },
  {
   "cell_type": "code",
   "execution_count": 13,
   "id": "de1dfed5-2a22-411f-b4e9-919b8c73dbbf",
   "metadata": {},
   "outputs": [
    {
     "data": {
      "text/html": [
       "<pre>[2.63050136760627 1.61177730228564 1.19312139720313 0.978194067556690 0.852692619429496 0.772867376823472 0.718890179395168 0.680668925858093 0.652610200866927 0.631404393868821]</pre>"
      ],
      "text/latex": [
       "$\\begin{pmatrix} &  &  &  &  &  &  &  &  & \\end{pmatrix}$"
      ],
      "text/plain": [
       "<Quantity([2.63050136760627 1.61177730228564 1.19312139720313 0.978194067556690\n",
       " 0.852692619429496 0.772867376823472 0.718890179395168 0.680668925858093\n",
       " 0.652610200866927 0.631404393868821], 'dimensionless')>"
      ]
     },
     "execution_count": 13,
     "metadata": {},
     "output_type": "execute_result"
    }
   ],
   "source": [
    "Cd = D / (q_inf * Ab)\n",
    "Cd = Cd.to(\"\")\n",
    "Cd"
   ]
  },
  {
   "cell_type": "code",
   "execution_count": 23,
   "id": "b721cb3e-1e50-4137-a808-a3878b6b4d08",
   "metadata": {},
   "outputs": [
    {
     "data": {
      "image/png": "[encoded data removed]",
      "text/plain": [
       "<Figure size 640x480 with 1 Axes>"
      ]
     },
     "metadata": {},
     "output_type": "display_data"
    }
   ],
   "source": [
    "import matplotlib.pyplot as plt\n",
    "fig, ax = plt.subplots()\n",
    "\n",
    "ax.plot(M_inf, Cd.magnitude)\n",
    "ax.set_xlabel(r\"$M_{\\infty}$\")\n",
    "ax.set_ylabel(r\"$C_{D}$\")\n",
    "ax.set_xlim(1, M_inf.max())\n",
    "ax.grid(visible=True, which=\"both\")\n",
    "ax.grid(which=\"major\", linestyle=\"--\", color=\"0.8\")\n",
    "ax.grid(which=\"minor\", linestyle=\":\", color=\"0.9\")\n",
    "ax.minorticks_on()\n",
    "plt.show()"
   ]
  },
  {
   "cell_type": "code",
   "execution_count": null,
   "id": "4603d682-70a9-4362-b644-a8d247e5f23d",
   "metadata": {},
   "outputs": [],
   "source": []
  }
 ],
 "metadata": {
  "kernelspec": {
   "display_name": "Python 3 (ipykernel)",
   "language": "python",
   "name": "python3"
  },
  "language_info": {
   "codemirror_mode": {
    "name": "ipython",
    "version": 3
   },
   "file_extension": ".py",
   "mimetype": "text/x-python",
   "name": "python",
   "nbconvert_exporter": "python",
   "pygments_lexer": "ipython3",
   "version": "3.12.7"
  }
 },
 "nbformat": 4,
 "nbformat_minor": 5
}
