{
 "cells": [
  {
   "cell_type": "markdown",
   "id": "20950429-0098-48a0-b42f-e8ac7dad99ef",
   "metadata": {},
   "source": [
    "# Chapter 4 Problems \n",
    "\n",
    "> of \"<ins>Modern Compressible Flow With Historical Perspective</ins>\", Third Edition, John D. Anderson Jr"
   ]
  },
  {
   "cell_type": "code",
   "execution_count": 1,
   "id": "b44cae5c-1dfa-4af1-8b54-e59f5dbaee01",
   "metadata": {},
   "outputs": [
    {
     "data": {
      "text/html": [
       "<script type=\"esms-options\">{\"shimMode\": true}</script><style>*[data-root-id],\n",
       "*[data-root-id] > * {\n",
       "  box-sizing: border-box;\n",
       "  font-family: var(--jp-ui-font-family);\n",
       "  font-size: var(--jp-ui-font-size1);\n",
       "  color: var(--vscode-editor-foreground, var(--jp-ui-font-color1));\n",
       "}\n",
       "\n",
       "/* Override VSCode background color */\n",
       ".cell-output-ipywidget-background:has(\n",
       "  > .cell-output-ipywidget-background > .lm-Widget > *[data-root-id]\n",
       "),\n",
       ".cell-output-ipywidget-background:has(> .lm-Widget > *[data-root-id]) {\n",
       "  background-color: transparent !important;\n",
       "}\n",
       "</style>"
      ]
     },
     "metadata": {},
     "output_type": "display_data"
    },
    {
     "data": {
      "application/javascript": [
       "(function(root) {\n",
       "  function now() {\n",
       "    return new Date();\n",
       "  }\n",
       "\n",
       "  const force = true;\n",
       "  const py_version = '3.8.0'.replace('rc', '-rc.').replace('.dev', '-dev.');\n",
       "  const reloading = false;\n",
       "  const Bokeh = root.Bokeh;\n",
       "\n",
       "  // Set a timeout for this load but only if we are not already initializing\n",
       "  if (typeof (root._bokeh_timeout) === \"undefined\" || (force || !root._bokeh_is_initializing)) {\n",
       "    root._bokeh_timeout = Date.now() + 5000;\n",
       "    root._bokeh_failed_load = false;\n",
       "  }\n",
       "\n",
       "  function run_callbacks() {\n",
       "    try {\n",
       "      root._bokeh_onload_callbacks.forEach(function(callback) {\n",
       "        if (callback != null)\n",
       "          callback();\n",
       "      });\n",
       "    } finally {\n",
       "      delete root._bokeh_onload_callbacks;\n",
       "    }\n",
       "    console.debug(\"Bokeh: all callbacks have finished\");\n",
       "  }\n",
       "\n",
       "  function load_libs(css_urls, js_urls, js_modules, js_exports, callback) {\n",
       "    if (css_urls == null) css_urls = [];\n",
       "    if (js_urls == null) js_urls = [];\n",
       "    if (js_modules == null) js_modules = [];\n",
       "    if (js_exports == null) js_exports = {};\n",
       "\n",
       "    root._bokeh_onload_callbacks.push(callback);\n",
       "\n",
       "    if (root._bokeh_is_loading > 0) {\n",
       "      // Don't load bokeh if it is still initializing\n",
       "      console.debug(\"Bokeh: BokehJS is being loaded, scheduling callback at\", now());\n",
       "      return null;\n",
       "    } else if (js_urls.length === 0 && js_modules.length === 0 && Object.keys(js_exports).length === 0) {\n",
       "      // There is nothing to load\n",
       "      run_callbacks();\n",
       "      return null;\n",
       "    }\n",
       "\n",
       "    function on_load() {\n",
       "      root._bokeh_is_loading--;\n",
       "      if (root._bokeh_is_loading === 0) {\n",
       "        console.debug(\"Bokeh: all BokehJS libraries/stylesheets loaded\");\n",
       "        run_callbacks()\n",
       "      }\n",
       "    }\n",
       "    window._bokeh_on_load = on_load\n",
       "\n",
       "    function on_error(e) {\n",
       "      const src_el = e.srcElement\n",
       "      console.error(\"failed to load \" + (src_el.href || src_el.src));\n",
       "    }\n",
       "\n",
       "    const skip = [];\n",
       "    if (window.requirejs) {\n",
       "      window.requirejs.config({'packages': {}, 'paths': {}, 'shim': {}});\n",
       "      root._bokeh_is_loading = css_urls.length + 0;\n",
       "    } else {\n",
       "      root._bokeh_is_loading = css_urls.length + js_urls.length + js_modules.length + Object.keys(js_exports).length;\n",
       "    }\n",
       "\n",
       "    const existing_stylesheets = []\n",
       "    const links = document.getElementsByTagName('link')\n",
       "    for (let i = 0; i < links.length; i++) {\n",
       "      const link = links[i]\n",
       "      if (link.href != null) {\n",
       "        existing_stylesheets.push(link.href)\n",
       "      }\n",
       "    }\n",
       "    for (let i = 0; i < css_urls.length; i++) {\n",
       "      const url = css_urls[i];\n",
       "      const escaped = encodeURI(url)\n",
       "      if (existing_stylesheets.indexOf(escaped) !== -1) {\n",
       "        on_load()\n",
       "        continue;\n",
       "      }\n",
       "      const element = document.createElement(\"link\");\n",
       "      element.onload = on_load;\n",
       "      element.onerror = on_error;\n",
       "      element.rel = \"stylesheet\";\n",
       "      element.type = \"text/css\";\n",
       "      element.href = url;\n",
       "      console.debug(\"Bokeh: injecting link tag for BokehJS stylesheet: \", url);\n",
       "      document.body.appendChild(element);\n",
       "    }    var existing_scripts = []\n",
       "    const scripts = document.getElementsByTagName('script')\n",
       "    for (let i = 0; i < scripts.length; i++) {\n",
       "      var script = scripts[i]\n",
       "      if (script.src != null) {\n",
       "        existing_scripts.push(script.src)\n",
       "      }\n",
       "    }\n",
       "    for (let i = 0; i < js_urls.length; i++) {\n",
       "      const url = js_urls[i];\n",
       "      const escaped = encodeURI(url)\n",
       "      if (skip.indexOf(escaped) !== -1 || existing_scripts.indexOf(escaped) !== -1) {\n",
       "        if (!window.requirejs) {\n",
       "          on_load();\n",
       "        }\n",
       "        continue;\n",
       "      }\n",
       "      const element = document.createElement('script');\n",
       "      element.onload = on_load;\n",
       "      element.onerror = on_error;\n",
       "      element.async = false;\n",
       "      element.src = url;\n",
       "      console.debug(\"Bokeh: injecting script tag for BokehJS library: \", url);\n",
       "      document.head.appendChild(element);\n",
       "    }\n",
       "    for (let i = 0; i < js_modules.length; i++) {\n",
       "      const url = js_modules[i];\n",
       "      const escaped = encodeURI(url)\n",
       "      if (skip.indexOf(escaped) !== -1 || existing_scripts.indexOf(escaped) !== -1) {\n",
       "        if (!window.requirejs) {\n",
       "          on_load();\n",
       "        }\n",
       "        continue;\n",
       "      }\n",
       "      var element = document.createElement('script');\n",
       "      element.onload = on_load;\n",
       "      element.onerror = on_error;\n",
       "      element.async = false;\n",
       "      element.src = url;\n",
       "      element.type = \"module\";\n",
       "      console.debug(\"Bokeh: injecting script tag for BokehJS library: \", url);\n",
       "      document.head.appendChild(element);\n",
       "    }\n",
       "    for (const name in js_exports) {\n",
       "      const url = js_exports[name];\n",
       "      const escaped = encodeURI(url)\n",
       "      if (skip.indexOf(escaped) >= 0 || root[name] != null) {\n",
       "        if (!window.requirejs) {\n",
       "          on_load();\n",
       "        }\n",
       "        continue;\n",
       "      }\n",
       "      var element = document.createElement('script');\n",
       "      element.onerror = on_error;\n",
       "      element.async = false;\n",
       "      element.type = \"module\";\n",
       "      console.debug(\"Bokeh: injecting script tag for BokehJS library: \", url);\n",
       "      element.textContent = `\n",
       "      import ${name} from \"${url}\"\n",
       "      window.${name} = ${name}\n",
       "      window._bokeh_on_load()\n",
       "      `\n",
       "      document.head.appendChild(element);\n",
       "    }\n",
       "    if (!js_urls.length && !js_modules.length) {\n",
       "      on_load()\n",
       "    }\n",
       "  };\n",
       "\n",
       "  function inject_raw_css(css) {\n",
       "    const element = document.createElement(\"style\");\n",
       "    element.appendChild(document.createTextNode(css));\n",
       "    document.body.appendChild(element);\n",
       "  }\n",
       "\n",
       "  const js_urls = [\"https://cdn.holoviz.org/panel/1.8.2/dist/bundled/reactiveesm/es-module-shims@^1.10.0/dist/es-module-shims.min.js\", \"https://cdn.bokeh.org/bokeh/release/bokeh-3.8.0.min.js\", \"https://cdn.bokeh.org/bokeh/release/bokeh-gl-3.8.0.min.js\", \"https://cdn.bokeh.org/bokeh/release/bokeh-widgets-3.8.0.min.js\", \"https://cdn.bokeh.org/bokeh/release/bokeh-tables-3.8.0.min.js\", \"https://cdn.holoviz.org/panel/1.8.2/dist/panel.min.js\"];\n",
       "  const js_modules = [];\n",
       "  const js_exports = {};\n",
       "  const css_urls = [];\n",
       "  const inline_js = [    function(Bokeh) {\n",
       "      Bokeh.set_log_level(\"info\");\n",
       "    },\n",
       "function(Bokeh) {} // ensure no trailing comma for IE\n",
       "  ];\n",
       "\n",
       "  function run_inline_js() {\n",
       "    if ((root.Bokeh !== undefined) || (force === true)) {\n",
       "      for (let i = 0; i < inline_js.length; i++) {\n",
       "        try {\n",
       "          inline_js[i].call(root, root.Bokeh);\n",
       "        } catch(e) {\n",
       "          if (!reloading) {\n",
       "            throw e;\n",
       "          }\n",
       "        }\n",
       "      }\n",
       "      // Cache old bokeh versions\n",
       "      if (Bokeh != undefined && !reloading) {\n",
       "        var NewBokeh = root.Bokeh;\n",
       "        if (Bokeh.versions === undefined) {\n",
       "          Bokeh.versions = new Map();\n",
       "        }\n",
       "        if (NewBokeh.version !== Bokeh.version) {\n",
       "          Bokeh.versions.set(NewBokeh.version, NewBokeh)\n",
       "        }\n",
       "        root.Bokeh = Bokeh;\n",
       "      }\n",
       "    } else if (Date.now() < root._bokeh_timeout) {\n",
       "      setTimeout(run_inline_js, 100);\n",
       "    } else if (!root._bokeh_failed_load) {\n",
       "      console.log(\"Bokeh: BokehJS failed to load within specified timeout.\");\n",
       "      root._bokeh_failed_load = true;\n",
       "    }\n",
       "    root._bokeh_is_initializing = false\n",
       "  }\n",
       "\n",
       "  function load_or_wait() {\n",
       "    // Implement a backoff loop that tries to ensure we do not load multiple\n",
       "    // versions of Bokeh and its dependencies at the same time.\n",
       "    // In recent versions we use the root._bokeh_is_initializing flag\n",
       "    // to determine whether there is an ongoing attempt to initialize\n",
       "    // bokeh, however for backward compatibility we also try to ensure\n",
       "    // that we do not start loading a newer (Panel>=1.0 and Bokeh>3) version\n",
       "    // before older versions are fully initialized.\n",
       "    if (root._bokeh_is_initializing && Date.now() > root._bokeh_timeout) {\n",
       "      // If the timeout and bokeh was not successfully loaded we reset\n",
       "      // everything and try loading again\n",
       "      root._bokeh_timeout = Date.now() + 5000;\n",
       "      root._bokeh_is_initializing = false;\n",
       "      root._bokeh_onload_callbacks = undefined;\n",
       "      root._bokeh_is_loading = 0\n",
       "      console.log(\"Bokeh: BokehJS was loaded multiple times but one version failed to initialize.\");\n",
       "      load_or_wait();\n",
       "    } else if (root._bokeh_is_initializing || (typeof root._bokeh_is_initializing === \"undefined\" && root._bokeh_onload_callbacks !== undefined)) {\n",
       "      setTimeout(load_or_wait, 100);\n",
       "    } else {\n",
       "      root._bokeh_is_initializing = true\n",
       "      root._bokeh_onload_callbacks = []\n",
       "      const bokeh_loaded = root.Bokeh != null && (root.Bokeh.version === py_version || (root.Bokeh.versions !== undefined && root.Bokeh.versions.has(py_version)));\n",
       "      if (!reloading && !bokeh_loaded) {\n",
       "        if (root.Bokeh) {\n",
       "          root.Bokeh = undefined;\n",
       "        }\n",
       "        console.debug(\"Bokeh: BokehJS not loaded, scheduling load and callback at\", now());\n",
       "      }\n",
       "      load_libs(css_urls, js_urls, js_modules, js_exports, function() {\n",
       "        console.debug(\"Bokeh: BokehJS plotting callback run at\", now());\n",
       "        run_inline_js();\n",
       "      });\n",
       "    }\n",
       "  }\n",
       "  // Give older versions of the autoload script a head-start to ensure\n",
       "  // they initialize before we start loading newer version.\n",
       "  setTimeout(load_or_wait, 100)\n",
       "}(window));"
      ],
      "application/vnd.holoviews_load.v0+json": "(function(root) {\n  function now() {\n    return new Date();\n  }\n\n  const force = true;\n  const py_version = '3.8.0'.replace('rc', '-rc.').replace('.dev', '-dev.');\n  const reloading = false;\n  const Bokeh = root.Bokeh;\n\n  // Set a timeout for this load but only if we are not already initializing\n  if (typeof (root._bokeh_timeout) === \"undefined\" || (force || !root._bokeh_is_initializing)) {\n    root._bokeh_timeout = Date.now() + 5000;\n    root._bokeh_failed_load = false;\n  }\n\n  function run_callbacks() {\n    try {\n      root._bokeh_onload_callbacks.forEach(function(callback) {\n        if (callback != null)\n          callback();\n      });\n    } finally {\n      delete root._bokeh_onload_callbacks;\n    }\n    console.debug(\"Bokeh: all callbacks have finished\");\n  }\n\n  function load_libs(css_urls, js_urls, js_modules, js_exports, callback) {\n    if (css_urls == null) css_urls = [];\n    if (js_urls == null) js_urls = [];\n    if (js_modules == null) js_modules = [];\n    if (js_exports == null) js_exports = {};\n\n    root._bokeh_onload_callbacks.push(callback);\n\n    if (root._bokeh_is_loading > 0) {\n      // Don't load bokeh if it is still initializing\n      console.debug(\"Bokeh: BokehJS is being loaded, scheduling callback at\", now());\n      return null;\n    } else if (js_urls.length === 0 && js_modules.length === 0 && Object.keys(js_exports).length === 0) {\n      // There is nothing to load\n      run_callbacks();\n      return null;\n    }\n\n    function on_load() {\n      root._bokeh_is_loading--;\n      if (root._bokeh_is_loading === 0) {\n        console.debug(\"Bokeh: all BokehJS libraries/stylesheets loaded\");\n        run_callbacks()\n      }\n    }\n    window._bokeh_on_load = on_load\n\n    function on_error(e) {\n      const src_el = e.srcElement\n      console.error(\"failed to load \" + (src_el.href || src_el.src));\n    }\n\n    const skip = [];\n    if (window.requirejs) {\n      window.requirejs.config({'packages': {}, 'paths': {}, 'shim': {}});\n      root._bokeh_is_loading = css_urls.length + 0;\n    } else {\n      root._bokeh_is_loading = css_urls.length + js_urls.length + js_modules.length + Object.keys(js_exports).length;\n    }\n\n    const existing_stylesheets = []\n    const links = document.getElementsByTagName('link')\n    for (let i = 0; i < links.length; i++) {\n      const link = links[i]\n      if (link.href != null) {\n        existing_stylesheets.push(link.href)\n      }\n    }\n    for (let i = 0; i < css_urls.length; i++) {\n      const url = css_urls[i];\n      const escaped = encodeURI(url)\n      if (existing_stylesheets.indexOf(escaped) !== -1) {\n        on_load()\n        continue;\n      }\n      const element = document.createElement(\"link\");\n      element.onload = on_load;\n      element.onerror = on_error;\n      element.rel = \"stylesheet\";\n      element.type = \"text/css\";\n      element.href = url;\n      console.debug(\"Bokeh: injecting link tag for BokehJS stylesheet: \", url);\n      document.body.appendChild(element);\n    }    var existing_scripts = []\n    const scripts = document.getElementsByTagName('script')\n    for (let i = 0; i < scripts.length; i++) {\n      var script = scripts[i]\n      if (script.src != null) {\n        existing_scripts.push(script.src)\n      }\n    }\n    for (let i = 0; i < js_urls.length; i++) {\n      const url = js_urls[i];\n      const escaped = encodeURI(url)\n      if (skip.indexOf(escaped) !== -1 || existing_scripts.indexOf(escaped) !== -1) {\n        if (!window.requirejs) {\n          on_load();\n        }\n        continue;\n      }\n      const element = document.createElement('script');\n      element.onload = on_load;\n      element.onerror = on_error;\n      element.async = false;\n      element.src = url;\n      console.debug(\"Bokeh: injecting script tag for BokehJS library: \", url);\n      document.head.appendChild(element);\n    }\n    for (let i = 0; i < js_modules.length; i++) {\n      const url = js_modules[i];\n      const escaped = encodeURI(url)\n      if (skip.indexOf(escaped) !== -1 || existing_scripts.indexOf(escaped) !== -1) {\n        if (!window.requirejs) {\n          on_load();\n        }\n        continue;\n      }\n      var element = document.createElement('script');\n      element.onload = on_load;\n      element.onerror = on_error;\n      element.async = false;\n      element.src = url;\n      element.type = \"module\";\n      console.debug(\"Bokeh: injecting script tag for BokehJS library: \", url);\n      document.head.appendChild(element);\n    }\n    for (const name in js_exports) {\n      const url = js_exports[name];\n      const escaped = encodeURI(url)\n      if (skip.indexOf(escaped) >= 0 || root[name] != null) {\n        if (!window.requirejs) {\n          on_load();\n        }\n        continue;\n      }\n      var element = document.createElement('script');\n      element.onerror = on_error;\n      element.async = false;\n      element.type = \"module\";\n      console.debug(\"Bokeh: injecting script tag for BokehJS library: \", url);\n      element.textContent = `\n      import ${name} from \"${url}\"\n      window.${name} = ${name}\n      window._bokeh_on_load()\n      `\n      document.head.appendChild(element);\n    }\n    if (!js_urls.length && !js_modules.length) {\n      on_load()\n    }\n  };\n\n  function inject_raw_css(css) {\n    const element = document.createElement(\"style\");\n    element.appendChild(document.createTextNode(css));\n    document.body.appendChild(element);\n  }\n\n  const js_urls = [\"https://cdn.holoviz.org/panel/1.8.2/dist/bundled/reactiveesm/es-module-shims@^1.10.0/dist/es-module-shims.min.js\", \"https://cdn.bokeh.org/bokeh/release/bokeh-3.8.0.min.js\", \"https://cdn.bokeh.org/bokeh/release/bokeh-gl-3.8.0.min.js\", \"https://cdn.bokeh.org/bokeh/release/bokeh-widgets-3.8.0.min.js\", \"https://cdn.bokeh.org/bokeh/release/bokeh-tables-3.8.0.min.js\", \"https://cdn.holoviz.org/panel/1.8.2/dist/panel.min.js\"];\n  const js_modules = [];\n  const js_exports = {};\n  const css_urls = [];\n  const inline_js = [    function(Bokeh) {\n      Bokeh.set_log_level(\"info\");\n    },\nfunction(Bokeh) {} // ensure no trailing comma for IE\n  ];\n\n  function run_inline_js() {\n    if ((root.Bokeh !== undefined) || (force === true)) {\n      for (let i = 0; i < inline_js.length; i++) {\n        try {\n          inline_js[i].call(root, root.Bokeh);\n        } catch(e) {\n          if (!reloading) {\n            throw e;\n          }\n        }\n      }\n      // Cache old bokeh versions\n      if (Bokeh != undefined && !reloading) {\n        var NewBokeh = root.Bokeh;\n        if (Bokeh.versions === undefined) {\n          Bokeh.versions = new Map();\n        }\n        if (NewBokeh.version !== Bokeh.version) {\n          Bokeh.versions.set(NewBokeh.version, NewBokeh)\n        }\n        root.Bokeh = Bokeh;\n      }\n    } else if (Date.now() < root._bokeh_timeout) {\n      setTimeout(run_inline_js, 100);\n    } else if (!root._bokeh_failed_load) {\n      console.log(\"Bokeh: BokehJS failed to load within specified timeout.\");\n      root._bokeh_failed_load = true;\n    }\n    root._bokeh_is_initializing = false\n  }\n\n  function load_or_wait() {\n    // Implement a backoff loop that tries to ensure we do not load multiple\n    // versions of Bokeh and its dependencies at the same time.\n    // In recent versions we use the root._bokeh_is_initializing flag\n    // to determine whether there is an ongoing attempt to initialize\n    // bokeh, however for backward compatibility we also try to ensure\n    // that we do not start loading a newer (Panel>=1.0 and Bokeh>3) version\n    // before older versions are fully initialized.\n    if (root._bokeh_is_initializing && Date.now() > root._bokeh_timeout) {\n      // If the timeout and bokeh was not successfully loaded we reset\n      // everything and try loading again\n      root._bokeh_timeout = Date.now() + 5000;\n      root._bokeh_is_initializing = false;\n      root._bokeh_onload_callbacks = undefined;\n      root._bokeh_is_loading = 0\n      console.log(\"Bokeh: BokehJS was loaded multiple times but one version failed to initialize.\");\n      load_or_wait();\n    } else if (root._bokeh_is_initializing || (typeof root._bokeh_is_initializing === \"undefined\" && root._bokeh_onload_callbacks !== undefined)) {\n      setTimeout(load_or_wait, 100);\n    } else {\n      root._bokeh_is_initializing = true\n      root._bokeh_onload_callbacks = []\n      const bokeh_loaded = root.Bokeh != null && (root.Bokeh.version === py_version || (root.Bokeh.versions !== undefined && root.Bokeh.versions.has(py_version)));\n      if (!reloading && !bokeh_loaded) {\n        if (root.Bokeh) {\n          root.Bokeh = undefined;\n        }\n        console.debug(\"Bokeh: BokehJS not loaded, scheduling load and callback at\", now());\n      }\n      load_libs(css_urls, js_urls, js_modules, js_exports, function() {\n        console.debug(\"Bokeh: BokehJS plotting callback run at\", now());\n        run_inline_js();\n      });\n    }\n  }\n  // Give older versions of the autoload script a head-start to ensure\n  // they initialize before we start loading newer version.\n  setTimeout(load_or_wait, 100)\n}(window));"
     },
     "metadata": {},
     "output_type": "display_data"
    },
    {
     "data": {
      "application/javascript": [
       "\n",
       "if ((window.PyViz === undefined) || (window.PyViz instanceof HTMLElement)) {\n",
       "  window.PyViz = {comms: {}, comm_status:{}, kernels:{}, receivers: {}, plot_index: []}\n",
       "}\n",
       "\n",
       "\n",
       "    function JupyterCommManager() {\n",
       "    }\n",
       "\n",
       "    JupyterCommManager.prototype.register_target = function(plot_id, comm_id, msg_handler) {\n",
       "      if (window.comm_manager || ((window.Jupyter !== undefined) && (Jupyter.notebook.kernel != null))) {\n",
       "        var comm_manager = window.comm_manager || Jupyter.notebook.kernel.comm_manager;\n",
       "        comm_manager.register_target(comm_id, function(comm) {\n",
       "          comm.on_msg(msg_handler);\n",
       "        });\n",
       "      } else if ((plot_id in window.PyViz.kernels) && (window.PyViz.kernels[plot_id])) {\n",
       "        window.PyViz.kernels[plot_id].registerCommTarget(comm_id, function(comm) {\n",
       "          comm.onMsg = msg_handler;\n",
       "        });\n",
       "      } else if (typeof google != 'undefined' && google.colab.kernel != null) {\n",
       "        google.colab.kernel.comms.registerTarget(comm_id, (comm) => {\n",
       "          var messages = comm.messages[Symbol.asyncIterator]();\n",
       "          function processIteratorResult(result) {\n",
       "            var message = result.value;\n",
       "            var content = {data: message.data, comm_id};\n",
       "            var buffers = []\n",
       "            for (var buffer of message.buffers || []) {\n",
       "              buffers.push(new DataView(buffer))\n",
       "            }\n",
       "            var metadata = message.metadata || {};\n",
       "            var msg = {content, buffers, metadata}\n",
       "            msg_handler(msg);\n",
       "            return messages.next().then(processIteratorResult);\n",
       "          }\n",
       "          return messages.next().then(processIteratorResult);\n",
       "        })\n",
       "      }\n",
       "    }\n",
       "\n",
       "    JupyterCommManager.prototype.get_client_comm = function(plot_id, comm_id, msg_handler) {\n",
       "      if (comm_id in window.PyViz.comms) {\n",
       "        return window.PyViz.comms[comm_id];\n",
       "      } else if (window.comm_manager || ((window.Jupyter !== undefined) && (Jupyter.notebook.kernel != null))) {\n",
       "        var comm_manager = window.comm_manager || Jupyter.notebook.kernel.comm_manager;\n",
       "        var comm = comm_manager.new_comm(comm_id, {}, {}, {}, comm_id);\n",
       "        if (msg_handler) {\n",
       "          comm.on_msg(msg_handler);\n",
       "        }\n",
       "      } else if ((plot_id in window.PyViz.kernels) && (window.PyViz.kernels[plot_id])) {\n",
       "        var comm = window.PyViz.kernels[plot_id].connectToComm(comm_id);\n",
       "        let retries = 0;\n",
       "        const open = () => {\n",
       "          if (comm.active) {\n",
       "            comm.open();\n",
       "          } else if (retries > 3) {\n",
       "            console.warn('Comm target never activated')\n",
       "          } else {\n",
       "            retries += 1\n",
       "            setTimeout(open, 500)\n",
       "          }\n",
       "        }\n",
       "        if (comm.active) {\n",
       "          comm.open();\n",
       "        } else {\n",
       "          setTimeout(open, 500)\n",
       "        }\n",
       "        if (msg_handler) {\n",
       "          comm.onMsg = msg_handler;\n",
       "        }\n",
       "      } else if (typeof google != 'undefined' && google.colab.kernel != null) {\n",
       "        var comm_promise = google.colab.kernel.comms.open(comm_id)\n",
       "        comm_promise.then((comm) => {\n",
       "          window.PyViz.comms[comm_id] = comm;\n",
       "          if (msg_handler) {\n",
       "            var messages = comm.messages[Symbol.asyncIterator]();\n",
       "            function processIteratorResult(result) {\n",
       "              var message = result.value;\n",
       "              var content = {data: message.data};\n",
       "              var metadata = message.metadata || {comm_id};\n",
       "              var msg = {content, metadata}\n",
       "              msg_handler(msg);\n",
       "              return messages.next().then(processIteratorResult);\n",
       "            }\n",
       "            return messages.next().then(processIteratorResult);\n",
       "          }\n",
       "        })\n",
       "        var sendClosure = (data, metadata, buffers, disposeOnDone) => {\n",
       "          return comm_promise.then((comm) => {\n",
       "            comm.send(data, metadata, buffers, disposeOnDone);\n",
       "          });\n",
       "        };\n",
       "        var comm = {\n",
       "          send: sendClosure\n",
       "        };\n",
       "      }\n",
       "      window.PyViz.comms[comm_id] = comm;\n",
       "      return comm;\n",
       "    }\n",
       "    window.PyViz.comm_manager = new JupyterCommManager();\n",
       "    \n",
       "\n",
       "\n",
       "var JS_MIME_TYPE = 'application/javascript';\n",
       "var HTML_MIME_TYPE = 'text/html';\n",
       "var EXEC_MIME_TYPE = 'application/vnd.holoviews_exec.v0+json';\n",
       "var CLASS_NAME = 'output';\n",
       "\n",
       "/**\n",
       " * Render data to the DOM node\n",
       " */\n",
       "function render(props, node) {\n",
       "  var div = document.createElement(\"div\");\n",
       "  var script = document.createElement(\"script\");\n",
       "  node.appendChild(div);\n",
       "  node.appendChild(script);\n",
       "}\n",
       "\n",
       "/**\n",
       " * Handle when a new output is added\n",
       " */\n",
       "function handle_add_output(event, handle) {\n",
       "  var output_area = handle.output_area;\n",
       "  var output = handle.output;\n",
       "  if ((output.data == undefined) || (!output.data.hasOwnProperty(EXEC_MIME_TYPE))) {\n",
       "    return\n",
       "  }\n",
       "  var id = output.metadata[EXEC_MIME_TYPE][\"id\"];\n",
       "  var toinsert = output_area.element.find(\".\" + CLASS_NAME.split(' ')[0]);\n",
       "  if (id !== undefined) {\n",
       "    var nchildren = toinsert.length;\n",
       "    var html_node = toinsert[nchildren-1].children[0];\n",
       "    html_node.innerHTML = output.data[HTML_MIME_TYPE];\n",
       "    var scripts = [];\n",
       "    var nodelist = html_node.querySelectorAll(\"script\");\n",
       "    for (var i in nodelist) {\n",
       "      if (nodelist.hasOwnProperty(i)) {\n",
       "        scripts.push(nodelist[i])\n",
       "      }\n",
       "    }\n",
       "\n",
       "    scripts.forEach( function (oldScript) {\n",
       "      var newScript = document.createElement(\"script\");\n",
       "      var attrs = [];\n",
       "      var nodemap = oldScript.attributes;\n",
       "      for (var j in nodemap) {\n",
       "        if (nodemap.hasOwnProperty(j)) {\n",
       "          attrs.push(nodemap[j])\n",
       "        }\n",
       "      }\n",
       "      attrs.forEach(function(attr) { newScript.setAttribute(attr.name, attr.value) });\n",
       "      newScript.appendChild(document.createTextNode(oldScript.innerHTML));\n",
       "      oldScript.parentNode.replaceChild(newScript, oldScript);\n",
       "    });\n",
       "    if (JS_MIME_TYPE in output.data) {\n",
       "      toinsert[nchildren-1].children[1].textContent = output.data[JS_MIME_TYPE];\n",
       "    }\n",
       "    output_area._hv_plot_id = id;\n",
       "    if ((window.Bokeh !== undefined) && (id in Bokeh.index)) {\n",
       "      window.PyViz.plot_index[id] = Bokeh.index[id];\n",
       "    } else {\n",
       "      window.PyViz.plot_index[id] = null;\n",
       "    }\n",
       "  } else if (output.metadata[EXEC_MIME_TYPE][\"server_id\"] !== undefined) {\n",
       "    var bk_div = document.createElement(\"div\");\n",
       "    bk_div.innerHTML = output.data[HTML_MIME_TYPE];\n",
       "    var script_attrs = bk_div.children[0].attributes;\n",
       "    for (var i = 0; i < script_attrs.length; i++) {\n",
       "      toinsert[toinsert.length - 1].childNodes[1].setAttribute(script_attrs[i].name, script_attrs[i].value);\n",
       "    }\n",
       "    // store reference to server id on output_area\n",
       "    output_area._bokeh_server_id = output.metadata[EXEC_MIME_TYPE][\"server_id\"];\n",
       "  }\n",
       "}\n",
       "\n",
       "/**\n",
       " * Handle when an output is cleared or removed\n",
       " */\n",
       "function handle_clear_output(event, handle) {\n",
       "  var id = handle.cell.output_area._hv_plot_id;\n",
       "  var server_id = handle.cell.output_area._bokeh_server_id;\n",
       "  if (((id === undefined) || !(id in PyViz.plot_index)) && (server_id !== undefined)) { return; }\n",
       "  var comm = window.PyViz.comm_manager.get_client_comm(\"hv-extension-comm\", \"hv-extension-comm\", function () {});\n",
       "  if (server_id !== null) {\n",
       "    comm.send({event_type: 'server_delete', 'id': server_id});\n",
       "    return;\n",
       "  } else if (comm !== null) {\n",
       "    comm.send({event_type: 'delete', 'id': id});\n",
       "  }\n",
       "  delete PyViz.plot_index[id];\n",
       "  if ((window.Bokeh !== undefined) & (id in window.Bokeh.index)) {\n",
       "    var doc = window.Bokeh.index[id].model.document\n",
       "    doc.clear();\n",
       "    const i = window.Bokeh.documents.indexOf(doc);\n",
       "    if (i > -1) {\n",
       "      window.Bokeh.documents.splice(i, 1);\n",
       "    }\n",
       "  }\n",
       "}\n",
       "\n",
       "/**\n",
       " * Handle kernel restart event\n",
       " */\n",
       "function handle_kernel_cleanup(event, handle) {\n",
       "  delete PyViz.comms[\"hv-extension-comm\"];\n",
       "  window.PyViz.plot_index = {}\n",
       "}\n",
       "\n",
       "/**\n",
       " * Handle update_display_data messages\n",
       " */\n",
       "function handle_update_output(event, handle) {\n",
       "  handle_clear_output(event, {cell: {output_area: handle.output_area}})\n",
       "  handle_add_output(event, handle)\n",
       "}\n",
       "\n",
       "function register_renderer(events, OutputArea) {\n",
       "  function append_mime(data, metadata, element) {\n",
       "    // create a DOM node to render to\n",
       "    var toinsert = this.create_output_subarea(\n",
       "    metadata,\n",
       "    CLASS_NAME,\n",
       "    EXEC_MIME_TYPE\n",
       "    );\n",
       "    this.keyboard_manager.register_events(toinsert);\n",
       "    // Render to node\n",
       "    var props = {data: data, metadata: metadata[EXEC_MIME_TYPE]};\n",
       "    render(props, toinsert[0]);\n",
       "    element.append(toinsert);\n",
       "    return toinsert\n",
       "  }\n",
       "\n",
       "  events.on('output_added.OutputArea', handle_add_output);\n",
       "  events.on('output_updated.OutputArea', handle_update_output);\n",
       "  events.on('clear_output.CodeCell', handle_clear_output);\n",
       "  events.on('delete.Cell', handle_clear_output);\n",
       "  events.on('kernel_ready.Kernel', handle_kernel_cleanup);\n",
       "\n",
       "  OutputArea.prototype.register_mime_type(EXEC_MIME_TYPE, append_mime, {\n",
       "    safe: true,\n",
       "    index: 0\n",
       "  });\n",
       "}\n",
       "\n",
       "if (window.Jupyter !== undefined) {\n",
       "  try {\n",
       "    var events = require('base/js/events');\n",
       "    var OutputArea = require('notebook/js/outputarea').OutputArea;\n",
       "    if (OutputArea.prototype.mime_types().indexOf(EXEC_MIME_TYPE) == -1) {\n",
       "      register_renderer(events, OutputArea);\n",
       "    }\n",
       "  } catch(err) {\n",
       "  }\n",
       "}\n"
      ],
      "application/vnd.holoviews_load.v0+json": "\nif ((window.PyViz === undefined) || (window.PyViz instanceof HTMLElement)) {\n  window.PyViz = {comms: {}, comm_status:{}, kernels:{}, receivers: {}, plot_index: []}\n}\n\n\n    function JupyterCommManager() {\n    }\n\n    JupyterCommManager.prototype.register_target = function(plot_id, comm_id, msg_handler) {\n      if (window.comm_manager || ((window.Jupyter !== undefined) && (Jupyter.notebook.kernel != null))) {\n        var comm_manager = window.comm_manager || Jupyter.notebook.kernel.comm_manager;\n        comm_manager.register_target(comm_id, function(comm) {\n          comm.on_msg(msg_handler);\n        });\n      } else if ((plot_id in window.PyViz.kernels) && (window.PyViz.kernels[plot_id])) {\n        window.PyViz.kernels[plot_id].registerCommTarget(comm_id, function(comm) {\n          comm.onMsg = msg_handler;\n        });\n      } else if (typeof google != 'undefined' && google.colab.kernel != null) {\n        google.colab.kernel.comms.registerTarget(comm_id, (comm) => {\n          var messages = comm.messages[Symbol.asyncIterator]();\n          function processIteratorResult(result) {\n            var message = result.value;\n            var content = {data: message.data, comm_id};\n            var buffers = []\n            for (var buffer of message.buffers || []) {\n              buffers.push(new DataView(buffer))\n            }\n            var metadata = message.metadata || {};\n            var msg = {content, buffers, metadata}\n            msg_handler(msg);\n            return messages.next().then(processIteratorResult);\n          }\n          return messages.next().then(processIteratorResult);\n        })\n      }\n    }\n\n    JupyterCommManager.prototype.get_client_comm = function(plot_id, comm_id, msg_handler) {\n      if (comm_id in window.PyViz.comms) {\n        return window.PyViz.comms[comm_id];\n      } else if (window.comm_manager || ((window.Jupyter !== undefined) && (Jupyter.notebook.kernel != null))) {\n        var comm_manager = window.comm_manager || Jupyter.notebook.kernel.comm_manager;\n        var comm = comm_manager.new_comm(comm_id, {}, {}, {}, comm_id);\n        if (msg_handler) {\n          comm.on_msg(msg_handler);\n        }\n      } else if ((plot_id in window.PyViz.kernels) && (window.PyViz.kernels[plot_id])) {\n        var comm = window.PyViz.kernels[plot_id].connectToComm(comm_id);\n        let retries = 0;\n        const open = () => {\n          if (comm.active) {\n            comm.open();\n          } else if (retries > 3) {\n            console.warn('Comm target never activated')\n          } else {\n            retries += 1\n            setTimeout(open, 500)\n          }\n        }\n        if (comm.active) {\n          comm.open();\n        } else {\n          setTimeout(open, 500)\n        }\n        if (msg_handler) {\n          comm.onMsg = msg_handler;\n        }\n      } else if (typeof google != 'undefined' && google.colab.kernel != null) {\n        var comm_promise = google.colab.kernel.comms.open(comm_id)\n        comm_promise.then((comm) => {\n          window.PyViz.comms[comm_id] = comm;\n          if (msg_handler) {\n            var messages = comm.messages[Symbol.asyncIterator]();\n            function processIteratorResult(result) {\n              var message = result.value;\n              var content = {data: message.data};\n              var metadata = message.metadata || {comm_id};\n              var msg = {content, metadata}\n              msg_handler(msg);\n              return messages.next().then(processIteratorResult);\n            }\n            return messages.next().then(processIteratorResult);\n          }\n        })\n        var sendClosure = (data, metadata, buffers, disposeOnDone) => {\n          return comm_promise.then((comm) => {\n            comm.send(data, metadata, buffers, disposeOnDone);\n          });\n        };\n        var comm = {\n          send: sendClosure\n        };\n      }\n      window.PyViz.comms[comm_id] = comm;\n      return comm;\n    }\n    window.PyViz.comm_manager = new JupyterCommManager();\n    \n\n\nvar JS_MIME_TYPE = 'application/javascript';\nvar HTML_MIME_TYPE = 'text/html';\nvar EXEC_MIME_TYPE = 'application/vnd.holoviews_exec.v0+json';\nvar CLASS_NAME = 'output';\n\n/**\n * Render data to the DOM node\n */\nfunction render(props, node) {\n  var div = document.createElement(\"div\");\n  var script = document.createElement(\"script\");\n  node.appendChild(div);\n  node.appendChild(script);\n}\n\n/**\n * Handle when a new output is added\n */\nfunction handle_add_output(event, handle) {\n  var output_area = handle.output_area;\n  var output = handle.output;\n  if ((output.data == undefined) || (!output.data.hasOwnProperty(EXEC_MIME_TYPE))) {\n    return\n  }\n  var id = output.metadata[EXEC_MIME_TYPE][\"id\"];\n  var toinsert = output_area.element.find(\".\" + CLASS_NAME.split(' ')[0]);\n  if (id !== undefined) {\n    var nchildren = toinsert.length;\n    var html_node = toinsert[nchildren-1].children[0];\n    html_node.innerHTML = output.data[HTML_MIME_TYPE];\n    var scripts = [];\n    var nodelist = html_node.querySelectorAll(\"script\");\n    for (var i in nodelist) {\n      if (nodelist.hasOwnProperty(i)) {\n        scripts.push(nodelist[i])\n      }\n    }\n\n    scripts.forEach( function (oldScript) {\n      var newScript = document.createElement(\"script\");\n      var attrs = [];\n      var nodemap = oldScript.attributes;\n      for (var j in nodemap) {\n        if (nodemap.hasOwnProperty(j)) {\n          attrs.push(nodemap[j])\n        }\n      }\n      attrs.forEach(function(attr) { newScript.setAttribute(attr.name, attr.value) });\n      newScript.appendChild(document.createTextNode(oldScript.innerHTML));\n      oldScript.parentNode.replaceChild(newScript, oldScript);\n    });\n    if (JS_MIME_TYPE in output.data) {\n      toinsert[nchildren-1].children[1].textContent = output.data[JS_MIME_TYPE];\n    }\n    output_area._hv_plot_id = id;\n    if ((window.Bokeh !== undefined) && (id in Bokeh.index)) {\n      window.PyViz.plot_index[id] = Bokeh.index[id];\n    } else {\n      window.PyViz.plot_index[id] = null;\n    }\n  } else if (output.metadata[EXEC_MIME_TYPE][\"server_id\"] !== undefined) {\n    var bk_div = document.createElement(\"div\");\n    bk_div.innerHTML = output.data[HTML_MIME_TYPE];\n    var script_attrs = bk_div.children[0].attributes;\n    for (var i = 0; i < script_attrs.length; i++) {\n      toinsert[toinsert.length - 1].childNodes[1].setAttribute(script_attrs[i].name, script_attrs[i].value);\n    }\n    // store reference to server id on output_area\n    output_area._bokeh_server_id = output.metadata[EXEC_MIME_TYPE][\"server_id\"];\n  }\n}\n\n/**\n * Handle when an output is cleared or removed\n */\nfunction handle_clear_output(event, handle) {\n  var id = handle.cell.output_area._hv_plot_id;\n  var server_id = handle.cell.output_area._bokeh_server_id;\n  if (((id === undefined) || !(id in PyViz.plot_index)) && (server_id !== undefined)) { return; }\n  var comm = window.PyViz.comm_manager.get_client_comm(\"hv-extension-comm\", \"hv-extension-comm\", function () {});\n  if (server_id !== null) {\n    comm.send({event_type: 'server_delete', 'id': server_id});\n    return;\n  } else if (comm !== null) {\n    comm.send({event_type: 'delete', 'id': id});\n  }\n  delete PyViz.plot_index[id];\n  if ((window.Bokeh !== undefined) & (id in window.Bokeh.index)) {\n    var doc = window.Bokeh.index[id].model.document\n    doc.clear();\n    const i = window.Bokeh.documents.indexOf(doc);\n    if (i > -1) {\n      window.Bokeh.documents.splice(i, 1);\n    }\n  }\n}\n\n/**\n * Handle kernel restart event\n */\nfunction handle_kernel_cleanup(event, handle) {\n  delete PyViz.comms[\"hv-extension-comm\"];\n  window.PyViz.plot_index = {}\n}\n\n/**\n * Handle update_display_data messages\n */\nfunction handle_update_output(event, handle) {\n  handle_clear_output(event, {cell: {output_area: handle.output_area}})\n  handle_add_output(event, handle)\n}\n\nfunction register_renderer(events, OutputArea) {\n  function append_mime(data, metadata, element) {\n    // create a DOM node to render to\n    var toinsert = this.create_output_subarea(\n    metadata,\n    CLASS_NAME,\n    EXEC_MIME_TYPE\n    );\n    this.keyboard_manager.register_events(toinsert);\n    // Render to node\n    var props = {data: data, metadata: metadata[EXEC_MIME_TYPE]};\n    render(props, toinsert[0]);\n    element.append(toinsert);\n    return toinsert\n  }\n\n  events.on('output_added.OutputArea', handle_add_output);\n  events.on('output_updated.OutputArea', handle_update_output);\n  events.on('clear_output.CodeCell', handle_clear_output);\n  events.on('delete.Cell', handle_clear_output);\n  events.on('kernel_ready.Kernel', handle_kernel_cleanup);\n\n  OutputArea.prototype.register_mime_type(EXEC_MIME_TYPE, append_mime, {\n    safe: true,\n    index: 0\n  });\n}\n\nif (window.Jupyter !== undefined) {\n  try {\n    var events = require('base/js/events');\n    var OutputArea = require('notebook/js/outputarea').OutputArea;\n    if (OutputArea.prototype.mime_types().indexOf(EXEC_MIME_TYPE) == -1) {\n      register_renderer(events, OutputArea);\n    }\n  } catch(err) {\n  }\n}\n"
     },
     "metadata": {},
     "output_type": "display_data"
    },
    {
     "data": {
      "application/vnd.holoviews_exec.v0+json": "",
      "text/html": [
       "<div id='b29f5987-eea8-4195-b59b-717bdc8bada1'>\n",
       "  <div id=\"e4de167e-26ce-458a-a04f-c3b57f9de1c0\" data-root-id=\"b29f5987-eea8-4195-b59b-717bdc8bada1\" style=\"display: contents;\"></div>\n",
       "</div>\n",
       "<script type=\"application/javascript\">(function(root) {\n",
       "  var docs_json = {\"2907cdcb-0817-4d2a-abd1-a4a8dcf95b0e\":{\"version\":\"3.8.0\",\"title\":\"Bokeh Application\",\"config\":{\"type\":\"object\",\"name\":\"DocumentConfig\",\"id\":\"c29282a9-ee85-4c6f-a78b-1ac1b209d343\",\"attributes\":{\"notifications\":{\"type\":\"object\",\"name\":\"Notifications\",\"id\":\"5c4653f5-ff73-47d7-a1d6-40b08d348b05\"}}},\"roots\":[{\"type\":\"object\",\"name\":\"panel.models.browser.BrowserInfo\",\"id\":\"b29f5987-eea8-4195-b59b-717bdc8bada1\"},{\"type\":\"object\",\"name\":\"panel.models.comm_manager.CommManager\",\"id\":\"c297f137-00d2-4a2c-bb02-5de590317bdc\",\"attributes\":{\"plot_id\":\"b29f5987-eea8-4195-b59b-717bdc8bada1\",\"comm_id\":\"9d366db9784043ec8618063656d15b7d\",\"client_comm_id\":\"39015b9270154febbe3dd0a3cfb235b6\"}}],\"defs\":[{\"type\":\"model\",\"name\":\"ReactiveHTML1\"},{\"type\":\"model\",\"name\":\"FlexBox1\",\"properties\":[{\"name\":\"align_content\",\"kind\":\"Any\",\"default\":\"flex-start\"},{\"name\":\"align_items\",\"kind\":\"Any\",\"default\":\"flex-start\"},{\"name\":\"flex_direction\",\"kind\":\"Any\",\"default\":\"row\"},{\"name\":\"flex_wrap\",\"kind\":\"Any\",\"default\":\"wrap\"},{\"name\":\"gap\",\"kind\":\"Any\",\"default\":\"\"},{\"name\":\"justify_content\",\"kind\":\"Any\",\"default\":\"flex-start\"}]},{\"type\":\"model\",\"name\":\"FloatPanel1\",\"properties\":[{\"name\":\"config\",\"kind\":\"Any\",\"default\":{\"type\":\"map\"}},{\"name\":\"contained\",\"kind\":\"Any\",\"default\":true},{\"name\":\"position\",\"kind\":\"Any\",\"default\":\"right-top\"},{\"name\":\"offsetx\",\"kind\":\"Any\",\"default\":null},{\"name\":\"offsety\",\"kind\":\"Any\",\"default\":null},{\"name\":\"theme\",\"kind\":\"Any\",\"default\":\"primary\"},{\"name\":\"status\",\"kind\":\"Any\",\"default\":\"normalized\"}]},{\"type\":\"model\",\"name\":\"GridStack1\",\"properties\":[{\"name\":\"ncols\",\"kind\":\"Any\",\"default\":null},{\"name\":\"nrows\",\"kind\":\"Any\",\"default\":null},{\"name\":\"allow_resize\",\"kind\":\"Any\",\"default\":true},{\"name\":\"allow_drag\",\"kind\":\"Any\",\"default\":true},{\"name\":\"state\",\"kind\":\"Any\",\"default\":[]}]},{\"type\":\"model\",\"name\":\"drag1\",\"properties\":[{\"name\":\"slider_width\",\"kind\":\"Any\",\"default\":5},{\"name\":\"slider_color\",\"kind\":\"Any\",\"default\":\"black\"},{\"name\":\"start\",\"kind\":\"Any\",\"default\":0},{\"name\":\"end\",\"kind\":\"Any\",\"default\":100},{\"name\":\"value\",\"kind\":\"Any\",\"default\":50}]},{\"type\":\"model\",\"name\":\"click1\",\"properties\":[{\"name\":\"terminal_output\",\"kind\":\"Any\",\"default\":\"\"},{\"name\":\"debug_name\",\"kind\":\"Any\",\"default\":\"\"},{\"name\":\"clears\",\"kind\":\"Any\",\"default\":0}]},{\"type\":\"model\",\"name\":\"ReactiveESM1\",\"properties\":[{\"name\":\"esm_constants\",\"kind\":\"Any\",\"default\":{\"type\":\"map\"}}]},{\"type\":\"model\",\"name\":\"JSComponent1\",\"properties\":[{\"name\":\"esm_constants\",\"kind\":\"Any\",\"default\":{\"type\":\"map\"}}]},{\"type\":\"model\",\"name\":\"ReactComponent1\",\"properties\":[{\"name\":\"use_shadow_dom\",\"kind\":\"Any\",\"default\":true},{\"name\":\"esm_constants\",\"kind\":\"Any\",\"default\":{\"type\":\"map\"}}]},{\"type\":\"model\",\"name\":\"AnyWidgetComponent1\",\"properties\":[{\"name\":\"use_shadow_dom\",\"kind\":\"Any\",\"default\":true},{\"name\":\"esm_constants\",\"kind\":\"Any\",\"default\":{\"type\":\"map\"}}]},{\"type\":\"model\",\"name\":\"FastWrapper1\",\"properties\":[{\"name\":\"object\",\"kind\":\"Any\",\"default\":null},{\"name\":\"style\",\"kind\":\"Any\",\"default\":null}]},{\"type\":\"model\",\"name\":\"NotificationArea1\",\"properties\":[{\"name\":\"js_events\",\"kind\":\"Any\",\"default\":{\"type\":\"map\"}},{\"name\":\"max_notifications\",\"kind\":\"Any\",\"default\":5},{\"name\":\"notifications\",\"kind\":\"Any\",\"default\":[]},{\"name\":\"position\",\"kind\":\"Any\",\"default\":\"bottom-right\"},{\"name\":\"_clear\",\"kind\":\"Any\",\"default\":0},{\"name\":\"types\",\"kind\":\"Any\",\"default\":[{\"type\":\"map\",\"entries\":[[\"type\",\"warning\"],[\"background\",\"#ffc107\"],[\"icon\",{\"type\":\"map\",\"entries\":[[\"className\",\"fas fa-exclamation-triangle\"],[\"tagName\",\"i\"],[\"color\",\"white\"]]}]]},{\"type\":\"map\",\"entries\":[[\"type\",\"info\"],[\"background\",\"#007bff\"],[\"icon\",{\"type\":\"map\",\"entries\":[[\"className\",\"fas fa-info-circle\"],[\"tagName\",\"i\"],[\"color\",\"white\"]]}]]}]}]},{\"type\":\"model\",\"name\":\"Notification\",\"properties\":[{\"name\":\"background\",\"kind\":\"Any\",\"default\":null},{\"name\":\"duration\",\"kind\":\"Any\",\"default\":3000},{\"name\":\"icon\",\"kind\":\"Any\",\"default\":null},{\"name\":\"message\",\"kind\":\"Any\",\"default\":\"\"},{\"name\":\"notification_type\",\"kind\":\"Any\",\"default\":null},{\"name\":\"_rendered\",\"kind\":\"Any\",\"default\":false},{\"name\":\"_destroyed\",\"kind\":\"Any\",\"default\":false}]},{\"type\":\"model\",\"name\":\"TemplateActions1\",\"properties\":[{\"name\":\"open_modal\",\"kind\":\"Any\",\"default\":0},{\"name\":\"close_modal\",\"kind\":\"Any\",\"default\":0}]},{\"type\":\"model\",\"name\":\"BootstrapTemplateActions1\",\"properties\":[{\"name\":\"open_modal\",\"kind\":\"Any\",\"default\":0},{\"name\":\"close_modal\",\"kind\":\"Any\",\"default\":0}]},{\"type\":\"model\",\"name\":\"TemplateEditor1\",\"properties\":[{\"name\":\"layout\",\"kind\":\"Any\",\"default\":[]}]},{\"type\":\"model\",\"name\":\"MaterialTemplateActions1\",\"properties\":[{\"name\":\"open_modal\",\"kind\":\"Any\",\"default\":0},{\"name\":\"close_modal\",\"kind\":\"Any\",\"default\":0}]},{\"type\":\"model\",\"name\":\"request_value1\",\"properties\":[{\"name\":\"fill\",\"kind\":\"Any\",\"default\":\"none\"},{\"name\":\"_synced\",\"kind\":\"Any\",\"default\":null},{\"name\":\"_request_sync\",\"kind\":\"Any\",\"default\":0}]}]}};\n",
       "  var render_items = [{\"docid\":\"2907cdcb-0817-4d2a-abd1-a4a8dcf95b0e\",\"roots\":{\"b29f5987-eea8-4195-b59b-717bdc8bada1\":\"e4de167e-26ce-458a-a04f-c3b57f9de1c0\"},\"root_ids\":[\"b29f5987-eea8-4195-b59b-717bdc8bada1\"]}];\n",
       "  var docs = Object.values(docs_json)\n",
       "  if (!docs) {\n",
       "    return\n",
       "  }\n",
       "  const py_version = docs[0].version.replace('rc', '-rc.').replace('.dev', '-dev.')\n",
       "  async function embed_document(root) {\n",
       "    var Bokeh = get_bokeh(root)\n",
       "    await Bokeh.embed.embed_items_notebook(docs_json, render_items);\n",
       "    for (const render_item of render_items) {\n",
       "      for (const root_id of render_item.root_ids) {\n",
       "\tconst id_el = document.getElementById(root_id)\n",
       "\tif (id_el.children.length && id_el.children[0].hasAttribute('data-root-id')) {\n",
       "\t  const root_el = id_el.children[0]\n",
       "\t  root_el.id = root_el.id + '-rendered'\n",
       "\t  for (const child of root_el.children) {\n",
       "            // Ensure JupyterLab does not capture keyboard shortcuts\n",
       "            // see: https://jupyterlab.readthedocs.io/en/4.1.x/extension/notebook.html#keyboard-interaction-model\n",
       "\t    child.setAttribute('data-lm-suppress-shortcuts', 'true')\n",
       "\t  }\n",
       "\t}\n",
       "      }\n",
       "    }\n",
       "  }\n",
       "  function get_bokeh(root) {\n",
       "    if (root.Bokeh === undefined) {\n",
       "      return null\n",
       "    } else if (root.Bokeh.version !== py_version) {\n",
       "      if (root.Bokeh.versions === undefined || !root.Bokeh.versions.has(py_version)) {\n",
       "\treturn null\n",
       "      }\n",
       "      return root.Bokeh.versions.get(py_version);\n",
       "    } else if (root.Bokeh.version === py_version) {\n",
       "      return root.Bokeh\n",
       "    }\n",
       "    return null\n",
       "  }\n",
       "  function is_loaded(root) {\n",
       "    var Bokeh = get_bokeh(root)\n",
       "    return (Bokeh != null && Bokeh.Panel !== undefined)\n",
       "  }\n",
       "  if (is_loaded(root)) {\n",
       "    embed_document(root);\n",
       "  } else {\n",
       "    var attempts = 0;\n",
       "    var timer = setInterval(function(root) {\n",
       "      if (is_loaded(root)) {\n",
       "        clearInterval(timer);\n",
       "        embed_document(root);\n",
       "      } else if (document.readyState == \"complete\") {\n",
       "        attempts++;\n",
       "        if (attempts > 200) {\n",
       "          clearInterval(timer);\n",
       "\t  var Bokeh = get_bokeh(root)\n",
       "\t  if (Bokeh == null || Bokeh.Panel == null) {\n",
       "            console.warn(\"Panel: ERROR: Unable to run Panel code because Bokeh or Panel library is missing\");\n",
       "\t  } else {\n",
       "\t    console.warn(\"Panel: WARNING: Attempting to render but not all required libraries could be resolved.\")\n",
       "\t    embed_document(root)\n",
       "\t  }\n",
       "        }\n",
       "      }\n",
       "    }, 25, root)\n",
       "  }\n",
       "})(window);</script>"
      ]
     },
     "metadata": {
      "application/vnd.holoviews_exec.v0+json": {
       "id": "b29f5987-eea8-4195-b59b-717bdc8bada1"
      }
     },
     "output_type": "display_data"
    }
   ],
   "source": [
    "import pygasflow\n",
    "from pygasflow.solvers import *\n",
    "from pygasflow.shockwave import PressureDeflectionLocus\n",
    "from pygasflow.interactive import PressureDeflectionDiagram\n",
    "import pint\n",
    "import numpy as np\n",
    "\n",
    "ureg = pint.UnitRegistry()\n",
    "# use \"~P\" to format units with unicode\n",
    "ureg.formatter.default_format = \"~\"\n",
    "# let pygasflow knows which UnitRegistry to use\n",
    "pygasflow.defaults.pint_ureg = ureg\n",
    "# dictionary results offers improved code readability\n",
    "pygasflow.defaults.solver_to_dict = True\n",
    "\n",
    "# shorcuts for conveniance\n",
    "kg = ureg.kg\n",
    "K = ureg.K\n",
    "degR = ureg.degR\n",
    "degC = ureg.degC\n",
    "J = ureg.J\n",
    "m = ureg.m\n",
    "atm = ureg.atm\n",
    "Pa = ureg.pascal\n",
    "sec = ureg.s\n",
    "deg = ureg.deg\n",
    "ft = ureg.feet\n",
    "lb = ureg.lb\n",
    "lbf = ureg.lbf\n",
    "Q_ = ureg.Quantity\n",
    "\n",
    "gamma = 1.4\n",
    "R = 287.05 * J / (kg * K)"
   ]
  },
  {
   "cell_type": "markdown",
   "id": "504515b8-bd2f-4efb-9aaa-00fd1bc0880d",
   "metadata": {},
   "source": [
    "## P 4.1"
   ]
  },
  {
   "cell_type": "code",
   "execution_count": 2,
   "id": "f6ab91f6-cb22-4675-b9fd-261912a71049",
   "metadata": {},
   "outputs": [],
   "source": [
    "beta = 35\n",
    "p1 = 2000 * lbf / ft**2\n",
    "T1 = Q_(520, degR)\n",
    "V1 = 3355 * ft / sec"
   ]
  },
  {
   "cell_type": "code",
   "execution_count": 3,
   "id": "a43d4c34-687a-4df3-825c-ced4fe445b86",
   "metadata": {},
   "outputs": [
    {
     "data": {
      "text/html": [
       "1117.8750161615742 ft/s"
      ],
      "text/latex": [
       "$1117.8750161615742\\ \\frac{\\mathrm{ft}}{\\mathrm{s}}$"
      ],
      "text/plain": [
       "<Quantity(1117.87502, 'foot / second')>"
      ]
     },
     "execution_count": 3,
     "metadata": {},
     "output_type": "execute_result"
    }
   ],
   "source": [
    "a1 = np.sqrt(gamma * R * T1).to(\"feet / sec\")\n",
    "a1"
   ]
  },
  {
   "cell_type": "code",
   "execution_count": 4,
   "id": "c928cd02-8003-4b28-9f31-61195516cdb5",
   "metadata": {},
   "outputs": [
    {
     "data": {
      "text/html": [
       "3.0012299689101187"
      ],
      "text/latex": [
       "$3.0012299689101187$"
      ],
      "text/plain": [
       "<Quantity(3.00122997, 'dimensionless')>"
      ]
     },
     "execution_count": 4,
     "metadata": {},
     "output_type": "execute_result"
    }
   ],
   "source": [
    "M1 = V1 / a1\n",
    "M1"
   ]
  },
  {
   "cell_type": "code",
   "execution_count": 5,
   "id": "a41d2585-9b5a-4a05-9c59-c658ff4a3803",
   "metadata": {},
   "outputs": [
    {
     "name": "stdout",
     "output_type": "stream",
     "text": [
      "key     quantity     \n",
      "---------------------\n",
      "mu      Mu                3.00122997\n",
      "mnu     Mnu               1.72143479\n",
      "md      Md                2.12235516\n",
      "mnd     Mnd               0.63509251\n",
      "beta    beta [deg]       35.00000000\n",
      "theta   theta [deg]      17.58806818\n",
      "pr      pd/pu             3.29056069\n",
      "dr      rhod/rhou         2.23273544\n",
      "tr      Td/Tu             1.47377993\n",
      "tpr     p0d/p0u           0.84675091\n"
     ]
    }
   ],
   "source": [
    "res = oblique_shockwave_solver(\"mu\", M1, \"beta\", beta, gamma=gamma)\n",
    "res.show()"
   ]
  },
  {
   "cell_type": "code",
   "execution_count": 6,
   "id": "7a57a0d7-d3e5-47f8-8785-9b42ff1cee97",
   "metadata": {},
   "outputs": [
    {
     "name": "stdout",
     "output_type": "stream",
     "text": [
      "M2 = 2.122355155390347\n",
      "T2 = 766.3655650131336 °R\n",
      "p2 = 6581.121386426136 lbf / ft ** 2\n",
      "V2 = 2880.2330533718173 ft / s\n"
     ]
    }
   ],
   "source": [
    "M2 = res[\"md\"]\n",
    "T2 = res[\"tr\"] * T1\n",
    "p2 = res[\"pr\"] * p1\n",
    "a2 = np.sqrt(gamma * R * T2).to(\"feet / sec\")\n",
    "V2 = M2 * a2\n",
    "print(\"M2 =\", M2)\n",
    "print(\"T2 =\", T2)\n",
    "print(\"p2 =\", p2)\n",
    "print(\"V2 =\", V2)"
   ]
  },
  {
   "cell_type": "markdown",
   "id": "f13cbdcf-d9d1-4fbb-b103-1e0b757bf0c6",
   "metadata": {},
   "source": [
    "## P 4.2"
   ]
  },
  {
   "cell_type": "code",
   "execution_count": 7,
   "id": "7f8b690b-e6a3-4208-a04c-db9df6df4a1d",
   "metadata": {},
   "outputs": [],
   "source": [
    "M1 = 2\n",
    "theta = 10"
   ]
  },
  {
   "cell_type": "code",
   "execution_count": 8,
   "id": "1a502daa-a006-4f17-ad5f-cc91b19c8c79",
   "metadata": {},
   "outputs": [
    {
     "name": "stdout",
     "output_type": "stream",
     "text": [
      "key     quantity     \n",
      "---------------------\n",
      "mu      Mu                2.00000000\n",
      "mnu     Mnu               1.26713804\n",
      "md      Md                1.64052223\n",
      "mnd     Mnd               0.80319064\n",
      "beta    beta             39.31393184\n",
      "theta   theta            10.00000000\n",
      "pr      pd/pu             1.70657860\n",
      "dr      rhod/rhou         1.45842561\n",
      "tr      Td/Tu             1.17015128\n",
      "tpr     p0d/p0u           0.98464402\n"
     ]
    }
   ],
   "source": [
    "res = shockwave_solver(\"mu\", M1, \"theta\", theta, gamma=gamma)\n",
    "res.show()"
   ]
  },
  {
   "cell_type": "code",
   "execution_count": 9,
   "id": "a6de847d-641a-46c8-b080-cac045b7e85a",
   "metadata": {},
   "outputs": [
    {
     "data": {
      "text/plain": [
       "np.float64(0.9846440225034325)"
      ]
     },
     "execution_count": 9,
     "metadata": {},
     "output_type": "execute_result"
    }
   ],
   "source": [
    "P02_P01 = res[\"tpr\"]\n",
    "P02_P01"
   ]
  },
  {
   "cell_type": "markdown",
   "id": "a0d39fc3-e97f-4672-9bb8-1c9bfed0d826",
   "metadata": {},
   "source": [
    "## P 4.3"
   ]
  },
  {
   "cell_type": "code",
   "execution_count": 10,
   "id": "3842750d-d63d-4c30-a88a-898a074a3edf",
   "metadata": {},
   "outputs": [],
   "source": [
    "M1 = 3\n",
    "p1 = 1 * atm"
   ]
  },
  {
   "cell_type": "code",
   "execution_count": 11,
   "id": "3cda03cb-e6b6-4688-a9a9-6038110ff9db",
   "metadata": {},
   "outputs": [
    {
     "data": {
      "text/plain": [
       "np.float64(34.0734397756058)"
      ]
     },
     "execution_count": 11,
     "metadata": {},
     "output_type": "execute_result"
    }
   ],
   "source": [
    "from pygasflow.shockwave import detachment_point_oblique_shock\n",
    "beta, theta_max = detachment_point_oblique_shock(M1, gamma)\n",
    "theta_max"
   ]
  },
  {
   "cell_type": "code",
   "execution_count": 12,
   "id": "508468a2-cf8d-4029-aa22-71df1da27215",
   "metadata": {},
   "outputs": [
    {
     "data": {
      "text/plain": [
       "np.float64(65.2408429247936)"
      ]
     },
     "execution_count": 12,
     "metadata": {},
     "output_type": "execute_result"
    }
   ],
   "source": [
    "beta"
   ]
  },
  {
   "cell_type": "code",
   "execution_count": 13,
   "id": "609fbfa9-a3ea-4762-8be1-b1fe2a017f49",
   "metadata": {},
   "outputs": [
    {
     "name": "stdout",
     "output_type": "stream",
     "text": [
      "key     quantity     \n",
      "---------------------\n",
      "mu      Mu                3.00000000\n",
      "mnu     Mnu               2.72422875\n",
      "md      Md                0.95404661\n",
      "mnd     Mnd               0.49375756\n",
      "beta    beta             65.24084292\n",
      "theta   theta            34.07343978\n",
      "pr      pd/pu             8.49165936\n",
      "dr      rhod/rhou         3.58481764\n",
      "tr      Td/Tu             2.36878419\n",
      "tpr     p0d/p0u           0.41510057\n"
     ]
    }
   ],
   "source": [
    "res = shockwave_solver(\"mu\", M1, \"beta\", beta, gamma=gamma)\n",
    "res.show()"
   ]
  },
  {
   "cell_type": "code",
   "execution_count": 14,
   "id": "223b02cd-7912-4a6b-b9b7-b3c096939c20",
   "metadata": {},
   "outputs": [
    {
     "data": {
      "text/html": [
       "8.49165935917197 atm"
      ],
      "text/latex": [
       "$8.49165935917197\\ \\mathrm{atm}$"
      ],
      "text/plain": [
       "<Quantity(8.49165936, 'standard_atmosphere')>"
      ]
     },
     "execution_count": 14,
     "metadata": {},
     "output_type": "execute_result"
    }
   ],
   "source": [
    "p2_p1 = res[\"pr\"]\n",
    "p2 = p2_p1 * p1\n",
    "p2"
   ]
  },
  {
   "cell_type": "markdown",
   "id": "a2e2d3ad-59e5-42d4-9cd5-0c719169f006",
   "metadata": {},
   "source": [
    "## P 4.4"
   ]
  },
  {
   "cell_type": "code",
   "execution_count": 15,
   "id": "b4d63dd5-bc27-47fb-8958-9adb0d7f01c1",
   "metadata": {},
   "outputs": [],
   "source": [
    "M1 = 3.5\n",
    "p1 = 1 * atm\n",
    "p2 = 5.48 * atm"
   ]
  },
  {
   "cell_type": "code",
   "execution_count": 16,
   "id": "455d4e15-7b5e-4cd3-b16e-d40a6d4e094a",
   "metadata": {},
   "outputs": [
    {
     "name": "stdout",
     "output_type": "stream",
     "text": [
      "key     quantity     \n",
      "---------------------\n",
      "mu      Mu                2.20000000\n",
      "md      Md                0.54705582\n",
      "pr      pd/pu             5.48000000\n",
      "dr      rhod/rhou         2.95121951\n",
      "tr      Td/Tu             1.85685950\n",
      "tpr     p0d/p0u           0.62813631\n"
     ]
    }
   ],
   "source": [
    "res_normal = normal_shockwave_solver(\"pressure\", p2 / p1, gamma=gamma)\n",
    "res_normal.show()"
   ]
  },
  {
   "cell_type": "code",
   "execution_count": 17,
   "id": "0be97875-5f72-4771-ac73-a3e97b463004",
   "metadata": {},
   "outputs": [
    {
     "data": {
      "text/plain": [
       "np.float64(2.2)"
      ]
     },
     "execution_count": 17,
     "metadata": {},
     "output_type": "execute_result"
    }
   ],
   "source": [
    "Mn1 = res_normal[\"mu\"]\n",
    "Mn1"
   ]
  },
  {
   "cell_type": "code",
   "execution_count": 18,
   "id": "81df5e6a-0ce5-4c4e-abf3-7a5f4c9d0db0",
   "metadata": {},
   "outputs": [
    {
     "name": "stdout",
     "output_type": "stream",
     "text": [
      "key     quantity     \n",
      "---------------------\n",
      "mu      Mu                3.50000000\n",
      "mnu     Mnu               2.20000000\n",
      "md      Md                2.07120229\n",
      "mnd     Mnd               0.54705582\n",
      "beta    beta             38.94480359\n",
      "theta   theta            23.62985080\n",
      "pr      pd/pu             5.48000000\n",
      "dr      rhod/rhou         2.95121951\n",
      "tr      Td/Tu             1.85685950\n",
      "tpr     p0d/p0u           0.62813631\n"
     ]
    }
   ],
   "source": [
    "res = shockwave_solver(\"mu\", M1, \"mnu\", Mn1, gamma=gamma)\n",
    "res.show()"
   ]
  },
  {
   "cell_type": "code",
   "execution_count": 19,
   "id": "1220e61f-23e0-4c62-b630-da12b206197c",
   "metadata": {},
   "outputs": [
    {
     "data": {
      "text/plain": [
       "np.float64(38.94480359409562)"
      ]
     },
     "execution_count": 19,
     "metadata": {},
     "output_type": "execute_result"
    }
   ],
   "source": [
    "beta = res[\"beta\"]\n",
    "beta"
   ]
  },
  {
   "cell_type": "code",
   "execution_count": 20,
   "id": "2211286e-9e45-4ef5-8166-6739583b210c",
   "metadata": {},
   "outputs": [
    {
     "data": {
      "text/plain": [
       "np.float64(23.62985080421891)"
      ]
     },
     "execution_count": 20,
     "metadata": {},
     "output_type": "execute_result"
    }
   ],
   "source": [
    "theta = res[\"theta\"]\n",
    "theta"
   ]
  },
  {
   "cell_type": "markdown",
   "id": "183edaa8-119f-44c3-aae7-66d9f245e293",
   "metadata": {},
   "source": [
    "## P 4.5"
   ]
  },
  {
   "cell_type": "code",
   "execution_count": 21,
   "id": "608765b7-adf7-4b75-9cd5-0f10d70e37b8",
   "metadata": {},
   "outputs": [],
   "source": [
    "M1 = 3\n",
    "theta = 20\n",
    "p1 = 2116 * lbf / ft**2\n",
    "T1 = Q_(519, degR)"
   ]
  },
  {
   "cell_type": "code",
   "execution_count": 22,
   "id": "8919f7e2-bc36-4039-aeca-bf1a9a4b0e40",
   "metadata": {},
   "outputs": [
    {
     "name": "stdout",
     "output_type": "stream",
     "text": [
      "key     quantity     \n",
      "---------------------\n",
      "mu      Mu                3.00000000\n",
      "mnu     Mnu               1.83721625\n",
      "md      Md                1.99413167\n",
      "mnd     Mnd               0.60839147\n",
      "beta    beta             37.76363415\n",
      "theta   theta            20.00000000\n",
      "pr      pd/pu             3.77125746\n",
      "dr      rhod/rhou         2.41806593\n",
      "tr      Td/Tu             1.55961730\n",
      "tpr     p0d/p0u           0.79601825\n"
     ]
    }
   ],
   "source": [
    "res = shockwave_solver(\"mu\", M1, \"theta\", theta, gamma=gamma)\n",
    "res.show()"
   ]
  },
  {
   "cell_type": "code",
   "execution_count": 23,
   "id": "160b3777-8120-4d74-8c29-c0a4bea1ecc7",
   "metadata": {},
   "outputs": [],
   "source": [
    "p2 = res[\"pr\"] * p1\n",
    "T2 = res[\"tr\"] * T1\n",
    "beta = res[\"beta\"]\n",
    "M2 = res[\"md\"]"
   ]
  },
  {
   "cell_type": "code",
   "execution_count": 24,
   "id": "2f15d983-a6dd-4a7b-9bdc-478ae598ffec",
   "metadata": {},
   "outputs": [
    {
     "data": {
      "text/plain": [
       "np.float64(37.76363414837576)"
      ]
     },
     "execution_count": 24,
     "metadata": {},
     "output_type": "execute_result"
    }
   ],
   "source": [
    "beta"
   ]
  },
  {
   "cell_type": "code",
   "execution_count": 25,
   "id": "199ecbdf-ccd6-45bb-bc43-26d1bf3a8e87",
   "metadata": {},
   "outputs": [
    {
     "data": {
      "text/html": [
       "809.441379540978 °R"
      ],
      "text/latex": [
       "$809.441379540978\\ \\mathrm{°R}$"
      ],
      "text/plain": [
       "<Quantity(809.44138, 'degree_Rankine')>"
      ]
     },
     "execution_count": 25,
     "metadata": {},
     "output_type": "execute_result"
    }
   ],
   "source": [
    "T2"
   ]
  },
  {
   "cell_type": "code",
   "execution_count": 26,
   "id": "00c46c62-497d-4955-a53f-469930bc2829",
   "metadata": {},
   "outputs": [
    {
     "data": {
      "text/html": [
       "7979.980791882904 lbf/ft<sup>2</sup>"
      ],
      "text/latex": [
       "$7979.980791882904\\ \\frac{\\mathrm{lbf}}{\\mathrm{ft}^{2}}$"
      ],
      "text/plain": [
       "<Quantity(7979.98079, 'force_pound / foot ** 2')>"
      ]
     },
     "execution_count": 26,
     "metadata": {},
     "output_type": "execute_result"
    }
   ],
   "source": [
    "p2"
   ]
  },
  {
   "cell_type": "code",
   "execution_count": 27,
   "id": "c0ae603c-0081-41c5-bd3b-83b92a8a0cfb",
   "metadata": {},
   "outputs": [
    {
     "data": {
      "text/plain": [
       "np.float64(1.9941316655645605)"
      ]
     },
     "execution_count": 27,
     "metadata": {},
     "output_type": "execute_result"
    }
   ],
   "source": [
    "M2"
   ]
  },
  {
   "cell_type": "markdown",
   "id": "dabd7289-4055-42d5-9631-bc4373b7aee7",
   "metadata": {},
   "source": [
    "## P 4.6"
   ]
  },
  {
   "cell_type": "markdown",
   "id": "b5970f28-b130-4cc5-8ac4-7fdb051c9fac",
   "metadata": {},
   "source": [
    "![Figure 4.18 from book](data:image/png;base64,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)"
   ]
  },
  {
   "cell_type": "markdown",
   "id": "41456f58-a111-45d7-a192-fc67eee8b114",
   "metadata": {},
   "source": [
    "Figure 4.18 of \"Modern Compressible Flow with Historical Perspective\", Third Edition, John D. Anderson."
   ]
  },
  {
   "cell_type": "code",
   "execution_count": 28,
   "id": "191ba107-3433-4cd0-b521-0f46d17e813a",
   "metadata": {},
   "outputs": [],
   "source": [
    "M1 = 3.6\n",
    "theta1 = 20"
   ]
  },
  {
   "cell_type": "code",
   "execution_count": 29,
   "id": "b366f5f5-86a8-45e0-bc71-f233d7359cd8",
   "metadata": {},
   "outputs": [
    {
     "name": "stdout",
     "output_type": "stream",
     "text": [
      "key     quantity     \n",
      "---------------------\n",
      "mu      Mu                3.60000000\n",
      "mnu     Mnu               2.01882925\n",
      "md      Md                2.35520083\n",
      "mnd     Mnd               0.57416754\n",
      "beta    beta             34.11016555\n",
      "theta   theta            20.00000000\n",
      "pr      pd/pu             4.58828345\n",
      "tr      rhod/rhou         1.70285858\n",
      "dr      Td/Tu             2.69445948\n",
      "tpr     p0d/p0u           0.71207412\n"
     ]
    }
   ],
   "source": [
    "l1 = PressureDeflectionLocus(M=M1, gamma=gamma, label=\"1\")\n",
    "shock1 = l1.shockwave_at_theta(theta1)\n",
    "shock1.show()"
   ]
  },
  {
   "cell_type": "code",
   "execution_count": 30,
   "id": "96927fd3-8987-4e96-86be-2998c68782e4",
   "metadata": {},
   "outputs": [
    {
     "name": "stdout",
     "output_type": "stream",
     "text": [
      "key     quantity     \n",
      "---------------------\n",
      "mu      Mu                2.35520083\n",
      "mnu     Mnu               1.66692918\n",
      "md      Md                1.53331885\n",
      "mnd     Mnd               0.64930284\n",
      "beta    beta             45.05337524\n",
      "theta   theta           -20.00000000\n",
      "pr      pd/pu            14.10940762\n",
      "tr      rhod/rhou         2.44318284\n",
      "dr      Td/Tu             5.77501095\n",
      "tpr     p0d/p0u           0.61896044\n"
     ]
    }
   ],
   "source": [
    "l2 = l1.new_locus_from_shockwave(theta1, label=\"2\")\n",
    "theta3 = 0\n",
    "shock2 = l2.shockwave_at_theta(theta3)\n",
    "shock2.show()"
   ]
  },
  {
   "cell_type": "code",
   "execution_count": 31,
   "id": "9ccbbe9e-16de-4e81-bfbd-6476df50bebe",
   "metadata": {},
   "outputs": [
    {
     "name": "stdout",
     "output_type": "stream",
     "text": [
      "Angle of the reflected shock relative to the straight wall:\n",
      "\tphi = 25.053375237345655\n"
     ]
    }
   ],
   "source": [
    "beta2 = shock2[\"beta\"]\n",
    "theta2 = shock2[\"theta\"]\n",
    "p3_p1 = shock2[\"pr\"]\n",
    "phi = beta2 - theta1\n",
    "print(\"Angle of the reflected shock relative to the straight wall:\")\n",
    "print(\"\\tphi =\", phi)"
   ]
  },
  {
   "cell_type": "code",
   "execution_count": 32,
   "id": "5603a592-f149-420d-8b47-427a5fe62b4b",
   "metadata": {},
   "outputs": [
    {
     "data": {
      "text/html": [
       "\n",
       "  <div id=\"ad8807ae-987b-4f45-8e40-ad6f8edbad50\" data-root-id=\"ccda8a9c-2688-461f-b6bf-b7147938de12\" style=\"display: contents;\"></div>\n"
      ]
     },
     "metadata": {},
     "output_type": "display_data"
    },
    {
     "data": {
      "application/javascript": [
       "(function(root) {\n",
       "  function embed_document(root) {\n",
       "  const docs_json = {\"62e3acf8-28c7-4525-9f12-53dc805c86df\":{\"version\":\"3.8.0\",\"title\":\"Bokeh Application\",\"config\":{\"type\":\"object\",\"name\":\"DocumentConfig\",\"id\":\"0ce6348c-f475-466d-be96-b274f2bf8887\",\"attributes\":{\"notifications\":{\"type\":\"object\",\"name\":\"Notifications\",\"id\":\"a3ac01f9-cbe7-4b14-bad1-912c5cfd061b\"}}},\"roots\":[{\"type\":\"object\",\"name\":\"Figure\",\"id\":\"ccda8a9c-2688-461f-b6bf-b7147938de12\",\"attributes\":{\"height\":400,\"x_range\":{\"type\":\"object\",\"name\":\"Range1d\",\"id\":\"8372edfa-9544-4e57-ab6a-337d32f753c4\",\"attributes\":{\"start\":-40,\"end\":40}},\"y_range\":{\"type\":\"object\",\"name\":\"Range1d\",\"id\":\"bb5f058b-b870-40e3-9c0e-b3c18da4738c\",\"attributes\":{\"end\":16}},\"x_scale\":{\"type\":\"object\",\"name\":\"LinearScale\",\"id\":\"fe3a6732-ab21-469a-8388-257ea8562ca7\"},\"y_scale\":{\"type\":\"object\",\"name\":\"LinearScale\",\"id\":\"fd9d234c-24d3-4afb-88bc-ca9f8e5e7383\"},\"title\":{\"type\":\"object\",\"name\":\"Title\",\"id\":\"a7d0f5aa-b154-4859-8b35-918fb1914422\"},\"renderers\":[{\"type\":\"object\",\"name\":\"GlyphRenderer\",\"id\":\"4c14f9fd-073b-4bfd-a8e8-73081524d5d8\",\"attributes\":{\"js_property_callbacks\":{\"type\":\"map\",\"entries\":[[\"change:visible\",[{\"type\":\"object\",\"name\":\"CustomJS\",\"id\":\"f1502a4d-ffb2-4ae2-9b33-e5c58c91a21b\",\"attributes\":{\"args\":{\"type\":\"map\",\"entries\":[[\"primary_line\",{\"id\":\"4c14f9fd-073b-4bfd-a8e8-73081524d5d8\"}],[\"label\",{\"type\":\"object\",\"name\":\"Label\",\"id\":\"3157fe35-687f-4b50-961b-fcdc11adf082\",\"attributes\":{\"text\":\"1\",\"text_align\":\"center\",\"text_baseline\":\"middle\",\"x\":0,\"y\":1,\"y_offset\":15}}],[\"circle_rend\",{\"type\":\"object\",\"name\":\"GlyphRenderer\",\"id\":\"ab280518-89df-4868-aa0f-72ea995f5561\",\"attributes\":{\"data_source\":{\"type\":\"object\",\"name\":\"ColumnDataSource\",\"id\":\"a5356250-5328-437f-a725-b4b658f3b834\",\"attributes\":{\"selected\":{\"type\":\"object\",\"name\":\"Selection\",\"id\":\"3558c77a-ce23-4613-a4e1-23f75989c1dd\",\"attributes\":{\"indices\":[],\"line_indices\":[]}},\"selection_policy\":{\"type\":\"object\",\"name\":\"UnionRenderers\",\"id\":\"73df3051-0c55-4965-a650-0d8b5e2ef4ea\"},\"data\":{\"type\":\"map\"}}},\"view\":{\"type\":\"object\",\"name\":\"CDSView\",\"id\":\"0461cdad-c863-4d4d-8943-b67f66d875c0\",\"attributes\":{\"filter\":{\"type\":\"object\",\"name\":\"AllIndices\",\"id\":\"7f509356-51d6-48b0-9740-d12735e20dc9\"}}},\"glyph\":{\"type\":\"object\",\"name\":\"Circle\",\"id\":\"4d6d7a18-06a8-4867-872b-da8cc13d88fd\",\"attributes\":{\"x\":{\"type\":\"value\",\"value\":0},\"y\":{\"type\":\"value\",\"value\":1},\"radius\":{\"type\":\"value\",\"value\":4,\"units\":\"screen\"},\"line_color\":{\"type\":\"value\",\"value\":\"#000000\"},\"fill_color\":{\"type\":\"value\",\"value\":\"#000000\"}}}}}]]},\"code\":\"\\n                label.visible = primary_line.visible;\\n                circle_rend.visible = primary_line.visible;\\n                \"}}]]]},\"data_source\":{\"type\":\"object\",\"name\":\"ColumnDataSource\",\"id\":\"c11b72e1-f41e-41f6-9eb9-ad052448c992\",\"attributes\":{\"selected\":{\"type\":\"object\",\"name\":\"Selection\",\"id\":\"80db6ce8-75b2-498d-9ca9-3a6d6d577e19\",\"attributes\":{\"indices\":[],\"line_indices\":[]}},\"selection_policy\":{\"type\":\"object\",\"name\":\"UnionRenderers\",\"id\":\"5a1ad359-d54c-4df4-a2d8-e22881265764\"},\"data\":{\"type\":\"map\",\"entries\":[[\"x\",{\"type\":\"ndarray\",\"array\":{\"type\":\"bytes\",\"data\":\"H4sIAAEAAAAC/12Ve0zXZRjFmUNU1CR1Gl4zLfHKTNFEpOf3ZjmbIeHIeVkqCLYoZxpORyxCQ2eKppAagnglt7QEZLo0j9cBatlEmjgNr2za8lYmltq7dY5t/f45+333/b7v8z7POZ83KOjfX7e61InJC0OtT2mL09cSw+3g2YgHZf2es2a16dFxkb1tT4v5U+rRz/6c1WnvZ9cjbVOPwOajdYOs8HFls175g61d9YNfoyKirGtt87YL1gy1HzcETnW+NswWPzgYEdxxuAUt3D+otn+0HcosvN3YZ4RNjLpTXhwWY0cKW96ouhRjZ28H5Y3eNNJO1jSOORQfa1u6f/3bvpuxNvF+VNO1WS/bpAEXp77exKxJ8YXLabFmv46dfjkq3axi0d26HiVmueUxHxXVmLW5NHdz2COzMV2Ch9X0DFjesYS7Ma8FbGBeWq81KQFb0jBgXER2wJJ2zzkeuT5gGXuy4hvKAhabEpK+sCpgUUm7ew45H7DE9tlNn78ZsI61cy5lPg7YjOwzjUlPOcu+XpTwR2dnj97fFjw+wtmyDtMy1gx2drX/9tJzI51922HgrKGjne0YfyVt3zhnpTnNV2VNcLb205DwvLed/TX5q10hKc7SbtSXXHvXWd+4j5sEZjtrPfrp4h7p/rvqIW+uXuBsxMNVtzZkOpv209758Z846/Jd8DM7Fjk7UQC3f7GzgmfLDi9e6tcf3vd42+XOerfZ/XfyCmftLm7JyPrc2SvLPrj33mpnWfc67RqQ7+zn1KLcY184++FQXviItc6KT7RalrvO/z9eWnv4S2dLMhNLzhf49w/Wzrqw3lnzyPzUykJnNasm5RcWOSsfVXd66gZf59iqU2HFXmeua1/qNSn6l+BXNzqrejGtodprxb3OV0dt8v3YPrtVudd5FfXjwzc7y3njUUG61+DJ7+yq8vp7zMq4Dlucde8/oesUr/XXc/YUeI17GLHjjNfK5AMZoVudJSyfvi7aa0HjgdmpXt+qDkvO9ZoR31BZ6nXG3Pt3TnuN3nqy7x2vK2/PLGu9zdk3K2qqXvAa4sq3jvR6ZWfFggSvoUdCP0zx+lK3o9/P81ozYWRWjtelrZPP5XlNTWx5a6NXO7ozPKLkP9VzvafvtI7W1T7aV3WoLtWpunUOnUvn1LnVB/VFfVLf1Ef1VX1W3zUHzUVz0tw0R81Vc9bc5QP5Qj6Rb574iL6Sz+Q7+VC+lE/lW/lYvpbP5XvlQLlQTpQb5Ui5Us6UO+VQuVROlVvlWLlWzpV7cUBcECfEDXFEXBFnxB1xSFwSp8QtcUxcE+fEPXFQXBQnxU1xVFwVZ8VdcVhcFqfFbXFcXBfnxX3dA7oXdE8E/e/H5+B74HfgOuC64D7gvmAdYF1gnWDd4DnAc4HnBM8N9gHsC9gnsG9gH8G+gn0G+w7OAZwLOCdwbuAcwbmCcwbnDvoA9AXoE9A3oI9AX4E+A30H+hD0JehT0Legj0Ffgz4HfQ/mAMwFmBMwN2COwFyBOQNzB+YQzCWYUzC3YI7BXIM5B3MPcgDkAsgJkBsgR0CugJwBuQNyCOQSyCmQWyDHQK6BnAO5B3IQ5CLISZCbIEdBroKcBbkLchjkMshpkNsgx0Gug5wHuQ/eA+C9AN4T4L3xRPVc7+k7raN1tY/2VR2qS3Wqbp1D59I5dW71QX1Rn9Q39VF9VZ/Vd81Bc9GcNDfNUXPVnDV3+UC+kE/kmyc+oq/kM/lOPpQv5VP5Vj6Wr+Vz+V45UC6UE+VGOVKulDPlTjlULpVT5VY5Vq6Vc+VeHBAXxAlxQxwRV8QZcUccEpfEKXFLHBPXxDlxTxwUF8VJcVMcFVfFWXFXHBaXxWlxWxwX18V5cV/3gO4F3RO6N/4Bfb4184AMAAA=\"},\"shape\":[400],\"dtype\":\"float64\",\"order\":\"little\"}],[\"y\",{\"type\":\"ndarray\",\"array\":{\"type\":\"bytes\",\"data\":\"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\"},\"shape\":[400],\"dtype\":\"float64\",\"order\":\"little\"}]]}}},\"view\":{\"type\":\"object\",\"name\":\"CDSView\",\"id\":\"2525154b-09f4-4f87-8eaa-c24d2c367361\",\"attributes\":{\"filter\":{\"type\":\"object\",\"name\":\"AllIndices\",\"id\":\"8485ac06-bf45-4102-a8f3-68e5a1f45c29\"}}},\"glyph\":{\"type\":\"object\",\"name\":\"Line\",\"id\":\"d5804255-5bd1-4f02-b2ce-9578ac2330b0\",\"attributes\":{\"x\":{\"type\":\"field\",\"field\":\"x\"},\"y\":{\"type\":\"field\",\"field\":\"y\"},\"line_color\":\"#1f77b4\",\"line_width\":2,\"line_dash\":[2,4]}},\"nonselection_glyph\":{\"type\":\"object\",\"name\":\"Line\",\"id\":\"f155ffa1-1bae-4b4d-a337-9779798b7639\",\"attributes\":{\"x\":{\"type\":\"field\",\"field\":\"x\"},\"y\":{\"type\":\"field\",\"field\":\"y\"},\"line_color\":\"#1f77b4\",\"line_alpha\":0.1,\"line_width\":2,\"line_dash\":[2,4]}},\"muted_glyph\":{\"type\":\"object\",\"name\":\"Line\",\"id\":\"414d6575-eb96-4dbd-8bcc-b23f62e9062b\",\"attributes\":{\"x\":{\"type\":\"field\",\"field\":\"x\"},\"y\":{\"type\":\"field\",\"field\":\"y\"},\"line_color\":\"#1f77b4\",\"line_alpha\":0.2,\"line_width\":2,\"line_dash\":[2,4]}}}},{\"id\":\"ab280518-89df-4868-aa0f-72ea995f5561\"},{\"type\":\"object\",\"name\":\"GlyphRenderer\",\"id\":\"4300e278-2549-497d-bc34-4d35f186c0f3\",\"attributes\":{\"js_property_callbacks\":{\"type\":\"map\",\"entries\":[[\"change:visible\",[{\"type\":\"object\",\"name\":\"CustomJS\",\"id\":\"50e63206-029a-4364-a8b7-ba7dc6c1716b\",\"attributes\":{\"args\":{\"type\":\"map\",\"entries\":[[\"primary_line\",{\"id\":\"4300e278-2549-497d-bc34-4d35f186c0f3\"}],[\"label\",{\"type\":\"object\",\"name\":\"Label\",\"id\":\"60307022-345d-46ab-bb94-790bbf11879a\",\"attributes\":{\"text\":\"2\",\"text_align\":\"center\",\"text_baseline\":\"middle\",\"x\":20,\"y\":4.588283453251716,\"y_offset\":15}}],[\"circle_rend\",{\"type\":\"object\",\"name\":\"GlyphRenderer\",\"id\":\"453bc08f-109e-4263-a20c-5f8711458558\",\"attributes\":{\"data_source\":{\"type\":\"object\",\"name\":\"ColumnDataSource\",\"id\":\"17bc5ad0-21d0-49b3-80bf-deef9ea30e8f\",\"attributes\":{\"selected\":{\"type\":\"object\",\"name\":\"Selection\",\"id\":\"73bfbd0a-c86e-4947-abd2-800d43981f45\",\"attributes\":{\"indices\":[],\"line_indices\":[]}},\"selection_policy\":{\"type\":\"object\",\"name\":\"UnionRenderers\",\"id\":\"7c962f51-4739-4b17-bd8a-a4d0efb915a4\"},\"data\":{\"type\":\"map\"}}},\"view\":{\"type\":\"object\",\"name\":\"CDSView\",\"id\":\"058c7ff8-5bbd-423f-9e00-27ac412bbf0e\",\"attributes\":{\"filter\":{\"type\":\"object\",\"name\":\"AllIndices\",\"id\":\"fba83334-f4a5-4ecc-93aa-b28eb2e1c2a2\"}}},\"glyph\":{\"type\":\"object\",\"name\":\"Circle\",\"id\":\"1486f9eb-3bf7-4189-b876-738de93c35f1\",\"attributes\":{\"x\":{\"type\":\"value\",\"value\":20},\"y\":{\"type\":\"value\",\"value\":4.588283453251716},\"radius\":{\"type\":\"value\",\"value\":4,\"units\":\"screen\"},\"line_color\":{\"type\":\"value\",\"value\":\"#000000\"},\"fill_color\":{\"type\":\"value\",\"value\":\"#000000\"}}}}}]]},\"code\":\"\\n                label.visible = primary_line.visible;\\n                circle_rend.visible = primary_line.visible;\\n                \"}}]]]},\"data_source\":{\"type\":\"object\",\"name\":\"ColumnDataSource\",\"id\":\"375488e2-adca-4fc6-b12e-66113a4e8425\",\"attributes\":{\"selected\":{\"type\":\"object\",\"name\":\"Selection\",\"id\":\"a1f8660a-6e4b-41f0-91ab-825d6b543013\",\"attributes\":{\"indices\":[],\"line_indices\":[]}},\"selection_policy\":{\"type\":\"object\",\"name\":\"UnionRenderers\",\"id\":\"d3c9f5be-9b85-430f-b80c-be63f64ad5eb\"},\"data\":{\"type\":\"map\",\"entries\":[[\"x\",{\"type\":\"ndarray\",\"array\":{\"type\":\"bytes\",\"data\":\"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\"},\"shape\":[400],\"dtype\":\"float64\",\"order\":\"little\"}],[\"y\",{\"type\":\"ndarray\",\"array\":{\"type\":\"bytes\",\"data\":\"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\"},\"shape\":[400],\"dtype\":\"float64\",\"order\":\"little\"}]]}}},\"view\":{\"type\":\"object\",\"name\":\"CDSView\",\"id\":\"aaaa86db-f231-48ee-84f9-9ec837200767\",\"attributes\":{\"filter\":{\"type\":\"object\",\"name\":\"AllIndices\",\"id\":\"9adfda56-1102-4516-a951-dfd227f59236\"}}},\"glyph\":{\"type\":\"object\",\"name\":\"Line\",\"id\":\"50e688df-3f45-4e4c-856e-1233596f5c47\",\"attributes\":{\"x\":{\"type\":\"field\",\"field\":\"x\"},\"y\":{\"type\":\"field\",\"field\":\"y\"},\"line_color\":\"#ff7f0e\",\"line_width\":2,\"line_dash\":[2,4]}},\"nonselection_glyph\":{\"type\":\"object\",\"name\":\"Line\",\"id\":\"55f701ad-53f8-4f09-b30a-4d495ccb5fae\",\"attributes\":{\"x\":{\"type\":\"field\",\"field\":\"x\"},\"y\":{\"type\":\"field\",\"field\":\"y\"},\"line_color\":\"#ff7f0e\",\"line_alpha\":0.1,\"line_width\":2,\"line_dash\":[2,4]}},\"muted_glyph\":{\"type\":\"object\",\"name\":\"Line\",\"id\":\"1bf62731-de4a-4184-a39c-a3130b804b5a\",\"attributes\":{\"x\":{\"type\":\"field\",\"field\":\"x\"},\"y\":{\"type\":\"field\",\"field\":\"y\"},\"line_color\":\"#ff7f0e\",\"line_alpha\":0.2,\"line_width\":2,\"line_dash\":[2,4]}}}},{\"id\":\"453bc08f-109e-4263-a20c-5f8711458558\"},{\"type\":\"object\",\"name\":\"GlyphRenderer\",\"id\":\"51a68aa8-3a1b-4de2-b7db-039d242cb5a6\",\"attributes\":{\"data_source\":{\"type\":\"object\",\"name\":\"ColumnDataSource\",\"id\":\"5812c65a-a854-4920-8e66-10a9185aa45a\",\"attributes\":{\"selected\":{\"type\":\"object\",\"name\":\"Selection\",\"id\":\"472285c3-f067-4b1f-ad1b-a9f79cb00e41\",\"attributes\":{\"indices\":[],\"line_indices\":[]}},\"selection_policy\":{\"type\":\"object\",\"name\":\"UnionRenderers\",\"id\":\"f6d34a7a-1939-4449-b29f-fb41fe6050d9\"},\"data\":{\"type\":\"map\",\"entries\":[[\"x\",{\"type\":\"ndarray\",\"array\":{\"type\":\"bytes\",\"data\":\"H4sIAAEAAAAC/z2VfUgUURTFt8LaPkwzzdXW3F3X1XV1d2Y3IlDcAxIIaUj/FIEk0odEYIYEQZhRCBFEJYEgRQRCGCEEokQQgSFGBEkUEoQhRGGFIIUVQjNvzmlYGHbmvfvu/d17zvh83mV3n2x+9WEm693nsscHW/fMHVvg/6/ZiyN4dDS+xOfL2f2Xjjw7eO8X3//OFrf3vtlXvMp1PpwNTvcEp9fAW78Ohze9/XN7bQ68fevRuDJ/Oa/RD2//RkQ/f99y9fxmeHFyYZaPb4UXLx9m+Uo+427D4iF3RQHjb8fH1zeGJjKFPKcIThAnUhHP24Gpp3fCdncxzw1gIuOeWMLzS/Bw1L1KmcdO3A27b4LMpww3h9wdZcxrF67kuZHKmV8I9U2dTgoh5hnCeJ/7Isx8w0g++XL/WjLCvCN48DORc2o1wvwrEDGJVLCOKIZPP56JDUdZTyWKzIZK1lWJ6wt7nV+M9cXgL7+w9HxDFeusgnn8ror1VuOvk3XfSDXrjqPXBIqz/jh+OFXXN9WQQw0MlYIEeSTwyS1rPkEutTDhx2rJpw4GS18dOdXBrWqwNUleSbgUeoIpckvBpda2mCI/CyZMu0WOFkoLls8NTFnkaeH9WKFDwCZXGwbboE2+NtoMWJuc08h1y+lMk3caL2Mu0TS5pzFgQGXIPwNz7FCGfcjAU8Xu/3c91zrtUxzF1Tk6V3mkmJfyVN6qQ3WpTtUtDg3kIk7iJo7iKs7ifoB9UF/UpwD7pj6qr+qz+t7FORjlXGhONDeao0nOleZMc6c5fMG51JxqbjXHs5xrzbnmXjqQLqQT6UY6kq5S1Jl0Jx1Klw3UqXQrHUvXt6jzAHUvH5AvjNIn0vSNSfqIfEU+00LfmaUPyZfkUyfoW9/oY/I1+Vw/fc9PHwzQF6vpkxZ9E/TRZvqqfLaLvnuGPtxPXw7Rpy36dht9vIO+3k+fB32/g98B8Lvg43eCnw3fP7urkOtABgAA\"},\"shape\":[200],\"dtype\":\"float64\",\"order\":\"little\"}],[\"y\",{\"type\":\"ndarray\",\"array\":{\"type\":\"bytes\",\"data\":\"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\"},\"shape\":[200],\"dtype\":\"float64\",\"order\":\"little\"}]]}}},\"view\":{\"type\":\"object\",\"name\":\"CDSView\",\"id\":\"5ce94ea1-e325-422d-9784-b3af8f665620\",\"attributes\":{\"filter\":{\"type\":\"object\",\"name\":\"AllIndices\",\"id\":\"df95a7a4-59ca-44bf-9de3-885994845743\"}}},\"glyph\":{\"type\":\"object\",\"name\":\"Line\",\"id\":\"fe0a1d86-d4e8-47b5-9c9f-40147ea2fcb8\",\"attributes\":{\"x\":{\"type\":\"field\",\"field\":\"x\"},\"y\":{\"type\":\"field\",\"field\":\"y\"},\"line_color\":\"#2ca02c\",\"line_width\":2}},\"nonselection_glyph\":{\"type\":\"object\",\"name\":\"Line\",\"id\":\"b8f5a5bd-b412-4d68-8fdb-7eb221c32d0e\",\"attributes\":{\"x\":{\"type\":\"field\",\"field\":\"x\"},\"y\":{\"type\":\"field\",\"field\":\"y\"},\"line_color\":\"#2ca02c\",\"line_alpha\":0.1,\"line_width\":2}},\"muted_glyph\":{\"type\":\"object\",\"name\":\"Line\",\"id\":\"f3bd499b-7bbc-40a8-a512-29ae846de2e5\",\"attributes\":{\"x\":{\"type\":\"field\",\"field\":\"x\"},\"y\":{\"type\":\"field\",\"field\":\"y\"},\"line_color\":\"#2ca02c\",\"line_alpha\":0.2,\"line_width\":2}}}},{\"type\":\"object\",\"name\":\"GlyphRenderer\",\"id\":\"ba9fae93-4652-4e4c-96cb-36974413fb61\",\"attributes\":{\"data_source\":{\"type\":\"object\",\"name\":\"ColumnDataSource\",\"id\":\"50f9681b-0016-4e7a-b6f5-eeeb2767a33b\",\"attributes\":{\"selected\":{\"type\":\"object\",\"name\":\"Selection\",\"id\":\"4f2228ee-92f4-490a-8249-1aad872d2541\",\"attributes\":{\"indices\":[],\"line_indices\":[]}},\"selection_policy\":{\"type\":\"object\",\"name\":\"UnionRenderers\",\"id\":\"96ed7139-95ea-4f6d-8e78-2d2cdcc9c821\"},\"data\":{\"type\":\"map\"}}},\"view\":{\"type\":\"object\",\"name\":\"CDSView\",\"id\":\"257b31e6-39a3-412a-8715-59eff7c1e3e0\",\"attributes\":{\"filter\":{\"type\":\"object\",\"name\":\"AllIndices\",\"id\":\"163073ef-c401-4608-8153-d5c13c5d3708\"}}},\"glyph\":{\"type\":\"object\",\"name\":\"Circle\",\"id\":\"ff034f0b-fefa-468b-8278-bb3eacfb4ce4\",\"attributes\":{\"x\":{\"type\":\"value\",\"value\":0},\"y\":{\"type\":\"value\",\"value\":14.109407622704042},\"radius\":{\"type\":\"value\",\"value\":4,\"units\":\"screen\"},\"line_color\":{\"type\":\"value\",\"value\":\"#000000\"},\"fill_color\":{\"type\":\"value\",\"value\":\"#000000\"}}}}}],\"toolbar\":{\"type\":\"object\",\"name\":\"Toolbar\",\"id\":\"f21a6ef5-a64f-4176-a66e-0138eaa09285\",\"attributes\":{\"tools\":[{\"type\":\"object\",\"name\":\"PanTool\",\"id\":\"8b4e8bb7-8c70-4819-9926-9dd128127ca6\"},{\"type\":\"object\",\"name\":\"WheelZoomTool\",\"id\":\"7c68ef5e-a9ad-4f76-9f1a-7a7a02b183d3\",\"attributes\":{\"renderers\":\"auto\"}},{\"type\":\"object\",\"name\":\"BoxZoomTool\",\"id\":\"bbc21985-7ecc-4c9c-aec3-0b31c580b5e9\",\"attributes\":{\"dimensions\":\"both\",\"overlay\":{\"type\":\"object\",\"name\":\"BoxAnnotation\",\"id\":\"72f678b3-6a27-4dc8-9ec7-3978b962bc38\",\"attributes\":{\"syncable\":false,\"line_color\":\"black\",\"line_alpha\":1.0,\"line_width\":2,\"line_dash\":[4,4],\"fill_color\":\"lightgrey\",\"fill_alpha\":0.5,\"level\":\"overlay\",\"visible\":false,\"left\":{\"type\":\"number\",\"value\":\"nan\"},\"right\":{\"type\":\"number\",\"value\":\"nan\"},\"top\":{\"type\":\"number\",\"value\":\"nan\"},\"bottom\":{\"type\":\"number\",\"value\":\"nan\"},\"left_units\":\"canvas\",\"right_units\":\"canvas\",\"top_units\":\"canvas\",\"bottom_units\":\"canvas\",\"handles\":{\"type\":\"object\",\"name\":\"BoxInteractionHandles\",\"id\":\"0997a4d6-6e93-40b2-99ea-986eae0e91b0\",\"attributes\":{\"all\":{\"type\":\"object\",\"name\":\"AreaVisuals\",\"id\":\"c383dd8f-6ec1-4745-9f67-4c5faaa6e1cd\",\"attributes\":{\"fill_color\":\"white\",\"hover_fill_color\":\"lightgray\"}}}}}}}},{\"type\":\"object\",\"name\":\"SaveTool\",\"id\":\"35ea2aad-1fa7-4b3b-8a53-1568db6c681d\"},{\"type\":\"object\",\"name\":\"ResetTool\",\"id\":\"ef4252df-3708-455d-816b-54b82ac9f0cb\"},{\"type\":\"object\",\"name\":\"HelpTool\",\"id\":\"1cc45841-a180-47a2-b744-653e2004ddf3\"}]}},\"left\":[{\"type\":\"object\",\"name\":\"LinearAxis\",\"id\":\"40c206ce-8e6f-4adb-bed9-12630cdd7147\",\"attributes\":{\"ticker\":{\"type\":\"object\",\"name\":\"BasicTicker\",\"id\":\"85a78e45-b1f3-400b-8614-da82b4c51a44\",\"attributes\":{\"mantissas\":[1,2,5]}},\"formatter\":{\"type\":\"object\",\"name\":\"BasicTickFormatter\",\"id\":\"9de2c9da-3f16-4f14-a75f-8e4d25aac366\"},\"axis_label\":\"Pressure Ratio to Freestream\",\"major_label_policy\":{\"type\":\"object\",\"name\":\"AllLabels\",\"id\":\"7f0198dc-11ed-4984-869b-5c83ba2af744\"}}}],\"right\":[{\"type\":\"object\",\"name\":\"Legend\",\"id\":\"e6f5345e-24d0-4f2f-9d7f-638e997ee481\",\"attributes\":{\"ncols\":1,\"click_policy\":\"hide\",\"items\":[{\"type\":\"object\",\"name\":\"LegendItem\",\"id\":\"e23d6aff-6595-49c6-9a99-3d65daa60070\",\"attributes\":{\"label\":{\"type\":\"value\",\"value\":\"M1\"},\"renderers\":[{\"id\":\"4c14f9fd-073b-4bfd-a8e8-73081524d5d8\"}]}},{\"type\":\"object\",\"name\":\"LegendItem\",\"id\":\"f5c9a5a4-ccea-440f-86ef-2f221a9ee9f1\",\"attributes\":{\"label\":{\"type\":\"value\",\"value\":\"M2\"},\"renderers\":[{\"id\":\"4300e278-2549-497d-bc34-4d35f186c0f3\"}]}}]}}],\"below\":[{\"type\":\"object\",\"name\":\"LinearAxis\",\"id\":\"0273fce4-29e9-4433-b2b5-ee205073cb70\",\"attributes\":{\"ticker\":{\"type\":\"object\",\"name\":\"BasicTicker\",\"id\":\"c471f6ab-2f47-4b03-92fb-1d539a44d429\",\"attributes\":{\"mantissas\":[1,2,5]}},\"formatter\":{\"type\":\"object\",\"name\":\"BasicTickFormatter\",\"id\":\"4bed3926-5c84-4904-9025-eef1ab9d4fde\"},\"axis_label\":\"Deflection angle, \\u03b8 [deg]\",\"major_label_policy\":{\"type\":\"object\",\"name\":\"AllLabels\",\"id\":\"11305304-624b-4281-9d3a-4c0e24968a6e\"}}}],\"center\":[{\"type\":\"object\",\"name\":\"Grid\",\"id\":\"d9dda1c0-258a-4a4c-b51d-b89827d8b180\",\"attributes\":{\"axis\":{\"id\":\"0273fce4-29e9-4433-b2b5-ee205073cb70\"},\"minor_grid_line_color\":\"#e5e5e5\",\"minor_grid_line_alpha\":0.75,\"minor_grid_line_dash\":[2,2]}},{\"type\":\"object\",\"name\":\"Grid\",\"id\":\"f4987270-afe1-4633-8b5c-5e0f3fe27b50\",\"attributes\":{\"dimension\":1,\"axis\":{\"id\":\"40c206ce-8e6f-4adb-bed9-12630cdd7147\"},\"minor_grid_line_color\":\"#e5e5e5\",\"minor_grid_line_alpha\":0.75,\"minor_grid_line_dash\":[2,2]}},{\"type\":\"object\",\"name\":\"Legend\",\"id\":\"9ca28516-a988-4b47-bacf-fabf77610f49\",\"attributes\":{\"visible\":false,\"items\":[]}},{\"id\":\"3157fe35-687f-4b50-961b-fcdc11adf082\"},{\"id\":\"60307022-345d-46ab-bb94-790bbf11879a\"},{\"type\":\"object\",\"name\":\"Arrow\",\"id\":\"a11e8563-c072-4a84-8761-5f2495d90079\",\"attributes\":{\"source\":{\"type\":\"object\",\"name\":\"ColumnDataSource\",\"id\":\"964692b4-2c0b-44a8-80de-9fd719c73942\",\"attributes\":{\"selected\":{\"type\":\"object\",\"name\":\"Selection\",\"id\":\"7363abb6-807e-4dd1-9610-f67d6787b81e\",\"attributes\":{\"indices\":[],\"line_indices\":[]}},\"selection_policy\":{\"type\":\"object\",\"name\":\"UnionRenderers\",\"id\":\"64f1d834-485c-47f5-9701-066d8ea205b1\"},\"data\":{\"type\":\"map\",\"entries\":[[\"x_start\",{\"type\":\"ndarray\",\"array\":{\"type\":\"bytes\",\"data\":\"H4sIAAEAAAAC/1u9CgSkHFaDaS2HdzydldbOWg5G+ekeZ25LOgAAVL7K6iAAAAA=\"},\"shape\":[4],\"dtype\":\"float64\",\"order\":\"little\"}],[\"x_end\",{\"type\":\"ndarray\",\"array\":{\"type\":\"bytes\",\"data\":\"H4sIAAEAAAAC/8vwOHNbUkjaobPS2jnpnpaDgN2PB838Wg6lF13FY0skHQCoHgzBIAAAAA==\"},\"shape\":[4],\"dtype\":\"float64\",\"order\":\"little\"}],[\"y_start\",{\"type\":\"ndarray\",\"array\":{\"type\":\"bytes\",\"data\":\"H4sIAAEAAAAC/wtb/Onkleo/9ko+E0S2r2R34PhVNvPKbWkHDivVibsNVBwAcn+XaCAAAAA=\"},\"shape\":[4],\"dtype\":\"float64\",\"order\":\"little\"}],[\"y_end\",{\"type\":\"ndarray\",\"array\":{\"type\":\"bytes\",\"data\":\"H4sIAAEAAAAC/zPgV2vV2vHHnodR0ifwKrvDlHyJ8tusMg5bRY/U7/dRcQAAMfTlNiAAAAA=\"},\"shape\":[4],\"dtype\":\"float64\",\"order\":\"little\"}]]}}},\"end\":{\"type\":\"object\",\"name\":\"VeeHead\",\"id\":\"b28459d3-4c18-4fe6-b49c-70d5a62e5af4\",\"attributes\":{\"size\":{\"type\":\"value\",\"value\":10},\"line_color\":{\"type\":\"value\",\"value\":\"#2ca02c\"},\"fill_color\":{\"type\":\"value\",\"value\":\"#2ca02c\"}}},\"line_color\":{\"type\":\"value\",\"value\":\"#2ca02c\"}}},{\"type\":\"object\",\"name\":\"Label\",\"id\":\"4d7a8310-bf0d-489f-aa21-ea4a244f2e90\",\"attributes\":{\"text\":\"3\",\"text_align\":\"center\",\"text_baseline\":\"middle\",\"x\":0,\"y\":14.109407622704042,\"y_offset\":15}}]}}],\"defs\":[{\"type\":\"model\",\"name\":\"ReactiveHTML1\"},{\"type\":\"model\",\"name\":\"FlexBox1\",\"properties\":[{\"name\":\"align_content\",\"kind\":\"Any\",\"default\":\"flex-start\"},{\"name\":\"align_items\",\"kind\":\"Any\",\"default\":\"flex-start\"},{\"name\":\"flex_direction\",\"kind\":\"Any\",\"default\":\"row\"},{\"name\":\"flex_wrap\",\"kind\":\"Any\",\"default\":\"wrap\"},{\"name\":\"gap\",\"kind\":\"Any\",\"default\":\"\"},{\"name\":\"justify_content\",\"kind\":\"Any\",\"default\":\"flex-start\"}]},{\"type\":\"model\",\"name\":\"FloatPanel1\",\"properties\":[{\"name\":\"config\",\"kind\":\"Any\",\"default\":{\"type\":\"map\"}},{\"name\":\"contained\",\"kind\":\"Any\",\"default\":true},{\"name\":\"position\",\"kind\":\"Any\",\"default\":\"right-top\"},{\"name\":\"offsetx\",\"kind\":\"Any\",\"default\":null},{\"name\":\"offsety\",\"kind\":\"Any\",\"default\":null},{\"name\":\"theme\",\"kind\":\"Any\",\"default\":\"primary\"},{\"name\":\"status\",\"kind\":\"Any\",\"default\":\"normalized\"}]},{\"type\":\"model\",\"name\":\"GridStack1\",\"properties\":[{\"name\":\"ncols\",\"kind\":\"Any\",\"default\":null},{\"name\":\"nrows\",\"kind\":\"Any\",\"default\":null},{\"name\":\"allow_resize\",\"kind\":\"Any\",\"default\":true},{\"name\":\"allow_drag\",\"kind\":\"Any\",\"default\":true},{\"name\":\"state\",\"kind\":\"Any\",\"default\":[]}]},{\"type\":\"model\",\"name\":\"drag1\",\"properties\":[{\"name\":\"slider_width\",\"kind\":\"Any\",\"default\":5},{\"name\":\"slider_color\",\"kind\":\"Any\",\"default\":\"black\"},{\"name\":\"start\",\"kind\":\"Any\",\"default\":0},{\"name\":\"end\",\"kind\":\"Any\",\"default\":100},{\"name\":\"value\",\"kind\":\"Any\",\"default\":50}]},{\"type\":\"model\",\"name\":\"click1\",\"properties\":[{\"name\":\"terminal_output\",\"kind\":\"Any\",\"default\":\"\"},{\"name\":\"debug_name\",\"kind\":\"Any\",\"default\":\"\"},{\"name\":\"clears\",\"kind\":\"Any\",\"default\":0}]},{\"type\":\"model\",\"name\":\"ReactiveESM1\",\"properties\":[{\"name\":\"esm_constants\",\"kind\":\"Any\",\"default\":{\"type\":\"map\"}}]},{\"type\":\"model\",\"name\":\"JSComponent1\",\"properties\":[{\"name\":\"esm_constants\",\"kind\":\"Any\",\"default\":{\"type\":\"map\"}}]},{\"type\":\"model\",\"name\":\"ReactComponent1\",\"properties\":[{\"name\":\"use_shadow_dom\",\"kind\":\"Any\",\"default\":true},{\"name\":\"esm_constants\",\"kind\":\"Any\",\"default\":{\"type\":\"map\"}}]},{\"type\":\"model\",\"name\":\"AnyWidgetComponent1\",\"properties\":[{\"name\":\"use_shadow_dom\",\"kind\":\"Any\",\"default\":true},{\"name\":\"esm_constants\",\"kind\":\"Any\",\"default\":{\"type\":\"map\"}}]},{\"type\":\"model\",\"name\":\"FastWrapper1\",\"properties\":[{\"name\":\"object\",\"kind\":\"Any\",\"default\":null},{\"name\":\"style\",\"kind\":\"Any\",\"default\":null}]},{\"type\":\"model\",\"name\":\"NotificationArea1\",\"properties\":[{\"name\":\"js_events\",\"kind\":\"Any\",\"default\":{\"type\":\"map\"}},{\"name\":\"max_notifications\",\"kind\":\"Any\",\"default\":5},{\"name\":\"notifications\",\"kind\":\"Any\",\"default\":[]},{\"name\":\"position\",\"kind\":\"Any\",\"default\":\"bottom-right\"},{\"name\":\"_clear\",\"kind\":\"Any\",\"default\":0},{\"name\":\"types\",\"kind\":\"Any\",\"default\":[{\"type\":\"map\",\"entries\":[[\"type\",\"warning\"],[\"background\",\"#ffc107\"],[\"icon\",{\"type\":\"map\",\"entries\":[[\"className\",\"fas fa-exclamation-triangle\"],[\"tagName\",\"i\"],[\"color\",\"white\"]]}]]},{\"type\":\"map\",\"entries\":[[\"type\",\"info\"],[\"background\",\"#007bff\"],[\"icon\",{\"type\":\"map\",\"entries\":[[\"className\",\"fas fa-info-circle\"],[\"tagName\",\"i\"],[\"color\",\"white\"]]}]]}]}]},{\"type\":\"model\",\"name\":\"Notification\",\"properties\":[{\"name\":\"background\",\"kind\":\"Any\",\"default\":null},{\"name\":\"duration\",\"kind\":\"Any\",\"default\":3000},{\"name\":\"icon\",\"kind\":\"Any\",\"default\":null},{\"name\":\"message\",\"kind\":\"Any\",\"default\":\"\"},{\"name\":\"notification_type\",\"kind\":\"Any\",\"default\":null},{\"name\":\"_rendered\",\"kind\":\"Any\",\"default\":false},{\"name\":\"_destroyed\",\"kind\":\"Any\",\"default\":false}]},{\"type\":\"model\",\"name\":\"TemplateActions1\",\"properties\":[{\"name\":\"open_modal\",\"kind\":\"Any\",\"default\":0},{\"name\":\"close_modal\",\"kind\":\"Any\",\"default\":0}]},{\"type\":\"model\",\"name\":\"BootstrapTemplateActions1\",\"properties\":[{\"name\":\"open_modal\",\"kind\":\"Any\",\"default\":0},{\"name\":\"close_modal\",\"kind\":\"Any\",\"default\":0}]},{\"type\":\"model\",\"name\":\"TemplateEditor1\",\"properties\":[{\"name\":\"layout\",\"kind\":\"Any\",\"default\":[]}]},{\"type\":\"model\",\"name\":\"MaterialTemplateActions1\",\"properties\":[{\"name\":\"open_modal\",\"kind\":\"Any\",\"default\":0},{\"name\":\"close_modal\",\"kind\":\"Any\",\"default\":0}]},{\"type\":\"model\",\"name\":\"request_value1\",\"properties\":[{\"name\":\"fill\",\"kind\":\"Any\",\"default\":\"none\"},{\"name\":\"_synced\",\"kind\":\"Any\",\"default\":null},{\"name\":\"_request_sync\",\"kind\":\"Any\",\"default\":0}]}]}};\n",
       "  const render_items = [{\"docid\":\"62e3acf8-28c7-4525-9f12-53dc805c86df\",\"roots\":{\"ccda8a9c-2688-461f-b6bf-b7147938de12\":\"ad8807ae-987b-4f45-8e40-ad6f8edbad50\"},\"root_ids\":[\"ccda8a9c-2688-461f-b6bf-b7147938de12\"]}];\n",
       "  void root.Bokeh.embed.embed_items_notebook(docs_json, render_items);\n",
       "  }\n",
       "  if (root.Bokeh !== undefined) {\n",
       "    embed_document(root);\n",
       "  } else {\n",
       "    let attempts = 0;\n",
       "    const timer = setInterval(function(root) {\n",
       "      if (root.Bokeh !== undefined) {\n",
       "        clearInterval(timer);\n",
       "        embed_document(root);\n",
       "      } else {\n",
       "        attempts++;\n",
       "        if (attempts > 100) {\n",
       "          clearInterval(timer);\n",
       "          console.log(\"Bokeh: ERROR: Unable to run BokehJS code because BokehJS library is missing\");\n",
       "        }\n",
       "      }\n",
       "    }, 10, root)\n",
       "  }\n",
       "})(window);"
      ],
      "application/vnd.bokehjs_exec.v0+json": ""
     },
     "metadata": {
      "application/vnd.bokehjs_exec.v0+json": {
       "id": "ccda8a9c-2688-461f-b6bf-b7147938de12"
      }
     },
     "output_type": "display_data"
    }
   ],
   "source": [
    "# initialize the diagram\n",
    "d = PressureDeflectionDiagram()\n",
    "d.add_locus(l1)\n",
    "d.add_locus(l2)\n",
    "# add a path highlighting the flow direction\n",
    "l, arrows = d.add_path((l1, theta1), (l2, theta3))\n",
    "d.add_state(theta3, p3_p1, \"3\")\n",
    "# further customize the diagram\n",
    "d.move_legend_outside()\n",
    "d.y_range = (0, 16)\n",
    "d.x_range = (-40, 40)\n",
    "d.show_figure()"
   ]
  },
  {
   "cell_type": "markdown",
   "id": "856ffea1-4085-488b-b794-683ee25042d9",
   "metadata": {},
   "source": [
    "## P 4.7"
   ]
  },
  {
   "cell_type": "code",
   "execution_count": 33,
   "id": "1ba1cf0b-1700-494b-b934-e4cd5480cf7d",
   "metadata": {},
   "outputs": [],
   "source": [
    "beta = 30\n",
    "M1 = 2.8\n",
    "p1 = 1 * atm\n",
    "T1 = 300 * K"
   ]
  },
  {
   "cell_type": "markdown",
   "id": "7fd6e964-ffdb-41d4-a10d-33ca6cd784be",
   "metadata": {},
   "source": [
    "Consider again Figure 4.18 shown in **P 4.6**:"
   ]
  },
  {
   "cell_type": "code",
   "execution_count": 34,
   "id": "b2871445-e0c1-4bc6-8127-05de55ac63b1",
   "metadata": {},
   "outputs": [
    {
     "data": {
      "text/plain": [
       "np.float64(11.134851130136617)"
      ]
     },
     "execution_count": 34,
     "metadata": {},
     "output_type": "execute_result"
    }
   ],
   "source": [
    "from pygasflow.shockwave import theta_from_mach_beta\n",
    "theta1 = theta_from_mach_beta(M1, beta, gamma)\n",
    "theta1"
   ]
  },
  {
   "cell_type": "code",
   "execution_count": 35,
   "id": "99518753-7c36-46e8-845d-a197251c10ab",
   "metadata": {},
   "outputs": [
    {
     "name": "stdout",
     "output_type": "stream",
     "text": [
      "key     quantity     \n",
      "---------------------\n",
      "mu      Mu                2.80000000\n",
      "mnu     Mnu               1.40000000\n",
      "md      Md                2.28770013\n",
      "mnd     Mnd               0.73970927\n",
      "beta    beta             30.00000000\n",
      "theta   theta            11.13485113\n",
      "pr      pd/pu             2.12000000\n",
      "tr      rhod/rhou         1.25469388\n",
      "dr      Td/Tu             1.68965517\n",
      "tpr     p0d/p0u           0.95819441\n"
     ]
    }
   ],
   "source": [
    "l1 = PressureDeflectionLocus(M=M1, gamma=gamma, label=\"1\")\n",
    "shock1 = l1.shockwave_at_theta(theta1)\n",
    "shock1.show()"
   ]
  },
  {
   "cell_type": "code",
   "execution_count": 36,
   "id": "7cb6be08-7db4-4e96-891a-1f65bdd60d59",
   "metadata": {},
   "outputs": [
    {
     "name": "stdout",
     "output_type": "stream",
     "text": [
      "key     quantity     \n",
      "---------------------\n",
      "mu      Mu                2.28770013\n",
      "mnu     Mnu               1.33287598\n",
      "md      Md                1.85622676\n",
      "mnd     Mnd               0.76978466\n",
      "beta    beta             35.63552836\n",
      "theta   theta           -11.13485113\n",
      "pr      pd/pu             4.04068774\n",
      "tr      rhod/rhou         1.52032227\n",
      "dr      Td/Tu             2.65778369\n",
      "tpr     p0d/p0u           0.93256796\n"
     ]
    }
   ],
   "source": [
    "l2 = l1.new_locus_from_shockwave(theta1, label=\"2\")\n",
    "theta3 = 0\n",
    "shock2 = l2.shockwave_at_theta(theta3)\n",
    "shock2.show()"
   ]
  },
  {
   "cell_type": "code",
   "execution_count": 37,
   "id": "5253d2b9-0e72-4aee-a839-e27fc0b8720e",
   "metadata": {},
   "outputs": [
    {
     "name": "stdout",
     "output_type": "stream",
     "text": [
      "key     quantity     \n",
      "---------------------\n",
      "M       M                 1.85622676\n",
      "T       T [K]           456.09668068\n",
      "p       p [atm]           4.04068774\n",
      "rho     rho                      nan\n",
      "T0      T0 [K]          770.40000000\n",
      "p0      p0 [atm]         25.30830492\n",
      "rho0    rho0                     nan\n"
     ]
    }
   ],
   "source": [
    "# Flow quantities in region 3\n",
    "res = l2.flow_quantities_after_shockwave(0, p1, T1)\n",
    "res.show()"
   ]
  },
  {
   "cell_type": "markdown",
   "id": "b826a680-a400-4de0-b640-1cbf270da280",
   "metadata": {},
   "source": [
    "## P 4.8"
   ]
  },
  {
   "cell_type": "code",
   "execution_count": 38,
   "id": "bfa24c0e-8c48-4e09-b003-1177a14b872b",
   "metadata": {},
   "outputs": [],
   "source": [
    "M1 = 4\n",
    "p1 = 1 * atm"
   ]
  },
  {
   "cell_type": "code",
   "execution_count": 39,
   "id": "91fb50db-8074-4477-b6a3-f7acce684d97",
   "metadata": {},
   "outputs": [
    {
     "name": "stdout",
     "output_type": "stream",
     "text": [
      "key     quantity            \n",
      "----------------------------\n",
      "m       M                        4.00000000\n",
      "pr      P / P0                   0.00658609\n",
      "dr      rho / rho0               0.02766157\n",
      "tr      T / T0                   0.23809524\n",
      "prs     P / P*                   0.01246700\n",
      "drs     rho / rho*               0.04363449\n",
      "trs     T / T*                   0.28571429\n",
      "urs     U / U*                   2.13808994\n",
      "ars     A / A*                  10.71875000\n",
      "ma      Mach Angle              14.47751219\n",
      "pm      Prandtl-Meyer           65.78481980\n"
     ]
    }
   ],
   "source": [
    "res_ise = isentropic_solver(\"m\", M1)\n",
    "res_ise.show()"
   ]
  },
  {
   "cell_type": "code",
   "execution_count": 40,
   "id": "6f01d20c-db19-46f0-92bb-f7a35e9d8fca",
   "metadata": {},
   "outputs": [
    {
     "data": {
      "text/html": [
       "151.83521766968295 atm"
      ],
      "text/latex": [
       "$151.83521766968295\\ \\mathrm{atm}$"
      ],
      "text/plain": [
       "<Quantity(151.835218, 'standard_atmosphere')>"
      ]
     },
     "execution_count": 40,
     "metadata": {},
     "output_type": "execute_result"
    }
   ],
   "source": [
    "P01 = (1 / res_ise[\"pr\"]) * p1\n",
    "P01"
   ]
  },
  {
   "cell_type": "markdown",
   "id": "1e3d8672-e57c-45b1-9d09-ab3fe9e4ea46",
   "metadata": {},
   "source": [
    "### (a)"
   ]
  },
  {
   "cell_type": "code",
   "execution_count": 41,
   "id": "aed929a5-3cbf-4ffc-86c4-091ba9c9e127",
   "metadata": {},
   "outputs": [
    {
     "name": "stdout",
     "output_type": "stream",
     "text": [
      "key     quantity     \n",
      "---------------------\n",
      "mu      Mu                4.00000000\n",
      "md      Md                0.43495884\n",
      "pr      pd/pu            18.50000000\n",
      "dr      rhod/rhou         4.57142857\n",
      "tr      Td/Tu             4.04687500\n",
      "tpr     p0d/p0u           0.13875622\n"
     ]
    }
   ],
   "source": [
    "shock = normal_shockwave_solver(\"mu\", M1)\n",
    "shock.show()"
   ]
  },
  {
   "cell_type": "code",
   "execution_count": 42,
   "id": "f29fedc5-e24e-4a16-a609-b9544fee0cea",
   "metadata": {},
   "outputs": [
    {
     "data": {
      "text/plain": [
       "np.float64(0.43495883620084)"
      ]
     },
     "execution_count": 42,
     "metadata": {},
     "output_type": "execute_result"
    }
   ],
   "source": [
    "M2 = shock[\"md\"]\n",
    "M2"
   ]
  },
  {
   "cell_type": "code",
   "execution_count": 43,
   "id": "8f4640f9-a57d-4ba7-9418-ff4aa3ec4627",
   "metadata": {},
   "outputs": [
    {
     "data": {
      "text/html": [
       "21.068081002112113 atm"
      ],
      "text/latex": [
       "$21.068081002112113\\ \\mathrm{atm}$"
      ],
      "text/plain": [
       "<Quantity(21.068081, 'standard_atmosphere')>"
      ]
     },
     "execution_count": 43,
     "metadata": {},
     "output_type": "execute_result"
    }
   ],
   "source": [
    "P02 = shock[\"tpr\"] * P01\n",
    "P02"
   ]
  },
  {
   "cell_type": "markdown",
   "id": "d5195bc3-c1a9-4173-83c9-7d2e1ee97123",
   "metadata": {},
   "source": [
    "### (b)"
   ]
  },
  {
   "cell_type": "code",
   "execution_count": 44,
   "id": "97d5c73c-a119-42b7-85f5-281ef9ae04ce",
   "metadata": {},
   "outputs": [],
   "source": [
    "beta = 40"
   ]
  },
  {
   "cell_type": "code",
   "execution_count": 45,
   "id": "73904982-789a-47ff-a735-5a042bcb80b4",
   "metadata": {},
   "outputs": [
    {
     "name": "stdout",
     "output_type": "stream",
     "text": [
      "key     quantity     \n",
      "---------------------\n",
      "mu      Mu                4.00000000\n",
      "mnu     Mnu               2.57115044\n",
      "md      Md                2.12299743\n",
      "mnd     Mnd               0.50640589\n",
      "beta    beta             40.00000000\n",
      "theta   theta            26.20000079\n",
      "pr      pd/pu             7.54595034\n",
      "dr      rhod/rhou         3.41620196\n",
      "tr      Td/Tu             2.20887127\n",
      "tpr     p0d/p0u           0.47110479\n"
     ]
    }
   ],
   "source": [
    "shock1 = oblique_shockwave_solver(\"mu\", M1, \"beta\", beta)\n",
    "shock1.show()"
   ]
  },
  {
   "cell_type": "code",
   "execution_count": 46,
   "id": "1fe20d59-6e4b-4af3-9f78-a25b1b2f63c8",
   "metadata": {},
   "outputs": [
    {
     "name": "stdout",
     "output_type": "stream",
     "text": [
      "key     quantity     \n",
      "---------------------\n",
      "mu      Mu                2.12299743\n",
      "md      Md                0.55785338\n",
      "pr      pd/pu             5.09163778\n",
      "dr      rhod/rhou         2.84446962\n",
      "tr      Td/Tu             1.79001307\n",
      "tpr     p0d/p0u           0.66353036\n"
     ]
    }
   ],
   "source": [
    "shock2 = normal_shockwave_solver(\"mu\", shock1[\"md\"])\n",
    "shock2.show()"
   ]
  },
  {
   "cell_type": "code",
   "execution_count": 47,
   "id": "9e1ac744-5fc4-41e4-b848-b92928289952",
   "metadata": {},
   "outputs": [
    {
     "data": {
      "text/plain": [
       "np.float64(0.5578533802322064)"
      ]
     },
     "execution_count": 47,
     "metadata": {},
     "output_type": "execute_result"
    }
   ],
   "source": [
    "M3 = shock2[\"md\"]\n",
    "M3"
   ]
  },
  {
   "cell_type": "code",
   "execution_count": 48,
   "id": "ff764c1b-c235-4eb8-a7da-ab12d3ac30e9",
   "metadata": {},
   "outputs": [
    {
     "data": {
      "text/html": [
       "47.462524647026896 atm"
      ],
      "text/latex": [
       "$47.462524647026896\\ \\mathrm{atm}$"
      ],
      "text/plain": [
       "<Quantity(47.4625246, 'standard_atmosphere')>"
      ]
     },
     "execution_count": 48,
     "metadata": {},
     "output_type": "execute_result"
    }
   ],
   "source": [
    "P03 = shock1[\"tpr\"] * shock2[\"tpr\"] * P01\n",
    "P03"
   ]
  },
  {
   "cell_type": "markdown",
   "id": "4fab3130-0f9a-48d3-9a9c-1ca2c4ec8d66",
   "metadata": {},
   "source": [
    "## P 4.9"
   ]
  },
  {
   "cell_type": "markdown",
   "id": "740c5ea2-1421-46a9-a4e0-a922baa76b49",
   "metadata": {},
   "source": [
    "![Figure 4.23 from book](data:image/png;base64,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)"
   ]
  },
  {
   "cell_type": "markdown",
   "id": "d32d02e1-e820-4933-af75-add82d8c3139",
   "metadata": {},
   "source": [
    "Figure 4.23 of \"Modern Compressible Flow with Historical Perspective\", Third Edition, John D. Anderson."
   ]
  },
  {
   "cell_type": "code",
   "execution_count": 49,
   "id": "c3656b73-8fa0-4ac1-a641-f4bf084a39cb",
   "metadata": {},
   "outputs": [],
   "source": [
    "M1 = 3\n",
    "p1 = 1 * atm\n",
    "theta2 = 20\n",
    "theta3 = -15"
   ]
  },
  {
   "cell_type": "code",
   "execution_count": 50,
   "id": "cd47e6f8-ace7-4b07-ac1f-915b710111ce",
   "metadata": {},
   "outputs": [
    {
     "name": "stdout",
     "output_type": "stream",
     "text": [
      "Intersection between locus M2 and locus M3 happens at:\n",
      "Deflection Angle, Φ [deg]: 4.795958931693682\n",
      "Pressure ratio to freestream: 8.352551913417367\n",
      "\n",
      "From geometry:\n",
      "theta_4 [deg] = 19.795958931693683\n",
      "theta_4' [deg] = -15.204041068306317\n"
     ]
    }
   ],
   "source": [
    "l1 = PressureDeflectionLocus(M=M1, label=\"1\")\n",
    "l2 = l1.new_locus_from_shockwave(theta2, label=\"2\")\n",
    "l3 = l1.new_locus_from_shockwave(theta3, label=\"3\")\n",
    "\n",
    "phi, p4_p1 = l2.intersection(l3)\n",
    "theta4 = phi - l3.theta_origin\n",
    "theta4p = phi - l2.theta_origin\n",
    "print(\"Intersection between locus M2 and locus M3 happens at:\")\n",
    "print(\"Deflection Angle, Φ [deg]:\", phi)\n",
    "print(\"Pressure ratio to freestream:\", p4_p1)\n",
    "print()\n",
    "print(\"From geometry:\")\n",
    "print(\"theta_4 [deg] =\", theta4)\n",
    "print(\"theta_4' [deg] =\", theta4p)"
   ]
  },
  {
   "cell_type": "code",
   "execution_count": 51,
   "id": "dc6bf68c-d614-4a05-acd8-daef5b741f52",
   "metadata": {},
   "outputs": [
    {
     "data": {
      "text/html": [
       "8.352551913417367 atm"
      ],
      "text/latex": [
       "$8.352551913417367\\ \\mathrm{atm}$"
      ],
      "text/plain": [
       "<Quantity(8.35255191, 'standard_atmosphere')>"
      ]
     },
     "execution_count": 51,
     "metadata": {},
     "output_type": "execute_result"
    }
   ],
   "source": [
    "p4 = p4_p1 * p1\n",
    "p4"
   ]
  },
  {
   "cell_type": "code",
   "execution_count": 52,
   "id": "88c94757-e069-4deb-8703-71b2c5a43273",
   "metadata": {},
   "outputs": [
    {
     "data": {
      "text/html": [
       "\n",
       "  <div id=\"c354aafd-0341-48ff-998d-844561784d55\" data-root-id=\"8c93f8a8-d6bf-45f2-80f7-f2ec9d5ef259\" style=\"display: contents;\"></div>\n"
      ]
     },
     "metadata": {},
     "output_type": "display_data"
    },
    {
     "data": {
      "application/javascript": [
       "(function(root) {\n",
       "  function embed_document(root) {\n",
       "  const docs_json = {\"7f0f8ccd-e738-4140-ad55-be2e825546e9\":{\"version\":\"3.8.0\",\"title\":\"Bokeh Application\",\"config\":{\"type\":\"object\",\"name\":\"DocumentConfig\",\"id\":\"cf489bee-1d86-4a35-ade9-dbabb5cf6144\",\"attributes\":{\"notifications\":{\"type\":\"object\",\"name\":\"Notifications\",\"id\":\"f4290c2a-d6db-450d-b8d1-33baacbfc95a\"}}},\"roots\":[{\"type\":\"object\",\"name\":\"Figure\",\"id\":\"8c93f8a8-d6bf-45f2-80f7-f2ec9d5ef259\",\"attributes\":{\"height\":400,\"x_range\":{\"type\":\"object\",\"name\":\"DataRange1d\",\"id\":\"77d3924a-a90d-45ef-8836-79b9eb8815e3\"},\"y_range\":{\"type\":\"object\",\"name\":\"Range1d\",\"id\":\"9fc6cb6a-0678-4e5a-abc5-0cfc82d5e445\",\"attributes\":{\"end\":18}},\"x_scale\":{\"type\":\"object\",\"name\":\"LinearScale\",\"id\":\"f5c175f9-90ca-4315-8368-f144e84e41f0\"},\"y_scale\":{\"type\":\"object\",\"name\":\"LinearScale\",\"id\":\"ccfc580b-44a6-4931-ad59-f0224e20dc5c\"},\"title\":{\"type\":\"object\",\"name\":\"Title\",\"id\":\"149ae384-cb85-4f1b-ad5a-ceb8cc1e56c4\"},\"renderers\":[{\"type\":\"object\",\"name\":\"GlyphRenderer\",\"id\":\"717223aa-119f-4b1b-8bc4-19580f6ae407\",\"attributes\":{\"js_property_callbacks\":{\"type\":\"map\",\"entries\":[[\"change:visible\",[{\"type\":\"object\",\"name\":\"CustomJS\",\"id\":\"e83d320b-2c06-430a-b700-a0034c5c0e9e\",\"attributes\":{\"args\":{\"type\":\"map\",\"entries\":[[\"primary_line\",{\"id\":\"717223aa-119f-4b1b-8bc4-19580f6ae407\"}],[\"label\",{\"type\":\"object\",\"name\":\"Label\",\"id\":\"f1bc35b3-5419-42af-af0f-b6eb0f25b24d\",\"attributes\":{\"text\":\"1\",\"text_align\":\"center\",\"text_baseline\":\"middle\",\"x\":0,\"y\":1,\"y_offset\":15}}],[\"circle_rend\",{\"type\":\"object\",\"name\":\"GlyphRenderer\",\"id\":\"7f31bb7d-5818-4cd6-9f5e-05bc20827ac8\",\"attributes\":{\"data_source\":{\"type\":\"object\",\"name\":\"ColumnDataSource\",\"id\":\"13803559-2591-4d9a-a50a-1236bd076086\",\"attributes\":{\"selected\":{\"type\":\"object\",\"name\":\"Selection\",\"id\":\"9ea06bcb-e1e4-4259-a87d-b3875873be25\",\"attributes\":{\"indices\":[],\"line_indices\":[]}},\"selection_policy\":{\"type\":\"object\",\"name\":\"UnionRenderers\",\"id\":\"88fab55b-0107-4b62-90f8-dcf0153be692\"},\"data\":{\"type\":\"map\"}}},\"view\":{\"type\":\"object\",\"name\":\"CDSView\",\"id\":\"2ce3ec1b-f59c-4ea7-9eed-8b41751d7455\",\"attributes\":{\"filter\":{\"type\":\"object\",\"name\":\"AllIndices\",\"id\":\"83d2fe69-cf46-4607-b609-61501fe418ff\"}}},\"glyph\":{\"type\":\"object\",\"name\":\"Circle\",\"id\":\"51e45440-1c66-45ad-bbd0-9be0cd9b0395\",\"attributes\":{\"x\":{\"type\":\"value\",\"value\":0},\"y\":{\"type\":\"value\",\"value\":1},\"radius\":{\"type\":\"value\",\"value\":4,\"units\":\"screen\"},\"line_color\":{\"type\":\"value\",\"value\":\"#000000\"},\"fill_color\":{\"type\":\"value\",\"value\":\"#000000\"}}}}}]]},\"code\":\"\\n                label.visible = primary_line.visible;\\n                circle_rend.visible = primary_line.visible;\\n                \"}}]]]},\"data_source\":{\"type\":\"object\",\"name\":\"ColumnDataSource\",\"id\":\"8eca427f-f728-4c1b-bbc3-587440187fac\",\"attributes\":{\"selected\":{\"type\":\"object\",\"name\":\"Selection\",\"id\":\"d5c2132d-671f-4024-9be9-927d03a6010a\",\"attributes\":{\"indices\":[],\"line_indices\":[]}},\"selection_policy\":{\"type\":\"object\",\"name\":\"UnionRenderers\",\"id\":\"a1677835-7457-4355-a4af-1e653a4b53bc\"},\"data\":{\"type\":\"map\",\"entries\":[[\"x\",{\"type\":\"ndarray\",\"array\":{\"type\":\"bytes\",\"data\":\"H4sIAAEAAAAC/12Ve0yXZRzFuXoJayiYmjndWE4qNUVFVOC8YepkU8BLuQSCaZtmCm2mCV5yU0sXstCEtFiYzlLLn8Mcc7GzgYgpSZCWyRKvA0RRmeLwQk/re2rr98/Z3r2/5/1ezvk8fn7//CpG1VZPie6BmqqUquaIfhgScbDq68IhuJd3eGG34S+gute62d68SNQPaRj32dDhOH86rKRsxisImJudW3F5FCLDP9ralBKFXXu/iJxXMgYHr04Of1w/Fg3ZnwevahmHjF8fr4lpikbZoMShS8+Mx9bR2Xv6l8TgUveogb0yJ+CXxa1D74ZORPSjlMIZhybirP9bp9Z7k1Bz4uzR2uOTENYceSw1LhbhawMjxh6IRdCOttXTQ+Nwf9jSoznvxKE0JDiooDwO/bt2fjXtqXikPwjMmjwzHj02Ry0cnBePsOrsxgUn4nHzSPrFgofxGFFeFZLfFyi7vCEn5iVgfZ8BU+/HAeHLk0bfTQL2zd4/aE4GUNxakZaQBVxLagz9czVwqc+baQmbgepFGyvytgPpI75MPF8MRNfMrI75BhiYPCvouA/od3TDnU/KgO5VLXV7CHyb1575/Ang9ntp97tOA6E9n+xMrQNmJR2M8X4D2hb79h65AKyZX1FReRE4O6Ajf8UVYGrOIe/cdfc8uW5GUzPQdGvmptLWv+t+bbDXBlxNO/ZjwR0g6eSLH/vaAd+rN0cX3wO2LS/xz+gARnL/H50PgAvlZ6ZndQLNaQPyKh8C/rcCd3Q+AmKfDurb9wmQFZy76tku4MChYQH+fh5K/MJKzzkN6d97cZG/h6vtjfXTAzwML7+2qtXplfD842sDPWTWr+wMDvKwBGMT1jn94XrLd21OO37eN2ZOsIfSpC1HfE6XjP/+SXA3D+3bH/yU4vT9CF9lodPABv9Nvzut75ZY3Ke7hwmHU/OmOk2ZU3RyhVNf79vHdjtNPldfdcrpouxnEm47fT1r44e9e3gYuf7uqZFOi1pyFyY63bLsjS0LnHaGTFue4zR323Nz853eSx84f7fTl2+t9JU6rV1Wklvp9N2uXY11TodNS3580emnU+rabji9EbP6g7d7/qd6rvf0P52jc/UdfVd1qC7VqbrVh/pSn+pbc9BcNCfNTXPUXDVnzV170F60J+1Ne9RetWftXT6QL+QT+UY+kq/kM/lOPpQv5VP5Vj6Wr+Vz+V45UC6UE+VGOVKulDPlTjlULpVT5VY5Vq6Vc+VeHBAXxAlxQxwRV8QZcUccEpfEKXFLHBPXxDlxTxwUF8VJcVMcFVfFWXFXHBaXxWlxWxwX18V5cV/3gO4F3RN+//vZc9p7tP/RzqGdS/sO7bu0Omh10eqk1U3rg9YXrU9a37Q50OZCmxNtbrQ50uZKmzNt7rQ90PZC2xNtb7Q90vZK2zNt7zQf0HxB8wnNNzQf0XxF8xnNdzQf0nxJ8ynNtzQf03xN8znN97Qc0HJBywktN7Qc0XJFyxktd7Qc0nJJyyktt7Qc03JNyzkt9zQO0LhA4wSNGzSO0LhC4wyNOzQO0bhE4xSNWzSO0bhG4xyNezQO0rhI4ySNmzSO0rhK4yyNuzQO07hM4zSN2zSO07hO4zyN+7R7gHYv0O4J2r3xr+q53tP/dI7O1Xf0XdWhulSn6lYf6kt9qm/NQXPRnDQ3zVFz1Zw1d+1Be9GetDftUXvVnrV3+UC+kE/kG/lIvpLP5Dv5UL6UT+Vb+Vi+ls/le+VAuVBOlBvlSLlSzpQ75VC5VE6VW+VYuVbOlXtxQFwQJ8QNcURcEWfEHXFIXBKnxC1xTFwT58Q9cVBcFCfFTXFUXBVnxV1xWFwWp8VtcVxcF+fFfd0Duhd0T+je+As2tyATgAwAAA==\"},\"shape\":[400],\"dtype\":\"float64\",\"order\":\"little\"}],[\"y\",{\"type\":\"ndarray\",\"array\":{\"type\":\"bytes\",\"data\":\"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\"},\"shape\":[400],\"dtype\":\"float64\",\"order\":\"little\"}]]}}},\"view\":{\"type\":\"object\",\"name\":\"CDSView\",\"id\":\"47bcbe50-dd90-47f4-92b4-cc9958e5216a\",\"attributes\":{\"filter\":{\"type\":\"object\",\"name\":\"AllIndices\",\"id\":\"ffb206af-f356-4130-b953-2c67d603c567\"}}},\"glyph\":{\"type\":\"object\",\"name\":\"Line\",\"id\":\"51f3ad94-c218-4973-a724-0beb2a74b095\",\"attributes\":{\"x\":{\"type\":\"field\",\"field\":\"x\"},\"y\":{\"type\":\"field\",\"field\":\"y\"},\"line_color\":\"#1f77b4\",\"line_width\":2,\"line_dash\":[2,4]}},\"nonselection_glyph\":{\"type\":\"object\",\"name\":\"Line\",\"id\":\"6a460c80-7719-43e3-b931-65eb5c825b1b\",\"attributes\":{\"x\":{\"type\":\"field\",\"field\":\"x\"},\"y\":{\"type\":\"field\",\"field\":\"y\"},\"line_color\":\"#1f77b4\",\"line_alpha\":0.1,\"line_width\":2,\"line_dash\":[2,4]}},\"muted_glyph\":{\"type\":\"object\",\"name\":\"Line\",\"id\":\"4d23b788-821e-4968-8a70-68aa4e791633\",\"attributes\":{\"x\":{\"type\":\"field\",\"field\":\"x\"},\"y\":{\"type\":\"field\",\"field\":\"y\"},\"line_color\":\"#1f77b4\",\"line_alpha\":0.2,\"line_width\":2,\"line_dash\":[2,4]}}}},{\"id\":\"7f31bb7d-5818-4cd6-9f5e-05bc20827ac8\"},{\"type\":\"object\",\"name\":\"GlyphRenderer\",\"id\":\"05304b11-4644-4434-95f5-44bd9ccbc16c\",\"attributes\":{\"js_property_callbacks\":{\"type\":\"map\",\"entries\":[[\"change:visible\",[{\"type\":\"object\",\"name\":\"CustomJS\",\"id\":\"2f538427-6a8b-42f3-a17d-d19dfae67597\",\"attributes\":{\"args\":{\"type\":\"map\",\"entries\":[[\"primary_line\",{\"id\":\"05304b11-4644-4434-95f5-44bd9ccbc16c\"}],[\"label\",{\"type\":\"object\",\"name\":\"Label\",\"id\":\"7907a235-d344-49f7-82c2-2d30f89f8751\",\"attributes\":{\"text\":\"2\",\"text_align\":\"center\",\"text_baseline\":\"middle\",\"x\":20,\"y\":3.771257463082658,\"y_offset\":15}}],[\"circle_rend\",{\"type\":\"object\",\"name\":\"GlyphRenderer\",\"id\":\"86cde09e-b6a4-4280-921f-6f1b03244a6a\",\"attributes\":{\"data_source\":{\"type\":\"object\",\"name\":\"ColumnDataSource\",\"id\":\"ad5e0f63-57ab-41a7-8973-70e70728c40a\",\"attributes\":{\"selected\":{\"type\":\"object\",\"name\":\"Selection\",\"id\":\"0b0d445f-0b16-4fed-b323-e327dca715e3\",\"attributes\":{\"indices\":[],\"line_indices\":[]}},\"selection_policy\":{\"type\":\"object\",\"name\":\"UnionRenderers\",\"id\":\"fa317375-6e32-42d7-a91d-5cd37676f72a\"},\"data\":{\"type\":\"map\"}}},\"view\":{\"type\":\"object\",\"name\":\"CDSView\",\"id\":\"fea3c4d0-23d1-489b-8eec-a05f64f378a8\",\"attributes\":{\"filter\":{\"type\":\"object\",\"name\":\"AllIndices\",\"id\":\"511abcf7-a486-4a26-9121-c9f74aa1f051\"}}},\"glyph\":{\"type\":\"object\",\"name\":\"Circle\",\"id\":\"cc4d31ba-7307-4d47-940f-1652487cc7a3\",\"attributes\":{\"x\":{\"type\":\"value\",\"value\":20},\"y\":{\"type\":\"value\",\"value\":3.771257463082658},\"radius\":{\"type\":\"value\",\"value\":4,\"units\":\"screen\"},\"line_color\":{\"type\":\"value\",\"value\":\"#000000\"},\"fill_color\":{\"type\":\"value\",\"value\":\"#000000\"}}}}}]]},\"code\":\"\\n                label.visible = primary_line.visible;\\n                circle_rend.visible = primary_line.visible;\\n                \"}}]]]},\"data_source\":{\"type\":\"object\",\"name\":\"ColumnDataSource\",\"id\":\"39a6bbf1-9687-49c7-b1a4-7c807e5bfcbd\",\"attributes\":{\"selected\":{\"type\":\"object\",\"name\":\"Selection\",\"id\":\"72f57691-61c7-4eb1-95eb-ba619292976a\",\"attributes\":{\"indices\":[],\"line_indices\":[]}},\"selection_policy\":{\"type\":\"object\",\"name\":\"UnionRenderers\",\"id\":\"019821ca-5d07-47ed-a9a9-ddfcbcedcb88\"},\"data\":{\"type\":\"map\",\"entries\":[[\"x\",{\"type\":\"ndarray\",\"array\":{\"type\":\"bytes\",\"data\":\"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\"},\"shape\":[400],\"dtype\":\"float64\",\"order\":\"little\"}],[\"y\",{\"type\":\"ndarray\",\"array\":{\"type\":\"bytes\",\"data\":\"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\"},\"shape\":[400],\"dtype\":\"float64\",\"order\":\"little\"}]]}}},\"view\":{\"type\":\"object\",\"name\":\"CDSView\",\"id\":\"7794370e-5d97-4af2-970e-24ed5ea0d202\",\"attributes\":{\"filter\":{\"type\":\"object\",\"name\":\"AllIndices\",\"id\":\"7faed5d7-53bc-4838-a8bb-40cb036f4683\"}}},\"glyph\":{\"type\":\"object\",\"name\":\"Line\",\"id\":\"20914a31-0160-49b3-817c-98503adc25b9\",\"attributes\":{\"x\":{\"type\":\"field\",\"field\":\"x\"},\"y\":{\"type\":\"field\",\"field\":\"y\"},\"line_color\":\"#ff7f0e\",\"line_width\":2,\"line_dash\":[2,4]}},\"nonselection_glyph\":{\"type\":\"object\",\"name\":\"Line\",\"id\":\"0ba6ecd3-e35d-4651-b758-c4052c82746e\",\"attributes\":{\"x\":{\"type\":\"field\",\"field\":\"x\"},\"y\":{\"type\":\"field\",\"field\":\"y\"},\"line_color\":\"#ff7f0e\",\"line_alpha\":0.1,\"line_width\":2,\"line_dash\":[2,4]}},\"muted_glyph\":{\"type\":\"object\",\"name\":\"Line\",\"id\":\"59c4ad4c-42e9-41ac-8e15-73747599b4ae\",\"attributes\":{\"x\":{\"type\":\"field\",\"field\":\"x\"},\"y\":{\"type\":\"field\",\"field\":\"y\"},\"line_color\":\"#ff7f0e\",\"line_alpha\":0.2,\"line_width\":2,\"line_dash\":[2,4]}}}},{\"id\":\"86cde09e-b6a4-4280-921f-6f1b03244a6a\"},{\"type\":\"object\",\"name\":\"GlyphRenderer\",\"id\":\"ba0002d5-8307-4a7e-a4b3-284b05c0e23d\",\"attributes\":{\"js_property_callbacks\":{\"type\":\"map\",\"entries\":[[\"change:visible\",[{\"type\":\"object\",\"name\":\"CustomJS\",\"id\":\"96d82c84-e17c-4393-ac93-2ff6f7fbc459\",\"attributes\":{\"args\":{\"type\":\"map\",\"entries\":[[\"primary_line\",{\"id\":\"ba0002d5-8307-4a7e-a4b3-284b05c0e23d\"}],[\"label\",{\"type\":\"object\",\"name\":\"Label\",\"id\":\"c5a4dcda-bc91-4616-beac-1b32c1e37520\",\"attributes\":{\"text\":\"3\",\"text_align\":\"center\",\"text_baseline\":\"middle\",\"x\":-15,\"y\":2.8215623212774954,\"y_offset\":15}}],[\"circle_rend\",{\"type\":\"object\",\"name\":\"GlyphRenderer\",\"id\":\"84e91148-8d28-43ae-a0c8-2eaa7e9dd444\",\"attributes\":{\"data_source\":{\"type\":\"object\",\"name\":\"ColumnDataSource\",\"id\":\"0853ce13-36fc-4648-b8f0-bfa1b1649180\",\"attributes\":{\"selected\":{\"type\":\"object\",\"name\":\"Selection\",\"id\":\"025b2ea1-1ebb-4b61-b9e1-7cf45a65abc7\",\"attributes\":{\"indices\":[],\"line_indices\":[]}},\"selection_policy\":{\"type\":\"object\",\"name\":\"UnionRenderers\",\"id\":\"5f63752e-1423-4406-81d7-0e2f79622278\"},\"data\":{\"type\":\"map\"}}},\"view\":{\"type\":\"object\",\"name\":\"CDSView\",\"id\":\"b8752808-8b17-435d-b520-cf106970ff0f\",\"attributes\":{\"filter\":{\"type\":\"object\",\"name\":\"AllIndices\",\"id\":\"1700bbb0-2ec6-4b55-805d-69b5e703194e\"}}},\"glyph\":{\"type\":\"object\",\"name\":\"Circle\",\"id\":\"4cd02268-bed2-452e-a1c7-c230aef2c743\",\"attributes\":{\"x\":{\"type\":\"value\",\"value\":-15},\"y\":{\"type\":\"value\",\"value\":2.8215623212774954},\"radius\":{\"type\":\"value\",\"value\":4,\"units\":\"screen\"},\"line_color\":{\"type\":\"value\",\"value\":\"#000000\"},\"fill_color\":{\"type\":\"value\",\"value\":\"#000000\"}}}}}]]},\"code\":\"\\n                label.visible = primary_line.visible;\\n                circle_rend.visible = primary_line.visible;\\n                \"}}]]]},\"data_source\":{\"type\":\"object\",\"name\":\"ColumnDataSource\",\"id\":\"767a09d2-9d50-46e2-88ea-088e7a4bb8d7\",\"attributes\":{\"selected\":{\"type\":\"object\",\"name\":\"Selection\",\"id\":\"9078a094-0e62-4fe2-bb53-205ccf4ae58b\",\"attributes\":{\"indices\":[],\"line_indices\":[]}},\"selection_policy\":{\"type\":\"object\",\"name\":\"UnionRenderers\",\"id\":\"4536d2cf-4caa-4805-b708-b7b092cb7eda\"},\"data\":{\"type\":\"map\",\"entries\":[[\"x\",{\"type\":\"ndarray\",\"array\":{\"type\":\"bytes\",\"data\":\"H4sIAAEAAAAC/0WVeVSURxbFiURFFIcgx4EWDRLoTwUBIwiCwKMpNYgBFFdGiYgLoKgj4MQNGUUGmIwicW3BtMSlcUHEVtR04MlJiGvHKAyKoJAgIuI2KioSMjXn5E76n3v666+rXr1376/MzP73cWetrc4Q6Dece/q7vO3V5MznTeYJhjZHfvPJ4p/e5au4Q6uZ/p2FLa8oLzTOtO3H4/q/mvej8h57Oo0x1ZnaK9I9dvcb33gtKDIzYPM7zcugWdQxz6LoPVqRHOE1Y7MFNV47+mXB9/3JeLFmeYO/DYmeE75Sqm3pum5n+LJRf6bIkr17ns6yJ/2j1bErIwZR66XRzZH2gyk3Pypu4/khlJ72xespgxzJfU+1V/pFRzLEmreFLRpKZu7pnTYdQ6l44xIv29VOVDckc8DKZ07UnRg23nvuRxSYdvNFOH9EOqu8eq3Kmc52fenTtNSZOp8nJ98qc6b+M+5eUnc5U8dJl5I4Pxcad9JOsU92oTkrezz+7pAL6fRrt9+ucaFJV1ZtrDBTk7rwfE2NoqYZKVfHJoepac7mwYdblqhpqZna5vNsNb3c+dwy4YCabPdsCH9lVNOsJt+wqJtqygjdv8fwQE1jJkYmTuhU06Is57ZRfRUKL88tyFcplGFx9ZR+mEJ1qfumpnorlHj8r3eGBCtEzYEjKsIUatTfNyVNV6hcnxhMMQqN+STvg0mLFKrXkk1BkkKlD7vTQ1MUck/oHh6zRiG/Nw+yWjcotKzoQsvLDIV6xLqlbslWaMYT78UV/1Io7UhH723bFJp/we3Hvjvkfv/ukeKzWyGLw67dqr1StZ/XGAsUmnTV6rqTTiFP+6igqYUKdV4vfxdxQNar2b7c8ZBCKx8d1/1wWKES84SxoUUK/exalas/opBG/HSy9ahC+bXz5vc7rlC79bjhA4sVmtxgiLI4oVDmocrOZqkpr/W9i0sUWhPt5bvwpFy3dqdTv1KFFu1v9z0g1Vix4qr7KYW6r8dbH5d6Ocbk4GhQaNjRb55lSY2fuT+lVWrh5dB1Qafl/qbii1ukuq862KdW6oSuuHt2ZxRa1/P+nWlS08NdM/4plbXxU76VumC5ZWmb1OInxZa2ZQqZ/mNeNlZq7s40B+PZPxTP8R7+h3WwLvbBvqgDdaFO1I1z4Fw4J86NPqAv6BP6hj6ir+gz+o45YC6YE+aGOWKumDPmDh/AF/AJfAMfwVfwGXwHH8KX8Cl8Cx/D1/A5fI8cIBfICXKDHCFXyBlyhxwil8gpcoscI9fIOXIPDoAL4AS4AY6AK+AMuAMOgUvgFLgFjoFr4By4Bw6Ci+AkuAmOgqvgLLgLDoPL4DS4DY6D6+A8uI97APcC7gmz3+8N6KlXJw42zh/FafOTNq3bOpq/tku7cjDHmytHHup7YZYPa2afaDP96ssf65dYpK73Y9+YpgG97vjzk/Atw7PtA/gzT/sc9g/khbeiznqIIO614E+ZuSpin9cibnoW8V2j3+3Z7cR25zqPr50YzHpufZGhDWZV9Y1LI1uC2XLV6BeDXTWcGuAx+UmChgNWZzqM+FrDecmJkyNrNaz78Jf11b1CeLLa28rx4xBOupXemTc7hNP76soz1ofwsUaV1fh9IXzmH00ZDsYQ5rqpUz6tDeHcey+NA56FcPwm57JDvQS7/9b8qe8gwWld9Q4dIwVn7PhbaZ8g+X1pn/bd4YIj3KpCq+YI3pVP/icTBA9rG7JwVargG6UFjR7pgnP0y1JfZQseODjZVJ8neGbsD0VvtYIHpWe/H1Mo+NuFRo2qSPD4lq+iAk4InuFrulFtEBw7NV79+Jxg0wfbtdvKBaucstdcrRS83WOBcrhK8NAeL9xGXBa8quDwtLnXBEcvqT8z8bpg63NbLz+9Idg38VzyX2oEex6Jts6tFdw/b0FG3m3BZepcsfiO4KXng+bZNAierN2Qs+uu/L17rFPnPcFzEkvGBjQJJruwgrifBe9ce+328l8E6478GrygWfAszysvNPcFa0+bNVi1CK58mFNRJXWjOsZ7+QPBNsnmBotWuW5V9dbtUgMNT7sHPBS83/r+oCyp9WtcW59Lbafo8Kltgt/kjHI+ItV6Sopbp9QH3rvtQh4J9n8/Imez1Cifx7aVUguLSgLfSm0IaPu7a7vgfQOtwmdLbTp90GKT1Ohh/v2LpD71cDh1RSp5qcQjqaW7Rve2eCz4cpv7OCepddOHDfaTql9pcy9C6tlTrqVxUr+Ym1CZKtXmt1s+mVI/C347ZodU3U3LpkKpJeroaSek3t678dh5qce+Odrje6mGLk4yST1w8MPeHk/+UDzHe/gf1sG62Af7og7UhTpRN86Bc+GcODf6gL6gT+gb+oi+os/oO+aAuWBOmBvmiLlizpg7fABfwCfwDXwEX8Fn8B18CF/Cp/AtfAxfw+fwPXKAXCAnyA1yhFwhZ8gdcohcIqfILXKMXCPnyD04AC6AE//nxu8cAVfAGXAHHAKXwClwCxwD18A5cA8cBBfBSXATHAVXwVlwFxwGl8FpcBscB9fBeXAf9wDuBdwTuDf+C4yib46ADAAA\"},\"shape\":[400],\"dtype\":\"float64\",\"order\":\"little\"}],[\"y\",{\"type\":\"ndarray\",\"array\":{\"type\":\"bytes\",\"data\":\"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\"},\"shape\":[400],\"dtype\":\"float64\",\"order\":\"little\"}]]}}},\"view\":{\"type\":\"object\",\"name\":\"CDSView\",\"id\":\"163bd90f-e8da-4292-b277-257c602d8e68\",\"attributes\":{\"filter\":{\"type\":\"object\",\"name\":\"AllIndices\",\"id\":\"1d587a9c-6b9f-487d-8a10-e27b31cb9fb9\"}}},\"glyph\":{\"type\":\"object\",\"name\":\"Line\",\"id\":\"490ac5f5-a242-4874-aa9a-1f0df636668e\",\"attributes\":{\"x\":{\"type\":\"field\",\"field\":\"x\"},\"y\":{\"type\":\"field\",\"field\":\"y\"},\"line_color\":\"#2ca02c\",\"line_width\":2,\"line_dash\":[2,4]}},\"nonselection_glyph\":{\"type\":\"object\",\"name\":\"Line\",\"id\":\"eb7fea4a-088e-4f1c-93b5-9c51d17f71d4\",\"attributes\":{\"x\":{\"type\":\"field\",\"field\":\"x\"},\"y\":{\"type\":\"field\",\"field\":\"y\"},\"line_color\":\"#2ca02c\",\"line_alpha\":0.1,\"line_width\":2,\"line_dash\":[2,4]}},\"muted_glyph\":{\"type\":\"object\",\"name\":\"Line\",\"id\":\"c79e201e-f1ee-4d4c-843c-1fd4cc9bc5f8\",\"attributes\":{\"x\":{\"type\":\"field\",\"field\":\"x\"},\"y\":{\"type\":\"field\",\"field\":\"y\"},\"line_color\":\"#2ca02c\",\"line_alpha\":0.2,\"line_width\":2,\"line_dash\":[2,4]}}}},{\"id\":\"84e91148-8d28-43ae-a0c8-2eaa7e9dd444\"},{\"type\":\"object\",\"name\":\"GlyphRenderer\",\"id\":\"52208e34-4e97-4da0-812b-d6f2e78cc24a\",\"attributes\":{\"data_source\":{\"type\":\"object\",\"name\":\"ColumnDataSource\",\"id\":\"3da3b006-81ab-4c42-9efb-a7a132e08446\",\"attributes\":{\"selected\":{\"type\":\"object\",\"name\":\"Selection\",\"id\":\"582a29aa-3d76-4003-be99-ef87b9bc9de2\",\"attributes\":{\"indices\":[],\"line_indices\":[]}},\"selection_policy\":{\"type\":\"object\",\"name\":\"UnionRenderers\",\"id\":\"8f394bbd-3055-491d-a5e5-a942794a069b\"},\"data\":{\"type\":\"map\",\"entries\":[[\"x\",{\"type\":\"ndarray\",\"array\":{\"type\":\"bytes\",\"data\":\"H4sIAAEAAAAC/z2UC1BUZRiGuYSiQFyXZdkF9n6/nbOkjiD7EjgyKoIGQY62iYCQGoKEYoSaeMNkoEXEvKOoeCMxVkHGzJSLbphlCjEg5niDMJAkRKn28k9nzsw/5/+/7/3e9zlzjoOD/aKylsWYu9r09rVTn2aMndKZ+pA8P9Ovr8YZg2yQ7A/r52xc+N2CQyPk/JWeuTj39kzmOKlzQA6nJZvT4gh7vTOSJ98Z2+XkAnvfBESM9m7yjHCFvX8ShI8H3Lfnu8Gu4wFbef3bsOt5wVY+6kV0vdGfZK3wIfq+6Gkvrbyg8yNzGLCIWJQYZJ4/rjXt51FZTDI3ABd01oksMp+FUyetVyDxwcYBnvWEQ/wEoazS2hFEfAWjyNOqFEL8cREWlWKxwCU+uagvtB7wiF8e1I1Pq3ao+cQ3HydeKlw+HucT/wLwbUYEJIcQe1fUtYn3CkkeERi2BhHJJULJw2mWW0zyieEaUjD4/UQJySmBbfuuhOSV4rXFdWG1lOSWIdcmJCP5ZXhuSR0WJScc5LBR8VEQHgo8sMbqVRAuStjka5WEjwo2LIUqwkkFaypjrJrwUsNKIZujIdw0sFKL79cQflrYZBZrCUctAn2G87Zc0xKeWtyr9bMQoAhXCjZsRorwpRBvA0sRzjQ8rHFSaMKbxg2xlShNuNPYYgOlI/x1sI2t1JH3oIP9qwj9f53gnRJW26GDO/9a3ofndPDRies8inUIiN420JSiQ0hin3RFmA6i9LmpbD8dFGvOHrzxBw1qm1dX/nUaU/fk+MsO0Jhx8s78jjwaUZem7NwaR2O2ubJ1ipRGfPeY82MHGu8/X6Tf1Ulh0b+X10XXUUjx4pmGiylk8DYNVS2l8An9SLkgnEJu1KwMRwaFdQk1R74Z0GJjmtt9Q7MWW/NWBnoe1GLn1luJl9doYaykylbGa7GnxmjmWDgfbHw50eyoxZzdtVtGvtUgqWH1eEK6Bku7puaeZ2qwavx1n3ebGgUhV5asWqfGtsiijnaFGuVLY+JU3Soc2uzevKNEhTPHfwrv06vQ0FZ+PmZIiev9yfLjVUr87BF02CVBiR7NA2aqixJ986tLrpoUGFmd6cLLUMCpQlWwnqWA58WhF9035GD/Vp8ZXiCH5E1+79cqOUKDI5Je9cgAOLUnlcowN6U52hQpQ3JR8SW/YSlSj82jVx+VIrvVp+Z2ohSf990N0U6UYrv73oqSixJUqA0eA5kSVMULiuawJTib82SsxixGY/mpbNdCMZpNWU/TNWL80qEzXO8V4f7Y378KvhKhn9M094soEUYjNvzQ+5cQby2Jnq4/JoTXJtdz+5OE4FSbJW9chZC2lB5Y2CjAO88SGA3LBYh0Y33JDBIgVtXtlNfOx8K4w/l31vORnp02SFN85Bhly8p+56GwfqD7TyMPxffOJcybycPuV5/ePD3CxRH29HfdTnBRO+Ofi5kfcNFkuKppncxFqbNHbOzaEJyYtWv65K5gXNkRJG2ZEYyOW9WMokNBeOGrdo50tvyPkk2D42kc8PdF9DS2shHe23xzjYKNBGFcQ2hJIFZk3Ds2NMhC0WlD+dn3WNg3+GTjclMATKGrsqSsALSvHV306DMmHjdtmF3V4w8Hx0nTDJH+CJhZJuIcZUC7neXbOYGBmB8PO1Rk+uEjb/nzBWZfrE2s6/LU+OI/yiUd8UAGAAA=\"},\"shape\":[200],\"dtype\":\"float64\",\"order\":\"little\"}],[\"y\",{\"type\":\"ndarray\",\"array\":{\"type\":\"bytes\",\"data\":\"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\"},\"shape\":[200],\"dtype\":\"float64\",\"order\":\"little\"}]]}}},\"view\":{\"type\":\"object\",\"name\":\"CDSView\",\"id\":\"8a9c5c27-7e43-4354-a275-ad1ddfad93c2\",\"attributes\":{\"filter\":{\"type\":\"object\",\"name\":\"AllIndices\",\"id\":\"2632d437-08e7-41d9-a69c-fc74e17ebe7a\"}}},\"glyph\":{\"type\":\"object\",\"name\":\"Line\",\"id\":\"c3714d69-02b0-4271-9d06-b2c682027ae8\",\"attributes\":{\"x\":{\"type\":\"field\",\"field\":\"x\"},\"y\":{\"type\":\"field\",\"field\":\"y\"},\"line_color\":\"#d62728\",\"line_width\":2}},\"nonselection_glyph\":{\"type\":\"object\",\"name\":\"Line\",\"id\":\"c2ce0e82-57d9-43da-855a-862e331894c1\",\"attributes\":{\"x\":{\"type\":\"field\",\"field\":\"x\"},\"y\":{\"type\":\"field\",\"field\":\"y\"},\"line_color\":\"#d62728\",\"line_alpha\":0.1,\"line_width\":2}},\"muted_glyph\":{\"type\":\"object\",\"name\":\"Line\",\"id\":\"0f586ce1-19a5-4989-ae5f-0ea8b25b130d\",\"attributes\":{\"x\":{\"type\":\"field\",\"field\":\"x\"},\"y\":{\"type\":\"field\",\"field\":\"y\"},\"line_color\":\"#d62728\",\"line_alpha\":0.2,\"line_width\":2}}}},{\"type\":\"object\",\"name\":\"GlyphRenderer\",\"id\":\"05a2104e-76c9-450e-b2cd-47a0eaf26cb7\",\"attributes\":{\"data_source\":{\"type\":\"object\",\"name\":\"ColumnDataSource\",\"id\":\"476b2638-760d-4077-8ec1-60eaf10b027e\",\"attributes\":{\"selected\":{\"type\":\"object\",\"name\":\"Selection\",\"id\":\"b4618e6b-a35a-4ddb-a6e7-10f2086ce89a\",\"attributes\":{\"indices\":[],\"line_indices\":[]}},\"selection_policy\":{\"type\":\"object\",\"name\":\"UnionRenderers\",\"id\":\"77326854-7fd1-4894-9363-c0f19fbd637b\"},\"data\":{\"type\":\"map\",\"entries\":[[\"x\",{\"type\":\"ndarray\",\"array\":{\"type\":\"bytes\",\"data\":\"H4sIAAEAAAAC/z2ReVBTVxTGXxAwFEwCBBMjkBBCEpIQ7QSUmRbyWhutCxTrrhUdrICCLbhVLY5oxWGgRYvWSjKDjlikLTKK1q1O34dLK0oQRMfGFUUtcWWpikVrecmZ3n/u3HvO/b7v/C7DeNfCrSmjXJ+e4rx7Gyefu7zVJrtB5w4uua/9K3FyJ90/5jzHvi6q93IXbbKByjPq6+N+/olf/1D/a26jmK+8oXcMRhzv3F1q9oH3/SA4cusbtQ5feHX8IFQWdDUMHgyvnhArWvlCALy6b+E2L9MeCK/+EKQOqGxNEcHrI4bneq4EXj8JtvE2W4PJNwTntLxjCPmHwktBSjmk8MiNCqM8YVjCX+cOpVwyVJWaB5RklE8OT7tLTjmHQeIpKCivAmN5Gdtwyj0cvIqyIJzyR+AgL18fQXNEwr2bN4ikeZSkp6K5VKSrovlUpB9Fc0aRTxTNqyY/Nc2thqddFk3zR5N/NHHQUA4N8dBQHg1xiaFcMcQnBh4sSi1x0sJje1xLvHSYPo1fOuKmQzcfp0tH/PT4mr8u1RNHPXQe41jiGYuTfHtDLHEwEAcDcTAQBwNxMBIHI3EwEgcTcTARBxPxjyMOccQhjjiY/9/dAe/1VlbEoS10w/0kSxxORJxyXW8yoVrn6/wy04TNb9ugYExY9c6mg8cqjMiw/VE902LExI+E9hdNBiTMGv/N9kwDIheUFCYwBgiXnF92qSIW3SuDspZZYnG1MGV2iFOP0yVlKQcy9di37QKbxujxfaUk/mmFDoU1k3VlFh0W15cr4pxaTDnRNqQpU4t3f5cKchgttC3T/g6wx0BydftfNZYY9HVcuTrOqcGdx/Lm+5kaNL2Y1VA08K+/CByHNPZoVAZe33vKEo3isAhHhlONfGV6mSBLjdmxO9fvYtT4wNK+3GqPgjkpKvumJQqycRlz1jpVYCZXpYZnqfBg9t33fmVUqG6csPhQvBKrbzSl9WRFYlJ36uiRjggo/VojPmsOR498im+tIBynTZcfuOOHYwc7o1WXrcDiqa4jCx3DkJw9p7KqWQ5JwY2NtwVy3Nk8L0eZIMPhqtuT52YPRfGRBYkORxg+OX8v0tUshflWlp/MRwqfXvfDqQmhuOSfe7E8OwTViidHWxzBWGPO2ym6IMGk93uKJvlIwNZ2/inNEeFu26MftrQGobi/a2lQYiBGRj+zFlcG4NKEl0G+fkIULH3tWpfjD5VdsLe/1RdnG/yWf5E4CLmejxdAEiwSfe7HIC9fc/jylVfcUZjSnHteckJJwoPT+c+5tHlJG08k93K76myRhwK7uJZ+R96MA25uvr12z9iJHRyzdM2BnHMujk0fbdn2qpFjRq68yUoXccy+MaYeS6N1fgVTp8h0WSV1T9WRwzqsheJbT8zr3Nb2vObj1ntPrSp3+piamF5re8X0H/fPfG7dMiFVfKz0pZXtt61o+O2VlalNutbY/cY6s86uWlQuYPdv2j7lsXEQK5xXvin/jC+bPbrs2LN0fxbikker+waz8s4i5b/fBrCrsP7jDcZAtmXH2iL/M0GsPn/10ZJ0EVs4fsVDUZ+Y7dqSuLnxrIQNX3u4pvS7YPbDRfEnUzJC2FXT6q+JR4Sy/wFQDnp7QAYAAA==\"},\"shape\":[200],\"dtype\":\"float64\",\"order\":\"little\"}],[\"y\",{\"type\":\"ndarray\",\"array\":{\"type\":\"bytes\",\"data\":\"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\"},\"shape\":[200],\"dtype\":\"float64\",\"order\":\"little\"}]]}}},\"view\":{\"type\":\"object\",\"name\":\"CDSView\",\"id\":\"1dff2520-8772-4592-9f30-0fe4e3b6a8fa\",\"attributes\":{\"filter\":{\"type\":\"object\",\"name\":\"AllIndices\",\"id\":\"5209c28c-2fb5-4b09-83e7-7880ad3cb7eb\"}}},\"glyph\":{\"type\":\"object\",\"name\":\"Line\",\"id\":\"7fff1f26-f25a-4243-9b4a-206954ebf7a6\",\"attributes\":{\"x\":{\"type\":\"field\",\"field\":\"x\"},\"y\":{\"type\":\"field\",\"field\":\"y\"},\"line_color\":\"#9467bd\",\"line_width\":2}},\"nonselection_glyph\":{\"type\":\"object\",\"name\":\"Line\",\"id\":\"c0ca1a80-76f8-419a-96ce-e67f6b7cbb7d\",\"attributes\":{\"x\":{\"type\":\"field\",\"field\":\"x\"},\"y\":{\"type\":\"field\",\"field\":\"y\"},\"line_color\":\"#9467bd\",\"line_alpha\":0.1,\"line_width\":2}},\"muted_glyph\":{\"type\":\"object\",\"name\":\"Line\",\"id\":\"49eebdaa-4d01-438b-80d5-235d2f7724aa\",\"attributes\":{\"x\":{\"type\":\"field\",\"field\":\"x\"},\"y\":{\"type\":\"field\",\"field\":\"y\"},\"line_color\":\"#9467bd\",\"line_alpha\":0.2,\"line_width\":2}}}},{\"type\":\"object\",\"name\":\"GlyphRenderer\",\"id\":\"6134e050-c4ee-4799-86f9-e10c78e2b428\",\"attributes\":{\"data_source\":{\"type\":\"object\",\"name\":\"ColumnDataSource\",\"id\":\"42ddbad3-cf45-4883-8899-9e9e8c283d3b\",\"attributes\":{\"selected\":{\"type\":\"object\",\"name\":\"Selection\",\"id\":\"12cb4677-9ad4-49e3-8f4d-8b49829c0290\",\"attributes\":{\"indices\":[],\"line_indices\":[]}},\"selection_policy\":{\"type\":\"object\",\"name\":\"UnionRenderers\",\"id\":\"14825fe3-7c5f-49bf-943f-d0203ca90724\"},\"data\":{\"type\":\"map\"}}},\"view\":{\"type\":\"object\",\"name\":\"CDSView\",\"id\":\"be8ccb2e-d0f0-49b4-81d8-2d1472c1148c\",\"attributes\":{\"filter\":{\"type\":\"object\",\"name\":\"AllIndices\",\"id\":\"1c51271c-58e5-4f1e-959a-5f6c9f149c6a\"}}},\"glyph\":{\"type\":\"object\",\"name\":\"Circle\",\"id\":\"777ea874-2469-4029-81b4-a59d8173a273\",\"attributes\":{\"x\":{\"type\":\"value\",\"value\":4.795958931693682},\"y\":{\"type\":\"value\",\"value\":8.352551913417367},\"radius\":{\"type\":\"value\",\"value\":4,\"units\":\"screen\"},\"line_color\":{\"type\":\"value\",\"value\":\"#000000\"},\"fill_color\":{\"type\":\"value\",\"value\":\"#000000\"}}}}}],\"toolbar\":{\"type\":\"object\",\"name\":\"Toolbar\",\"id\":\"44d15916-d186-44ca-b3bb-51c7555e8002\",\"attributes\":{\"tools\":[{\"type\":\"object\",\"name\":\"PanTool\",\"id\":\"1d88a575-8a38-4871-bfd9-36b1e51a7653\"},{\"type\":\"object\",\"name\":\"WheelZoomTool\",\"id\":\"d517444a-664d-4dff-a455-3510c503a13d\",\"attributes\":{\"renderers\":\"auto\"}},{\"type\":\"object\",\"name\":\"BoxZoomTool\",\"id\":\"93526c97-1ba1-4b18-b8fa-2f701a1f2349\",\"attributes\":{\"dimensions\":\"both\",\"overlay\":{\"type\":\"object\",\"name\":\"BoxAnnotation\",\"id\":\"a1e54249-e816-4844-9d95-2212cc66d0ee\",\"attributes\":{\"syncable\":false,\"line_color\":\"black\",\"line_alpha\":1.0,\"line_width\":2,\"line_dash\":[4,4],\"fill_color\":\"lightgrey\",\"fill_alpha\":0.5,\"level\":\"overlay\",\"visible\":false,\"left\":{\"type\":\"number\",\"value\":\"nan\"},\"right\":{\"type\":\"number\",\"value\":\"nan\"},\"top\":{\"type\":\"number\",\"value\":\"nan\"},\"bottom\":{\"type\":\"number\",\"value\":\"nan\"},\"left_units\":\"canvas\",\"right_units\":\"canvas\",\"top_units\":\"canvas\",\"bottom_units\":\"canvas\",\"handles\":{\"type\":\"object\",\"name\":\"BoxInteractionHandles\",\"id\":\"3dc9b9fb-613c-4ab5-8540-cb33526b557e\",\"attributes\":{\"all\":{\"type\":\"object\",\"name\":\"AreaVisuals\",\"id\":\"d6131a7c-8605-4250-9cb8-f92bcefcc7d3\",\"attributes\":{\"fill_color\":\"white\",\"hover_fill_color\":\"lightgray\"}}}}}}}},{\"type\":\"object\",\"name\":\"SaveTool\",\"id\":\"3f5d6994-2a64-4273-a976-2c3d1462069e\"},{\"type\":\"object\",\"name\":\"ResetTool\",\"id\":\"28c72c5c-1bd3-495b-8655-879026780ec8\"},{\"type\":\"object\",\"name\":\"HelpTool\",\"id\":\"94f6e79f-c023-48c5-b194-ac7895a9b3b9\"}]}},\"left\":[{\"type\":\"object\",\"name\":\"LinearAxis\",\"id\":\"32f5aec2-c3d1-4051-98f7-a56550b9890e\",\"attributes\":{\"ticker\":{\"type\":\"object\",\"name\":\"BasicTicker\",\"id\":\"b90e9d4e-7e47-4da6-84b3-21c6df456037\",\"attributes\":{\"mantissas\":[1,2,5]}},\"formatter\":{\"type\":\"object\",\"name\":\"BasicTickFormatter\",\"id\":\"278d6010-7a98-4604-a73a-e0f2c2ec6961\"},\"axis_label\":\"Pressure Ratio to Freestream\",\"major_label_policy\":{\"type\":\"object\",\"name\":\"AllLabels\",\"id\":\"21d701a6-c6d7-424d-ac0b-8091bbf391ac\"}}}],\"right\":[{\"type\":\"object\",\"name\":\"Legend\",\"id\":\"e37a3597-45de-4086-9fd4-671770510608\",\"attributes\":{\"ncols\":1,\"click_policy\":\"hide\",\"items\":[{\"type\":\"object\",\"name\":\"LegendItem\",\"id\":\"361ed5d1-7b8b-4b72-a8d4-6301b4819d01\",\"attributes\":{\"label\":{\"type\":\"value\",\"value\":\"M1\"},\"renderers\":[{\"id\":\"717223aa-119f-4b1b-8bc4-19580f6ae407\"}]}},{\"type\":\"object\",\"name\":\"LegendItem\",\"id\":\"41d2f373-2bbe-48d4-8005-0d215ffbf1a7\",\"attributes\":{\"label\":{\"type\":\"value\",\"value\":\"M2\"},\"renderers\":[{\"id\":\"05304b11-4644-4434-95f5-44bd9ccbc16c\"}]}},{\"type\":\"object\",\"name\":\"LegendItem\",\"id\":\"ea0faa17-25df-49ac-943a-ec5df4183517\",\"attributes\":{\"label\":{\"type\":\"value\",\"value\":\"M3\"},\"renderers\":[{\"id\":\"ba0002d5-8307-4a7e-a4b3-284b05c0e23d\"}]}}]}}],\"below\":[{\"type\":\"object\",\"name\":\"LinearAxis\",\"id\":\"e48114f8-ddce-4391-a3ff-4e18708a1f4a\",\"attributes\":{\"ticker\":{\"type\":\"object\",\"name\":\"BasicTicker\",\"id\":\"406ef939-24f9-4c19-bdf2-9eaad117e29e\",\"attributes\":{\"mantissas\":[1,2,5]}},\"formatter\":{\"type\":\"object\",\"name\":\"BasicTickFormatter\",\"id\":\"2f86a8a1-ddcf-4509-994e-3f10585a2352\"},\"axis_label\":\"Deflection angle, \\u03b8 [deg]\",\"major_label_policy\":{\"type\":\"object\",\"name\":\"AllLabels\",\"id\":\"2e08165f-b968-4281-b7d1-b7643369e05b\"}}}],\"center\":[{\"type\":\"object\",\"name\":\"Grid\",\"id\":\"293caef0-51a5-4c61-af61-7c41f57969c5\",\"attributes\":{\"axis\":{\"id\":\"e48114f8-ddce-4391-a3ff-4e18708a1f4a\"},\"minor_grid_line_color\":\"#e5e5e5\",\"minor_grid_line_alpha\":0.75,\"minor_grid_line_dash\":[2,2]}},{\"type\":\"object\",\"name\":\"Grid\",\"id\":\"09838adf-a501-43ca-91db-bb9c9e300282\",\"attributes\":{\"dimension\":1,\"axis\":{\"id\":\"32f5aec2-c3d1-4051-98f7-a56550b9890e\"},\"minor_grid_line_color\":\"#e5e5e5\",\"minor_grid_line_alpha\":0.75,\"minor_grid_line_dash\":[2,2]}},{\"type\":\"object\",\"name\":\"Legend\",\"id\":\"95ce727b-07a5-4363-977a-1c1422ce19e7\",\"attributes\":{\"visible\":false,\"items\":[]}},{\"id\":\"f1bc35b3-5419-42af-af0f-b6eb0f25b24d\"},{\"id\":\"7907a235-d344-49f7-82c2-2d30f89f8751\"},{\"id\":\"c5a4dcda-bc91-4616-beac-1b32c1e37520\"},{\"type\":\"object\",\"name\":\"Arrow\",\"id\":\"9bc1e4b6-ee39-4015-9cd4-333a44d424b8\",\"attributes\":{\"source\":{\"type\":\"object\",\"name\":\"ColumnDataSource\",\"id\":\"1de0ed42-57d5-47af-8d99-b2f1f3be8e26\",\"attributes\":{\"selected\":{\"type\":\"object\",\"name\":\"Selection\",\"id\":\"62a6335b-74b1-4895-bef2-a259f00a1243\",\"attributes\":{\"indices\":[],\"line_indices\":[]}},\"selection_policy\":{\"type\":\"object\",\"name\":\"UnionRenderers\",\"id\":\"b34b5064-6916-4158-b389-f905053a3f91\"},\"data\":{\"type\":\"map\",\"entries\":[[\"x_start\",{\"type\":\"ndarray\",\"array\":{\"type\":\"bytes\",\"data\":\"H4sIAAEAAAAC/1u9CgSkHFaDaS2HKcke/rp3dR00jk+YF7VL2QEAG6HixiAAAAA=\"},\"shape\":[4],\"dtype\":\"float64\",\"order\":\"little\"}],[\"x_end\",{\"type\":\"ndarray\",\"array\":{\"type\":\"bytes\",\"data\":\"H4sIAAEAAAAC/8vwOHNbUkjaobPS2jnpnpbDrJJVXXe26jro3fh0k3OysgMAzVs9JiAAAAA=\"},\"shape\":[4],\"dtype\":\"float64\",\"order\":\"little\"}],[\"y_start\",{\"type\":\"ndarray\",\"array\":{\"type\":\"bytes\",\"data\":\"H4sIAAEAAAAC/7PJOMitY/DLXqwzt+pRHIvDyxynWQueCzvInv3rqPtM0gEAu3fxPiAAAAA=\"},\"shape\":[4],\"dtype\":\"float64\",\"order\":\"little\"}],[\"y_end\",{\"type\":\"ndarray\",\"array\":{\"type\":\"bytes\",\"data\":\"H4sIAAEAAAAC/2P92MT8LP6XvU6s2bGv9SwOzo/lmpv/CDvoRZ8/rMog5QAAiuL9tyAAAAA=\"},\"shape\":[4],\"dtype\":\"float64\",\"order\":\"little\"}]]}}},\"end\":{\"type\":\"object\",\"name\":\"VeeHead\",\"id\":\"9ff3cd79-4c49-4221-b4fd-fe44caa0ad21\",\"attributes\":{\"size\":{\"type\":\"value\",\"value\":10},\"line_color\":{\"type\":\"value\",\"value\":\"#d62728\"},\"fill_color\":{\"type\":\"value\",\"value\":\"#d62728\"}}},\"line_color\":{\"type\":\"value\",\"value\":\"#d62728\"}}},{\"type\":\"object\",\"name\":\"Arrow\",\"id\":\"5e793bf8-3c60-40dc-a399-f00e26ab4fe2\",\"attributes\":{\"source\":{\"type\":\"object\",\"name\":\"ColumnDataSource\",\"id\":\"35d934ce-6580-4172-b39b-749aa93d6baf\",\"attributes\":{\"selected\":{\"type\":\"object\",\"name\":\"Selection\",\"id\":\"26fe3499-42ad-4187-a04f-d6eaedfcfc03\",\"attributes\":{\"indices\":[],\"line_indices\":[]}},\"selection_policy\":{\"type\":\"object\",\"name\":\"UnionRenderers\",\"id\":\"71535697-2689-4716-af12-5433338092fb\"},\"data\":{\"type\":\"map\",\"entries\":[[\"x_start\",{\"type\":\"ndarray\",\"array\":{\"type\":\"bytes\",\"data\":\"H4sIAAEAAAAC/2NgAAGRA2CKQeWAuHtSdO1ZhQMFhSrbrl7/sx8AbfkXTyAAAAA=\"},\"shape\":[4],\"dtype\":\"float64\",\"order\":\"little\"}],[\"x_end\",{\"type\":\"ndarray\",\"array\":{\"type\":\"bytes\",\"data\":\"H4sIAAEAAAAC//Mzu5ky2VfkgPrsnE0n1VQO8JxhuuozS+GAyEyN5kC73/sBRS4djyAAAAA=\"},\"shape\":[4],\"dtype\":\"float64\",\"order\":\"little\"}],[\"y_start\",{\"type\":\"ndarray\",\"array\":{\"type\":\"bytes\",\"data\":\"H4sIAAEAAAAC/7P4vHpfs/N3e1Pb+RL9+QwOX+zdbn5fJuBwxIe7s/W6uAMA2g9idSAAAAA=\"},\"shape\":[4],\"dtype\":\"float64\",\"order\":\"little\"}],[\"y_end\",{\"type\":\"ndarray\",\"array\":{\"type\":\"bytes\",\"data\":\"H4sIAAEAAAAC/2u690FcOeW7vcUFM9kjLQwOSzoanXT2CzhkyqrOWPJd3AEAlXke2iAAAAA=\"},\"shape\":[4],\"dtype\":\"float64\",\"order\":\"little\"}]]}}},\"end\":{\"type\":\"object\",\"name\":\"VeeHead\",\"id\":\"ec2b71b4-d53a-4ae2-a542-85c889d04631\",\"attributes\":{\"size\":{\"type\":\"value\",\"value\":10},\"line_color\":{\"type\":\"value\",\"value\":\"#9467bd\"},\"fill_color\":{\"type\":\"value\",\"value\":\"#9467bd\"}}},\"line_color\":{\"type\":\"value\",\"value\":\"#9467bd\"}}},{\"type\":\"object\",\"name\":\"Label\",\"id\":\"b8871728-c169-4752-80d2-8a1366f5ed4e\",\"attributes\":{\"text\":\"4=4'\",\"text_align\":\"center\",\"text_baseline\":\"middle\",\"background_fill_color\":\"white\",\"background_fill_alpha\":0.8,\"x\":4.795958931693682,\"y\":8.352551913417367,\"y_offset\":15}}]}}],\"defs\":[{\"type\":\"model\",\"name\":\"ReactiveHTML1\"},{\"type\":\"model\",\"name\":\"FlexBox1\",\"properties\":[{\"name\":\"align_content\",\"kind\":\"Any\",\"default\":\"flex-start\"},{\"name\":\"align_items\",\"kind\":\"Any\",\"default\":\"flex-start\"},{\"name\":\"flex_direction\",\"kind\":\"Any\",\"default\":\"row\"},{\"name\":\"flex_wrap\",\"kind\":\"Any\",\"default\":\"wrap\"},{\"name\":\"gap\",\"kind\":\"Any\",\"default\":\"\"},{\"name\":\"justify_content\",\"kind\":\"Any\",\"default\":\"flex-start\"}]},{\"type\":\"model\",\"name\":\"FloatPanel1\",\"properties\":[{\"name\":\"config\",\"kind\":\"Any\",\"default\":{\"type\":\"map\"}},{\"name\":\"contained\",\"kind\":\"Any\",\"default\":true},{\"name\":\"position\",\"kind\":\"Any\",\"default\":\"right-top\"},{\"name\":\"offsetx\",\"kind\":\"Any\",\"default\":null},{\"name\":\"offsety\",\"kind\":\"Any\",\"default\":null},{\"name\":\"theme\",\"kind\":\"Any\",\"default\":\"primary\"},{\"name\":\"status\",\"kind\":\"Any\",\"default\":\"normalized\"}]},{\"type\":\"model\",\"name\":\"GridStack1\",\"properties\":[{\"name\":\"ncols\",\"kind\":\"Any\",\"default\":null},{\"name\":\"nrows\",\"kind\":\"Any\",\"default\":null},{\"name\":\"allow_resize\",\"kind\":\"Any\",\"default\":true},{\"name\":\"allow_drag\",\"kind\":\"Any\",\"default\":true},{\"name\":\"state\",\"kind\":\"Any\",\"default\":[]}]},{\"type\":\"model\",\"name\":\"drag1\",\"properties\":[{\"name\":\"slider_width\",\"kind\":\"Any\",\"default\":5},{\"name\":\"slider_color\",\"kind\":\"Any\",\"default\":\"black\"},{\"name\":\"start\",\"kind\":\"Any\",\"default\":0},{\"name\":\"end\",\"kind\":\"Any\",\"default\":100},{\"name\":\"value\",\"kind\":\"Any\",\"default\":50}]},{\"type\":\"model\",\"name\":\"click1\",\"properties\":[{\"name\":\"terminal_output\",\"kind\":\"Any\",\"default\":\"\"},{\"name\":\"debug_name\",\"kind\":\"Any\",\"default\":\"\"},{\"name\":\"clears\",\"kind\":\"Any\",\"default\":0}]},{\"type\":\"model\",\"name\":\"ReactiveESM1\",\"properties\":[{\"name\":\"esm_constants\",\"kind\":\"Any\",\"default\":{\"type\":\"map\"}}]},{\"type\":\"model\",\"name\":\"JSComponent1\",\"properties\":[{\"name\":\"esm_constants\",\"kind\":\"Any\",\"default\":{\"type\":\"map\"}}]},{\"type\":\"model\",\"name\":\"ReactComponent1\",\"properties\":[{\"name\":\"use_shadow_dom\",\"kind\":\"Any\",\"default\":true},{\"name\":\"esm_constants\",\"kind\":\"Any\",\"default\":{\"type\":\"map\"}}]},{\"type\":\"model\",\"name\":\"AnyWidgetComponent1\",\"properties\":[{\"name\":\"use_shadow_dom\",\"kind\":\"Any\",\"default\":true},{\"name\":\"esm_constants\",\"kind\":\"Any\",\"default\":{\"type\":\"map\"}}]},{\"type\":\"model\",\"name\":\"FastWrapper1\",\"properties\":[{\"name\":\"object\",\"kind\":\"Any\",\"default\":null},{\"name\":\"style\",\"kind\":\"Any\",\"default\":null}]},{\"type\":\"model\",\"name\":\"NotificationArea1\",\"properties\":[{\"name\":\"js_events\",\"kind\":\"Any\",\"default\":{\"type\":\"map\"}},{\"name\":\"max_notifications\",\"kind\":\"Any\",\"default\":5},{\"name\":\"notifications\",\"kind\":\"Any\",\"default\":[]},{\"name\":\"position\",\"kind\":\"Any\",\"default\":\"bottom-right\"},{\"name\":\"_clear\",\"kind\":\"Any\",\"default\":0},{\"name\":\"types\",\"kind\":\"Any\",\"default\":[{\"type\":\"map\",\"entries\":[[\"type\",\"warning\"],[\"background\",\"#ffc107\"],[\"icon\",{\"type\":\"map\",\"entries\":[[\"className\",\"fas fa-exclamation-triangle\"],[\"tagName\",\"i\"],[\"color\",\"white\"]]}]]},{\"type\":\"map\",\"entries\":[[\"type\",\"info\"],[\"background\",\"#007bff\"],[\"icon\",{\"type\":\"map\",\"entries\":[[\"className\",\"fas fa-info-circle\"],[\"tagName\",\"i\"],[\"color\",\"white\"]]}]]}]}]},{\"type\":\"model\",\"name\":\"Notification\",\"properties\":[{\"name\":\"background\",\"kind\":\"Any\",\"default\":null},{\"name\":\"duration\",\"kind\":\"Any\",\"default\":3000},{\"name\":\"icon\",\"kind\":\"Any\",\"default\":null},{\"name\":\"message\",\"kind\":\"Any\",\"default\":\"\"},{\"name\":\"notification_type\",\"kind\":\"Any\",\"default\":null},{\"name\":\"_rendered\",\"kind\":\"Any\",\"default\":false},{\"name\":\"_destroyed\",\"kind\":\"Any\",\"default\":false}]},{\"type\":\"model\",\"name\":\"TemplateActions1\",\"properties\":[{\"name\":\"open_modal\",\"kind\":\"Any\",\"default\":0},{\"name\":\"close_modal\",\"kind\":\"Any\",\"default\":0}]},{\"type\":\"model\",\"name\":\"BootstrapTemplateActions1\",\"properties\":[{\"name\":\"open_modal\",\"kind\":\"Any\",\"default\":0},{\"name\":\"close_modal\",\"kind\":\"Any\",\"default\":0}]},{\"type\":\"model\",\"name\":\"TemplateEditor1\",\"properties\":[{\"name\":\"layout\",\"kind\":\"Any\",\"default\":[]}]},{\"type\":\"model\",\"name\":\"MaterialTemplateActions1\",\"properties\":[{\"name\":\"open_modal\",\"kind\":\"Any\",\"default\":0},{\"name\":\"close_modal\",\"kind\":\"Any\",\"default\":0}]},{\"type\":\"model\",\"name\":\"request_value1\",\"properties\":[{\"name\":\"fill\",\"kind\":\"Any\",\"default\":\"none\"},{\"name\":\"_synced\",\"kind\":\"Any\",\"default\":null},{\"name\":\"_request_sync\",\"kind\":\"Any\",\"default\":0}]}]}};\n",
       "  const render_items = [{\"docid\":\"7f0f8ccd-e738-4140-ad55-be2e825546e9\",\"roots\":{\"8c93f8a8-d6bf-45f2-80f7-f2ec9d5ef259\":\"c354aafd-0341-48ff-998d-844561784d55\"},\"root_ids\":[\"8c93f8a8-d6bf-45f2-80f7-f2ec9d5ef259\"]}];\n",
       "  void root.Bokeh.embed.embed_items_notebook(docs_json, render_items);\n",
       "  }\n",
       "  if (root.Bokeh !== undefined) {\n",
       "    embed_document(root);\n",
       "  } else {\n",
       "    let attempts = 0;\n",
       "    const timer = setInterval(function(root) {\n",
       "      if (root.Bokeh !== undefined) {\n",
       "        clearInterval(timer);\n",
       "        embed_document(root);\n",
       "      } else {\n",
       "        attempts++;\n",
       "        if (attempts > 100) {\n",
       "          clearInterval(timer);\n",
       "          console.log(\"Bokeh: ERROR: Unable to run BokehJS code because BokehJS library is missing\");\n",
       "        }\n",
       "      }\n",
       "    }, 10, root)\n",
       "  }\n",
       "})(window);"
      ],
      "application/vnd.bokehjs_exec.v0+json": ""
     },
     "metadata": {
      "application/vnd.bokehjs_exec.v0+json": {
       "id": "8c93f8a8-d6bf-45f2-80f7-f2ec9d5ef259"
      }
     },
     "output_type": "display_data"
    }
   ],
   "source": [
    "d = PressureDeflectionDiagram()\n",
    "d.add_locus(l1)\n",
    "d.add_locus(l2)\n",
    "d.add_locus(l3)\n",
    "d.add_path((l1, theta2), (l2, phi))\n",
    "d.add_path((l1, theta3), (l3, phi))\n",
    "d.add_state(\n",
    "    phi, p4_p1, \"4=4'\",\n",
    "    background_fill_color=\"white\",\n",
    "    background_fill_alpha=0.8)\n",
    "d.move_legend_outside()\n",
    "d.y_range = (0, 18)\n",
    "d.show_figure()"
   ]
  },
  {
   "cell_type": "markdown",
   "id": "10b8153a-4380-4436-bab3-d323db2832c8",
   "metadata": {},
   "source": [
    "## P 4.10"
   ]
  },
  {
   "cell_type": "markdown",
   "id": "eaf740cd-5611-4743-ae1a-793c1203d5ac",
   "metadata": {},
   "source": [
    "![Figure 4.32 from book](data:image/png;base64,iVBORw0KGgoAAAANSUhEUgAAAdkAAAEvCAYAAAAJjLsGAAAAx3pUWHRSYXcgcHJvZmlsZSB0eXBlIGV4aWYAAHjabVDbDcMgDPxnio7gBw97HNIQqRt0/BrsSEnbkzgbHxzGabxfR3pMEOaUS5OqtYIha1bqlgg4+mKEvHhh18jwXk90REoW2SK7INUjnvW4cEbslpWLkTxD2O6CZo8kX0bxEM+OaLYYRhpGTC5gGHT/FlSVdv3CNuAO8ZUmbeG6OoLffW42vb3YO0w0GBmMmcUb4LlK4j4FY7JDs0SWAzfjwhqd2ED+zelE+gDhsVpD9zDUHwAAAYNpQ0NQSUNDIHByb2ZpbGUAAHicfZE9SMNAHMVfU6VSKg4GEXHIUJ3aRUUcaxWKUCHUCq06mFz6BU0sSYqLo+BacPBjserg4qyrg6sgCH6AuAtOii5S4v+SQosYD4778e7e4+4dIDSrTLd6EoBu2GYmlZRy+RUp9IowhiAihJjCrNqsLKfhO77uEeDrXZxn+Z/7c/RrBYsBAYk4wWqmTbxOPL1p1zjvE4usrGjE58Qxky5I/Mh11eM3ziWXBZ4pmtnMHLFILJW6WO1iVjZ14iniqKYblC/kPNY4b3HWq3XWvid/YaRgLC9xneYoUljAImRIUFFHBVXYiNNqkGIhQ/tJH/+I65fJpZKrAkaOeWxAh+L6wf/gd7dWcXLCS4okgd4Xx/kYA0K7QKvhON/HjtM6AYLPwJXR8W80gZlP0hsdLXoEDGwDF9cdTd0DLneA4aeaYiquFKQpFIvA+xl9Ux4YvAXCq15v7X2cPgBZ6ip9AxwcAuMlyl7zeXdfd2//nmn39wOhr3K5sR4fnwAADXhpVFh0WE1MOmNvbS5hZG9iZS54bXAAAAAAADw/eHBhY2tldCBiZWdpbj0i77u/IiBpZD0iVzVNME1wQ2VoaUh6cmVTek5UY3prYzlkIj8+Cjx4OnhtcG1ldGEgeG1sbnM6eD0iYWRvYmU6bnM6bWV0YS8iIHg6eG1wdGs9IlhNUCBDb3JlIDQuNC4wLUV4aXYyIj4KIDxyZGY6UkRGIHhtbG5zOnJkZj0iaHR0cDovL3d3dy53My5vcmcvMTk5OS8wMi8yMi1yZGYtc3ludGF4LW5zIyI+CiAgPHJkZjpEZXNjcmlwdGlvbiByZGY6YWJvdXQ9IiIKICAgIHhtbG5zOnhtcE1NPSJodHRwOi8vbnMuYWRvYmUuY29tL3hhcC8xLjAvbW0vIgogICAgeG1sbnM6c3RFdnQ9Imh0dHA6Ly9ucy5hZG9iZS5jb20veGFwLzEuMC9zVHlwZS9SZXNvdXJjZUV2ZW50IyIKICAgIHhtbG5zOmRjPSJodHRwOi8vcHVybC5vcmcvZGMvZWxlbWVudHMvMS4xLyIKICAgIHhtbG5zOkdJTVA9Imh0dHA6Ly93d3cuZ2ltcC5vcmcveG1wLyIKICAgIHhtbG5zOnRpZmY9Imh0dHA6Ly9ucy5hZG9iZS5jb20vdGlmZi8xLjAvIgogICAgeG1sbnM6eG1wPSJodHRwOi8vbnMuYWRvYmUuY29tL3hhcC8xLjAvIgogICB4bXBNTTpEb2N1bWVudElEPSJnaW1wOmRvY2lkOmdpbXA6OTI3OGQxMzMtNjNjYi00OGJkLWIyY2MtNDU2MTE1ZWI3ODBhIgogICB4bXBNTTpJbnN0YW5jZUlEPSJ4bXAuaWlkOmVhMDY4NDM3LTkwMDgtNGMxZi1hYzcyLTdjZDQ5NDEyNzIxNyIKICAgeG1wTU06T3JpZ2luYWxEb2N1bWVudElEPSJ4bXAuZGlkOmM0ZWQ5YzgyLThhMzItNGRhMi04ZjliLWFkNjg1MDA1M2Y3YyIKICAgZGM6Rm9ybWF0PSJpbWFnZS9wbmciCiAgIEdJTVA6QVBJPSIyLjAiCiAgIEdJTVA6UGxhdGZvcm09IkxpbnV4IgogICBHSU1QOlRpbWVTdGFtcD0iMTc2MTE2MzY3OTM2NTA3MSIKICAgR0lNUDpWZXJzaW9uPSIyLjEwLjM4IgogICB0aWZmOk9yaWVudGF0aW9uPSIxIgogICB4bXA6Q3JlYXRvclRvb2w9IkdJTVAgMi4xMCIKICAgeG1wOk1ldGFkYXRhRGF0ZT0iMjAyNToxMDoyMlQyMjowNzo1OSswMjowMCIKICAgeG1wOk1vZGlmeURhdGU9IjIwMjU6MTA6MjJUMjI6MDc6NTkrMDI6MDAiPgogICA8eG1wTU06SGlzdG9yeT4KICAgIDxyZGY6U2VxPgogICAgIDxyZGY6bGkKICAgICAgc3RFdnQ6YWN0aW9uPSJzYXZlZCIKICAgICAgc3RFdnQ6Y2hhbmdlZD0iLyIKICAgICAgc3RFdnQ6aW5zdGFuY2VJRD0ieG1wLmlpZDphOTJjNWU2OC0xMjdkLTRkODItYmI3OC1mYTI4MDE5OGEwMDkiCiAgICAgIHN0RXZ0OnNvZnR3YXJlQWdlbnQ9IkdpbXAgMi4xMCAoTGludXgpIgogICAgICBzdEV2dDp3aGVuPSIyMDI1LTEwLTIyVDIyOjA3OjU5KzAyOjAwIi8+CiAgICA8L3JkZjpTZXE+CiAgIDwveG1wTU06SGlzdG9yeT4KICA8L3JkZjpEZXNjcmlwdGlvbj4KIDwvcmRmOlJERj4KPC94OnhtcG1ldGE+CiAgICAgICAgICAgICAgICAgICAgICAgICAgICAgICAgICAgICAgICAgICAgICAgICAgICAgICAgICAgICAgICAgICAgICAgICAgICAgICAgICAgICAgICAgICAgICAgICAgICAKICAgICAgICAgICAgICAgICAgICAgICAgICAgICAgICAgICAgICAgICAgICAgICAgICAgICAgICAgICAgICAgICAgICAgICAgICAgICAgICAgICAgICAgICAgICAgICAgICAgIAogICAgICAgICAgICAgICAgICAgICAgICAgICAgICAgICAgICAgICAgICAgICAgICAgICAgICAgICAgICAgICAgICAgICAgICAgICAgICAgICAgICAgICAgICAgICAgICAgICAgCiAgICAgICAgICAgICAgICAgICAgICAgICAgICAgICAgICAgICAgICAgICAgICAgICAgICAgICAgICAgICAgICAgICAgICAgICAgICAgICAgICAgICAgICAgICAgICAgICAgICAKICAgICAgICAgICAgICAgICAgICAgICAgICAgICAgICAgICAgICAgICAgICAgICAgICAgICAgICAgICAgICAgICAgICAgICAgICAgICAgICAgICAgICAgICAgICAgICAgICAgIAogICAgICAgICAgICAgICAgICAgICAgICAgICAgICAgICAgICAgICAgICAgICAgICAgICAgICAgICAgICAgICAgICAgICAgICAgICAgICAgICAgICAgICAgICAgICAgICAgICAgCiAgICAgICAgICAgICAgICAgICAgICAgICAgICAgICAgICAgICAgICAgICAgICAgICAgICAgICAgICAgICAgICAgICAgICAgICAgICAgICAgICAgICAgICAgICAgICAgICAgICAKICAgICAgICAgICAgICAgICAgICAgICAgICAgICAgICAgICAgICAgICAgICAgICAgICAgICAgICAgICAgICAgICAgICAgICAgICAgICAgICAgICAgICAgICAgICAgICAgICAgIAogICAgICAgICAgICAgICAgICAgICAgICAgICAgICAgICAgICAgICAgICAgICAgICAgICAgICAgICAgICAgICAgICAgICAgICAgICAgICAgICAgICAgICAgICAgICAgICAgICAgCiAgICAgICAgICAgICAgICAgICAgICAgICAgICAgICAgICAgICAgICAgICAgICAgICAgICAgICAgICAgICAgICAgICAgICAgICAgICAgICAgICAgICAgICAgICAgICAgICAgICAKICAgICAgICAgICAgICAgICAgICAgICAgICAgICAgICAgICAgICAgICAgICAgICAgICAgICAgICAgICAgICAgICAgICAgICAgICAgICAgICAgICAgICAgICAgICAgICAgICAgIAogICAgICAgICAgICAgICAgICAgICAgICAgICAgICAgICAgICAgICAgICAgICAgICAgICAgICAgICAgICAgICAgICAgICAgICAgICAgICAgICAgICAgICAgICAgICAgICAgICAgCiAgICAgICAgICAgICAgICAgICAgICAgICAgICAgICAgICAgICAgICAgICAgICAgICAgICAgICAgICAgICAgICAgICAgICAgICAgICAgICAgICAgICAgICAgICAgICAgICAgICAKICAgICAgICAgICAgICAgICAgICAgICAgICAgICAgICAgICAgICAgICAgICAgICAgICAgICAgICAgICAgICAgICAgICAgICAgICAgICAgICAgICAgICAgICAgICAgICAgICAgIAogICAgICAgICAgICAgICAgICAgICAgICAgICAgICAgICAgICAgICAgICAgICAgICAgICAgICAgICAgICAgICAgICAgICAgICAgICAgICAgICAgICAgICAgICAgICAgICAgICAgCiAgICAgICAgICAgICAgICAgICAgICAgICAgICAgICAgICAgICAgICAgICAgICAgICAgICAgICAgICAgICAgICAgICAgICAgICAgICAgICAgICAgICAgICAgICAgICAgICAgICAKICAgICAgICAgICAgICAgICAgICAgICAgICAgICAgICAgICAgICAgICAgICAgICAgICAgICAgICAgICAgICAgICAgICAgICAgICAgICAgICAgICAgICAgICAgICAgICAgICAgIAogICAgICAgICAgICAgICAgICAgICAgICAgICAgICAgICAgICAgICAgICAgICAgICAgICAgICAgICAgICAgICAgICAgICAgICAgICAgICAgICAgICAgICAgICAgICAgICAgICAgCiAgICAgICAgICAgICAgICAgICAgICAgICAgICAgICAgICAgICAgICAgICAgICAgICAgICAgICAgICAgICAgICAgICAgICAgICAgICAgICAgICAgICAgICAgICAgICAgICAgICAKICAgICAgICAgICAgICAgICAgICAgICAgICAgICAgICAgICAgICAgICAgICAgICAgICAgICAgICAgICAgICAgICAgICAgICAgICAgICAgICAgICAgICAgICAgICAgICAgICAgIAogICAgICAgICAgICAgICAgICAgICAgICAgICAKPD94cGFja2V0IGVuZD0idyI/PiF0ougAAAAGYktHRAAAAKsA/wFs5nMAAAAJcEhZcwAADsQAAA7EAZUrDhsAAAAHdElNRQfpChYUBzsnOIRHAAAgAElEQVR42uzdeVxN2/8/8FdFowYk6RpSGeoaIhSZClE0CYlMV3RluGZXAxpcQ2YylFkIRQqZkopSilBSMiYilQY0v39/+N3zvX0y0+j9fDzOw6N91t7OXnud895r7TUIlZWVERirBkQEISEhzgjGWJ0lzFnAGGOMcZBljDHGOMgyxhhjjIMsY4wxVmnqcccTVp24/DHGuCbLGKs1SkpKOBMYqykVCSLiITy/kJSUFOTk5CAjIwOJiYmQkpKClpYWFBQU0KJFiyr9LDyEp3KYmppi/PjxsLCw4MxgjIMsqwpnzpxBYGAgfHx88ObNmwrvKyoqQktLC4sWLUKfPn04yNZSkZGR0NPTg7q6Om7evMkZwlg1q8cxtm7LysqCoaEh7t27hyFDhmDLli0YNmxYhXQHDx7EgwcPMGLECGhra8PHxwcSEhKVHmTZz5OTkwMbGxsUFhZi1qxZnL+M1YSaLM/4VHf5+fnBxcUFnTp1wty5c9GlS5cv7pOWlgYDAwO0bdsWK1asQPv27bkmW0s4Ojrin3/+wYwZM7Bp0ybOEMY4yLLKcvLkSVhbW8Pd3R1//vnnN+377NkzDBo0CE2aNMHly5chLFw5/eM4yP48CQkJ0NLSgpKSEqKjoyEvL8+ZwhgHWVYZsrKy0LJlS2zYsAE2NjbffZx+/fpBQUEBx44d4yBbg71//x49evRAcnIyzp8/j379+nGmMMZBllUWIyMjdOjQAatXr/6h47x48QJqamoIDw9H165dOcjWUIcOHYK1tTX09fVx8eJFzhDGOMiyyhISEgJTU1OkpaVBWlr6k+lyc3Ph7e2NyZMnQ0xM7JPp/vrrL6SlpeHo0aM/vdmYg+yPe/36NZo3bw5hYWGkpqaicePGnCmM1SA841Md4+XlBSsrK8jIyHwyTUlJCWxsbODr6wtra2uIi4t/Mu2/HaYyMjKgqKj48+/yuPz9EFdXVxQVFeHQoUP8HJYxrsmyypSTk4NWrVrhxIkT0NPT+2za2NhYdO/eHdnZ2ZCVlf1s2gEDBmDYsGGYM2cO12RrkMuXL8PAwADt2rXD9evXP3uzxBjjmiz7QWVlZZCXl0enTp2+GLz+fV9ISOiLae3s7BASElIpAZHL3/fJyMjAhAkT0LhxY/j6+lb6mGbG2PfhuYvrmGbNmlVKs6GPjw9nbg1y48YNpKamwtnZuVLHMjPGfrAmy7PC1B1EJHh9Tdr/7vOzjvutn5d9u8LCQlhaWqJjx46wtLTkfGSMa7KsquTm5uLt27c//bgGBgacuTXE+PHjUVhYCE9Pzy8+T2eMVXNNlp+J1R1CQkKIj49HSkoKNDU1v5j233+/VAaOHDkCdXV1fiZbAxw8eBCBgYEYNGgQdHR0OEMYq+lBlpua6o6GDRti1KhRCA8PR+fOnT+Zjojw+PFjAEBAQACsra0/mbaoqAjPnj3Dpk2buLm4mr1//x6urq4QFRXFkSNHOP8YqwW4ubiOMTMzQ2Bg4Gd/gIuLi+Ht7Q0zMzOEhoZ+9ngXLlxAamoq916tAVatWoWkpCQsWLCAh+swVkvwONk6pqioCDo6OvDw8EDPnj1/+Hg9e/aEiYkJFi9e/NM/K4+T/XrJycno3r07OnTogMuXL6N+/fqcKYzVAvxMto4RExPDsmXL4OTkBF9fXzRs2PC7j3X+/Hmkpqbijz/+qLRgyOXv62zcuBHv3r3DkiVLICoqyhnCGNdkWXXS1NREkyZN4O/vDykpqW/e/8WLFxgyZAgcHBwwatSoSvmMXJP9OkFBQbC0tESHDh0QERHBGcJYLcLPZOuo4OBg5Obm4u+///7mfdPS0qCvr4/mzZtXWoBlX8/JyQlEBF9fX84MxmpbTZa4i2Kd9fLlS5iZmUFWVhZz58794ljX3Nxc7Ny5Ezt37kTfvn3h7u7+2ZV8uCZb+U6fPo1hw4Zh586dmDx5MmcIY7UtyHJzcd2WmZmJIUOGIDk5GUZGRnB0dESrVq0qpDtw4ABcXV2Rk5ODXbt2YfTo0ZX+2TjIft6zZ8+gp6cHERERxMXFcY9ixmoh7vhUx8nLyyMmJganTp1CYGAgevfujZycnHJpZGRk0L59e4wbNw7z5s1D06ZNq+4uj8vfRxUXF2PVqlV48OAB7ty5w0OoGKutNVluLv61JCcnfzTItmvXrso/C9dkPy08PBx9+/aFvb093NzcOJ8Yq61BlpuLWXXhIPtx7969g6mpKR48eIDo6GhejJ2xWqweZwFjNcu2bdsQFhaGnTt3coBljGuyjHFN9mdJTEyElpYWdHV1ceHCBc4Qxmp7TZZ/5Fi13uVx+St307F06VKIi4vD2dmZ84axuhBkud8Tq86gwv7P8uXL4evrC3t7e/Tq1Yvzh7G6UJHg5mJWnUGWa2sfPHjwANra2lBRUUFkZCREREQ4UxirCzVZ/pFj1XqXx+UPhYWFcHZ2RlZWFmJiYlCvHvdHZKzOBFlukmLVWZNlQEhICLy9vTFu3DgoKytzvjBWlyoSPBkFq84g+6vXZLOzs2FkZITs7GxERkb+0NKEjLEaWJPlLGCs+mzcuBFxcXE4fPgwB1jG6mJNljs+Ma7JVo/o6Gj07t0bRkZG8Pf35wLBGAdZxjjI/gwlJSVo27Yt3r17h3PnzqFz585cIFilKS0tRVxcHLS0tDgzqhgv2s5YNfD29sbjx48xe/ZsDrCsUj169AiTJ09Gnz59EB8fzxnCQZaxui0xMRGzZ89Gx44dMXHiRM4QVimys7Mxbtw4qKqqYv/+/WjcuDESEhI4Y6oYd3xirIpt2rQJeXl5WLduHRQVFTlD2E9VVFSEHTt2wMPDA8nJyWjWrBlmzpyJSZMmVela0ewDfibLqs2v+EzW398fo0ePRu/evXHx4kUuBOynB1hra2v4+voCAJSUlHD27Fl06NCBM6e6arI84w6r1ru8X6z87dy5U1DT4O8e+5mio6MxZ84cREREQEZGBmPGjMHs2bPRrl07zpzqDLKcBYxVjaSkJNy8eRPNmzeHjIwMZwj7KdLS0jBmzBjEx8cjKysLYmJiOHLkCIYMGcKZUxOCLE/4xKrLr1b23N3dkZGRAXd3dzRp0oSnT2Q/JC8vD/7+/nB1dUVKSgoUFBSwfft22NjYQFhYmMtXDcHTKrJqDbJ1ock0ODgYenp6EBb+dGf9oKAgjB49GpqamggNDeWLz37IxYsXMWfOHMGQnAEDBmD37t1o2bIlZ05NC7Lc8YlxkP0+p06dgq2tLTIyMrB161ZMmDAB9erVq3BOxcXF0NHRQXx8PFJTU6GgoMAXn33X9yU+Ph5ubm44ffo03r17B0VFRTg5OWHKlCm8elMNxeNkGftOK1euhJOTE2RkZKCrq4tr167Bx8enQrpdu3bh5s2bmD17NgdY9l0yMjJgZWWFzp0749ixY1BUVIS7uzsePXqEadOmcYDlmixjda8m269fP4wZMwZpaWlwcXERbPtvc3Bqaiq6dOkCRUVFREdHQ1JSki88+2qlpaVYvXo1duzYgadPnwIAXF1d8eeff6Jx48acQbUA3/7UMrm5uT/UM/XFixdISkpC//79OTN/kKqqKqZPn46AgAA8ePAAwcHBePz4seD9kpISTJw4EXl5eQgJCeEAy75aSUkJwsLCMHr0aLx+/RoNGjTAmDFj4OjoiPbt23MGcZBlADBq1Ci0atUKwIeepf/Kzs6Gp6cnkpKSsHv37q8+3oMHD2BiYoKWLVti2rRpMDEx+abP8/LlS3Tu3Bnjx4/nIPsDAgMDoaSkhB07dqBhw4awsrJCXl4eAGDHjh2CdGFhYQgJCcGiRYvQsWNHzjj2VVJTUzFp0iRcunQJADBw4ECsXbuWy1Atxc3Flej27dvQ1NQU3Jn+2/t08uTJ2LNnDwIDAzF06NBvqsVGREQgOTkZgYGBSE1NhaqqKhwdHdGlSxeIi4t/dv/S0lIYGBigS5cuWLNmTbXnT21sLv7rr7/g6emJ+vXrw8TEBF5eXsjJyUFxcTGADzPsiIiI4Pbt2+jfvz8UFRVx9epVXiuWfdGbN2/g6uqKffv2ITs7G+rq6nBycsKwYcMgJSXFGVRbEas0Bw8eJH19fQJApaWlRER09+5dAkAAqLCw8IeO/+LFC9q7dy917NiRWrZsSRs3bqSEhITP7jNx4kSaN29ejcifsrKyWndN27dvT4mJiXT27FlSU1MjBQUFOn36NC1atKhcutGjR5OYmBhduXKFvwjssx4/fkwODg4kKSlJAEheXp58fHw4Y+oI7l1cicLCwjB9+nTB348fP4abmxsMDAxgamr6wz0CFRUVMWHCBJw/fx7q6ur466+/MHXq1C/WHtn3WbhwIR4/foz27dtj8ODBuHz5MiwtLTF06FCIiIgI0h09ehQBAQHQ19eHrq4uZxz7pJMnT6Jnz55Yvnw5ioqKsHDhQkRHR8PS0pIzp47gGZ8qybt37xATEyP4shQXF8PDwwPGxsawtraGp6cnhISEvjvo5eTkICEhAf7+/tixYwe6deuG+fPno0ePHigqKkL9+vU/up+amhqys7NrRLCtTWXv5cuXOHDgACQlJdG8eXMcOXIEOjo6WL9+PTp37gxra2sQETIyMrBs2TIICwvjyJEjfFPDPsrf3x/Ozs64ffs2RERE0L9/fxw5cgRNmjThm+G6FmR5kvLKcerUKRgbGwueOW7cuBElJSUwMDBAaWkpunbtWu555K1bt9CqVSvIycl99rjx8fEIDg6Gh4cHMjMzMXnyZEybNg1v3rzB5s2boaenBwMDA4iKin50/65du+LSpUs15lloTS1/GRkZmD17NsaNG4chQ4ZATk4ON27cQEFBAcaPH4/evXvj77//hoqKCqZMmSLYz8nJCYmJiVi2bBmkpaX5i8DKSUhIwKZNm7Bv3z4UFhZCV1cXzs7OGDBgAGcO12TZt9i/fz+mTp0quCP19PREUFAQDhw4gK5du0JdXV3w3o4dO7BgwQIEBweje/funzxmbGwsBg8eDEVFRSgqKkJLSwu+vr4oKCjAmDFjsHfvXkEniU9dVyJCSUkJ12S/QEpKChoaGujVqxcSExMREhKCyZMnQ1RUFMHBwQgNDYWFhQUmTJggOI+UlBT4+PigefPmmDx5MtdGmMDjx4/h7OyM48ePIy8vDzIyMnBzc8PMmTMhKirKZaUO42eylaCgoADPnz9Hr169IC0tDXFxcSxfvhxqamrIzc2FmJhYuZpmz5490bFjR2RkZHz2uBISEti8eTMUFBSQkpKC5ORk2NnZIS0tDe7u7rC0tPxsL8S0tDT4+/tj27ZtyMzM5Av1hby2t7eHtLQ01q1bh2XLlkFZWRnBwcGoX78+Bg4ciC1btmDOnDmCfTZv3oz8/Hzs2LEDv/32G2ciA/BheUN9fX3s27cPRUVFcHZ2xosXLzBv3rxPtjixOoT7fv1cpaWlZGVlRQDoypUr9OzZM7Kzs6OysjLatm0bNW/enNTU1CgiIqLcfuPGjaOJEyd+9tgJCQlkbGxMfn5+lJqa+s2f7c6dO2RtbU3W1tYUEhLCvYs/QV9fn5ydnSknJ4devXpF69ato4cPH9LUqVMJABkaGtLSpUspMzNTsM/58+dJRkaGunXrxl8CRkREkZGRZG5uTvXq1SMANGzYMLp58yZnzC+Gx8lWgsDAQCQkJGDatGmQlZVFcXEx6tevj3fv3iEuLg7y8vKCDjT/Gj9+PGRlZbF58+ZPHreoqAhCQkKf7NRUC2/watwz2aSkJBgZGSEvLw9t27aFq6sr9PT0AHwYZ3zt2jXMnz8fwIfVdyQlJfH27VtBh5V79+7xSigMa9asgYODA4qLi2FqaoolS5agc+fOn12pidVNPONTJTA2NoaxsbHg73+DoqSkJHr16vXJ/fT19T97XG5aqnzt2rXDgwcPkJGRATs7O5ibm2PKlClQVlbG9OnToauriz59+sDa2lowTeKKFStQUFCA7du3c4D9xaWkpMDDwwM7d+6Empoa+vfvj/Xr1/N39xfGNdkaoKysDBMmTICIiAh27979y9zt1oYZn7y8vODm5ob09HTo6upCRUUF3bp1w59//gngw3PuHj16QEJCArdv3+b5iX9RpaWlWL58OTZu3Ijs7GxMnDgR69evh6ysLGfOrx5kedH26jdnzhzBPKWzZ8/GpEmTOMjWMNevX4etrS1kZWUREhIC4MNUmQsXLsT69esRFxeHzp07c2H+xeTm5uLEiRNYsWIFkpKSBBPE/P33318cjsc4yDLGQfY/LCwsYGdnJxjTGBERAV1dXZiYmMDf3x885vzXkp+fj1GjRiEoKAjAh4n8t2/fDlVVVc4c9n9BlpuL2de4cuUKRo8eDRMTE6iqqsLa2hpCQkI/tAh5bQuy+fn5kJSUhLCwMAoLC6GmpoZ69eohLCwMLVq04ELyi0hOToaDgwMuXryInJwcDBw4EEuXLoW2tjYvns64Jsu+X1RUFObOnYuIiAgAQL169QTL7U2dOhWKiorf1GRaE4NsTEwMNDU1v/hjuX79esydOxdubm5wcHDgwvGL2Lx5M9asWYOnT59CVVUV06ZNg62tLRo0aMCZw7gm+zP9yL3J/85Z/LG/K+v//lppaWmQkJBAo0aNBNvi4+PRvHlzKCgooLS0tMI+UlJSghqdhYUFFBUVYWhoiNatW3/0nGpakD18+DBsbGygrq6Oo0ePQkVF5aPpUlJSoKmpCS0tLQQGBkJGRoa/EHXclStX4OrqipCQEDRu3BiOjo6wsrIq9/1gjIPsDxg6dChiYmIwYsQI5OXlwdvb+7uOIyYmhhYtWiAlJUWw7ffff0dCQoLgbyMjI8Fi7/Hx8ejQoYPgvdDQUNy9e7d2FTIhIfz555/lzmX69OlQV1ev1iC7a9cu7N69GytXroSWlhbU1dXh7e0NLy8vnDx5Eg4ODhg3bhxKS0vLjWm2srJCUFAQAgIC0LdvX/5y1GFpaWmYPXs2/Pz80KBBA5iZmcHR0RFt27blzGFfXSNjX6FFixaCdWD59f0vDQ0NGjFiBHl5eVX7jE87d+4kAwMDatSoEU2bNo20tLQE750+fZo6d+5MSkpK5ODgINju5+dHACqsH8vqltTUVFq4cCEpKCgQAOrcuTOdOnWKM4bxjE+VpV27drh//z4AQFhYGCIiIiguLq7yzyElJQUJCYlqzYvXr19/VbpGjRoJxvz269cPjo6OaNOmjWAsaXU3FxcUFKB+/frYv38/XF1d8ezZM6xZswYzZ86EkJAQcnNzoa2tjXPnzqFly5YoLi5Gt27d8ObNG4SGhkJZWZm/GDVEYWEhjhw5ggULFmDy5MlYunQpxMTEvqtMnDlzBkuWLMHdu3chLS2NcePGYeXKlfzclXFzcWW6d+8ebt++DeDDzE1ycnJ4/vx5lX8OLS2tah0ikJ6ejhYtWnz0mWzDhg3RsWNHyMvLY9SoUTA3N//sFJA16ZlsaWkppk+fjsOHD8PMzAzz589H48aNoaSkJEjj7e2N8ePH4/jx4zAzM+MvRQ3i4uKC9+/fo6ysDO7u7tizZw8mTJjwTcdITEzEX3/9hYsXLwoeaSxYsIBn8WIcZFnVuHjxIubNm4c7d+7g999/R5cuXSAlJYWRI0dCQUEB0tLSgmfJX/mootqDbGRkJA4ePIgVK1ZAWloaZ86cgaOjI1JSUmBnZ4eVK1cKau9qampo0aIF7ty5w4WhhunSpQvWr1+PJUuWQE1NDevWrfvqySAePHiAf/75B35+fsjNzYWuri4cHBwwcOBAHpLDOMiyqlFYWAgvLy8QEXr37g1NTc0fDpDVHWTPnj2LyZMnQ0ZGBhcvXkTjxo3x5s0biImJoW/fvggMDBQ0Cevp6SE6Ohq3b9/myQaq0OPHjz/aLL9z5064ubnB3t4eU6dOhb6+PhISEhAVFQVlZWUUFBRg69atmDt37ieP/ebNGxw9ehSurq5IS0uDkpISpkyZgiVLlvDEIoyDLKv9qjvIamlpwcfHB23atAEA5OXlwdTUFH5+fnjy5Ak0NTUBAM+ePYO6ujpGjx4NLy8vvnBV5MaNG+jbty98fHwwbNgwAIC/vz9CQ0MREhICVVVVhIaGIi4uDvfu3YO5uTl27dqFUaNGwcfHB2fPnsXevXs/euyoqCj89ddfiI6OBvBhyJmHh8cPTa7CGAdZxkH2P2xtbTFq1CjBNIkAoK2tjQsXLgjGvpaWlsLAwAD3799HcnIyxMXF+cJVsvz8fEhJSaG4uBiXL19G7969ISkpiffv32PAgAG4du0arl69ip49e2LEiBHIysrChQsXMHjwYERHR0NaWhpycnI4ceJEhaE2+fn5mDhxIk6fPo3CwkKYmprC0dERXbp04WXoWKX90LFa5Pnz53XmXKp7CM/9+/dJTk6ODh48SCkpKXT8+HFq3Lgx5eTkCNKcOXOGAJCnpycXvioQERFB8vLydPfuXUEZWb58OV26dImIiNLT0+m3336joKAgIiLKysoiAHT69GkiIgoODiZvb2968OBBueOWlpaSq6srycvLEwBq164deXh4cIazSsdBtobz9/cnT09PevToEfn4+FDz5s3pwIEDHGR/Eg8PD2revLngx3fBggVUUlJCRERxcXHUuHFjUlFRofz8fC6MVWDv3r3Uv39/srKyIiKiW7duEQDq1q0bvXv3joiIRo4cSbq6ukREVFxcTEOGDKFGjRp98ntx9uxZ6t27NwEgVVVV8vLyouzsbM5sxkGWER06dIjExMRIWlqalixZQj179iRLS0sOst8pPDycGjZsSEZGRhQREUGlpaVUVFREnp6eFBcXR6WlpYK0w4cPJ1FRUfLy8uKCWMU3ltLS0nTr1i0qKSmhtLQ0UlFRoT179hARUUlJCcnJydGBAwfo9evXtHLlSgoKChLcHP3r/PnzpK2tTUJCQgSAbGxs6OnTp5zBjIMs+z+pqakkISFBGzduJCIiW1vbCkH236Y0DrKfl5eXR4MHD6ZDhw7Rb7/9RgBo+PDhdOvWLYqPjy+X9tixYyQpKUmmpqZcCKuBtbU1DRs2jHJzc4mIaPXq1SQjI0PPnj0jIqIZM2YQgI/eACUnJ9OsWbNIRkaGAFCPHj3o2LFjnKmsWnDHpxrO29sb9vb2SEpKgoSEBCZPnox27dph4cKFSE1Nhb29PWJjY2vdfMZV1fHpxo0b6Nq1K4APS5QNHz4cYWFhmDt3LjQ1NeHg4AARERHY2trC3d1d0MtYR0cHjx8/xqtXryAlJcUFsYqlpKRAXV0du3btwvjx4/H+/XuoqKhgwIABGD9+PK5fvw59fX1oa2sLOiwVFhZi7dq1cHd3R05ODrp06YKlS5fCwMCAO6yxasPd6Wq44OBg/Pnnn5CQkMDz589x+/ZtTJw4EQAgKioKAwMDzqRPOH36NM6dOyf4W1FREU2bNsWBAwegoaGBqVOnYuvWrejZsydGjx4tSLd161YkJibCycmJA+xPFBoailmzZiEnJ+eLadXU1DB58mRMmjQJr169goSEBNTU1BAdHY2SkhI4ODigZ8+eEBYWRn5+Pvbu3YuuXbvC0dERkpKSGDZsGM6fPw8TExMOsKxacU22huvZsyfatGmDlStXwsjICBs2bED//v3LpdHQ0OCa7Efo6ekhOTkZixYtwqxZswB8mIBASkoKf/zxB1RVVREVFYWZM2fCyMgIwIfZfzp27IjOnTvj8uXL3zX/Lfu4rVu3YtasWTh16hQGDhyISZMmISkpCTt27ECXLl0qpM/Ly0OnTp1ARBgzZgw0NDQwdOhQNGzYUJDm9u3bcHJyQmBgIABg0KBB2LhxI9q3b88ZzmoEnjOsBouLi8Pdu3ehoKCACRMmYPXq1RUCLPu0QYMGITw8HHPnzoW3tzecnZ1haGgoCMCurq6QkZGBuro6AKCoqAijR4+GmJgY9uzZwwH2J7Ozs0OjRo0wZ84cGBoaQkxMDJ06dcLw4cNx9+7dCgtfSEtLQ0FBASNHjoSFhQVat24teO/hw4fYvn07vLy8UFBQAENDQzg6OpZrPmaMa7Lss/z9/eHr6/vFtWu5JvtpPXr0wIMHD1BcXIyysjJMmjQJM2fO/Oh6oMePH8eIESPwzz//4O+//+YCWAnevXuHvn374t69e8jPzwfwYT1lOzs7TJ8+vUL6J0+elJsPOysrC7t27cLWrVvx5MkTqKqqwtHR8ZsXA2CsqvAtXw0WFBSEs2fPfnIqv7KyMhQUFCArK6vcIvDs/wQEBEBbWxshISEYO3Ystm3bhj59+mDt2rXYsGGDIN2/MwFpaGhgzpw5nHE/0dWrV7F27VqsXbsWYmJimD9/PkpLS5GQkAAAcHR0xJYtW5CZmVlhdad/A2xpaSnCwsJgZmaGRYsW4fnz51i8eDGio6M5wLIaX5tgNVRGRga9fPnyk+9fv36dunbtKni9evXqlx/Ck5KSQjExMeW2HTx4kDQ1Nam4uJiCgoKoTZs2JCUlJZhViIho8ODBJCkpSUeOHOGC9xPFxMSQnZ0dubm5UdeuXamwsJCIiLp27Urjxo0TDK3q1KkTtW/f/qNDch4/fkxjxowhANSgQQMaP348JSQkcOYyHifLWFUG2devX1OjRo0IAGlra5O2tjbNmDGD9u/fT4aGhrRs2TIiIlq+fDmtXr1asN+uXbtIVFRUMMsQ+3nGjBlDaWlpFbYfP36cpKSkyN3dnTIzM2nmzJnk7u5e4abSxcWFFBQUCACNGDGCTp48yZnKOMgyVh1B1tPTk/755x9q3bo1ASB5eXlq1qwZASAAJCwsTI6OjnTt2jVBjSozM5NUVFRIXl5esI192cuXL2n79u3ltr19+5aWLVtGmzZtoqKiIiIiMjExob179wrSPHjwgEaOHEmlpaVkYmJCCgoKdO3atQrHf/PmDTk5OZGwsDB16tSJjh49Wm42LsZqC34my+qMKVOmYPHixfFELncAACAASURBVLh48SKmTp2Ktm3bIiAgAP7+/vD398egQYMQFRUFFRUViIqKAgBWrVqFhw8f4siRI4Jt7PMyMjKgo6ODyMhIvHz5UrDdzs4OrVu3RkREBObOnQsiwoIFC7B+/XqcP38eubm5ICI8ffoUOTk56NWrF+7duwdtbe1yxw8NDUX37t3h6uoKW1tb3Lp1CyNHjuRew6xW4t7FrDr7A1Ra7+KioiKEhIQgLCwMeXl5MDY2Rv/+/VGvXj3B/0lEkJSUhI6ODi5cuIB69XhE29fS1dVFZGQklixZgmXLlgEA+vXrB3NzcwwbNgw6OjqYOHEi1qxZgwsXLmD27NnIz8+HsLAwzMzM4O7uXiG/CwsL4erqil27diEjIwNDhw6Fl5cXr/HKOMgyVtOC7H9dunQJc+fOxb1793D58mXo6OgAAMaPHw9vb2+sXr0a8+fP5wvyCffv34ecnByaNGki2Obg4IAVK1ZASUkJMTExUFRUxKlTp6CgoIDY2FjUq1cPixYtQkBAANTV1VFSUoKAgAAAgKGhIZo3by441osXL7B3716sXLkSeXl5UFNTw4EDByrUcBmrjUSWLl26jLOBVdtdXhUE2datW0NISAglJSVYuHAhACAhIQHz589Hz549sWrVqgoTITCgpKQEtra2mDVrFg4ePAg5OTloamoCANLT0yEhIYGnT5/i0aNHMDU1Rdu2bfHkyROkpqbCzs4OMTExWLlyJYSFhTF06FBoaWlBS0sLMjIygv/j/PnzMDc3x/Hjx9G6dWv8888/2Lx5M1RUVPgCMK7Jsqrx6tUrlJWVAQAyMzMRGxsLAwMDiIqKolGjRr90TXb79u24ceMG3N3dISsr+8l0hYWFAAAxMTEUFhaiT58+SEhIwLlz59C7d28uZJ+QnZ0NNzc3bNiwASIiItixYwcmTZqE+Ph4+Pv7Q0pKCosWLcLVq1fRvXt3uLu7Y+fOnbC0tERiYiI6d+6MP//8E/Ly8uWuxaVLl+Dm5obo6GgoKyvDyckJI0eO5JsdxkGWVa2wsDAMHToUbdq0QUZGBt68eYMVK1bg4cOHuHHjBi5fvvxLB9kpU6YgKCgIwsLC2L17NwYOHPjFfY4cOQIrKys4OTnB2dmZC9lXaN++PcTFxZGSkgJra2usWrUKPXv2xN27dwV57uvrC0lJScycORMPHjzA9u3boaamVu44sbGxmDVrFiIjIyEtLY1Vq1ZhypQpEBER4UxmHGRZ1Tt48CDKyspgYWEBDw8PeHt749atW3j16hXc3NywadOmXzrIZmdno7CwEN7e3li8eDH69+8PR0dH9OvX76PpHz16hAEDBqCgoABRUVFo0aIFFzJ8mJUpLCwMixcv/mQ5fPLkCdq3b48lS5bg7du3KCkpQWpqKi5fvgx9fX20bNkSCxYs+Oj0iC9evICbmxt8fHyQnZ2NyZMnw8HBAcrKypz5DETlw1BVPEaqypNjtUTbtm1p27ZtPE72fwQHB9OgQYPIw8ODjI2NSVRUlOzt7cnf358ePXpULu3s2bNJWFiYJzX4H3369KGmTZvSzZs3P/p+bm4u9e3bl6KioujVq1fUrVs3kpSUpBs3blBwcDA1a9aMHBwc6N27d+X2y8nJESywDoBsbGzoyZMnnOGMnjx5Qvb29mRpaSkoH/++bG1t6cyZM5Sens6TUbCqcf36dZKQkOAg+xFTpkyh8PBwwd9RUVGkqqpKACg2Nlaw/dKlSyQnJ0fjx4/nAvU/iouLacCAAaSnp0clJSUfTXPz5k0aPXo0ERGlp6eThYUF+fn5UWpqKj179qxC+pkzZ5KGhgYBoB49etCxY8d4QglGwcHBZGBgQBoaGjRy5EjatGkThYSElHuNGjWKevXqRS1btiRXV1fKzMysvUG2rKyM+FXzXydPniQpKSl69+5dhfeKi4spJyen1p1TaWnpTzlOREQEde/enTIzMwXbwsLCaPz48ZSXl0dlZWX07t070tHRIVFRUUpJSeEy9T+vc+fOUa9evUhERITCwsI+mc7S0pJGjRpFvr6+VFJSQgUFBeXez8/Pp7i4OGrXrh0BIE1NTTp58iS9f/+e8/kXf+Xl5dGMGTOoQYMGtGzZMsrKyvps+oKCAjpz5gz16NGDevbsWSt/48rKyrgmW1uYmprSrFmzKmxPS0ujIUOG0PDhw3+5mmxmZibZ2trS3bt3SU9Pj37//XfatWsXXb58mVRVVenSpUuCtE5OTgSAPDw8uDD9j6ioKJo3bx49fvyY1q9fT/369ftkzWH+/Pk0fPhwioyMLLc9Pz+fdu7cKai5/tt8XBea+9iPy8zMpH79+pGOjg5FRER8074ZGRlkYWFBffv2pdevX3NzMfv50tPTSVpamq5evVrhvdevX9Po0aN/ySC7du1a6tSpE2VmZlJ2djZ5eXkJ5i02NjamvLw8IiJ6/vw5KSkpkZGRkWAbI/Lx8aHbt2/TyJEjy03i37Vr13ILKPxXUlJShW23b98mU1NTAkDi4uLk4uLy0eZj9uv673f1e02cOJH69u1LOTk53FzMr5/3evPmDdna2hIAioyM/GgaOzs7Mjc3/6Wai2/dukUAaNy4cZSdnV3umCUlJYJjFxcXk5GREcnKylJsbCyXqbIyOnjwIA0fPpyUlZVp//79ZGFhQXZ2doL3jx8/TsrKyjRv3rzPHufmzZtkZmZGQkJCJCoqSosWLRI0z/OLX//9rkpJSdHDhw9/6DjZ2dnUq1cv2rdvX606f55xu4aLi4vDq1evYG5uDh8fn4+mUVVV/eXy5cSJE4KZgnr27CmYsk9ISAjCwsKCIQD79u3DmTNnsHjxYnTp0uWXL0+hoaFwcXFBZGQkrly5Amtra8yfPx/79u2Dl5cXAEBKSgqPHz+GuLj4R49x8+ZNjBs3Dt27d4e/vz8GDhyI0NBQrFixAlJSUvylZeW4ublh5cqVXxyuVVRUhLCwsE++Lysri40bN2LdunW1KwP4Tqv2v/bv3//L1WTz8/OprKyMXrx4Qba2ttSgQQNq1qwZrVixQpDm7t271KRJE+rTpw8VFRX9kmWjtLSUDh48SK6urnT16lV69+4dPXz4kOrXr0+7d+8WpHN2diYpKSlq1qwZqaioUGRkJBUXF1fouPLHH3+QhIQEASADAwMKDw+vkI5f/PpvLbZVq1af7fhWUlJCDg4O1LZtW2rUqBE1a9bssy0ibdu2pcOHD3NNllWN9PR0+Pv7IysrC0+fPq3z5xsZGYmxY8di165dyMrKQtOmTbFt2zbMnz8fMjIyGDNmDADg/fv3cHZ2RnZ2NpYsWfLLrrCzYcMGPHjwAPfv34e1tTWKioqgrKwMDw8P/PPPP3j+/DkAwMnJCefOncOaNWtw6tQpaGtrC2ZhysjIwNq1a9GuXTvs3r0bSkpKWLNmDQICAqCrq8uzNbFPCgoKgp6eHsTExD6ZZteuXZCRkUFcXBwSExNRr1497Ny585PpJ0+ejJMnT9aaPOAgW8vdu3cPjRo1Qps2bXDz5s06fa4FBQXYu3cvTExMMH/+fHTv3h1nz54F8GFll7NnzwpmcDp9+jSOHDmCKVOmYMCAAb9s+di0aROsra2hpaWFR48e4eDBgwAAKysrEBHmzZuHixcvAgB69eoFKysrtG/fXrD/v9N6LliwAEJCQti8eTOioqIwd+5cXn+XfdHx48fRpk2bz6YxNzfHggULIC4ujiZNmmDq1KmfTf/7778jOTmZgyyrGv3794enpyc8PT1hampap8/14MGDKCkpgaWlJZo2bQpTU1OYm5tDXFwcxcXFaNWqFQDgypUrGD16NDp16oRVq1b9koH132XimjdvjmvXriEkJATz58/Hhg0bEB8fDyKCuLg4xMXFK8wvXFJSguDgYMjLy0NfXx9JSUnw8PDAo0ePMH369Fq9KAWref67eATwYQ7szy3a0b9//9p1gty5nNWWITwFBQWkq6tLL168IHV1dSIimjNnDunp6VFWVpYgnYGBATVo0IBOnTr1S+Xn6dOn6cWLF5ScnEyampqC7ebm5nTu3DlKS0sjJSUlEhUVpbCwMLpy5UqFa3D58mXq378/ASARERGaPHky3b59mwsr+y7a2tp06NChr05/+/ZtWrhw4WdnBnv79i1paWnVmjyoR8TrA7Bqu8H7qnQ5OTkYNmwY9u3bh6CgIDRo0AAFBQVYuXIl/P39cfjwYcjJyYGIsGXLFly6dAnjxo2DkZER6nr5Li4uhpCQEKytrXHs2DHY29tjyZIlUFRUxLNnz/Dbb7+hfv36mDBhAjp27Ah9fX20bdu2XE2BiBAWFgYXFxeEh4ejpKQEHTp0wNGjRwVNx/w7wb73O66oqPhV5Sc3NxerVq2Cu7s7hISEPrlPbGws/v8cD1yTZexn1GRzc3Np5MiRpK2tLdi2ZcuWCvMQ37t3j1q2bEkKCgq/RP5lZWVR3759ac+ePUREggkhli1bRjY2NnTlyhXBZBwGBga0fPnyCsd49OgRLV68WNBj+Pfff6ejR49y4WQ/hbGxMf3zzz9fTPf69WsaO3YsPXz4kIjoszOFrV69ulbVZDnIshodZJOSkujOnTtERGRoaEgrV64UvJecnEzv378X/G1hYUEAKCQkpE7nW1JSEg0aNIhOnTpFWlpa1KNHD3r16hXt3r2bBgwYQDIyMiQvLy8Isp9y4sQJatq0KQGg+vXr08GDByk/P58LJvtp9u3bR+PGjftiOhcXFzI2Nqbdu3fT7t27qU+fPp9MO2nSpHK/AzUdryfLqrUp6XPrRhYWFkJHRwdycnJwdnaGgoICRowYgY0bN1boMRwXF4devXphwIABCAgIqFvrUf5/ZWVl2L17N/z8/JCYmIh9+/ahR48eGD58OCIjI2FhYQEFBQUYGxtjyJAhcHJywoIFCyoc5/jx43B2dkZ8fDxERERgZ2cHR0fHCh1QGPtRpaWl+P3333H8+HFoaGh8NM2DBw8wePBglJaWCrYZGxt/dK3se/fuoU+fPggJCUGHDh24uZixH6nJJiYmkqGhoaAjzr+v3377jd6+fStIl5OTQ4aGhiQqKlpuybu65vDhw6SkpETt27enoqKicu/t3LmTREREaPDgwUT0YTmxVatWlUtz584dmjJlComKipbLy5iYGC6MrNL8/fffZGNj81OO9eeff9KIESNq1flzxydWIzs+FRUV4fr16zh16hRKS0thaGgIe3t7PHr0CImJiUhISEC3bt0AAEuWLEFQUBAWLVoEXV3dOtNJp6ysDPv27UNWVhbMzMxgZGQEDQ0NDBo0CHv27MGUKVMEaf/44w+Ulpbi1KlTICLo6elBT08PRISioiIsXLgQe/bsQV5eHuTk5BAYGIg2bdqgXbt26Nu3L44ePQojIyMulOynmzZtGoYOHYpjx45hxIgR332cEydOwNvbGxEREbXqO87NxaxGNhd7eXnB1tYWJiYmaNy4MVJTU/H69WtcuHABjRs3FqR7/vw5mjdvjh49eiA0NPSzM8vUtma2uXPnQl5eHomJiYiIiEBcXBzk5OSwYMECxMXFwc/PDzIyMp89zvPnz2FtbY3Lly9DXFwc9vb2mD9/vmBe4lmzZmHLli2oX78+fH19YWxszAWT/XR79+7FjBkz8Pjx4+96LJGZmYnWrVtj3bp1sLGxqVXnLrJ06dJlXARYtd3lfSLICgsLo0WLFsjPz0dubi7OnDmD9PR0CAkJYeDAgYJ0RkZGyMvLw+7du6GiolJn8iUrKwsjR47Exo0b0aJFC+zYsQNKSkrQ1tZGly5d8Ndff6GwsBDy8vJo1qzZR4+xefNmTJw4EXfu3EG7du1w7tw5jBw5stwUk0FBQYiOjkZZWRlOnTqFDh06oF27dlww2U+lqakJJSUlzJ49G+rq6mjZsuVX7+vn5wdLS0tYWlrC3t6+1p17Pb78rKYxNzeHiIgIfH19BTXe/Px83Lx5s9wqLwEBAYiIiMCUKVPQp0+fWn3OhYWFmDJlCoKDg9G0aVOcOXMGR48ehbS0NA4cOAAbGxu4ubnB3NwcTZs2RadOnXD58uWPNvGeO3cOy5YtQ0xMDIgIvr6+GDp06Edr+Q0aNCh3w3L//n2UlpbyfMTsp5s4cSKICIaGhvjrr78we/bsz9ZqX79+jc2bN2PdunVYt25duccjtQo/lmc1qeNTYmIide3alcLCwj6776tXr0hRUZGUlZXp0aNHteacL168SOfOnaPExMRy23fv3k22trYUEBBAAGjJkiVERLRt2zbauHEjEREpKSkRAIqNjaXly5dXGEuYlJREs2bNIklJSQJA3bt3J39//y92LmvSpAmpqamRlZUVF0pW6cLCwsjAwIDk5eXJxMSEzp07V+FlZmZG8vLyNHDgQAoNDa3V58sdn1h13uBV2Obh4YEbN24gOzsbZWVln2xO9vT0RHp6Onbt2oVWrVrV6I4QZWVluHDhAlauXImOHTsiKCgImZmZ2L59O0aNGgUAOHPmDFRVVeHs7IxNmzZhzJgxuHnzJogIly9fRkpKClq3bo2ZM2dCQ0NDsDYuEaG0tBQuLi7YvHkz3rx5AzExMfj7+8PAwADi4uKfzRsVFRXExcWhqKgI6urquH37Njp27MiFk1Wa3r174/Tp0wgPD8fJkyfh7e1dbq1sDQ0NmJmZYfXq1VBWVka9evVqd2dGvq9iNakmq6enR0OHDqV69eqRpaUlPXnypEKtLyIigurXr099+vShN2/e1OhzDA4Oph49ehAAunbtGhERPX36lJo0aUKenp7largAKD4+noiI3r9/T3PmzKGEhATS1NQkMzOzj04U4e3tTW3atBFMKLF48eLvypOCggLq0aMHmZmZfXbeWMbYt+Egy2pUkP3Xtm3bSFlZmRQUFEhFRaXce6ampiQhIUHXr1+v8ee4cuVKGjlyJAGg/fv3C7arqqqWC7LZ2dk0cOBAWrx4MaWnp5O3tzcdOHDgk8eNjY0lKysrwZhXAwODL87w9CW+vr4EoNwsWoyxH8NDeFi1NhcLCQnh/fv3mDlzJk6cOAE5OTk4ODhg4sSJeP/+PXR1dbFmzRpBj2JPT09Mnz4dy5cvx8KFC2vFeRYXF0NfXx/Xr1/Ho0ePEBERgbFjx+Lhw4dQUlISpLt+/TpMTU1RXFwMYWFhhISEVJglJykpCQ4ODjh9+jQKCwvRrFkz+Pr6okePHj/cWam0tBS9e/eGhYUF5s+fzwWUMW4uZnWhJrtmzRoaO3Ys+fr6Uq9evcp1/Ll48SIVFxcTEVFKSgq1atWKFBUVa90cu9HR0QSAVFRUqGPHjiQhIUGysrK0aNEiwaTo/woNDaWEhIRy216+fEmrVq2iFi1aEABSU1OjdevWlZv56mc4deoUKSkp0evXr7mAMsY1WVYXarKWlpY4cuQIgA8zPQUHB8PGxgZpaWnl0k+YMAEHDhzAmTNnMGTIkFp1rgUFBbCxsUFAQACuXr0KcXFxbN68GX5+figuLoa8vDzGjh0LBweHCvuGhYVh0aJFiIqKgqKiIpycnGBpaVlpi6dLSEjg+PHjMDQ05ELK2A/iIMuq1KtXr5CRkQE1NTWIiopCSEgI7dq1Q3R0NGRlZQXpNDQ0cPfu3XKBxtjYGDo6Ojh37lytPPfk5GR07twZ06dPx5o1awTbt2zZgidPnsDBwQFycnKC7dHR0Vi4cCHCwsIAAFZWVli2bBnatGlTqZ9z+fLluHjxIs6fP4/69etzoWXsBwhzFrCqNGfOHOjr68PLy0uwrUmTJrCwsEBsbCwAYN++feWCzdu3bzF79mwUFhZi3759tfbc27Zti7///ht79uzBzp078ejRIwDAjBkz4O7uLjjnZ8+eYeHChTA2NkZYWBg0NTWxf/9+7Nmzp9IDLADY2NggKSkJ4eHhXGAZ4yDLaosTJ06guLgYycnJGDt2LAoKCgQ1p9zcXPTp0wdNmzbFzJkzsWjRIsF+K1euRFxcHGbOnAlFRcVanQeTJk1CdnY2Fi9ejOzs7HLvFRQUwMvLCx06dMCaNWtQUFCAbdu24erVq7C2toaoqGiVfMamTZtCR0cH/v7+XGgZ+0HcXMyqxNu3bzFv3jysXr0aMjIy8Pf3h4eHB3x9fSErK4vXr1/j0qVLAIDffvsNurq6AICXL19iwIABuHv3Lg4fPoz+/fujadOmtTYfLl26hJiYGNjZ2ZWb0vD8+fNYvHgxbt68CQCYOXMm5s+fjxYtWlTL54yIiICJiQlev37NhZcxDrKspjt06BACAwNx+PBhwTZhYWEoKyvj+vXr5VbW+S8DAwNcvHhR8Pdvv/0GbW1tDBw4EEOGDIGysnKtzpeUlBQsX74cJ06cQG5uLnr37g1HR0cMGDCg2ucPbt26NTZs2ABTU1MuwIxxkGU1VWZmJvr374+EhAR4enrC0tISmzdvRqtWrWBlZQVh4Y8/tTh79iyMjIygqamJmJgYTJw4Ed7e3v9XeIWE4OvrC3Nz81qXJ69fv4aLiwv8/Pzw4sULKCkpwdbWFk5OTjXmM3p6emLXrl2IioriQszY9+JRTKyybdiwgfT19QkAAaAOHTrQ6NGjPzvjU15eHikqKhIASkpKEoyTbdmypeA4EyZM+OnjRKtCREQEaWlpCc7DxcWFXr58WeM+Z15eHklLS1eY1pIx9vW44xOrdDY2Njh79izS0tJw4sQJiIiIICAgAFu3bkV+fj7KyspQVFRUbp+tW7ciPT0d7u7ugh61qqqqOHjwIERERCAuLg5fX1/4+fmhsLCwVuTD9evXMXToUOjp6SE2Nhbm5uaIjY2Fg4MDFBQUatznlZSUxJAhQwTPyhljXJNltUB6ejoNHTqUAFCLFi3IwsKCDh06JHj/+vXrJCEhQb1796bMzMwK+5uamtL169fpwIEDJC4uThYWFjX6fFNTU8nZ2ZkaN25MAKh9+/a0bdu2WnGtDhw4QEOGDKGSkhIuuIx9Bw6yrNoEBwdTs2bNSEdHh7KysgTbraysqH79+hQREfHR/TIzMwU/+nfu3CFNTU0aMWJEjZzYftu2bdSsWTNB0/D06dNr/MpB/5Wfn0+///67YAUhxti34Y5PrDpbURAUFAQxMTEMGDAAALB3715MnjwZrq6usLe3/6rjvHz5EkOGDMHjx48REBCAPn36VOt5FRQU4MKFC3Bzc0NMTAxkZWUxffp0ODk5VdlY159p7ty5aNq0abmxy4yxr8NBllVrkP3vouxPnjyBnp4e3r9/j/j4+E8O6/mY9PR0bNmyBYGBgfD29q62hcfv378PV1dXQS/oUaNGwcXFBW3btq211+nSpUtwcXHB5cuXudAy9o244xOrMVasWIEnT55gx44d3xRgAUBRURF///03OnXqhD59+qC4uLhKP3tWVhZsbW3Ro0cPeHt7Q0tLCwEBAdi7d2+tDrAAoK+vD3FxcaxevZoLKWNck2W1sSabl5cHLS0tAB8m0v8RAQEB2LVrF+bMmYP+/ftX+nncuXMHS5cuhb+/P0RERLBo0SLMnTu30lbJqQ5Pnz5Fr169cOPGjRrZE5oxrsky9hk+Pj5ISUnByJEjf/hYJiYmGDRoEIYPH46IiIhK+8yFhYUYM2aMYJ5fAwMDhISEwM3NrU4F2H9bClRUVJCXl8eFlTGuybLaVJN9+fIl9PT0ICsri9DQ0J/SOYiIsHz5cqxdu/and4bKysrC/v374ebmhqysLCgpKeHYsWPQ1tb+5OxVdcHYsWPRvHlzrFq1igsvY18bZImIgyyr1iDbo0cPpKSkwM/PD3p6ej/1/3B2dsbGjRsRGxuL1q1b/9CxXr9+jZ07d2Lbtm14+vQp1NTUMH36dPzxxx+QkZGp89crJiYGNjY2iIuL48LLGAdZVhuCbGBgIIYPH44ZM2Zgw4YNP/3/KC0thYWFBd69e4fAwECIiYl913GeP38OLS0tpKenQ0FBAcuWLcPo0aPRsGHDX+qaaWhowMfHB506deIC/JkyN2jQIEhKSqJt27ZQVVWFjY3Nd5e9mubs2bOIj4+HnZ0dJCUl+YJzkGU1VVpaGrp16wZZWVncu3ev0v6f9PR0GBkZoXnz5ggICPimfd+9e4eTJ09i1apVePjwIYYPH45FixZBXV39l7xm69atg4yMDGxsbLgAf8KFCxdgYGBQbpuioiIMDQ1hZ2eHhg0bQlVVtdaeX3h4OPr27Ys2bdr8cCfFXwF3fGLVZuHChUhPT4ePj0+l/j+KiooICgrCpUuXsH///q/ez8/PDzo6OhgzZgxSU1Nx7do17N2795cNsADQrl07+Pr6cuH9jI/dMKanp2PPnj3o3r07unfvjhkzZuDs2bO17twKCwuxZs0aAKgwNC0lJQXHjx/nAvC/NVnu+MSqw8WLF2FgYIAVK1Zg4cKF5SalqCz79++HjY0N4uPjPzl29d27dzh9+jSWL1+OO3fuQFZWFuPGjcOSJUu+eexuXVRUVAR1dXVcunQJrVq14oL8Ee/fv8eNGzcQHh6OlJQUnD9/HpmZmXj//n25dCIiIpCUlISuri7MzMxgaWkJWVnZGn1uw4cPh6SkJM6dO4cVK1bAxsYGRIQbN25g+PDhEBISQlhYGFq2bMkFgYMsqy537tyBrq4uOnbsiICAgCoLXm/fvoWVlRWePn360c47CQkJmD9/Ps6dOwcA6Nu3L/bt28fB5H/Y2Nhg0qRJ0NXV5cz4SjExMTh//jzOnDnzyWFlampq0NDQwMiRI6GrqwtlZeUadQ5HjhxBUlIS1NTUYG1tjcLCQrx58wbbt2/H0qVLAQDx8fHQ0NDgC/4f3FzMqqUW+2+NsSprh1JSUjh8+DAyMzPh4uIi2J6SkoKJEyeiV69eOH/+PAwNDZGcnIwLFy5wgP0IERERHDp0iDPiG3Tr1g329vYICQlBcnIy7O3toaGhARERkXLlMCAgAOPGjUP37t0xcOBAbNmyBcXFxaju98H/FAAAIABJREFUrjPJyclYuXIl5syZg8DAQFhaWiI8PBxmZmaCDl0jR478pR+lcE2W1QgJCQno2LEjnJycsGzZsippJv5fkZGRMDc3h7e3N/bu3YtDhw5BSEgIAwYMgL29fZXMElWb3bx5E46OjggICCgXJNi3u3fvHsLDwxEYGIjY2Fi8ePHio+lMTExgYmKC/v37Q0VFpco+X35+PnJycmBiYoIdO3ZAXV0dnTt3hqioKJo2bQpvb2+sX78e4eHhOH36NOTl5fmicpBl1alDhw4QExPDlStXIC4uXi1BtqCgAJqamoKekc2aNcOePXsq9AhlH/fkyRN0794dSUlJv9wQpsqUlpaGqKgo+Pn54ebNmx/tQCUrK4uOHTti2rRpGDhwIJo0aVKpnykkJARjx46FnJwc7t69i2vXrqFXr16YN28eVq9ejatXr8LQ0BBBQUHo3bs3X0QOsqw6RUVFwdjYGOfPn4empmaFVXgqW2lpKaKjozFq1CikpaUB+NDEtWvXLjRo0IAv0DfQ1dXFkiVLMHjwYM6MSvD+/XskJSXBzc0NoaGhyMzMrJBGWloa0tLScHR0hJmZGRQVFX/65ygpKUFeXh7u3r0LXV1dhIeHQ0xMDFpaWrh//z6GDx+Otm3bwt/fH8CHOcjfvn0LISEhNG3alC8keJwsqyJ5eXno1asXunbtin379gFAlQbZqKgoLF26FOfOnYOIiAhGjRoFOTk53Lp1CydPnuRmrm/k4uICERERODg4cGZUsuzsbFy6dAk7d+5Eenr6J2fcMjc3h5mZGXR1dSt9HG58fDw6d+6MsrIyREZGQkdHBwAE496joqLg4eGBCRMm8AXkdetZZSsrK6P9+/cTgP/H3pnH1bT9//9VSlFpTlFK0WSmgaTcMjWoKNdUrgwlGe+Nq5SpuIaMkTGhGx9UZEyiTE3mQiKlUSqa0/z+/XF/zvfmnHARYT0fj/V41F7vvc/e77XOee33Gunp06dNjrc0lZWVZGlpSUJCQgSArK2t6fbt20REVFxcTEJCQvTXX3+xQvqP/P3336SlpcUc8ZWpqKigBw8e0MSJE4mPj48AcCVpaWmaO3cuRUVFUUNDQ4t9z1JSUujs2bMUHh7OOfbs2TMiInJ3dydfX19WYETERJbR4rx48YIA0OzZs7nEt6XIzc0lb29vateuHQEgNTU1unv3LpddeHg4DRkyhGpqalhB/QdSU1NJVVWVOeIbk5CQQB4eHqSgoMBTcAGQpaUlxcXF0evXr7/afVlYWFBAQAArICayjK+BsbExiYuL06NHj1pcZPPz88nT05M6depEAEhLS4v27t1L5eXlzdrLy8vTxYsXWUH9R1gk23rIycmhsLAwGjduHKfV5t2koaFBzs7OdObMmRa7j/LycnJwcKD+/ftTXl4eKxgiYgOfGC1KREQERo8eje3bt8PZ2fndroov1idbU1ODqKgoLF++HHfu3IGoqCg8PDwwb968Dy5ivmLFCvj5+SEvL++HWcT9azBq1CjMnTsXFhYWzBmtiFevXuHChQs4efIkLl26hOLi4ib5/Pz8kJaWhr29PWxsbNC3b1+IiYl99gCpuLg4+Pj4wMDAAG5ubhAREWGFATa6mNHCgyNGjRqFvn374syZM7zGA3wRkY2Li8Pvv/+OhIQEiIuLw97eHvPnz0e3bt0+6vwXL17g+vXr0NXVbXWr7LRmli5dilevXmHXrl3MGa2UiooK+Pv74/Tp07hx4wZPmy5dukBfXx9KSkqwtrb+pL2X307tad++PXbu3In4+Hjs2LGDFQAb+MRoSSwtLQkAxcbG8sz/3ObirKwscnZ2JklJSQJAurq6n9zsGxQURCkpKUREFBcXR6dPn2YF+AE8PDzI1NSUOeI7oL6+npKTk8nLy4v69OnTbP8tAOrRowfZ2NhQYGDgR1+/srKSkpOTac6cOWRoaEh79uxhTmfNxYyWJDIyEqNHj4anpye8vLyae8H7pEi2rKwMYWFh8PHxQXp6Ojp27Ihp06bBy8sLwsLCn3S/KioqWL58ORwdHbFkyRLcvXuXs4Yxgzd5eXmYMmUKoqKimDO+r8AKz58/R3h4OHbv3o3MzExUV1fztFVUVISNjQ1mz56NLl26sP1jWXMxozVQUlICfX19vH79GikpKc3OQf0UkY2IiICbmxsePXoEOTk5zJ49GzNmzECnTp0++X7z8/Ohp6eHhIQEKCgoQFtbG8bGxti5cycrzPdQXFwMW1tbhIWFQUJCgjnkOyU4OBgXLlyAnJwcLl68iOTkZJ52/fr1w4gRI2BmZgYjIyPmOCayjG+Fn58f5s+fj7CwMNjY2Lz3jfpjRLaxsRFJSUnw8fHB+fPn0dDQABMTE3h7e2PAgAGffb9nz57FuHHjUFVVBQCQkJDAkSNHYGZmhoaGBty+fRtxcXGYP38+K9x3qKqqYtHND1aep06dwsmTJ3HhwgWUlpZy2QgKCkJaWhouLi6wtraGurr6J7cg/SxNBwzGFyMtLY0AkJ2d3Qfnnn5Mn2x+fj4tW7aMABA/Pz/Z2Ng028f7qcybN4/atm1L+fn5dPXqVerUqRMVFRUREdGTJ09IXV2d5OXlWeEyfiqqqqooODiYLCwsSF5evtk+XG1tbQoICKAnT54wp7E+WUZLo6enh4yMDCQmJqJr164fesFrNpKtq6vDunXrsHfvXmRnZ0NJSQnu7u6YNWvWF79nc3NzREREQElJCXx8fMjKyoKKigpiYmLQpUsXHDlyBL///nuzO6T8jDx69IjtG/oTkZubi6KiIuzcuRN79uzhaSMlJQUlJSVYWlpi8eLFnz0tiDUXMxjv4OnpibVr18Ld3R3e3t4f04rCJbJ1dXWIiYnB+PHjUVJSAkVFRSxduhTTp0+HgIDAF7/njIwMdOvWDUeOHEFeXh40NDQgIiKCwsJC2NraAgAT2Xe4f/8+dHR0UFhYCAkJCUyaNAlDhw6Fk5MTc85PQF1dHR4+fIjx48ejvLwc+fn5PJuUTUxMoKWlBRcXF3Tv3p01FzMYn0NsbCzJyMj8p1WA3m0ujo6OpiFDhhAAEhAQoBkzZlBJSUmL3vezZ88IAGVkZDRrc/jwYdZc/C/u3LlDnTt35qyipaGhQefOnWOO+QGIiop673fhXV6+fEmnTp2i0aNHk7i4OM/mZCEhIRoxYgQdPHiQoqOjfzqfChDbhIfxBd5sly5diuLiYkRHR+Nj69Rbu1evXuHXX3/F9evXUV9fj0mTJmHZsmVQV1dvYtcSiIuLw9/fH4qKis1+DhGhsbERVVVVaNeu3U9f3gcPHoSRkRFERERw7do1ZGRkYNSoUaB/lmlFRUUFALDmwu+QuLg4jBs3DqGhoRgwYAAEBATeW+dlZWVhaWkJS0tLvHz5Eq9evUJQUBCCgoJQWFiIuro61NTUIDIyEpGRkRAUFIShoSGsra3h6OgIERER8PPzs0iWwXgfa9asIQD/edeN9PR0WrJkCQkLCxMA6tmzJ4WGhraqZ3v+/DkZGhqSoKAg1wYHPyMNDQ00evRomjRpEhER/fnnnzR8+HBO/ubNm6lbt27Url07ioiIYF+O74wlS5ZQu3btSF9fn/r160cdO3aknJycT7rWjRs3yMPDg/r27dvsoKnRo0dTXFwcpaam/rA+ZSLL+CySkpKoffv2pKCgQMXFxR91Tl5eHi1cuJBkZWUJAPXp04c8PDyosrKy1T1fZWUl3bx5k+7du8cKm4iqq6sJAElJSZGvry9JSEiQnJwcrVq1ioiIDh06RK9evaIVK1aQoaEhc9h3xP79+0lYWJiOHj1KRP+3e9bDhw8/67o1NTV08+ZNmj9/Pqmrq/MUWwkJCXJ2dqb9+/fT9evXfyi/soFPjM9pBcGECRNw/PhxxMTEfNQE9ZCQECxfvhwpKSmQkpKCg4MDVq5ciQ4dOrSa5yotLcXx48cxY8YMVsjv4Ofnh4CAAFhbWyM0NBRTp07F4cOHYWJiAl9fX47d+vXrkZqaioCAAOa074DS0lLo6Ohg5cqVmDRpEgBg0aJFePz4MU6dOvXFNvKoq6tDSkoKfHx8cOvWLeTm5qKurq6JTZs2bTB//nyoqalh4sSJ3/1CJ0xkGZ/MkSNHMHnyZEyfPh27d+/+YN9KUFAQZsyYgbq6OsyePRuLFi2CsrJyq3uu7OxsDBgwAPfu3fuslaR+RExNTfH69WvcvXu3WZvXr19jzJgxOHDgwAencTFaB7t378bq1atx69YtyMnJISgoCLNnz0ZERAQGDx7cYp+7Y8cOHDt2DNeuXeOZr6amBg0NDYwbNw5GRkbfZX1iIsv4JBobG9GzZ0+UlpYiISEBioqKzdrFx8fD3t4eL168gL6+Pry8vGBkZAQBAYEv9ob8pUVWWVkZqampP/fUAx6sXr0amZmZzc6VLC8vh7OzM+zs7GBtbY02bdowp7VyHj16hNGjR0NXVxeJiYmcrfD+/PNPjB07Fg0NDbC1tcXjx4+hp6eHQ4cOfdHPr6urQ25uLgIDA3Hy5Ek8fvyYK7oFAElJSfTu3RvW1tZwdnaGkJDQ9zFoivVEMD6FuXPnEj8/P23YsKFZm8ePH9OIESOabBr9737blti0/Uvw4sULEhcXZyvYfAKGhobUsWNHcnR0JBsbG+aQVk5FRQXZ2dmRg4MDERE9ePCATpw40cTm0aNHFBoaShcvXiQRERGKi4tr0XtKSUmhjRs3kpqa2nt3C7K0tKTdu3fTzZs36datW6xPlvHjkJOTg549e0JdXR2JiYk8mws3bdqEAwcOIC8vD9ra2ggICIC2tnaTaR30BTdt/9JYW1vDycmJbUj+H3j27BnWrFmD+vp6AMDw4cNhb2/PHNOKuX37NnR1dbF69Wq4u7u/1zYrKwu6uroIDw/HwIEDW/zeiouL8eDBA+zbtw9nz57F69evm2+S5eODmZkZxo8fj759+6JXr15cNl5eXpCWlsb8+fO/6u8OE1nGf2bIkCG4ceMGTp48CSsrK87x6upqbNiwAevWrUNVVRU6dOgANzc3LFq0CEJCQrxaUVq1yKqqqmLz5s2swBk/LI2NjaisrISQkBDatm3brF1JSQm8vLxQWFiI//3vf1/9PquqqnDt2jWcPHmSI7hvN/R4l7Zt20JVVRXW1tZwdXWFrKwshISEkJ6eDltbW7x+/ZqzitxX6c5gDSaM/8KePXuIj4+PbG1tqaqqinM8NDSU9PX1CQCJiYnRnDlzPjj3rTU2F+fm5lJMTAxZWVnRmDFjaMmSJZ89heFHx8XFhbKyspgjflCuXbtGPXr0oB07dtCbN29axT3duXOH7O3tSUVF5b1NygDIwMCATpw4QQkJCUREnHMsLCwoPj6eNRczWg95eXnQ1dVFTU0Nbty4AQ0NDZw/fx4+Pj6Ij48HAOjo6MDb2xsjRoz4mBe8VhfJlpeXo0uXLqivr0dlZSVkZGSQkJDARsm+B21tbcTHx7eqaViMLxM92tnZ4dKlS/jf//4HS0tLCAoKtqp7fPXqFYqLi3H//n3cuHEDYWFhyMrK4mkrLCwMRUVFFBYWcrbwExISwu+//w4vL6+W266PvacxPoa6ujpauHAhAaBDhw5RSUkJubq6ct4WFRQUaOfOnf/pmq114NPo0aM5z2ViYsIK/wP8l/WqGd8XkZGRNHToUJKWliZxcXEqLCxs9fd84MABGjNmDHXu3PmDUe7bJCYmRidPnvzg9pyfAhNZxkcRGxvLqZBOTk6kqanJ+X/+/PmUnZ39n6/ZWkU2ISGB82y7d+9mhf8BrKysmBN+cNLS0iglJeW7uufc3FwKDw+niRMnkpCQ0EeJrb6+Pp0/f541FzO+LtXV1Rg7diwiIiI4x4SEhGBqagpPT0/o6up+0gACaqUDn8rKyjBw4EA8efIEN2/eRL9+/VgleA/bt2+Hnp4e9PT0mDMYrZLS0lLs378fERERuHjx4ntt27RpA0dHR6xbtw6SkpKf/dkCLfVQhYWFSE5O/uTzFRUVoa6ujoKCAjx48KBZOz09PYiKiuLevXvQ0tKCkJAQXrx4gYyMDIiKiuL169cYOnQocnNz0blzZ855qampyM3NbXKt5ORknkO/WxsnTpxAXl7epxe6gAAMDAzQq1cvVFRU4ODBg83a9urVCxEREU2m6nTv3h22trYYNmwYVFRUcOfOHdTV1XH2Ys3IyEDnzp159tFdu3aNM9GciNCxY0f07NkTAJCYmMjZweVdpKWl0adPHwDArVu3UFZWxrPO5OTkcOoO8M9E97eryairq0NRURENDQ24cuUKAGDo0KGcCe3l5eW4efMmgH8mvvPx8aGurg4vX75EYmIiampqYGdnBwAoKChAYGAgEhMT0aNHD0hLS3P8BQDHjh1DTU0NFi5ciN69e7/3vt+t88A/+9xmZGTwtOvUqRPy8/PRq1cvzucCQEJCAvT19QEAFRUVaGhogLi4OJKTk1FVVcXJ+9Lw8fFBVlaW/ZIzWi3i4uJwdHSEgIDAB0W2oaEB+/btQ1xcHBYsWAAjI6PPW5SmsbGRvnSKiYnhjDT91CQhIUEaGhrUqVOn99qpqKiQhoYGiYiIkJqaGmloaJC8vDwJCAiQiIgI8fHxkYaGBnXs2JE0NDQ4SUJC4rPur7UkPj4+Tvpan7l3715q3749py9WSEiIBAUFSVFRkVRVVUlcXJzmzJlDjY2NlJmZSfr6+hy/CwgINLlnOzs7amxspNzcXOrUqVOTvH8/l6ioKGVnZ1NjYyMNHDiQp52UlBRn8fq3dXHbtm2c+5aTkyNNTU3q3r17k6but7Zv+5z/nYSFhTl18N+2d+7c4dSv96UlS5ZwztHX12+2rPj4+MjY2Jhjq6Gh0az/xcXFiY+Pj+zt7Tn2J06coLZt25KGhgZpampS165dqUuXLqShoUFKSko0d+5caonvemNjI/n5+VFSUlKLXZ8llj43VVVVkamp6Sf93klLS9Phw4epoaHhkz67RZqLV65ciZUrV0JGRgYdO3bkvOFfuXIFhoaGOH78OACgW7duqK2txcuXL9GtWzcAwMuXL1FUVAQpKSkICQlBSkoK06ZNQ05ODk6fPo20tDQAaHLtf0en9fX1UFVV5eyBmJaWBkVFRTx79gwAoKSkxImwunXrBklJSTx58gSxsbFQUFCAsbExJwLX1tbG4MGDsXHjRlRWVuLNmzdQVVWFnZ0dAgMD4eLiglOnTiEuLo5zbRcXFwgLC+PevXtITU1FQkICAMDGxgZlZWWws7PDq1evIC0tjTlz5kBERARqampQVVVFamoq7OzsEBISAllZWcTExEBcXByLFi3CkSNH0Lt3bxQWFiI2NhY1NTUwNzdHeHg4ACA9PR0bN27EmzdvcODAAdja2sLU1LSJf+7cuYPIyEjU1NRg7NixTaL2+/fvY/fu3QCANWvWIDIyEqmpqTA2Nsbp06dRWVnJs6xNTU1hbm7Oteekuro6TExMkJOTg1OnTiElJQU9evSAo6MjZ87su83Fx48fh62tLfj5+VFbW4vnz59DXV0d+/btw4gRI9ClSxeuz3/48CF69OjB+T8yMhK6urpNmnmioqKQlpYGcXFxiImJIScnh5M3aNAgToQMAGFhYSgoKAAA8PPzw9bWFsePH0f79u0xZcqUL/L9yM7OxtmzZ9GjRw88fPgQenp66NixI0RERDiLoVdXV+PAgQMAAFdXV8yZMwdaWlpNrmNhYQElJSXO/wEBAairqwM/Pz80NDSQkpICAOjcuTNGjx7dYlGCnZ0dTE1N4eLiwkKm74C6ujrk5eW1ynXDW5K3vwMlJSUIDg7mHC8uLv6olsFu3brh+PHjTX4vvlkke/r0aQJAAQEBXBFuUFAQASBTU1MqLi6moqIiSkxM5Nhoa2uTnJwcJSQkUG5uLud4cXExrVy5ksTExOjPP/+k9PT0Jtc+ePAgCQkJka6uLj19+pRzfMGCBZSVlUUdO3YkPT09KiwsbHLemzdvaODAgaSqqsqJlP6dnJycSEFBgW7fvk23b9/mnFNUVEQPHz4keXl5mjVrFk2ePJkSEhKosbGRysvLKSkpiURFRalPnz4UExNDFRUV9Pr1a2psbKScnBzatGkTiYqK0tmzZ5tEAUVFReTg4EDCwsI0atQoevToUZP7efjwIWlqatLMmTMpJyeHK8/AwIAsLS15Psvs2bNJXl6e7ty5w5V36tQpAkC//PILVVRUUEFBAef6p0+fpo4dO1JMTAzNmjWLzMzMmrzp9e/fn5YsWUJXrlz5T/XkU98Mf6aUlpZGfHx85O/v32rvUV1dnXbs2MHK6ztJkZGRJCkpSSYmJnT06FEqKir6qf2Rl5dHMTExFBMTQ5s2baJx48ZxkoKCQpPfOkFBQZo0aRIdPXr0o6//RUW2pqaGnJycqHv37nTgwAGqr69vkh8XF0fy8vI0d+5cqq2tbZJXW1tLCxcupF9//ZWKi4u5fozXrl1LoqKidPnyZa7PPXDgAImKipK5uTm9efOmSV5ZWRkZGBiQrq4uR+T+LbBjx46lyZMn0/Pnz7nux8/Pj5SUlCg4OJjrM+/fv0+dOnWi2bNncz1LRkYGaWho0JgxY3g+i6+vL4mKitLy5cspMzOzSf7t27dJUFCQDhw4QFVVVU3yKioqyNDQkHx8fKiioqJJ3q1bt0hGRoZcXV2prKyM61nmzJlDCgoKdO/evSZ59fX1dODAAVJSUqLo6GgqLS1tkp+ZmUl9+/alY8eOcY7V1dVRQkICubu7k4yMDAkICHAqoLy8PC1fvpySkpI+KKJMZD+cNm3aRADIzMyM6/vUWpKGhkaTF2WWWncaMGAAJSYm0oULF6hv374kISFB7u7upKurSwsXLmQ++lcqKSmhgoICKigooOvXr9Py5ctp+vTpJCsr+/Ei+6WGKdfU1NCWLVtIQUGBHj9+zJV/+/ZtkpeXJ1dXV668hoYGmjdvHo0bN47nPKW1a9eSuLg4XbhwgSsvKiqK+Pn5yc/Pjyvv1atXNGTIEDIwMOCa3xUbG0sDBw6kRYsWcZ1XW1tLzs7OJC8vT48ePeLKv3fvHikoKNCsWbO48rKyskhVVZVsbW2purqaK9/X15c6dOhA586da3I8KSmJ/v77b2rfvj0dOnSI67zXr1/T0KFDSV9fnwoKCrimnMjKypKxsTFlZmZyzW+dPXs2dezYkZKTk7muu2rVKpKQkKDLly9z5Z0/f57U1NTeO42ltLSUnJycyMDAgKv/3MbGhgIDA+np06ff1RSe1sS/N1h4d+H21sK8efN4fjcZrZvq6mpSUVGhIUOG0NGjR8nDw4MsLCyYY1rrPNmZM2eSgoICJSUlceU9fPiQ5OTkaPbs2VwimpmZSQMHDiRbW1uqqKjgOnfDhg0kIiLC80ucl5dHvXv3pgMHDlBZWVmTvLKyMjIyMqJ+/frRq1evuETd0NCQfv/9d6qrq+O6rouLC3Xs2JHu3r3LlZeSkkLy8vLk7OzMJaJZWVmkqalJNjY2PJ9l06ZNJCIiwnMeVnBwMAkLC/MU2PLycho6dCj17t2b61mIiKSkpMjU1JRqa2u58nbv3k0AKCIigisvPDyc+Pn5ad++fTzniiooKJCVlRWVl5c3W+6VlZWUnZ1NNTU1lJubS4cOHSJDQ0OSk5NrMnDAyMiI/P396cqVK5SWlsZE9iMxMjJqMuCpNbJt2zby9/dnhfWdsXDhQpKRkaGbN29yfqd5BRWMViCyu3fvpjZt2tCZM2d4/ghra2tT//79ef6ouru7k5ycHM+8K1euEADatGkTV96zZ8+Ij4+P/vjjD57nzpw5k0REROj58+dceStXriQFBQXKycnhyouOjiZRUVFavXo1z8nNEydOpP79+1N6ejpX9LtgwQKSkpLi+aLx6NEjUlRUpClTpvB8WdDQ0KCRI0fyFModO3ZQ+/btKTw8vMnxiooKWrZsGWloaPBcOzYmJoY6dOhAK1eu5PJRXl4e9e3bl2bNmsWVV1dXRyNGjCAJCQmeLxoforGxkUaOHPnBEdFeXl6UkpLCFZkz/q++zZw5k4yMjMjIyIiUlZUpKCiIiSzjs/n777+Jj4+Pjh8/zpzR2kU2KiqKJCQkeIpSTU0NTZw4kVxdXbmaMYmI/vzzT9LW1ua8Sf2bJ0+eUOfOncnR0ZFnE7KjoyNZWlpyRbBERP7+/iQqKsqzee3YsWPUvn17mj9/Pk+BlZSUpJUrV3Ll1dbWkrGxMXXp0oXnItmBgYEkKyvLc8HptLQ0jsC+G/3m5uZSnz59yNzcnEpLS7nO3bVrF4mKilJISEiT42/evCE7Ozvq2rUrT4G9cuUKSUlJkZeXF1defX09mZiYkJOTE89IfvHixaSnp0exsbH/uT6kpqbSzp07SVtbm3r06EF79+6lyMhImjlzJllZWdGSJUu4mpVVVFRo8uTJFBoaSg0NDexb+Q7m5uYUGRlJ6enplJeXx0SW8Vlcv36dpKWlyd3dnTnja4js53QKV1ZWkqioKPn4+HANyngrsEOHDuUaGPR2HVw5OTm6desW13UfPXpEXbp0oWnTplF1dXWTvJycHNLR0SELCwuugUE1NTU0Z84cGjBgANfI28bGRgoJCSFRUVHatWsXV97169dJTEyMVq5cyfUsSUlJNGbMGLKzs6PU1FSuZ3FzcyNZWVm6efMm18Ce5ORkUlFRoQ0bNnA9y9vm7uHDh1NlZSXXYKV58+aRlJQUpaWlcT2nra0tde/enWuUdWNjI8XGxlKXLl1o3759XM+SnJxM6urq5OzsTDU1NVyDnKZMmUI2NjZcvv2YuuDt7U0dOnQgdXV1OnToEJWXl3PNVaurq6MdO3aQpKQk8fPzk6SkJImLi3MEV15enpycnOjs2bNc/vpZEz8/P124cKHV3t/WrVvZ6OLvJFVXV5OxsTFpa2tzDQRlqWXSZ4lsSEgInTlzhmdeVlZWkxGp/06UcrDHAAAgAElEQVRFRUU0ZswYrpGub5O7uzunGZPXaEt7e3suUWpsbKTQ0FAaPHgwxcbGcuVdu3aNREREaO/evVx5OTk5ZG5uTqdOneLKe/HiBcnLy5OLiwvP+/nrr79IVlaWM73n3ykoKIg6dOhAfn5+PK+rpaVF5ubmXCOFGxsbadeuXaSsrMw15eitD9TV1blGJjc2NlJ0dDRpaGjQiRMneI6IVlBQICcnJ6687OxsUlNTozFjxnCN0H5fKisro3nz5pGmpiZpaWnRnj173mu/bt06AkDDhg2j06dP09OnT+nq1av022+/kaqqapMh8wMHDqSJEydSdHQ0vXr1ioksE1mWPmPmx7x580hfX59kZGR4BiG+vr40ceJECgoKYj77gumHWru4oKAAgoKCPNebLCkpQV5eHrS1tf/TNWtra5GSkgJtbW2e2zxlZ2eDiHgulJCfn4/Kykqoqalx5b1+/Rrnzp2DtbU1xMTEuPKXLVsGe3t7zjJ7b3n16hWOHj0KW1tbrsU4AGDfvn3Q0dFB3759ufJCQkKQmpqKRYsWcW3QfOnSJURFRcHT0xMiIiIf5Rs3NzecPn0afHx8WLJkCWxtbXk+CxEhICAAYWFhqK6uxubNmyEjI4NOnTo1WYzi1atXKCgowMiRI5ssGAEAXbt2hbGxMQwMDGBlZQU5ObmfZhK9mpoa7t+/D1FRUc6x8vJyHD16FBMmTGhy/FtgZGSEEydONFnikdH6yMrKQmxsLPbs2YPAwMAmi1H4+fnh+fPn6NWrF2bPno0bN26wNbu/1LKjbIMAxqcSEBCA9u3b49dff+W5QUBDQwOuXr2KCRMmAACmTp2K5cuXo3379lwrPr18+RILFy7EqVOnYGBgAE9PT1RWViI1NRVlZWVYv349qqqqAPyz9rKTkxOsra3Rr18/yMjI/NB+1tbWxqNHjzj/l5WVQVlZGbKysujcuTOio6Nb1f0xWjeNjY2c9br//V3l5+fHq1evoKioiOvXr0NHR4c5i4ksozVSWlqKK1euYPv27bh//z6cnZ3h5OQERUVFrgg3Pz8fO3fuxL59+6ChoYFx48Zh9uzZXNe8c+cOXF1dOctUvqVLly4YPHgwxo8fDzMzs1a3qfTncvbsWfzxxx94/Pgx55iNjQ1++eUXzJ8/v1UIHBPZH4cFCxbg+fPnOHnyJHPGF0KAuYDxpTl16hTmzJmD+fPn4/DhwzwjzcrKSqxatQqHDh2CtrY2goODYWhoyFMka2pqkJqairy8PKiqqsLT0xOioqIIDQ1FWFgYjhw5giNHjkBNTQ0zZszAxIkTIS0t/dHN3q2Z7Oxs9O/fn/N/XFwcoqKicPTo0VZzj+92PTC+P4gI/v7+IKIm6/oyvkAkS0QskmV8VdEICAjA5s2bISUlBR8fH0yePJmnbXl5OR4+fAgnJyfU1tZiwYIFmDVrFic/JSUF+fn58PX1RVlZGa5fv87JExcXh5WVFRwdHdGrV6/vtknZzs4ORkZGmDdvHgDA3t4e8fHxcHJyAgD4+vpyNjT4Vq0We/fuhZubG6vc3ymhoaEICQmBiYkJevXqha5du/Ic78H4NPiZCxhfk1u3biErKwshISGIj49vVmAPHToEPT09ODg4YN68eUhISGgisMA/+6rq6+vD2toajY2NXD/+QUFBMDExgZ6eHjZs2ICQkJDvzl+pqanQ1NTkvHScP38ednZ2ePnyJQQFBZvdHelrcfPmTWRmZrKK/Z1SUFCAmJgYnDp1CosWLYKBgQFn9ybGF4pkWZ8s41tB72x1V15ejvDwcPj4+KChoQHLli3DhAkTeDYhNzQ0IDY2Fj4+PkhKSsKkSZPg6emJoqIipKenIz8/H/Hx8cjMzMS9e/eQn58PPj4+CAsL47fffoO1tTV0dHRa9YjYmpoa9OnTBw8ePICAgABKSkogJSWFW7duoX///vDw8EBNTQ02btwI4J8tu44cOYKsrCxOk3pLc+LECVy+fBl+fn6sQn/HFBUVoaCgAF27duXatpLx+T90DMY34d3lHF1dXUlLS4t27txJVVVVPM8pLi6mjRs30i+//EIyMjK0ZMkSnquJlZWVUVFREV28eJHs7e0JALVv356kpaU583AVFRVp/PjxdObMGaqsrGx1/nm7rOjbVbmKi4sJAN2+fZvy8vJIRkaGYmJiOPa//fYbmZubk5aWFllZWX2VexwzZgzPtbgZDMY/CLAuWca3jGT/zZo1a0BE6NChA1d+bW0t9u3bh9WrV+P169f4448/cPjwYU7f0bvXKi0thY+PD8LCwmBgYID9+/dj+PDhEBAQwPbt25GZmYnQ0FAcPXoUR48ehaKiIkaMGAFNTU3MnDkTYmJiXNMcvjZ1dXWYOHEi2rRpAyKCkJAQevXqherqauzYsQP9+vXD4MGDOc/u4+ODzp07Iz8/H2ZmZvga320igrKyMtjvCIPBGza6mNFq4LWQxdtm5EGDBqFt27ZYvXo1LCwsICsry9M2PT0dO3bswM6dO2FlZYWIiAiuSfWTJ0+GpqYmNm/ejFGjRuH27dvIycnB/v37AQCLFy+GiYkJPDw8oKCgAC0trW/ij927d0NDQ4Pzv7CwMC5evIjffvsNtbW1OHToUJP5yZ07dwYAHDly5KdarIPBaM2w0cWMbxrJ/rtP9n08fvwYKioqEBYW5pmfkZEBX19fHDlyBIaGhvD29kafPn142tbW1mLLli3YtWsXCgsLsWDBAlhYWOD48eNISUnBxYsXUV9fDwBo3749evXqhenTp0NISAgAMGXKlBb3TXV1NYyNjbFv3z706tXro8/Lzc2FlZUVzp8/3+JCW1hYCHt7e5w8eZL14zEYzUWyTGMZ31JkP5a3Ed2755SVlcHNzQ1hYWEYOnQoLl26hN69e4Ofn5/LtqSkBIcPH8bq1avRuXNnbN68Gaamppz5tLq6ugD+GXG5e/dubNmyBaWlpUhISGiyCIaXlxcmTpwIR0dHKCkptYjAlJeX4969exAUFPxoP5WWlmL48OHYtGkTcnJyUFVV1WTpvC/N69evUV9fD2FhYdZczGA0J7LMBYzvmaKiIowePRrOzs4YMGAAT5uSkhIEBgZi+/btkJKSwpYtWzBu3Dguu7d9sAkJCbhw4QJKS0sxZMgQuLm54erVqxAQEMDVq1cRFxeHdevWYd26dRgwYACGDx8Oc3NzGBoafrHnOnfuHPT09Jo0F3+I9evXIyUlBWZmZhATE0NcXFyL+v7gwYOsAjIYH4BN4WF800j2Y5uLP/X627Ztw8aNGyEjIwNPT0+YmZnxjDwbGxsRGRkJHx8fpKamwsPDA6NHj4acnBw6dOiAhoYGVFdXo76+Hjt27ICnp+c/XyA+PhARBAUFoaysjP79+8PT0xNaWlo813P+EE+fPsXWrVuRl5eHUaNGYcaMGR89ACs9PZ0zX1hISAhKSkotWn5Lly5F9+7dMXXqVFaZGYzmItmW/JFjMD74lteC9S8qKgr/+9//sGPHDlhZWfG0qampwfnz5/HXX3/hxYsXcHJyQnR0NNdSgQICAigsLMTOnTuxbds2KCsrw83NDVpaWjh9+jRyc3MREhKCtLQ0HDt2DOrq6rC0tISDgwO0tbU/eunB2tpa+Pv7A/inKTwoKAgxMTEQEPhwoxOv3Z5akpiYGOjo6ID9hjAY7/mNYwOfGD9qJPshzp8/jxUrVnCWeuzfv3+zy8ndv38fM2fOhJycHFatWoUuXbqgQ4cOHPHMy8vD1atXERERwdWMqq+vj3nz5qFr164YNGjQe+/pwYMHTQY6ubm5Yf369a1SyBQUFBAeHg49PT1WmRmM5iJZprGMbymy34rg4GC4u7tj4cKFmDlzJmd1pHfvKT8/H+vWrcPevXuxf/9+2NnZNWm+fWsvIiKCkpISXLx4EeLi4vjtt9+Qn5+PzMxMPHr0CJMnT0bbtm1hamoKa2trWFlZQV5e/r0+MTU1xdq1a7+5r3iRlJQEYWFh6OrqskFPDMYHfugYjFax4lNr4t69ezRlyhQSFRUlZ2dnOnv2bLO2+/btIzU1NZKRkaFFixZxrUCVmppKO3fuJG1tbc5qU3x8fDRmzBgKCgqi9PR0jm1ycjIBIAEBAbp8+XKr9c/ff/9Nurq6rBIzGGzFJwaLZP8b06ZNQ2hoKNTU1HDkyBFYWFjwvN+AgACEh4cjKioKv//+O1xcXDgLQvzbtnv37hATE8OuXbs4zb58fHw4ceIETpw4ARkZGUhLS2PSpEno1q0bAMDf3x9Dhw5ttT5KSkqCtbU1i2IZjA/ARhczvqnItsa+xsrKShQWFkJFRYVn/rVr1+Dj44N79+7B3t4eS5cuhZSUFE/bzMxMbN26Fbt27YK5uTmsra3Rv39/9OjRA1euXEF4eDiCg4NRWFjY5Lzt27fDzMwMXbt2bZVlN3jwYJw5cwaSkpKsIjMY7xNZNvCJwUT243FwcMCpU6cwe/ZsODs7NyvE6enp2Lp1K4KCgmBkZIRly5Y12Xz936xZswYBAQFIT09vcrxDhw7o27cvXFxcMHToUJ59uN+Cp0+fQkdHB8+fP2ciy2CwSJbBRPbLUVxcDADNisuLFy+watUqhIaGYvDgwfD09ES/fv14znWtqKhAcHAwPD09oaSkBE9PTxgZGcHX1xeBgYEA/llVqaGhAeLi4hg4cCBsbGwwduzYZtdu/hrcvXsXU6dORUJCQrPLXDIYDCayDCayX4w3b97A09MTe/fuhbm5Odzc3KCjo9Os/d69e7F27VqIi4tj9OjRWLlyJU+7yMhInjvqjB07FtbW1vj11185ayp/LdauXYvk5GQEBwezSsxgMJFlMJFteWpra3HhwgUUFRXB0dGxWbstW7YgICAA7dq1w6JFi2BhYYH27dvztL148SJ8fHxw7do1WFpaQlFREQAQEhKCoqIiAIC6ujo6d+6MpUuXwsTEpMWfs7GxEUZGRrCwsIC7uzurxAwGE1kGE9lv/5w7d+6Ej48PGhoa4OHhgfnz5zcr1unp6XBxccHNmzdhZmYGT0/PJjsKERF27dqF8PBwXL58mbNjEB8fH8zNzeHp6QlNTU2Ii4t/8Wd5+fIlFBQUcO3aNQwePJhVYgbjA/AzFzAYLR/lXr58GVOnTkViYmKzAhsZGQkjIyNoa2tDWloaV69exfHjx7m27OPj48OUKVMwcuRItGnTBhISEhg7diz4+flx9uxZDBo0CIMGDYKLiwvCwsKQl5f3xZ4lODgYampq6NmzJytYBoNFsgwWybZ+AS4sLMT48eNx//59DBs2rNnBUkSEkpISHDt2DN7e3pCTk4OnpyeMjY0hLS2Nly9f4uzZs/D29kZxcTHKysoAABISEhAWFoaUlBRnk4T/GuXm5ubC1tYWubm5kJSUxN69e9GnTx828InB+JDIsik8DCay347IyEjY2Nhg9OjRWLRoUbODpV69eoX9+/dj8eLFkJOTg6urK5YtW9bsdRMTE2FtbY38/HwAgLy8POfvtm3bwtbWFj169ICHh8dHlUFWVlaTvWllZGTw7NkzdOjQgVVkBoOJLIOJbOvl8ePH0NTUbDZ/w4YN8Pf3h4SEBNzd3TFw4EB06dKFp212djbWrl2L//3vfxg8eDCsrKygo6MDGRkZPHnyBKtXr8bly5c59r179wYfHx9mzpwJV1fXjxbZkydPwtramlViBoOJLIOJ7PdHQ0NDk8FSy5cvh4uLS7N71GZnZ2PixIlITk6GvLw8jh49it69e3M1OT958gS//fYb4uPjua6hpKQEW1tbGBgYwNzcHCIiIjxF1t3dHT4+Ph+9zy2DwUSWwWAi26qora1FdHQ0Hjx4ADs7uyZR5L95+vQp/Pz8cPDgQRgaGsLR0RF2dnY8bcvKyjB//nwcP34cDg4OsLGxAQCcOnUKly9fxuPHjzm2/fv3x/DhwzFo0CAYGRmhvLwcysrKUFdXR2pqKisgBuNjRZYNfGIwkf3+yM3NRVBQEPbu3Qt+fn54enpiypQpPP3Z0NCAefPm4dy5c5wlHt/d4L28vBypqakICgrCjh070NjYyMmTk5NDnz59cPHiRSQmJr53kQ0Gg8FElsFE9rvHyMgIdXV1WLt2LYyNjZu1S01Nxdy5c1FYWIijR49CXV2dp11DQwPOnDmDadOmQUxMDIMGDYKCggIuXryIhw8fcuy0tLQwatQozJ49m0uoGQwGE1kGE9mfghs3bmDt2rWcDeM9PDyanW5z4cIFeHt74+nTp7C0tIS3tzc6deoEAKiqqkJKSgr27NmDiIgIZGdnAwCkpKTQtWtXjBo1ChYWFhg4cCBzOoPBRJbBRPbHZ+LEiYiJicHkyZPh5eXFc05sdXU1oqKi4OPjg5ycHOzevRvDhg1rdh3k4uJirFy5Etu2bePsPJSVlYXGxka0adMG8vLy8PT0xMiRIyErK9tk0BSDwUSWwWAi+8Nw5coVqKqqQklJiWf+6dOnsWbNGrx48QIuLi6YMWMGpKWledomJSVhy5YtuHr1KqSkpODm5oZff/0VwD9rK58+fRqBgYGorKzknNOvXz8MGzYM5ubm723KZjCYyDIYTGR/GNLS0mBtbY3CwkJ4eHjAwcGBp7i+efMGz58/x9q1axEREQFFRUV4enpi1KhRaNeuXRPb2tparFmzBmFhYXj69ClnWk99fT2ICEOGDIGZmRmGDx8OdXV1CAoKQkBAgBUG4+cRWTaFh8FElgH8s7/tqlWrsHHjRqiqqmL37t3v3dnn+vXrmDx5Mt68eQMHBwcsWrSIs7H848ePERcXh/DwcJw7dw51dXUAAF1dXfTo0QOOjo4wMjJiTmcwkWUwmMj++MTGxmLmzJno2rUr3N3d0aNHD0hISDRru379ely6dAlz586Fk5MTp5/2XTIzM2Fvb4/r1683Oc7Pzw8dHR3Y2dnBzMyMbTjAYCLLYDCR/bHLory8HCIiIjxXlaqvr0dCQgK8vb1x9+5dTJgwAcuWLWu2Lzc/Px8rVqzAwYMHMWzYMNja2mLs2LEoKyvD33//jYMHDyIrKwtVVVVo27YtunfvDmtra8yaNQtycnJffSN6BoOJLIOJLOObEBcXB29vbyQmJmLatGlwdXVtdgWqtLQ0+Pv7Y9++fejcuTPmzJmD6dOn85w+FB0djQkTJqCgoKDJcUNDQ4waNQojRoyArq4uKwDG9y2ybOATg4ks433k5OTAz88P1tbWMDAw4GnT0NCAJ0+eYOHChbh06RImTZqErVu38mxyJiJUVVXBy8sL27Ztw5AhQ9CvXz/07NkTfn5+SElJQW1tLdq1a8eZrztmzBioqanB0dERbdq0aXYNZwaDiSyDwUT2h6GiogJPnz6Fvb098vLyMG7cOLi7u6Nr16487fPy8rB8+XIEBgaiV69e8PDwwLhx47jsZs+ejYsXL+LZs2dceVpaWggODoaEhESzfcEMRmuBbaPBYDA+mefPn8PX1xempqaIj4/Hnj17eApsUVERvLy8oKuri2fPniEiIgJ3797lKbAAoK+vz2li3rVrFwIDAzF27FgAQEpKCvr37w8dHR2Ympri4sWLrCAYLJJlMFgk+/Px+vVrbNu2Ddu3b0ffvn3h6ekJQ0NDnnNlKysrkZ6ejvHjxyM3Nxd2dnbw9PTkiDYRobS0FA8ePICrqyuSk5MBAG3atIGYmBgMDQ1hbW2NX3/9FWJiYsz5DBbJMhiMH5fc3FxoaWnh+vXrCAsLQ1RUFIYOHcolsNXV1bh8+TJGjRqFwYMHY+jQoUhMTERAQECTqJiPjw85OTk4ePAgkpOTISsri6CgIMycORP19fU4c+YMZs6cCR0dHbi4uODy5ctNdhNiMFgky2CRLOOHoba2FhkZGVBTU2t2ladHjx7B1tYWT548wdSpU+Hl5cWzn5WIsH37dnh6ekJFRQWenp4wMDBA586dAfzTbP306VMsWrQISUlJnPO6d++O0aNHQ01NDbNmzWL1jfH1RZZN4WEwkWV8bS5cuIA9e/bg8uXLGDduHDw8PJodxHT48GG4ublBXl4ey5cvh7W1NU+7mpoabNy4EWvWrIGEhAQkJSXx8OFDvP2Jk5GRgZ2dHWbMmIFu3brx3DiBwWAiy2Aiy/juycrKQkZGBjp27AhNTU2eNi9fvoSfnx/u37+PSZMmwdbWFm3btuVpGxkZieXLlyMzMxMmJibw9fWFvLw8rl+/joyMDJw5cwY3b95ERkYGAEBbWxu//PILLC0tMWrUKFYgDCayDCayjJ+D6upqeHt7Y8+ePejduzfWrVsHHR0dnpHrpUuX4OPjg7S0NAQFBWHgwIE8I1QiQmJiIqytrfHy5Ut06NCBs3OQpKQkpk2bBhsbG/Ts2ZMNmmJ8UdjAJwaD0aq4du0a7t69i5CQEFy6dImnwJ48eRK//PILXFxcYGFhgdTUVIwcOZKnwCYnJ2PatGkYNmwYrKyscPToUTx8+BDh4eHo168fioqKsH79ehgYGKBfv35wcnJCTEwMJ+plMFgky2CRLOOn4MKFC1i9ejWSk5Ph4eGBKVOmoGPHjjxtHz9+jPDwcPj4+GDMmDFYtmwZunXrxhU1R0REIDw8HAcOHGiSJyMjgz59+sDT0xNDhw5lzmd8EgJMYxnfUmQZjP9CY2Mjxo0bh+joaM7ete/Wo5SUFKxYsQKRkZHo3r077t+/32Su7btRc3h4OIKCgmBiYgIbGxsAQHh4OO7fv49Lly7h0qVLkJCQgL29PaZMmQJ1dXV06NCBFQbj4yJZNoWHwSJZxo9AUlISNm/ejJCQEDg4OGDu3LnQ0tLiaVtQUMDZyKBbt25YunQphg8f3sTm+fPn2L17NyIjI3H37l3OcS0tLSgoKGDBggWwtLRkjme8P5JlLmAwGD8CXl5ekJSUxL1796CmpsbTpry8HL6+vti9eze0tLRw8OBBGBkZQVBQkMu2Xbt2KC8vx7NnzyAvL48ZM2bg9u3biI+Px5MnTxATEwM5OTnY29vDxsYGffr0gYiICCsIBotkGSySZfxc5OXlISAgANu2bUO3bt0wY8YMTJ8+naftmzdvsHz5cmzfvh2CgoLw8fHBiBEjoKGhwbGJjIzEihUrEB8fzzmmrKwMAwMDmJmZYfDgwc1uksBgIstgMJFl/DBkZWVh5MiRkJOTg4eHB4YPH87pz32XkJAQeHl5oaamBkuWLIGJiQnXYKm3+Pr6YvHixWjTpg2srKxw4sQJTp6MjAwmTZqEJ0+ewMzMDJaWlkx0mcgyGExkGT8m9fX14Ofn5ymuFRUVOHXqFHx8fPDmzRusWLEC9vb2PPesJSLExsbCx8cHt27dgr29PaytrWFsbIz6+nrs27cPJ0+exN27d1FUVMQ5r02bNpg0aRJsbGwwaNAgyMvLs0L5WUSWTeFhMJFl/KxkZGTAxsYGjx8/xubNm+Hg4NDsYhRxcXFYu3Ytrl69CicnJ8yaNavZ6PTSpUsYNmwYBg8eDGlpaRQVFSE2NhYAICcnB319fUyfPh3Kysro27cvKwgWyTIYTGQZP2aEGxUVhT59+kBBQYErv6GhAbdu3YK3tzfi4uIwYMAA/P3335CTk+N5vfz8fHh7eyMkJAT6+vrYtm0bVFRUUFNTg8LCQqxevRqHDx9GRUUFiAgiIiKwtLSEjY0NzM3N2WpTLJJlMJjIMn4Onj17BldXV9y5cwcODg74448/0KlTp2Ztd+3aBX9/f5ibm2Px4sXQ1dXlsnvz5g3CwsIwY8YMCAgIQFZWlrOylICAACZMmABNTU2Ym5ujX79+rBCYyDIYTGQZPyanT59GXFwcnJ2doayszNMmOzsbGzZswOHDhzFw4EDY2trC0dGRp21YWBi8vLxQWVmJxYsXw8TEBNLS0khKSkJwcDCOHj2KqqoqAEDbtm1hYWEBS0tLSEtLN7vzEOM7EFnWXMxgIstg/DcqKioQHByMJUuWQFZWFkuXLoWDgwPXwKrKykpkZmZiwoQJKCkpwbx582Bra8uzL/fNmzdYvXo11qxZAzExMZSXlwMAjI2NER0dzZz+nSLAfuQY3/Qtj9U/xnfIvn37kJCQgIsXL/JsFgaAsrIyTJgwAWlpaRg6dCg2btzYbJ9rQkIC1q1bh8uXLyMwMBA6OjrIyspCUFAQpk6dyr4nLJJlMFgky2AAQG1tLQ4dOoSQkBAMGjQICxYs4Lk7UGNjI+7cuQMfHx9cuXIFU6ZMwZIlS3gOwGJ8x5EscwGDwWB8GSorK2FjY4OCggKsWrWq2b7UxMRErFy5Ejdv3sTkyZPh7+/f7KAqBotkGQwWyTIY/5+ysjK0bdsWwsLCPMV13bp1iIyMhKurK5ydndlKUCySZTAYDMbH8r5t8CZNmgRzc3M8e/as2bm2jB8skmVTeBgskmUwGIwWimSZxjK+pcgyGAzGDy2yLJJgfEtY/WMwGD8y/MwFDAaDwWC0UCTLmuwY3wpW9xgMxg8vsqy5jvEtYfWPwWCwSJbBYJEsg8Fg/GdYnyyDwWAwGExkGQwGg8FgIstgMBgMBoOJLIPBYDAYTGQZDAaDwWAiy2AwGAwG4x/YPFnGN4XVPwaD8UOLLJuryPhWsLrHYDBYJMtgsEiWwWAwPgnWJ8tgMBgMRktFsqzJjvGtYHWPwWCwSJbBYDAYDMa3E9mqqipUV1ejvr4elZWVqKysbJL3779rampavVMqKiqa3DcvGhoaUF5ejvLyclRXV/P0SXl5+Qev89autdLY2Ijy8vL3Rp2VlZWora396Oj1rd8+VAYfY8fgJj4+HnV1dcwRDMaPILJXrlxB37590bdvX5iamkJRURFqamqYO3cuJkyYABUVFQQEBCA5ORnq6uowMDBo1Q45e/Ys5OTkMHz48GZtHj58iJEjR0JcXBzi4uLo0aMHMjIyOPm3bt2CqqoqxMXFoaqqivXr1zd7rTFjxqBTp048RdzNzQ1TpkxpkhYuXIi0tDpqSwQAABUISURBVDS8fPnyq/hjzJgxEBcX5/l5dXV1+P3336GsrIytW7d+1PX8/f0xcOBAiIuL4/DhwzxtMjIyoKSkBHFxcVhaWqKhoYF9U/8DBw8ehJmZGfLz85kzGIxWEKnQ5yY/Pz8CQABo7Nix9ODBA0pNTaVdu3aRqqoqTZs2jRYsWEAAqG3btvTo0SP6Ep/bEumXX34hAKSmpkZFRUU8bXr06EEhISE0f/586t69OwGgyZMnU2NjI9XV1ZGMjAzHH2/T8ePHeV5r3rx5JCQkRE+ePOHKS0xMJCMjI2rfvj2FhoZSYmIi2djYkKSkJCkpKVFkZGSL++PYsWMEgLZu3cozPz09nTQ1NUlXV/ejr3np0iUCQMLCwpSYmMiVHx0dTYKCggSAzp0712rrSmtNubm5zdY3llhi6eumL9Jc7OLiAhkZGQBAeHg4NDU10b17d0ycOBHR0dFISEiAt7c3jh49iokTJ7baF47AwEDcvXsXAPDs2TNkZmY2azd27Fhs3rwZhoaGAIDLly8DAGJjYzFlyhRUVVWhqKgIvXr1AgB4enryvJaJiQlqamoQGxvLlaejo4MZM2agqqoKfHx80NHRQWhoKKZPn47s7GysXbu2xX2ira0NACgoKAAAlJeXw8DAAJcuXQIAqKiooH379pz8j0VMTAzV1dXw9fVtcry+vh4rVqyAsLAwAEBWVrZV1ZHc3NxW/+KsoKAAW1tbni0EGRkZKCkpafa58vLykJOTw6IPBuML8UXmybZp04Yz3/Ft015cXByioqKwbNkynD17FsnJySgqKsK4ceMgKirKsb958yY2btyIsrIyjB07FgoKCgAAZWVljsh1794d0tLSiI+PBwB07NgROjo6uHv3LvLy8gAAcnJykJKSwvHjx2FmZoY+ffqgoKAAN2/eBAB06tQJ/fr1a/YZMjMzcfnyZaxbtw7Ozs4A/pnDycs/urq6nL/f5ltaWoKPjw/KysrYuHEjAKBdu3b4448/MHXq1Gav9fbYx+bz8fFhwIABAABFRUVcvXoV586dg6qqKl68eIHs7Gxs2rQJubm52Lp1K7Kzs2Fqaorp06dDQkICBQUFiIuLg7CwMERFRbFhwwaYmprC0dERoqKiAICamhocOHAA4eHhGD16NOfzi4uLMXbsWMTHxyMuLg6KiorQ1NRscm8fAx8fHxwcHHD27FlcuXIFxcXFkJKS4ghBdXU1FixYAG9v7ybXffbsGfz9/ZGSkgJRUVFs27YN8vLy2LZtGyIiIiAhIcFpgt6xYwfOnj2L4OBgSEpK4urVq1i/fj0aGxuhr6+P5cuXAwDOnz+PU6dOwcHBASEhIejUqRPc3Ny47jk1NRV+fn44cOAAbGxssHXrVkhLS+PIkSMICgpC586dsXfvXnh6eiIjIwNbtmxBYWEhoqOjceHCBdjY2CAkJAQAYG5uDkdHR4iIiCA3Nxd//PEHhgwZgitXrsDY2Biurq548uQJrly5gidPnsDKygp//fUX2rZti+3bt0NRUREAcOzYMVy9ehW1tbUQERHBhg0bICAggKioKJw8eRLbt2/n3H90dDTnheb58+f4888/MWXKFGRnZ8PZ2RkJCQlwcHBAYGAg6urqcOjQIdjZ2bFfSAbjc6EvhKysLKdptLS0lDw8PMjDw4OTn56eTioqKgSAAgMDiYho1apV1K5dO9LT06Nz584RPz8/ASBVVVVKTU3lXG/58uX05s0bGj9+PAGgMWPGEBHR/fv3OZ/brl07kpCQIAA0YMAAevHiBenp6ZGenh6tW7eOxMTEaPPmzTzvvb6+ngwMDOjatWsUGhrK+dw7d+40+7zPnj2jSZMmkaioKAH4f+2deVAUR9jGn0UjEYWVQ8UrioqgYBxBQdSysAwCBglJLEAF74gapbTiUUaIiYli4hEVj1JjKopXvAA1EvCIeOCKJ4YVUGABLSWKEBFd2F3m+f7w2/lYF4xRU6byza+qi52+pvudrnnn7X674b59++rNt3LlSgJgeHh4venJyckEwK1bt9abnpCQQABMTEwkSdbW1nL27Nm0srLi1atXOWrUKAJgo0aN6OXlxc6dO/PIkSNs0aIFt27dyry8PPbo0YMzZswgSe7Zs4dKpZItW7bkxIkTGRUVRQDcvXs3SVKv13PkyJGcPn06NRoN+/btSwCMiYmhVqvlyJEjCYAjRoxgSUkJSdLT05OdOnV64bFy4sQJTps2jZs2bSIALl68WEqbN28e9+7dyyVLlhAAL168SJLMz89nt27deOTIEWo0Gg4cOJAeHh4sLy/nmTNnaGFhwZkzZ0r1rF+/nkFBQTQYDDx79iz79OnDgoICHj9+nDY2NoyNjaVaraaPjw8BsGXLlvTw8ODAgQNZU1Nj0t6srCw6Ozvz2LFjLCwsJABGRkZSFEVqtVqGh4fTwcGBOTk57N27N3/77TeSpEajoZOTEwEwKCiIs2fPZv/+/QmAe/bsIUn6+/tzzpw5JMnFixeze/fuNBgMvHPnDl1cXAiAEydO5OrVq9miRQsOHTqUJFlUVERXV1dqNBpmZ2fT0dGRlZWVPHz4MB0dHSkIgtT++Ph4enl5Sdfbtm2jpaUld+7cSZ1Ox/79+7NJkyZcvnw5NRoNvby8GBAQwNraWsrIyLwa/4iSNYa6SpYkAwICTJRss2bNCICHDh0iSekFtH//ftbW1tLX11dSssYXZ10lS5KCIBAAe/XqxY0bN9Le3p4hISEcPXo0AXDJkiUkSR8fH7Zp06betsfGxjI2NpYkX1jJ3rp1S2qfUckbFYKRhw8fsmPHjmzZsiXVavUrKdlly5bx/PnzDA4OJgBJaaanpxMA165dK5XJzc2ll5cXMzIySJKRkZEcN26clO7k5EQPDw+pHwAYHR1Nkly9ejXd3NykvGq1WlKyJLlx40YCYGpqqpTnZZVsQUEBra2taWNjw7KyMv7xxx9s27Ytb9++baZkZ82axV69ejEzM5M//vgjPTw8CIA3btwgSYaEhNDOzo4PHjygKIqMiIjghQsXqNPp6Ofnxw8//JCZmZnMzMxky5Yt6e7uzqqqKp47d05a+22IAQMGMCoqipmZmZJvAQCWlpZK8lYoFATAlStXmpSdM2cOrayspOu7d+9SqVRy1KhRJMkJEyZQpVJJ4xCApKRDQ0MJgHq9niT5zTff0MfHR/roAMDDhw+TJA8ePEidTid92BmVbE1NDX19fTl9+nSpDeXl5bS1tWVUVBRJcsiQIVQqlVL6rFmzCIBFRUXyG1JG5hX5R/bJZmRkICIi4oXzd+/evcFpxfooLCw02SYEAB06dMDkyZNx/vx5JCQkICkpCQCQm5uLbdu24f79+ygrK8PJkydNypWXlyMxMRFt27bFtm3bTNIPHz7coGdr+/btcfz4cWlqUavVIi0tzSRPQkICqqurkZKSIq1tviy//PIL1q5dC6VSiQMHDkhT0satGnVl6OLigvPnz6OqqgoBAQHIy8szq8/FxaXe++zduxehoaEv3U6DwYCbN29Ksn8eTk5OGDVqFCorK5GWlobExESMGTMG7dq1M8ubm5sLkhBFET169MD69euhUqnQoUMHAMDcuXNRVVUlrY1fvnwZffr0wcOHD3H06FHo9XrEx8cjPj4eAQEBCAwMBABpCrehMVheXo579+5BpVIhPj4e/v7+UKlUUKlU0hS3i4uLJLN3333XpHx2drbJtaOjIwYNGoS9e/cCALZs2YLs7Gx88MEHSE9Pf2E5N2/eHG3btkVwcDDmz58PHx8fvPXWW2b5Hjx4YDbmbW1t4efnh8TERNlzW0bmn16TfV2n7tStp2/fvoiNjcWBAwdM4o2//9eChp+fH5KSkrBixQpMmjQJxcXFsLa2hpubG4D/22NrzG8s7+TkBCsrK5M44+/OnTub3KuwsBDdu3fHxIkTpbXZum2qqKhAdnY2pk6datanL774AnPmzIGFhUWDHwFLly7F5cuXceLECWRmZkp1Z2RkYPXq1UhLS0PPnj2h1+vx8OFD2Nvb1yu3un2pLz06OhohISFmaV5eXmblHz9+jGHDhsFgMGD//v2SAhJFEQqFAiRRWFhYr/yM+1jrxtf3DBoqGxgYiOLiYjRu3Bh6vd7sxZ+RkWGSf+bMmdixYwcWLFiAmpoa3Lhxo8G6ra2tpf4+K4d+/frB0dER8fHxKC0txaRJk0zqCQoKwuTJk+tVVs+Tf3FxMW7evImvvvoKsbGxUrxWq4WFhYVUpqSkBJaWlli0aBH69esHKyureuVmjGvevDl0Oh1mzpyJu3fvYteuXdiyZQtOnTrVoKzrhlatWuHYsWNYuHAhli5ditTUVKSlpcHe3t4sb339I4lOnTpJ4+HZvM+TiYyMzIvzj5345OzsjLCwsOfm2bJlCzp27IgjR47g888/h7u7O3bs2IFu3bqB5GvZ59enTx/MmzdPCs7OzibplZWV8Pf3l4LROgEAHx8fWFhYYP/+/RgxYgTu3LmDO3fuIDU1Fffv338qQAsLjBs3DgAQGRkJ4OlBClFRUfD29pbyf/bZZ5J1/TopKyszi9uxYwfy8/ORlJQER0dHSbnVPTDivffea7DOrVu3vnR70tLSkJeXB7VajRs3bkCtVpsEpVJpZlG7urpCo9GgZ8+eaNq0aYN1X7hwwcS79+DBg/jhhx+k6wULFuDUqVNYsWKF9EHSpEkTODo6Ijk52URhHD16FAUFBc91hgOAzp07o3v37khJSZHiHj9+jPDwcGkMbN68Gd7e3oiLi8OpU6eeu2e4uroa9+/fx5gxY6BWq7FhwwZ4eHg8t9/1UVpaiidPnmDnzp1Yvnw5rly5YiILI5aWlmjVqhVu3bplMubPnj2L4ODgF3JWu3Pnjsk+cBkZmX+BkgWebu9oyNoFgClTpqC4uBi7d+9GcnIykpOTpWk8hUIhvZBFUYTBYMDVq1cBPPUyfXa6+Fl69eolKRy9Xg9RFHH69Gmzl4UgCEhJSZFC3S0la9euxd27dzFmzBgcOHAAy5cvx5gxYxAYGIjhw4ejrKwMJLF9+3YEBARg6NChMBgMCA0NhVqtxvbt2xEYGIjAwEDEx8ebyeNFEEXxuemVlZX15isrK8OuXbugUqmQk5ODR48eQafTSc/gnXfeqbc+QRBQXl6OuLg46HQ6aUtTbW2tyT0MBsMLn/L0LFlZWRBFUaovJiYGCoUCCxYskCwr4zSm8f5jx46FTqdDQEAAVq1aha+//hoxMTEYPHiwVG94eDi6du0KpVIpydrGxgaDBw9GSkoKxo8fj1WrVuHbb7/FkiVL0L59e2RlZT1XzsbyFy5cwIwZM+Dl5QU3Nze4u7vDwcEBJSUl+PLLLxETE4NPPvkEQ4YMwaJFi/D7778DAHr27AmDwYBr165Bp9MhNTUV9+7dw4wZM2BhYQGFQoGMjAysWrUK69atk6awnzx5IrXJ+PfatWuSdfn48WP8+uuvaNSoEaZNmwZ3d3dpzIuiKOWzs7PD9OnTcejQIcydOxc6nQ7R0dFo3Lgxxo8fb2KtGgwGiKJoJpOxY8ciODhYflvKyLwMr7rR9vbt25w0aRLffvttySFkwoQJVKvVJvk2b94spY8YMYJVVVW0srIyc5by9PRkamoqRVFkTEwMAdDS0pJOTk4mhzxs376d586do52dHQGwQ4cOzM3Nle539OhR2tjYEADt7Ozo6+vL6Ojov+zPvn37CIBWVlbMyclhcXExra2taWFhwbi4OMbFxUlOLhYWFhw5ciRDQ0NZXV1NURQZEhJi1icAdHR05O3bt83ul5SURAD86aefzNIuXrwoOZSNHz+et27dMsszZcoUCoLAkJAQqlQqiqLI69evs3Xr1gTAiIgIhoWFsWnTpvT39+fs2bMJgPb29szPz+e2bdsIgG5ubjx58iTz8/Pp6ekptdvV1ZVKpZLe3t7Mz8/n9evX2apVK+k5q1QqOjg4sHnz5jx+/Phfynfz5s309fWlIAhcsGCB5KG7ePFiKc+aNWsoCIIUjAdWzJ07V4obMGAANRqNWf0fffSR2UEMd+/e5ZAhQ+jg4EAbGxtOmDCBN27coFqtZmRkJAVB4PDhwxtsc35+vuRo5erqalK/sU16vZ6iKNLPz4+CIDA0NJR6vZ4BAQFUKBRSuwcOHMiioiKp/NixYykIAt9//32ePn2agiDw448/ZmpqqlRm/vz5LCgoYP/+/SkIAn/++WeWlJRQEAQuXbqUCxcuZFhYGGtqanj48GEOGjSIgiAwNjaWWq2WoigyNjaWo0ePpiAIXL16NfPz8ymKIisqKhgUFERBELhs2TLm5OTQ09OTgiDw+++/pyiKHD16NGfPni0fLCAHObxEUIii+EqLLk+ePJEszLq4ubmZTA0WFRVJe1qBpw4in376KRISEszKKpVKZGVlwcHBAfv27UNaWhqGDh0KW1tb2NnZQaFQoH379igqKsKmTZswYMAAlJSUICIiQlrPBZ46y6xZswaVlZVwdnZGTEwMGjVq9Nz+lJeXIzc3F9bW1tJBEtevX8ejR4/g7e0N4OnZsMav/GbNmkkWhNHy0mq1ZvU2bdq03qnJy5cvIz4+Ht99953ZwQsFBQUmxxm2adMGTk5OZtOGxinhuhjl3adPHzRp0gTXrl2Du7s78vLyUFFRIVlZFRUV0uEDXbp0QevWraHX66X9xb1790ZJSYmJo1TduouLi6VpU1tb2wYdiIxkZmaiS5cu0trh6/x/stXV1QgNDcWGDRvqdZ7SaDSoqamBq6trvdOv9cnRiFEmvXv3/ltTu8OGDUN6evpfzrzIyMj8N3llJfuyaLVatGvXDlOnTsWcOXOk+LCwMKSnpyM7Oxtdu3aVn9B/mNelZJOTk/Hnn38iJycHCoUCcXFx/5o+ykpWRub/N41fpyXxd7h//z60Wi0KCgpw6dIlE4siPDzczEFJ5j/6lfcaxt+RI0ewefNmuLm5ITU1FW9qTD/LxYsXceXKFeh0Oqxbtw6RkZFmjl8yMjL/8Xcc36CP/qVLl8w8Wb29vREcHAxra2v56ciW7AtRWlqKM2fOwNfXVzpD+9/AvXv3UF5eLl137Njxb3sRy8jIyEpWRuaNKlkZGRmZfysWsghkZGRkZGT+GRrLhqzMm7RkZWRkZGRLVkZGRkZGRubvW7LympjMm0QefzIyMv9pJStP2cm8KeSxJyMj81/nfwDTEvEQ7+LJ7AAAAABJRU5ErkJggg==)"
   ]
  },
  {
   "cell_type": "markdown",
   "id": "66639a04-a81a-41ee-bf5b-7fc6eee12609",
   "metadata": {},
   "source": [
    "Figure 4.32 of \"Modern Compressible Flow with Historical Perspective\", Third Edition, John D. Anderson."
   ]
  },
  {
   "cell_type": "code",
   "execution_count": 53,
   "id": "0c400906-ddb5-499e-9faa-79920492c620",
   "metadata": {},
   "outputs": [],
   "source": [
    "theta2 = 30\n",
    "M1 = 2\n",
    "p1 = 3 * atm\n",
    "T1 = 400 * K"
   ]
  },
  {
   "cell_type": "code",
   "execution_count": 54,
   "id": "e0c583b1-5758-49d6-ac9e-46f98d465220",
   "metadata": {},
   "outputs": [
    {
     "name": "stdout",
     "output_type": "stream",
     "text": [
      "key     quantity            \n",
      "----------------------------\n",
      "m       M                        2.00000000\n",
      "pr      P / P0                   0.12780453\n",
      "dr      rho / rho0               0.23004815\n",
      "tr      T / T0                   0.55555556\n",
      "prs     P / P*                   0.24192491\n",
      "drs     rho / rho*               0.36288737\n",
      "trs     T / T*                   0.66666667\n",
      "urs     U / U*                   1.63299316\n",
      "ars     A / A*                   1.68750000\n",
      "ma      Mach Angle              30.00000000\n",
      "pm      Prandtl-Meyer           26.37976081\n"
     ]
    }
   ],
   "source": [
    "res1 = isentropic_solver(\"m\", M1)\n",
    "res1.show()"
   ]
  },
  {
   "cell_type": "markdown",
   "id": "33350b93-517d-4ea9-8f0d-77039e7f4508",
   "metadata": {},
   "source": [
    "$$\n",
    "\\theta_{2} = \\nu(M_{2}) - \\nu(M_{1}) \\quad \\rightarrow \\quad \\nu(M_{2}) = \\theta_{2} + \\nu(M_{1})\n",
    "$$"
   ]
  },
  {
   "cell_type": "code",
   "execution_count": 55,
   "id": "e7a30e0a-33c6-4d69-9081-eea714f57019",
   "metadata": {},
   "outputs": [
    {
     "data": {
      "text/plain": [
       "np.float64(56.37976081341645)"
      ]
     },
     "execution_count": 55,
     "metadata": {},
     "output_type": "execute_result"
    }
   ],
   "source": [
    "mu1 = res1[\"ma\"]\n",
    "nu1 = res1[\"pm\"]\n",
    "nu2 = theta2 + nu1\n",
    "nu2"
   ]
  },
  {
   "cell_type": "code",
   "execution_count": 56,
   "id": "76b75b9b-cba7-4eb2-aef3-fcad370c94d5",
   "metadata": {},
   "outputs": [
    {
     "name": "stdout",
     "output_type": "stream",
     "text": [
      "key     quantity            \n",
      "----------------------------\n",
      "m       M                        3.36827477\n",
      "pr      P / P0                   0.01583151\n",
      "dr      rho / rho0               0.05175406\n",
      "tr      T / T0                   0.30589880\n",
      "prs     P / P*                   0.02996792\n",
      "drs     rho / rho*               0.08163898\n",
      "trs     T / T*                   0.36707856\n",
      "urs     U / U*                   2.04073693\n",
      "ars     A / A*                   6.00226862\n",
      "ma      Mach Angle              17.27077828\n",
      "pm      Prandtl-Meyer           56.37976081\n"
     ]
    }
   ],
   "source": [
    "res2 = isentropic_solver(\"prandtl_meyer\", nu2)\n",
    "res2.show()"
   ]
  },
  {
   "cell_type": "code",
   "execution_count": 57,
   "id": "d8080969-0ae0-4699-8e26-6a668f48df1a",
   "metadata": {},
   "outputs": [],
   "source": [
    "p1_p0 = res1[\"pr\"]\n",
    "T1_T0 = res1[\"tr\"]\n",
    "p2_p0 = res2[\"pr\"]\n",
    "T2_T0 = res2[\"tr\"]\n",
    "\n",
    "M2 = res2[\"m\"]\n",
    "mu2 = res2[\"ma\"]\n",
    "p2 = p2_p0 / p1_p0 * p1\n",
    "T2 = T2_T0 / T1_T0 * T1"
   ]
  },
  {
   "cell_type": "code",
   "execution_count": 58,
   "id": "ab6eaf19-4cbb-42df-ba41-d205ed1e1bd4",
   "metadata": {},
   "outputs": [
    {
     "data": {
      "text/plain": [
       "np.float64(3.368274773334363)"
      ]
     },
     "execution_count": 58,
     "metadata": {},
     "output_type": "execute_result"
    }
   ],
   "source": [
    "M2"
   ]
  },
  {
   "cell_type": "code",
   "execution_count": 59,
   "id": "3181d696-17e7-41a3-aa07-1f563a85619c",
   "metadata": {},
   "outputs": [
    {
     "data": {
      "text/html": [
       "0.3716184190874734 atm"
      ],
      "text/latex": [
       "$0.3716184190874734\\ \\mathrm{atm}$"
      ],
      "text/plain": [
       "<Quantity(0.371618419, 'standard_atmosphere')>"
      ]
     },
     "execution_count": 59,
     "metadata": {},
     "output_type": "execute_result"
    }
   ],
   "source": [
    "p2"
   ]
  },
  {
   "cell_type": "code",
   "execution_count": 60,
   "id": "bcab8e3f-cb25-494d-ae73-13b54bdc8416",
   "metadata": {},
   "outputs": [
    {
     "data": {
      "text/html": [
       "220.2471363316273 K"
      ],
      "text/latex": [
       "$220.2471363316273\\ \\mathrm{K}$"
      ],
      "text/plain": [
       "<Quantity(220.247136, 'kelvin')>"
      ]
     },
     "execution_count": 60,
     "metadata": {},
     "output_type": "execute_result"
    }
   ],
   "source": [
    "T2"
   ]
  },
  {
   "cell_type": "code",
   "execution_count": 61,
   "id": "8ec0d146-5356-4a92-a766-7a3f0785af7c",
   "metadata": {},
   "outputs": [
    {
     "name": "stdout",
     "output_type": "stream",
     "text": [
      "Angle of forward Mach line, mu1 = 30.000000000000004\n",
      "Angle of rearward Mach line, mu2 = -12.729221721532138\n"
     ]
    }
   ],
   "source": [
    "afml = mu1\n",
    "arml = mu2 - theta2\n",
    "print(\"Angle of forward Mach line, mu1 =\", afml)\n",
    "print(\"Angle of rearward Mach line, mu2 =\", arml)"
   ]
  },
  {
   "cell_type": "markdown",
   "id": "75176346-f378-4781-8e4b-d20fb511f117",
   "metadata": {},
   "source": [
    "## P 4.11"
   ]
  },
  {
   "cell_type": "code",
   "execution_count": 62,
   "id": "b4e3d0b5-1ef8-478e-a8c1-ae1ac18f2e1d",
   "metadata": {},
   "outputs": [],
   "source": [
    "M1 = 3\n",
    "p2_p1 = 0.4"
   ]
  },
  {
   "cell_type": "code",
   "execution_count": 63,
   "id": "00e1f6eb-7988-4ddf-9019-fee37f82a72d",
   "metadata": {},
   "outputs": [
    {
     "name": "stdout",
     "output_type": "stream",
     "text": [
      "key     quantity            \n",
      "----------------------------\n",
      "m       M                        3.00000000\n",
      "pr      P / P0                   0.02722368\n",
      "dr      rho / rho0               0.07622631\n",
      "tr      T / T0                   0.35714286\n",
      "prs     P / P*                   0.05153250\n",
      "drs     rho / rho*               0.12024251\n",
      "trs     T / T*                   0.42857143\n",
      "urs     U / U*                   1.96396101\n",
      "ars     A / A*                   4.23456790\n",
      "ma      Mach Angle              19.47122063\n",
      "pm      Prandtl-Meyer           49.75734674\n"
     ]
    }
   ],
   "source": [
    "res1 = isentropic_solver(\"m\", M1)\n",
    "res1.show()"
   ]
  },
  {
   "cell_type": "code",
   "execution_count": 64,
   "id": "b3292e23-144c-4338-83fd-be3954d23822",
   "metadata": {},
   "outputs": [],
   "source": [
    "mu1 = res1[\"ma\"] * deg\n",
    "nu1 = res1[\"pm\"] * deg\n",
    "p1_p01 = res1[\"pr\"]"
   ]
  },
  {
   "cell_type": "markdown",
   "id": "38574506-febf-491d-ad37-5ef367006ab2",
   "metadata": {},
   "source": [
    "\n",
    "$$\n",
    "\\frac{p_{2}}{p_{1}} = \\frac{p_{2}}{p_{02}} \\frac{p_{01}}{p_{1}} = 0.4 \\quad \\implies \\quad \\frac{p_{2}}{p_{02}} = \\frac{p_{1}}{p_{01}} \\frac{p_{2}}{p_{1}}\n",
    "$$"
   ]
  },
  {
   "cell_type": "code",
   "execution_count": 65,
   "id": "82de8d9b-e95d-4e71-939d-ee0ab63dbea0",
   "metadata": {},
   "outputs": [
    {
     "data": {
      "text/plain": [
       "np.float64(0.010889473481545129)"
      ]
     },
     "execution_count": 65,
     "metadata": {},
     "output_type": "execute_result"
    }
   ],
   "source": [
    "p2_p02 = p1_p01 * p2_p1\n",
    "p2_p02"
   ]
  },
  {
   "cell_type": "code",
   "execution_count": 66,
   "id": "5ff69464-a2cc-4b99-ad2a-d7e8c9be90b2",
   "metadata": {},
   "outputs": [
    {
     "name": "stdout",
     "output_type": "stream",
     "text": [
      "key     quantity            \n",
      "----------------------------\n",
      "m       M                        3.63176061\n",
      "pr      P / P0                   0.01088947\n",
      "dr      rho / rho0               0.03961522\n",
      "tr      T / T0                   0.27488106\n",
      "prs     P / P*                   0.02061300\n",
      "drs     rho / rho*               0.06249067\n",
      "trs     T / T*                   0.32985728\n",
      "urs     U / U*                   2.08583643\n",
      "ars     A / A*                   7.67192906\n",
      "ma      Mach Angle              15.98278625\n",
      "pm      Prandtl-Meyer           60.57522486\n"
     ]
    }
   ],
   "source": [
    "res2 = isentropic_solver(\"pressure\", p2_p02)\n",
    "res2.show()"
   ]
  },
  {
   "cell_type": "code",
   "execution_count": 67,
   "id": "9a34b89c-65e2-4ad1-8b7d-a2cf441eb9a3",
   "metadata": {},
   "outputs": [],
   "source": [
    "mu2 = res2[\"ma\"] * deg\n",
    "nu2 = res2[\"pm\"] * deg"
   ]
  },
  {
   "cell_type": "code",
   "execution_count": 68,
   "id": "551871b6-ba31-48f4-ab6c-1799f0d0aeaf",
   "metadata": {},
   "outputs": [
    {
     "data": {
      "text/html": [
       "10.817878118309977 deg"
      ],
      "text/latex": [
       "$10.817878118309977\\ \\mathrm{deg}$"
      ],
      "text/plain": [
       "<Quantity(10.8178781, 'degree')>"
      ]
     },
     "execution_count": 68,
     "metadata": {},
     "output_type": "execute_result"
    }
   ],
   "source": [
    "theta2 = nu2 - nu1\n",
    "theta2"
   ]
  },
  {
   "cell_type": "code",
   "execution_count": 69,
   "id": "ac83eb1c-18c7-499d-a93b-bc0a6865030a",
   "metadata": {},
   "outputs": [
    {
     "name": "stdout",
     "output_type": "stream",
     "text": [
      "Angle of forward Mach line: 19.47122063449069 deg\n",
      "Angle of rearward Mach line: 5.164908132843042 deg\n"
     ]
    }
   ],
   "source": [
    "afml = mu1\n",
    "arml = mu2 - theta2\n",
    "print(\"Angle of forward Mach line:\", afml)\n",
    "print(\"Angle of rearward Mach line:\", arml)"
   ]
  },
  {
   "cell_type": "markdown",
   "id": "9764b9c1-dc1b-4646-8354-3b0e89e43c56",
   "metadata": {},
   "source": [
    "## P 4.12"
   ]
  },
  {
   "cell_type": "markdown",
   "id": "41ae7c35-a5cc-4288-9ed1-8557a30f7245",
   "metadata": {},
   "source": [
    "![schematic of p4.12](data:image/png;base64,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)"
   ]
  },
  {
   "cell_type": "code",
   "execution_count": 70,
   "id": "dbc092e4-512d-44b6-82d7-97d8a4fa1b62",
   "metadata": {},
   "outputs": [],
   "source": [
    "M1 = 4\n",
    "p1 = 1 * atm\n",
    "theta = 15 * deg"
   ]
  },
  {
   "cell_type": "code",
   "execution_count": 71,
   "id": "435c14e0-9be4-494d-b336-d56e64894dbc",
   "metadata": {},
   "outputs": [
    {
     "name": "stdout",
     "output_type": "stream",
     "text": [
      "key     quantity            \n",
      "----------------------------\n",
      "m       M                        4.00000000\n",
      "pr      P / P0                   0.00658609\n",
      "dr      rho / rho0               0.02766157\n",
      "tr      T / T0                   0.23809524\n",
      "prs     P / P*                   0.01246700\n",
      "drs     rho / rho*               0.04363449\n",
      "trs     T / T*                   0.28571429\n",
      "urs     U / U*                   2.13808994\n",
      "ars     A / A*                  10.71875000\n",
      "ma      Mach Angle              14.47751219\n",
      "pm      Prandtl-Meyer           65.78481980\n"
     ]
    }
   ],
   "source": [
    "res1 = isentropic_solver(\"m\", M1)\n",
    "res1.show()"
   ]
  },
  {
   "cell_type": "code",
   "execution_count": 72,
   "id": "23f6788a-808f-44ed-a062-b041bd1a9aa8",
   "metadata": {},
   "outputs": [],
   "source": [
    "mu1 = res1[\"ma\"] * deg\n",
    "nu1 = res1[\"pm\"] * deg\n",
    "p1_p01 = res1[\"pr\"]"
   ]
  },
  {
   "cell_type": "markdown",
   "id": "cbaf6af4-9944-4a95-a8df-8de6a0bbc93a",
   "metadata": {},
   "source": [
    "$$\n",
    "\\theta_{2} = \\nu(M_{2}) - \\nu(M_{1}) \\quad \\rightarrow \\quad \\nu(M_{2}) = \\theta_{2} + \\nu(M_{1})\n",
    "$$"
   ]
  },
  {
   "cell_type": "code",
   "execution_count": 73,
   "id": "84e341db-114c-4969-82ff-56cd124280de",
   "metadata": {},
   "outputs": [
    {
     "data": {
      "text/html": [
       "80.78481979774853 deg"
      ],
      "text/latex": [
       "$80.78481979774853\\ \\mathrm{deg}$"
      ],
      "text/plain": [
       "<Quantity(80.7848198, 'degree')>"
      ]
     },
     "execution_count": 73,
     "metadata": {},
     "output_type": "execute_result"
    }
   ],
   "source": [
    "nu2 = theta + nu1\n",
    "nu2"
   ]
  },
  {
   "cell_type": "code",
   "execution_count": 74,
   "id": "69e067d6-593c-48f4-a1aa-95d88796b919",
   "metadata": {},
   "outputs": [
    {
     "name": "stdout",
     "output_type": "stream",
     "text": [
      "key     quantity            \n",
      "----------------------------\n",
      "m       M                        5.44294514\n",
      "pr      P / P0                   0.00114420\n",
      "dr      rho / rho0               0.00792374\n",
      "tr      T / T0                   0.14440161\n",
      "prs     P / P*                   0.00216589\n",
      "drs     rho / rho*               0.01249923\n",
      "trs     T / T*                   0.17328194\n",
      "urs     U / U*                   2.26574277\n",
      "ars     A / A*                  35.31068684\n",
      "ma      Mach Angle [deg]        10.58675162\n",
      "pm      Prandtl-Meyer [deg]     80.78481980\n"
     ]
    }
   ],
   "source": [
    "res2 = isentropic_solver(\"prandtl_meyer\", nu2)\n",
    "res2.show()"
   ]
  },
  {
   "cell_type": "code",
   "execution_count": 75,
   "id": "fec53958-8585-4c36-ba1d-244dc1fb5b0c",
   "metadata": {},
   "outputs": [],
   "source": [
    "M2 = res2[\"m\"]\n",
    "p2_p02 = res2[\"pr\"]\n",
    "mu2 = res2[\"ma\"]"
   ]
  },
  {
   "cell_type": "markdown",
   "id": "285af606-6fb3-4034-a1c4-49ab637623f0",
   "metadata": {},
   "source": [
    "But $p_{02} = p_{01}$:"
   ]
  },
  {
   "cell_type": "code",
   "execution_count": 76,
   "id": "eaa1ea0a-890d-4e34-bf86-3dadbee0ca00",
   "metadata": {},
   "outputs": [
    {
     "data": {
      "text/html": [
       "0.17372994365140412 atm"
      ],
      "text/latex": [
       "$0.17372994365140412\\ \\mathrm{atm}$"
      ],
      "text/plain": [
       "<Quantity(0.173729944, 'standard_atmosphere')>"
      ]
     },
     "execution_count": 76,
     "metadata": {},
     "output_type": "execute_result"
    }
   ],
   "source": [
    "p2 = p2_p02 / p1_p01 * p1\n",
    "p2"
   ]
  },
  {
   "cell_type": "code",
   "execution_count": 77,
   "id": "df4ff27f-1dc7-4080-af35-92c22f27c268",
   "metadata": {},
   "outputs": [
    {
     "data": {
      "text/plain": [
       "np.float64(5.4429451442492365)"
      ]
     },
     "execution_count": 77,
     "metadata": {},
     "output_type": "execute_result"
    }
   ],
   "source": [
    "M2"
   ]
  },
  {
   "cell_type": "code",
   "execution_count": 78,
   "id": "0c687616-e4a9-483a-875c-e2f6ad893ac2",
   "metadata": {},
   "outputs": [
    {
     "name": "stdout",
     "output_type": "stream",
     "text": [
      "key     quantity     \n",
      "---------------------\n",
      "mu      Mu                5.44294514\n",
      "mnu     Mnu               2.17006096\n",
      "md      Md                3.73024023\n",
      "mnd     Mnd               0.55113671\n",
      "beta    beta [deg]       23.49646058\n",
      "theta   theta [deg]      15.00000000\n",
      "pr      pd/pu             5.32735865\n",
      "dr      rhod/rhou         2.91013580\n",
      "tr      Td/Tu             1.83062201\n",
      "tpr     p0d/p0u           0.64182489\n"
     ]
    }
   ],
   "source": [
    "res3 = shockwave_solver(\"mu\", M2, \"theta\", theta)\n",
    "res3.show()"
   ]
  },
  {
   "cell_type": "code",
   "execution_count": 79,
   "id": "ff743be6-22f2-4d26-af0c-93b3388eecbe",
   "metadata": {},
   "outputs": [
    {
     "data": {
      "text/html": [
       "0.9255217177996948 atm"
      ],
      "text/latex": [
       "$0.9255217177996948\\ \\mathrm{atm}$"
      ],
      "text/plain": [
       "<Quantity(0.925521718, 'standard_atmosphere')>"
      ]
     },
     "execution_count": 79,
     "metadata": {},
     "output_type": "execute_result"
    }
   ],
   "source": [
    "M3 = res3[\"md\"]\n",
    "p3_p2 = res3[\"pr\"]\n",
    "p3 = p3_p2 * p2\n",
    "p3"
   ]
  },
  {
   "cell_type": "code",
   "execution_count": 80,
   "id": "1b362361-57cb-4bd1-9d5b-9e15d8241cb5",
   "metadata": {},
   "outputs": [
    {
     "data": {
      "text/plain": [
       "np.float64(3.730240229949434)"
      ]
     },
     "execution_count": 80,
     "metadata": {},
     "output_type": "execute_result"
    }
   ],
   "source": [
    "M3"
   ]
  },
  {
   "cell_type": "markdown",
   "id": "8347bb5a-9512-4856-adee-7d3ef2fab53d",
   "metadata": {},
   "source": [
    "## P 4.14"
   ]
  },
  {
   "cell_type": "code",
   "execution_count": 81,
   "id": "f6537d1d-7508-48a9-82fd-571bb6e4790a",
   "metadata": {},
   "outputs": [],
   "source": [
    "theta = 20 * deg\n",
    "M1 = 3\n",
    "p1 = 2116 * lb / ft**2"
   ]
  },
  {
   "cell_type": "markdown",
   "id": "3f6b1c46-7954-4dbe-b268-a1c9c38c76d3",
   "metadata": {},
   "source": [
    "Oblique shockwave followed by a normal shockwave in front of the Pitot tube."
   ]
  },
  {
   "cell_type": "code",
   "execution_count": 82,
   "id": "23b42fcb-c67c-4ebc-b7c9-f5370f4cfa50",
   "metadata": {},
   "outputs": [
    {
     "name": "stdout",
     "output_type": "stream",
     "text": [
      "key     quantity            \n",
      "----------------------------\n",
      "m       M                        3.00000000\n",
      "pr      P / P0                   0.02722368\n",
      "dr      rho / rho0               0.07622631\n",
      "tr      T / T0                   0.35714286\n",
      "prs     P / P*                   0.05153250\n",
      "drs     rho / rho*               0.12024251\n",
      "trs     T / T*                   0.42857143\n",
      "urs     U / U*                   1.96396101\n",
      "ars     A / A*                   4.23456790\n",
      "ma      Mach Angle              19.47122063\n",
      "pm      Prandtl-Meyer           49.75734674\n"
     ]
    }
   ],
   "source": [
    "res1 = isentropic_solver(\"m\", M1)\n",
    "res1.show()"
   ]
  },
  {
   "cell_type": "code",
   "execution_count": 83,
   "id": "660cd77f-b57c-4187-ad41-a435f383f443",
   "metadata": {},
   "outputs": [
    {
     "data": {
      "text/html": [
       "77726.43933927857 lb/ft<sup>2</sup>"
      ],
      "text/latex": [
       "$77726.43933927857\\ \\frac{\\mathrm{lb}}{\\mathrm{ft}^{2}}$"
      ],
      "text/plain": [
       "<Quantity(77726.4393, 'pound / foot ** 2')>"
      ]
     },
     "execution_count": 83,
     "metadata": {},
     "output_type": "execute_result"
    }
   ],
   "source": [
    "p01 = (1 / res1[\"pr\"]) * p1\n",
    "p01"
   ]
  },
  {
   "cell_type": "code",
   "execution_count": 84,
   "id": "44e7cdea-b2e5-46ec-ba93-882490318601",
   "metadata": {},
   "outputs": [
    {
     "name": "stdout",
     "output_type": "stream",
     "text": [
      "key     quantity     \n",
      "---------------------\n",
      "mu      Mu                3.00000000\n",
      "mnu     Mnu               1.83721625\n",
      "md      Md                1.99413167\n",
      "mnd     Mnd               0.60839147\n",
      "beta    beta [deg]       37.76363415\n",
      "theta   theta [deg]      20.00000000\n",
      "pr      pd/pu             3.77125746\n",
      "dr      rhod/rhou         2.41806593\n",
      "tr      Td/Tu             1.55961730\n",
      "tpr     p0d/p0u           0.79601825\n"
     ]
    }
   ],
   "source": [
    "shock1 = oblique_shockwave_solver(\"mu\", M1, \"theta\", theta)\n",
    "shock1.show()"
   ]
  },
  {
   "cell_type": "code",
   "execution_count": 85,
   "id": "d0617f4f-c3cb-458d-b2f3-e9565b342069",
   "metadata": {},
   "outputs": [],
   "source": [
    "p2_p1 = shock1[\"pr\"]\n",
    "p02_p01 = shock1[\"tpr\"]\n",
    "M2 = shock1[\"md\"]"
   ]
  },
  {
   "cell_type": "code",
   "execution_count": 86,
   "id": "7432b225-e9e4-4027-afbd-aa71a56f276e",
   "metadata": {},
   "outputs": [
    {
     "name": "stdout",
     "output_type": "stream",
     "text": [
      "key     quantity     \n",
      "---------------------\n",
      "mu      Mu                1.99413167\n",
      "md      Md                0.57835792\n",
      "pr      pd/pu             4.47265462\n",
      "dr      rhod/rhou         2.65796293\n",
      "tr      Td/Tu             1.68273777\n",
      "tpr     p0d/p0u           0.72361541\n"
     ]
    }
   ],
   "source": [
    "shock2 = normal_shockwave_solver(\"mu\", M2)\n",
    "shock2.show()"
   ]
  },
  {
   "cell_type": "code",
   "execution_count": 87,
   "id": "1896b74a-bf80-477f-8fdc-e7149a6c2f56",
   "metadata": {},
   "outputs": [
    {
     "data": {
      "text/html": [
       "35691.69792607025 lb/ft<sup>2</sup>"
      ],
      "text/latex": [
       "$35691.69792607025\\ \\frac{\\mathrm{lb}}{\\mathrm{ft}^{2}}$"
      ],
      "text/plain": [
       "<Quantity(35691.6979, 'pound / foot ** 2')>"
      ]
     },
     "execution_count": 87,
     "metadata": {},
     "output_type": "execute_result"
    }
   ],
   "source": [
    "p3_p2 = shock2[\"pr\"]\n",
    "p3 = p3_p2 * p2_p1 * p1\n",
    "p3"
   ]
  },
  {
   "cell_type": "code",
   "execution_count": 88,
   "id": "ada4928c-7a37-42eb-bd77-e373d38a4960",
   "metadata": {},
   "outputs": [
    {
     "data": {
      "text/html": [
       "44771.29015720242 lb/ft<sup>2</sup>"
      ],
      "text/latex": [
       "$44771.29015720242\\ \\frac{\\mathrm{lb}}{\\mathrm{ft}^{2}}$"
      ],
      "text/plain": [
       "<Quantity(44771.2902, 'pound / foot ** 2')>"
      ]
     },
     "execution_count": 88,
     "metadata": {},
     "output_type": "execute_result"
    }
   ],
   "source": [
    "p03_p02 = shock2[\"tpr\"]\n",
    "p03 = p03_p02 * p02_p01 * p01\n",
    "p03"
   ]
  },
  {
   "cell_type": "markdown",
   "id": "43a91249-9a6e-40e7-9e23-37ed0313bb3b",
   "metadata": {},
   "source": [
    "## P 4.16"
   ]
  },
  {
   "cell_type": "markdown",
   "id": "4b6c91ff-2980-4844-b8cc-fe25d1645105",
   "metadata": {},
   "source": [
    "This is a modified version of Figure 4.35 of \"Modern Compressible Flow with Historical Perspective\", Third Edition, John D. Anderson."
   ]
  },
  {
   "cell_type": "markdown",
   "id": "3d14aca7-4783-484d-86d4-b2f67036aa9a",
   "metadata": {},
   "source": [
    "![schematic of p4.12](data:image/png;base64,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)"
   ]
  },
  {
   "cell_type": "code",
   "execution_count": 89,
   "id": "2c1588db-c9d2-4bec-a4d6-6a7c87ba36ba",
   "metadata": {},
   "outputs": [],
   "source": [
    "epsilon = 15 * deg\n",
    "alpha = 5 * deg\n",
    "M1 = 2\n",
    "p1 = 2116 * lb / ft**2\n",
    "t = 0.5 * ft\n",
    "w = 1 * ft"
   ]
  },
  {
   "cell_type": "markdown",
   "id": "101f56a1-5541-47e9-8633-44d8d2370c6f",
   "metadata": {},
   "source": [
    "### (1)"
   ]
  },
  {
   "cell_type": "code",
   "execution_count": 90,
   "id": "0b2f35a3-e7ae-47cc-9334-13876e7316ab",
   "metadata": {},
   "outputs": [
    {
     "name": "stdout",
     "output_type": "stream",
     "text": [
      "key     quantity            \n",
      "----------------------------\n",
      "m       M                        2.00000000\n",
      "pr      P / P0                   0.12780453\n",
      "dr      rho / rho0               0.23004815\n",
      "tr      T / T0                   0.55555556\n",
      "prs     P / P*                   0.24192491\n",
      "drs     rho / rho*               0.36288737\n",
      "trs     T / T*                   0.66666667\n",
      "urs     U / U*                   1.63299316\n",
      "ars     A / A*                   1.68750000\n",
      "ma      Mach Angle              30.00000000\n",
      "pm      Prandtl-Meyer           26.37976081\n"
     ]
    }
   ],
   "source": [
    "res1 = isentropic_solver(\"m\", M1)\n",
    "res1.show()"
   ]
  },
  {
   "cell_type": "code",
   "execution_count": 91,
   "id": "1323906e-05aa-45dc-9a62-8f5367da7571",
   "metadata": {},
   "outputs": [
    {
     "data": {
      "text/html": [
       "16556.53422549113 lb/ft<sup>2</sup>"
      ],
      "text/latex": [
       "$16556.53422549113\\ \\frac{\\mathrm{lb}}{\\mathrm{ft}^{2}}$"
      ],
      "text/plain": [
       "<Quantity(16556.5342, 'pound / foot ** 2')>"
      ]
     },
     "execution_count": 91,
     "metadata": {},
     "output_type": "execute_result"
    }
   ],
   "source": [
    "p01 = (1 / res1[\"pr\"]) * p1\n",
    "p01"
   ]
  },
  {
   "cell_type": "markdown",
   "id": "17c2067a-8696-4c7b-82b1-0c20c23d7c6d",
   "metadata": {},
   "source": [
    "### (2)"
   ]
  },
  {
   "cell_type": "code",
   "execution_count": 92,
   "id": "e7069236-c208-49ae-885c-b9f4eb160cbd",
   "metadata": {},
   "outputs": [
    {
     "name": "stdout",
     "output_type": "stream",
     "text": [
      "key     quantity     \n",
      "---------------------\n",
      "mu      Mu                2.00000000\n",
      "mnu     Mnu               1.26713804\n",
      "md      Md                1.64052223\n",
      "mnd     Mnd               0.80319064\n",
      "beta    beta [deg]       39.31393184\n",
      "theta   theta [deg]      10.00000000\n",
      "pr      pd/pu             1.70657860\n",
      "dr      rhod/rhou         1.45842561\n",
      "tr      Td/Tu             1.17015128\n",
      "tpr     p0d/p0u           0.98464402\n"
     ]
    }
   ],
   "source": [
    "theta1 = epsilon - alpha\n",
    "shock1 = shockwave_solver(\"mu\", M1, \"theta\", theta1)\n",
    "shock1.show()"
   ]
  },
  {
   "cell_type": "code",
   "execution_count": 93,
   "id": "6c62b2df-0905-4989-bda6-3227551073c0",
   "metadata": {},
   "outputs": [
    {
     "data": {
      "text/html": [
       "3611.12032606407 lb/ft<sup>2</sup>"
      ],
      "text/latex": [
       "$3611.12032606407\\ \\frac{\\mathrm{lb}}{\\mathrm{ft}^{2}}$"
      ],
      "text/plain": [
       "<Quantity(3611.12033, 'pound / foot ** 2')>"
      ]
     },
     "execution_count": 93,
     "metadata": {},
     "output_type": "execute_result"
    }
   ],
   "source": [
    "p2_p1 = shock1[\"pr\"]\n",
    "p2 = p2_p1 * p1\n",
    "p2"
   ]
  },
  {
   "cell_type": "code",
   "execution_count": 94,
   "id": "6d8bbc54-e1f8-42b0-a376-c505d75cedf1",
   "metadata": {},
   "outputs": [
    {
     "data": {
      "text/plain": [
       "np.float64(1.6405222290010815)"
      ]
     },
     "execution_count": 94,
     "metadata": {},
     "output_type": "execute_result"
    }
   ],
   "source": [
    "M2 = shock1[\"md\"]\n",
    "M2"
   ]
  },
  {
   "cell_type": "code",
   "execution_count": 95,
   "id": "cd98d871-db2e-49cd-9386-96f19c63d32a",
   "metadata": {},
   "outputs": [
    {
     "data": {
      "text/html": [
       "16302.29245850334 lb/ft<sup>2</sup>"
      ],
      "text/latex": [
       "$16302.29245850334\\ \\frac{\\mathrm{lb}}{\\mathrm{ft}^{2}}$"
      ],
      "text/plain": [
       "<Quantity(16302.2925, 'pound / foot ** 2')>"
      ]
     },
     "execution_count": 95,
     "metadata": {},
     "output_type": "execute_result"
    }
   ],
   "source": [
    "p02 = shock1[\"tpr\"] * p01\n",
    "p02"
   ]
  },
  {
   "cell_type": "markdown",
   "id": "d8af7808-bae5-46ed-b010-8234be77dbf6",
   "metadata": {},
   "source": [
    "### (4)"
   ]
  },
  {
   "cell_type": "code",
   "execution_count": 96,
   "id": "2698ad23-57bc-4649-928c-91fb14b40e53",
   "metadata": {},
   "outputs": [
    {
     "name": "stdout",
     "output_type": "stream",
     "text": [
      "key     quantity     \n",
      "---------------------\n",
      "mu      Mu                2.00000000\n",
      "mnu     Mnu               1.60611226\n",
      "md      Md                1.21021840\n",
      "mnd     Mnd               0.66660640\n",
      "beta    beta [deg]       53.42294053\n",
      "theta   theta [deg]      20.00000000\n",
      "pr      pd/pu             2.84286271\n",
      "dr      rhod/rhou         2.04200572\n",
      "tr      Td/Tu             1.39219135\n",
      "tpr     p0d/p0u           0.89291399\n"
     ]
    }
   ],
   "source": [
    "theta4 = epsilon + alpha\n",
    "shock2 = shockwave_solver(\"mu\", M1, \"theta\", theta4)\n",
    "shock2.show()"
   ]
  },
  {
   "cell_type": "code",
   "execution_count": 97,
   "id": "9cad4235-ee92-449a-9654-d427d68117f3",
   "metadata": {},
   "outputs": [
    {
     "data": {
      "text/plain": [
       "np.float64(1.2102184008268027)"
      ]
     },
     "execution_count": 97,
     "metadata": {},
     "output_type": "execute_result"
    }
   ],
   "source": [
    "M4 = shock2[\"md\"]\n",
    "M4"
   ]
  },
  {
   "cell_type": "code",
   "execution_count": 98,
   "id": "d8262eb4-301d-4cd6-9a86-582731d2a3fd",
   "metadata": {},
   "outputs": [
    {
     "data": {
      "text/html": [
       "6015.497483856511 lb/ft<sup>2</sup>"
      ],
      "text/latex": [
       "$6015.497483856511\\ \\frac{\\mathrm{lb}}{\\mathrm{ft}^{2}}$"
      ],
      "text/plain": [
       "<Quantity(6015.49748, 'pound / foot ** 2')>"
      ]
     },
     "execution_count": 98,
     "metadata": {},
     "output_type": "execute_result"
    }
   ],
   "source": [
    "p4_p1 = shock2[\"pr\"]\n",
    "p4 = p4_p1 * p1\n",
    "p4"
   ]
  },
  {
   "cell_type": "code",
   "execution_count": 99,
   "id": "dd679df9-a7be-44eb-9b47-996a6d2d5a93",
   "metadata": {},
   "outputs": [
    {
     "data": {
      "text/html": [
       "14783.560957863161 lb/ft<sup>2</sup>"
      ],
      "text/latex": [
       "$14783.560957863161\\ \\frac{\\mathrm{lb}}{\\mathrm{ft}^{2}}$"
      ],
      "text/plain": [
       "<Quantity(14783.561, 'pound / foot ** 2')>"
      ]
     },
     "execution_count": 99,
     "metadata": {},
     "output_type": "execute_result"
    }
   ],
   "source": [
    "p04 = shock2[\"tpr\"] * p01\n",
    "p04"
   ]
  },
  {
   "cell_type": "markdown",
   "id": "da2de0ca-0117-416b-b350-323e0de69dd8",
   "metadata": {},
   "source": [
    "### (3)"
   ]
  },
  {
   "cell_type": "code",
   "execution_count": 100,
   "id": "7428c2d2-7442-4a9a-ad7c-a402fa84f66d",
   "metadata": {},
   "outputs": [
    {
     "name": "stdout",
     "output_type": "stream",
     "text": [
      "key     quantity            \n",
      "----------------------------\n",
      "m       M                        1.64052223\n",
      "pr      P / P0                   0.22150997\n",
      "dr      rho / rho0               0.34074051\n",
      "tr      T / T0                   0.65008405\n",
      "prs     P / P*                   0.41930268\n",
      "drs     rho / rho*               0.53749804\n",
      "trs     T / T*                   0.78010086\n",
      "urs     U / U*                   1.44896367\n",
      "ars     A / A*                   1.28400175\n",
      "ma      Mach Angle              37.55783897\n",
      "pm      Prandtl-Meyer           16.05812747\n"
     ]
    }
   ],
   "source": [
    "flow2 = isentropic_solver(\"m\", M2)\n",
    "flow2.show()"
   ]
  },
  {
   "cell_type": "code",
   "execution_count": 101,
   "id": "5de90325-e2a3-4b17-9a7f-921f92b9a91a",
   "metadata": {},
   "outputs": [
    {
     "data": {
      "text/html": [
       "46.05812746691443 deg"
      ],
      "text/latex": [
       "$46.05812746691443\\ \\mathrm{deg}$"
      ],
      "text/plain": [
       "<Quantity(46.0581275, 'degree')>"
      ]
     },
     "execution_count": 101,
     "metadata": {},
     "output_type": "execute_result"
    }
   ],
   "source": [
    "theta = 2 * epsilon\n",
    "nu2 = flow2[\"pm\"] * deg\n",
    "nu3 = theta  + nu2\n",
    "nu3"
   ]
  },
  {
   "cell_type": "code",
   "execution_count": 102,
   "id": "dc7522f5-3ab5-4b1b-bf46-30bc6a260922",
   "metadata": {},
   "outputs": [
    {
     "name": "stdout",
     "output_type": "stream",
     "text": [
      "key     quantity            \n",
      "----------------------------\n",
      "m       M                        2.81502588\n",
      "pr      P / P0                   0.03601323\n",
      "dr      rho / rho0               0.09308967\n",
      "tr      T / T0                   0.38686603\n",
      "prs     P / P*                   0.06817050\n",
      "drs     rho / rho*               0.14684346\n",
      "trs     T / T*                   0.46423924\n",
      "urs     U / U*                   1.91802081\n",
      "ars     A / A*                   3.55052092\n",
      "ma      Mach Angle [deg]        20.80794089\n",
      "pm      Prandtl-Meyer [deg]     46.05812747\n"
     ]
    }
   ],
   "source": [
    "flow3 = isentropic_solver(\"prandtl_meyer\", nu3)\n",
    "flow3.show()"
   ]
  },
  {
   "cell_type": "code",
   "execution_count": 103,
   "id": "211217fd-2304-454f-9e2f-2407a3d3f147",
   "metadata": {},
   "outputs": [
    {
     "data": {
      "text/plain": [
       "np.float64(2.8150258807892357)"
      ]
     },
     "execution_count": 103,
     "metadata": {},
     "output_type": "execute_result"
    }
   ],
   "source": [
    "M3 = flow3[\"m\"]\n",
    "M3"
   ]
  },
  {
   "cell_type": "markdown",
   "id": "c64e9f69-6b67-4e4c-90b5-c31c6b4839e3",
   "metadata": {},
   "source": [
    "Note that $p_{02} = p_{03}$."
   ]
  },
  {
   "cell_type": "code",
   "execution_count": 104,
   "id": "c185f809-12c2-4c76-89a6-f2d6ee6a0676",
   "metadata": {},
   "outputs": [
    {
     "data": {
      "text/html": [
       "587.0982323799711 lb/ft<sup>2</sup>"
      ],
      "text/latex": [
       "$587.0982323799711\\ \\frac{\\mathrm{lb}}{\\mathrm{ft}^{2}}$"
      ],
      "text/plain": [
       "<Quantity(587.098232, 'pound / foot ** 2')>"
      ]
     },
     "execution_count": 104,
     "metadata": {},
     "output_type": "execute_result"
    }
   ],
   "source": [
    "p3 = flow3[\"pr\"] * p02\n",
    "p3"
   ]
  },
  {
   "cell_type": "markdown",
   "id": "5128e7d3-f11b-4654-b6ac-e44a48f5c172",
   "metadata": {},
   "source": [
    "### (5)"
   ]
  },
  {
   "cell_type": "code",
   "execution_count": 105,
   "id": "88bf4908-bf26-46e3-93c4-52c5e5d47746",
   "metadata": {},
   "outputs": [
    {
     "name": "stdout",
     "output_type": "stream",
     "text": [
      "key     quantity            \n",
      "----------------------------\n",
      "m       M                        1.21021840\n",
      "pr      P / P0                   0.40690450\n",
      "dr      rho / rho0               0.52609729\n",
      "tr      T / T0                   0.77343964\n",
      "prs     P / P*                   0.77024139\n",
      "drs     rho / rho*               0.82988742\n",
      "trs     T / T*                   0.92812757\n",
      "urs     U / U*                   1.16591688\n",
      "ars     A / A*                   1.03350654\n",
      "ma      Mach Angle              55.72022231\n",
      "pm      Prandtl-Meyer            3.81141102\n"
     ]
    }
   ],
   "source": [
    "flow4 = isentropic_solver(\"m\", M4)\n",
    "flow4.show()"
   ]
  },
  {
   "cell_type": "code",
   "execution_count": 106,
   "id": "8336993c-5980-4c19-8930-f389752bd069",
   "metadata": {},
   "outputs": [
    {
     "data": {
      "text/html": [
       "33.81141102493445 deg"
      ],
      "text/latex": [
       "$33.81141102493445\\ \\mathrm{deg}$"
      ],
      "text/plain": [
       "<Quantity(33.811411, 'degree')>"
      ]
     },
     "execution_count": 106,
     "metadata": {},
     "output_type": "execute_result"
    }
   ],
   "source": [
    "theta = 2 * epsilon\n",
    "nu4 = flow4[\"pm\"] * deg\n",
    "nu5 = theta + nu4\n",
    "nu5"
   ]
  },
  {
   "cell_type": "code",
   "execution_count": 107,
   "id": "f4a0ee88-d887-434f-ae71-a430d73b09ec",
   "metadata": {},
   "outputs": [
    {
     "name": "stdout",
     "output_type": "stream",
     "text": [
      "key     quantity            \n",
      "----------------------------\n",
      "m       M                        2.28125903\n",
      "pr      P / P0                   0.08235257\n",
      "dr      rho / rho0               0.16806748\n",
      "tr      T / T0                   0.48999707\n",
      "prs     P / P*                   0.15588759\n",
      "drs     rho / rho*               0.26511653\n",
      "trs     T / T*                   0.58799648\n",
      "urs     U / U*                   1.74929060\n",
      "ars     A / A*                   2.15626049\n",
      "ma      Mach Angle [deg]        25.99893434\n",
      "pm      Prandtl-Meyer [deg]     33.81141102\n"
     ]
    }
   ],
   "source": [
    "flow5 = isentropic_solver(\"prandtl_meyer\", nu5)\n",
    "flow5.show()"
   ]
  },
  {
   "cell_type": "code",
   "execution_count": 108,
   "id": "f64649a2-4465-4240-b962-3c20b405c4b7",
   "metadata": {},
   "outputs": [
    {
     "data": {
      "text/plain": [
       "np.float64(2.2812590270489608)"
      ]
     },
     "execution_count": 108,
     "metadata": {},
     "output_type": "execute_result"
    }
   ],
   "source": [
    "M5 = flow5[\"m\"]\n",
    "M5"
   ]
  },
  {
   "cell_type": "markdown",
   "id": "054c6ddf-e2a8-4363-ab47-33dc30d5eac5",
   "metadata": {},
   "source": [
    "Note that $p_{04} = p_{05}$:"
   ]
  },
  {
   "cell_type": "code",
   "execution_count": 109,
   "id": "f8d80d9f-9268-4ef9-9433-b3432354a07a",
   "metadata": {},
   "outputs": [
    {
     "data": {
      "text/html": [
       "1217.4642926223185 lb/ft<sup>2</sup>"
      ],
      "text/latex": [
       "$1217.4642926223185\\ \\frac{\\mathrm{lb}}{\\mathrm{ft}^{2}}$"
      ],
      "text/plain": [
       "<Quantity(1217.46429, 'pound / foot ** 2')>"
      ]
     },
     "execution_count": 109,
     "metadata": {},
     "output_type": "execute_result"
    }
   ],
   "source": [
    "p5 = flow5[\"pr\"] * p04\n",
    "p5"
   ]
  },
  {
   "cell_type": "markdown",
   "id": "5d97c84d-e4cf-4e82-8759-e05541df3f05",
   "metadata": {},
   "source": [
    "### drag and lift"
   ]
  },
  {
   "cell_type": "code",
   "execution_count": 110,
   "id": "2c5b36fb-61a1-4f70-a23c-8e31253a08c6",
   "metadata": {},
   "outputs": [
    {
     "data": {
      "text/html": [
       "0.9659258262890684 ft"
      ],
      "text/latex": [
       "$0.9659258262890684\\ \\mathrm{ft}$"
      ],
      "text/plain": [
       "<Quantity(0.965925826, 'foot')>"
      ]
     },
     "execution_count": 110,
     "metadata": {},
     "output_type": "execute_result"
    }
   ],
   "source": [
    "# length of oblique faces\n",
    "l = (t / 2) / np.sin(epsilon)\n",
    "l"
   ]
  },
  {
   "cell_type": "code",
   "execution_count": 111,
   "id": "20c9ed09-f7e2-4f69-8a93-4ae492143ba5",
   "metadata": {},
   "outputs": [
    {
     "data": {
      "text/html": [
       "0.9659258262890684 ft<sup>2</sup>"
      ],
      "text/latex": [
       "$0.9659258262890684\\ \\mathrm{ft}^{2}$"
      ],
      "text/plain": [
       "<Quantity(0.965925826, 'foot ** 2')>"
      ]
     },
     "execution_count": 111,
     "metadata": {},
     "output_type": "execute_result"
    }
   ],
   "source": [
    "area = l * w\n",
    "area"
   ]
  },
  {
   "cell_type": "markdown",
   "id": "d03262bf-7ddf-424f-9af1-63ed35e6d5fa",
   "metadata": {},
   "source": [
    "(Normal) forces exerted by pressure to the surfaces:"
   ]
  },
  {
   "cell_type": "code",
   "execution_count": 112,
   "id": "81d5a512-56d9-4260-82e3-f8ccf86bffe1",
   "metadata": {},
   "outputs": [
    {
     "data": {
      "text/html": [
       "3488.074384782687 lb"
      ],
      "text/latex": [
       "$3488.074384782687\\ \\mathrm{lb}$"
      ],
      "text/plain": [
       "<Quantity(3488.07438, 'pound')>"
      ]
     },
     "execution_count": 112,
     "metadata": {},
     "output_type": "execute_result"
    }
   ],
   "source": [
    "F2 = p2 * area\n",
    "F2"
   ]
  },
  {
   "cell_type": "code",
   "execution_count": 113,
   "id": "fba53807-3c45-4bb7-b0b8-1118683d930b",
   "metadata": {},
   "outputs": [
    {
     "data": {
      "text/html": [
       "567.0933452244751 lb"
      ],
      "text/latex": [
       "$567.0933452244751\\ \\mathrm{lb}$"
      ],
      "text/plain": [
       "<Quantity(567.093345, 'pound')>"
      ]
     },
     "execution_count": 113,
     "metadata": {},
     "output_type": "execute_result"
    }
   ],
   "source": [
    "F3 = p3 * area\n",
    "F3"
   ]
  },
  {
   "cell_type": "code",
   "execution_count": 114,
   "id": "25e26382-bb61-4653-bbde-72621763d438",
   "metadata": {},
   "outputs": [
    {
     "data": {
      "text/html": [
       "5810.524377633913 lb"
      ],
      "text/latex": [
       "$5810.524377633913\\ \\mathrm{lb}$"
      ],
      "text/plain": [
       "<Quantity(5810.52438, 'pound')>"
      ]
     },
     "execution_count": 114,
     "metadata": {},
     "output_type": "execute_result"
    }
   ],
   "source": [
    "F4 = p4 * area\n",
    "F4"
   ]
  },
  {
   "cell_type": "code",
   "execution_count": 115,
   "id": "8dc6b5f8-2c1c-4fff-be54-2f3afb458ec3",
   "metadata": {},
   "outputs": [
    {
     "data": {
      "text/html": [
       "1175.9802028286492 lb"
      ],
      "text/latex": [
       "$1175.9802028286492\\ \\mathrm{lb}$"
      ],
      "text/plain": [
       "<Quantity(1175.9802, 'pound')>"
      ]
     },
     "execution_count": 115,
     "metadata": {},
     "output_type": "execute_result"
    }
   ],
   "source": [
    "F5 = p5 * area\n",
    "F5"
   ]
  },
  {
   "cell_type": "markdown",
   "id": "ed217b6d-9d80-4cad-81a3-d98e4d0600ff",
   "metadata": {},
   "source": [
    "Drag:"
   ]
  },
  {
   "cell_type": "code",
   "execution_count": 116,
   "id": "55db21a4-28cd-4575-aed8-d95aefc101f8",
   "metadata": {},
   "outputs": [
    {
     "data": {
      "text/html": [
       "2194.849974513566 lb"
      ],
      "text/latex": [
       "$2194.849974513566\\ \\mathrm{lb}$"
      ],
      "text/plain": [
       "<Quantity(2194.84997, 'pound')>"
      ]
     },
     "execution_count": 116,
     "metadata": {},
     "output_type": "execute_result"
    }
   ],
   "source": [
    "D = F2 * np.sin(epsilon - alpha) + F4 * np.sin(epsilon + alpha) - F3 * np.sin(epsilon + alpha) - F5 * np.sin(epsilon - alpha)\n",
    "D"
   ]
  },
  {
   "cell_type": "markdown",
   "id": "963d1dfd-e085-4532-a844-ed4dc88fc74a",
   "metadata": {},
   "source": [
    "Lift:"
   ]
  },
  {
   "cell_type": "code",
   "execution_count": 117,
   "id": "b5837cb8-afec-4e35-906b-9fc6bd7bd749",
   "metadata": {},
   "outputs": [
    {
     "data": {
      "text/html": [
       "2650.245172672231 lb"
      ],
      "text/latex": [
       "$2650.245172672231\\ \\mathrm{lb}$"
      ],
      "text/plain": [
       "<Quantity(2650.24517, 'pound')>"
      ]
     },
     "execution_count": 117,
     "metadata": {},
     "output_type": "execute_result"
    }
   ],
   "source": [
    "L = -F2 * np.cos(epsilon - alpha) + F4 * np.cos(epsilon + alpha) - F3 * np.cos(epsilon + alpha) + F5 * np.cos(epsilon - alpha)\n",
    "L"
   ]
  },
  {
   "cell_type": "markdown",
   "id": "7612112b-f82c-45de-be0a-71ea1294ab1d",
   "metadata": {},
   "source": [
    "## P 4.17"
   ]
  },
  {
   "cell_type": "markdown",
   "id": "b4766ad2-5c76-4839-93a3-bd6577ae0f15",
   "metadata": {},
   "source": [
    "![figure 4.37 - flat plate](data:image/png;base64,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)"
   ]
  },
  {
   "cell_type": "markdown",
   "id": "e63f231c-386f-4581-90f2-fb1c127b6ddf",
   "metadata": {},
   "source": [
    "Figure 4.37 of \"Modern Compressible Flow with Historical Perspective\", Third Edition, John D. Anderson."
   ]
  },
  {
   "cell_type": "code",
   "execution_count": 118,
   "id": "78224a87-1fe8-4ef7-ac67-a77a8d5cdaf1",
   "metadata": {},
   "outputs": [],
   "source": [
    "c = 1 * m\n",
    "M1 = 3\n",
    "p1 = 1 * atm\n",
    "T1 = 270 * K\n",
    "w = 1 * m"
   ]
  },
  {
   "cell_type": "code",
   "execution_count": 119,
   "id": "8f3e0fb3-c9d8-49b6-8005-0de80fd01059",
   "metadata": {},
   "outputs": [],
   "source": [
    "alpha_min = 0 * deg\n",
    "alpha_max = 30 * deg\n",
    "N = 100\n",
    "alpha = np.linspace(alpha_min, alpha_max, N)"
   ]
  },
  {
   "cell_type": "code",
   "execution_count": 120,
   "id": "6b9cbf5f-f565-426e-a65d-42ba2fee7305",
   "metadata": {},
   "outputs": [
    {
     "name": "stdout",
     "output_type": "stream",
     "text": [
      "key     quantity            \n",
      "----------------------------\n",
      "m       M                        3.00000000\n",
      "pr      P / P0                   0.02722368\n",
      "dr      rho / rho0               0.07622631\n",
      "tr      T / T0                   0.35714286\n",
      "prs     P / P*                   0.05153250\n",
      "drs     rho / rho*               0.12024251\n",
      "trs     T / T*                   0.42857143\n",
      "urs     U / U*                   1.96396101\n",
      "ars     A / A*                   4.23456790\n",
      "ma      Mach Angle              19.47122063\n",
      "pm      Prandtl-Meyer           49.75734674\n"
     ]
    }
   ],
   "source": [
    "flow1 = isentropic_solver(\"m\", M1)\n",
    "flow1.show()"
   ]
  },
  {
   "cell_type": "code",
   "execution_count": 121,
   "id": "baf2e477-a583-423b-8c7c-c5592586f4e2",
   "metadata": {},
   "outputs": [
    {
     "data": {
      "text/html": [
       "36.732721804952064 atm"
      ],
      "text/latex": [
       "$36.732721804952064\\ \\mathrm{atm}$"
      ],
      "text/plain": [
       "<Quantity(36.7327218, 'standard_atmosphere')>"
      ]
     },
     "execution_count": 121,
     "metadata": {},
     "output_type": "execute_result"
    }
   ],
   "source": [
    "p0 = (1 / flow1[\"pr\"]) * p1\n",
    "p0"
   ]
  },
  {
   "cell_type": "code",
   "execution_count": 122,
   "id": "b9660711-4008-429c-a0f9-b539469878d3",
   "metadata": {},
   "outputs": [
    {
     "data": {
      "text/html": [
       "756.0 K"
      ],
      "text/latex": [
       "$756.0\\ \\mathrm{K}$"
      ],
      "text/plain": [
       "<Quantity(756.0, 'kelvin')>"
      ]
     },
     "execution_count": 122,
     "metadata": {},
     "output_type": "execute_result"
    }
   ],
   "source": [
    "T0 = (1 / flow1[\"tr\"]) * T1\n",
    "T0"
   ]
  },
  {
   "cell_type": "code",
   "execution_count": 123,
   "id": "d11bf348-090f-4441-b0cd-beb2412526b7",
   "metadata": {},
   "outputs": [
    {
     "name": "stderr",
     "output_type": "stream",
     "text": [
      "/home/davide/Documents/Development/envs/pygas/lib/python3.12/site-packages/pint/facets/plain/quantity.py:1029: RuntimeWarning: divide by zero encountered in scalar divide\n",
      "  magnitude = magnitude_op(new_self._magnitude, other._magnitude)\n"
     ]
    }
   ],
   "source": [
    "from collections import defaultdict\n",
    "\n",
    "results = defaultdict(list)\n",
    "\n",
    "def compute(alpha):\n",
    "    nu1 = flow1[\"pm\"] * deg\n",
    "    nu2 = alpha + nu1\n",
    "    flow2 = isentropic_solver(\"prandtl_meyer\", nu2)\n",
    "    p2 = flow2[\"pr\"] * p0\n",
    "    T2 = flow2[\"tr\"] * T0\n",
    "    shock = shockwave_solver(\"mu\", M1, \"theta\", alpha)\n",
    "    p3 = shock[\"pr\"] * p1\n",
    "    T3 = shock[\"tr\"] * T1\n",
    "    Lp = ((p3 - p2) * c * w * np.cos(alpha.to(\"radian\"))).to(\"N\")\n",
    "    Dp = ((p3 - p2) * c * w * np.sin(alpha.to(\"radian\"))).to(\"N\")\n",
    "\n",
    "    results[\"p2\"].append(p2)\n",
    "    results[\"T2\"].append(T2)\n",
    "    results[\"p3\"].append(p3)\n",
    "    results[\"T3\"].append(T3)\n",
    "    results[\"Lp\"].append(Lp)\n",
    "    results[\"Dp\"].append(Dp)\n",
    "    results[\"L_D\"].append(Lp / Dp)\n",
    "\n",
    "for a in alpha:\n",
    "    compute(a)\n",
    "\n",
    "# post-processing: create numpy arrays\n",
    "for k in results:\n",
    "    units = 1 if results[k][0].unitless else results[k][0].units\n",
    "    results[k] = np.array([r.magnitude for r in results[k]]) * units"
   ]
  },
  {
   "cell_type": "code",
   "execution_count": 124,
   "id": "88db41e3-ad72-4af1-9cec-bedb2416e4e1",
   "metadata": {},
   "outputs": [
    {
     "data": {
      "image/png": "[encoded data removed]",
      "text/plain": [
       "<Figure size 500x600 with 4 Axes>"
      ]
     },
     "metadata": {},
     "output_type": "display_data"
    }
   ],
   "source": [
    "import matplotlib.pyplot as plt\n",
    "\n",
    "fig, ax = plt.subplots(4, 1, sharex=True, figsize=(5, 6))\n",
    "ax[0].plot(alpha.magnitude, results[\"p2\"].magnitude, label=\"p2\")\n",
    "ax[0].plot(alpha.magnitude, results[\"p3\"].magnitude, label=\"p3\")\n",
    "ax[0].legend()\n",
    "ax[0].set_ylabel(\"[atm]\")\n",
    "ax[1].plot(alpha.magnitude, results[\"T2\"].magnitude, label=\"T2\")\n",
    "ax[1].plot(alpha.magnitude, results[\"T3\"].magnitude, label=\"T3\")\n",
    "ax[1].legend()\n",
    "ax[1].set_ylabel(\"[K]\")\n",
    "ax[2].plot(alpha.magnitude, results[\"Lp\"].magnitude / 1000, label=\"L\")\n",
    "ax[2].plot(alpha.magnitude, results[\"Dp\"].magnitude / 1000, label=\"D\")\n",
    "ax[2].legend()\n",
    "ax[2].set_ylabel(\"[kN]\")\n",
    "ax[3].plot(alpha.magnitude, results[\"L_D\"])\n",
    "ax[3].set_xlabel(r\"$\\alpha$ [deg]\")\n",
    "ax[3].set_ylabel(\"L/D\")\n",
    "plt.show()"
   ]
  },
  {
   "cell_type": "markdown",
   "id": "d5ad7452-daad-4972-acfe-513b6a159337",
   "metadata": {},
   "source": [
    "## P 4.18"
   ]
  },
  {
   "cell_type": "code",
   "execution_count": 125,
   "id": "d80a7bda-1cda-4788-8a5c-eb6b9b4bee10",
   "metadata": {},
   "outputs": [],
   "source": [
    "M1 = 2\n",
    "alpha = 2 * deg\n",
    "c = 1 * m\n",
    "w = 1 * ft\n",
    "p1 = 1 * atm"
   ]
  },
  {
   "cell_type": "code",
   "execution_count": 126,
   "id": "29aac356-50ac-49b2-b1a6-da5b02dd1845",
   "metadata": {},
   "outputs": [
    {
     "data": {
      "text/html": [
       "90.09682891554544 lbf"
      ],
      "text/latex": [
       "$90.09682891554544\\ \\mathrm{lbf}$"
      ],
      "text/plain": [
       "<Quantity(90.0968289, 'force_pound')>"
      ]
     },
     "execution_count": 126,
     "metadata": {},
     "output_type": "execute_result"
    }
   ],
   "source": [
    "# skin drag friction: adapted from example 1.8\n",
    "import sympy as sp\n",
    "a, b, epsilon = sp.symbols(\"a, b, epsilon\")\n",
    "tw = (13 * epsilon**(sp.Rational(2, 10)))    # lb/ft**2\n",
    "tmp = float(tw.integrate((epsilon, a, b)).subs({a:0, b: c.to(\"ft\").magnitude}))\n",
    "# NOTE: the shear stress acts on both sides of the flat plate\n",
    "Df = (tmp * 2 * np.cos(alpha.to(\"radian\"))) * lbf\n",
    "Df"
   ]
  },
  {
   "cell_type": "code",
   "execution_count": 127,
   "id": "a926559d-29d1-495b-ba6c-6edbb830e05c",
   "metadata": {},
   "outputs": [
    {
     "name": "stdout",
     "output_type": "stream",
     "text": [
      "key     quantity            \n",
      "----------------------------\n",
      "m       M                        2.00000000\n",
      "pr      P / P0                   0.12780453\n",
      "dr      rho / rho0               0.23004815\n",
      "tr      T / T0                   0.55555556\n",
      "prs     P / P*                   0.24192491\n",
      "drs     rho / rho*               0.36288737\n",
      "trs     T / T*                   0.66666667\n",
      "urs     U / U*                   1.63299316\n",
      "ars     A / A*                   1.68750000\n",
      "ma      Mach Angle              30.00000000\n",
      "pm      Prandtl-Meyer           26.37976081\n"
     ]
    }
   ],
   "source": [
    "flow1 = isentropic_solver(\"m\", M1)\n",
    "flow1.show()"
   ]
  },
  {
   "cell_type": "code",
   "execution_count": 128,
   "id": "4c0410f9-ed95-4791-8837-5bfeb2e1d253",
   "metadata": {},
   "outputs": [],
   "source": [
    "nu1 = flow1[\"pm\"] * deg\n",
    "p1_p01 = flow1[\"pr\"]"
   ]
  },
  {
   "cell_type": "code",
   "execution_count": 129,
   "id": "13ed28bc-cfaa-4eb8-b7f4-b4b63832627c",
   "metadata": {},
   "outputs": [
    {
     "name": "stdout",
     "output_type": "stream",
     "text": [
      "key     quantity            \n",
      "----------------------------\n",
      "m       M                        2.07331377\n",
      "pr      P / P0                   0.11400624\n",
      "dr      rho / rho0               0.21202037\n",
      "tr      T / T0                   0.53771362\n",
      "prs     P / P*                   0.21580574\n",
      "drs     rho / rho*               0.33444962\n",
      "trs     T / T*                   0.64525634\n",
      "urs     U / U*                   1.66544837\n",
      "ars     A / A*                   1.79530450\n",
      "ma      Mach Angle [deg]        28.83701273\n",
      "pm      Prandtl-Meyer [deg]     28.37976081\n"
     ]
    }
   ],
   "source": [
    "nu2 = alpha + nu1\n",
    "flow2 = isentropic_solver(\"prandtl_meyer\", nu2)\n",
    "flow2.show()"
   ]
  },
  {
   "cell_type": "code",
   "execution_count": 130,
   "id": "d44e1609-468a-4eaa-82e7-715500c7df1e",
   "metadata": {},
   "outputs": [
    {
     "data": {
      "text/plain": [
       "np.float64(2.0733137748327835)"
      ]
     },
     "execution_count": 130,
     "metadata": {},
     "output_type": "execute_result"
    }
   ],
   "source": [
    "M2 = flow2[\"m\"]\n",
    "M2"
   ]
  },
  {
   "cell_type": "code",
   "execution_count": 131,
   "id": "097a9bfe-7278-4369-ae62-b6555464a0bb",
   "metadata": {},
   "outputs": [
    {
     "data": {
      "text/html": [
       "0.8920360308781463 atm"
      ],
      "text/latex": [
       "$0.8920360308781463\\ \\mathrm{atm}$"
      ],
      "text/plain": [
       "<Quantity(0.892036031, 'standard_atmosphere')>"
      ]
     },
     "execution_count": 131,
     "metadata": {},
     "output_type": "execute_result"
    }
   ],
   "source": [
    "p2_p02 = flow2[\"pr\"]\n",
    "p2 = p2_p02 * (1 / p1_p01) * p1\n",
    "p2"
   ]
  },
  {
   "cell_type": "code",
   "execution_count": 132,
   "id": "562994e5-3e63-40ab-86f0-7086662d9c63",
   "metadata": {},
   "outputs": [
    {
     "name": "stdout",
     "output_type": "stream",
     "text": [
      "key     quantity     \n",
      "---------------------\n",
      "mu      Mu                2.00000000\n",
      "mnu     Mnu               1.04934767\n",
      "md      Md                1.92805111\n",
      "mnd     Mnd               0.95369922\n",
      "beta    beta [deg]       31.64628844\n",
      "theta   theta [deg]       2.00000000\n",
      "pr      pd/pu             1.11798561\n",
      "dr      rhod/rhou         1.08287851\n",
      "tr      Td/Tu             1.03242016\n",
      "tpr     p0d/p0u           0.99985849\n"
     ]
    }
   ],
   "source": [
    "shock = shockwave_solver(\"mu\", M1, \"theta\", alpha)\n",
    "shock.show()"
   ]
  },
  {
   "cell_type": "code",
   "execution_count": 133,
   "id": "fc780941-6e28-4fbd-bc0c-25d12c0c84c3",
   "metadata": {},
   "outputs": [
    {
     "data": {
      "text/html": [
       "1.1179856110851587 atm"
      ],
      "text/latex": [
       "$1.1179856110851587\\ \\mathrm{atm}$"
      ],
      "text/plain": [
       "<Quantity(1.11798561, 'standard_atmosphere')>"
      ]
     },
     "execution_count": 133,
     "metadata": {},
     "output_type": "execute_result"
    }
   ],
   "source": [
    "p3_p1 = shock[\"pr\"]\n",
    "p3 = p3_p1 * p1\n",
    "p3"
   ]
  },
  {
   "cell_type": "code",
   "execution_count": 134,
   "id": "d1881915-e29c-4157-94f0-ae4b7571e472",
   "metadata": {},
   "outputs": [
    {
     "data": {
      "text/html": [
       "1567.805041519068 lbf"
      ],
      "text/latex": [
       "$1567.805041519068\\ \\mathrm{lbf}$"
      ],
      "text/plain": [
       "<Quantity(1567.80504, 'force_pound')>"
      ]
     },
     "execution_count": 134,
     "metadata": {},
     "output_type": "execute_result"
    }
   ],
   "source": [
    "L = (p3 - p2) * c * w * np.cos(alpha)\n",
    "L = L.to(\"lbf\")\n",
    "L"
   ]
  },
  {
   "cell_type": "code",
   "execution_count": 135,
   "id": "895caf54-3c75-45e6-8687-c3a1b054bf38",
   "metadata": {},
   "outputs": [
    {
     "data": {
      "text/html": [
       "54.748958462887344 lbf"
      ],
      "text/latex": [
       "$54.748958462887344\\ \\mathrm{lbf}$"
      ],
      "text/plain": [
       "<Quantity(54.7489585, 'force_pound')>"
      ]
     },
     "execution_count": 135,
     "metadata": {},
     "output_type": "execute_result"
    }
   ],
   "source": [
    "D = (p3 - p2) * c * w * np.sin(alpha)\n",
    "D = D.to(\"lbf\")\n",
    "D"
   ]
  },
  {
   "cell_type": "code",
   "execution_count": 136,
   "id": "d515279d-4832-4231-81fb-ba768e4f2b52",
   "metadata": {},
   "outputs": [
    {
     "data": {
      "text/html": [
       "0.6220189799524722"
      ],
      "text/latex": [
       "$0.6220189799524722$"
      ],
      "text/plain": [
       "<Quantity(0.62201898, 'dimensionless')>"
      ]
     },
     "execution_count": 136,
     "metadata": {},
     "output_type": "execute_result"
    }
   ],
   "source": [
    "percentage = Df / (Df + D)\n",
    "percentage"
   ]
  },
  {
   "cell_type": "markdown",
   "id": "89817c8c-4e43-47d2-94ff-a1baa37f62ab",
   "metadata": {},
   "source": [
    "In comparison to example 1.8, at lower angle of attacks the skin drag becomes comparable to the wave drag."
   ]
  },
  {
   "cell_type": "markdown",
   "id": "f42b21a3-babd-4944-9427-ca21f0dae6a2",
   "metadata": {},
   "source": [
    "## P 4.19"
   ]
  },
  {
   "cell_type": "markdown",
   "id": "c2f92043-13ad-493a-b76b-1f5ada4fb120",
   "metadata": {},
   "source": [
    "This is a modified version of Figure 4.40 of \"Modern Compressible Flow with Historical Perspective\", Third Edition, John D. Anderson."
   ]
  },
  {
   "cell_type": "markdown",
   "id": "d88bdf15-1fae-4c70-8bf6-a26944a5681c",
   "metadata": {},
   "source": [
    "![figure 4.40 - wedge](data:image/png;base64,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)"
   ]
  },
  {
   "cell_type": "code",
   "execution_count": 137,
   "id": "e132d87b-4cc4-4e51-8bd6-779f6eff8ba9",
   "metadata": {},
   "outputs": [],
   "source": [
    "M1 = 4\n",
    "theta = 20 * deg"
   ]
  },
  {
   "cell_type": "code",
   "execution_count": 138,
   "id": "e638e83e-8d1d-4a20-9674-5a06b268bb2f",
   "metadata": {},
   "outputs": [],
   "source": [
    "# c: chord length of the wedge\n",
    "# p1 : free stream pressure\n",
    "import sympy as sp\n",
    "c, p1 = sp.symbols(\"c, p1\")\n",
    "# l: length of the oblique side\n",
    "l = c / sp.cos(theta.to(\"radian\").magnitude)\n",
    "# h: length of the vertical side\n",
    "h = (2 * l * sp.sin(theta.to(\"radian\").magnitude)).trigsimp()"
   ]
  },
  {
   "cell_type": "markdown",
   "id": "de08df4e-3237-4c0f-babc-f001ef45f892",
   "metadata": {},
   "source": [
    "$$\n",
    "c_{d} = \\frac{D'}{q_{1} c}\n",
    "$$\n",
    "\n",
    "where:\n",
    "\n",
    "* $D'$: drag per unit span.\n",
    "* $q_{1} = \\frac{\\gamma}{2} p_{1} M_{1}^{2}$: dynamic pressure.\n",
    "* $c$: chord length of the wedge"
   ]
  },
  {
   "cell_type": "code",
   "execution_count": 139,
   "id": "7e081ca2-f9c8-4b62-8d20-947768c71535",
   "metadata": {},
   "outputs": [
    {
     "name": "stdout",
     "output_type": "stream",
     "text": [
      "key     quantity     \n",
      "---------------------\n",
      "mu      Mu                4.00000000\n",
      "mnu     Mnu               2.14707226\n",
      "md      Md                2.56861689\n",
      "mnd     Mnd               0.55437017\n",
      "beta    beta [deg]       32.46389685\n",
      "theta   theta [deg]      20.00000000\n",
      "pr      pd/pu             5.21157250\n",
      "dr      rhod/rhou         2.87822560\n",
      "tr      Td/Tu             1.81068937\n",
      "tpr     p0d/p0u           0.65240150\n"
     ]
    }
   ],
   "source": [
    "shock = shockwave_solver(\"mu\", M1, \"theta\", theta)\n",
    "shock.show()"
   ]
  },
  {
   "cell_type": "code",
   "execution_count": 140,
   "id": "4f1f9bae-57be-4def-aef2-639df6c68fae",
   "metadata": {},
   "outputs": [
    {
     "data": {
      "text/latex": [
       "$\\displaystyle 3.06577406052391 c p_{1}$"
      ],
      "text/plain": [
       "3.06577406052391*c*p1"
      ]
     },
     "execution_count": 140,
     "metadata": {},
     "output_type": "execute_result"
    }
   ],
   "source": [
    "p2_p1 = shock[\"pr\"]\n",
    "Dp = l * p2_p1 * p1 * sp.sin(theta) * 2 - h * p1\n",
    "Dp = Dp.n()\n",
    "Dp"
   ]
  },
  {
   "cell_type": "code",
   "execution_count": 141,
   "id": "d933e360-3329-46cd-8dd4-6cc856f24fbf",
   "metadata": {},
   "outputs": [
    {
     "data": {
      "text/latex": [
       "$\\displaystyle 11.2 p_{1}$"
      ],
      "text/plain": [
       "11.2*p1"
      ]
     },
     "execution_count": 141,
     "metadata": {},
     "output_type": "execute_result"
    }
   ],
   "source": [
    "q1 = (gamma / 2) * p1 * M1**2\n",
    "q1"
   ]
  },
  {
   "cell_type": "code",
   "execution_count": 142,
   "id": "e35e9a7b-5125-4402-b70c-be1d4601b3ef",
   "metadata": {},
   "outputs": [
    {
     "data": {
      "text/latex": [
       "$\\displaystyle 0.273729826832492$"
      ],
      "text/plain": [
       "0.273729826832492"
      ]
     },
     "execution_count": 142,
     "metadata": {},
     "output_type": "execute_result"
    }
   ],
   "source": [
    "cd = Dp / (q1 * c)\n",
    "cd"
   ]
  },
  {
   "cell_type": "markdown",
   "id": "4e6381c5-1328-4025-903e-e1bb31dd920c",
   "metadata": {},
   "source": [
    "## P 4.20"
   ]
  },
  {
   "cell_type": "code",
   "execution_count": 143,
   "id": "4a809537-4920-4c20-ba82-ea155747ee76",
   "metadata": {},
   "outputs": [],
   "source": [
    "M1 = 3\n",
    "gamma1 = 1.4\n",
    "gamma2 = 1.2\n",
    "theta = 20 * deg"
   ]
  },
  {
   "cell_type": "code",
   "execution_count": 144,
   "id": "85686464-d4f5-4fb6-84d6-280f36ed71fc",
   "metadata": {},
   "outputs": [
    {
     "name": "stdout",
     "output_type": "stream",
     "text": [
      "key     quantity     \n",
      "---------------------\n",
      "mu      Mu                3.00000000\n",
      "mnu     Mnu               1.83721625\n",
      "md      Md                1.99413167\n",
      "mnd     Mnd               0.60839147\n",
      "beta    beta [deg]       37.76363415\n",
      "theta   theta [deg]      20.00000000\n",
      "pr      pd/pu             3.77125746\n",
      "dr      rhod/rhou         2.41806593\n",
      "tr      Td/Tu             1.55961730\n",
      "tpr     p0d/p0u           0.79601825\n"
     ]
    }
   ],
   "source": [
    "shock1 = shockwave_solver(\"mu\", M1, \"theta\", theta, gamma1)\n",
    "shock1.show()"
   ]
  },
  {
   "cell_type": "code",
   "execution_count": 145,
   "id": "89023427-30c0-4923-9878-fe318ab44027",
   "metadata": {},
   "outputs": [
    {
     "data": {
      "text/html": [
       "37.76363414837576 deg"
      ],
      "text/latex": [
       "$37.76363414837576\\ \\mathrm{deg}$"
      ],
      "text/plain": [
       "<Quantity(37.7636341, 'degree')>"
      ]
     },
     "execution_count": 145,
     "metadata": {},
     "output_type": "execute_result"
    }
   ],
   "source": [
    "beta1 = shock1[\"beta\"]\n",
    "beta1"
   ]
  },
  {
   "cell_type": "code",
   "execution_count": 146,
   "id": "a5008ba9-9dea-4fe6-856a-9070829c7d39",
   "metadata": {},
   "outputs": [
    {
     "name": "stdout",
     "output_type": "stream",
     "text": [
      "key     quantity     \n",
      "---------------------\n",
      "mu      Mu                3.00000000\n",
      "mnu     Mnu               1.74476259\n",
      "md      Md                2.25845491\n",
      "mnd     Mnd               0.60591105\n",
      "beta    beta [deg]       35.56227873\n",
      "theta   theta [deg]      20.00000000\n",
      "pr      pd/pu             3.23003255\n",
      "dr      rhod/rhou         2.56713102\n",
      "tr      Td/Tu             1.25822660\n",
      "tpr     p0d/p0u           0.81405494\n"
     ]
    }
   ],
   "source": [
    "shock2 = shockwave_solver(\"mu\", M1, \"theta\", theta, gamma2)\n",
    "shock2.show()"
   ]
  },
  {
   "cell_type": "code",
   "execution_count": 147,
   "id": "34ed61fc-49e1-49a8-ba4e-5bdf5cfcabd9",
   "metadata": {},
   "outputs": [
    {
     "data": {
      "text/html": [
       "35.56227872698842 deg"
      ],
      "text/latex": [
       "$35.56227872698842\\ \\mathrm{deg}$"
      ],
      "text/plain": [
       "<Quantity(35.5622787, 'degree')>"
      ]
     },
     "execution_count": 147,
     "metadata": {},
     "output_type": "execute_result"
    }
   ],
   "source": [
    "beta2 = shock2[\"beta\"]\n",
    "beta2"
   ]
  },
  {
   "cell_type": "markdown",
   "id": "957d3bb2-d677-4582-bbaf-b31f86305a00",
   "metadata": {},
   "source": [
    "Wave angle is reduced when considering chemically reacting gases."
   ]
  },
  {
   "cell_type": "markdown",
   "id": "8b9961b2-7289-4277-a7bc-bb0aa630ed17",
   "metadata": {},
   "source": [
    "## P 4.21"
   ]
  },
  {
   "cell_type": "code",
   "execution_count": 148,
   "id": "4aca28e5-52c8-4d5c-a372-531223de1509",
   "metadata": {},
   "outputs": [
    {
     "data": {
      "text/plain": [
       "np.float64(3.771257463082658)"
      ]
     },
     "execution_count": 148,
     "metadata": {},
     "output_type": "execute_result"
    }
   ],
   "source": [
    "p2_p1_a = shock1[\"pr\"]\n",
    "p2_p1_a"
   ]
  },
  {
   "cell_type": "code",
   "execution_count": 149,
   "id": "b0abb57f-e08a-4a0a-8d3f-ba55bc9fd27b",
   "metadata": {},
   "outputs": [
    {
     "data": {
      "text/plain": [
       "np.float64(3.2300325483469434)"
      ]
     },
     "execution_count": 149,
     "metadata": {},
     "output_type": "execute_result"
    }
   ],
   "source": [
    "p2_p1_b = shock2[\"pr\"]\n",
    "p2_p1_b"
   ]
  },
  {
   "cell_type": "markdown",
   "id": "d3429a48-27ba-4234-87f2-c21f8c31e558",
   "metadata": {},
   "source": [
    "Chemically reacting gases reduce the pressure change across the shockwave."
   ]
  }
 ],
 "metadata": {
  "kernelspec": {
   "display_name": "Python 3 (ipykernel)",
   "language": "python",
   "name": "python3"
  },
  "language_info": {
   "codemirror_mode": {
    "name": "ipython",
    "version": 3
   },
   "file_extension": ".py",
   "mimetype": "text/x-python",
   "name": "python",
   "nbconvert_exporter": "python",
   "pygments_lexer": "ipython3",
   "version": "3.12.7"
  }
 },
 "nbformat": 4,
 "nbformat_minor": 5
}
