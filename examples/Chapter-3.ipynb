{
 "cells": [
  {
   "cell_type": "markdown",
   "id": "1699c8ec-eb05-4cae-aa70-465a7cd90f52",
   "metadata": {},
   "source": [
    "# Chapter 3 Problems \n",
    "\n",
    "> of \"<ins>Modern Compressible Flow With Historical Perspective</ins>\", Third Edition, John D. Anderson Jr"
   ]
  },
  {
   "cell_type": "code",
   "execution_count": 1,
   "id": "4b761009-a68c-43bd-bbc8-f112f6abd306",
   "metadata": {},
   "outputs": [],
   "source": [
    "import pint\n",
    "import pygasflow\n",
    "from pygasflow.solvers import *\n",
    "import numpy as np\n",
    "\n",
    "ureg = pint.UnitRegistry()\n",
    "# to imperial units\n",
    "ureg.define(\"pound_mass = 0.45359237 kg = lbm\")\n",
    "# use \"~P\" to format units with unicode\n",
    "ureg.formatter.default_format = \"~\"\n",
    "# let pygasflow knows which UnitRegistry to use\n",
    "pygasflow.defaults.pint_ureg = ureg\n",
    "# dictionary results offers improved code readability\n",
    "pygasflow.defaults.solver_to_dict = True\n",
    "\n",
    "# shorcuts for conveniance\n",
    "kg = ureg.kg\n",
    "K = ureg.K\n",
    "degR = ureg.degR\n",
    "degC = ureg.degC\n",
    "J = ureg.J\n",
    "m = ureg.m\n",
    "atm = ureg.atm\n",
    "Pa = ureg.pascal\n",
    "sec = ureg.s\n",
    "lb = ureg.lb\n",
    "ft = ureg.feet\n",
    "ft_lb = ureg.ft_lb\n",
    "slug = ureg.slug\n",
    "Q_ = ureg.Quantity\n",
    "\n",
    "gamma = 1.4\n",
    "R = 287.05 * J / (kg * K)"
   ]
  },
  {
   "cell_type": "markdown",
   "id": "c4a3d4db-af3b-4594-9b50-eb936679d9b1",
   "metadata": {},
   "source": [
    "## P 3.1"
   ]
  },
  {
   "cell_type": "code",
   "execution_count": 2,
   "id": "c74307aa-3feb-4846-a3f3-49bb7f4adbb7",
   "metadata": {},
   "outputs": [],
   "source": [
    "M = 0.7\n",
    "p = 0.9 * atm\n",
    "T = 250 * K"
   ]
  },
  {
   "cell_type": "code",
   "execution_count": 3,
   "id": "6ceec666-95a0-4e8f-b285-8b88da9f5e9a",
   "metadata": {},
   "outputs": [
    {
     "name": "stdout",
     "output_type": "stream",
     "text": [
      "key     quantity            \n",
      "----------------------------\n",
      "m       M                        0.70000000\n",
      "pr      P / P0                   0.72092786\n",
      "dr      rho / rho0               0.79157879\n",
      "tr      T / T0                   0.91074681\n",
      "prs     P / P*                   1.36466537\n",
      "drs     rho / rho*               1.24866881\n",
      "trs     T / T*                   1.09289617\n",
      "urs     U / U*                   0.73179172\n",
      "ars     A / A*                   1.09437268\n",
      "ma      Mach Angle                      nan\n",
      "pm      Prandtl-Meyer                   nan\n"
     ]
    }
   ],
   "source": [
    "res = isentropic_solver(\"m\", M, gamma, to_dict=True)\n",
    "res.show()"
   ]
  },
  {
   "cell_type": "code",
   "execution_count": 4,
   "id": "5cca417f-e80c-4103-94a0-e036209f1643",
   "metadata": {},
   "outputs": [],
   "source": [
    "P0 = (1 / res[\"pr\"]) * p\n",
    "T0 = (1 / res[\"tr\"]) * T\n",
    "ps = (1 / res[\"prs\"]) * p\n",
    "Ts = (1 / res[\"trs\"]) * T\n",
    "a_star = np.sqrt(gamma * R * Ts)"
   ]
  },
  {
   "cell_type": "code",
   "execution_count": 5,
   "id": "0533c96a-7be8-4f3e-854a-68923458efae",
   "metadata": {},
   "outputs": [
    {
     "name": "stdout",
     "output_type": "stream",
     "text": [
      "P0 = 1.248391203471733 atm\n",
      "T0 = 274.49999999999994 K\n",
      "p* = 0.6595023367404417 atm\n",
      "T* = 228.74999999999997 K\n",
      "a* = 303.1959143854019 J ** 0.5 / kg ** 0.5\n"
     ]
    }
   ],
   "source": [
    "quantities = [P0, T0, ps, Ts, a_star]\n",
    "labels = [\"P0\", \"T0\", \"p*\", \"T*\", \"a*\"]\n",
    "for q, l in zip(quantities, labels):\n",
    "    print(l, \"=\", q)"
   ]
  },
  {
   "cell_type": "markdown",
   "id": "12ba94ad-b890-468c-80f3-75a805517165",
   "metadata": {},
   "source": [
    "## P 3.2"
   ]
  },
  {
   "cell_type": "code",
   "execution_count": 6,
   "id": "5f26e6a3-c25e-4cfe-882e-a679456d803e",
   "metadata": {},
   "outputs": [],
   "source": [
    "p = 5e04 * Pa\n",
    "T = 200 * K\n",
    "p0 = 1.5e06 * Pa"
   ]
  },
  {
   "cell_type": "code",
   "execution_count": 7,
   "id": "e7eb1be6-0f16-4027-8ca3-6350b9252ddd",
   "metadata": {},
   "outputs": [
    {
     "name": "stdout",
     "output_type": "stream",
     "text": [
      "key     quantity            \n",
      "----------------------------\n",
      "m       M                        2.86585027\n",
      "pr      P / P0                   0.03333333\n",
      "dr      rho / rho0               0.08808732\n",
      "tr      T / T0                   0.37841240\n",
      "prs     P / P*                   0.06309764\n",
      "drs     rho / rho*               0.13895254\n",
      "trs     T / T*                   0.45409488\n",
      "urs     U / U*                   1.93119797\n",
      "ars     A / A*                   3.72654782\n",
      "ma      Mach Angle [deg]        20.42228556\n",
      "pm      Prandtl-Meyer [deg]     47.10098339\n"
     ]
    }
   ],
   "source": [
    "pr = p / p0\n",
    "res = isentropic_solver(\"pressure\", pr, gamma, to_dict=True)\n",
    "res.show()"
   ]
  },
  {
   "cell_type": "code",
   "execution_count": 8,
   "id": "c191f4ad-7bb1-4142-a138-7b45084f6ee5",
   "metadata": {},
   "outputs": [
    {
     "name": "stdout",
     "output_type": "stream",
     "text": [
      "Mach = 2.8658502699286807\n"
     ]
    }
   ],
   "source": [
    "print(\"Mach =\", res[\"m\"])"
   ]
  },
  {
   "cell_type": "code",
   "execution_count": 9,
   "id": "365e7d9e-9408-405f-9b20-77db336fbfbf",
   "metadata": {},
   "outputs": [
    {
     "data": {
      "text/html": [
       "528.5239107860116 K"
      ],
      "text/latex": [
       "$528.5239107860116\\ \\mathrm{K}$"
      ],
      "text/plain": [
       "<Quantity(528.523911, 'kelvin')>"
      ]
     },
     "execution_count": 9,
     "metadata": {},
     "output_type": "execute_result"
    }
   ],
   "source": [
    "T0 = (1 / res[\"tr\"]) * T\n",
    "T0"
   ]
  },
  {
   "cell_type": "markdown",
   "id": "21f8188f-203b-406d-be7c-d8e743fa06b0",
   "metadata": {},
   "source": [
    "## P 3.3"
   ]
  },
  {
   "cell_type": "code",
   "execution_count": 10,
   "id": "79dc82a8-7f04-4f4e-ac34-d1b77f2bacb3",
   "metadata": {},
   "outputs": [],
   "source": [
    "U = 3000 * ft / sec\n",
    "T = 500 * degR"
   ]
  },
  {
   "cell_type": "code",
   "execution_count": 11,
   "id": "23646c30-40c7-4961-99ae-06332f5adf1d",
   "metadata": {},
   "outputs": [
    {
     "data": {
      "text/html": [
       "334.1115914714058 m/s"
      ],
      "text/latex": [
       "$334.1115914714058\\ \\frac{\\mathrm{m}}{\\mathrm{s}}$"
      ],
      "text/plain": [
       "<Quantity(334.111591, 'meter / second')>"
      ]
     },
     "execution_count": 11,
     "metadata": {},
     "output_type": "execute_result"
    }
   ],
   "source": [
    "a = np.sqrt(gamma * R * T.to(\"kelvin\")).to(\"m/s\")\n",
    "a"
   ]
  },
  {
   "cell_type": "code",
   "execution_count": 12,
   "id": "d8656baa-1967-450f-a2a5-ef725f6e82df",
   "metadata": {},
   "outputs": [
    {
     "data": {
      "text/html": [
       "2.736810165648673"
      ],
      "text/latex": [
       "$2.736810165648673$"
      ],
      "text/plain": [
       "<Quantity(2.73681017, 'dimensionless')>"
      ]
     },
     "execution_count": 12,
     "metadata": {},
     "output_type": "execute_result"
    }
   ],
   "source": [
    "M = U.to(\"m/s\") / a\n",
    "M"
   ]
  },
  {
   "cell_type": "code",
   "execution_count": 13,
   "id": "442a8373-97d5-428d-a3d1-cad7cb6eb743",
   "metadata": {},
   "outputs": [
    {
     "data": {
      "text/html": [
       "1.8968667428039343"
      ],
      "text/latex": [
       "$1.8968667428039343$"
      ],
      "text/plain": [
       "<Quantity(1.89686674, 'dimensionless')>"
      ]
     },
     "execution_count": 13,
     "metadata": {},
     "output_type": "execute_result"
    }
   ],
   "source": [
    "from pygasflow.generic import characteristic_mach_number\n",
    "M_star = characteristic_mach_number(M)\n",
    "M_star"
   ]
  },
  {
   "cell_type": "markdown",
   "id": "05eefdff-83b4-41bc-a2c7-54f3c7a26182",
   "metadata": {},
   "source": [
    "## P 3.4"
   ]
  },
  {
   "cell_type": "code",
   "execution_count": 14,
   "id": "20e78180-6c9d-42c1-a078-ff91e1c5820d",
   "metadata": {},
   "outputs": [],
   "source": [
    "M1 = 3\n",
    "p1 = 1 * atm\n",
    "rho1 = 1.23 * kg / m**3"
   ]
  },
  {
   "cell_type": "code",
   "execution_count": 15,
   "id": "53dcdc58-ae2d-4c23-a037-f144bcd63ed4",
   "metadata": {},
   "outputs": [
    {
     "data": {
      "text/html": [
       "293.15 K"
      ],
      "text/latex": [
       "$293.15\\ \\mathrm{K}$"
      ],
      "text/plain": [
       "<Quantity(293.15, 'kelvin')>"
      ]
     },
     "execution_count": 15,
     "metadata": {},
     "output_type": "execute_result"
    }
   ],
   "source": [
    "T1 = (273.15 + 20) * K\n",
    "T1"
   ]
  },
  {
   "cell_type": "code",
   "execution_count": 16,
   "id": "26047891-21e3-4d59-8f3c-e2458cd3fa5b",
   "metadata": {},
   "outputs": [
    {
     "name": "stdout",
     "output_type": "stream",
     "text": [
      "key     quantity            \n",
      "----------------------------\n",
      "m       M                        3.00000000\n",
      "pr      P / P0                   0.02722368\n",
      "dr      rho / rho0               0.07622631\n",
      "tr      T / T0                   0.35714286\n",
      "prs     P / P*                   0.05153250\n",
      "drs     rho / rho*               0.12024251\n",
      "trs     T / T*                   0.42857143\n",
      "urs     U / U*                   1.96396101\n",
      "ars     A / A*                   4.23456790\n",
      "ma      Mach Angle              19.47122063\n",
      "pm      Prandtl-Meyer           49.75734674\n"
     ]
    }
   ],
   "source": [
    "res_ise = isentropic_solver(\"m\", M1, gamma)\n",
    "res_ise.show()"
   ]
  },
  {
   "cell_type": "code",
   "execution_count": 17,
   "id": "d95cfade-0771-4bac-b03e-b653b993cb11",
   "metadata": {},
   "outputs": [
    {
     "data": {
      "text/html": [
       "820.8199999999999 K"
      ],
      "text/latex": [
       "$820.8199999999999\\ \\mathrm{K}$"
      ],
      "text/plain": [
       "<Quantity(820.82, 'kelvin')>"
      ]
     },
     "execution_count": 17,
     "metadata": {},
     "output_type": "execute_result"
    }
   ],
   "source": [
    "T01 = (1 / res_ise[\"tr\"]) * T1\n",
    "T01"
   ]
  },
  {
   "cell_type": "code",
   "execution_count": 18,
   "id": "a5faa97e-faad-46e2-ac2d-4f0740b625f2",
   "metadata": {},
   "outputs": [
    {
     "data": {
      "text/html": [
       "36.732721804952064 atm"
      ],
      "text/latex": [
       "$36.732721804952064\\ \\mathrm{atm}$"
      ],
      "text/plain": [
       "<Quantity(36.7327218, 'standard_atmosphere')>"
      ]
     },
     "execution_count": 18,
     "metadata": {},
     "output_type": "execute_result"
    }
   ],
   "source": [
    "p01 = (1 / res_ise[\"pr\"]) * p1\n",
    "p01"
   ]
  },
  {
   "cell_type": "code",
   "execution_count": 19,
   "id": "915e5995-b7df-4497-bb45-6ce21df0ca37",
   "metadata": {},
   "outputs": [
    {
     "name": "stdout",
     "output_type": "stream",
     "text": [
      "key     quantity     \n",
      "---------------------\n",
      "mu      Mu                3.00000000\n",
      "md      Md                0.47519096\n",
      "pr      pd/pu            10.33333333\n",
      "dr      rhod/rhou         3.85714286\n",
      "tr      Td/Tu             2.67901235\n",
      "tpr     p0d/p0u           0.32834389\n"
     ]
    }
   ],
   "source": [
    "res_shock = normal_shockwave_solver(\"mu\", M1, gamma=gamma)\n",
    "res_shock.show()"
   ]
  },
  {
   "cell_type": "code",
   "execution_count": 20,
   "id": "8c504b90-1153-4290-b9eb-be4349fbc169",
   "metadata": {},
   "outputs": [
    {
     "data": {
      "text/html": [
       "10.333333333333334 atm"
      ],
      "text/latex": [
       "$10.333333333333334\\ \\mathrm{atm}$"
      ],
      "text/plain": [
       "<Quantity(10.3333333, 'standard_atmosphere')>"
      ]
     },
     "execution_count": 20,
     "metadata": {},
     "output_type": "execute_result"
    }
   ],
   "source": [
    "p2 = res_shock[\"pr\"] * p1\n",
    "p2"
   ]
  },
  {
   "cell_type": "code",
   "execution_count": 21,
   "id": "f000299f-352c-4262-9ca7-d07b919f391f",
   "metadata": {},
   "outputs": [
    {
     "data": {
      "text/html": [
       "785.3524691358024 K"
      ],
      "text/latex": [
       "$785.3524691358024\\ \\mathrm{K}$"
      ],
      "text/plain": [
       "<Quantity(785.352469, 'kelvin')>"
      ]
     },
     "execution_count": 21,
     "metadata": {},
     "output_type": "execute_result"
    }
   ],
   "source": [
    "T2 = res_shock[\"tr\"] * T1\n",
    "T2"
   ]
  },
  {
   "cell_type": "code",
   "execution_count": 22,
   "id": "8713b13d-4469-43b9-ba6e-5433160ce2f4",
   "metadata": {},
   "outputs": [
    {
     "data": {
      "text/html": [
       "4.744285714285715 kg/m<sup>3</sup>"
      ],
      "text/latex": [
       "$4.744285714285715\\ \\frac{\\mathrm{kg}}{\\mathrm{m}^{3}}$"
      ],
      "text/plain": [
       "<Quantity(4.74428571, 'kilogram / meter ** 3')>"
      ]
     },
     "execution_count": 22,
     "metadata": {},
     "output_type": "execute_result"
    }
   ],
   "source": [
    "rho2 = res_shock[\"dr\"] * rho1\n",
    "rho2"
   ]
  },
  {
   "cell_type": "code",
   "execution_count": 23,
   "id": "ba056130-cd7e-4e43-890e-13bfc123b2c3",
   "metadata": {},
   "outputs": [
    {
     "data": {
      "text/html": [
       "12.060964701266622 atm"
      ],
      "text/latex": [
       "$12.060964701266622\\ \\mathrm{atm}$"
      ],
      "text/plain": [
       "<Quantity(12.0609647, 'standard_atmosphere')>"
      ]
     },
     "execution_count": 23,
     "metadata": {},
     "output_type": "execute_result"
    }
   ],
   "source": [
    "p02 = res_shock[\"tpr\"] * p01\n",
    "p02"
   ]
  },
  {
   "cell_type": "code",
   "execution_count": 24,
   "id": "b6547668-997d-4520-b1e7-ef6254687ed3",
   "metadata": {},
   "outputs": [
    {
     "data": {
      "text/html": [
       "820.8199999999999 K"
      ],
      "text/latex": [
       "$820.8199999999999\\ \\mathrm{K}$"
      ],
      "text/plain": [
       "<Quantity(820.82, 'kelvin')>"
      ]
     },
     "execution_count": 24,
     "metadata": {},
     "output_type": "execute_result"
    }
   ],
   "source": [
    "T02 = T01\n",
    "T02"
   ]
  },
  {
   "cell_type": "code",
   "execution_count": 25,
   "id": "cd5cf946-f92e-418f-b0a9-681e74c294e5",
   "metadata": {},
   "outputs": [
    {
     "data": {
      "text/html": [
       "163.1007341115972 m/s"
      ],
      "text/latex": [
       "$163.1007341115972\\ \\frac{\\mathrm{m}}{\\mathrm{s}}$"
      ],
      "text/plain": [
       "<Quantity(163.100734, 'meter / second')>"
      ]
     },
     "execution_count": 25,
     "metadata": {},
     "output_type": "execute_result"
    }
   ],
   "source": [
    "u2 = (np.sqrt(gamma * R * T1) * res_shock[\"md\"]).to(\"m / s\")\n",
    "u2"
   ]
  },
  {
   "cell_type": "markdown",
   "id": "2d9bc8a7-6fd0-4e2a-b3fb-6e6818d29a74",
   "metadata": {},
   "source": [
    "## P 3.5"
   ]
  },
  {
   "cell_type": "code",
   "execution_count": 26,
   "id": "e3d13964-8025-4c83-a519-0a3348d67a9b",
   "metadata": {},
   "outputs": [
    {
     "data": {
      "text/plain": [
       "np.float64(1.892929158737854)"
      ]
     },
     "execution_count": 26,
     "metadata": {},
     "output_type": "execute_result"
    }
   ],
   "source": [
    "from pygasflow.shockwave import rayleigh_pitot_formula, m1_from_rayleigh_pitot_pressure_ratio\n",
    "\n",
    "pr_sonic = rayleigh_pitot_formula(1, gamma)\n",
    "pr_sonic"
   ]
  },
  {
   "cell_type": "markdown",
   "id": "9bc885f5-7b12-44cf-9d24-30b785b24317",
   "metadata": {},
   "source": [
    "### (a)"
   ]
  },
  {
   "cell_type": "code",
   "execution_count": 27,
   "id": "2663a255-c855-445c-a7fb-cdf5fcb1803f",
   "metadata": {},
   "outputs": [],
   "source": [
    "p02 = 1.22e05 * Pa\n",
    "p1 = 1.01e05 * Pa"
   ]
  },
  {
   "cell_type": "code",
   "execution_count": 28,
   "id": "0645023d-fd85-441b-a496-75a4c6e54537",
   "metadata": {},
   "outputs": [
    {
     "data": {
      "text/html": [
       "1.2079207920792079"
      ],
      "text/latex": [
       "$1.2079207920792079$"
      ],
      "text/plain": [
       "<Quantity(1.20792079, 'dimensionless')>"
      ]
     },
     "execution_count": 28,
     "metadata": {},
     "output_type": "execute_result"
    }
   ],
   "source": [
    "pr = p02 / p1\n",
    "pr"
   ]
  },
  {
   "cell_type": "markdown",
   "id": "69e8ffb2-6f6d-42bd-a677-d50efbfe0779",
   "metadata": {},
   "source": [
    "Because pr < pr_sonic, the Mach number must be subsonic. Hence, isentropic relations:"
   ]
  },
  {
   "cell_type": "code",
   "execution_count": 29,
   "id": "08bc1784-2320-4893-b631-2a7cd0655441",
   "metadata": {},
   "outputs": [
    {
     "name": "stdout",
     "output_type": "stream",
     "text": [
      "key     quantity            \n",
      "----------------------------\n",
      "m       M                        0.52656721\n",
      "pr      P / P0                   0.82786885\n",
      "dr      rho / rho0               0.87377799\n",
      "tr      T / T0                   0.94745903\n",
      "prs     P / P*                   1.56709709\n",
      "drs     rho / rho*               1.37833320\n",
      "trs     T / T*                   1.13695084\n",
      "urs     U / U*                   0.56146754\n",
      "ars     A / A*                   1.29217439\n",
      "ma      Mach Angle [deg]                nan\n",
      "pm      Prandtl-Meyer [deg]             nan\n"
     ]
    }
   ],
   "source": [
    "res = isentropic_solver(\"pressure\", p1 / p02)\n",
    "res.show()"
   ]
  },
  {
   "cell_type": "code",
   "execution_count": 30,
   "id": "b3ea6c7e-b1b2-44fd-b602-09abff8807fb",
   "metadata": {},
   "outputs": [
    {
     "data": {
      "text/plain": [
       "np.float64(0.5265672087837046)"
      ]
     },
     "execution_count": 30,
     "metadata": {},
     "output_type": "execute_result"
    }
   ],
   "source": [
    "M1 = res[\"m\"]\n",
    "M1"
   ]
  },
  {
   "cell_type": "markdown",
   "id": "3f772a7a-8d94-4c99-b47b-252fbdbef0ed",
   "metadata": {},
   "source": [
    "### (b)"
   ]
  },
  {
   "cell_type": "code",
   "execution_count": 31,
   "id": "39e0b3d7-5d11-48e2-8681-9521c9cebf77",
   "metadata": {},
   "outputs": [],
   "source": [
    "p02 = 7222 * lb / ft**2\n",
    "p1 = 2116 * lb / ft**2"
   ]
  },
  {
   "cell_type": "code",
   "execution_count": 32,
   "id": "0bffaacf-ae28-4f43-848a-b5233a4c05bd",
   "metadata": {},
   "outputs": [
    {
     "data": {
      "text/html": [
       "3.4130434782608696"
      ],
      "text/latex": [
       "$3.4130434782608696$"
      ],
      "text/plain": [
       "<Quantity(3.41304348, 'dimensionless')>"
      ]
     },
     "execution_count": 32,
     "metadata": {},
     "output_type": "execute_result"
    }
   ],
   "source": [
    "pr = p02 / p1\n",
    "pr"
   ]
  },
  {
   "cell_type": "markdown",
   "id": "ec5417f1-2406-44d8-84ac-6d10164acfa4",
   "metadata": {},
   "source": [
    "Because pr > pr_sonic, there is a normal shock wave:"
   ]
  },
  {
   "cell_type": "code",
   "execution_count": 33,
   "id": "1a9ecf3f-fdaf-4571-af0e-886f178a8881",
   "metadata": {},
   "outputs": [
    {
     "data": {
      "text/plain": [
       "np.float64(1.4999388067617616)"
      ]
     },
     "execution_count": 33,
     "metadata": {},
     "output_type": "execute_result"
    }
   ],
   "source": [
    "M1 = m1_from_rayleigh_pitot_pressure_ratio(pr, gamma)\n",
    "M1"
   ]
  },
  {
   "cell_type": "markdown",
   "id": "4b2ba761-a659-412b-af7e-ea1d098b9177",
   "metadata": {},
   "source": [
    "### (c)"
   ]
  },
  {
   "cell_type": "code",
   "execution_count": 34,
   "id": "8e4dc2f8-e738-45c6-b630-05544ba28962",
   "metadata": {},
   "outputs": [],
   "source": [
    "p02 = 13107 * lb / ft**2\n",
    "p1 = 1020 * lb / ft**2"
   ]
  },
  {
   "cell_type": "code",
   "execution_count": 35,
   "id": "020e4296-d880-48f8-bc5a-e8e7cb589236",
   "metadata": {},
   "outputs": [
    {
     "data": {
      "text/html": [
       "12.85"
      ],
      "text/latex": [
       "$12.85$"
      ],
      "text/plain": [
       "<Quantity(12.85, 'dimensionless')>"
      ]
     },
     "execution_count": 35,
     "metadata": {},
     "output_type": "execute_result"
    }
   ],
   "source": [
    "pr = p02 / p1\n",
    "pr"
   ]
  },
  {
   "cell_type": "markdown",
   "id": "35721d3b-d4b7-4642-b2a9-eb3cf0509c2c",
   "metadata": {},
   "source": [
    "Because pr > pr_sonic, there is a normal shock wave:"
   ]
  },
  {
   "cell_type": "code",
   "execution_count": 36,
   "id": "07804195-5525-4599-a3cd-1137b24d403c",
   "metadata": {},
   "outputs": [
    {
     "data": {
      "text/plain": [
       "np.float64(3.1005608737676624)"
      ]
     },
     "execution_count": 36,
     "metadata": {},
     "output_type": "execute_result"
    }
   ],
   "source": [
    "M1 = m1_from_rayleigh_pitot_pressure_ratio(pr, gamma)\n",
    "M1"
   ]
  },
  {
   "cell_type": "markdown",
   "id": "84b12a51-92d6-4697-a211-1f9dfe63afe4",
   "metadata": {},
   "source": [
    "## P 3.6"
   ]
  },
  {
   "cell_type": "code",
   "execution_count": 37,
   "id": "0da8c4aa-b1dd-4bef-99c2-3c4b9f1be008",
   "metadata": {},
   "outputs": [
    {
     "name": "stderr",
     "output_type": "stream",
     "text": [
      "/home/davide/Documents/Development/envs/pygas/lib/python3.12/site-packages/matplotlib/cbook.py:1355: UnitStrippedWarning: The unit of the quantity is stripped when downcasting to ndarray.\n",
      "  return np.asarray(x, float)\n"
     ]
    },
    {
     "data": {
      "image/png": "[encoded data removed]",
      "text/plain": [
       "<Figure size 640x480 with 1 Axes>"
      ]
     },
     "metadata": {},
     "output_type": "display_data"
    }
   ],
   "source": [
    "import matplotlib.pyplot as plt\n",
    "import numpy as np\n",
    "from pygasflow import shock_compression, isentropic_compression\n",
    "import pint\n",
    "\n",
    "ureg = pint.UnitRegistry()\n",
    "\n",
    "p1 = 1 * atm\n",
    "v1 = 1 * m**3\n",
    "v2 = 0.3 * m**3\n",
    "\n",
    "rho1 = 1 / v1\n",
    "rho2 = 1 / v2\n",
    "\n",
    "dr = np.linspace(rho1, rho2) / rho1\n",
    "pr_ise, dr_ise, tr_ise = isentropic_compression(dr=dr, gamma=1.4, to_dict=False)\n",
    "pr_shock, dr_shock = shock_compression(dr=dr, gamma=1.4, to_dict=False)\n",
    "\n",
    "fig, ax = plt.subplots()\n",
    "ax.plot(1 / (dr_ise * rho1), pr_ise * p1, label=\"isentropic\")\n",
    "ax.plot(1 / (dr_shock * rho1), pr_shock * p1, \":\", label=\"normal shock\")\n",
    "ax.legend()\n",
    "ax.set_xlabel(\"v  [$m^{3}/kg$]\")\n",
    "ax.set_ylabel(\"Pressure [atm]\")\n",
    "plt.show()"
   ]
  },
  {
   "cell_type": "markdown",
   "id": "24a9b9bb-82ca-48c8-a16f-1336e800eaa8",
   "metadata": {},
   "source": [
    "For a specified change in specific volume, the shock compression is stronger than the isentropic one. However, shock compression is less efficient due to the total pressure loss across the shock wave."
   ]
  },
  {
   "cell_type": "markdown",
   "id": "fcb7beef-23f2-44b7-97a8-579f28e40397",
   "metadata": {},
   "source": [
    "## P 3.7"
   ]
  },
  {
   "cell_type": "code",
   "execution_count": 38,
   "id": "bc83c23f-73ed-4d23-ac3c-fb7ffd997850",
   "metadata": {},
   "outputs": [],
   "source": [
    "M = 38\n",
    "T = 270 * K\n",
    "gamma = 1.4"
   ]
  },
  {
   "cell_type": "code",
   "execution_count": 39,
   "id": "ec8543e6-4307-444a-88ab-6a447767ee70",
   "metadata": {},
   "outputs": [
    {
     "name": "stdout",
     "output_type": "stream",
     "text": [
      "key     quantity            \n",
      "----------------------------\n",
      "m       M                       38.00000000\n",
      "pr      P / P0                   0.00000000\n",
      "dr      rho / rho0               0.00000070\n",
      "tr      T / T0                   0.00345066\n",
      "prs     P / P*                   0.00000000\n",
      "drs     rho / rho*               0.00000110\n",
      "trs     T / T*                   0.00414079\n",
      "urs     U / U*                   2.44525992\n",
      "ars     A / A*              370653.24671053\n",
      "ma      Mach Angle               1.50795775\n",
      "pm      Prandtl-Meyer          122.92471032\n"
     ]
    }
   ],
   "source": [
    "res = isentropic_solver(\"m\", M, gamma)\n",
    "res.show()"
   ]
  },
  {
   "cell_type": "code",
   "execution_count": 40,
   "id": "c52919a8-24b4-4734-8e1a-443cff22839c",
   "metadata": {},
   "outputs": [
    {
     "data": {
      "text/html": [
       "78245.99999999999 K"
      ],
      "text/latex": [
       "$78245.99999999999\\ \\mathrm{K}$"
      ],
      "text/plain": [
       "<Quantity(78246.0, 'kelvin')>"
      ]
     },
     "execution_count": 40,
     "metadata": {},
     "output_type": "execute_result"
    }
   ],
   "source": [
    "T0 = 1 / res[\"tr\"] * T\n",
    "T0"
   ]
  },
  {
   "cell_type": "markdown",
   "id": "3a5822f0-d9f8-4975-8226-5a9eeff12eed",
   "metadata": {},
   "source": [
    "## P 3.8"
   ]
  },
  {
   "cell_type": "code",
   "execution_count": 41,
   "id": "6e1af934-f4ea-4d2a-9b86-a3eb994f99c1",
   "metadata": {},
   "outputs": [
    {
     "data": {
      "text/html": [
       "1004.6750000000002 J/(K kg)"
      ],
      "text/latex": [
       "$1004.6750000000002\\ \\frac{\\mathrm{J}}{\\left(\\mathrm{K} \\cdot \\mathrm{kg}\\right)}$"
      ],
      "text/plain": [
       "<Quantity(1004.675, 'joule / kilogram / kelvin')>"
      ]
     },
     "execution_count": 41,
     "metadata": {},
     "output_type": "execute_result"
    }
   ],
   "source": [
    "from pygasflow.rayleigh import specific_heat\n",
    "\n",
    "p1 = 1 * atm\n",
    "T1 = 288 * K\n",
    "gas = gas_solver(\"gamma\", 1.4, \"R\", R)\n",
    "Cp = gas[\"Cp\"]\n",
    "Cp"
   ]
  },
  {
   "cell_type": "markdown",
   "id": "a481840a-a06b-43a0-8b83-a2f60617fa08",
   "metadata": {},
   "source": [
    "### (a)"
   ]
  },
  {
   "cell_type": "code",
   "execution_count": 42,
   "id": "69ea3fc9-9ef8-46ec-8524-cb0509000f08",
   "metadata": {},
   "outputs": [],
   "source": [
    "M1 = 2"
   ]
  },
  {
   "cell_type": "code",
   "execution_count": 43,
   "id": "7331f143-6e81-400b-98b6-cc354b933f53",
   "metadata": {},
   "outputs": [
    {
     "name": "stdout",
     "output_type": "stream",
     "text": [
      "key     quantity            \n",
      "----------------------------\n",
      "m       M                        2.00000000\n",
      "pr      P / P0                   0.12780453\n",
      "dr      rho / rho0               0.23004815\n",
      "tr      T / T0                   0.55555556\n",
      "prs     P / P*                   0.24192491\n",
      "drs     rho / rho*               0.36288737\n",
      "trs     T / T*                   0.66666667\n",
      "urs     U / U*                   1.63299316\n",
      "ars     A / A*                   1.68750000\n",
      "ma      Mach Angle              30.00000000\n",
      "pm      Prandtl-Meyer           26.37976081\n"
     ]
    }
   ],
   "source": [
    "res_ise = isentropic_solver(\"m\", M1)\n",
    "res_ise.show()"
   ]
  },
  {
   "cell_type": "code",
   "execution_count": 44,
   "id": "6b25c8aa-c3cf-4730-b214-bed7a3008c41",
   "metadata": {},
   "outputs": [
    {
     "data": {
      "text/html": [
       "518.4 K"
      ],
      "text/latex": [
       "$518.4\\ \\mathrm{K}$"
      ],
      "text/plain": [
       "<Quantity(518.4, 'kelvin')>"
      ]
     },
     "execution_count": 44,
     "metadata": {},
     "output_type": "execute_result"
    }
   ],
   "source": [
    "T0 = (1 / res_ise[\"tr\"]) * T1\n",
    "T0"
   ]
  },
  {
   "cell_type": "code",
   "execution_count": 45,
   "id": "c98bdfda-04fb-4bd0-855f-045ef8a644cc",
   "metadata": {},
   "outputs": [
    {
     "name": "stdout",
     "output_type": "stream",
     "text": [
      "key     quantity     \n",
      "---------------------\n",
      "m       M                 2.00000000\n",
      "prs     P / P*            0.36363636\n",
      "drs     rho / rho*        0.68750000\n",
      "trs     T / T*            0.52892562\n",
      "tprs    P0 / P0*          1.50309598\n",
      "ttrs    T0 / T0*          0.79338843\n",
      "urs     U / U*            1.45454545\n",
      "eps     (s*-s) / R        1.21757521\n"
     ]
    }
   ],
   "source": [
    "res = rayleigh_solver(\"m\", M1)\n",
    "res.show()"
   ]
  },
  {
   "cell_type": "code",
   "execution_count": 46,
   "id": "0367f134-5af0-442a-8cf5-405e57158b43",
   "metadata": {},
   "outputs": [
    {
     "data": {
      "text/html": [
       "653.4 K"
      ],
      "text/latex": [
       "$653.4\\ \\mathrm{K}$"
      ],
      "text/plain": [
       "<Quantity(653.4, 'kelvin')>"
      ]
     },
     "execution_count": 46,
     "metadata": {},
     "output_type": "execute_result"
    }
   ],
   "source": [
    "T0s = (1 / res[\"ttrs\"]) * T0\n",
    "T0s"
   ]
  },
  {
   "cell_type": "code",
   "execution_count": 47,
   "id": "8c2549d8-fca1-41aa-9153-5585341b3a2c",
   "metadata": {},
   "outputs": [
    {
     "data": {
      "text/html": [
       "1004.6750000000002 J/(K kg)"
      ],
      "text/latex": [
       "$1004.6750000000002\\ \\frac{\\mathrm{J}}{\\left(\\mathrm{K} \\cdot \\mathrm{kg}\\right)}$"
      ],
      "text/plain": [
       "<Quantity(1004.675, 'joule / kilogram / kelvin')>"
      ]
     },
     "execution_count": 47,
     "metadata": {},
     "output_type": "execute_result"
    }
   ],
   "source": [
    "Cp"
   ]
  },
  {
   "cell_type": "code",
   "execution_count": 48,
   "id": "26ca5a59-37c1-455d-af89-6d8e3222ea5c",
   "metadata": {},
   "outputs": [
    {
     "data": {
      "text/html": [
       "653.4 K"
      ],
      "text/latex": [
       "$653.4\\ \\mathrm{K}$"
      ],
      "text/plain": [
       "<Quantity(653.4, 'kelvin')>"
      ]
     },
     "execution_count": 48,
     "metadata": {},
     "output_type": "execute_result"
    }
   ],
   "source": [
    "T0s"
   ]
  },
  {
   "cell_type": "code",
   "execution_count": 49,
   "id": "e916a0bd-14f4-4ccf-aa27-aeae0aa38ed6",
   "metadata": {},
   "outputs": [
    {
     "data": {
      "text/html": [
       "135631.12500000003 J/kg"
      ],
      "text/latex": [
       "$135631.12500000003\\ \\frac{\\mathrm{J}}{\\mathrm{kg}}$"
      ],
      "text/plain": [
       "<Quantity(135631.125, 'joule / kilogram')>"
      ]
     },
     "execution_count": 49,
     "metadata": {},
     "output_type": "execute_result"
    }
   ],
   "source": [
    "q = specific_heat(Cp, T0, T0s)\n",
    "q"
   ]
  },
  {
   "cell_type": "markdown",
   "id": "bc8c2b91-215c-4236-aa4b-6e815aaa092f",
   "metadata": {},
   "source": [
    "### (b)"
   ]
  },
  {
   "cell_type": "code",
   "execution_count": 50,
   "id": "2bec8fb1-1a54-46bb-b372-c4f054d2dd1e",
   "metadata": {},
   "outputs": [],
   "source": [
    "M1 = 0.2"
   ]
  },
  {
   "cell_type": "code",
   "execution_count": 51,
   "id": "4faeae04-d483-4ab2-a0db-2af17af43bf0",
   "metadata": {},
   "outputs": [
    {
     "data": {
      "text/html": [
       "290.304 K"
      ],
      "text/latex": [
       "$290.304\\ \\mathrm{K}$"
      ],
      "text/plain": [
       "<Quantity(290.304, 'kelvin')>"
      ]
     },
     "execution_count": 51,
     "metadata": {},
     "output_type": "execute_result"
    }
   ],
   "source": [
    "res_ise = isentropic_solver(\"m\", M1)\n",
    "T0 = (1 / res_ise[\"tr\"]) * T1\n",
    "T0"
   ]
  },
  {
   "cell_type": "code",
   "execution_count": 52,
   "id": "86875b94-30ef-4025-9dd3-81bb72793aac",
   "metadata": {},
   "outputs": [
    {
     "data": {
      "text/html": [
       "1672.7039999999995 K"
      ],
      "text/latex": [
       "$1672.7039999999995\\ \\mathrm{K}$"
      ],
      "text/plain": [
       "<Quantity(1672.704, 'kelvin')>"
      ]
     },
     "execution_count": 52,
     "metadata": {},
     "output_type": "execute_result"
    }
   ],
   "source": [
    "res = rayleigh_solver(\"m\", M1)\n",
    "T0s = (1 / res[\"ttrs\"]) * T0\n",
    "T0s"
   ]
  },
  {
   "cell_type": "code",
   "execution_count": 53,
   "id": "22c2b8fa-d239-455b-8735-9511faf61a73",
   "metadata": {},
   "outputs": [
    {
     "data": {
      "text/html": [
       "1388862.72 J/kg"
      ],
      "text/latex": [
       "$1388862.72\\ \\frac{\\mathrm{J}}{\\mathrm{kg}}$"
      ],
      "text/plain": [
       "<Quantity(1388862.72, 'joule / kilogram')>"
      ]
     },
     "execution_count": 53,
     "metadata": {},
     "output_type": "execute_result"
    }
   ],
   "source": [
    "q = specific_heat(Cp, T0, T0s)\n",
    "q"
   ]
  },
  {
   "cell_type": "markdown",
   "id": "d1015ca1-7853-423d-95ae-d69962936954",
   "metadata": {},
   "source": [
    "## P 3.9"
   ]
  },
  {
   "cell_type": "code",
   "execution_count": 54,
   "id": "8998f5e5-c9d5-4f9a-a92a-9e87447a1dad",
   "metadata": {},
   "outputs": [],
   "source": [
    "p1 = 10 * atm\n",
    "T1 = 1000 * degR\n",
    "M1 = 0.2\n",
    "q_fuel = 4.5e08 * ft_lb / slug\n",
    "f_a = 0.06"
   ]
  },
  {
   "cell_type": "code",
   "execution_count": 55,
   "id": "40c1d420-6e0c-4e82-8d09-0d44c0194ef7",
   "metadata": {},
   "outputs": [
    {
     "name": "stdout",
     "output_type": "stream",
     "text": [
      "key     quantity            \n",
      "----------------------------\n",
      "m       M                        0.20000000\n",
      "pr      P / P0                   0.97249670\n",
      "dr      rho / rho0               0.98027668\n",
      "tr      T / T0                   0.99206349\n",
      "prs     P / P*                   1.84086737\n",
      "drs     rho / rho*               1.54632859\n",
      "trs     T / T*                   1.19047619\n",
      "urs     U / U*                   0.21821789\n",
      "ars     A / A*                   2.96352000\n",
      "ma      Mach Angle                      nan\n",
      "pm      Prandtl-Meyer                   nan\n"
     ]
    }
   ],
   "source": [
    "res_ise = isentropic_solver(\"m\", M1, gamma)\n",
    "res_ise.show()"
   ]
  },
  {
   "cell_type": "code",
   "execution_count": 56,
   "id": "c9314825-3b3c-4dfd-9467-2a437edef531",
   "metadata": {},
   "outputs": [
    {
     "data": {
      "text/html": [
       "1008.0 °R"
      ],
      "text/latex": [
       "$1008.0\\ \\mathrm{°R}$"
      ],
      "text/plain": [
       "<Quantity(1008.0, 'degree_Rankine')>"
      ]
     },
     "execution_count": 56,
     "metadata": {},
     "output_type": "execute_result"
    }
   ],
   "source": [
    "T01 = (1 / res_ise[\"tr\"]) * T1\n",
    "T01"
   ]
  },
  {
   "cell_type": "code",
   "execution_count": 57,
   "id": "0ce15207-ed20-4051-b96b-c915f05cda72",
   "metadata": {},
   "outputs": [
    {
     "name": "stdout",
     "output_type": "stream",
     "text": [
      "key     quantity     \n",
      "---------------------\n",
      "m       M                 0.20000000\n",
      "prs     P / P*            2.27272727\n",
      "drs     rho / rho*       11.00000000\n",
      "trs     T / T*            0.20661157\n",
      "tprs    P0 / P0*          1.23459588\n",
      "ttrs    T0 / T0*          0.17355372\n",
      "urs     U / U*            0.09090909\n",
      "eps     (s*-s) / R        6.34018207\n"
     ]
    }
   ],
   "source": [
    "res_ray = rayleigh_solver(\"m\", M1, gamma)\n",
    "res_ray.show()"
   ]
  },
  {
   "cell_type": "code",
   "execution_count": 58,
   "id": "db5898c2-b602-4598-b32c-d3dd0579356f",
   "metadata": {},
   "outputs": [
    {
     "data": {
      "text/html": [
       "4839.999999999999 °R"
      ],
      "text/latex": [
       "$4839.999999999999\\ \\mathrm{°R}$"
      ],
      "text/plain": [
       "<Quantity(4840.0, 'degree_Rankine')>"
      ]
     },
     "execution_count": 58,
     "metadata": {},
     "output_type": "execute_result"
    }
   ],
   "source": [
    "T1s = (1 / res_ray[\"trs\"]) * T1\n",
    "T1s"
   ]
  },
  {
   "cell_type": "code",
   "execution_count": 59,
   "id": "de13916f-a70d-4c93-bfff-f9b899bd7388",
   "metadata": {},
   "outputs": [
    {
     "data": {
      "text/html": [
       "4.4 atm"
      ],
      "text/latex": [
       "$4.4\\ \\mathrm{atm}$"
      ],
      "text/plain": [
       "<Quantity(4.4, 'standard_atmosphere')>"
      ]
     },
     "execution_count": 59,
     "metadata": {},
     "output_type": "execute_result"
    }
   ],
   "source": [
    "p1s = (1 / res_ray[\"prs\"]) * p1\n",
    "p1s"
   ]
  },
  {
   "cell_type": "code",
   "execution_count": 60,
   "id": "93c36ad4-9b52-4c5c-af9f-7c84300ee08a",
   "metadata": {},
   "outputs": [
    {
     "data": {
      "text/html": [
       "5807.999999999999 °R"
      ],
      "text/latex": [
       "$5807.999999999999\\ \\mathrm{°R}$"
      ],
      "text/plain": [
       "<Quantity(5808.0, 'degree_Rankine')>"
      ]
     },
     "execution_count": 60,
     "metadata": {},
     "output_type": "execute_result"
    }
   ],
   "source": [
    "T01s = (1 / res_ray[\"ttrs\"]) * T01\n",
    "T01s"
   ]
  },
  {
   "cell_type": "code",
   "execution_count": 61,
   "id": "837d8d13-20c1-4fa4-b298-de68286793a5",
   "metadata": {},
   "outputs": [
    {
     "data": {
      "text/html": [
       "1004.6750000000002 J/(K kg)"
      ],
      "text/latex": [
       "$1004.6750000000002\\ \\frac{\\mathrm{J}}{\\left(\\mathrm{K} \\cdot \\mathrm{kg}\\right)}$"
      ],
      "text/plain": [
       "<Quantity(1004.675, 'joule / kilogram / kelvin')>"
      ]
     },
     "execution_count": 61,
     "metadata": {},
     "output_type": "execute_result"
    }
   ],
   "source": [
    "gas = gas_solver(\"gamma\", gamma, \"R\", R)\n",
    "Cp = gas[\"Cp\"]\n",
    "Cp"
   ]
  },
  {
   "cell_type": "code",
   "execution_count": 62,
   "id": "2e2ab58c-4ef9-466b-851e-96ae6f053d84",
   "metadata": {},
   "outputs": [
    {
     "data": {
      "text/plain": [
       "{a: 0.943396226415094, f: 0.0566037735849057}"
      ]
     },
     "execution_count": 62,
     "metadata": {},
     "output_type": "execute_result"
    }
   ],
   "source": [
    "from sympy import symbols, solve, Eq\n",
    "a, f = symbols(\"a, f\", positive=True)\n",
    "e1 = Eq(f / a, f_a)\n",
    "e2 = Eq(1, f + a)\n",
    "sol = solve([e1, e2], [f, a])\n",
    "sol"
   ]
  },
  {
   "cell_type": "code",
   "execution_count": 63,
   "id": "f6ab2088-734f-47fd-aec6-80c54fcb54dc",
   "metadata": {},
   "outputs": [
    {
     "name": "stdout",
     "output_type": "stream",
     "text": [
      "Air mass flow rate: 94.33962264150944 slug / s\n",
      "Fuel mass flow rate: 5.660377358490567 slug / s\n"
     ]
    }
   ],
   "source": [
    "mdot = 100 * (slug / sec)\n",
    "mdot_air = mdot * float(sol[a])\n",
    "mdot_fuel = mdot * float(sol[f])\n",
    "print(\"Air mass flow rate:\", mdot_air)\n",
    "print(\"Fuel mass flow rate:\", mdot_fuel)"
   ]
  },
  {
   "cell_type": "code",
   "execution_count": 64,
   "id": "b3937041-123d-4500-ac5e-77530b92ddcc",
   "metadata": {},
   "outputs": [
    {
     "data": {
      "text/html": [
       "2547169811.320755 ft_lb/s"
      ],
      "text/latex": [
       "$2547169811.320755\\ \\frac{\\mathrm{ft\\_lb}}{\\mathrm{s}}$"
      ],
      "text/plain": [
       "<Quantity(2.54716981e+09, 'foot_pound / second')>"
      ]
     },
     "execution_count": 64,
     "metadata": {},
     "output_type": "execute_result"
    }
   ],
   "source": [
    "qdot = q_fuel * mdot_fuel\n",
    "qdot"
   ]
  },
  {
   "cell_type": "code",
   "execution_count": 65,
   "id": "3f89beee-3132-4562-9a3d-091e5fa2f65b",
   "metadata": {},
   "outputs": [
    {
     "data": {
      "text/html": [
       "25471698.11320755 ft_lb/slug"
      ],
      "text/latex": [
       "$25471698.11320755\\ \\frac{\\mathrm{ft\\_lb}}{\\mathrm{slug}}$"
      ],
      "text/plain": [
       "<Quantity(25471698.1, 'foot_pound / slug')>"
      ]
     },
     "execution_count": 65,
     "metadata": {},
     "output_type": "execute_result"
    }
   ],
   "source": [
    "q = qdot / mdot\n",
    "q"
   ]
  },
  {
   "cell_type": "code",
   "execution_count": 66,
   "id": "61ad8241-c7a8-4eda-bf29-feac514e18bd",
   "metadata": {},
   "outputs": [
    {
     "data": {
      "text/html": [
       "5247.6961600742925 °R"
      ],
      "text/latex": [
       "$5247.6961600742925\\ \\mathrm{°R}$"
      ],
      "text/plain": [
       "<Quantity(5247.69616, 'degree_Rankine')>"
      ]
     },
     "execution_count": 66,
     "metadata": {},
     "output_type": "execute_result"
    }
   ],
   "source": [
    "T02 = (q / Cp + T01).to(\"rankine\")\n",
    "T02"
   ]
  },
  {
   "cell_type": "code",
   "execution_count": 67,
   "id": "86d7c404-4556-400b-97b3-937a36b0f5ba",
   "metadata": {},
   "outputs": [
    {
     "name": "stdout",
     "output_type": "stream",
     "text": [
      "key     quantity     \n",
      "---------------------\n",
      "m       M                 1.52281760\n",
      "prs     P / P*            0.56516296\n",
      "drs     rho / rho*        0.76301054\n",
      "trs     T / T*            0.74070138\n",
      "tprs    P0 / P0*          1.13297391\n",
      "ttrs    T0 / T0*          0.90352895\n",
      "urs     U / U*            1.31059789\n",
      "eps     (s*-s) / R        0.47991089\n"
     ]
    }
   ],
   "source": [
    "res_ray_2 = rayleigh_solver(\"total_temperature_super\", T02 / T01s, gamma)\n",
    "res_ray_2.show()"
   ]
  },
  {
   "cell_type": "code",
   "execution_count": 68,
   "id": "42b803de-89df-462e-801b-2b9dd7966fd1",
   "metadata": {},
   "outputs": [
    {
     "data": {
      "text/html": [
       "2.48671702192768 atm"
      ],
      "text/latex": [
       "$2.48671702192768\\ \\mathrm{atm}$"
      ],
      "text/plain": [
       "<Quantity(2.48671702, 'standard_atmosphere')>"
      ]
     },
     "execution_count": 68,
     "metadata": {},
     "output_type": "execute_result"
    }
   ],
   "source": [
    "P2 = res_ray_2[\"prs\"] * p1s\n",
    "P2"
   ]
  },
  {
   "cell_type": "code",
   "execution_count": 69,
   "id": "02f20be5-650f-45c7-b0e1-b3373cef6c8e",
   "metadata": {},
   "outputs": [
    {
     "data": {
      "text/html": [
       "3584.9946793591835 °R"
      ],
      "text/latex": [
       "$3584.9946793591835\\ \\mathrm{°R}$"
      ],
      "text/plain": [
       "<Quantity(3584.99468, 'degree_Rankine')>"
      ]
     },
     "execution_count": 69,
     "metadata": {},
     "output_type": "execute_result"
    }
   ],
   "source": [
    "T2 = res_ray_2[\"trs\"] * T1s\n",
    "T2"
   ]
  },
  {
   "cell_type": "markdown",
   "id": "b6f6e3d1-4efe-4fb3-b437-fceaf1cba4bd",
   "metadata": {},
   "source": [
    "## P 3.10"
   ]
  },
  {
   "cell_type": "code",
   "execution_count": 70,
   "id": "f74e21f2-40fe-47b4-ab1a-3da70a4df243",
   "metadata": {},
   "outputs": [
    {
     "name": "stdout",
     "output_type": "stream",
     "text": [
      "key     quantity     \n",
      "---------------------\n",
      "m       M                 1.00000000\n",
      "prs     P / P*            1.00000000\n",
      "drs     rho / rho*        1.00000000\n",
      "trs     T / T*            1.00000000\n",
      "tprs    P0 / P0*          1.00000000\n",
      "ttrs    T0 / T0*          1.00000000\n",
      "urs     U / U*            1.00000000\n",
      "eps     (s*-s) / R       -0.00000000\n"
     ]
    }
   ],
   "source": [
    "rayleigh_solver(\"m\", 1).show()"
   ]
  },
  {
   "cell_type": "code",
   "execution_count": 71,
   "id": "ca15a288-0a2a-4e10-9849-2d875e510254",
   "metadata": {},
   "outputs": [
    {
     "data": {
      "text/html": [
       "5807.999999999999 °R"
      ],
      "text/latex": [
       "$5807.999999999999\\ \\mathrm{°R}$"
      ],
      "text/plain": [
       "<Quantity(5808.0, 'degree_Rankine')>"
      ]
     },
     "execution_count": 71,
     "metadata": {},
     "output_type": "execute_result"
    }
   ],
   "source": [
    "T02s = T01s\n",
    "T02s"
   ]
  },
  {
   "cell_type": "code",
   "execution_count": 72,
   "id": "06b1cfc8-5873-47b3-aa09-473c99a314e4",
   "metadata": {},
   "outputs": [
    {
     "data": {
      "text/html": [
       "5807.999999999999 °R"
      ],
      "text/latex": [
       "$5807.999999999999\\ \\mathrm{°R}$"
      ],
      "text/plain": [
       "<Quantity(5808.0, 'degree_Rankine')>"
      ]
     },
     "execution_count": 72,
     "metadata": {},
     "output_type": "execute_result"
    }
   ],
   "source": [
    "T02 = T02s\n",
    "T02"
   ]
  },
  {
   "cell_type": "code",
   "execution_count": 73,
   "id": "bbe51f89-1b6f-425a-b8db-40fc0182040f",
   "metadata": {},
   "outputs": [
    {
     "data": {
      "text/html": [
       "28837951.19442091 ft_lb/slug"
      ],
      "text/latex": [
       "$28837951.19442091\\ \\frac{\\mathrm{ft\\_lb}}{\\mathrm{slug}}$"
      ],
      "text/plain": [
       "<Quantity(28837951.2, 'foot_pound / slug')>"
      ]
     },
     "execution_count": 73,
     "metadata": {},
     "output_type": "execute_result"
    }
   ],
   "source": [
    "q = Cp * (T02 - T01)\n",
    "q = q.to(\"footpound / slug\")\n",
    "q"
   ]
  },
  {
   "cell_type": "code",
   "execution_count": 74,
   "id": "0c2ff25a-3767-49f3-9f5b-32880710f482",
   "metadata": {},
   "outputs": [
    {
     "data": {
      "text/html": [
       "2883795119.442091 ft_lb/s"
      ],
      "text/latex": [
       "$2883795119.442091\\ \\frac{\\mathrm{ft\\_lb}}{\\mathrm{s}}$"
      ],
      "text/plain": [
       "<Quantity(2.88379512e+09, 'foot_pound / second')>"
      ]
     },
     "execution_count": 74,
     "metadata": {},
     "output_type": "execute_result"
    }
   ],
   "source": [
    "qdot = mdot * q\n",
    "qdot"
   ]
  },
  {
   "cell_type": "code",
   "execution_count": 75,
   "id": "cdd97d7a-a8f4-4715-ae53-eec1d87200a0",
   "metadata": {},
   "outputs": [
    {
     "data": {
      "text/html": [
       "6.408433598760202 slug/s"
      ],
      "text/latex": [
       "$6.408433598760202\\ \\frac{\\mathrm{slug}}{\\mathrm{s}}$"
      ],
      "text/plain": [
       "<Quantity(6.4084336, 'slug / second')>"
      ]
     },
     "execution_count": 75,
     "metadata": {},
     "output_type": "execute_result"
    }
   ],
   "source": [
    "mdot_fuel = qdot / q_fuel\n",
    "mdot_fuel"
   ]
  },
  {
   "cell_type": "code",
   "execution_count": 76,
   "id": "75328b04-1e78-4d55-9272-ffdfb984ee62",
   "metadata": {},
   "outputs": [
    {
     "data": {
      "text/html": [
       "93.5915664012398 slug/s"
      ],
      "text/latex": [
       "$93.5915664012398\\ \\frac{\\mathrm{slug}}{\\mathrm{s}}$"
      ],
      "text/plain": [
       "<Quantity(93.5915664, 'slug / second')>"
      ]
     },
     "execution_count": 76,
     "metadata": {},
     "output_type": "execute_result"
    }
   ],
   "source": [
    "mdot_air = mdot - mdot_fuel\n",
    "mdot_air"
   ]
  },
  {
   "cell_type": "code",
   "execution_count": 77,
   "id": "9f112942-55da-40fd-b7be-1748b1a69c1a",
   "metadata": {},
   "outputs": [
    {
     "data": {
      "text/html": [
       "0.06847234045946377"
      ],
      "text/latex": [
       "$0.06847234045946377$"
      ],
      "text/plain": [
       "<Quantity(0.0684723405, 'dimensionless')>"
      ]
     },
     "execution_count": 77,
     "metadata": {},
     "output_type": "execute_result"
    }
   ],
   "source": [
    "new_f_a = mdot_fuel / mdot_air\n",
    "new_f_a"
   ]
  },
  {
   "cell_type": "markdown",
   "id": "3ca15d12-434a-4bf1-8825-d8f9ec3a6ec3",
   "metadata": {},
   "source": [
    "## P 3.11"
   ]
  },
  {
   "cell_type": "code",
   "execution_count": 78,
   "id": "2727f184-a3db-4206-beaf-7d211d1a23d4",
   "metadata": {},
   "outputs": [],
   "source": [
    "f_a = 0.03\n",
    "T2 = 4800 * degR\n",
    "gamma = 1.4\n",
    "q_fuel = 4.5e08 * ft_lb / slug"
   ]
  },
  {
   "cell_type": "code",
   "execution_count": 79,
   "id": "df8ed034-367b-4659-bb88-62ed5b3bfdf0",
   "metadata": {},
   "outputs": [
    {
     "data": {
      "text/plain": [
       "{a: 0.970873786407767, f: 0.0291262135922330}"
      ]
     },
     "execution_count": 79,
     "metadata": {},
     "output_type": "execute_result"
    }
   ],
   "source": [
    "from sympy import symbols, solve, Eq\n",
    "a, f = symbols(\"a, f\", positive=True)\n",
    "e1 = Eq(f / a, f_a)\n",
    "e2 = Eq(1, f + a)\n",
    "sol = solve([e1, e2], [f, a])\n",
    "sol"
   ]
  },
  {
   "cell_type": "code",
   "execution_count": 80,
   "id": "b6c91bda-f681-42c0-96b2-ab99f6974466",
   "metadata": {},
   "outputs": [
    {
     "name": "stdout",
     "output_type": "stream",
     "text": [
      "Air mass flow rate: 97.0873786407767 slug / s\n",
      "Fuel mass flow rate: 2.912621359223301 slug / s\n"
     ]
    }
   ],
   "source": [
    "mdot = 100 * (slug / sec)\n",
    "mdot_air = mdot * float(sol[a])\n",
    "mdot_fuel = mdot * float(sol[f])\n",
    "print(\"Air mass flow rate:\", mdot_air)\n",
    "print(\"Fuel mass flow rate:\", mdot_fuel)"
   ]
  },
  {
   "cell_type": "code",
   "execution_count": 81,
   "id": "c1aa1d6d-9e7d-4de2-be9e-b4206d962e4a",
   "metadata": {},
   "outputs": [
    {
     "data": {
      "text/html": [
       "1310679611.6504855 ft_lb/s"
      ],
      "text/latex": [
       "$1310679611.6504855\\ \\frac{\\mathrm{ft\\_lb}}{\\mathrm{s}}$"
      ],
      "text/plain": [
       "<Quantity(1.31067961e+09, 'foot_pound / second')>"
      ]
     },
     "execution_count": 81,
     "metadata": {},
     "output_type": "execute_result"
    }
   ],
   "source": [
    "qdot = q_fuel * mdot_fuel\n",
    "qdot"
   ]
  },
  {
   "cell_type": "code",
   "execution_count": 82,
   "id": "324d270b-6752-42d3-81ca-f60e44324380",
   "metadata": {},
   "outputs": [
    {
     "data": {
      "text/html": [
       "186.7314425258093 ft lbf/(°R lbm)"
      ],
      "text/latex": [
       "$186.7314425258093\\ \\frac{\\mathrm{ft} \\cdot \\mathrm{lbf}}{\\left(\\mathrm{°R} \\cdot \\mathrm{lbm}\\right)}$"
      ],
      "text/plain": [
       "<Quantity(186.731443, 'foot * force_pound / pound_mass / degree_Rankine')>"
      ]
     },
     "execution_count": 82,
     "metadata": {},
     "output_type": "execute_result"
    }
   ],
   "source": [
    "gas = gas_solver(\"gamma\", gamma, \"R\", R)\n",
    "Cp = gas[\"Cp\"]\n",
    "Cp = Cp.to(\"foot * force_pound / (lbm * degR)\")\n",
    "Cp"
   ]
  },
  {
   "cell_type": "code",
   "execution_count": 83,
   "id": "f10b5a49-dd9e-4a79-ba30-438ccf9773f6",
   "metadata": {},
   "outputs": [
    {
     "data": {
      "text/html": [
       "2181.591227999394 °R"
      ],
      "text/latex": [
       "$2181.591227999394\\ \\mathrm{°R}$"
      ],
      "text/plain": [
       "<Quantity(2181.59123, 'degree_Rankine')>"
      ]
     },
     "execution_count": 83,
     "metadata": {},
     "output_type": "execute_result"
    }
   ],
   "source": [
    "Delta_T0 = (qdot / mdot / Cp).to(\"degR\")\n",
    "Delta_T0"
   ]
  },
  {
   "cell_type": "code",
   "execution_count": 84,
   "id": "3ce917d5-1370-48bd-ade2-3271f36f4bb4",
   "metadata": {},
   "outputs": [
    {
     "name": "stdout",
     "output_type": "stream",
     "text": [
      "key     quantity            \n",
      "----------------------------\n",
      "m       M                        1.00000000\n",
      "pr      P / P0                   0.52828179\n",
      "dr      rho / rho0               0.63393815\n",
      "tr      T / T0                   0.83333333\n",
      "prs     P / P*                   1.00000000\n",
      "drs     rho / rho*               1.00000000\n",
      "trs     T / T*                   1.00000000\n",
      "urs     U / U*                   1.00000000\n",
      "ars     A / A*                   1.00000000\n",
      "ma      Mach Angle              90.00000000\n",
      "pm      Prandtl-Meyer            0.00000000\n"
     ]
    }
   ],
   "source": [
    "res_ise_2 = isentropic_solver(\"m\", 1, gamma=gamma)\n",
    "res_ise_2.show()"
   ]
  },
  {
   "cell_type": "code",
   "execution_count": 85,
   "id": "3eaf0264-8060-4351-b232-5aac0ea4cc95",
   "metadata": {},
   "outputs": [
    {
     "data": {
      "text/html": [
       "5760.0 °R"
      ],
      "text/latex": [
       "$5760.0\\ \\mathrm{°R}$"
      ],
      "text/plain": [
       "<Quantity(5760.0, 'degree_Rankine')>"
      ]
     },
     "execution_count": 85,
     "metadata": {},
     "output_type": "execute_result"
    }
   ],
   "source": [
    "T02 = (1 / res_ise_2[\"tr\"]) * T2\n",
    "T02"
   ]
  },
  {
   "cell_type": "markdown",
   "id": "9c45e735-dafb-4272-9200-8a2f1e43689a",
   "metadata": {},
   "source": [
    "$$\n",
    "\\begin{aligned}\n",
    "q &= C_{P} (T_{02} - T_{01}) \\\\\n",
    "\\Delta T_{0} &= T_{02} - T_{01}\n",
    "\\end{aligned}\n",
    "$$"
   ]
  },
  {
   "cell_type": "code",
   "execution_count": 86,
   "id": "93f79d28-2f29-4533-8f1f-5922b7b824ef",
   "metadata": {},
   "outputs": [
    {
     "data": {
      "text/html": [
       "3578.408772000606 °R"
      ],
      "text/latex": [
       "$3578.408772000606\\ \\mathrm{°R}$"
      ],
      "text/plain": [
       "<Quantity(3578.40877, 'degree_Rankine')>"
      ]
     },
     "execution_count": 86,
     "metadata": {},
     "output_type": "execute_result"
    }
   ],
   "source": [
    "T01 = T02 - Delta_T0\n",
    "T01"
   ]
  },
  {
   "cell_type": "markdown",
   "id": "fe0fb12e-e13a-4807-b524-dcd17b1e5aa6",
   "metadata": {},
   "source": [
    "Assuming $T_{1} = 25°C$:"
   ]
  },
  {
   "cell_type": "code",
   "execution_count": 87,
   "id": "7fe8f0ae-2e74-40b7-b57f-3bbd31dcf214",
   "metadata": {},
   "outputs": [
    {
     "data": {
      "text/html": [
       "536.67 °R"
      ],
      "text/latex": [
       "$536.67\\ \\mathrm{°R}$"
      ],
      "text/plain": [
       "<Quantity(536.67, 'degree_Rankine')>"
      ]
     },
     "execution_count": 87,
     "metadata": {},
     "output_type": "execute_result"
    }
   ],
   "source": [
    "T1 = Q_(25, ureg.degC).to(\"degR\")\n",
    "T1"
   ]
  },
  {
   "cell_type": "code",
   "execution_count": 88,
   "id": "e9f9af91-8968-4593-b646-a5c8e53b2bec",
   "metadata": {},
   "outputs": [
    {
     "name": "stdout",
     "output_type": "stream",
     "text": [
      "key     quantity            \n",
      "----------------------------\n",
      "m       M                        5.32343922\n",
      "pr      P / P0                   0.00130635\n",
      "dr      rho / rho0               0.00871051\n",
      "tr      T / T0                   0.14997448\n",
      "prs     P / P*                   0.00247284\n",
      "drs     rho / rho*               0.01374031\n",
      "trs     T / T*                   0.17996938\n",
      "urs     U / U*                   2.25835186\n",
      "ars     A / A*                  32.22640460\n",
      "ma      Mach Angle [deg]        10.82725089\n",
      "pm      Prandtl-Meyer [deg]     79.79470958\n"
     ]
    }
   ],
   "source": [
    "res_ise_1 = isentropic_solver(\"temperature\", T1 / T01, gamma=gamma)\n",
    "res_ise_1.show()"
   ]
  },
  {
   "cell_type": "code",
   "execution_count": 89,
   "id": "a3e422b3-6284-462d-b141-83d98f9a3a63",
   "metadata": {},
   "outputs": [
    {
     "data": {
      "text/plain": [
       "np.float64(5.323439216045449)"
      ]
     },
     "execution_count": 89,
     "metadata": {},
     "output_type": "execute_result"
    }
   ],
   "source": [
    "M1 = res_ise_1[\"m\"]\n",
    "M1"
   ]
  },
  {
   "cell_type": "markdown",
   "id": "26337e2a-f367-4cff-97f1-0a71778185e1",
   "metadata": {},
   "source": [
    "## P 3.12"
   ]
  },
  {
   "cell_type": "code",
   "execution_count": 90,
   "id": "86b9b9db-651d-4f02-b0ca-aa6f02559b48",
   "metadata": {},
   "outputs": [],
   "source": [
    "D = 0.02 * m\n",
    "L = 40 * m\n",
    "M2 = 0.5\n",
    "p2 = 1 * atm\n",
    "T2 = 270 * K\n",
    "f = 0.005"
   ]
  },
  {
   "cell_type": "code",
   "execution_count": 91,
   "id": "9deaa254-1ea1-4034-a3bc-6a17ef70f0d3",
   "metadata": {},
   "outputs": [
    {
     "name": "stdout",
     "output_type": "stream",
     "text": [
      "key     quantity            \n",
      "----------------------------\n",
      "m       M                        0.50000000\n",
      "pr      P / P0                   0.84301918\n",
      "dr      rho / rho0               0.88517013\n",
      "tr      T / T0                   0.95238095\n",
      "prs     P / P*                   1.59577558\n",
      "drs     rho / rho*               1.39630363\n",
      "trs     T / T*                   1.14285714\n",
      "urs     U / U*                   0.53452248\n",
      "ars     A / A*                   1.33984375\n",
      "ma      Mach Angle                      nan\n",
      "pm      Prandtl-Meyer                   nan\n"
     ]
    }
   ],
   "source": [
    "res_ise_2 = isentropic_solver(\"m\", M2)\n",
    "res_ise_2.show()"
   ]
  },
  {
   "cell_type": "code",
   "execution_count": 92,
   "id": "37efb83c-088b-4800-bacb-ae7ef7ba0b3b",
   "metadata": {},
   "outputs": [
    {
     "name": "stdout",
     "output_type": "stream",
     "text": [
      "283.5 K\n",
      "1.1862126380443982 atm\n"
     ]
    }
   ],
   "source": [
    "T02 = (1 / res_ise_2[\"tr\"]) * T2\n",
    "p02 = (1 / res_ise_2[\"pr\"]) * p2\n",
    "print(T02)\n",
    "print(p02)"
   ]
  },
  {
   "cell_type": "code",
   "execution_count": 93,
   "id": "32299d98-7302-41f8-8baa-7eea8289cded",
   "metadata": {},
   "outputs": [
    {
     "name": "stdout",
     "output_type": "stream",
     "text": [
      "key     quantity     \n",
      "---------------------\n",
      "m       M                 0.50000000\n",
      "prs     P / P*            2.13808994\n",
      "drs     rho / rho*        1.87082869\n",
      "trs     T / T*            1.14285714\n",
      "tprs    P0 / P0*          1.33984375\n",
      "urs     U / U*            0.53452248\n",
      "fps     4fL* / D          1.06906031\n",
      "eps     (s*-s) / R        0.29255300\n"
     ]
    }
   ],
   "source": [
    "res_fanno_2 = fanno_solver(\"m\", M2)\n",
    "res_fanno_2.show()"
   ]
  },
  {
   "cell_type": "code",
   "execution_count": 94,
   "id": "8d076b3f-2f3e-43f5-9ebb-9591c352d480",
   "metadata": {},
   "outputs": [
    {
     "data": {
      "text/plain": [
       "np.float64(1.0690603127182559)"
      ]
     },
     "execution_count": 94,
     "metadata": {},
     "output_type": "execute_result"
    }
   ],
   "source": [
    "crit_fric_L2s = res_fanno_2[\"fps\"]\n",
    "crit_fric_L2s"
   ]
  },
  {
   "cell_type": "code",
   "execution_count": 95,
   "id": "58f99556-9879-4773-a5e1-bdbbf58a5480",
   "metadata": {},
   "outputs": [
    {
     "data": {
      "text/html": [
       "40.0"
      ],
      "text/latex": [
       "$40.0$"
      ],
      "text/plain": [
       "<Quantity(40.0, 'dimensionless')>"
      ]
     },
     "execution_count": 95,
     "metadata": {},
     "output_type": "execute_result"
    }
   ],
   "source": [
    "crit_fric_L = 4 * f * L / D\n",
    "crit_fric_L"
   ]
  },
  {
   "cell_type": "code",
   "execution_count": 96,
   "id": "7454da40-edac-4906-99cc-4aa6a6124592",
   "metadata": {},
   "outputs": [
    {
     "data": {
      "text/html": [
       "41.06906031271826"
      ],
      "text/latex": [
       "$41.06906031271826$"
      ],
      "text/plain": [
       "<Quantity(41.0690603, 'dimensionless')>"
      ]
     },
     "execution_count": 96,
     "metadata": {},
     "output_type": "execute_result"
    }
   ],
   "source": [
    "crit_fric_L1s = crit_fric_L2s + crit_fric_L\n",
    "crit_fric_L1s"
   ]
  },
  {
   "cell_type": "code",
   "execution_count": 97,
   "id": "cf2dfa31-a5f0-4a57-ac8b-ed90cb82e19f",
   "metadata": {},
   "outputs": [
    {
     "name": "stdout",
     "output_type": "stream",
     "text": [
      "key     quantity     \n",
      "---------------------\n",
      "m       M                 0.12573061\n",
      "prs     P / P*            8.69889577\n",
      "drs     rho / rho*        7.27199877\n",
      "trs     T / T*            1.19621799\n",
      "tprs    P0 / P0*          4.64652171\n",
      "urs     U / U*            0.13751377\n",
      "fps     4fL* / D         41.06906031\n",
      "eps     (s*-s) / R        1.53611892\n"
     ]
    }
   ],
   "source": [
    "res_fanno_1 = fanno_solver(\"friction_sub\", crit_fric_L1s)\n",
    "res_fanno_1.show()"
   ]
  },
  {
   "cell_type": "code",
   "execution_count": 98,
   "id": "cd216942-2a4c-4c56-9fc3-eb6d5c22b38b",
   "metadata": {},
   "outputs": [
    {
     "name": "stdout",
     "output_type": "stream",
     "text": [
      "0.12573061452167186\n",
      "282.60650069373264 K\n",
      "4.0685359499124925 atm\n"
     ]
    }
   ],
   "source": [
    "M1 = res_fanno_1[\"m\"]\n",
    "\n",
    "Ts = (1 / res_fanno_2[\"trs\"]) * T2\n",
    "ps = (1 / res_fanno_2[\"prs\"]) * p2\n",
    "\n",
    "T1 = res_fanno_1[\"trs\"] * Ts\n",
    "p1 = res_fanno_1[\"prs\"] * ps\n",
    "print(M1)\n",
    "print(T1)\n",
    "print(p1)"
   ]
  },
  {
   "cell_type": "markdown",
   "id": "ab1bfd77-156e-45c6-9f4b-37a14c410afd",
   "metadata": {},
   "source": [
    "## P 3.13"
   ]
  },
  {
   "cell_type": "code",
   "execution_count": 99,
   "id": "77a37033-0017-4beb-8dc5-b72271eb1623",
   "metadata": {},
   "outputs": [],
   "source": [
    "D = 0.2 * ft\n",
    "L = 3 * ft\n",
    "M1 = 2.5\n",
    "p1 = 0.5 * atm\n",
    "T1 = 520 * degR\n",
    "f = 0.005"
   ]
  },
  {
   "cell_type": "code",
   "execution_count": 100,
   "id": "7c078499-4121-4228-92e1-3a17006c79ca",
   "metadata": {},
   "outputs": [
    {
     "name": "stdout",
     "output_type": "stream",
     "text": [
      "key     quantity     \n",
      "---------------------\n",
      "m       M                 2.50000000\n",
      "prs     P / P*            0.29211870\n",
      "drs     rho / rho*        0.54772256\n",
      "trs     T / T*            0.53333333\n",
      "tprs    P0 / P0*          2.63671875\n",
      "urs     U / U*            1.82574186\n",
      "fps     4fL* / D          0.43197669\n",
      "eps     (s*-s) / R        0.96953525\n"
     ]
    }
   ],
   "source": [
    "res_fanno_1 = fanno_solver(\"m\", M1, gamma=gamma)\n",
    "res_fanno_1.show()"
   ]
  },
  {
   "cell_type": "code",
   "execution_count": 101,
   "id": "a953725d-47bb-48e1-b736-3a8d0b046978",
   "metadata": {},
   "outputs": [
    {
     "name": "stdout",
     "output_type": "stream",
     "text": [
      "key     quantity            \n",
      "----------------------------\n",
      "m       M                        2.50000000\n",
      "pr      P / P0                   0.05852766\n",
      "dr      rho / rho0               0.13168724\n",
      "tr      T / T0                   0.44444444\n",
      "prs     P / P*                   0.11078872\n",
      "drs     rho / rho*               0.20772885\n",
      "trs     T / T*                   0.53333333\n",
      "urs     U / U*                   1.82574186\n",
      "ars     A / A*                   2.63671875\n",
      "ma      Mach Angle              23.57817848\n",
      "pm      Prandtl-Meyer           39.12356383\n"
     ]
    }
   ],
   "source": [
    "res_ise_1 = isentropic_solver(\"m\", M1, gamma=gamma)\n",
    "res_ise_1.show()"
   ]
  },
  {
   "cell_type": "code",
   "execution_count": 102,
   "id": "6018c0a9-0d27-4fe5-96f2-140706282545",
   "metadata": {},
   "outputs": [
    {
     "data": {
      "text/html": [
       "8.542968750000004 atm"
      ],
      "text/latex": [
       "$8.542968750000004\\ \\mathrm{atm}$"
      ],
      "text/plain": [
       "<Quantity(8.54296875, 'standard_atmosphere')>"
      ]
     },
     "execution_count": 102,
     "metadata": {},
     "output_type": "execute_result"
    }
   ],
   "source": [
    "p0 = (1 / res_ise_1[\"pr\"]) * p1\n",
    "p0"
   ]
  },
  {
   "cell_type": "code",
   "execution_count": 103,
   "id": "24cf3836-e804-4383-91f0-780693a7d5b4",
   "metadata": {},
   "outputs": [
    {
     "name": "stdout",
     "output_type": "stream",
     "text": [
      "975.0 °R\n",
      "1.7116329922036442 atm\n",
      "3.24 atm\n"
     ]
    }
   ],
   "source": [
    "Ts = (1 / res_fanno_1[\"trs\"]) * T1\n",
    "ps = (1 / res_fanno_1[\"prs\"]) * p1\n",
    "p0s = (1 / res_fanno_1[\"tprs\"]) * p0\n",
    "print(Ts)\n",
    "print(ps)\n",
    "print(p0s)"
   ]
  },
  {
   "cell_type": "code",
   "execution_count": 104,
   "id": "da4835e1-20f6-4d51-b9db-b9a988d21593",
   "metadata": {},
   "outputs": [
    {
     "data": {
      "text/plain": [
       "np.float64(0.4319766894222311)"
      ]
     },
     "execution_count": 104,
     "metadata": {},
     "output_type": "execute_result"
    }
   ],
   "source": [
    "crit_fric_L1s = res_fanno_1[\"fps\"]\n",
    "crit_fric_L1s"
   ]
  },
  {
   "cell_type": "code",
   "execution_count": 105,
   "id": "6165892f-d7ed-4610-85c3-88c949fccfe8",
   "metadata": {},
   "outputs": [
    {
     "data": {
      "text/html": [
       "0.3"
      ],
      "text/latex": [
       "$0.3$"
      ],
      "text/plain": [
       "<Quantity(0.3, 'dimensionless')>"
      ]
     },
     "execution_count": 105,
     "metadata": {},
     "output_type": "execute_result"
    }
   ],
   "source": [
    "crit_fric_L = 4 * f * L / D\n",
    "crit_fric_L"
   ]
  },
  {
   "cell_type": "code",
   "execution_count": 106,
   "id": "d1744925-0bcd-43fc-94a7-42d349b49755",
   "metadata": {},
   "outputs": [
    {
     "data": {
      "text/html": [
       "0.13197668942223112"
      ],
      "text/latex": [
       "$0.13197668942223112$"
      ],
      "text/plain": [
       "<Quantity(0.131976689, 'dimensionless')>"
      ]
     },
     "execution_count": 106,
     "metadata": {},
     "output_type": "execute_result"
    }
   ],
   "source": [
    "crit_fric_L2s = crit_fric_L1s - crit_fric_L\n",
    "crit_fric_L2s"
   ]
  },
  {
   "cell_type": "code",
   "execution_count": 107,
   "id": "e2f39ac1-beb0-43d2-a896-e54003679e74",
   "metadata": {},
   "outputs": [
    {
     "name": "stdout",
     "output_type": "stream",
     "text": [
      "key     quantity     \n",
      "---------------------\n",
      "m       M                 1.48883667\n",
      "prs     P / P*            0.61243670\n",
      "drs     rho / rho*        0.73662199\n",
      "trs     T / T*            0.83141247\n",
      "tprs    P0 / P0*          1.16870081\n",
      "urs     U / U*            1.35754840\n",
      "fps     4fL* / D          0.13197669\n",
      "eps     (s*-s) / R        0.15589271\n"
     ]
    }
   ],
   "source": [
    "res_fanno_2 = fanno_solver(\"friction_super\", crit_fric_L2s, gamma=gamma)\n",
    "res_fanno_2.show()"
   ]
  },
  {
   "cell_type": "code",
   "execution_count": 108,
   "id": "304489bf-6b93-4c32-8465-983260ad77d5",
   "metadata": {},
   "outputs": [
    {
     "name": "stdout",
     "output_type": "stream",
     "text": [
      "1.48883666686136\n",
      "810.6271562243851 °R\n",
      "1.0482668680069764 atm\n",
      "3.786590625873568 atm\n"
     ]
    }
   ],
   "source": [
    "M2 = res_fanno_2[\"m\"]\n",
    "T2 = res_fanno_2[\"trs\"] * Ts\n",
    "p2 = res_fanno_2[\"prs\"] * ps\n",
    "p02 = res_fanno_2[\"tprs\"] * p0s\n",
    "print(M2)\n",
    "print(T2)\n",
    "print(p2)\n",
    "print(p02)"
   ]
  },
  {
   "cell_type": "markdown",
   "id": "11e4678a-8799-4239-ae0e-9b35562c5d22",
   "metadata": {},
   "source": [
    "## P 3.14"
   ]
  },
  {
   "cell_type": "code",
   "execution_count": 109,
   "id": "ec99c051-38fd-453d-9cab-f70cda06c1ae",
   "metadata": {},
   "outputs": [],
   "source": [
    "D = 4 * ureg.inch\n",
    "p01_p02 = 10\n",
    "p01 = 100 * atm\n",
    "f = 0.005"
   ]
  },
  {
   "cell_type": "code",
   "execution_count": 110,
   "id": "fcdc44b9-a053-44fe-aa9f-f50ae55eb34a",
   "metadata": {},
   "outputs": [
    {
     "data": {
      "text/html": [
       "10.0 atm"
      ],
      "text/latex": [
       "$10.0\\ \\mathrm{atm}$"
      ],
      "text/plain": [
       "<Quantity(10.0, 'standard_atmosphere')>"
      ]
     },
     "execution_count": 110,
     "metadata": {},
     "output_type": "execute_result"
    }
   ],
   "source": [
    "p02 = (1 / p01_p02) * p01\n",
    "p02"
   ]
  },
  {
   "cell_type": "markdown",
   "id": "60f4fb92-e2a1-4619-a406-f009b9417071",
   "metadata": {},
   "source": [
    "For chocking to happen:\n",
    "\n",
    "$$\n",
    "\\frac{P_{02}}{P_{0}^{*}} = 1\n",
    "$$"
   ]
  },
  {
   "cell_type": "code",
   "execution_count": 111,
   "id": "394727ed-e3b4-428e-84bf-12e90a1ac271",
   "metadata": {},
   "outputs": [
    {
     "data": {
      "text/html": [
       "10.0 atm"
      ],
      "text/latex": [
       "$10.0\\ \\mathrm{atm}$"
      ],
      "text/plain": [
       "<Quantity(10.0, 'standard_atmosphere')>"
      ]
     },
     "execution_count": 111,
     "metadata": {},
     "output_type": "execute_result"
    }
   ],
   "source": [
    "p0s = p02\n",
    "p0s"
   ]
  },
  {
   "cell_type": "code",
   "execution_count": 112,
   "id": "bb98f60b-4883-4516-9119-125630e69355",
   "metadata": {},
   "outputs": [
    {
     "data": {
      "text/html": [
       "10.0"
      ],
      "text/latex": [
       "$10.0$"
      ],
      "text/plain": [
       "<Quantity(10.0, 'dimensionless')>"
      ]
     },
     "execution_count": 112,
     "metadata": {},
     "output_type": "execute_result"
    }
   ],
   "source": [
    "p01_p0s = p01 / p0s\n",
    "p01_p0s"
   ]
  },
  {
   "cell_type": "code",
   "execution_count": 113,
   "id": "b9ee2cfb-62f5-4f28-b60f-67fb719b4a57",
   "metadata": {},
   "outputs": [
    {
     "name": "stdout",
     "output_type": "stream",
     "text": [
      "key     quantity     \n",
      "---------------------\n",
      "m       M                 0.05798720\n",
      "prs     P / P*           18.88480389\n",
      "drs     rho / rho*       15.74791999\n",
      "trs     T / T*            1.19919354\n",
      "tprs    P0 / P0*         10.00000000\n",
      "urs     U / U*            0.06350045\n",
      "fps     4fL* / D        206.98591486\n",
      "eps     (s*-s) / R        2.30258509\n"
     ]
    }
   ],
   "source": [
    "res_fanno_1 = fanno_solver(\"total_pressure_sub\", p01_p0s)\n",
    "res_fanno_1.show()"
   ]
  },
  {
   "cell_type": "code",
   "execution_count": 114,
   "id": "364aa490-6847-431a-ba8c-108bbca64389",
   "metadata": {},
   "outputs": [
    {
     "data": {
      "text/plain": [
       "np.float64(206.98591485503835)"
      ]
     },
     "execution_count": 114,
     "metadata": {},
     "output_type": "execute_result"
    }
   ],
   "source": [
    "crit_fric_L1s = res_fanno_1[\"fps\"]\n",
    "crit_fric_L2s = 0\n",
    "crit_fric_L = crit_fric_L1s - crit_fric_L2s\n",
    "crit_fric_L"
   ]
  },
  {
   "cell_type": "code",
   "execution_count": 115,
   "id": "a19f9122-a0c5-4d9d-8f2d-336a15612d2c",
   "metadata": {},
   "outputs": [
    {
     "data": {
      "text/html": [
       "41397.18297100767 inch"
      ],
      "text/latex": [
       "$41397.18297100767\\ \\mathrm{inch}$"
      ],
      "text/plain": [
       "<Quantity(41397.183, 'inch')>"
      ]
     },
     "execution_count": 115,
     "metadata": {},
     "output_type": "execute_result"
    }
   ],
   "source": [
    "L = crit_fric_L * D / (4 * f)\n",
    "L"
   ]
  },
  {
   "cell_type": "code",
   "execution_count": 116,
   "id": "4ecac005-87d5-4ee6-b3df-3e2b7414a6af",
   "metadata": {},
   "outputs": [
    {
     "data": {
      "text/html": [
       "1051.4884474635949 meter"
      ],
      "text/latex": [
       "$1051.4884474635949\\ \\mathrm{meter}$"
      ],
      "text/plain": [
       "<Quantity(1051.48845, 'meter')>"
      ]
     },
     "execution_count": 116,
     "metadata": {},
     "output_type": "execute_result"
    }
   ],
   "source": [
    "L.to(\"m\")"
   ]
  },
  {
   "cell_type": "markdown",
   "id": "423f5497-208c-44c4-8d35-27356f0c377b",
   "metadata": {},
   "source": [
    "## P 3.16"
   ]
  },
  {
   "cell_type": "code",
   "execution_count": 117,
   "id": "0a9c2092-bf6c-48ca-b975-d66ce8172b9a",
   "metadata": {},
   "outputs": [],
   "source": [
    "M1 = 2.5"
   ]
  },
  {
   "cell_type": "markdown",
   "id": "ac038297-f175-4e00-8ac1-6eb86d8ba775",
   "metadata": {},
   "source": [
    "$$\n",
    "\\begin{aligned}\n",
    "\\frac{3}{10} h_{1} &= q = c_{p} * (T_{02} - T_{01}) \\\\\n",
    "\\frac{3}{10} c_{p} T_{1} &= c_{p} * (T_{02} - T_{01}) \\\\\n",
    "\\frac{3}{10} &= \\frac{T_{02} - T_{01}}{T_{1}} \\\\\n",
    "\\frac{3}{10} &= \\frac{T_{02}}{T_{1}} - \\frac{T_{01}}{T_{1}} \\\\\n",
    "\\end{aligned}\n",
    "$$"
   ]
  },
  {
   "cell_type": "code",
   "execution_count": 118,
   "id": "0a200775-477b-4bdf-b08e-a1106a5fb632",
   "metadata": {},
   "outputs": [
    {
     "name": "stdout",
     "output_type": "stream",
     "text": [
      "key     quantity            \n",
      "----------------------------\n",
      "m       M                        2.50000000\n",
      "pr      P / P0                   0.05852766\n",
      "dr      rho / rho0               0.13168724\n",
      "tr      T / T0                   0.44444444\n",
      "prs     P / P*                   0.11078872\n",
      "drs     rho / rho*               0.20772885\n",
      "trs     T / T*                   0.53333333\n",
      "urs     U / U*                   1.82574186\n",
      "ars     A / A*                   2.63671875\n",
      "ma      Mach Angle              23.57817848\n",
      "pm      Prandtl-Meyer           39.12356383\n"
     ]
    }
   ],
   "source": [
    "res_ise_1 = isentropic_solver(\"m\", M1)\n",
    "res_ise_1.show()"
   ]
  },
  {
   "cell_type": "code",
   "execution_count": 119,
   "id": "b780e420-263c-40cc-a439-1ed21e9cb799",
   "metadata": {},
   "outputs": [
    {
     "data": {
      "text/plain": [
       "np.float64(2.25)"
      ]
     },
     "execution_count": 119,
     "metadata": {},
     "output_type": "execute_result"
    }
   ],
   "source": [
    "T01_T1 = (1 / res_ise_1[\"tr\"])\n",
    "T01_T1"
   ]
  },
  {
   "cell_type": "code",
   "execution_count": 120,
   "id": "98246522-b816-4443-a7a7-b702d06a01bf",
   "metadata": {},
   "outputs": [
    {
     "data": {
      "text/plain": [
       "np.float64(2.55)"
      ]
     },
     "execution_count": 120,
     "metadata": {},
     "output_type": "execute_result"
    }
   ],
   "source": [
    "T02_T1 = T01_T1 + 0.3\n",
    "T02_T1"
   ]
  },
  {
   "cell_type": "markdown",
   "id": "5ca58b8e-7c07-4140-99ab-369831f407a2",
   "metadata": {},
   "source": [
    "Assuming $T_{1} = 25°C$:"
   ]
  },
  {
   "cell_type": "code",
   "execution_count": 121,
   "id": "0ac0e65f-3345-43bb-a8ce-a2a264a7ee2e",
   "metadata": {},
   "outputs": [
    {
     "name": "stdout",
     "output_type": "stream",
     "text": [
      "670.8375 K\n",
      "760.2824999999999 K\n"
     ]
    }
   ],
   "source": [
    "T1 = Q_(25, ureg.degC).to(\"K\")\n",
    "T01 = T01_T1 * T1\n",
    "T02 = T02_T1 * T1\n",
    "print(T01)\n",
    "print(T02)"
   ]
  },
  {
   "cell_type": "code",
   "execution_count": 122,
   "id": "781a5874-251e-47e2-acf2-5ff824216d37",
   "metadata": {},
   "outputs": [
    {
     "name": "stdout",
     "output_type": "stream",
     "text": [
      "key     quantity     \n",
      "---------------------\n",
      "m       M                 2.50000000\n",
      "prs     P / P*            0.24615385\n",
      "drs     rho / rho*        0.65000000\n",
      "trs     T / T*            0.37869822\n",
      "tprs    P0 / P0*          2.22183129\n",
      "ttrs    T0 / T0*          0.71005917\n",
      "urs     U / U*            1.53846154\n",
      "eps     (s*-s) / R        1.99675616\n"
     ]
    }
   ],
   "source": [
    "res_ray_1 = rayleigh_solver(\"m\", M1)\n",
    "res_ray_1.show()"
   ]
  },
  {
   "cell_type": "code",
   "execution_count": 123,
   "id": "c549c39a-bd65-4bb8-b247-5d58548f60ef",
   "metadata": {},
   "outputs": [
    {
     "data": {
      "text/html": [
       "944.7628125 K"
      ],
      "text/latex": [
       "$944.7628125\\ \\mathrm{K}$"
      ],
      "text/plain": [
       "<Quantity(944.762812, 'kelvin')>"
      ]
     },
     "execution_count": 123,
     "metadata": {},
     "output_type": "execute_result"
    }
   ],
   "source": [
    "T0s = (1 / res_ray_1[\"ttrs\"]) * T01\n",
    "T0s"
   ]
  },
  {
   "cell_type": "code",
   "execution_count": 124,
   "id": "ffeefa5c-ce93-4dbf-9c57-24a819b8b160",
   "metadata": {},
   "outputs": [
    {
     "data": {
      "text/html": [
       "0.8047337278106508"
      ],
      "text/latex": [
       "$0.8047337278106508$"
      ],
      "text/plain": [
       "<Quantity(0.804733728, 'dimensionless')>"
      ]
     },
     "execution_count": 124,
     "metadata": {},
     "output_type": "execute_result"
    }
   ],
   "source": [
    "T02_T0s = T02 / T0s\n",
    "T02_T0s"
   ]
  },
  {
   "cell_type": "code",
   "execution_count": 125,
   "id": "fd400ab9-d716-4f8a-b86f-c4ba5ec10aae",
   "metadata": {},
   "outputs": [
    {
     "name": "stdout",
     "output_type": "stream",
     "text": [
      "key     quantity     \n",
      "---------------------\n",
      "m       M                 1.94447058\n",
      "prs     P / P*            0.38135479\n",
      "drs     rho / rho*        0.69353445\n",
      "trs     T / T*            0.54987145\n",
      "tprs    P0 / P0*          1.44609837\n",
      "ttrs    T0 / T0*          0.80473373\n",
      "urs     U / U*            1.44188943\n",
      "eps     (s*-s) / R        1.12922255\n"
     ]
    }
   ],
   "source": [
    "res_ray_2 = rayleigh_solver(\"total_temperature_super\", T02_T0s)\n",
    "res_ray_2.show()"
   ]
  },
  {
   "cell_type": "code",
   "execution_count": 126,
   "id": "17a66621-b22b-4604-8669-e2cc570415ef",
   "metadata": {},
   "outputs": [
    {
     "data": {
      "text/plain": [
       "np.float64(1.94447057632683)"
      ]
     },
     "execution_count": 126,
     "metadata": {},
     "output_type": "execute_result"
    }
   ],
   "source": [
    "M2 = res_ray_2[\"m\"]\n",
    "M2"
   ]
  },
  {
   "cell_type": "code",
   "execution_count": null,
   "id": "292ffe9c-7e2b-40b4-b0c6-b744247fe932",
   "metadata": {},
   "outputs": [],
   "source": []
  }
 ],
 "metadata": {
  "kernelspec": {
   "display_name": "Python 3 (ipykernel)",
   "language": "python",
   "name": "python3"
  },
  "language_info": {
   "codemirror_mode": {
    "name": "ipython",
    "version": 3
   },
   "file_extension": ".py",
   "mimetype": "text/x-python",
   "name": "python",
   "nbconvert_exporter": "python",
   "pygments_lexer": "ipython3",
   "version": "3.12.7"
  }
 },
 "nbformat": 4,
 "nbformat_minor": 5
}
