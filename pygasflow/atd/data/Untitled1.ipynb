{
 "cells": [
  {
   "cell_type": "code",
   "execution_count": 31,
   "id": "de93dd28",
   "metadata": {},
   "outputs": [],
   "source": [
    "%matplotlib widget\n",
    "import cantera as ct\n",
    "import numpy as np\n",
    "import matplotlib.pyplot as plt"
   ]
  },
  {
   "cell_type": "code",
   "execution_count": 3,
   "id": "417dc5d1",
   "metadata": {},
   "outputs": [
    {
     "name": "stdout",
     "output_type": "stream",
     "text": [
      "\n",
      "  gri30:\n",
      "\n",
      "       temperature   300 K\n",
      "          pressure   1.0133e+05 Pa\n",
      "           density   0.081894 kg/m^3\n",
      "  mean mol. weight   2.016 kg/kmol\n",
      "   phase of matter   gas\n",
      "\n",
      "                          1 kg             1 kmol     \n",
      "                     ---------------   ---------------\n",
      "          enthalpy             26469             53361  J\n",
      "   internal energy       -1.2108e+06        -2.441e+06  J\n",
      "           entropy             64910        1.3086e+05  J/K\n",
      "    Gibbs function       -1.9447e+07       -3.9204e+07  J\n",
      " heat capacity c_p             14311             28851  J/K\n",
      " heat capacity c_v             10187             20536  J/K\n",
      "\n",
      "                      mass frac. Y      mole frac. X     chem. pot. / RT\n",
      "                     ---------------   ---------------   ---------------\n",
      "                H2                 1                 1           -15.717\n",
      "     [  +52 minor]                 0                 0  \n",
      "\n"
     ]
    }
   ],
   "source": [
    "g = ct.Solution('gri30.yaml')\n",
    "g()"
   ]
  },
  {
   "cell_type": "code",
   "execution_count": 9,
   "id": "7e8bc966",
   "metadata": {},
   "outputs": [
    {
     "name": "stdout",
     "output_type": "stream",
     "text": [
      "\n",
      "  gri30:\n",
      "\n",
      "       temperature   298 K\n",
      "          pressure   1.0133e+05 Pa\n",
      "           density   1.1846 kg/m^3\n",
      "  mean mol. weight   28.967 kg/kmol\n",
      "   phase of matter   gas\n",
      "\n",
      "                          1 kg             1 kmol     \n",
      "                     ---------------   ---------------\n",
      "          enthalpy           -5767.8       -1.6707e+05  J\n",
      "   internal energy            -91305       -2.6448e+06  J\n",
      "           entropy              6861        1.9874e+05  J/K\n",
      "    Gibbs function       -2.0503e+06       -5.9391e+07  J\n",
      " heat capacity c_p            1003.3             29061  J/K\n",
      " heat capacity c_v            716.22             20746  J/K\n",
      "\n",
      "                      mass frac. Y      mole frac. X     chem. pot. / RT\n",
      "                     ---------------   ---------------   ---------------\n",
      "                O2           0.23137           0.20945           -26.237\n",
      "               CH4        1.0356e-06        1.8699e-06           -65.713\n",
      "               CO2        0.00063199        0.00041598           -192.32\n",
      "                N2           0.75512           0.78079            -23.28\n",
      "                AR          0.012881         0.0093395           -23.283\n",
      "     [  +48 minor]                 0                 0  \n",
      "\n"
     ]
    }
   ],
   "source": [
    "# set air composition\n",
    "g.X = {\n",
    "    \"N2\": 0.78084,\n",
    "    \"O2\": 0.20946,\n",
    "    \"Ar\": 0.009340,\n",
    "    \"CO2\": 0.000416,\n",
    "#     \"Ne\": 0.00001818,\n",
    "#     \"He\": 0.00000524,\n",
    "    \"CH4\": 0.00000187,\n",
    "#     \"Kr\": 0.00000114\n",
    "}\n",
    "g.TP = 298, ct.one_atm\n",
    "g()"
   ]
  },
  {
   "cell_type": "code",
   "execution_count": 11,
   "id": "f9d0caaa",
   "metadata": {},
   "outputs": [],
   "source": [
    "g.equilibrate('TP')"
   ]
  },
  {
   "cell_type": "code",
   "execution_count": 12,
   "id": "4c2e9fc8",
   "metadata": {},
   "outputs": [
    {
     "name": "stdout",
     "output_type": "stream",
     "text": [
      "\n",
      "  gri30:\n",
      "\n",
      "       temperature   298 K\n",
      "          pressure   1.0132e+05 Pa\n",
      "           density   1.1846 kg/m^3\n",
      "  mean mol. weight   28.967 kg/kmol\n",
      "   phase of matter   gas\n",
      "\n",
      "                          1 kg             1 kmol     \n",
      "                     ---------------   ---------------\n",
      "          enthalpy           -5819.6       -1.6857e+05  J\n",
      "   internal energy            -91357       -2.6463e+06  J\n",
      "           entropy              6861        1.9874e+05  J/K\n",
      "    Gibbs function       -2.0504e+06       -5.9393e+07  J\n",
      " heat capacity c_p            1003.3             29061  J/K\n",
      " heat capacity c_v            716.22             20746  J/K\n",
      "\n",
      "                      mass frac. Y      mole frac. X     chem. pot. / RT\n",
      "                     ---------------   ---------------   ---------------\n",
      "                O2           0.23136           0.20944           -26.237\n",
      "               H2O        2.3259e-06        3.7398e-06           -132.81\n",
      "               CO2        0.00063483        0.00041785           -192.31\n",
      "               NO2        2.0073e-10        1.2639e-10           -37.877\n",
      "                N2           0.75512           0.78079            -23.28\n",
      "                AR          0.012881         0.0093395           -23.283\n",
      "     [  +47 minor]         1.882e-16        1.8157e-16  \n",
      "\n"
     ]
    }
   ],
   "source": [
    "g()"
   ]
  },
  {
   "cell_type": "code",
   "execution_count": 13,
   "id": "4df3a1f2",
   "metadata": {},
   "outputs": [
    {
     "data": {
      "text/plain": [
       "1.8583896772464103e-05"
      ]
     },
     "execution_count": 13,
     "metadata": {},
     "output_type": "execute_result"
    }
   ],
   "source": [
    "g.viscosity"
   ]
  },
  {
   "cell_type": "code",
   "execution_count": 14,
   "id": "116d7a07",
   "metadata": {},
   "outputs": [
    {
     "ename": "AttributeError",
     "evalue": "'Solution' object has no attribute 'conductivity'",
     "output_type": "error",
     "traceback": [
      "\u001b[0;31m---------------------------------------------------------------------------\u001b[0m",
      "\u001b[0;31mAttributeError\u001b[0m                            Traceback (most recent call last)",
      "\u001b[0;32m/tmp/ipykernel_87263/1526586666.py\u001b[0m in \u001b[0;36m<module>\u001b[0;34m\u001b[0m\n\u001b[0;32m----> 1\u001b[0;31m \u001b[0mg\u001b[0m\u001b[0;34m.\u001b[0m\u001b[0mconductivity\u001b[0m\u001b[0;34m\u001b[0m\u001b[0;34m\u001b[0m\u001b[0m\n\u001b[0m",
      "\u001b[0;31mAttributeError\u001b[0m: 'Solution' object has no attribute 'conductivity'"
     ]
    }
   ],
   "source": [
    "g.conductivity"
   ]
  },
  {
   "cell_type": "code",
   "execution_count": 15,
   "id": "1d0dcab5",
   "metadata": {},
   "outputs": [
    {
     "data": {
      "text/plain": [
       "['CK_mode',\n",
       " 'DP',\n",
       " 'DPX',\n",
       " 'DPY',\n",
       " 'HP',\n",
       " 'HPX',\n",
       " 'HPY',\n",
       " 'P',\n",
       " 'P_sat',\n",
       " 'SP',\n",
       " 'SPX',\n",
       " 'SPY',\n",
       " 'SV',\n",
       " 'SVX',\n",
       " 'SVY',\n",
       " 'T',\n",
       " 'TD',\n",
       " 'TDX',\n",
       " 'TDY',\n",
       " 'TP',\n",
       " 'TPX',\n",
       " 'TPY',\n",
       " 'T_sat',\n",
       " 'Te',\n",
       " 'UV',\n",
       " 'UVX',\n",
       " 'UVY',\n",
       " 'X',\n",
       " 'Y',\n",
       " '__call__',\n",
       " '__class__',\n",
       " '__composition_to_array',\n",
       " '__copy__',\n",
       " '__delattr__',\n",
       " '__dir__',\n",
       " '__doc__',\n",
       " '__eq__',\n",
       " '__format__',\n",
       " '__ge__',\n",
       " '__getattribute__',\n",
       " '__getitem__',\n",
       " '__getstate__',\n",
       " '__gt__',\n",
       " '__hash__',\n",
       " '__init__',\n",
       " '__init_subclass__',\n",
       " '__le__',\n",
       " '__lt__',\n",
       " '__module__',\n",
       " '__ne__',\n",
       " '__new__',\n",
       " '__pyx_vtable__',\n",
       " '__reduce__',\n",
       " '__reduce_cython__',\n",
       " '__reduce_ex__',\n",
       " '__repr__',\n",
       " '__setattr__',\n",
       " '__setstate__',\n",
       " '__setstate_cython__',\n",
       " '__sizeof__',\n",
       " '__slots__',\n",
       " '__str__',\n",
       " '__subclasshook__',\n",
       " '_check_kinetics_species_index',\n",
       " '_check_phase_index',\n",
       " '_check_reaction_index',\n",
       " '_cinit',\n",
       " '_full_states',\n",
       " '_init_cti_xml',\n",
       " '_init_parts',\n",
       " '_init_yaml',\n",
       " '_native_state',\n",
       " '_partial_states',\n",
       " '_references',\n",
       " 'activities',\n",
       " 'activity_coefficients',\n",
       " 'add_reaction',\n",
       " 'add_species',\n",
       " 'add_species_alias',\n",
       " 'atomic_weight',\n",
       " 'atomic_weights',\n",
       " 'basis',\n",
       " 'binary_diff_coeffs',\n",
       " 'case_sensitive_species_names',\n",
       " 'charges',\n",
       " 'chemical_potentials',\n",
       " 'clear_user_data',\n",
       " 'clear_user_header',\n",
       " 'composite',\n",
       " 'concentrations',\n",
       " 'cp',\n",
       " 'cp_mass',\n",
       " 'cp_mole',\n",
       " 'creation_rates',\n",
       " 'critical_density',\n",
       " 'critical_pressure',\n",
       " 'critical_temperature',\n",
       " 'cv',\n",
       " 'cv_mass',\n",
       " 'cv_mole',\n",
       " 'delta_enthalpy',\n",
       " 'delta_entropy',\n",
       " 'delta_gibbs',\n",
       " 'delta_standard_enthalpy',\n",
       " 'delta_standard_entropy',\n",
       " 'delta_standard_gibbs',\n",
       " 'density',\n",
       " 'density_mass',\n",
       " 'density_mole',\n",
       " 'destruction_rates',\n",
       " 'electric_potential',\n",
       " 'electrical_conductivity',\n",
       " 'electrochemical_potentials',\n",
       " 'element_index',\n",
       " 'element_name',\n",
       " 'element_names',\n",
       " 'elemental_mass_fraction',\n",
       " 'elemental_mole_fraction',\n",
       " 'enthalpy_mass',\n",
       " 'enthalpy_mole',\n",
       " 'entropy_mass',\n",
       " 'entropy_mole',\n",
       " 'equilibrate',\n",
       " 'equilibrium_constants',\n",
       " 'equivalence_ratio',\n",
       " 'find_isomers',\n",
       " 'forward_rate_constants',\n",
       " 'forward_rates_of_progress',\n",
       " 'g',\n",
       " 'get_binary_diff_coeffs_polynomial',\n",
       " 'get_collision_integral_polynomials',\n",
       " 'get_thermal_conductivity_polynomial',\n",
       " 'get_viscosity_polynomial',\n",
       " 'gibbs_mass',\n",
       " 'gibbs_mole',\n",
       " 'h',\n",
       " 'has_phase_transition',\n",
       " 'heat_production_rates',\n",
       " 'heat_release_rate',\n",
       " 'input_data',\n",
       " 'input_header',\n",
       " 'int_energy_mass',\n",
       " 'int_energy_mole',\n",
       " 'is_compressible',\n",
       " 'is_pure',\n",
       " 'is_reversible',\n",
       " 'isothermal_compressibility',\n",
       " 'kinetics_model',\n",
       " 'kinetics_species_index',\n",
       " 'kinetics_species_name',\n",
       " 'kinetics_species_names',\n",
       " 'mass_fraction_dict',\n",
       " 'max_temp',\n",
       " 'mean_molecular_weight',\n",
       " 'min_temp',\n",
       " 'mix_diff_coeffs',\n",
       " 'mix_diff_coeffs_mass',\n",
       " 'mix_diff_coeffs_mole',\n",
       " 'mixture_fraction',\n",
       " 'mobilities',\n",
       " 'modify_reaction',\n",
       " 'modify_species',\n",
       " 'mole_fraction_dict',\n",
       " 'molecular_weights',\n",
       " 'multi_diff_coeffs',\n",
       " 'multiplier',\n",
       " 'n_atoms',\n",
       " 'n_elements',\n",
       " 'n_phases',\n",
       " 'n_reactions',\n",
       " 'n_selected_species',\n",
       " 'n_species',\n",
       " 'n_total_species',\n",
       " 'name',\n",
       " 'net_production_rates',\n",
       " 'net_rates_of_progress',\n",
       " 'partial_molar_cp',\n",
       " 'partial_molar_enthalpies',\n",
       " 'partial_molar_entropies',\n",
       " 'partial_molar_int_energies',\n",
       " 'partial_molar_volumes',\n",
       " 'phase_of_matter',\n",
       " 'product_stoich_coeff',\n",
       " 'product_stoich_coeffs',\n",
       " 'product_stoich_coeffs3',\n",
       " 'product_stoich_coeffs_reversible',\n",
       " 'products',\n",
       " 'reactant_stoich_coeff',\n",
       " 'reactant_stoich_coeffs',\n",
       " 'reactant_stoich_coeffs3',\n",
       " 'reactants',\n",
       " 'reaction',\n",
       " 'reaction_equation',\n",
       " 'reaction_equations',\n",
       " 'reaction_phase_index',\n",
       " 'reaction_type',\n",
       " 'reaction_type_str',\n",
       " 'reactions',\n",
       " 'reference_pressure',\n",
       " 'report',\n",
       " 'reverse_rate_constants',\n",
       " 'reverse_rates_of_progress',\n",
       " 's',\n",
       " 'selected_species',\n",
       " 'set_binary_diff_coeffs_polynomial',\n",
       " 'set_collision_integral_polynomial',\n",
       " 'set_equivalence_ratio',\n",
       " 'set_mixture_fraction',\n",
       " 'set_multiplier',\n",
       " 'set_thermal_conductivity_polynomial',\n",
       " 'set_unnormalized_mass_fractions',\n",
       " 'set_unnormalized_mole_fractions',\n",
       " 'set_viscosity_polynomial',\n",
       " 'source',\n",
       " 'species',\n",
       " 'species_index',\n",
       " 'species_name',\n",
       " 'species_names',\n",
       " 'species_viscosities',\n",
       " 'standard_concentration_units',\n",
       " 'standard_cp_R',\n",
       " 'standard_enthalpies_RT',\n",
       " 'standard_entropies_R',\n",
       " 'standard_gibbs_RT',\n",
       " 'standard_int_energies_RT',\n",
       " 'state',\n",
       " 'state_size',\n",
       " 'stoich_air_fuel_ratio',\n",
       " 'thermal_conductivity',\n",
       " 'thermal_diff_coeffs',\n",
       " 'thermal_expansion_coeff',\n",
       " 'thermo_model',\n",
       " 'third_body_concentrations',\n",
       " 'transport_model',\n",
       " 'u',\n",
       " 'update_user_data',\n",
       " 'update_user_header',\n",
       " 'v',\n",
       " 'viscosity',\n",
       " 'volume_mass',\n",
       " 'volume_mole',\n",
       " 'write_yaml']"
      ]
     },
     "execution_count": 15,
     "metadata": {},
     "output_type": "execute_result"
    }
   ],
   "source": [
    "dir(g)"
   ]
  },
  {
   "cell_type": "code",
   "execution_count": 17,
   "id": "7bd3111c",
   "metadata": {},
   "outputs": [
    {
     "data": {
      "text/plain": [
       "1.4007655037855316"
      ]
     },
     "execution_count": 17,
     "metadata": {},
     "output_type": "execute_result"
    }
   ],
   "source": [
    "g.cp / g.cv"
   ]
  },
  {
   "cell_type": "code",
   "execution_count": 24,
   "id": "3f480a83",
   "metadata": {},
   "outputs": [
    {
     "data": {
      "text/plain": [
       "0.026250712996857575"
      ]
     },
     "execution_count": 24,
     "metadata": {},
     "output_type": "execute_result"
    }
   ],
   "source": [
    "g.thermal_conductivity"
   ]
  },
  {
   "cell_type": "code",
   "execution_count": 36,
   "id": "f4836ac9",
   "metadata": {},
   "outputs": [
    {
     "data": {
      "application/vnd.jupyter.widget-view+json": {
       "model_id": "0008cb4131ed41558768ff30b90f8e58",
       "version_major": 2,
       "version_minor": 0
      },
      "text/html": [
       "\n",
       "            <div style=\"display: inline-block;\">\n",
       "                <div class=\"jupyter-widgets widget-label\" style=\"text-align: center;\">\n",
       "                    Figure\n",
       "                </div>\n",
       "                <img src='data:image/png;base64,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' width=640.0/>\n",
       "            </div>\n",
       "        "
      ],
      "text/plain": [
       "Canvas(toolbar=Toolbar(toolitems=[('Home', 'Reset original view', 'home', 'home'), ('Back', 'Back to previous …"
      ]
     },
     "metadata": {},
     "output_type": "display_data"
    }
   ],
   "source": [
    "T = np.linspace(1, 2000)\n",
    "P = np.linspace(1, ct.one_atm, 5)\n",
    "g = ct.Solution('gri30.yaml')\n",
    "g.X = {\n",
    "    \"N2\": 0.78084,\n",
    "    \"O2\": 0.20946,\n",
    "    \"Ar\": 0.009340,\n",
    "    \"CO2\": 0.000416,\n",
    "    \"CH4\": 0.00000187\n",
    "}\n",
    "f = plt.figure()\n",
    "ax1 = f.add_subplot(2, 1, 1)\n",
    "ax2 = f.add_subplot(2, 1, 2)\n",
    "for p in P:\n",
    "    mu = []\n",
    "    k = []\n",
    "    for t in T:\n",
    "        g.TP = t, p\n",
    "        g.equilibrate('TP')\n",
    "        mu.append(g.viscosity)\n",
    "        k.append(g.thermal_conductivity)\n",
    "    ax1.plot(T, mu, label=\"p = {} atm\".format(p))\n",
    "    ax2.plot(T, k, label=\"p = {} atm\".format(p))\n",
    "ax1.legend()\n",
    "ax2.legend()\n",
    "plt.show()\n",
    "        \n",
    "    "
   ]
  },
  {
   "cell_type": "code",
   "execution_count": 37,
   "id": "e5c8050b",
   "metadata": {},
   "outputs": [
    {
     "name": "stdout",
     "output_type": "stream",
     "text": [
      "Help on built-in function equilibrate:\n",
      "\n",
      "equilibrate(...) method of cantera.composite.Solution instance\n",
      "    ThermoPhase.equilibrate(self, XY, solver=u'auto', double rtol=1e-9, int max_steps=1000, int max_iter=100, int estimate_equil=0, int log_level=0)\n",
      "    \n",
      "    Set to a state of chemical equilibrium holding property pair\n",
      "    *XY* constant.\n",
      "    \n",
      "    :param XY:\n",
      "        A two-letter string, which must be one of the set::\n",
      "    \n",
      "            ['TP','TV','HP','SP','SV','UV']\n",
      "    \n",
      "    :param solver:\n",
      "        Specifies the equilibrium solver to use. May be one of the following:\n",
      "    \n",
      "        * ``'element_potential'`` - a fast solver using the element potential\n",
      "          method\n",
      "        * ``'gibbs'`` - a slower but more robust Gibbs minimization solver\n",
      "        * ``'vcs'`` - the VCS non-ideal equilibrium solver\n",
      "        * ``'auto'`` - The element potential solver will be tried first, then\n",
      "          if it fails the Gibbs solver will be tried.\n",
      "    :param rtol:\n",
      "        The relative error tolerance.\n",
      "    :param max_steps:\n",
      "        The maximum number of steps in composition to take to find a converged\n",
      "        solution.\n",
      "    :param max_iter:\n",
      "        For the Gibbs minimization solver, this specifies the number of\n",
      "        outer iterations on T or P when some property pair other\n",
      "        than TP is specified.\n",
      "    :param estimate_equil:\n",
      "        Integer indicating whether the solver should estimate its own\n",
      "        initial condition. If 0, the initial mole fraction vector in the\n",
      "        `ThermoPhase` object is used as the initial condition. If 1, the\n",
      "        initial mole fraction vector is used if the element abundances are\n",
      "        satisfied. If -1, the initial mole fraction vector is thrown out,\n",
      "        and an estimate is formulated.\n",
      "    :param log_level:\n",
      "        Set to a value greater than 0 to write diagnostic output.\n",
      "\n"
     ]
    }
   ],
   "source": [
    "help(g.equilibrate)"
   ]
  },
  {
   "cell_type": "code",
   "execution_count": 38,
   "id": "5e978540",
   "metadata": {},
   "outputs": [
    {
     "data": {
      "text/plain": [
       "'2.6.0a4'"
      ]
     },
     "execution_count": 38,
     "metadata": {},
     "output_type": "execute_result"
    }
   ],
   "source": [
    "ct.__version__"
   ]
  },
  {
   "cell_type": "code",
   "execution_count": null,
   "id": "eb8c133e",
   "metadata": {},
   "outputs": [],
   "source": []
  }
 ],
 "metadata": {
  "kernelspec": {
   "display_name": "Python 3 (ipykernel)",
   "language": "python",
   "name": "python3"
  },
  "language_info": {
   "codemirror_mode": {
    "name": "ipython",
    "version": 3
   },
   "file_extension": ".py",
   "mimetype": "text/x-python",
   "name": "python",
   "nbconvert_exporter": "python",
   "pygments_lexer": "ipython3",
   "version": "3.9.7"
  }
 },
 "nbformat": 4,
 "nbformat_minor": 5
}
