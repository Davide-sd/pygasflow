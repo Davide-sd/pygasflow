{
 "cells": [
  {
   "cell_type": "code",
   "execution_count": 1,
   "id": "4304b825",
   "metadata": {},
   "outputs": [],
   "source": [
    "%matplotlib widget\n",
    "import pandas as pd\n",
    "import matplotlib.pyplot as plt"
   ]
  },
  {
   "cell_type": "code",
   "execution_count": 2,
   "id": "83d6c73f",
   "metadata": {},
   "outputs": [
    {
     "data": {
      "text/html": [
       "<div>\n",
       "<style scoped>\n",
       "    .dataframe tbody tr th:only-of-type {\n",
       "        vertical-align: middle;\n",
       "    }\n",
       "\n",
       "    .dataframe tbody tr th {\n",
       "        vertical-align: top;\n",
       "    }\n",
       "\n",
       "    .dataframe thead th {\n",
       "        text-align: right;\n",
       "    }\n",
       "</style>\n",
       "<table border=\"1\" class=\"dataframe\">\n",
       "  <thead>\n",
       "    <tr style=\"text-align: right;\">\n",
       "      <th></th>\n",
       "      <th>kT_eps</th>\n",
       "      <th>visc_thermal_cond</th>\n",
       "      <th>diffusivity</th>\n",
       "    </tr>\n",
       "  </thead>\n",
       "  <tbody>\n",
       "    <tr>\n",
       "      <th>0</th>\n",
       "      <td>0.30</td>\n",
       "      <td>2.8400</td>\n",
       "      <td>2.6490</td>\n",
       "    </tr>\n",
       "    <tr>\n",
       "      <th>1</th>\n",
       "      <td>0.35</td>\n",
       "      <td>2.6760</td>\n",
       "      <td>2.4680</td>\n",
       "    </tr>\n",
       "    <tr>\n",
       "      <th>2</th>\n",
       "      <td>0.40</td>\n",
       "      <td>2.5310</td>\n",
       "      <td>2.3140</td>\n",
       "    </tr>\n",
       "    <tr>\n",
       "      <th>3</th>\n",
       "      <td>0.45</td>\n",
       "      <td>2.4010</td>\n",
       "      <td>2.1820</td>\n",
       "    </tr>\n",
       "    <tr>\n",
       "      <th>4</th>\n",
       "      <td>0.50</td>\n",
       "      <td>2.2840</td>\n",
       "      <td>2.0660</td>\n",
       "    </tr>\n",
       "    <tr>\n",
       "      <th>...</th>\n",
       "      <td>...</td>\n",
       "      <td>...</td>\n",
       "      <td>...</td>\n",
       "    </tr>\n",
       "    <tr>\n",
       "      <th>77</th>\n",
       "      <td>35.00</td>\n",
       "      <td>0.6854</td>\n",
       "      <td>0.6088</td>\n",
       "    </tr>\n",
       "    <tr>\n",
       "      <th>78</th>\n",
       "      <td>40.00</td>\n",
       "      <td>0.6723</td>\n",
       "      <td>0.5964</td>\n",
       "    </tr>\n",
       "    <tr>\n",
       "      <th>79</th>\n",
       "      <td>50.00</td>\n",
       "      <td>0.6510</td>\n",
       "      <td>0.5763</td>\n",
       "    </tr>\n",
       "    <tr>\n",
       "      <th>80</th>\n",
       "      <td>75.00</td>\n",
       "      <td>0.6140</td>\n",
       "      <td>0.5415</td>\n",
       "    </tr>\n",
       "    <tr>\n",
       "      <th>81</th>\n",
       "      <td>100.00</td>\n",
       "      <td>0.5887</td>\n",
       "      <td>0.5180</td>\n",
       "    </tr>\n",
       "  </tbody>\n",
       "</table>\n",
       "<p>82 rows × 3 columns</p>\n",
       "</div>"
      ],
      "text/plain": [
       "    kT_eps  visc_thermal_cond  diffusivity\n",
       "0     0.30             2.8400       2.6490\n",
       "1     0.35             2.6760       2.4680\n",
       "2     0.40             2.5310       2.3140\n",
       "3     0.45             2.4010       2.1820\n",
       "4     0.50             2.2840       2.0660\n",
       "..     ...                ...          ...\n",
       "77   35.00             0.6854       0.6088\n",
       "78   40.00             0.6723       0.5964\n",
       "79   50.00             0.6510       0.5763\n",
       "80   75.00             0.6140       0.5415\n",
       "81  100.00             0.5887       0.5180\n",
       "\n",
       "[82 rows x 3 columns]"
      ]
     },
     "execution_count": 2,
     "metadata": {},
     "output_type": "execute_result"
    }
   ],
   "source": [
    "df = pd.read_csv(\"Table-E2.csv\")\n",
    "df"
   ]
  },
  {
   "cell_type": "code",
   "execution_count": 4,
   "id": "1054b036",
   "metadata": {},
   "outputs": [
    {
     "data": {
      "application/vnd.jupyter.widget-view+json": {
       "model_id": "888672edbccf465dbd7287882c84ef43",
       "version_major": 2,
       "version_minor": 0
      },
      "text/html": [
       "\n",
       "            <div style=\"display: inline-block;\">\n",
       "                <div class=\"jupyter-widgets widget-label\" style=\"text-align: center;\">\n",
       "                    Figure\n",
       "                </div>\n",
       "                <img src='data:image/png;base64,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' width=640.0/>\n",
       "            </div>\n",
       "        "
      ],
      "text/plain": [
       "Canvas(toolbar=Toolbar(toolitems=[('Home', 'Reset original view', 'home', 'home'), ('Back', 'Back to previous …"
      ]
     },
     "metadata": {},
     "output_type": "display_data"
    }
   ],
   "source": [
    "plt.figure()\n",
    "plt.plot(df[\"kT_eps\"], df[\"visc_thermal_cond\"], label=\"one\")\n",
    "plt.plot(df[\"kT_eps\"], df[\"diffusivity\"], label=\"two\")\n",
    "plt.xlim([0, 30])\n",
    "plt.ylim([0, 3])\n",
    "plt.legend()\n",
    "plt.show()"
   ]
  },
  {
   "cell_type": "code",
   "execution_count": 2,
   "id": "64dd8973",
   "metadata": {},
   "outputs": [
    {
     "data": {
      "text/html": [
       "<div>\n",
       "<style scoped>\n",
       "    .dataframe tbody tr th:only-of-type {\n",
       "        vertical-align: middle;\n",
       "    }\n",
       "\n",
       "    .dataframe tbody tr th {\n",
       "        vertical-align: top;\n",
       "    }\n",
       "\n",
       "    .dataframe thead th {\n",
       "        text-align: right;\n",
       "    }\n",
       "</style>\n",
       "<table border=\"1\" class=\"dataframe\">\n",
       "  <thead>\n",
       "    <tr style=\"text-align: right;\">\n",
       "      <th></th>\n",
       "      <th>Gas</th>\n",
       "      <th>M</th>\n",
       "      <th>R</th>\n",
       "      <th>sigma</th>\n",
       "      <th>eps_kappa</th>\n",
       "    </tr>\n",
       "  </thead>\n",
       "  <tbody>\n",
       "    <tr>\n",
       "      <th>0</th>\n",
       "      <td>air</td>\n",
       "      <td>28.9644</td>\n",
       "      <td>287.06</td>\n",
       "      <td>3.620000e-10</td>\n",
       "      <td>97.0</td>\n",
       "    </tr>\n",
       "    <tr>\n",
       "      <th>1</th>\n",
       "      <td>N2</td>\n",
       "      <td>28.0200</td>\n",
       "      <td>296.73</td>\n",
       "      <td>3.670000e-10</td>\n",
       "      <td>99.8</td>\n",
       "    </tr>\n",
       "    <tr>\n",
       "      <th>2</th>\n",
       "      <td>O2</td>\n",
       "      <td>32.0000</td>\n",
       "      <td>259.83</td>\n",
       "      <td>3.430000e-10</td>\n",
       "      <td>113.0</td>\n",
       "    </tr>\n",
       "    <tr>\n",
       "      <th>3</th>\n",
       "      <td>NO</td>\n",
       "      <td>30.0100</td>\n",
       "      <td>277.06</td>\n",
       "      <td>3.470000e-10</td>\n",
       "      <td>119.0</td>\n",
       "    </tr>\n",
       "    <tr>\n",
       "      <th>4</th>\n",
       "      <td>N2</td>\n",
       "      <td>14.0100</td>\n",
       "      <td>593.47</td>\n",
       "      <td>2.940000e-10</td>\n",
       "      <td>66.5</td>\n",
       "    </tr>\n",
       "    <tr>\n",
       "      <th>5</th>\n",
       "      <td>O2</td>\n",
       "      <td>16.0000</td>\n",
       "      <td>519.65</td>\n",
       "      <td>2.330000e-10</td>\n",
       "      <td>210.0</td>\n",
       "    </tr>\n",
       "    <tr>\n",
       "      <th>6</th>\n",
       "      <td>Ar</td>\n",
       "      <td>39.9480</td>\n",
       "      <td>208.13</td>\n",
       "      <td>3.430000e-10</td>\n",
       "      <td>122.4</td>\n",
       "    </tr>\n",
       "    <tr>\n",
       "      <th>7</th>\n",
       "      <td>He</td>\n",
       "      <td>4.0030</td>\n",
       "      <td>2077.06</td>\n",
       "      <td>2.580000e-10</td>\n",
       "      <td>10.2</td>\n",
       "    </tr>\n",
       "  </tbody>\n",
       "</table>\n",
       "</div>"
      ],
      "text/plain": [
       "   Gas        M        R         sigma  eps_kappa\n",
       "0  air  28.9644   287.06  3.620000e-10       97.0\n",
       "1   N2  28.0200   296.73  3.670000e-10       99.8\n",
       "2   O2  32.0000   259.83  3.430000e-10      113.0\n",
       "3   NO  30.0100   277.06  3.470000e-10      119.0\n",
       "4   N2  14.0100   593.47  2.940000e-10       66.5\n",
       "5   O2  16.0000   519.65  2.330000e-10      210.0\n",
       "6   Ar  39.9480   208.13  3.430000e-10      122.4\n",
       "7   He   4.0030  2077.06  2.580000e-10       10.2"
      ]
     },
     "execution_count": 2,
     "metadata": {},
     "output_type": "execute_result"
    }
   ],
   "source": [
    "df = pd.read_csv(\"Table-13_1.csv\")\n",
    "df"
   ]
  },
  {
   "cell_type": "code",
   "execution_count": 11,
   "id": "e9447529",
   "metadata": {},
   "outputs": [
    {
     "data": {
      "text/plain": [
       "3.62e-10"
      ]
     },
     "execution_count": 11,
     "metadata": {},
     "output_type": "execute_result"
    }
   ],
   "source": [
    "df[df[\"Gas\"] == \"air\"][\"sigma\"].values[0]"
   ]
  },
  {
   "cell_type": "code",
   "execution_count": 16,
   "id": "4cd83688",
   "metadata": {},
   "outputs": [
    {
     "data": {
      "text/plain": [
       "0.42191759581078414"
      ]
     },
     "execution_count": 16,
     "metadata": {},
     "output_type": "execute_result"
    }
   ],
   "source": [
    "import numpy as np\n",
    "T = 75\n",
    "sigma = 3.62\n",
    "Sigma_mu = 2.25\n",
    "eps_kappa = 97\n",
    "M = 28.96\n",
    "2.6693e-06 * np.sqrt(M * T) / (sigma**2 * Sigma_mu) * 1e05"
   ]
  },
  {
   "cell_type": "code",
   "execution_count": null,
   "id": "1459f191",
   "metadata": {},
   "outputs": [],
   "source": []
  }
 ],
 "metadata": {
  "kernelspec": {
   "display_name": "Python 3 (ipykernel)",
   "language": "python",
   "name": "python3"
  },
  "language_info": {
   "codemirror_mode": {
    "name": "ipython",
    "version": 3
   },
   "file_extension": ".py",
   "mimetype": "text/x-python",
   "name": "python",
   "nbconvert_exporter": "python",
   "pygments_lexer": "ipython3",
   "version": "3.9.7"
  }
 },
 "nbformat": 4,
 "nbformat_minor": 5
}
